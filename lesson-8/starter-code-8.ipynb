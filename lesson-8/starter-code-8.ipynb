{
 "cells": [
  {
   "cell_type": "markdown",
   "metadata": {},
   "source": [
    "### Classfication\n",
    "\n",
    "+ Today we'll be working with the Iris dataset\n",
    "+ First we'll explore\n",
    "+ Then we'll build a terrible classifer\n",
    "+ Then we'll build a KNN classifer!"
   ]
  },
  {
   "cell_type": "code",
   "execution_count": 63,
   "metadata": {
    "collapsed": false
   },
   "outputs": [
    {
     "data": {
      "text/html": [
       "<div>\n",
       "<table border=\"1\" class=\"dataframe\">\n",
       "  <thead>\n",
       "    <tr style=\"text-align: right;\">\n",
       "      <th></th>\n",
       "      <th>sepal length (cm)</th>\n",
       "      <th>sepal width (cm)</th>\n",
       "      <th>petal length (cm)</th>\n",
       "      <th>petal width (cm)</th>\n",
       "      <th>target</th>\n",
       "    </tr>\n",
       "  </thead>\n",
       "  <tbody>\n",
       "    <tr>\n",
       "      <th>0</th>\n",
       "      <td>5.1</td>\n",
       "      <td>3.5</td>\n",
       "      <td>1.4</td>\n",
       "      <td>0.2</td>\n",
       "      <td>0</td>\n",
       "    </tr>\n",
       "    <tr>\n",
       "      <th>1</th>\n",
       "      <td>4.9</td>\n",
       "      <td>3.0</td>\n",
       "      <td>1.4</td>\n",
       "      <td>0.2</td>\n",
       "      <td>0</td>\n",
       "    </tr>\n",
       "    <tr>\n",
       "      <th>2</th>\n",
       "      <td>4.7</td>\n",
       "      <td>3.2</td>\n",
       "      <td>1.3</td>\n",
       "      <td>0.2</td>\n",
       "      <td>0</td>\n",
       "    </tr>\n",
       "    <tr>\n",
       "      <th>3</th>\n",
       "      <td>4.6</td>\n",
       "      <td>3.1</td>\n",
       "      <td>1.5</td>\n",
       "      <td>0.2</td>\n",
       "      <td>0</td>\n",
       "    </tr>\n",
       "    <tr>\n",
       "      <th>4</th>\n",
       "      <td>5.0</td>\n",
       "      <td>3.6</td>\n",
       "      <td>1.4</td>\n",
       "      <td>0.2</td>\n",
       "      <td>0</td>\n",
       "    </tr>\n",
       "  </tbody>\n",
       "</table>\n",
       "</div>"
      ],
      "text/plain": [
       "   sepal length (cm)  sepal width (cm)  petal length (cm)  petal width (cm)  \\\n",
       "0                5.1               3.5                1.4               0.2   \n",
       "1                4.9               3.0                1.4               0.2   \n",
       "2                4.7               3.2                1.3               0.2   \n",
       "3                4.6               3.1                1.5               0.2   \n",
       "4                5.0               3.6                1.4               0.2   \n",
       "\n",
       "   target  \n",
       "0       0  \n",
       "1       0  \n",
       "2       0  \n",
       "3       0  \n",
       "4       0  "
      ]
     },
     "execution_count": 63,
     "metadata": {},
     "output_type": "execute_result"
    }
   ],
   "source": [
    "from sklearn import datasets, neighbors, metrics\n",
    "import pandas as pd\n",
    "import seaborn as sns\n",
    "\n",
    "%matplotlib inline\n",
    "\n",
    "iris = datasets.load_iris()\n",
    "irisdf = pd.DataFrame(iris.data, columns=iris.feature_names)\n",
    "irisdf['target'] = iris.target\n",
    "\n",
    "irisdf.head()"
   ]
  },
  {
   "cell_type": "code",
   "execution_count": 12,
   "metadata": {
    "collapsed": false
   },
   "outputs": [
    {
     "name": "stdout",
     "output_type": "stream",
     "text": [
      "[0 1 2]\n",
      "2    50\n",
      "1    50\n",
      "0    50\n",
      "Name: target, dtype: int64\n"
     ]
    }
   ],
   "source": [
    "print irisdf['target'].unique()\n",
    "print irisdf.target.value_counts()"
   ]
  },
  {
   "cell_type": "code",
   "execution_count": 13,
   "metadata": {
    "collapsed": false,
    "scrolled": true
   },
   "outputs": [
    {
     "name": "stdout",
     "output_type": "stream",
     "text": [
      "       sepal length (cm)  sepal width (cm)  petal length (cm)  \\\n",
      "count         150.000000        150.000000         150.000000   \n",
      "mean            5.843333          3.054000           3.758667   \n",
      "std             0.828066          0.433594           1.764420   \n",
      "min             4.300000          2.000000           1.000000   \n",
      "25%             5.100000          2.800000           1.600000   \n",
      "50%             5.800000          3.000000           4.350000   \n",
      "75%             6.400000          3.300000           5.100000   \n",
      "max             7.900000          4.400000           6.900000   \n",
      "\n",
      "       petal width (cm)      target  \n",
      "count        150.000000  150.000000  \n",
      "mean           1.198667    1.000000  \n",
      "std            0.763161    0.819232  \n",
      "min            0.100000    0.000000  \n",
      "25%            0.300000    0.000000  \n",
      "50%            1.300000    1.000000  \n",
      "75%            1.800000    2.000000  \n",
      "max            2.500000    2.000000  \n"
     ]
    }
   ],
   "source": [
    "# print irisdf.plot('petal length (cm)', 'petal width (cm)', kind='scatter', c=irisdf.ctarget)\n",
    "print irisdf.describe()"
   ]
  },
  {
   "cell_type": "code",
   "execution_count": 16,
   "metadata": {
    "collapsed": true
   },
   "outputs": [],
   "source": [
    "# add ctarget for colors to plot!\n",
    "cmap = {'0': 'r', '1': 'g', '2': 'b' }\n",
    "\n",
    "irisdf['ctarget'] = irisdf.target.apply(lambda x: cmap[str(x)])"
   ]
  },
  {
   "cell_type": "code",
   "execution_count": 17,
   "metadata": {
    "collapsed": false,
    "scrolled": true
   },
   "outputs": [
    {
     "data": {
      "text/html": [
       "<div>\n",
       "<table border=\"1\" class=\"dataframe\">\n",
       "  <thead>\n",
       "    <tr style=\"text-align: right;\">\n",
       "      <th></th>\n",
       "      <th>sepal length (cm)</th>\n",
       "      <th>sepal width (cm)</th>\n",
       "      <th>petal length (cm)</th>\n",
       "      <th>petal width (cm)</th>\n",
       "      <th>target</th>\n",
       "      <th>ctarget</th>\n",
       "    </tr>\n",
       "  </thead>\n",
       "  <tbody>\n",
       "    <tr>\n",
       "      <th>0</th>\n",
       "      <td>5.1</td>\n",
       "      <td>3.5</td>\n",
       "      <td>1.4</td>\n",
       "      <td>0.2</td>\n",
       "      <td>0</td>\n",
       "      <td>r</td>\n",
       "    </tr>\n",
       "    <tr>\n",
       "      <th>1</th>\n",
       "      <td>4.9</td>\n",
       "      <td>3.0</td>\n",
       "      <td>1.4</td>\n",
       "      <td>0.2</td>\n",
       "      <td>0</td>\n",
       "      <td>r</td>\n",
       "    </tr>\n",
       "    <tr>\n",
       "      <th>2</th>\n",
       "      <td>4.7</td>\n",
       "      <td>3.2</td>\n",
       "      <td>1.3</td>\n",
       "      <td>0.2</td>\n",
       "      <td>0</td>\n",
       "      <td>r</td>\n",
       "    </tr>\n",
       "    <tr>\n",
       "      <th>3</th>\n",
       "      <td>4.6</td>\n",
       "      <td>3.1</td>\n",
       "      <td>1.5</td>\n",
       "      <td>0.2</td>\n",
       "      <td>0</td>\n",
       "      <td>r</td>\n",
       "    </tr>\n",
       "    <tr>\n",
       "      <th>4</th>\n",
       "      <td>5.0</td>\n",
       "      <td>3.6</td>\n",
       "      <td>1.4</td>\n",
       "      <td>0.2</td>\n",
       "      <td>0</td>\n",
       "      <td>r</td>\n",
       "    </tr>\n",
       "  </tbody>\n",
       "</table>\n",
       "</div>"
      ],
      "text/plain": [
       "   sepal length (cm)  sepal width (cm)  petal length (cm)  petal width (cm)  \\\n",
       "0                5.1               3.5                1.4               0.2   \n",
       "1                4.9               3.0                1.4               0.2   \n",
       "2                4.7               3.2                1.3               0.2   \n",
       "3                4.6               3.1                1.5               0.2   \n",
       "4                5.0               3.6                1.4               0.2   \n",
       "\n",
       "   target ctarget  \n",
       "0       0       r  \n",
       "1       0       r  \n",
       "2       0       r  \n",
       "3       0       r  \n",
       "4       0       r  "
      ]
     },
     "execution_count": 17,
     "metadata": {},
     "output_type": "execute_result"
    }
   ],
   "source": [
    "irisdf.head()"
   ]
  },
  {
   "cell_type": "code",
   "execution_count": 9,
   "metadata": {
    "collapsed": false
   },
   "outputs": [
    {
     "data": {
      "text/plain": [
       "<matplotlib.axes._subplots.AxesSubplot at 0x119611350>"
      ]
     },
     "execution_count": 9,
     "metadata": {},
     "output_type": "execute_result"
    },
    {
     "data": {
      "image/png": "[encoded data removed]",
      "text/plain": [
       "<matplotlib.figure.Figure at 0x1196f6350>"
      ]
     },
     "metadata": {},
     "output_type": "display_data"
    }
   ],
   "source": [
    "irisdf.plot('petal length (cm)', 'petal width (cm)', kind='scatter', c=irisdf.ctarget)"
   ]
  },
  {
   "cell_type": "markdown",
   "metadata": {},
   "source": [
    "### Let's make a dumb classifier\n",
    "\n",
    "+ This is not a good classifier\n",
    "+ It's to illustrate the idea of classifiers\n",
    "+ When will we make a good one? Later, I promise\n",
    "\n",
    "+ For now, let's investigate using the quantile function"
   ]
  },
  {
   "cell_type": "code",
   "execution_count": 20,
   "metadata": {
    "collapsed": false,
    "scrolled": true
   },
   "outputs": [
    {
     "name": "stdout",
     "output_type": "stream",
     "text": [
      "6.9\n",
      "6.9\n",
      "4.834\n",
      "2.087\n"
     ]
    }
   ],
   "source": [
    "print irisdf['petal length (cm)'].quantile(1.00)  # upper cutoff\n",
    "print irisdf['petal length (cm)'].max()\n",
    "print irisdf['petal length (cm)'].quantile(0.66)  # upper cutoff \n",
    "print irisdf['petal length (cm)'].quantile(0.33)  # upper cutoff "
   ]
  },
  {
   "cell_type": "markdown",
   "metadata": {},
   "source": [
    "Note that lower tertile for petal length is near the petal length -edge of the red grouping."
   ]
  },
  {
   "cell_type": "code",
   "execution_count": 21,
   "metadata": {
    "collapsed": true
   },
   "outputs": [],
   "source": [
    "def my_classifier(row):\n",
    "    if row['petal length (cm)'] < 2:\n",
    "        return 0\n",
    "    else:\n",
    "        return 1\n",
    "    \n",
    "predictions = irisdf.apply(my_classifier, axis=1)"
   ]
  },
  {
   "cell_type": "code",
   "execution_count": 23,
   "metadata": {
    "collapsed": true
   },
   "outputs": [],
   "source": []
  },
  {
   "cell_type": "markdown",
   "metadata": {},
   "source": [
    "## So, how did we do?"
   ]
  },
  {
   "cell_type": "code",
   "execution_count": 22,
   "metadata": {
    "collapsed": false,
    "scrolled": true
   },
   "outputs": [
    {
     "name": "stdout",
     "output_type": "stream",
     "text": [
      "0.666666666667\n"
     ]
    }
   ],
   "source": [
    "irisdf['predictions'] = predictions\n",
    "\n",
    "print float(len(irisdf[irisdf.target == irisdf.predictions])) / len(irisdf)"
   ]
  },
  {
   "cell_type": "code",
   "execution_count": 27,
   "metadata": {
    "collapsed": false
   },
   "outputs": [
    {
     "name": "stdout",
     "output_type": "stream",
     "text": [
      "0.486666666667\n"
     ]
    }
   ],
   "source": [
    "# what if we hadn't gotten so lucky with quantile size?\n",
    "def my_classifier(row):\n",
    "    lower_quintile = irisdf['petal length (cm)'].quantile(.2)\n",
    "    if row['petal length (cm)'] < lower_quintile:\n",
    "        return 0\n",
    "    else:\n",
    "        return 1\n",
    "    \n",
    "predictions = irisdf.apply(my_classifier, axis=1)\n",
    "\n",
    "irisdf['predictions'] = predictions\n",
    "\n",
    "print float(len(irisdf[irisdf.target == irisdf.predictions])) / len(irisdf)"
   ]
  },
  {
   "cell_type": "markdown",
   "metadata": {},
   "source": [
    "### In Class Exercise \n",
    "\n",
    "+ Work on improving the classifier below.\n",
    "\n",
    "+ Could we add another cutoff to fix our mediocre classifier? \n",
    "\n",
    "+ What is missing below? "
   ]
  },
  {
   "cell_type": "code",
   "execution_count": 47,
   "metadata": {
    "collapsed": false,
    "scrolled": false
   },
   "outputs": [
    {
     "name": "stdout",
     "output_type": "stream",
     "text": [
      "1.5 4.3 5.1\n"
     ]
    },
    {
     "data": {
      "text/html": [
       "<div>\n",
       "<table border=\"1\" class=\"dataframe\">\n",
       "  <thead>\n",
       "    <tr style=\"text-align: right;\">\n",
       "      <th></th>\n",
       "      <th>sepal length (cm)</th>\n",
       "      <th>sepal width (cm)</th>\n",
       "      <th>petal length (cm)</th>\n",
       "      <th>petal width (cm)</th>\n",
       "      <th>target</th>\n",
       "      <th>ctarget</th>\n",
       "      <th>predictions</th>\n",
       "      <th>Quartile</th>\n",
       "    </tr>\n",
       "  </thead>\n",
       "  <tbody>\n",
       "    <tr>\n",
       "      <th>0</th>\n",
       "      <td>5.1</td>\n",
       "      <td>3.5</td>\n",
       "      <td>1.4</td>\n",
       "      <td>0.2</td>\n",
       "      <td>0</td>\n",
       "      <td>r</td>\n",
       "      <td>0</td>\n",
       "      <td>1.0</td>\n",
       "    </tr>\n",
       "    <tr>\n",
       "      <th>1</th>\n",
       "      <td>4.9</td>\n",
       "      <td>3.0</td>\n",
       "      <td>1.4</td>\n",
       "      <td>0.2</td>\n",
       "      <td>0</td>\n",
       "      <td>r</td>\n",
       "      <td>0</td>\n",
       "      <td>1.0</td>\n",
       "    </tr>\n",
       "    <tr>\n",
       "      <th>2</th>\n",
       "      <td>4.7</td>\n",
       "      <td>3.2</td>\n",
       "      <td>1.3</td>\n",
       "      <td>0.2</td>\n",
       "      <td>0</td>\n",
       "      <td>r</td>\n",
       "      <td>0</td>\n",
       "      <td>1.0</td>\n",
       "    </tr>\n",
       "    <tr>\n",
       "      <th>3</th>\n",
       "      <td>4.6</td>\n",
       "      <td>3.1</td>\n",
       "      <td>1.5</td>\n",
       "      <td>0.2</td>\n",
       "      <td>0</td>\n",
       "      <td>r</td>\n",
       "      <td>0</td>\n",
       "      <td>1.0</td>\n",
       "    </tr>\n",
       "    <tr>\n",
       "      <th>4</th>\n",
       "      <td>5.0</td>\n",
       "      <td>3.6</td>\n",
       "      <td>1.4</td>\n",
       "      <td>0.2</td>\n",
       "      <td>0</td>\n",
       "      <td>r</td>\n",
       "      <td>0</td>\n",
       "      <td>1.0</td>\n",
       "    </tr>\n",
       "  </tbody>\n",
       "</table>\n",
       "</div>"
      ],
      "text/plain": [
       "   sepal length (cm)  sepal width (cm)  petal length (cm)  petal width (cm)  \\\n",
       "0                5.1               3.5                1.4               0.2   \n",
       "1                4.9               3.0                1.4               0.2   \n",
       "2                4.7               3.2                1.3               0.2   \n",
       "3                4.6               3.1                1.5               0.2   \n",
       "4                5.0               3.6                1.4               0.2   \n",
       "\n",
       "   target ctarget  predictions  Quartile  \n",
       "0       0       r            0       1.0  \n",
       "1       0       r            0       1.0  \n",
       "2       0       r            0       1.0  \n",
       "3       0       r            0       1.0  \n",
       "4       0       r            0       1.0  "
      ]
     },
     "execution_count": 47,
     "metadata": {},
     "output_type": "execute_result"
    }
   ],
   "source": [
    "Q3 = irisdf['petal length (cm)'].quantile(0.75)  \n",
    "Q2 = irisdf['petal length (cm)'].quantile(0.5)\n",
    "Q1 = irisdf['petal length (cm)'].quantile(0.25)\n",
    "\n",
    "print Q1, Q2, Q3\n",
    "\n",
    "irisdf.loc['Quartile'] = 0\n",
    "\n",
    "irisdf.loc[irisdf['petal length (cm)'] > Q3, 'Quartile'] = 4\n",
    "irisdf.loc[irisdf['petal length (cm)'] <= Q3, 'Quartile'] = 3\n",
    "irisdf.loc[irisdf['petal length (cm)'] <= Q2, 'Quartile'] = 2\n",
    "irisdf.loc[irisdf['petal length (cm)'] <= Q1, 'Quartile'] = 1\n",
    "\n",
    "irisdf.head()\n"
   ]
  },
  {
   "cell_type": "code",
   "execution_count": 48,
   "metadata": {
    "collapsed": true
   },
   "outputs": [],
   "source": [
    "irisdf.loc[\"Quartile String\"] = \"0\"\n",
    "\n",
    "irisdf.loc[irisdf['petal length (cm)']>Q3, 'Quartile String'] = \"Q4\"\n",
    "irisdf.loc[(irisdf['petal length (cm)']>Q2)&(irisdf['petal length (cm)']<=Q3), 'Quartile String'] = \"Q3\"\n",
    "irisdf.loc[(irisdf['petal length (cm)']>Q1)&(irisdf['petal length (cm)']<=Q2), 'Quartile String'] = \"Q2\"\n",
    "irisdf.loc[irisdf['petal length (cm)']<=Q1, 'Quartile String'] = \"Q1\""
   ]
  },
  {
   "cell_type": "code",
   "execution_count": 49,
   "metadata": {
    "collapsed": false
   },
   "outputs": [
    {
     "data": {
      "text/html": [
       "<div>\n",
       "<table border=\"1\" class=\"dataframe\">\n",
       "  <thead>\n",
       "    <tr style=\"text-align: right;\">\n",
       "      <th></th>\n",
       "      <th>sepal length (cm)</th>\n",
       "      <th>sepal width (cm)</th>\n",
       "      <th>petal length (cm)</th>\n",
       "      <th>petal width (cm)</th>\n",
       "      <th>target</th>\n",
       "      <th>ctarget</th>\n",
       "      <th>predictions</th>\n",
       "      <th>Quartile</th>\n",
       "      <th>Quartile String</th>\n",
       "    </tr>\n",
       "  </thead>\n",
       "  <tbody>\n",
       "    <tr>\n",
       "      <th>0</th>\n",
       "      <td>5.1</td>\n",
       "      <td>3.5</td>\n",
       "      <td>1.4</td>\n",
       "      <td>0.2</td>\n",
       "      <td>0</td>\n",
       "      <td>r</td>\n",
       "      <td>0</td>\n",
       "      <td>1</td>\n",
       "      <td>Q1</td>\n",
       "    </tr>\n",
       "    <tr>\n",
       "      <th>1</th>\n",
       "      <td>4.9</td>\n",
       "      <td>3</td>\n",
       "      <td>1.4</td>\n",
       "      <td>0.2</td>\n",
       "      <td>0</td>\n",
       "      <td>r</td>\n",
       "      <td>0</td>\n",
       "      <td>1</td>\n",
       "      <td>Q1</td>\n",
       "    </tr>\n",
       "    <tr>\n",
       "      <th>2</th>\n",
       "      <td>4.7</td>\n",
       "      <td>3.2</td>\n",
       "      <td>1.3</td>\n",
       "      <td>0.2</td>\n",
       "      <td>0</td>\n",
       "      <td>r</td>\n",
       "      <td>0</td>\n",
       "      <td>1</td>\n",
       "      <td>Q1</td>\n",
       "    </tr>\n",
       "    <tr>\n",
       "      <th>3</th>\n",
       "      <td>4.6</td>\n",
       "      <td>3.1</td>\n",
       "      <td>1.5</td>\n",
       "      <td>0.2</td>\n",
       "      <td>0</td>\n",
       "      <td>r</td>\n",
       "      <td>0</td>\n",
       "      <td>1</td>\n",
       "      <td>Q1</td>\n",
       "    </tr>\n",
       "    <tr>\n",
       "      <th>4</th>\n",
       "      <td>5</td>\n",
       "      <td>3.6</td>\n",
       "      <td>1.4</td>\n",
       "      <td>0.2</td>\n",
       "      <td>0</td>\n",
       "      <td>r</td>\n",
       "      <td>0</td>\n",
       "      <td>1</td>\n",
       "      <td>Q1</td>\n",
       "    </tr>\n",
       "  </tbody>\n",
       "</table>\n",
       "</div>"
      ],
      "text/plain": [
       "  sepal length (cm) sepal width (cm) petal length (cm) petal width (cm)  \\\n",
       "0               5.1              3.5               1.4              0.2   \n",
       "1               4.9                3               1.4              0.2   \n",
       "2               4.7              3.2               1.3              0.2   \n",
       "3               4.6              3.1               1.5              0.2   \n",
       "4                 5              3.6               1.4              0.2   \n",
       "\n",
       "  target ctarget predictions Quartile Quartile String  \n",
       "0      0       r           0        1              Q1  \n",
       "1      0       r           0        1              Q1  \n",
       "2      0       r           0        1              Q1  \n",
       "3      0       r           0        1              Q1  \n",
       "4      0       r           0        1              Q1  "
      ]
     },
     "execution_count": 49,
     "metadata": {},
     "output_type": "execute_result"
    }
   ],
   "source": [
    "irisdf.head()"
   ]
  },
  {
   "cell_type": "code",
   "execution_count": 46,
   "metadata": {
    "collapsed": false
   },
   "outputs": [
    {
     "name": "stdout",
     "output_type": "stream",
     "text": [
      "0.940789473684\n"
     ]
    }
   ],
   "source": [
    "def my_classifier(row):\n",
    "    if row['petal length (cm)'] < irisdf['petal length (cm)'].quantile(0.33): \n",
    "        return 0\n",
    "    elif row['petal length (cm)'] < irisdf['petal length (cm)'].quantile(0.66):\n",
    "        return 1\n",
    "    else:\n",
    "        return 2\n",
    "\n",
    "predictions = irisdf.apply(my_classifier, axis=1)\n",
    "\n",
    "irisdf['predictions'] = predictions\n",
    "\n",
    "print float(len(irisdf[irisdf.target == irisdf.predictions])) / len(irisdf)"
   ]
  },
  {
   "cell_type": "markdown",
   "metadata": {},
   "source": [
    "### Using distance: KNN implementation"
   ]
  },
  {
   "cell_type": "code",
   "execution_count": 54,
   "metadata": {
    "collapsed": false
   },
   "outputs": [],
   "source": [
    "from sklearn import datasets, neighbors, metrics\n",
    "import pandas as pd\n",
    "\n",
    "iris = datasets.load_iris()\n"
   ]
  },
  {
   "cell_type": "code",
   "execution_count": 55,
   "metadata": {
    "collapsed": false
   },
   "outputs": [],
   "source": [
    "# iris.data is a numpy array"
   ]
  },
  {
   "cell_type": "code",
   "execution_count": 68,
   "metadata": {
    "collapsed": false
   },
   "outputs": [
    {
     "name": "stdout",
     "output_type": "stream",
     "text": [
      "0.96\n"
     ]
    }
   ],
   "source": [
    "\n",
    "# n_neighbors is our option in KNN. We'll tune this value to attempt to improve our prediction.\n",
    "knn = neighbors.KNeighborsClassifier(n_neighbors=5, weights='uniform')\n",
    "# using only petal data \n",
    "knn.fit(iris.data[:,2:], iris.target)\n",
    "\n",
    "print knn.score(iris.data[:,2:], iris.target)"
   ]
  },
  {
   "cell_type": "code",
   "execution_count": 70,
   "metadata": {
    "collapsed": false,
    "scrolled": true
   },
   "outputs": [
    {
     "name": "stdout",
     "output_type": "stream",
     "text": [
      "[[ 1.4  0.2]\n",
      " [ 1.4  0.2]\n",
      " [ 1.3  0.2]\n",
      " [ 1.5  0.2]\n",
      " [ 1.4  0.2]]\n"
     ]
    }
   ],
   "source": [
    "print iris.data[0:5, 2:]"
   ]
  },
  {
   "cell_type": "code",
   "execution_count": 71,
   "metadata": {
    "collapsed": false
   },
   "outputs": [
    {
     "name": "stdout",
     "output_type": "stream",
     "text": [
      "[[ 5.1  3.5  1.4  0.2]\n",
      " [ 4.9  3.   1.4  0.2]\n",
      " [ 4.7  3.2  1.3  0.2]\n",
      " [ 4.6  3.1  1.5  0.2]\n",
      " [ 5.   3.6  1.4  0.2]]\n"
     ]
    }
   ],
   "source": [
    "print iris.data[0:5]"
   ]
  },
  {
   "cell_type": "markdown",
   "metadata": {},
   "source": [
    "### But what does this score look like? \n",
    "\n",
    "+ Lets print out the raw outcome var vs predicted outcome"
   ]
  },
  {
   "cell_type": "code",
   "execution_count": 72,
   "metadata": {
    "collapsed": false,
    "scrolled": true
   },
   "outputs": [
    {
     "name": "stdout",
     "output_type": "stream",
     "text": [
      "predicted outcome [0 0 0 0 0 0 0 0 0 0 0 0 0 0 0 0 0 0 0 0 0 0 0 0 0 0 0 0 0 0 0 0 0 0 0 0 0\n",
      " 0 0 0 0 0 0 0 0 0 0 0 0 0 1 1 1 1 1 1 1 1 1 1 1 1 1 1 1 1 1 1 1 1 2 1 1 1\n",
      " 1 1 1 2 1 1 1 1 1 2 1 1 1 1 1 1 1 1 1 1 1 1 1 1 1 1 2 2 2 2 2 2 1 2 2 2 2\n",
      " 2 2 2 2 2 2 2 2 1 2 2 2 2 2 2 2 2 2 2 2 2 2 1 2 2 2 2 2 2 2 2 2 2 2 2 2 2\n",
      " 2 2]\n",
      "observed outcome [0 0 0 0 0 0 0 0 0 0 0 0 0 0 0 0 0 0 0 0 0 0 0 0 0 0 0 0 0 0 0 0 0 0 0 0 0\n",
      " 0 0 0 0 0 0 0 0 0 0 0 0 0 1 1 1 1 1 1 1 1 1 1 1 1 1 1 1 1 1 1 1 1 1 1 1 1\n",
      " 1 1 1 1 1 1 1 1 1 1 1 1 1 1 1 1 1 1 1 1 1 1 1 1 1 1 2 2 2 2 2 2 2 2 2 2 2\n",
      " 2 2 2 2 2 2 2 2 2 2 2 2 2 2 2 2 2 2 2 2 2 2 2 2 2 2 2 2 2 2 2 2 2 2 2 2 2\n",
      " 2 2]\n"
     ]
    }
   ],
   "source": [
    "print \"predicted outcome\", knn.predict(iris.data[:,2:])\n",
    "print \"observed outcome\", iris.target"
   ]
  },
  {
   "cell_type": "code",
   "execution_count": 73,
   "metadata": {
    "collapsed": false
   },
   "outputs": [
    {
     "data": {
      "text/plain": [
       "<matplotlib.collections.PathCollection at 0x11a3a1d10>"
      ]
     },
     "execution_count": 73,
     "metadata": {},
     "output_type": "execute_result"
    },
    {
     "data": {
      "image/png": "[encoded data removed]",
      "text/plain": [
       "<matplotlib.figure.Figure at 0x11a2b5110>"
      ]
     },
     "metadata": {},
     "output_type": "display_data"
    }
   ],
   "source": [
    "import matplotlib.pyplot as plt\n",
    "plt.scatter(knn.predict(iris.data[:,2:]), iris.target, alpha=0.1)"
   ]
  },
  {
   "cell_type": "markdown",
   "metadata": {},
   "source": [
    "## Do we see a change in performance when using the distance weight?"
   ]
  },
  {
   "cell_type": "code",
   "execution_count": 74,
   "metadata": {
    "collapsed": false
   },
   "outputs": [
    {
     "name": "stdout",
     "output_type": "stream",
     "text": [
      "0.993333333333\n"
     ]
    }
   ],
   "source": [
    "knn = neighbors.KNeighborsClassifier(n_neighbors=5, weights='distance') # add in the weights parameter here\n",
    "knn.fit(iris.data[:,2:], iris.target)\n",
    "#print knn.predict(iris.data[:,2:])\n",
    "#print iris.target\n",
    "\n",
    "print knn.score(iris.data[:,2:], iris.target)"
   ]
  },
  {
   "cell_type": "markdown",
   "metadata": {},
   "source": [
    "### Solution to solving K\n",
    "\n",
    "This is only one approach to the problem, but adding in the 'distance' parameter (instead of uniform) would only be additive. Note the code would need some editing to handle it properly if done in the grid search; alternatively, make the change directly in the estimator."
   ]
  },
  {
   "cell_type": "code",
   "execution_count": 88,
   "metadata": {
    "collapsed": false
   },
   "outputs": [
    {
     "data": {
      "text/plain": [
       "[0, 1, 2, 3, 4, 5, 6, 7, 8, 9]"
      ]
     },
     "execution_count": 88,
     "metadata": {},
     "output_type": "execute_result"
    }
   ],
   "source": [
    "range(0,10)"
   ]
  },
  {
   "cell_type": "code",
   "execution_count": 117,
   "metadata": {
    "collapsed": false,
    "scrolled": true
   },
   "outputs": [
    {
     "data": {
      "text/plain": [
       "[mean: 0.92667, std: 0.06799, params: {'n_neighbors': 1, 'weights': 'distance'},\n",
       " mean: 0.92667, std: 0.06799, params: {'n_neighbors': 1, 'weights': 'uniform'},\n",
       " mean: 0.92667, std: 0.06799, params: {'n_neighbors': 2, 'weights': 'distance'},\n",
       " mean: 0.90667, std: 0.09752, params: {'n_neighbors': 2, 'weights': 'uniform'},\n",
       " mean: 0.90667, std: 0.09286, params: {'n_neighbors': 3, 'weights': 'distance'},\n",
       " mean: 0.90667, std: 0.09286, params: {'n_neighbors': 3, 'weights': 'uniform'},\n",
       " mean: 0.90667, std: 0.09286, params: {'n_neighbors': 4, 'weights': 'distance'},\n",
       " mean: 0.90667, std: 0.09286, params: {'n_neighbors': 4, 'weights': 'uniform'},\n",
       " mean: 0.91333, std: 0.08327, params: {'n_neighbors': 5, 'weights': 'distance'},\n",
       " mean: 0.91333, std: 0.08327, params: {'n_neighbors': 5, 'weights': 'uniform'},\n",
       " mean: 0.91333, std: 0.08327, params: {'n_neighbors': 6, 'weights': 'distance'},\n",
       " mean: 0.90667, std: 0.09286, params: {'n_neighbors': 6, 'weights': 'uniform'},\n",
       " mean: 0.92667, std: 0.07717, params: {'n_neighbors': 7, 'weights': 'distance'},\n",
       " mean: 0.92000, std: 0.08589, params: {'n_neighbors': 7, 'weights': 'uniform'},\n",
       " mean: 0.92000, std: 0.07483, params: {'n_neighbors': 8, 'weights': 'distance'},\n",
       " mean: 0.91333, std: 0.08844, params: {'n_neighbors': 8, 'weights': 'uniform'},\n",
       " mean: 0.92000, std: 0.09092, params: {'n_neighbors': 9, 'weights': 'distance'},\n",
       " mean: 0.92000, std: 0.09092, params: {'n_neighbors': 9, 'weights': 'uniform'},\n",
       " mean: 0.92667, std: 0.08000, params: {'n_neighbors': 10, 'weights': 'distance'},\n",
       " mean: 0.92000, std: 0.09092, params: {'n_neighbors': 10, 'weights': 'uniform'},\n",
       " mean: 0.92000, std: 0.09092, params: {'n_neighbors': 11, 'weights': 'distance'},\n",
       " mean: 0.91333, std: 0.08589, params: {'n_neighbors': 11, 'weights': 'uniform'},\n",
       " mean: 0.91333, std: 0.08844, params: {'n_neighbors': 12, 'weights': 'distance'},\n",
       " mean: 0.89333, std: 0.10625, params: {'n_neighbors': 12, 'weights': 'uniform'},\n",
       " mean: 0.92000, std: 0.07775, params: {'n_neighbors': 13, 'weights': 'distance'},\n",
       " mean: 0.90667, std: 0.08273, params: {'n_neighbors': 13, 'weights': 'uniform'},\n",
       " mean: 0.92000, std: 0.07775, params: {'n_neighbors': 14, 'weights': 'distance'},\n",
       " mean: 0.90000, std: 0.09428, params: {'n_neighbors': 14, 'weights': 'uniform'},\n",
       " mean: 0.91333, std: 0.08844, params: {'n_neighbors': 15, 'weights': 'distance'},\n",
       " mean: 0.90000, std: 0.09428, params: {'n_neighbors': 15, 'weights': 'uniform'},\n",
       " mean: 0.91333, std: 0.08844, params: {'n_neighbors': 16, 'weights': 'distance'},\n",
       " mean: 0.88667, std: 0.11851, params: {'n_neighbors': 16, 'weights': 'uniform'},\n",
       " mean: 0.90667, std: 0.09978, params: {'n_neighbors': 17, 'weights': 'distance'},\n",
       " mean: 0.88000, std: 0.12754, params: {'n_neighbors': 17, 'weights': 'uniform'},\n",
       " mean: 0.90667, std: 0.09978, params: {'n_neighbors': 18, 'weights': 'distance'},\n",
       " mean: 0.86667, std: 0.12111, params: {'n_neighbors': 18, 'weights': 'uniform'},\n",
       " mean: 0.90667, std: 0.09978, params: {'n_neighbors': 19, 'weights': 'distance'},\n",
       " mean: 0.88667, std: 0.11662, params: {'n_neighbors': 19, 'weights': 'uniform'},\n",
       " mean: 0.90667, std: 0.09978, params: {'n_neighbors': 20, 'weights': 'distance'},\n",
       " mean: 0.86667, std: 0.13499, params: {'n_neighbors': 20, 'weights': 'uniform'},\n",
       " mean: 0.90667, std: 0.09978, params: {'n_neighbors': 21, 'weights': 'distance'},\n",
       " mean: 0.86667, std: 0.13499, params: {'n_neighbors': 21, 'weights': 'uniform'},\n",
       " mean: 0.90000, std: 0.10328, params: {'n_neighbors': 22, 'weights': 'distance'},\n",
       " mean: 0.86667, std: 0.13499, params: {'n_neighbors': 22, 'weights': 'uniform'},\n",
       " mean: 0.90000, std: 0.10328, params: {'n_neighbors': 23, 'weights': 'distance'},\n",
       " mean: 0.86667, std: 0.13499, params: {'n_neighbors': 23, 'weights': 'uniform'},\n",
       " mean: 0.90000, std: 0.10328, params: {'n_neighbors': 24, 'weights': 'distance'},\n",
       " mean: 0.84667, std: 0.17075, params: {'n_neighbors': 24, 'weights': 'uniform'},\n",
       " mean: 0.89333, std: 0.10832, params: {'n_neighbors': 25, 'weights': 'distance'},\n",
       " mean: 0.86000, std: 0.14667, params: {'n_neighbors': 25, 'weights': 'uniform'},\n",
       " mean: 0.88000, std: 0.10873, params: {'n_neighbors': 26, 'weights': 'distance'},\n",
       " mean: 0.84667, std: 0.17075, params: {'n_neighbors': 26, 'weights': 'uniform'},\n",
       " mean: 0.88667, std: 0.11851, params: {'n_neighbors': 27, 'weights': 'distance'},\n",
       " mean: 0.84667, std: 0.15434, params: {'n_neighbors': 27, 'weights': 'uniform'},\n",
       " mean: 0.87333, std: 0.11813, params: {'n_neighbors': 28, 'weights': 'distance'},\n",
       " mean: 0.82000, std: 0.18809, params: {'n_neighbors': 28, 'weights': 'uniform'},\n",
       " mean: 0.88667, std: 0.11851, params: {'n_neighbors': 29, 'weights': 'distance'},\n",
       " mean: 0.80000, std: 0.19437, params: {'n_neighbors': 29, 'weights': 'uniform'},\n",
       " mean: 0.88000, std: 0.12401, params: {'n_neighbors': 30, 'weights': 'distance'},\n",
       " mean: 0.78667, std: 0.21250, params: {'n_neighbors': 30, 'weights': 'uniform'},\n",
       " mean: 0.88000, std: 0.12927, params: {'n_neighbors': 31, 'weights': 'distance'},\n",
       " mean: 0.77333, std: 0.21848, params: {'n_neighbors': 31, 'weights': 'uniform'},\n",
       " mean: 0.88667, std: 0.11851, params: {'n_neighbors': 32, 'weights': 'distance'},\n",
       " mean: 0.74000, std: 0.27520, params: {'n_neighbors': 32, 'weights': 'uniform'},\n",
       " mean: 0.88667, std: 0.11851, params: {'n_neighbors': 33, 'weights': 'distance'},\n",
       " mean: 0.75333, std: 0.26043, params: {'n_neighbors': 33, 'weights': 'uniform'},\n",
       " mean: 0.88667, std: 0.11851, params: {'n_neighbors': 34, 'weights': 'distance'},\n",
       " mean: 0.72000, std: 0.30155, params: {'n_neighbors': 34, 'weights': 'uniform'},\n",
       " mean: 0.87333, std: 0.13400, params: {'n_neighbors': 35, 'weights': 'distance'},\n",
       " mean: 0.69333, std: 0.31510, params: {'n_neighbors': 35, 'weights': 'uniform'},\n",
       " mean: 0.86667, std: 0.12824, params: {'n_neighbors': 36, 'weights': 'distance'},\n",
       " mean: 0.68000, std: 0.33506, params: {'n_neighbors': 36, 'weights': 'uniform'},\n",
       " mean: 0.85333, std: 0.14391, params: {'n_neighbors': 37, 'weights': 'distance'},\n",
       " mean: 0.68667, std: 0.30955, params: {'n_neighbors': 37, 'weights': 'uniform'},\n",
       " mean: 0.85333, std: 0.14391, params: {'n_neighbors': 38, 'weights': 'distance'},\n",
       " mean: 0.64000, std: 0.38320, params: {'n_neighbors': 38, 'weights': 'uniform'},\n",
       " mean: 0.85333, std: 0.14391, params: {'n_neighbors': 39, 'weights': 'distance'},\n",
       " mean: 0.64000, std: 0.38320, params: {'n_neighbors': 39, 'weights': 'uniform'},\n",
       " mean: 0.84667, std: 0.14996, params: {'n_neighbors': 40, 'weights': 'distance'},\n",
       " mean: 0.64000, std: 0.38320, params: {'n_neighbors': 40, 'weights': 'uniform'},\n",
       " mean: 0.84667, std: 0.14996, params: {'n_neighbors': 41, 'weights': 'distance'},\n",
       " mean: 0.38667, std: 0.42248, params: {'n_neighbors': 41, 'weights': 'uniform'},\n",
       " mean: 0.82667, std: 0.17308, params: {'n_neighbors': 42, 'weights': 'distance'},\n",
       " mean: 0.37333, std: 0.43123, params: {'n_neighbors': 42, 'weights': 'uniform'},\n",
       " mean: 0.82000, std: 0.16944, params: {'n_neighbors': 43, 'weights': 'distance'},\n",
       " mean: 0.37333, std: 0.43123, params: {'n_neighbors': 43, 'weights': 'uniform'},\n",
       " mean: 0.81333, std: 0.17839, params: {'n_neighbors': 44, 'weights': 'distance'},\n",
       " mean: 0.37333, std: 0.43123, params: {'n_neighbors': 44, 'weights': 'uniform'},\n",
       " mean: 0.80667, std: 0.18547, params: {'n_neighbors': 45, 'weights': 'distance'},\n",
       " mean: 0.37333, std: 0.43123, params: {'n_neighbors': 45, 'weights': 'uniform'},\n",
       " mean: 0.80000, std: 0.19322, params: {'n_neighbors': 46, 'weights': 'distance'},\n",
       " mean: 0.37333, std: 0.43123, params: {'n_neighbors': 46, 'weights': 'uniform'},\n",
       " mean: 0.79333, std: 0.18785, params: {'n_neighbors': 47, 'weights': 'distance'},\n",
       " mean: 0.37333, std: 0.43123, params: {'n_neighbors': 47, 'weights': 'uniform'},\n",
       " mean: 0.79333, std: 0.18785, params: {'n_neighbors': 48, 'weights': 'distance'},\n",
       " mean: 0.36000, std: 0.41655, params: {'n_neighbors': 48, 'weights': 'uniform'},\n",
       " mean: 0.78667, std: 0.19619, params: {'n_neighbors': 49, 'weights': 'distance'},\n",
       " mean: 0.36000, std: 0.41655, params: {'n_neighbors': 49, 'weights': 'uniform'},\n",
       " mean: 0.78000, std: 0.21766, params: {'n_neighbors': 50, 'weights': 'distance'},\n",
       " mean: 0.36000, std: 0.41655, params: {'n_neighbors': 50, 'weights': 'uniform'},\n",
       " mean: 0.78000, std: 0.21766, params: {'n_neighbors': 51, 'weights': 'distance'},\n",
       " mean: 0.36000, std: 0.42864, params: {'n_neighbors': 51, 'weights': 'uniform'},\n",
       " mean: 0.76667, std: 0.23381, params: {'n_neighbors': 52, 'weights': 'distance'},\n",
       " mean: 0.34667, std: 0.42667, params: {'n_neighbors': 52, 'weights': 'uniform'},\n",
       " mean: 0.76000, std: 0.22842, params: {'n_neighbors': 53, 'weights': 'distance'},\n",
       " mean: 0.34667, std: 0.42667, params: {'n_neighbors': 53, 'weights': 'uniform'},\n",
       " mean: 0.76000, std: 0.22842, params: {'n_neighbors': 54, 'weights': 'distance'},\n",
       " mean: 0.33333, std: 0.41312, params: {'n_neighbors': 54, 'weights': 'uniform'},\n",
       " mean: 0.76000, std: 0.22842, params: {'n_neighbors': 55, 'weights': 'distance'},\n",
       " mean: 0.34667, std: 0.42667, params: {'n_neighbors': 55, 'weights': 'uniform'},\n",
       " mean: 0.74667, std: 0.24459, params: {'n_neighbors': 56, 'weights': 'distance'},\n",
       " mean: 0.32000, std: 0.40089, params: {'n_neighbors': 56, 'weights': 'uniform'},\n",
       " mean: 0.74000, std: 0.25333, params: {'n_neighbors': 57, 'weights': 'distance'},\n",
       " mean: 0.32667, std: 0.40683, params: {'n_neighbors': 57, 'weights': 'uniform'},\n",
       " mean: 0.73333, std: 0.26077, params: {'n_neighbors': 58, 'weights': 'distance'},\n",
       " mean: 0.32000, std: 0.40089, params: {'n_neighbors': 58, 'weights': 'uniform'},\n",
       " mean: 0.72000, std: 0.27857, params: {'n_neighbors': 59, 'weights': 'distance'},\n",
       " mean: 0.32667, std: 0.40683, params: {'n_neighbors': 59, 'weights': 'uniform'},\n",
       " mean: 0.72000, std: 0.27857, params: {'n_neighbors': 60, 'weights': 'distance'},\n",
       " mean: 0.24667, std: 0.36246, params: {'n_neighbors': 60, 'weights': 'uniform'},\n",
       " mean: 0.71333, std: 0.28798, params: {'n_neighbors': 61, 'weights': 'distance'},\n",
       " mean: 0.20667, std: 0.28783, params: {'n_neighbors': 61, 'weights': 'uniform'},\n",
       " mean: 0.69333, std: 0.31369, params: {'n_neighbors': 62, 'weights': 'distance'},\n",
       " mean: 0.10667, std: 0.13233, params: {'n_neighbors': 62, 'weights': 'uniform'},\n",
       " mean: 0.68667, std: 0.32359, params: {'n_neighbors': 63, 'weights': 'distance'},\n",
       " mean: 0.10667, std: 0.13233, params: {'n_neighbors': 63, 'weights': 'uniform'},\n",
       " mean: 0.68000, std: 0.34935, params: {'n_neighbors': 64, 'weights': 'distance'},\n",
       " mean: 0.10667, std: 0.13233, params: {'n_neighbors': 64, 'weights': 'uniform'},\n",
       " mean: 0.67333, std: 0.34409, params: {'n_neighbors': 65, 'weights': 'distance'},\n",
       " mean: 0.10667, std: 0.13233, params: {'n_neighbors': 65, 'weights': 'uniform'},\n",
       " mean: 0.67333, std: 0.34409, params: {'n_neighbors': 66, 'weights': 'distance'},\n",
       " mean: 0.10667, std: 0.13233, params: {'n_neighbors': 66, 'weights': 'uniform'},\n",
       " mean: 0.66667, std: 0.35465, params: {'n_neighbors': 67, 'weights': 'distance'},\n",
       " mean: 0.10667, std: 0.13233, params: {'n_neighbors': 67, 'weights': 'uniform'},\n",
       " mean: 0.66667, std: 0.35465, params: {'n_neighbors': 68, 'weights': 'distance'},\n",
       " mean: 0.10667, std: 0.13233, params: {'n_neighbors': 68, 'weights': 'uniform'},\n",
       " mean: 0.66000, std: 0.36539, params: {'n_neighbors': 69, 'weights': 'distance'},\n",
       " mean: 0.10667, std: 0.13233, params: {'n_neighbors': 69, 'weights': 'uniform'},\n",
       " mean: 0.66667, std: 0.37059, params: {'n_neighbors': 70, 'weights': 'distance'},\n",
       " mean: 0.10667, std: 0.13233, params: {'n_neighbors': 70, 'weights': 'uniform'},\n",
       " mean: 0.66000, std: 0.36539, params: {'n_neighbors': 71, 'weights': 'distance'},\n",
       " mean: 0.10667, std: 0.13233, params: {'n_neighbors': 71, 'weights': 'uniform'},\n",
       " mean: 0.66000, std: 0.36539, params: {'n_neighbors': 72, 'weights': 'distance'},\n",
       " mean: 0.10667, std: 0.13233, params: {'n_neighbors': 72, 'weights': 'uniform'},\n",
       " mean: 0.66000, std: 0.36539, params: {'n_neighbors': 73, 'weights': 'distance'},\n",
       " mean: 0.10667, std: 0.13233, params: {'n_neighbors': 73, 'weights': 'uniform'},\n",
       " mean: 0.66667, std: 0.37059, params: {'n_neighbors': 74, 'weights': 'distance'},\n",
       " mean: 0.10667, std: 0.13233, params: {'n_neighbors': 74, 'weights': 'uniform'},\n",
       " mean: 0.66667, std: 0.37059, params: {'n_neighbors': 75, 'weights': 'distance'},\n",
       " mean: 0.08667, std: 0.11851, params: {'n_neighbors': 75, 'weights': 'uniform'},\n",
       " mean: 0.66667, std: 0.37059, params: {'n_neighbors': 76, 'weights': 'distance'},\n",
       " mean: 0.08667, std: 0.11851, params: {'n_neighbors': 76, 'weights': 'uniform'},\n",
       " mean: 0.66000, std: 0.36539, params: {'n_neighbors': 77, 'weights': 'distance'},\n",
       " mean: 0.08667, std: 0.11851, params: {'n_neighbors': 77, 'weights': 'uniform'},\n",
       " mean: 0.66000, std: 0.36539, params: {'n_neighbors': 78, 'weights': 'distance'},\n",
       " mean: 0.08667, std: 0.11851, params: {'n_neighbors': 78, 'weights': 'uniform'},\n",
       " mean: 0.66000, std: 0.36539, params: {'n_neighbors': 79, 'weights': 'distance'},\n",
       " mean: 0.08667, std: 0.11851, params: {'n_neighbors': 79, 'weights': 'uniform'},\n",
       " mean: 0.66667, std: 0.37059, params: {'n_neighbors': 80, 'weights': 'distance'},\n",
       " mean: 0.08667, std: 0.11851, params: {'n_neighbors': 80, 'weights': 'uniform'},\n",
       " mean: 0.66000, std: 0.37559, params: {'n_neighbors': 81, 'weights': 'distance'},\n",
       " mean: 0.07333, std: 0.10414, params: {'n_neighbors': 81, 'weights': 'uniform'},\n",
       " mean: 0.66000, std: 0.37559, params: {'n_neighbors': 82, 'weights': 'distance'},\n",
       " mean: 0.07333, std: 0.10414, params: {'n_neighbors': 82, 'weights': 'uniform'},\n",
       " mean: 0.65333, std: 0.37035, params: {'n_neighbors': 83, 'weights': 'distance'},\n",
       " mean: 0.07333, std: 0.10414, params: {'n_neighbors': 83, 'weights': 'uniform'},\n",
       " mean: 0.65333, std: 0.37035, params: {'n_neighbors': 84, 'weights': 'distance'},\n",
       " mean: 0.07333, std: 0.10414, params: {'n_neighbors': 84, 'weights': 'uniform'},\n",
       " mean: 0.65333, std: 0.37035, params: {'n_neighbors': 85, 'weights': 'distance'},\n",
       " mean: 0.06667, std: 0.10328, params: {'n_neighbors': 85, 'weights': 'uniform'},\n",
       " mean: 0.65333, std: 0.37035, params: {'n_neighbors': 86, 'weights': 'distance'},\n",
       " mean: 0.06667, std: 0.10328, params: {'n_neighbors': 86, 'weights': 'uniform'},\n",
       " mean: 0.65333, std: 0.37035, params: {'n_neighbors': 87, 'weights': 'distance'},\n",
       " mean: 0.06667, std: 0.10328, params: {'n_neighbors': 87, 'weights': 'uniform'},\n",
       " mean: 0.65333, std: 0.37035, params: {'n_neighbors': 88, 'weights': 'distance'},\n",
       " mean: 0.06667, std: 0.10328, params: {'n_neighbors': 88, 'weights': 'uniform'},\n",
       " mean: 0.65333, std: 0.37035, params: {'n_neighbors': 89, 'weights': 'distance'},\n",
       " mean: 0.06667, std: 0.10328, params: {'n_neighbors': 89, 'weights': 'uniform'},\n",
       " mean: 0.65333, std: 0.37035, params: {'n_neighbors': 90, 'weights': 'distance'},\n",
       " mean: 0.06667, std: 0.10328, params: {'n_neighbors': 90, 'weights': 'uniform'},\n",
       " mean: 0.65333, std: 0.37035, params: {'n_neighbors': 91, 'weights': 'distance'},\n",
       " mean: 0.06667, std: 0.10328, params: {'n_neighbors': 91, 'weights': 'uniform'},\n",
       " mean: 0.65333, std: 0.37035, params: {'n_neighbors': 92, 'weights': 'distance'},\n",
       " mean: 0.06667, std: 0.10328, params: {'n_neighbors': 92, 'weights': 'uniform'},\n",
       " mean: 0.65333, std: 0.37035, params: {'n_neighbors': 93, 'weights': 'distance'},\n",
       " mean: 0.06667, std: 0.10328, params: {'n_neighbors': 93, 'weights': 'uniform'},\n",
       " mean: 0.64667, std: 0.37571, params: {'n_neighbors': 94, 'weights': 'distance'},\n",
       " mean: 0.06667, std: 0.10328, params: {'n_neighbors': 94, 'weights': 'uniform'},\n",
       " mean: 0.64667, std: 0.37571, params: {'n_neighbors': 95, 'weights': 'distance'},\n",
       " mean: 0.06667, std: 0.10328, params: {'n_neighbors': 95, 'weights': 'uniform'},\n",
       " mean: 0.64667, std: 0.37571, params: {'n_neighbors': 96, 'weights': 'distance'},\n",
       " mean: 0.06667, std: 0.10328, params: {'n_neighbors': 96, 'weights': 'uniform'},\n",
       " mean: 0.64667, std: 0.37571, params: {'n_neighbors': 97, 'weights': 'distance'},\n",
       " mean: 0.06667, std: 0.10328, params: {'n_neighbors': 97, 'weights': 'uniform'},\n",
       " mean: 0.64667, std: 0.37571, params: {'n_neighbors': 98, 'weights': 'distance'},\n",
       " mean: 0.06667, std: 0.10328, params: {'n_neighbors': 98, 'weights': 'uniform'},\n",
       " mean: 0.64667, std: 0.37571, params: {'n_neighbors': 99, 'weights': 'distance'},\n",
       " mean: 0.06667, std: 0.10328, params: {'n_neighbors': 99, 'weights': 'uniform'},\n",
       " mean: 0.64667, std: 0.37571, params: {'n_neighbors': 100, 'weights': 'distance'},\n",
       " mean: 0.06667, std: 0.10328, params: {'n_neighbors': 100, 'weights': 'uniform'}]"
      ]
     },
     "execution_count": 117,
     "metadata": {},
     "output_type": "execute_result"
    }
   ],
   "source": [
    "from sklearn import grid_search, cross_validation\n",
    "import matplotlib.pyplot as plt\n",
    "\n",
    "\n",
    "\n",
    "k = range(1, 101)# some *list of numbers*! Make this go to 100!\n",
    "\n",
    "# Specify the parameter of your estimator that you're changing as a dictionary key\n",
    "# Specify the *list of values* as the dictionary value!\n",
    "params = { 'n_neighbors': k,  'weights': ['distance', 'uniform'] } #, 'metric': ['manhattan', 'minkowski']} #, # 'p': [1,2,3] }\n",
    "\n",
    "kf = cross_validation.KFold(len(irisdf), n_folds = 5)\n",
    "gs = grid_search.GridSearchCV(\n",
    "    estimator=neighbors.KNeighborsClassifier(),\n",
    "    param_grid=params,\n",
    "    cv=kf\n",
    ")\n",
    "gs.fit(iris.data, iris.target)\n",
    "gs.grid_scores_\n"
   ]
  },
  {
   "cell_type": "code",
   "execution_count": 111,
   "metadata": {
    "collapsed": false
   },
   "outputs": [
    {
     "data": {
      "text/plain": [
       "150"
      ]
     },
     "execution_count": 111,
     "metadata": {},
     "output_type": "execute_result"
    }
   ],
   "source": [
    "len(irisdf)"
   ]
  },
  {
   "cell_type": "code",
   "execution_count": null,
   "metadata": {
    "collapsed": false
   },
   "outputs": [],
   "source": []
  },
  {
   "cell_type": "markdown",
   "metadata": {},
   "source": [
    "## Not lets plot that, because it's not easy to just look at grid scores"
   ]
  },
  {
   "cell_type": "code",
   "execution_count": 118,
   "metadata": {
    "collapsed": false,
    "scrolled": true
   },
   "outputs": [
    {
     "data": {
      "text/plain": [
       "<matplotlib.legend.Legend at 0x11b22ffd0>"
      ]
     },
     "execution_count": 118,
     "metadata": {},
     "output_type": "execute_result"
    },
    {
     "data": {
      "image/png": "[encoded data removed]",
      "text/plain": [
       "<matplotlib.figure.Figure at 0x11a815cd0>"
      ]
     },
     "metadata": {},
     "output_type": "display_data"
    }
   ],
   "source": [
    "line_up, = plt.plot(k,[s[1] for s in  gs.grid_scores_[1::2]], color='red', label='distance')\n",
    "line_down, = plt.plot(k,[s[1] for s in  gs.grid_scores_[::2]], color='blue', label = 'uniform')\n",
    "\n",
    "plt.legend(handles=[line_up, line_down])\n",
    "\n",
    "# note that high k values include data points that are probably \n",
    "# less and less relevant"
   ]
  },
  {
   "cell_type": "code",
   "execution_count": 114,
   "metadata": {
    "collapsed": false
   },
   "outputs": [
    {
     "data": {
      "text/plain": [
       "<matplotlib.legend.Legend at 0x11a8c0890>"
      ]
     },
     "execution_count": 114,
     "metadata": {},
     "output_type": "execute_result"
    },
    {
     "data": {
      "image/png": "[encoded data removed]",
      "text/plain": [
       "<matplotlib.figure.Figure at 0x11a682590>"
      ]
     },
     "metadata": {},
     "output_type": "display_data"
    }
   ],
   "source": [
    "line_up, = plt.plot(k[:25],[s[1] for s in  gs.grid_scores_[1:50:2]], color='red', label='distance')\n",
    "line_down, = plt.plot(k[:25],[s[1] for s in  gs.grid_scores_[:50:2]], color='blue', label = 'uniform')\n",
    "plt.legend(handles=[line_up, line_down])\n"
   ]
  },
  {
   "cell_type": "markdown",
   "metadata": {},
   "source": [
    "### Remember these functions!\n",
    "+ How do they match up with the graphs above?\n"
   ]
  },
  {
   "cell_type": "code",
   "execution_count": 119,
   "metadata": {
    "collapsed": false
   },
   "outputs": [
    {
     "name": "stdout",
     "output_type": "stream",
     "text": [
      "0.926666666667\n"
     ]
    }
   ],
   "source": [
    "print gs.best_score_\n"
   ]
  },
  {
   "cell_type": "code",
   "execution_count": 120,
   "metadata": {
    "collapsed": false
   },
   "outputs": [
    {
     "name": "stdout",
     "output_type": "stream",
     "text": [
      "{'n_neighbors': 1, 'weights': 'distance'}\n"
     ]
    }
   ],
   "source": [
    "print gs.best_params_\n"
   ]
  },
  {
   "cell_type": "code",
   "execution_count": 121,
   "metadata": {
    "collapsed": false
   },
   "outputs": [
    {
     "name": "stdout",
     "output_type": "stream",
     "text": [
      "KNeighborsClassifier(algorithm='auto', leaf_size=30, metric='minkowski',\n",
      "           metric_params=None, n_jobs=1, n_neighbors=1, p=2,\n",
      "           weights='distance')\n"
     ]
    }
   ],
   "source": [
    "print gs.best_estimator_"
   ]
  },
  {
   "cell_type": "code",
   "execution_count": null,
   "metadata": {
    "collapsed": true
   },
   "outputs": [],
   "source": []
  }
 ],
 "metadata": {
  "kernelspec": {
   "display_name": "Python 2",
   "language": "python",
   "name": "python2"
  },
  "language_info": {
   "codemirror_mode": {
    "name": "ipython",
    "version": 2
   },
   "file_extension": ".py",
   "mimetype": "text/x-python",
   "name": "python",
   "nbconvert_exporter": "python",
   "pygments_lexer": "ipython2",
   "version": "2.7.13"
  }
 },
 "nbformat": 4,
 "nbformat_minor": 0
}
