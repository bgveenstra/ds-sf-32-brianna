{
 "cells": [
  {
   "cell_type": "markdown",
   "metadata": {},
   "source": [
    "# Expectation Maximization\n",
    "\n",
    "#### Resources\n",
    "\n",
    "* http://ai.stanford.edu/~chuongdo/papers/em_tutorial.pdf\n"
   ]
  },
  {
   "cell_type": "code",
   "execution_count": 1,
   "metadata": {
    "collapsed": false
   },
   "outputs": [],
   "source": [
    "import numpy as np\n",
    "from scipy import stats\n"
   ]
  },
  {
   "cell_type": "code",
   "execution_count": 3,
   "metadata": {
    "collapsed": false
   },
   "outputs": [],
   "source": [
    "# Heads are 1s; tails are 0s\n",
    "observations = np.array([[1,0,0,0,1,1,0,1,0,1],\n",
    "                         [1,1,1,1,0,1,1,1,1,1],\n",
    "                         [1,0,1,1,1,1,1,0,1,1],\n",
    "                         [1,0,1,0,0,0,1,1,0,0],\n",
    "                         [0,1,1,1,0,1,1,1,0,1]])"
   ]
  },
  {
   "cell_type": "code",
   "execution_count": 4,
   "metadata": {
    "collapsed": true
   },
   "outputs": [],
   "source": [
    "def em_single(priors, observations):\n",
    "    \"\"\"\n",
    "    Performs a single EM step\n",
    "    ---------\n",
    "    priors : [theta_A, theta_B]\n",
    "    observations : [m X n nested list]\n",
    "    \n",
    "    Returns\n",
    "    --------\n",
    "    new_priors: [new_theta_A, new_theta_B]\n",
    "    \"\"\"\n",
    "    counts = {'A':{'H':0,'T':0}, 'B':{'H':0,'T':0}}\n",
    "    theta_A = priors[0]\n",
    "    theta_B = priors[1]\n",
    "    # E step\n",
    "    for observation in observations: \n",
    "        # How many coin tosses for this observation??\n",
    "        len_observation = len(observation)\n",
    "        # Count heads and tails\n",
    "        num_heads = observation.sum()\n",
    "        num_tails = len_observation - num_heads\n",
    "        # Given our two possible prior probabilities...\n",
    "        # What is the probability of seeing this observation?\n",
    "        # Note use of binomial formula\n",
    "        contribution_A = stats.binom.pmf(num_heads,len_observation,theta_A)\n",
    "        contribution_B = stats.binom.pmf(num_heads,len_observation,theta_B)\n",
    "        # Now what's the probability of this observation coming from \n",
    "        # a coin with theta A vs a coin with theta B?\n",
    "        weight_A = contribution_A/(contribution_A+contribution_B)\n",
    "        weight_B = contribution_B/(contribution_A+contribution_B)\n",
    "        # Weight your dataset by probability of \n",
    "        # belonging to coin A or B\n",
    "        # Sum all your observations for an estimate of \n",
    "        # Heads & Tails for each coin\n",
    "        counts['A']['H']+= weight_A*num_heads\n",
    "        #print counts['A']['H']\n",
    "        counts['A']['T']+= weight_A*num_tails\n",
    "        counts['B']['H']+= weight_B*num_heads\n",
    "        counts['B']['T']+= weight_B*num_tails\n",
    "    # M step\n",
    "    # Given the weighted dataset\n",
    "    # calculate the maximum likelihood\n",
    "    new_theta_A = counts['A']['H']/(counts['A']['H']+counts['A']['T'])\n",
    "    new_theta_B = counts['B']['H']/(counts['B']['H']+counts['B']['T'])\n",
    "    return [new_theta_A, new_theta_B]"
   ]
  },
  {
   "cell_type": "code",
   "execution_count": 5,
   "metadata": {
    "collapsed": true
   },
   "outputs": [],
   "source": [
    "def em(observations, prior, tol=1e-7, iterations=1000):\n",
    "    import math\n",
    "    iteration = 0\n",
    "    while iteration<iterations:\n",
    "        new_prior = em_single(prior, observations)\n",
    "        delta_change = np.abs(prior[0]-new_prior[0])\n",
    "        if delta_change<tol:\n",
    "            break\n",
    "        else:\n",
    "            prior = new_prior\n",
    "            iteration+=1\n",
    "    return [new_prior, iteration]"
   ]
  },
  {
   "cell_type": "code",
   "execution_count": null,
   "metadata": {
    "collapsed": true
   },
   "outputs": [],
   "source": []
  },
  {
   "cell_type": "code",
   "execution_count": 7,
   "metadata": {
    "collapsed": false,
    "scrolled": true
   },
   "outputs": [
    {
     "data": {
      "text/plain": [
       "[0.400000000001, 0.66000000000000003]"
      ]
     },
     "execution_count": 7,
     "metadata": {},
     "output_type": "execute_result"
    }
   ],
   "source": [
    "em_single([.00000000001, 0.5], observations)"
   ]
  },
  {
   "cell_type": "code",
   "execution_count": 6,
   "metadata": {
    "collapsed": false
   },
   "outputs": [
    {
     "data": {
      "text/plain": [
       "[[0.5195830660193318, 0.79678903438696758], 16]"
      ]
     },
     "execution_count": 6,
     "metadata": {},
     "output_type": "execute_result"
    }
   ],
   "source": [
    "\n",
    "em(observations, [0.0000000000001,0.5])"
   ]
  },
  {
   "cell_type": "code",
   "execution_count": 20,
   "metadata": {
    "collapsed": false
   },
   "outputs": [
    {
     "name": "stderr",
     "output_type": "stream",
     "text": [
      "/Users/brianna/anaconda/lib/python2.7/site-packages/ipykernel/__main__.py:43: RuntimeWarning: invalid value encountered in double_scalars\n"
     ]
    },
    {
     "data": {
      "text/plain": [
       "[[nan, nan], 1000]"
      ]
     },
     "execution_count": 20,
     "metadata": {},
     "output_type": "execute_result"
    }
   ],
   "source": [
    "em(observations, [1.0,0.5])"
   ]
  },
  {
   "cell_type": "code",
   "execution_count": 15,
   "metadata": {
    "collapsed": false
   },
   "outputs": [
    {
     "data": {
      "text/plain": [
       "array([[1, 0, 0, 0, 1, 1, 0, 1, 0, 1],\n",
       "       [1, 1, 1, 1, 0, 1, 1, 1, 1, 1],\n",
       "       [1, 0, 1, 1, 1, 1, 1, 0, 1, 1],\n",
       "       [1, 0, 1, 0, 0, 0, 1, 1, 0, 0],\n",
       "       [0, 1, 1, 1, 0, 1, 1, 1, 0, 1]])"
      ]
     },
     "execution_count": 15,
     "metadata": {},
     "output_type": "execute_result"
    }
   ],
   "source": [
    "observations\n"
   ]
  },
  {
   "cell_type": "code",
   "execution_count": 24,
   "metadata": {
    "collapsed": false
   },
   "outputs": [],
   "source": [
    "obs2 = [np.zeros(10) for i in range(0,10)]"
   ]
  },
  {
   "cell_type": "code",
   "execution_count": 28,
   "metadata": {
    "collapsed": false
   },
   "outputs": [
    {
     "data": {
      "text/plain": [
       "[array([ 0.,  0.,  0.,  0.,  0.,  0.,  0.,  0.,  0.,  0.]),\n",
       " array([ 0.,  0.,  0.,  0.,  0.,  0.,  0.,  0.,  0.,  0.]),\n",
       " array([ 0.,  0.,  0.,  0.,  0.,  0.,  0.,  0.,  0.,  0.]),\n",
       " array([ 0.,  0.,  0.,  0.,  0.,  0.,  0.,  0.,  0.,  0.]),\n",
       " array([ 0.,  0.,  0.,  0.,  0.,  0.,  0.,  0.,  0.,  0.]),\n",
       " array([ 0.,  0.,  0.,  0.,  0.,  0.,  0.,  0.,  0.,  0.]),\n",
       " array([ 0.,  0.,  0.,  0.,  0.,  0.,  0.,  0.,  0.,  0.]),\n",
       " array([ 0.,  0.,  0.,  0.,  0.,  0.,  0.,  0.,  0.,  0.]),\n",
       " array([ 0.,  0.,  0.,  0.,  0.,  0.,  0.,  0.,  0.,  0.]),\n",
       " array([ 0.,  0.,  0.,  0.,  0.,  0.,  0.,  0.,  0.,  0.])]"
      ]
     },
     "execution_count": 28,
     "metadata": {},
     "output_type": "execute_result"
    }
   ],
   "source": [
    "obs2"
   ]
  },
  {
   "cell_type": "code",
   "execution_count": 27,
   "metadata": {
    "collapsed": false
   },
   "outputs": [
    {
     "data": {
      "text/plain": [
       "[[0.0, 0.0], 1]"
      ]
     },
     "execution_count": 27,
     "metadata": {},
     "output_type": "execute_result"
    }
   ],
   "source": [
    "em(obs2, [.5, .6])"
   ]
  },
  {
   "cell_type": "code",
   "execution_count": null,
   "metadata": {
    "collapsed": true
   },
   "outputs": [],
   "source": []
  }
 ],
 "metadata": {
  "kernelspec": {
   "display_name": "Python 2",
   "language": "python",
   "name": "python2"
  },
  "language_info": {
   "codemirror_mode": {
    "name": "ipython",
    "version": 2
   },
   "file_extension": ".py",
   "mimetype": "text/x-python",
   "name": "python",
   "nbconvert_exporter": "python",
   "pygments_lexer": "ipython2",
   "version": "2.7.13"
  }
 },
 "nbformat": 4,
 "nbformat_minor": 0
}
