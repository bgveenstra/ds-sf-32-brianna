{
 "cells": [
  {
   "cell_type": "markdown",
   "metadata": {},
   "source": [
    "# Mental Health in Tech Project\n",
    "\n",
    "## Data Sets\n",
    "\n",
    "[OSMI Survey on Mental Health in the Tech Workplace in 2014](https://www.kaggle.com/osmi/mental-health-in-tech-survey) \n",
    "\n",
    "[\"Ongoing\" OSMI survey from 2016](https://www.kaggle.com/osmi/mental-health-in-tech-2016)\n",
    "\n",
    "\n",
    "## Questions"
   ]
  },
  {
   "cell_type": "markdown",
   "metadata": {},
   "source": [
    "## Exploring and Cleaning 2014 Data"
   ]
  },
  {
   "cell_type": "code",
   "execution_count": 161,
   "metadata": {
    "collapsed": true
   },
   "outputs": [],
   "source": [
    "import pandas as pd\n",
    "% matplotlib inline"
   ]
  },
  {
   "cell_type": "code",
   "execution_count": 2,
   "metadata": {
    "collapsed": false
   },
   "outputs": [
    {
     "name": "stdout",
     "output_type": "stream",
     "text": [
      "(1259, 27)\n"
     ]
    }
   ],
   "source": [
    "df14 = pd.read_csv(\"./datasets/2014/mental-health-in-tech-2014.csv\")\n",
    "print df14.shape\n",
    "# df14.head(3)"
   ]
  },
  {
   "cell_type": "code",
   "execution_count": 83,
   "metadata": {
    "collapsed": false
   },
   "outputs": [
    {
     "data": {
      "text/html": [
       "<div>\n",
       "<table border=\"1\" class=\"dataframe\">\n",
       "  <thead>\n",
       "    <tr style=\"text-align: right;\">\n",
       "      <th></th>\n",
       "      <th>timestamp</th>\n",
       "      <th>age</th>\n",
       "      <th>gender</th>\n",
       "      <th>country</th>\n",
       "      <th>state</th>\n",
       "      <th>self_employed</th>\n",
       "      <th>family_history</th>\n",
       "      <th>treatment</th>\n",
       "      <th>work_interfere</th>\n",
       "      <th>num_employees</th>\n",
       "      <th>...</th>\n",
       "      <th>leave</th>\n",
       "      <th>mental_health_consequence</th>\n",
       "      <th>phys_health_consequence</th>\n",
       "      <th>coworkers</th>\n",
       "      <th>supervisor</th>\n",
       "      <th>mental_health_interview</th>\n",
       "      <th>phys_health_interview</th>\n",
       "      <th>mental_vs_physical</th>\n",
       "      <th>obs_consequence</th>\n",
       "      <th>comments</th>\n",
       "    </tr>\n",
       "  </thead>\n",
       "  <tbody>\n",
       "    <tr>\n",
       "      <th>0</th>\n",
       "      <td>2014-08-27 11:29:31</td>\n",
       "      <td>37.0</td>\n",
       "      <td>Female</td>\n",
       "      <td>United States</td>\n",
       "      <td>IL</td>\n",
       "      <td>NaN</td>\n",
       "      <td>0</td>\n",
       "      <td>1</td>\n",
       "      <td>often</td>\n",
       "      <td>6-25</td>\n",
       "      <td>...</td>\n",
       "      <td>Somewhat easy</td>\n",
       "      <td>No</td>\n",
       "      <td>No</td>\n",
       "      <td>Some of them</td>\n",
       "      <td>Yes</td>\n",
       "      <td>No</td>\n",
       "      <td>Maybe</td>\n",
       "      <td>Yes</td>\n",
       "      <td>0</td>\n",
       "      <td>NaN</td>\n",
       "    </tr>\n",
       "    <tr>\n",
       "      <th>1</th>\n",
       "      <td>2014-08-27 11:29:37</td>\n",
       "      <td>44.0</td>\n",
       "      <td>M</td>\n",
       "      <td>United States</td>\n",
       "      <td>IN</td>\n",
       "      <td>NaN</td>\n",
       "      <td>0</td>\n",
       "      <td>0</td>\n",
       "      <td>rarely</td>\n",
       "      <td>More than 1000</td>\n",
       "      <td>...</td>\n",
       "      <td>Don't know</td>\n",
       "      <td>Maybe</td>\n",
       "      <td>No</td>\n",
       "      <td>No</td>\n",
       "      <td>No</td>\n",
       "      <td>No</td>\n",
       "      <td>No</td>\n",
       "      <td>Don't know</td>\n",
       "      <td>0</td>\n",
       "      <td>NaN</td>\n",
       "    </tr>\n",
       "    <tr>\n",
       "      <th>2</th>\n",
       "      <td>2014-08-27 11:29:44</td>\n",
       "      <td>32.0</td>\n",
       "      <td>Male</td>\n",
       "      <td>Canada</td>\n",
       "      <td>NaN</td>\n",
       "      <td>NaN</td>\n",
       "      <td>0</td>\n",
       "      <td>0</td>\n",
       "      <td>rarely</td>\n",
       "      <td>6-25</td>\n",
       "      <td>...</td>\n",
       "      <td>Somewhat difficult</td>\n",
       "      <td>No</td>\n",
       "      <td>No</td>\n",
       "      <td>Yes</td>\n",
       "      <td>Yes</td>\n",
       "      <td>Yes</td>\n",
       "      <td>Yes</td>\n",
       "      <td>No</td>\n",
       "      <td>0</td>\n",
       "      <td>NaN</td>\n",
       "    </tr>\n",
       "  </tbody>\n",
       "</table>\n",
       "<p>3 rows × 27 columns</p>\n",
       "</div>"
      ],
      "text/plain": [
       "             timestamp   age  gender        country state  self_employed  \\\n",
       "0  2014-08-27 11:29:31  37.0  Female  United States    IL            NaN   \n",
       "1  2014-08-27 11:29:37  44.0       M  United States    IN            NaN   \n",
       "2  2014-08-27 11:29:44  32.0    Male         Canada   NaN            NaN   \n",
       "\n",
       "   family_history  treatment work_interfere   num_employees   ...     \\\n",
       "0               0          1          often            6-25   ...      \n",
       "1               0          0         rarely  More than 1000   ...      \n",
       "2               0          0         rarely            6-25   ...      \n",
       "\n",
       "                leave  mental_health_consequence phys_health_consequence  \\\n",
       "0       Somewhat easy                         No                      No   \n",
       "1          Don't know                      Maybe                      No   \n",
       "2  Somewhat difficult                         No                      No   \n",
       "\n",
       "      coworkers supervisor mental_health_interview phys_health_interview  \\\n",
       "0  Some of them        Yes                      No                 Maybe   \n",
       "1            No         No                      No                    No   \n",
       "2           Yes        Yes                     Yes                   Yes   \n",
       "\n",
       "  mental_vs_physical obs_consequence comments  \n",
       "0                Yes               0      NaN  \n",
       "1         Don't know               0      NaN  \n",
       "2                 No               0      NaN  \n",
       "\n",
       "[3 rows x 27 columns]"
      ]
     },
     "execution_count": 83,
     "metadata": {},
     "output_type": "execute_result"
    }
   ],
   "source": [
    "# standardize columns to have lowercase names\n",
    "df14.rename(columns={'Age': 'age', 'Gender': 'gender', 'Country': 'country', 'Timestamp': 'timestamp'}, inplace=True)\n",
    "# replace confusing no_employees column name\n",
    "df14.rename(columns={'no_employees': 'num_employees'}, inplace=True)\n",
    "df14.head(3)"
   ]
  },
  {
   "cell_type": "code",
   "execution_count": 4,
   "metadata": {
    "collapsed": false
   },
   "outputs": [
    {
     "name": "stdout",
     "output_type": "stream",
     "text": [
      "(1259, 27)\n"
     ]
    }
   ],
   "source": [
    "df_original = pd.read_csv(\"./datasets/2014/osmi-mental-health-in-tech-original.csv\")\n",
    "print df_original.shape\n",
    "# print df_original.columns   # original questions/fields"
   ]
  },
  {
   "cell_type": "markdown",
   "metadata": {},
   "source": [
    "<details><summary> Click to expand all **original questions/fields** </summary>\n",
    "    \n",
    "- Timestamp   \n",
    "- Age  \n",
    "- Gender   \n",
    "- Country  \n",
    "- If you live in the United States, which state or territory do you live in?  \n",
    "- Are you self-employed?  \n",
    "- Do you have a family history of mental illness?  \n",
    "- Have you sought treatment for a mental health condition?  \n",
    "- If you have a mental health condition, do you feel that it interferes with your work?  \n",
    "- How many employees does your company or organization have?  \n",
    "- Do you work remotely (outside of an office) at least 50% of the time?  \n",
    "- Is your employer primarily a tech company/organization?  \n",
    "- Does your employer provide mental health benefits?  \n",
    "- Do you know the options for mental health care your employer provides?  \n",
    "- Has your employer ever discussed mental health as part of an employee wellness program?  \n",
    "- Does your employer provide resources to learn more about mental health issues and how to seek help?  \n",
    "- Is your anonymity protected if you choose to take advantage of mental health or substance abuse treatment resources?  \n",
    "- How easy is it for you to take medical leave for a mental health condition?  \n",
    "- Do you think that discussing a mental health issue with your employer would have negative consequences?  \n",
    "- Do you think that discussing a physical health issue with your employer would have negative consequences?  \n",
    "- Would you be willing to discuss a mental health issue with your coworkers?  \n",
    "- Would you be willing to discuss a mental health issue with your direct supervisor(s)?  \n",
    "- Would you bring up a mental health issue with a potential employer in an interview?  \n",
    "- Would you bring up a physical health issue with a potential employer in an interview?  \n",
    "- Do you feel that your employer takes mental health as seriously as physical health?  \n",
    "- Have you heard of or observed negative consequences for coworkers with mental health conditions in your workplace?  \n",
    "- Any additional notes or comments\n",
    "</details>"
   ]
  },
  {
   "cell_type": "code",
   "execution_count": 84,
   "metadata": {
    "collapsed": false,
    "scrolled": true
   },
   "outputs": [
    {
     "data": {
      "text/plain": [
       "'Do you feel that your employer takes mental health as seriously as physical health?'"
      ]
     },
     "execution_count": 84,
     "metadata": {},
     "output_type": "execute_result"
    }
   ],
   "source": [
    "# create reference to look up questions based on column names\n",
    "column_names = df14.columns\n",
    "questions = df_original.columns\n",
    "col_question_map = { \n",
    "    column_names[i]: questions[i] for i in range(df_original.shape[1]-1) \n",
    "}\n",
    "\n",
    "# for example:\n",
    "col_question_map['mental_vs_physical']"
   ]
  },
  {
   "cell_type": "markdown",
   "metadata": {
    "collapsed": true
   },
   "source": [
    "### Invalid ages\n",
    "\n",
    "Ages range from `-1726` to `99999999999`.  This is supposed to be a survey of working adults, so values under 16 and over 100 can be ignored."
   ]
  },
  {
   "cell_type": "code",
   "execution_count": 6,
   "metadata": {
    "collapsed": false
   },
   "outputs": [
    {
     "name": "stdout",
     "output_type": "stream",
     "text": [
      "[      -1726         -29          -1           5           8          11\n",
      "          18          19          20          21          22          23\n",
      "          24          25          26          27          28          29\n",
      "          30          31          32          33          34          35\n",
      "          36          37          38          39          40          41\n",
      "          42          43          44          45          46          47\n",
      "          48          49          50          51          53          54\n",
      "          55          56          57          58          60          61\n",
      "          62          65          72         329 99999999999]\n"
     ]
    }
   ],
   "source": [
    "ages = df14.age.unique()\n",
    "ages.sort()\n",
    "print ages"
   ]
  },
  {
   "cell_type": "code",
   "execution_count": 7,
   "metadata": {
    "collapsed": false
   },
   "outputs": [],
   "source": [
    "nan = float('NaN')\n",
    "\n",
    "df14.age = df14.age.map(lambda x: nan if (x<16 or x>100) else x)"
   ]
  },
  {
   "cell_type": "code",
   "execution_count": 8,
   "metadata": {
    "collapsed": false
   },
   "outputs": [],
   "source": [
    "# ages = df14.age.unique()\n",
    "# ages.sort()\n",
    "# print ages"
   ]
  },
  {
   "cell_type": "markdown",
   "metadata": {},
   "source": [
    "### Gender responses\n",
    "\n",
    "Gender responses seem to be strings entered by the user. To create a more manageable set of variables, I examine all the gender responses and categorize them into `female`, `male`, or `other`.  \n",
    "\n",
    "Note (and it's noted in a comment in the code) that trans men and women map to `male` and `female` categories, respectively. Gender identity can have an impact on feelings of being stigmatized, so this might be a decision to explore further. "
   ]
  },
  {
   "cell_type": "code",
   "execution_count": 9,
   "metadata": {
    "collapsed": true
   },
   "outputs": [],
   "source": [
    "# create dictionary to organize dummy data frames throughout\n",
    "dummy_dfs = {}"
   ]
  },
  {
   "cell_type": "code",
   "execution_count": 10,
   "metadata": {
    "collapsed": false
   },
   "outputs": [
    {
     "name": "stdout",
     "output_type": "stream",
     "text": [
      "['Female' 'M' 'Male' 'male' 'female' 'm' 'Male-ish' 'maile' 'Trans-female'\n",
      " 'Cis Female' 'F' 'something kinda male?' 'Cis Male' 'Woman' 'f' 'Mal'\n",
      " 'Male (CIS)' 'queer/she/they' 'non-binary' 'Femake' 'woman' 'Make' 'Nah'\n",
      " 'All' 'Enby' 'fluid' 'Genderqueer' 'Female ' 'Androgyne' 'Agender'\n",
      " 'cis-female/femme' 'Guy (-ish) ^_^' 'male leaning androgynous' 'Male '\n",
      " 'Man' 'Trans woman' 'msle' 'Neuter' 'Female (trans)' 'queer'\n",
      " 'Female (cis)' 'Mail' 'cis male' 'A little about you' 'Malr' 'p' 'femail'\n",
      " 'Cis Man' 'ostensibly male, unsure what that really means']\n"
     ]
    }
   ],
   "source": [
    "print df14.gender.unique()"
   ]
  },
  {
   "cell_type": "code",
   "execution_count": 11,
   "metadata": {
    "collapsed": false
   },
   "outputs": [],
   "source": [
    "# categorize gender responses into male, female, other based on response\n",
    "def categorize_gender(gender_response):\n",
    "    gender_response = gender_response.strip().lower()\n",
    "    \n",
    "    # caution - removing data about gender identity that may \n",
    "        # be correlated with mental health or feelings of being stigmatized\n",
    "    male_responses = set(['male', 'm', 'man', 'cis male', 'male (cis)',\n",
    "                          'trans-female', 'male (trans)', 'cis man',\n",
    "                          'mal', 'mail', 'maile', 'make', 'msle', 'malr'])\n",
    "    \n",
    "    # caution - removing data about gender identity that may \n",
    "        # be correlated with mental health or feelings of being stigmatized\n",
    "    female_responses = set(['female', 'f', 'woman', 'female (cis)', \n",
    "                            'trans-female', 'trans woman', 'female (trans)', \n",
    "                            'cis-female/femme', 'cis female', \n",
    "                            'femake', 'femail'])\n",
    "    if gender_response in male_responses:\n",
    "        return 'male'\n",
    "    elif gender_response in female_responses:\n",
    "        return 'female'\n",
    "    else:\n",
    "        return 'other'\n",
    "\n",
    "# values mapped to 'other' for this data set:\n",
    "#        ['male-ish', 'something kinda male?',\n",
    "#        'queer/she/they', 'non-binary', 'nah', 'all', 'enby', 'fluid',\n",
    "#        'genderqueer', 'androgyne', 'agender', 'guy (-ish) ^_^',\n",
    "#        'male leaning androgynous', 'neuter', 'queer',\n",
    "#        'a little about you', 'p',\n",
    "#        'ostensibly male, unsure what that really means']"
   ]
  },
  {
   "cell_type": "code",
   "execution_count": 12,
   "metadata": {
    "collapsed": true
   },
   "outputs": [],
   "source": [
    "categorized_gender_responses = df14.gender.map(categorize_gender)"
   ]
  },
  {
   "cell_type": "code",
   "execution_count": 13,
   "metadata": {
    "collapsed": false
   },
   "outputs": [
    {
     "data": {
      "text/plain": [
       "male      991\n",
       "female    250\n",
       "other      18\n",
       "Name: gender, dtype: int64"
      ]
     },
     "execution_count": 13,
     "metadata": {},
     "output_type": "execute_result"
    }
   ],
   "source": [
    "categorized_gender_responses.value_counts(dropna=False)"
   ]
  },
  {
   "cell_type": "code",
   "execution_count": 14,
   "metadata": {
    "collapsed": false
   },
   "outputs": [],
   "source": [
    "dummy_dfs['gender'] = pd.get_dummies(categorized_gender_responses, prefix='gender')"
   ]
  },
  {
   "cell_type": "markdown",
   "metadata": {},
   "source": [
    "### Yes/no questions\n",
    "\n",
    "Many of the survey questions are yes/no questions, but the data is currently stored as strings. I convert these to `1` for `Yes` and `0` for `No`.\n",
    "\n",
    "Most of the columns with three reponses have `'Yes'`, `'No'`, and `'Maybe'`, `'Don't know'`, or some other meaningful third option.  Those will be one-hot coded with dummy variables later."
   ]
  },
  {
   "cell_type": "code",
   "execution_count": 15,
   "metadata": {
    "collapsed": false,
    "scrolled": true
   },
   "outputs": [
    {
     "name": "stdout",
     "output_type": "stream",
     "text": [
      "family_history ['No' 'Yes']\n",
      "treatment ['Yes' 'No']\n",
      "remote_work ['No' 'Yes']\n",
      "tech_company ['Yes' 'No']\n",
      "obs_consequence ['No' 'Yes']\n"
     ]
    }
   ],
   "source": [
    "for col in df14.columns:\n",
    "    col_uniq = df14[col].unique()\n",
    "    if len(col_uniq) == 2:\n",
    "        print col, col_uniq"
   ]
  },
  {
   "cell_type": "code",
   "execution_count": 16,
   "metadata": {
    "collapsed": true
   },
   "outputs": [],
   "source": [
    "def yes_no_same(response):\n",
    "    if response=='Yes' or response==1:\n",
    "        return 1\n",
    "    elif response=='No' or response==0:\n",
    "        return 0\n",
    "    else:\n",
    "        return response"
   ]
  },
  {
   "cell_type": "code",
   "execution_count": 17,
   "metadata": {
    "collapsed": true
   },
   "outputs": [],
   "source": [
    "def yes_no_same_column(df, column_name):\n",
    "    df[column_name] = df[column_name].map(yes_no_same)"
   ]
  },
  {
   "cell_type": "code",
   "execution_count": 18,
   "metadata": {
    "collapsed": true
   },
   "outputs": [],
   "source": [
    "two_opt_cols = ['family_history', 'treatment', 'remote_work', 'tech_company', 'obs_consequence']\n",
    "for col in two_opt_cols:\n",
    "    yes_no_same_column(df14, col)"
   ]
  },
  {
   "cell_type": "code",
   "execution_count": 19,
   "metadata": {
    "collapsed": false
   },
   "outputs": [
    {
     "data": {
      "text/html": [
       "<div>\n",
       "<table border=\"1\" class=\"dataframe\">\n",
       "  <thead>\n",
       "    <tr style=\"text-align: right;\">\n",
       "      <th></th>\n",
       "      <th>family_history</th>\n",
       "      <th>treatment</th>\n",
       "      <th>remote_work</th>\n",
       "      <th>tech_company</th>\n",
       "      <th>obs_consequence</th>\n",
       "    </tr>\n",
       "  </thead>\n",
       "  <tbody>\n",
       "    <tr>\n",
       "      <th>0</th>\n",
       "      <td>0</td>\n",
       "      <td>1</td>\n",
       "      <td>0</td>\n",
       "      <td>1</td>\n",
       "      <td>0</td>\n",
       "    </tr>\n",
       "    <tr>\n",
       "      <th>1</th>\n",
       "      <td>0</td>\n",
       "      <td>0</td>\n",
       "      <td>0</td>\n",
       "      <td>0</td>\n",
       "      <td>0</td>\n",
       "    </tr>\n",
       "    <tr>\n",
       "      <th>2</th>\n",
       "      <td>0</td>\n",
       "      <td>0</td>\n",
       "      <td>0</td>\n",
       "      <td>1</td>\n",
       "      <td>0</td>\n",
       "    </tr>\n",
       "  </tbody>\n",
       "</table>\n",
       "</div>"
      ],
      "text/plain": [
       "   family_history  treatment  remote_work  tech_company  obs_consequence\n",
       "0               0          1            0             1                0\n",
       "1               0          0            0             0                0\n",
       "2               0          0            0             1                0"
      ]
     },
     "execution_count": 19,
     "metadata": {},
     "output_type": "execute_result"
    }
   ],
   "source": [
    "df14[two_opt_cols].head(3)"
   ]
  },
  {
   "cell_type": "markdown",
   "metadata": {},
   "source": [
    "### Yes/no/maybe and other three-option columns\n",
    "\n",
    "Many of the survey questions have yes/no/maybe or other meaningful third choices.  These columns will need one-hot coding and dummy variables."
   ]
  },
  {
   "cell_type": "code",
   "execution_count": 20,
   "metadata": {
    "collapsed": false
   },
   "outputs": [
    {
     "name": "stdout",
     "output_type": "stream",
     "text": [
      "self_employed [nan 'Yes' 'No']\n",
      "benefits ['Yes' \"Don't know\" 'No']\n",
      "care_options ['Not sure' 'No' 'Yes']\n",
      "wellness_program ['No' \"Don't know\" 'Yes']\n",
      "seek_help ['Yes' \"Don't know\" 'No']\n",
      "anonymity ['Yes' \"Don't know\" 'No']\n",
      "mental_health_consequence ['No' 'Maybe' 'Yes']\n",
      "phys_health_consequence ['No' 'Yes' 'Maybe']\n",
      "coworkers ['Some of them' 'No' 'Yes']\n",
      "supervisor ['Yes' 'No' 'Some of them']\n",
      "mental_health_interview ['No' 'Yes' 'Maybe']\n",
      "phys_health_interview ['Maybe' 'No' 'Yes']\n",
      "mental_vs_physical ['Yes' \"Don't know\" 'No']\n"
     ]
    }
   ],
   "source": [
    "three_opt_cols = [col for col in df14.columns if len(df14[col].unique()) == 3]\n",
    "\n",
    "for col in three_opt_cols:\n",
    "    print col, df14[col].unique()"
   ]
  },
  {
   "cell_type": "markdown",
   "metadata": {},
   "source": [
    "The self-employed column is a special case with some missing values. The rest of the three-option columns have three choices from which users selected.  I'll quickly handle the self-employment data by treating this as a boolean (like the two-option columns) with some missing values."
   ]
  },
  {
   "cell_type": "code",
   "execution_count": 21,
   "metadata": {
    "collapsed": false
   },
   "outputs": [
    {
     "data": {
      "text/plain": [
       " 0.0    1095\n",
       " 1.0     146\n",
       "NaN       18\n",
       "Name: self_employed, dtype: int64"
      ]
     },
     "execution_count": 21,
     "metadata": {},
     "output_type": "execute_result"
    }
   ],
   "source": [
    "yes_no_same_column(df14, 'self_employed')\n",
    "df14.self_employed.value_counts(dropna=False)"
   ]
  },
  {
   "cell_type": "markdown",
   "metadata": {},
   "source": [
    "#### Care Options"
   ]
  },
  {
   "cell_type": "code",
   "execution_count": 23,
   "metadata": {
    "collapsed": false
   },
   "outputs": [
    {
     "name": "stdout",
     "output_type": "stream",
     "text": [
      "Do you know the options for mental health care your employer provides?\n",
      "No          501\n",
      "Yes         444\n",
      "Not sure    314\n",
      "Name: care_options, dtype: int64\n"
     ]
    }
   ],
   "source": [
    "print col_question_map['care_options']\n",
    "print df14['care_options'].value_counts(dropna=False)"
   ]
  },
  {
   "cell_type": "code",
   "execution_count": 41,
   "metadata": {
    "collapsed": true
   },
   "outputs": [],
   "source": [
    "def get_prefix(response):\n",
    "    if type(response) != str:\n",
    "        return response\n",
    "    else:\n",
    "        return response.lower().replace(\" \", \"_\").replace(\"'\", \"\")"
   ]
  },
  {
   "cell_type": "code",
   "execution_count": 42,
   "metadata": {
    "collapsed": false
   },
   "outputs": [],
   "source": [
    "# # @TODO explanatory comment\n",
    "# def format_y_n_other(df, col_name, other_dict):\n",
    "#     def format_response(response):\n",
    "#         if response in ['Yes', 'No', 'yes', 'no']:\n",
    "#             return response.lower()\n",
    "#         elif response in other_dict:\n",
    "#             return other_dict[response]\n",
    "#         else:\n",
    "#             # if already replaced (response in other_dict.values())\n",
    "#             # or if completely unrecognized\n",
    "#             return response\n",
    "#     df[col_name] = df[col_name].map(format_response)"
   ]
  },
  {
   "cell_type": "code",
   "execution_count": 43,
   "metadata": {
    "collapsed": false,
    "scrolled": true
   },
   "outputs": [
    {
     "name": "stdout",
     "output_type": "stream",
     "text": [
      "['not_sure' 'no' 'yes']\n"
     ]
    }
   ],
   "source": [
    "df14['care_options'] = df14['care_options'].map(get_prefix)\n",
    "print df14.care_options.unique()"
   ]
  },
  {
   "cell_type": "markdown",
   "metadata": {},
   "source": [
    "#### Other \"Three Option\" Columns"
   ]
  },
  {
   "cell_type": "code",
   "execution_count": 44,
   "metadata": {
    "collapsed": false
   },
   "outputs": [
    {
     "data": {
      "text/plain": [
       "['self_employed',\n",
       " 'benefits',\n",
       " 'care_options',\n",
       " 'wellness_program',\n",
       " 'seek_help',\n",
       " 'anonymity',\n",
       " 'mental_health_consequence',\n",
       " 'phys_health_consequence',\n",
       " 'coworkers',\n",
       " 'supervisor',\n",
       " 'mental_health_interview',\n",
       " 'phys_health_interview',\n",
       " 'mental_vs_physical']"
      ]
     },
     "execution_count": 44,
     "metadata": {},
     "output_type": "execute_result"
    }
   ],
   "source": [
    "# dontknow_cols = ['benefits', 'wellness_program', 'seek_help', 'anonymity', \n",
    "#            'mental_vs_physical']\n",
    "# for col in dontknow_cols:\n",
    "#     format_y_n_other(df14, col, { \"Don't know\": 'dontknow' })\n",
    "    \n",
    "# maybe_cols = ['mental_health_consequence', 'phys_health_consequence',\n",
    "#             'mental_health_interview', 'phys_health_interview']\n",
    "# for col in maybe_cols:\n",
    "#     format_y_n_other(df14, col, { 'Maybe': 'maybe' })\n",
    "\n",
    "# some_cols = ['coworkers', 'supervisor']        \n",
    "# for col in some_cols:\n",
    "#     format_y_n_other(df14, col, { 'Some of them': 'some' })           \n",
    "three_opt_cols"
   ]
  },
  {
   "cell_type": "code",
   "execution_count": 45,
   "metadata": {
    "collapsed": false
   },
   "outputs": [
    {
     "name": "stdout",
     "output_type": "stream",
     "text": [
      "[ nan   1.   0.]\n",
      "['yes' 'dont_know' 'no']\n",
      "['not_sure' 'no' 'yes']\n",
      "['no' 'dont_know' 'yes']\n",
      "['yes' 'dont_know' 'no']\n",
      "['yes' 'dont_know' 'no']\n",
      "['no' 'maybe' 'yes']\n",
      "['no' 'yes' 'maybe']\n",
      "['some_of_them' 'no' 'yes']\n",
      "['yes' 'no' 'some_of_them']\n",
      "['no' 'yes' 'maybe']\n",
      "['maybe' 'no' 'yes']\n",
      "['yes' 'dont_know' 'no']\n"
     ]
    }
   ],
   "source": [
    "a = df14.copy()\n",
    "for col in three_opt_cols:\n",
    "    a[col] = a[col].map(get_prefix)\n",
    "    print a[col].unique()"
   ]
  },
  {
   "cell_type": "code",
   "execution_count": 46,
   "metadata": {
    "collapsed": true
   },
   "outputs": [],
   "source": [
    "if three_opt_cols[0] == 'self_employed':\n",
    "    three_opt_cols.pop(0)\n",
    "for col in three_opt_cols:\n",
    "    dummy_dfs[col] = pd.get_dummies(df14[col], prefix=col)"
   ]
  },
  {
   "cell_type": "code",
   "execution_count": 47,
   "metadata": {
    "collapsed": false
   },
   "outputs": [
    {
     "data": {
      "text/plain": [
       "['wellness_program',\n",
       " 'benefits',\n",
       " 'seek_help',\n",
       " 'gender',\n",
       " 'mental_vs_physical',\n",
       " 'care_options',\n",
       " 'phys_health_interview',\n",
       " 'coworkers',\n",
       " 'mental_health_consequence',\n",
       " 'anonymity',\n",
       " 'supervisor',\n",
       " 'mental_health_interview',\n",
       " 'phys_health_consequence']"
      ]
     },
     "execution_count": 47,
     "metadata": {},
     "output_type": "execute_result"
    }
   ],
   "source": [
    "dummy_dfs.keys()"
   ]
  },
  {
   "cell_type": "markdown",
   "metadata": {},
   "source": [
    "**At this point**, the `dummy_dfs` dictionary holds dummy variable sets for all three-option columns as well as `gender`."
   ]
  },
  {
   "cell_type": "markdown",
   "metadata": {},
   "source": [
    "### Other categorical variables"
   ]
  },
  {
   "cell_type": "code",
   "execution_count": 49,
   "metadata": {
    "collapsed": false
   },
   "outputs": [
    {
     "name": "stdout",
     "output_type": "stream",
     "text": [
      "age has 8 NaNs\n",
      "state has 515 NaNs\n",
      "self_employed has 18 NaNs\n",
      "work_interfere has 264 NaNs\n",
      "comments has 1095 NaNs\n"
     ]
    }
   ],
   "source": [
    "# quick NaN check\n",
    "counts = df14.count()\n",
    "numrows = df14.shape[0]\n",
    "for col in df14.columns:\n",
    "    if counts[col] != numrows:\n",
    "        print \"{0} has {1} NaNs\".format(col, numrows-counts[col])"
   ]
  },
  {
   "cell_type": "markdown",
   "metadata": {},
   "source": [
    "#### Country & State"
   ]
  },
  {
   "cell_type": "code",
   "execution_count": 61,
   "metadata": {
    "collapsed": false
   },
   "outputs": [
    {
     "name": "stdout",
     "output_type": "stream",
     "text": [
      "0    united_states\n",
      "1    united_states\n",
      "2           canada\n",
      "Name: country, dtype: object\n"
     ]
    }
   ],
   "source": [
    "countries = df14['country'].map(get_prefix)\n",
    "print countries.head(3)"
   ]
  },
  {
   "cell_type": "code",
   "execution_count": 62,
   "metadata": {
    "collapsed": true
   },
   "outputs": [],
   "source": [
    "dummy_dfs['country'] = pd.get_dummies(countries)\n",
    "# dummy_dfs['country'].head(3)"
   ]
  },
  {
   "cell_type": "code",
   "execution_count": 63,
   "metadata": {
    "collapsed": false
   },
   "outputs": [
    {
     "data": {
      "text/html": [
       "<div>\n",
       "<table border=\"1\" class=\"dataframe\">\n",
       "  <thead>\n",
       "    <tr style=\"text-align: right;\">\n",
       "      <th></th>\n",
       "      <th>state_AL</th>\n",
       "      <th>state_AZ</th>\n",
       "      <th>state_CA</th>\n",
       "      <th>state_CO</th>\n",
       "      <th>state_CT</th>\n",
       "      <th>state_DC</th>\n",
       "      <th>state_FL</th>\n",
       "      <th>state_GA</th>\n",
       "      <th>state_IA</th>\n",
       "      <th>state_ID</th>\n",
       "      <th>...</th>\n",
       "      <th>state_TN</th>\n",
       "      <th>state_TX</th>\n",
       "      <th>state_UT</th>\n",
       "      <th>state_VA</th>\n",
       "      <th>state_VT</th>\n",
       "      <th>state_WA</th>\n",
       "      <th>state_WI</th>\n",
       "      <th>state_WV</th>\n",
       "      <th>state_WY</th>\n",
       "      <th>state_nan</th>\n",
       "    </tr>\n",
       "  </thead>\n",
       "  <tbody>\n",
       "    <tr>\n",
       "      <th>0</th>\n",
       "      <td>0</td>\n",
       "      <td>0</td>\n",
       "      <td>0</td>\n",
       "      <td>0</td>\n",
       "      <td>0</td>\n",
       "      <td>0</td>\n",
       "      <td>0</td>\n",
       "      <td>0</td>\n",
       "      <td>0</td>\n",
       "      <td>0</td>\n",
       "      <td>...</td>\n",
       "      <td>0</td>\n",
       "      <td>0</td>\n",
       "      <td>0</td>\n",
       "      <td>0</td>\n",
       "      <td>0</td>\n",
       "      <td>0</td>\n",
       "      <td>0</td>\n",
       "      <td>0</td>\n",
       "      <td>0</td>\n",
       "      <td>0</td>\n",
       "    </tr>\n",
       "    <tr>\n",
       "      <th>1</th>\n",
       "      <td>0</td>\n",
       "      <td>0</td>\n",
       "      <td>0</td>\n",
       "      <td>0</td>\n",
       "      <td>0</td>\n",
       "      <td>0</td>\n",
       "      <td>0</td>\n",
       "      <td>0</td>\n",
       "      <td>0</td>\n",
       "      <td>0</td>\n",
       "      <td>...</td>\n",
       "      <td>0</td>\n",
       "      <td>0</td>\n",
       "      <td>0</td>\n",
       "      <td>0</td>\n",
       "      <td>0</td>\n",
       "      <td>0</td>\n",
       "      <td>0</td>\n",
       "      <td>0</td>\n",
       "      <td>0</td>\n",
       "      <td>0</td>\n",
       "    </tr>\n",
       "    <tr>\n",
       "      <th>2</th>\n",
       "      <td>0</td>\n",
       "      <td>0</td>\n",
       "      <td>0</td>\n",
       "      <td>0</td>\n",
       "      <td>0</td>\n",
       "      <td>0</td>\n",
       "      <td>0</td>\n",
       "      <td>0</td>\n",
       "      <td>0</td>\n",
       "      <td>0</td>\n",
       "      <td>...</td>\n",
       "      <td>0</td>\n",
       "      <td>0</td>\n",
       "      <td>0</td>\n",
       "      <td>0</td>\n",
       "      <td>0</td>\n",
       "      <td>0</td>\n",
       "      <td>0</td>\n",
       "      <td>0</td>\n",
       "      <td>0</td>\n",
       "      <td>1</td>\n",
       "    </tr>\n",
       "  </tbody>\n",
       "</table>\n",
       "<p>3 rows × 46 columns</p>\n",
       "</div>"
      ],
      "text/plain": [
       "   state_AL  state_AZ  state_CA  state_CO  state_CT  state_DC  state_FL  \\\n",
       "0         0         0         0         0         0         0         0   \n",
       "1         0         0         0         0         0         0         0   \n",
       "2         0         0         0         0         0         0         0   \n",
       "\n",
       "   state_GA  state_IA  state_ID    ...      state_TN  state_TX  state_UT  \\\n",
       "0         0         0         0    ...             0         0         0   \n",
       "1         0         0         0    ...             0         0         0   \n",
       "2         0         0         0    ...             0         0         0   \n",
       "\n",
       "   state_VA  state_VT  state_WA  state_WI  state_WV  state_WY  state_nan  \n",
       "0         0         0         0         0         0         0          0  \n",
       "1         0         0         0         0         0         0          0  \n",
       "2         0         0         0         0         0         0          1  \n",
       "\n",
       "[3 rows x 46 columns]"
      ]
     },
     "execution_count": 63,
     "metadata": {},
     "output_type": "execute_result"
    }
   ],
   "source": [
    "dummy_dfs['state'] = pd.get_dummies(df14.state, prefix='state', dummy_na=True)\n",
    "dummy_dfs['state'].head(3)\n",
    "# baseline is nan states"
   ]
  },
  {
   "cell_type": "markdown",
   "metadata": {},
   "source": [
    "#### If you have a mental health condition, do you feel that it interferes with your work?"
   ]
  },
  {
   "cell_type": "code",
   "execution_count": 64,
   "metadata": {
    "collapsed": false
   },
   "outputs": [
    {
     "name": "stdout",
     "output_type": "stream",
     "text": [
      "If you have a mental health condition, do you feel that it interferes with your work?\n"
     ]
    },
    {
     "data": {
      "text/plain": [
       "Sometimes    465\n",
       "NaN          264\n",
       "Never        213\n",
       "Rarely       173\n",
       "Often        144\n",
       "Name: work_interfere, dtype: int64"
      ]
     },
     "execution_count": 64,
     "metadata": {},
     "output_type": "execute_result"
    }
   ],
   "source": [
    "print col_question_map['work_interfere']\n",
    "df14['work_interfere'].value_counts(dropna=False)"
   ]
  },
  {
   "cell_type": "code",
   "execution_count": 79,
   "metadata": {
    "collapsed": false
   },
   "outputs": [],
   "source": [
    "df14['work_interfere'] = df14['work_interfere'].map(get_prefix)\n",
    "# df14['work_interfere'].value_counts(dropna=False)"
   ]
  },
  {
   "cell_type": "code",
   "execution_count": 80,
   "metadata": {
    "collapsed": false
   },
   "outputs": [],
   "source": [
    "dummy_dfs['work_interfere'] = pd.get_dummies(\n",
    "    df14.work_interfere, \n",
    "    prefix='work_interfere',\n",
    "    dummy_na=True   # singificant amount of rows with this data missing\n",
    ")"
   ]
  },
  {
   "cell_type": "markdown",
   "metadata": {},
   "source": [
    "#### How many employees does your company or organization have?"
   ]
  },
  {
   "cell_type": "code",
   "execution_count": 107,
   "metadata": {
    "collapsed": false
   },
   "outputs": [
    {
     "name": "stdout",
     "output_type": "stream",
     "text": [
      "How many employees does your company or organization have?\n"
     ]
    },
    {
     "data": {
      "text/plain": [
       "6-25        290\n",
       "26-100      289\n",
       "1000+       282\n",
       "100-500     176\n",
       "1-5         162\n",
       "500-1000     60\n",
       "Name: num_employees, dtype: int64"
      ]
     },
     "execution_count": 107,
     "metadata": {},
     "output_type": "execute_result"
    }
   ],
   "source": [
    "print col_question_map['num_employees']\n",
    "df14.num_employees.value_counts(dropna=False)"
   ]
  },
  {
   "cell_type": "code",
   "execution_count": 108,
   "metadata": {
    "collapsed": false
   },
   "outputs": [
    {
     "name": "stdout",
     "output_type": "stream",
     "text": [
      "['6-25' '1000+' '26-100' '100-500' '1-5' '500-1000']\n"
     ]
    }
   ],
   "source": [
    "df14.num_employees = df14.num_employees.map(lambda x: '1000+' if x=='More than 1000' else x)\n",
    "print df14.num_employees.unique()"
   ]
  },
  {
   "cell_type": "code",
   "execution_count": 109,
   "metadata": {
    "collapsed": false
   },
   "outputs": [],
   "source": [
    "dummy_dfs['num_employees'] = pd.get_dummies(df14.num_employees, prefix='num_employees')\n",
    "# dummy_dfs['num_employees'].head(3)"
   ]
  },
  {
   "cell_type": "markdown",
   "metadata": {},
   "source": [
    "#### How easy is it for you to take medical leave for a mental health condition?"
   ]
  },
  {
   "cell_type": "code",
   "execution_count": 110,
   "metadata": {
    "collapsed": false
   },
   "outputs": [
    {
     "name": "stdout",
     "output_type": "stream",
     "text": [
      "How easy is it for you to take medical leave for a mental health condition?\n"
     ]
    },
    {
     "data": {
      "text/plain": [
       "dont_know             563\n",
       "somewhat_easy         266\n",
       "very_easy             206\n",
       "somewhat_difficult    126\n",
       "very_difficult         98\n",
       "Name: leave, dtype: int64"
      ]
     },
     "execution_count": 110,
     "metadata": {},
     "output_type": "execute_result"
    }
   ],
   "source": [
    "print col_question_map['leave']\n",
    "df14.leave.value_counts(dropna=False)"
   ]
  },
  {
   "cell_type": "code",
   "execution_count": 112,
   "metadata": {
    "collapsed": false
   },
   "outputs": [
    {
     "name": "stdout",
     "output_type": "stream",
     "text": [
      "['somewhat_easy' 'dont_know' 'somewhat_difficult' 'very_difficult'\n",
      " 'very_easy']\n"
     ]
    }
   ],
   "source": [
    "df14.leave = df14.leave.map(get_prefix)\n",
    "print df14.leave.unique()"
   ]
  },
  {
   "cell_type": "code",
   "execution_count": 113,
   "metadata": {
    "collapsed": false
   },
   "outputs": [],
   "source": [
    "dummy_dfs['leave'] = pd.get_dummies(df14.leave, prefix='leave')\n",
    "# dummy_dfs['leave'].head(2)"
   ]
  },
  {
   "cell_type": "markdown",
   "metadata": {},
   "source": [
    "### Timestamps\n",
    "\n",
    "Timestamps are time series data. Mostly ignoring them for now."
   ]
  },
  {
   "cell_type": "code",
   "execution_count": 143,
   "metadata": {
    "collapsed": false,
    "scrolled": false
   },
   "outputs": [
    {
     "name": "stdout",
     "output_type": "stream",
     "text": [
      "2014-08-27 11:29:31\n",
      "2016-02-01 23:04:31\n"
     ]
    }
   ],
   "source": [
    "first = df14.timestamp.min()\n",
    "last = df14.timestamp.max()\n",
    "print first\n",
    "print last"
   ]
  },
  {
   "cell_type": "code",
   "execution_count": 157,
   "metadata": {
    "collapsed": false
   },
   "outputs": [
    {
     "data": {
      "text/plain": [
       "Timedelta('523 days 11:35:00')"
      ]
     },
     "execution_count": 157,
     "metadata": {},
     "output_type": "execute_result"
    }
   ],
   "source": [
    "first = pd.to_datetime(first)\n",
    "last = pd.to_datetime(last)\n",
    "last - first"
   ]
  },
  {
   "cell_type": "code",
   "execution_count": 159,
   "metadata": {
    "collapsed": false
   },
   "outputs": [],
   "source": [
    "df14['timestamp'] = df14['timestamp'].map(pd.to_datetime)"
   ]
  },
  {
   "cell_type": "code",
   "execution_count": 187,
   "metadata": {
    "collapsed": false,
    "scrolled": true
   },
   "outputs": [
    {
     "data": {
      "text/plain": [
       "<matplotlib.text.Text at 0x122475a50>"
      ]
     },
     "execution_count": 187,
     "metadata": {},
     "output_type": "execute_result"
    },
    {
     "data": {
      "image/png": "[encoded data removed]",
      "text/plain": [
       "<matplotlib.figure.Figure at 0x11c932510>"
      ]
     },
     "metadata": {},
     "output_type": "display_data"
    }
   ],
   "source": [
    "# using family_history (which has no NaNs as a standin for total submissions)\n",
    "submit_date_counts = df14['family_history'].groupby([df14['timestamp'].dt.year, df14['timestamp'].dt.month]).count()\n",
    "p = submit_date_counts.plot(kind='bar', title='Survey Submissions by Month')\n",
    "p.set_xlabel('year, month')\n",
    "p.set_ylabel('number of submissions')"
   ]
  },
  {
   "cell_type": "code",
   "execution_count": 212,
   "metadata": {
    "collapsed": false
   },
   "outputs": [
    {
     "data": {
      "text/plain": [
       "<matplotlib.text.Text at 0x1230f0c10>"
      ]
     },
     "execution_count": 212,
     "metadata": {},
     "output_type": "execute_result"
    },
    {
     "data": {
      "image/png": "[encoded data removed]",
      "text/plain": [
       "<matplotlib.figure.Figure at 0x122e2a890>"
      ]
     },
     "metadata": {},
     "output_type": "display_data"
    }
   ],
   "source": [
    "# using family_history (which has no NaNs as a standin for total submissions)\n",
    "aug14 = df14[(df14['timestamp'].dt.year==2014)]\n",
    "aug14 = aug14[(aug14['timestamp'].dt.month==8)]\n",
    "submit_date_counts = aug14['family_history'].groupby(aug14['timestamp'].dt.day).count()\n",
    "p = submit_date_counts.plot(kind='bar', title='Survey Submissions by Day in Aug 2014')\n",
    "p.set_xlabel('day in August 2014')\n",
    "p.set_ylabel('number of submissions')\n",
    "# aug14_subs"
   ]
  },
  {
   "cell_type": "markdown",
   "metadata": {},
   "source": [
    "Most of the survey data was collected over 2-3 days in August, 2014."
   ]
  },
  {
   "cell_type": "markdown",
   "metadata": {},
   "source": [
    "### Comments\n",
    "Comments are natural language. Ignoring them for now."
   ]
  },
  {
   "cell_type": "code",
   "execution_count": 218,
   "metadata": {
    "collapsed": false
   },
   "outputs": [
    {
     "name": "stdout",
     "output_type": "stream",
     "text": [
      "164\n",
      "1095\n",
      "147\n"
     ]
    }
   ],
   "source": [
    "num_comments = df14.comments.count()\n",
    "print num_comments\n",
    "print df14.shape[0] - num_comments\n",
    "print aug14.comments.count()"
   ]
  },
  {
   "cell_type": "markdown",
   "metadata": {},
   "source": [
    "## A Model\n"
   ]
  },
  {
   "cell_type": "code",
   "execution_count": 235,
   "metadata": {
    "collapsed": false
   },
   "outputs": [
    {
     "name": "stdout",
     "output_type": "stream",
     "text": [
      "Index([u'timestamp', u'age', u'gender', u'country', u'state', u'self_employed',\n",
      "       u'family_history', u'treatment', u'work_interfere', u'num_employees',\n",
      "       u'remote_work', u'tech_company', u'benefits', u'care_options',\n",
      "       u'wellness_program', u'seek_help', u'anonymity', u'leave',\n",
      "       u'mental_health_consequence', u'phys_health_consequence', u'coworkers',\n",
      "       u'supervisor', u'mental_health_interview', u'phys_health_interview',\n",
      "       u'mental_vs_physical', u'obs_consequence', u'comments'],\n",
      "      dtype='object')\n"
     ]
    }
   ],
   "source": [
    "# dummies = dummy_dfs.keys()\n",
    "# print dummies\n",
    "# feature_count = df14.shape[1]\n",
    "# for key in dummies:\n",
    "#     feature_count += dummy_dfs[key].shape[1]\n",
    "# print feature_count\n",
    "print df14.columns"
   ]
  },
  {
   "cell_type": "code",
   "execution_count": 226,
   "metadata": {
    "collapsed": false
   },
   "outputs": [],
   "source": [
    "df = df14.copy()"
   ]
  },
  {
   "cell_type": "code",
   "execution_count": 234,
   "metadata": {
    "collapsed": false
   },
   "outputs": [
    {
     "data": {
      "text/plain": [
       "'How many employees does your company or organization have?'"
      ]
     },
     "execution_count": 234,
     "metadata": {},
     "output_type": "execute_result"
    }
   ],
   "source": [
    "col_question_map['num_employees']"
   ]
  },
  {
   "cell_type": "code",
   "execution_count": 236,
   "metadata": {
    "collapsed": false
   },
   "outputs": [
    {
     "data": {
      "text/plain": [
       "'Is your employer primarily a tech company/organization?'"
      ]
     },
     "execution_count": 236,
     "metadata": {},
     "output_type": "execute_result"
    }
   ],
   "source": [
    "col_question_map['tech_company']"
   ]
  },
  {
   "cell_type": "code",
   "execution_count": 248,
   "metadata": {
    "collapsed": false
   },
   "outputs": [
    {
     "data": {
      "text/html": [
       "<div>\n",
       "<table border=\"1\" class=\"dataframe\">\n",
       "  <thead>\n",
       "    <tr style=\"text-align: right;\">\n",
       "      <th></th>\n",
       "      <th>tech_company</th>\n",
       "      <th>num_employees_1-5</th>\n",
       "      <th>num_employees_100-500</th>\n",
       "      <th>num_employees_1000+</th>\n",
       "      <th>num_employees_26-100</th>\n",
       "      <th>num_employees_500-1000</th>\n",
       "      <th>num_employees_6-25</th>\n",
       "      <th>australia</th>\n",
       "      <th>austria</th>\n",
       "      <th>bahamas,_the</th>\n",
       "      <th>...</th>\n",
       "      <th>slovenia</th>\n",
       "      <th>south_africa</th>\n",
       "      <th>spain</th>\n",
       "      <th>sweden</th>\n",
       "      <th>switzerland</th>\n",
       "      <th>thailand</th>\n",
       "      <th>united_kingdom</th>\n",
       "      <th>united_states</th>\n",
       "      <th>uruguay</th>\n",
       "      <th>zimbabwe</th>\n",
       "    </tr>\n",
       "  </thead>\n",
       "  <tbody>\n",
       "    <tr>\n",
       "      <th>0</th>\n",
       "      <td>1</td>\n",
       "      <td>0</td>\n",
       "      <td>0</td>\n",
       "      <td>0</td>\n",
       "      <td>0</td>\n",
       "      <td>0</td>\n",
       "      <td>1</td>\n",
       "      <td>0</td>\n",
       "      <td>0</td>\n",
       "      <td>0</td>\n",
       "      <td>...</td>\n",
       "      <td>0</td>\n",
       "      <td>0</td>\n",
       "      <td>0</td>\n",
       "      <td>0</td>\n",
       "      <td>0</td>\n",
       "      <td>0</td>\n",
       "      <td>0</td>\n",
       "      <td>1</td>\n",
       "      <td>0</td>\n",
       "      <td>0</td>\n",
       "    </tr>\n",
       "    <tr>\n",
       "      <th>1</th>\n",
       "      <td>0</td>\n",
       "      <td>0</td>\n",
       "      <td>0</td>\n",
       "      <td>1</td>\n",
       "      <td>0</td>\n",
       "      <td>0</td>\n",
       "      <td>0</td>\n",
       "      <td>0</td>\n",
       "      <td>0</td>\n",
       "      <td>0</td>\n",
       "      <td>...</td>\n",
       "      <td>0</td>\n",
       "      <td>0</td>\n",
       "      <td>0</td>\n",
       "      <td>0</td>\n",
       "      <td>0</td>\n",
       "      <td>0</td>\n",
       "      <td>0</td>\n",
       "      <td>1</td>\n",
       "      <td>0</td>\n",
       "      <td>0</td>\n",
       "    </tr>\n",
       "  </tbody>\n",
       "</table>\n",
       "<p>2 rows × 55 columns</p>\n",
       "</div>"
      ],
      "text/plain": [
       "   tech_company  num_employees_1-5  num_employees_100-500  \\\n",
       "0             1                  0                      0   \n",
       "1             0                  0                      0   \n",
       "\n",
       "   num_employees_1000+  num_employees_26-100  num_employees_500-1000  \\\n",
       "0                    0                     0                       0   \n",
       "1                    1                     0                       0   \n",
       "\n",
       "   num_employees_6-25  australia  austria  bahamas,_the    ...     slovenia  \\\n",
       "0                   1          0        0             0    ...            0   \n",
       "1                   0          0        0             0    ...            0   \n",
       "\n",
       "   south_africa  spain  sweden  switzerland  thailand  united_kingdom  \\\n",
       "0             0      0       0            0         0               0   \n",
       "1             0      0       0            0         0               0   \n",
       "\n",
       "   united_states  uruguay  zimbabwe  \n",
       "0              1        0         0  \n",
       "1              1        0         0  \n",
       "\n",
       "[2 rows x 55 columns]"
      ]
     },
     "execution_count": 248,
     "metadata": {},
     "output_type": "execute_result"
    }
   ],
   "source": [
    "X = pd.concat([df[['tech_company']], dummy_dfs['num_employees'], dummy_dfs['country']], axis=1)\n",
    "X.head(2)"
   ]
  },
  {
   "cell_type": "code",
   "execution_count": 251,
   "metadata": {
    "collapsed": false
   },
   "outputs": [
    {
     "data": {
      "text/plain": [
       "{'age': 'Age',\n",
       " 'anonymity': 'Is your anonymity protected if you choose to take advantage of mental health or substance abuse treatment resources?',\n",
       " 'benefits': 'Does your employer provide mental health benefits?',\n",
       " 'care_options': 'Do you know the options for mental health care your employer provides?',\n",
       " 'country': 'Country',\n",
       " 'coworkers': 'Would you be willing to discuss a mental health issue with your coworkers?',\n",
       " 'family_history': 'Do you have a family history of mental illness?',\n",
       " 'gender': 'Gender',\n",
       " 'leave': 'How easy is it for you to take medical leave for a mental health condition?',\n",
       " 'mental_health_consequence': 'Do you think that discussing a mental health issue with your employer would have negative consequences?',\n",
       " 'mental_health_interview': 'Would you bring up a mental health issue with a potential employer in an interview?',\n",
       " 'mental_vs_physical': 'Do you feel that your employer takes mental health as seriously as physical health?',\n",
       " 'num_employees': 'How many employees does your company or organization have?',\n",
       " 'obs_consequence': 'Have you heard of or observed negative consequences for coworkers with mental health conditions in your workplace?',\n",
       " 'phys_health_consequence': 'Do you think that discussing a physical health issue with your employer would have negative consequences?',\n",
       " 'phys_health_interview': 'Would you bring up a physical health issue with a potential employer in an interview?',\n",
       " 'remote_work': 'Do you work remotely (outside of an office) at least 50% of the time?',\n",
       " 'seek_help': 'Does your employer provide resources to learn more about mental health issues and how to seek help?',\n",
       " 'self_employed': 'Are you self-employed?',\n",
       " 'state': 'If you live in the United States, which state or territory do you live in?',\n",
       " 'supervisor': 'Would you be willing to discuss a mental health issue with your direct supervisor(s)?',\n",
       " 'tech_company': 'Is your employer primarily a tech company/organization?',\n",
       " 'timestamp': 'Timestamp',\n",
       " 'treatment': 'Have you sought treatment for a mental health condition?',\n",
       " 'wellness_program': 'Has your employer ever discussed mental health as part of an employee wellness program?',\n",
       " 'work_interfere': 'If you have a mental health condition, do you feel that it interferes with your work?'}"
      ]
     },
     "execution_count": 251,
     "metadata": {},
     "output_type": "execute_result"
    }
   ],
   "source": [
    "col_question_map\n"
   ]
  },
  {
   "cell_type": "code",
   "execution_count": 230,
   "metadata": {
    "collapsed": false
   },
   "outputs": [
    {
     "data": {
      "text/plain": [
       "'Do you think that discussing a mental health issue with your employer would have negative consequences?'"
      ]
     },
     "execution_count": 230,
     "metadata": {},
     "output_type": "execute_result"
    }
   ],
   "source": [
    "col_question_map['mental_health_consequence']"
   ]
  },
  {
   "cell_type": "code",
   "execution_count": 250,
   "metadata": {
    "collapsed": false
   },
   "outputs": [],
   "source": [
    "y = df['mental_health_consequence']"
   ]
  },
  {
   "cell_type": "code",
   "execution_count": null,
   "metadata": {
    "collapsed": true
   },
   "outputs": [],
   "source": []
  }
 ],
 "metadata": {
  "kernelspec": {
   "display_name": "Python 2",
   "language": "python",
   "name": "python2"
  },
  "language_info": {
   "codemirror_mode": {
    "name": "ipython",
    "version": 2
   },
   "file_extension": ".py",
   "mimetype": "text/x-python",
   "name": "python",
   "nbconvert_exporter": "python",
   "pygments_lexer": "ipython2",
   "version": "2.7.13"
  }
 },
 "nbformat": 4,
 "nbformat_minor": 0
}
