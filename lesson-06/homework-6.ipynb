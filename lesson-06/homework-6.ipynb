{
 "cells": [
  {
   "cell_type": "markdown",
   "metadata": {},
   "source": [
    "## Assignment\n",
    "\n",
    "### Part I\n",
    "\n",
    "#### Clean your data\n",
    "\n",
    "+ Read in temp_data.txt\n",
    "    + It won't be easy! You'll need to find a way to clean the data\n",
    "    + Try opening the file in a text editor first\n",
    "+ Read in temp_X.csv\n",
    "+ Merge the X variable from temp_X with the data from temp_data\n",
    "+ Note that we discussed this in class, but it's something you'll just need to practice on your own. \n",
    "+ You will struggle with this and it's ok\n",
    "+ Check out the documentation for read_csv() in the pandas package\n",
    "\n",
    "\n",
    "### Part II\n",
    "\n",
    "#### Run a linear regression\n",
    "+ Using X to predict temperature \n",
    "+ Interpret your coefficients!\n",
    "+ What is one potential use for this linear regression equation? \n",
    "+ What does this linear regression mean? \n",
    "+ Is this a good model? Why or why not? \n",
    "\n",
    "    \n"
   ]
  },
  {
   "cell_type": "code",
   "execution_count": 2,
   "metadata": {
    "collapsed": false
   },
   "outputs": [],
   "source": [
    "import numpy as np\n",
    "import pandas as pd"
   ]
  },
  {
   "cell_type": "code",
   "execution_count": 3,
   "metadata": {
    "collapsed": false
   },
   "outputs": [
    {
     "data": {
      "text/html": [
       "<div>\n",
       "<table border=\"1\" class=\"dataframe\">\n",
       "  <thead>\n",
       "    <tr style=\"text-align: right;\">\n",
       "      <th></th>\n",
       "      <th>Station ID</th>\n",
       "      <th>Series Number</th>\n",
       "      <th>Date</th>\n",
       "      <th>Temperature (C)</th>\n",
       "      <th>Uncertainty (C)</th>\n",
       "      <th>Observations</th>\n",
       "      <th>Time of Observation</th>\n",
       "    </tr>\n",
       "  </thead>\n",
       "  <tbody>\n",
       "    <tr>\n",
       "      <th>0</th>\n",
       "      <td>25398</td>\n",
       "      <td>1</td>\n",
       "      <td>1986.708</td>\n",
       "      <td>26.611</td>\n",
       "      <td>0.0507</td>\n",
       "      <td>30</td>\n",
       "      <td>24</td>\n",
       "    </tr>\n",
       "    <tr>\n",
       "      <th>1</th>\n",
       "      <td>25398</td>\n",
       "      <td>1</td>\n",
       "      <td>1986.875</td>\n",
       "      <td>27.593</td>\n",
       "      <td>0.0507</td>\n",
       "      <td>30</td>\n",
       "      <td>24</td>\n",
       "    </tr>\n",
       "    <tr>\n",
       "      <th>2</th>\n",
       "      <td>25398</td>\n",
       "      <td>1</td>\n",
       "      <td>1986.958</td>\n",
       "      <td>28.226</td>\n",
       "      <td>0.0499</td>\n",
       "      <td>31</td>\n",
       "      <td>24</td>\n",
       "    </tr>\n",
       "    <tr>\n",
       "      <th>3</th>\n",
       "      <td>25398</td>\n",
       "      <td>1</td>\n",
       "      <td>1987.042</td>\n",
       "      <td>27.581</td>\n",
       "      <td>0.0499</td>\n",
       "      <td>31</td>\n",
       "      <td>24</td>\n",
       "    </tr>\n",
       "    <tr>\n",
       "      <th>4</th>\n",
       "      <td>25398</td>\n",
       "      <td>1</td>\n",
       "      <td>1987.125</td>\n",
       "      <td>27.996</td>\n",
       "      <td>0.0525</td>\n",
       "      <td>28</td>\n",
       "      <td>24</td>\n",
       "    </tr>\n",
       "  </tbody>\n",
       "</table>\n",
       "</div>"
      ],
      "text/plain": [
       "   Station ID  Series Number      Date  Temperature (C)  Uncertainty (C)  \\\n",
       "0       25398              1  1986.708           26.611           0.0507   \n",
       "1       25398              1  1986.875           27.593           0.0507   \n",
       "2       25398              1  1986.958           28.226           0.0499   \n",
       "3       25398              1  1987.042           27.581           0.0499   \n",
       "4       25398              1  1987.125           27.996           0.0525   \n",
       "\n",
       "   Observations  Time of Observation  \n",
       "0            30                   24  \n",
       "1            30                   24  \n",
       "2            31                   24  \n",
       "3            31                   24  \n",
       "4            28                   24  "
      ]
     },
     "execution_count": 3,
     "metadata": {},
     "output_type": "execute_result"
    }
   ],
   "source": [
    "# Read in temp_data.txt\n",
    "temp_config = { \n",
    "    'filepath': '../../DS-SF-32/lessons/lesson-6/temp_data.txt', \n",
    "    'separator': '\\s+' ,\n",
    "    'header': None,\n",
    "    'names': ['Station ID', 'Series Number', 'Date', 'Temperature (C)', 'Uncertainty (C)', 'Observations', 'Time of Observation'],\n",
    "    'skip_rows': 111\n",
    "}\n",
    "\n",
    "temps = pd.read_csv(temp_config['filepath'], skiprows=temp_config['skip_rows'], sep=temp_config['separator'], header=temp_config['header'], names=temp_config['names'])\n",
    "\n",
    "temps.head()\n"
   ]
  },
  {
   "cell_type": "code",
   "execution_count": 4,
   "metadata": {
    "collapsed": false,
    "scrolled": false
   },
   "outputs": [
    {
     "data": {
      "text/html": [
       "<div>\n",
       "<table border=\"1\" class=\"dataframe\">\n",
       "  <thead>\n",
       "    <tr style=\"text-align: right;\">\n",
       "      <th></th>\n",
       "      <th>Station_ID</th>\n",
       "      <th>Series_Number</th>\n",
       "      <th>Date</th>\n",
       "      <th>X</th>\n",
       "    </tr>\n",
       "  </thead>\n",
       "  <tbody>\n",
       "    <tr>\n",
       "      <th>0</th>\n",
       "      <td>25398</td>\n",
       "      <td>1</td>\n",
       "      <td>1986.708</td>\n",
       "      <td>79.8998</td>\n",
       "    </tr>\n",
       "    <tr>\n",
       "      <th>1</th>\n",
       "      <td>25398</td>\n",
       "      <td>1</td>\n",
       "      <td>1986.875</td>\n",
       "      <td>81.6674</td>\n",
       "    </tr>\n",
       "    <tr>\n",
       "      <th>2</th>\n",
       "      <td>25398</td>\n",
       "      <td>1</td>\n",
       "      <td>1986.958</td>\n",
       "      <td>82.8068</td>\n",
       "    </tr>\n",
       "    <tr>\n",
       "      <th>3</th>\n",
       "      <td>25398</td>\n",
       "      <td>1</td>\n",
       "      <td>1987.042</td>\n",
       "      <td>81.6458</td>\n",
       "    </tr>\n",
       "    <tr>\n",
       "      <th>4</th>\n",
       "      <td>25398</td>\n",
       "      <td>1</td>\n",
       "      <td>1987.125</td>\n",
       "      <td>82.3928</td>\n",
       "    </tr>\n",
       "  </tbody>\n",
       "</table>\n",
       "</div>"
      ],
      "text/plain": [
       "   Station_ID  Series_Number      Date        X\n",
       "0       25398              1  1986.708  79.8998\n",
       "1       25398              1  1986.875  81.6674\n",
       "2       25398              1  1986.958  82.8068\n",
       "3       25398              1  1987.042  81.6458\n",
       "4       25398              1  1987.125  82.3928"
      ]
     },
     "execution_count": 4,
     "metadata": {},
     "output_type": "execute_result"
    }
   ],
   "source": [
    "# Read in temp_X.csv\n",
    "xes = pd.read_csv('../../DS-SF-32/lessons/lesson-6/temp_X.csv', index_col=0)\n",
    "\n",
    "xes.head()"
   ]
  },
  {
   "cell_type": "code",
   "execution_count": 41,
   "metadata": {
    "collapsed": false
   },
   "outputs": [
    {
     "data": {
      "text/html": [
       "<div>\n",
       "<table border=\"1\" class=\"dataframe\">\n",
       "  <thead>\n",
       "    <tr style=\"text-align: right;\">\n",
       "      <th></th>\n",
       "      <th>Station ID</th>\n",
       "      <th>Series Number</th>\n",
       "      <th>Date</th>\n",
       "      <th>X</th>\n",
       "    </tr>\n",
       "  </thead>\n",
       "  <tbody>\n",
       "    <tr>\n",
       "      <th>0</th>\n",
       "      <td>25398</td>\n",
       "      <td>1</td>\n",
       "      <td>1986.708</td>\n",
       "      <td>79.8998</td>\n",
       "    </tr>\n",
       "    <tr>\n",
       "      <th>1</th>\n",
       "      <td>25398</td>\n",
       "      <td>1</td>\n",
       "      <td>1986.875</td>\n",
       "      <td>81.6674</td>\n",
       "    </tr>\n",
       "    <tr>\n",
       "      <th>2</th>\n",
       "      <td>25398</td>\n",
       "      <td>1</td>\n",
       "      <td>1986.958</td>\n",
       "      <td>82.8068</td>\n",
       "    </tr>\n",
       "    <tr>\n",
       "      <th>3</th>\n",
       "      <td>25398</td>\n",
       "      <td>1</td>\n",
       "      <td>1987.042</td>\n",
       "      <td>81.6458</td>\n",
       "    </tr>\n",
       "    <tr>\n",
       "      <th>4</th>\n",
       "      <td>25398</td>\n",
       "      <td>1</td>\n",
       "      <td>1987.125</td>\n",
       "      <td>82.3928</td>\n",
       "    </tr>\n",
       "  </tbody>\n",
       "</table>\n",
       "</div>"
      ],
      "text/plain": [
       "   Station ID  Series Number      Date        X\n",
       "0       25398              1  1986.708  79.8998\n",
       "1       25398              1  1986.875  81.6674\n",
       "2       25398              1  1986.958  82.8068\n",
       "3       25398              1  1987.042  81.6458\n",
       "4       25398              1  1987.125  82.3928"
      ]
     },
     "execution_count": 41,
     "metadata": {},
     "output_type": "execute_result"
    }
   ],
   "source": [
    "xes = xes.rename(columns={\"Series_Number\": \"Series Number\", \"Station_ID\": \"Station ID\"})\n",
    "xes.head()"
   ]
  },
  {
   "cell_type": "code",
   "execution_count": null,
   "metadata": {
    "collapsed": false
   },
   "outputs": [],
   "source": []
  },
  {
   "cell_type": "code",
   "execution_count": 53,
   "metadata": {
    "collapsed": false
   },
   "outputs": [
    {
     "data": {
      "text/html": [
       "<div>\n",
       "<table border=\"1\" class=\"dataframe\">\n",
       "  <thead>\n",
       "    <tr style=\"text-align: right;\">\n",
       "      <th></th>\n",
       "      <th>Station ID</th>\n",
       "      <th>Series Number</th>\n",
       "      <th>Date</th>\n",
       "      <th>Temperature (C)</th>\n",
       "      <th>Uncertainty (C)</th>\n",
       "      <th>Observations</th>\n",
       "      <th>Time of Observation</th>\n",
       "      <th>X</th>\n",
       "    </tr>\n",
       "  </thead>\n",
       "  <tbody>\n",
       "    <tr>\n",
       "      <th>0</th>\n",
       "      <td>25398</td>\n",
       "      <td>1</td>\n",
       "      <td>1986.708</td>\n",
       "      <td>26.611</td>\n",
       "      <td>0.0507</td>\n",
       "      <td>30</td>\n",
       "      <td>24</td>\n",
       "      <td>79.8998</td>\n",
       "    </tr>\n",
       "    <tr>\n",
       "      <th>1</th>\n",
       "      <td>25398</td>\n",
       "      <td>1</td>\n",
       "      <td>1986.875</td>\n",
       "      <td>27.593</td>\n",
       "      <td>0.0507</td>\n",
       "      <td>30</td>\n",
       "      <td>24</td>\n",
       "      <td>81.6674</td>\n",
       "    </tr>\n",
       "    <tr>\n",
       "      <th>2</th>\n",
       "      <td>25398</td>\n",
       "      <td>1</td>\n",
       "      <td>1986.958</td>\n",
       "      <td>28.226</td>\n",
       "      <td>0.0499</td>\n",
       "      <td>31</td>\n",
       "      <td>24</td>\n",
       "      <td>82.8068</td>\n",
       "    </tr>\n",
       "    <tr>\n",
       "      <th>3</th>\n",
       "      <td>25398</td>\n",
       "      <td>1</td>\n",
       "      <td>1987.042</td>\n",
       "      <td>27.581</td>\n",
       "      <td>0.0499</td>\n",
       "      <td>31</td>\n",
       "      <td>24</td>\n",
       "      <td>81.6458</td>\n",
       "    </tr>\n",
       "    <tr>\n",
       "      <th>4</th>\n",
       "      <td>25398</td>\n",
       "      <td>1</td>\n",
       "      <td>1987.125</td>\n",
       "      <td>27.996</td>\n",
       "      <td>0.0525</td>\n",
       "      <td>28</td>\n",
       "      <td>24</td>\n",
       "      <td>82.3928</td>\n",
       "    </tr>\n",
       "  </tbody>\n",
       "</table>\n",
       "</div>"
      ],
      "text/plain": [
       "   Station ID  Series Number      Date  Temperature (C)  Uncertainty (C)  \\\n",
       "0       25398              1  1986.708           26.611           0.0507   \n",
       "1       25398              1  1986.875           27.593           0.0507   \n",
       "2       25398              1  1986.958           28.226           0.0499   \n",
       "3       25398              1  1987.042           27.581           0.0499   \n",
       "4       25398              1  1987.125           27.996           0.0525   \n",
       "\n",
       "   Observations  Time of Observation        X  \n",
       "0            30                   24  79.8998  \n",
       "1            30                   24  81.6674  \n",
       "2            31                   24  82.8068  \n",
       "3            31                   24  81.6458  \n",
       "4            28                   24  82.3928  "
      ]
     },
     "execution_count": 53,
     "metadata": {},
     "output_type": "execute_result"
    }
   ],
   "source": [
    "# Merge the X variable from temp_X with the data from temp_data\n",
    "temp_data = pd.merge(temps, xes, how='inner', on=['Date', 'Series Number', 'Station ID'], copy=True, sort=False)\n",
    "temp_data.head()"
   ]
  },
  {
   "cell_type": "code",
   "execution_count": 54,
   "metadata": {
    "collapsed": false
   },
   "outputs": [
    {
     "data": {
      "text/plain": [
       "(141637, 8)"
      ]
     },
     "execution_count": 54,
     "metadata": {},
     "output_type": "execute_result"
    }
   ],
   "source": [
    "temp_data.shape"
   ]
  },
  {
   "cell_type": "code",
   "execution_count": 55,
   "metadata": {
    "collapsed": false
   },
   "outputs": [],
   "source": [
    "# Run a linear regression using X to predict temperature\n",
    "from sklearn import linear_model, metrics"
   ]
  },
  {
   "cell_type": "code",
   "execution_count": 56,
   "metadata": {
    "collapsed": false
   },
   "outputs": [
    {
     "name": "stdout",
     "output_type": "stream",
     "text": [
      "LinearRegression(copy_X=True, fit_intercept=True, n_jobs=1, normalize=False)\n"
     ]
    }
   ],
   "source": [
    "lm = linear_model.LinearRegression().fit(temp_data[['X']], temp_data['Temperature (C)'])\n",
    "print lm"
   ]
  },
  {
   "cell_type": "code",
   "execution_count": 85,
   "metadata": {
    "collapsed": false,
    "scrolled": false
   },
   "outputs": [
    {
     "name": "stdout",
     "output_type": "stream",
     "text": [
      "B1: 0.56\n",
      "B0: -17.78\n",
      "r-squared: 0.31\n"
     ]
    }
   ],
   "source": [
    "print \"B1: %.2f\" % lm.coef_\n",
    "print \"B0: %.2f\" % lm.intercept_"
   ]
  },
  {
   "cell_type": "code",
   "execution_count": 86,
   "metadata": {
    "collapsed": false
   },
   "outputs": [
    {
     "name": "stdout",
     "output_type": "stream",
     "text": [
      "Mean squared error: 0.00\n",
      "Variance score: 1.00\n"
     ]
    }
   ],
   "source": [
    "# mean squared error\n",
    "print(\"Mean squared error: %.2f\"\n",
    "      % np.mean((lm.predict(temp_data[['X']]) - temp_data['Temperature (C)']) ** 2))\n",
    "# explained variance score: 1 is perfect prediction\n",
    "print('Variance score: %.2f' % lm.score(temp_data[['X']], temp_data['Temperature (C)']))"
   ]
  },
  {
   "cell_type": "code",
   "execution_count": 87,
   "metadata": {
    "collapsed": false
   },
   "outputs": [
    {
     "data": {
      "text/plain": [
       "1.0"
      ]
     },
     "execution_count": 87,
     "metadata": {},
     "output_type": "execute_result"
    }
   ],
   "source": [
    "lm.score(temp_data[['X']], temp_data['Temperature (C)'])"
   ]
  },
  {
   "cell_type": "code",
   "execution_count": 59,
   "metadata": {
    "collapsed": true
   },
   "outputs": [],
   "source": [
    "import seaborn as sns"
   ]
  },
  {
   "cell_type": "code",
   "execution_count": 60,
   "metadata": {
    "collapsed": false
   },
   "outputs": [
    {
     "data": {
      "text/html": [
       "<div>\n",
       "<table border=\"1\" class=\"dataframe\">\n",
       "  <thead>\n",
       "    <tr style=\"text-align: right;\">\n",
       "      <th></th>\n",
       "      <th>X</th>\n",
       "      <th>Temperature (C)</th>\n",
       "    </tr>\n",
       "  </thead>\n",
       "  <tbody>\n",
       "    <tr>\n",
       "      <th>X</th>\n",
       "      <td>1.0</td>\n",
       "      <td>1.0</td>\n",
       "    </tr>\n",
       "    <tr>\n",
       "      <th>Temperature (C)</th>\n",
       "      <td>1.0</td>\n",
       "      <td>1.0</td>\n",
       "    </tr>\n",
       "  </tbody>\n",
       "</table>\n",
       "</div>"
      ],
      "text/plain": [
       "                   X  Temperature (C)\n",
       "X                1.0              1.0\n",
       "Temperature (C)  1.0              1.0"
      ]
     },
     "execution_count": 60,
     "metadata": {},
     "output_type": "execute_result"
    }
   ],
   "source": [
    "temp_data.head(100)[['X', 'Temperature (C)']].corr(method='spearman')"
   ]
  },
  {
   "cell_type": "code",
   "execution_count": 61,
   "metadata": {
    "collapsed": false
   },
   "outputs": [],
   "source": [
    "import matplotlib.pyplot as plt"
   ]
  },
  {
   "cell_type": "code",
   "execution_count": 64,
   "metadata": {
    "collapsed": false
   },
   "outputs": [],
   "source": [
    "temp_data_x = temp_data.head(1000)[['X']]\n",
    "temp_data_y = temp_data.head(1000)[['Temperature (C)']]"
   ]
  },
  {
   "cell_type": "code",
   "execution_count": 80,
   "metadata": {
    "collapsed": false
   },
   "outputs": [
    {
     "data": {
      "image/png": "[encoded data removed]",
      "text/plain": [
       "<matplotlib.figure.Figure at 0x12df5e590>"
      ]
     },
     "metadata": {},
     "output_type": "display_data"
    }
   ],
   "source": [
    "# create a matplotlib figure\n",
    "plt.figure()\n",
    "# show prediction line\n",
    "plt.plot(temp_data_x, lm.predict(temp_data_x), color='black')\n",
    "# generate a scatterplot inside the figure\n",
    "plt.plot(temp_data_x, temp_data_y, '*', color='red')\n",
    "# show the plot\n",
    "plt.show()"
   ]
  },
  {
   "cell_type": "code",
   "execution_count": null,
   "metadata": {
    "collapsed": false
   },
   "outputs": [],
   "source": []
  },
  {
   "cell_type": "markdown",
   "metadata": {
    "collapsed": true
   },
   "source": [
    "### Interpret your coefficients!\n",
    "X and Temperature (C) are perfectly correlated, based on this sample. "
   ]
  },
  {
   "cell_type": "markdown",
   "metadata": {
    "collapsed": true
   },
   "source": [
    "### What is one potential use for this linear regression equation?\n",
    "Given an X-reading, find the corresponding Temperature (C)."
   ]
  },
  {
   "cell_type": "markdown",
   "metadata": {},
   "source": [
    "### What does this linear regression mean?\n",
    "There is a strong correlation between X and Temperature (C).  X completely explains the variances in Temperature (C)."
   ]
  },
  {
   "cell_type": "markdown",
   "metadata": {},
   "source": [
    "### Is this a good model? Why or why not?\n",
    "This is a low variance model, though we've been told an R^2 of 1.0 should be suspicious. It is a good model for the relationship between X and Temperature (C). "
   ]
  },
  {
   "cell_type": "code",
   "execution_count": null,
   "metadata": {
    "collapsed": true
   },
   "outputs": [],
   "source": []
  }
 ],
 "metadata": {
  "kernelspec": {
   "display_name": "Python 2",
   "language": "python",
   "name": "python2"
  },
  "language_info": {
   "codemirror_mode": {
    "name": "ipython",
    "version": 2
   },
   "file_extension": ".py",
   "mimetype": "text/x-python",
   "name": "python",
   "nbconvert_exporter": "python",
   "pygments_lexer": "ipython2",
   "version": "2.7.13"
  }
 },
 "nbformat": 4,
 "nbformat_minor": 0
}
