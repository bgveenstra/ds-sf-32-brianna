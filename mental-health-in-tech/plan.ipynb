{
 "cells": [
  {
   "cell_type": "markdown",
   "metadata": {},
   "source": [
    "Potential resource(s):\n",
    "http://scikit-learn.org/stable/auto_examples/cluster/plot_kmeans_digits.html#sphx-glr-auto-examples-cluster-plot-kmeans-digits-py"
   ]
  },
  {
   "cell_type": "markdown",
   "metadata": {},
   "source": [
    "# Mental Health in Tech Project\n",
    "\n",
    "## Data Sets\n",
    "\n",
    "[OSMI Survey on Mental Health in the Tech Workplace in 2014](https://www.kaggle.com/osmi/mental-health-in-tech-survey) \n",
    "\n",
    "[\"Ongoing\" OSMI survey from 2016](https://data.world/kittybot/osmi-mental-health-tech-2016)\n",
    "\n",
    "\n",
    "## Questions\n",
    "\n",
    "What factors are most signficant in influencing whether or not a person believes disclosing a mental health issue would have negative consequences?\n",
    "\n",
    "Can we predict, based on publicly available features of a person and company, whether that person is likely to beleive disclosing a mental health issue would be harmful for their career?"
   ]
  },
  {
   "cell_type": "markdown",
   "metadata": {},
   "source": [
    "## Plan"
   ]
  },
  {
   "cell_type": "code",
   "execution_count": 1,
   "metadata": {
    "collapsed": true
   },
   "outputs": [],
   "source": [
    "# clean 2014 data:\n",
    "#   - remove invalid ages  ( < 16, > 80)\n",
    "#   - create gender categories\n",
    "#   - create dictionary to map questions to column names (from original data set)\n",
    "#   - add year column with all 2014s"
   ]
  },
  {
   "cell_type": "code",
   "execution_count": 2,
   "metadata": {
    "collapsed": true
   },
   "outputs": [],
   "source": [
    "# clean 2016 data:\n",
    "#   - replace full question column names with shorter titles\n",
    "#   - remove invalid ages  ( < 16, > 80)\n",
    "#   - create gender categories\n",
    "#   - create dictionary to map questions to column names (from original data set)\n",
    "#   - add year column with all 2016s\n",
    "#   - split position column into dummies\n",
    "#   - spit physician diagnoses and diagnosed conditions into dummies"
   ]
  },
  {
   "cell_type": "code",
   "execution_count": 3,
   "metadata": {
    "collapsed": true
   },
   "outputs": [],
   "source": [
    "# add features to 2016 to correspond to 2016:\n",
    "#   - state, for when live in state matches work in state\n",
    "#   - country, for when live in country matches work in country\n",
    "#   - change \"United States of America\" to \"United States\" to match 2014 data"
   ]
  },
  {
   "cell_type": "code",
   "execution_count": 4,
   "metadata": {
    "collapsed": true
   },
   "outputs": [],
   "source": [
    "# combine 2014 and 2016 U.S. data into one data frame"
   ]
  },
  {
   "cell_type": "code",
   "execution_count": 5,
   "metadata": {
    "collapsed": false
   },
   "outputs": [],
   "source": [
    "# plot number of responses by age"
   ]
  },
  {
   "cell_type": "code",
   "execution_count": 6,
   "metadata": {
    "collapsed": true
   },
   "outputs": [],
   "source": [
    "# plot frequency of mental health consequences yes/no/maybe by age"
   ]
  },
  {
   "cell_type": "code",
   "execution_count": 7,
   "metadata": {
    "collapsed": true
   },
   "outputs": [],
   "source": [
    "# plot frequency of mental health consequence yes/no/maybe by age groups (quantiles, 4-6 groups)"
   ]
  },
  {
   "cell_type": "code",
   "execution_count": 8,
   "metadata": {
    "collapsed": true
   },
   "outputs": [],
   "source": [
    "################ Logistic Regression"
   ]
  },
  {
   "cell_type": "code",
   "execution_count": 9,
   "metadata": {
    "collapsed": true
   },
   "outputs": [],
   "source": [
    "# logistic regression \n",
    "# - combine mental health consequences (yes and maybe) vs no as boolean categorical Y to predict\n",
    "# - pull out X variables that are public\n",
    "# - created dummies for categorical public X variables"
   ]
  },
  {
   "cell_type": "markdown",
   "metadata": {},
   "source": [
    "## Setup"
   ]
  },
  {
   "cell_type": "code",
   "execution_count": 10,
   "metadata": {
    "collapsed": true
   },
   "outputs": [],
   "source": [
    "import pandas as pd\n",
    "import numpy as np\n",
    "%matplotlib inline"
   ]
  },
  {
   "cell_type": "markdown",
   "metadata": {
    "collapsed": true
   },
   "source": [
    "## Import & Initial Data Cleaning"
   ]
  },
  {
   "cell_type": "code",
   "execution_count": 11,
   "metadata": {
    "collapsed": false
   },
   "outputs": [],
   "source": [
    "df16 = pd.read_csv('./datasets/2016/clean-no-dummies-2016.csv', index_col=0)"
   ]
  },
  {
   "cell_type": "code",
   "execution_count": 12,
   "metadata": {
    "collapsed": false
   },
   "outputs": [
    {
     "name": "stdout",
     "output_type": "stream",
     "text": [
      "(1259, 28)\n"
     ]
    },
    {
     "data": {
      "text/html": [
       "<div>\n",
       "<table border=\"1\" class=\"dataframe\">\n",
       "  <thead>\n",
       "    <tr style=\"text-align: right;\">\n",
       "      <th></th>\n",
       "      <th>timestamp</th>\n",
       "      <th>age</th>\n",
       "      <th>gender</th>\n",
       "      <th>country</th>\n",
       "      <th>state</th>\n",
       "      <th>self_employed</th>\n",
       "      <th>family_history</th>\n",
       "      <th>treatment</th>\n",
       "      <th>work_interfere</th>\n",
       "      <th>num_employees</th>\n",
       "      <th>...</th>\n",
       "      <th>mental_health_consequence</th>\n",
       "      <th>phys_health_consequence</th>\n",
       "      <th>coworkers</th>\n",
       "      <th>supervisor</th>\n",
       "      <th>mental_health_interview</th>\n",
       "      <th>phys_health_interview</th>\n",
       "      <th>mental_vs_physical</th>\n",
       "      <th>obs_consequence</th>\n",
       "      <th>comments</th>\n",
       "      <th>gender_category</th>\n",
       "    </tr>\n",
       "  </thead>\n",
       "  <tbody>\n",
       "    <tr>\n",
       "      <th>0</th>\n",
       "      <td>2014-08-27 11:29:31</td>\n",
       "      <td>37.0</td>\n",
       "      <td>Female</td>\n",
       "      <td>United States</td>\n",
       "      <td>IL</td>\n",
       "      <td>NaN</td>\n",
       "      <td>no</td>\n",
       "      <td>1</td>\n",
       "      <td>often</td>\n",
       "      <td>6-25</td>\n",
       "      <td>...</td>\n",
       "      <td>no</td>\n",
       "      <td>no</td>\n",
       "      <td>some_of_them</td>\n",
       "      <td>yes</td>\n",
       "      <td>no</td>\n",
       "      <td>maybe</td>\n",
       "      <td>yes</td>\n",
       "      <td>0</td>\n",
       "      <td>NaN</td>\n",
       "      <td>female</td>\n",
       "    </tr>\n",
       "    <tr>\n",
       "      <th>1</th>\n",
       "      <td>2014-08-27 11:29:37</td>\n",
       "      <td>44.0</td>\n",
       "      <td>M</td>\n",
       "      <td>United States</td>\n",
       "      <td>IN</td>\n",
       "      <td>NaN</td>\n",
       "      <td>no</td>\n",
       "      <td>0</td>\n",
       "      <td>rarely</td>\n",
       "      <td>1000+</td>\n",
       "      <td>...</td>\n",
       "      <td>maybe</td>\n",
       "      <td>no</td>\n",
       "      <td>no</td>\n",
       "      <td>no</td>\n",
       "      <td>no</td>\n",
       "      <td>no</td>\n",
       "      <td>dont_know</td>\n",
       "      <td>0</td>\n",
       "      <td>NaN</td>\n",
       "      <td>male</td>\n",
       "    </tr>\n",
       "    <tr>\n",
       "      <th>2</th>\n",
       "      <td>2014-08-27 11:29:44</td>\n",
       "      <td>32.0</td>\n",
       "      <td>Male</td>\n",
       "      <td>Canada</td>\n",
       "      <td>NaN</td>\n",
       "      <td>NaN</td>\n",
       "      <td>no</td>\n",
       "      <td>0</td>\n",
       "      <td>rarely</td>\n",
       "      <td>6-25</td>\n",
       "      <td>...</td>\n",
       "      <td>no</td>\n",
       "      <td>no</td>\n",
       "      <td>yes</td>\n",
       "      <td>yes</td>\n",
       "      <td>yes</td>\n",
       "      <td>yes</td>\n",
       "      <td>no</td>\n",
       "      <td>0</td>\n",
       "      <td>NaN</td>\n",
       "      <td>male</td>\n",
       "    </tr>\n",
       "  </tbody>\n",
       "</table>\n",
       "<p>3 rows × 28 columns</p>\n",
       "</div>"
      ],
      "text/plain": [
       "             timestamp   age  gender        country state self_employed  \\\n",
       "0  2014-08-27 11:29:31  37.0  Female  United States    IL           NaN   \n",
       "1  2014-08-27 11:29:37  44.0       M  United States    IN           NaN   \n",
       "2  2014-08-27 11:29:44  32.0    Male         Canada   NaN           NaN   \n",
       "\n",
       "  family_history  treatment work_interfere num_employees       ...        \\\n",
       "0             no          1          often          6-25       ...         \n",
       "1             no          0         rarely         1000+       ...         \n",
       "2             no          0         rarely          6-25       ...         \n",
       "\n",
       "   mental_health_consequence  phys_health_consequence     coworkers  \\\n",
       "0                         no                       no  some_of_them   \n",
       "1                      maybe                       no            no   \n",
       "2                         no                       no           yes   \n",
       "\n",
       "  supervisor mental_health_interview phys_health_interview mental_vs_physical  \\\n",
       "0        yes                      no                 maybe                yes   \n",
       "1         no                      no                    no          dont_know   \n",
       "2        yes                     yes                   yes                 no   \n",
       "\n",
       "  obs_consequence comments gender_category  \n",
       "0               0      NaN          female  \n",
       "1               0      NaN            male  \n",
       "2               0      NaN            male  \n",
       "\n",
       "[3 rows x 28 columns]"
      ]
     },
     "execution_count": 12,
     "metadata": {},
     "output_type": "execute_result"
    }
   ],
   "source": [
    "df14 = pd.read_csv('./datasets/2014/clean-no-dummies-2014.csv', index_col=0)\n",
    "print df14.shape\n",
    "df14.head(3)"
   ]
  },
  {
   "cell_type": "code",
   "execution_count": 13,
   "metadata": {
    "collapsed": false
   },
   "outputs": [
    {
     "name": "stdout",
     "output_type": "stream",
     "text": [
      "(1433, 66)\n"
     ]
    },
    {
     "data": {
      "text/html": [
       "<div>\n",
       "<table border=\"1\" class=\"dataframe\">\n",
       "  <thead>\n",
       "    <tr style=\"text-align: right;\">\n",
       "      <th></th>\n",
       "      <th>self_employed</th>\n",
       "      <th>num_employees</th>\n",
       "      <th>tech_company</th>\n",
       "      <th>tech_role</th>\n",
       "      <th>benefits</th>\n",
       "      <th>care_options</th>\n",
       "      <th>wellness_program</th>\n",
       "      <th>seek_help</th>\n",
       "      <th>anonymity</th>\n",
       "      <th>leave</th>\n",
       "      <th>...</th>\n",
       "      <th>gender</th>\n",
       "      <th>live_in_country</th>\n",
       "      <th>live_in_state</th>\n",
       "      <th>work_in_country</th>\n",
       "      <th>work_in_state</th>\n",
       "      <th>position</th>\n",
       "      <th>remote_work</th>\n",
       "      <th>gender_category</th>\n",
       "      <th>state</th>\n",
       "      <th>country</th>\n",
       "    </tr>\n",
       "  </thead>\n",
       "  <tbody>\n",
       "    <tr>\n",
       "      <th>0</th>\n",
       "      <td>0</td>\n",
       "      <td>26-100</td>\n",
       "      <td>1.0</td>\n",
       "      <td>NaN</td>\n",
       "      <td>doesnt_apply</td>\n",
       "      <td>NaN</td>\n",
       "      <td>no</td>\n",
       "      <td>no</td>\n",
       "      <td>dont_know</td>\n",
       "      <td>very_easy</td>\n",
       "      <td>...</td>\n",
       "      <td>Male</td>\n",
       "      <td>united_kingdom</td>\n",
       "      <td>NaN</td>\n",
       "      <td>united_kingdom</td>\n",
       "      <td>NaN</td>\n",
       "      <td>Back-end Developer</td>\n",
       "      <td>sometimes</td>\n",
       "      <td>male</td>\n",
       "      <td>NaN</td>\n",
       "      <td>United Kingdom</td>\n",
       "    </tr>\n",
       "    <tr>\n",
       "      <th>1</th>\n",
       "      <td>0</td>\n",
       "      <td>6-25</td>\n",
       "      <td>1.0</td>\n",
       "      <td>NaN</td>\n",
       "      <td>no</td>\n",
       "      <td>yes</td>\n",
       "      <td>yes</td>\n",
       "      <td>yes</td>\n",
       "      <td>yes</td>\n",
       "      <td>somewhat_easy</td>\n",
       "      <td>...</td>\n",
       "      <td>male</td>\n",
       "      <td>united_states</td>\n",
       "      <td>il</td>\n",
       "      <td>united_states</td>\n",
       "      <td>il</td>\n",
       "      <td>Back-end Developer|Front-end Developer</td>\n",
       "      <td>never</td>\n",
       "      <td>male</td>\n",
       "      <td>il</td>\n",
       "      <td>United States</td>\n",
       "    </tr>\n",
       "    <tr>\n",
       "      <th>2</th>\n",
       "      <td>0</td>\n",
       "      <td>6-25</td>\n",
       "      <td>1.0</td>\n",
       "      <td>NaN</td>\n",
       "      <td>no</td>\n",
       "      <td>NaN</td>\n",
       "      <td>no</td>\n",
       "      <td>no</td>\n",
       "      <td>dont_know</td>\n",
       "      <td>neither_easy_nor_difficult</td>\n",
       "      <td>...</td>\n",
       "      <td>Male</td>\n",
       "      <td>united_kingdom</td>\n",
       "      <td>NaN</td>\n",
       "      <td>united_kingdom</td>\n",
       "      <td>NaN</td>\n",
       "      <td>Back-end Developer</td>\n",
       "      <td>always</td>\n",
       "      <td>male</td>\n",
       "      <td>NaN</td>\n",
       "      <td>United Kingdom</td>\n",
       "    </tr>\n",
       "  </tbody>\n",
       "</table>\n",
       "<p>3 rows × 66 columns</p>\n",
       "</div>"
      ],
      "text/plain": [
       "   self_employed num_employees  tech_company  tech_role      benefits  \\\n",
       "0              0        26-100           1.0        NaN  doesnt_apply   \n",
       "1              0          6-25           1.0        NaN            no   \n",
       "2              0          6-25           1.0        NaN            no   \n",
       "\n",
       "  care_options wellness_program seek_help  anonymity  \\\n",
       "0          NaN               no        no  dont_know   \n",
       "1          yes              yes       yes        yes   \n",
       "2          NaN               no        no  dont_know   \n",
       "\n",
       "                        leave       ...       gender live_in_country  \\\n",
       "0                   very_easy       ...         Male  united_kingdom   \n",
       "1               somewhat_easy       ...         male   united_states   \n",
       "2  neither_easy_nor_difficult       ...        Male   united_kingdom   \n",
       "\n",
       "  live_in_state work_in_country work_in_state  \\\n",
       "0           NaN  united_kingdom           NaN   \n",
       "1            il   united_states            il   \n",
       "2           NaN  united_kingdom           NaN   \n",
       "\n",
       "                                 position  remote_work gender_category state  \\\n",
       "0                      Back-end Developer    sometimes            male   NaN   \n",
       "1  Back-end Developer|Front-end Developer        never            male    il   \n",
       "2                      Back-end Developer       always            male   NaN   \n",
       "\n",
       "          country  \n",
       "0  United Kingdom  \n",
       "1   United States  \n",
       "2  United Kingdom  \n",
       "\n",
       "[3 rows x 66 columns]"
      ]
     },
     "execution_count": 13,
     "metadata": {},
     "output_type": "execute_result"
    }
   ],
   "source": [
    "df16 = pd.read_csv('./datasets/2016/clean-no-dummies-2016.csv', index_col=0)\n",
    "print df16.shape\n",
    "df16.head(3)"
   ]
  },
  {
   "cell_type": "markdown",
   "metadata": {},
   "source": [
    "### Column-Question Mappings\n",
    "\n",
    "Conveniently look up the survey question associated with each column name.\n",
    "\n",
    "Can also add to the maps in the future to describe created columns."
   ]
  },
  {
   "cell_type": "code",
   "execution_count": 14,
   "metadata": {
    "collapsed": true
   },
   "outputs": [],
   "source": [
    "# map column names to questions\n",
    "df14.cq = {'age': 'Age',\n",
    " 'anonymity': 'Is your anonymity protected if you choose to take advantage of mental health or substance abuse treatment resources?',\n",
    " 'benefits': 'Does your employer provide mental health benefits?',\n",
    " 'care_options': 'Do you know the options for mental health care your employer provides?',\n",
    " 'country': 'Country',\n",
    " 'coworkers': 'Would you be willing to discuss a mental health issue with your coworkers?',\n",
    " 'family_history': 'Do you have a family history of mental illness?',\n",
    " 'gender': 'Gender',\n",
    " 'leave': 'How easy is it for you to take medical leave for a mental health condition?',\n",
    " 'mental_health_consequence': 'Do you think that discussing a mental health issue with your employer would have negative consequences?',\n",
    " 'mental_health_interview': 'Would you bring up a mental health issue with a potential employer in an interview?',\n",
    " 'mental_vs_physical': 'Do you feel that your employer takes mental health as seriously as physical health?',\n",
    " 'num_employees': 'How many employees does your company or organization have?',\n",
    " 'obs_consequence': 'Have you heard of or observed negative consequences for coworkers with mental health conditions in your workplace?',\n",
    " 'phys_health_consequence': 'Do you think that discussing a physical health issue with your employer would have negative consequences?',\n",
    " 'phys_health_interview': 'Would you bring up a physical health issue with a potential employer in an interview?',\n",
    " 'remote_work': 'Do you work remotely (outside of an office) at least 50% of the time?',\n",
    " 'seek_help': 'Does your employer provide resources to learn more about mental health issues and how to seek help?',\n",
    " 'self_employed': 'Are you self-employed?',\n",
    " 'state': 'If you live in the United States, which state or territory do you live in?',\n",
    " 'supervisor': 'Would you be willing to discuss a mental health issue with your direct supervisor(s)?',\n",
    " 'tech_company': 'Is your employer primarily a tech company/organization?',\n",
    " 'timestamp': 'Timestamp',\n",
    " 'treatment': 'Have you sought treatment for a mental health condition?',\n",
    " 'wellness_program': 'Has your employer ever discussed mental health as part of an employee wellness program?',\n",
    " 'work_interfere': 'If you have a mental health condition, do you feel that it interferes with your work?'}\n",
    "df16.cq = {'age': 'What is your age?',\n",
    " 'anonymity': 'Is your anonymity protected if you choose to take advantage of mental health or substance abuse treatment resources provided by your employer?',\n",
    " 'benefits': 'Does your employer provide mental health benefits as part of healthcare coverage?',\n",
    " 'care_options': 'Do you know the options for mental health care available under your employer-provided coverage?',\n",
    " 'coworkers': 'Would you feel comfortable discussing a mental health disorder with your coworkers?',\n",
    " 'current_believed_conditions': 'If maybe, what condition(s) do you believe you have?',\n",
    " 'current_diagnosed_conditions': 'If yes, what condition(s) have you been diagnosed with?',\n",
    " 'current_disorder': 'Do you currently have a mental health disorder?',\n",
    " 'family_history': 'Do you have a family history of mental illness?',\n",
    " 'friends_family': 'How willing would you be to share with friends and family that you have a mental illness?',\n",
    " 'gender': 'What is your gender?',\n",
    " 'hurt_career': 'Do you feel that being identified as a person with a mental health issue would hurt your career?',\n",
    " 'insurance': 'Do you have medical coverage (private insurance or state-provided) which includes treatment of \\xc2\\xa0mental health issues?',\n",
    " 'know_resources': 'Do you know local or online resources to seek help for a mental health disorder?',\n",
    " 'leave': 'If a mental health issue prompted you to request a medical leave from work, asking for that leave would be:',\n",
    " 'live_in_country': 'What country do you live in?',\n",
    " 'live_in_state': 'What US state or territory do you live in?',\n",
    " 'mental_health_consequence': 'Do you think that discussing a mental health disorder with your employer would have negative consequences?',\n",
    " 'mental_health_interview': 'Would you bring up a mental health issue with a potential employer in an interview?',\n",
    " 'mental_health_interview_comment': 'Why or why not?.1',\n",
    " 'mental_vs_physical': 'Do you feel that your employer takes mental health as seriously as physical health?',\n",
    " 'num_employees': 'How many employees does your company or organization have?',\n",
    " 'obs_consequence': 'Have you heard of or observed negative consequences for co-workers who have been open about mental health issues in your workplace?',\n",
    " 'obs_negative_response': 'Have you observed or experienced an unsupportive or badly handled response to a mental health issue in your current or previous workplace?',\n",
    " 'past_disorder': 'Have you had a mental health disorder in the past?',\n",
    " 'percent_time_impacted': 'If yes, what percentage of your work time (time performing primary or secondary job functions) is affected by a mental health issue?',\n",
    " 'phys_health_consequence': 'Do you think that discussing a physical health issue with your employer would have negative consequences?',\n",
    " 'phys_health_interview': 'Would you be willing to bring up a physical health issue with a potential employer in an interview?',\n",
    " 'phys_health_interview_comment': 'Why or why not?',\n",
    " 'position': 'Which of the following best describes your work position?',\n",
    " 'prev_anonymity': 'Was your anonymity protected if you chose to take advantage of mental health or substance abuse treatment resources with previous employers?',\n",
    " 'prev_benefits': 'Have your previous employers provided mental health benefits?',\n",
    " 'prev_care_options': 'Were you aware of the options for mental health care provided by your previous employers?',\n",
    " 'prev_coworkers': 'Would you have been willing to discuss a mental health issue with your previous co-workers?',\n",
    " 'prev_employer': 'Do you have previous employers?',\n",
    " 'prev_mental_health_consequence': 'Do you think that discussing a mental health disorder with previous employers would have negative consequences?',\n",
    " 'prev_mental_vs_physical': 'Did you feel that your previous employers took mental health as seriously as physical health?',\n",
    " 'prev_obs_consequence': 'Did you hear of or observe negative consequences for co-workers with mental health issues in your previous workplaces?',\n",
    " 'prev_phys_health_consequence': 'Do you think that discussing a physical health issue with previous employers would have negative consequences?',\n",
    " 'prev_seek_help': 'Did your previous employers provide resources to learn more about mental health issues and how to seek help?',\n",
    " 'prev_supervisor': 'Would you have been willing to discuss a mental health issue with your direct supervisor(s)?',\n",
    " 'prev_wellness_program': 'Did your previous employers ever formally discuss mental health (as part of a wellness campaign or other official communication)?',\n",
    " 'productivity_impacted': 'Do you believe your productivity is ever affected by a mental health issue?',\n",
    " 'professional_diagnosed': 'Have you been diagnosed with a mental health condition by a medical professional?',\n",
    " 'professional_diagnoses': 'If so, what condition(s) were you diagnosed with?',\n",
    " 'reluctant_due_to_obs': 'Have your observations of how another individual who discussed a mental health disorder made you less likely to reveal a mental health issue yourself in your current workplace?',\n",
    " 'remote_work': 'Do you work remotely?',\n",
    " 'revealed_contacts': 'If you have been diagnosed or treated for a mental health disorder, do you ever reveal this to clients or business contacts?',\n",
    " 'revealed_contacts_consequence': 'If you have revealed a mental health issue to a client or business contact, do you believe this has impacted you negatively?',\n",
    " 'revealed_coworkers': 'If you have been diagnosed or treated for a mental health disorder, do you ever reveal this to coworkers or employees?',\n",
    " 'revealed_coworkers_consequence': 'If you have revealed a mental health issue to a coworker or employee, do you believe this has impacted you negatively?',\n",
    " 'seek_help': 'Does your employer offer resources to learn more about mental health concerns and options for seeking help?',\n",
    " 'self_employed': 'Are you self-employed?',\n",
    " 'supervisor': 'Would you feel comfortable discussing a mental health disorder with your direct supervisor(s)?',\n",
    " 'tech_company': 'Is your employer primarily a tech company/organization?',\n",
    " 'tech_role': 'Is your primary role within your company related to tech/IT?',\n",
    " 'treatment': 'Have you ever sought treatment for a mental health issue from a mental health professional?',\n",
    " 'viewed_negatively': 'Do you think that team members/co-workers would view you more negatively if they knew you suffered from a mental health issue?',\n",
    " 'wellness_program': 'Has your employer ever formally discussed mental health (for example, as part of a wellness campaign or other official communication)?',\n",
    " 'work_in_country': 'What country do you work in?',\n",
    " 'work_in_state': 'What US state or territory do you work in?',\n",
    " 'work_interfere_treated': 'If you have a mental health issue, do you feel that it interferes with your work when being treated effectively?',\n",
    " 'work_interfere_untreated': 'If you have a mental health issue, do you feel that it interferes with your work when NOT being treated effectively?'}"
   ]
  },
  {
   "cell_type": "markdown",
   "metadata": {},
   "source": [
    "#### Additional Derived Column Descriptions"
   ]
  },
  {
   "cell_type": "code",
   "execution_count": 15,
   "metadata": {
    "collapsed": false
   },
   "outputs": [],
   "source": [
    "gender_category_explanation = 'Derived column: categorized gender responses into male/female/other. Trans males and females are categorized as males and females, respectively.'\n",
    "df14.cq['gender_category'] = gender_category_explanation\n",
    "df16.cq['gender_category'] = gender_category_explanation"
   ]
  },
  {
   "cell_type": "code",
   "execution_count": 16,
   "metadata": {
    "collapsed": false
   },
   "outputs": [],
   "source": [
    "df16.cq['country'] = 'Derived column: a single column for when live_in_country and work_in_country match. Rows where the countries do not match have value \"multi.\"'\n",
    "df16.cq['state'] = 'Derived column: a single column for when live_in_state and work_in_state match (or are both nan). Rows where the states do not match have value \"multi.\"'"
   ]
  },
  {
   "cell_type": "code",
   "execution_count": 17,
   "metadata": {
    "collapsed": false
   },
   "outputs": [
    {
     "name": "stdout",
     "output_type": "stream",
     "text": [
      "What country do you live in?\n",
      "What country do you work in?\n",
      "Derived column: a single column for when live_in_country and work_in_country match. Rows where the countries do not match have value \"multi.\"\n"
     ]
    }
   ],
   "source": [
    "print df16.cq['live_in_country']\n",
    "print df16.cq['work_in_country']\n",
    "print df16.cq['country']"
   ]
  },
  {
   "cell_type": "code",
   "execution_count": null,
   "metadata": {
    "collapsed": true
   },
   "outputs": [],
   "source": []
  },
  {
   "cell_type": "code",
   "execution_count": null,
   "metadata": {
    "collapsed": true
   },
   "outputs": [],
   "source": []
  },
  {
   "cell_type": "code",
   "execution_count": null,
   "metadata": {
    "collapsed": true
   },
   "outputs": [],
   "source": []
  },
  {
   "cell_type": "code",
   "execution_count": null,
   "metadata": {
    "collapsed": true
   },
   "outputs": [],
   "source": []
  },
  {
   "cell_type": "code",
   "execution_count": null,
   "metadata": {
    "collapsed": true
   },
   "outputs": [],
   "source": []
  },
  {
   "cell_type": "markdown",
   "metadata": {},
   "source": [
    "### Overview function"
   ]
  },
  {
   "cell_type": "code",
   "execution_count": 18,
   "metadata": {
    "collapsed": true
   },
   "outputs": [],
   "source": [
    "# helper function to get column preview\n",
    "def preview_col(col, data):\n",
    "    if col in data.cq:\n",
    "        print data.cq[col]\n",
    "    print data[col].value_counts(dropna=False)"
   ]
  },
  {
   "cell_type": "code",
   "execution_count": 19,
   "metadata": {
    "collapsed": false
   },
   "outputs": [
    {
     "name": "stdout",
     "output_type": "stream",
     "text": [
      "Have you sought treatment for a mental health condition?\n",
      "1    637\n",
      "0    622\n",
      "Name: treatment, dtype: int64\n",
      "\n",
      "Have you ever sought treatment for a mental health issue from a mental health professional?\n",
      "1    839\n",
      "0    594\n",
      "Name: treatment, dtype: int64\n"
     ]
    }
   ],
   "source": [
    "preview_col('treatment', df14)\n",
    "print\n",
    "preview_col('treatment', df16)"
   ]
  },
  {
   "cell_type": "markdown",
   "metadata": {},
   "source": [
    "### Create Combined US Dataframe"
   ]
  },
  {
   "cell_type": "code",
   "execution_count": 20,
   "metadata": {
    "collapsed": true
   },
   "outputs": [],
   "source": [
    "df14['year'] = 2014\n",
    "df16['year'] = 2016"
   ]
  },
  {
   "cell_type": "code",
   "execution_count": 80,
   "metadata": {
    "collapsed": false
   },
   "outputs": [
    {
     "name": "stdout",
     "output_type": "stream",
     "text": [
      "(751, 29)\n",
      "(837, 67)\n",
      "(1588, 70)\n"
     ]
    },
    {
     "data": {
      "text/html": [
       "<div>\n",
       "<table border=\"1\" class=\"dataframe\">\n",
       "  <thead>\n",
       "    <tr style=\"text-align: right;\">\n",
       "      <th></th>\n",
       "      <th>index</th>\n",
       "      <th>age</th>\n",
       "      <th>anonymity</th>\n",
       "      <th>benefits</th>\n",
       "      <th>care_options</th>\n",
       "      <th>comments</th>\n",
       "      <th>country</th>\n",
       "      <th>coworkers</th>\n",
       "      <th>current_believed_conditions</th>\n",
       "      <th>current_diagnosed_conditions</th>\n",
       "      <th>...</th>\n",
       "      <th>timestamp</th>\n",
       "      <th>treatment</th>\n",
       "      <th>viewed_negatively</th>\n",
       "      <th>wellness_program</th>\n",
       "      <th>work_in_country</th>\n",
       "      <th>work_in_state</th>\n",
       "      <th>work_interfere</th>\n",
       "      <th>work_interfere_treated</th>\n",
       "      <th>work_interfere_untreated</th>\n",
       "      <th>year</th>\n",
       "    </tr>\n",
       "  </thead>\n",
       "  <tbody>\n",
       "    <tr>\n",
       "      <th>0</th>\n",
       "      <td>0</td>\n",
       "      <td>37.0</td>\n",
       "      <td>yes</td>\n",
       "      <td>yes</td>\n",
       "      <td>not_sure</td>\n",
       "      <td>NaN</td>\n",
       "      <td>United States</td>\n",
       "      <td>some_of_them</td>\n",
       "      <td>NaN</td>\n",
       "      <td>NaN</td>\n",
       "      <td>...</td>\n",
       "      <td>2014-08-27 11:29:31</td>\n",
       "      <td>1</td>\n",
       "      <td>NaN</td>\n",
       "      <td>no</td>\n",
       "      <td>NaN</td>\n",
       "      <td>NaN</td>\n",
       "      <td>often</td>\n",
       "      <td>NaN</td>\n",
       "      <td>NaN</td>\n",
       "      <td>2014</td>\n",
       "    </tr>\n",
       "    <tr>\n",
       "      <th>1</th>\n",
       "      <td>1</td>\n",
       "      <td>44.0</td>\n",
       "      <td>dont_know</td>\n",
       "      <td>dont_know</td>\n",
       "      <td>no</td>\n",
       "      <td>NaN</td>\n",
       "      <td>United States</td>\n",
       "      <td>no</td>\n",
       "      <td>NaN</td>\n",
       "      <td>NaN</td>\n",
       "      <td>...</td>\n",
       "      <td>2014-08-27 11:29:37</td>\n",
       "      <td>0</td>\n",
       "      <td>NaN</td>\n",
       "      <td>dont_know</td>\n",
       "      <td>NaN</td>\n",
       "      <td>NaN</td>\n",
       "      <td>rarely</td>\n",
       "      <td>NaN</td>\n",
       "      <td>NaN</td>\n",
       "      <td>2014</td>\n",
       "    </tr>\n",
       "    <tr>\n",
       "      <th>2</th>\n",
       "      <td>4</td>\n",
       "      <td>31.0</td>\n",
       "      <td>dont_know</td>\n",
       "      <td>yes</td>\n",
       "      <td>no</td>\n",
       "      <td>NaN</td>\n",
       "      <td>United States</td>\n",
       "      <td>some_of_them</td>\n",
       "      <td>NaN</td>\n",
       "      <td>NaN</td>\n",
       "      <td>...</td>\n",
       "      <td>2014-08-27 11:30:22</td>\n",
       "      <td>0</td>\n",
       "      <td>NaN</td>\n",
       "      <td>dont_know</td>\n",
       "      <td>NaN</td>\n",
       "      <td>NaN</td>\n",
       "      <td>never</td>\n",
       "      <td>NaN</td>\n",
       "      <td>NaN</td>\n",
       "      <td>2014</td>\n",
       "    </tr>\n",
       "  </tbody>\n",
       "</table>\n",
       "<p>3 rows × 71 columns</p>\n",
       "</div>"
      ],
      "text/plain": [
       "   index   age  anonymity   benefits care_options comments        country  \\\n",
       "0      0  37.0        yes        yes     not_sure      NaN  United States   \n",
       "1      1  44.0  dont_know  dont_know           no      NaN  United States   \n",
       "2      4  31.0  dont_know        yes           no      NaN  United States   \n",
       "\n",
       "      coworkers current_believed_conditions current_diagnosed_conditions  \\\n",
       "0  some_of_them                         NaN                          NaN   \n",
       "1            no                         NaN                          NaN   \n",
       "2  some_of_them                         NaN                          NaN   \n",
       "\n",
       "   ...             timestamp treatment viewed_negatively wellness_program  \\\n",
       "0  ...   2014-08-27 11:29:31         1               NaN               no   \n",
       "1  ...   2014-08-27 11:29:37         0               NaN        dont_know   \n",
       "2  ...   2014-08-27 11:30:22         0               NaN        dont_know   \n",
       "\n",
       "  work_in_country work_in_state  work_interfere work_interfere_treated  \\\n",
       "0             NaN           NaN           often                    NaN   \n",
       "1             NaN           NaN          rarely                    NaN   \n",
       "2             NaN           NaN           never                    NaN   \n",
       "\n",
       "  work_interfere_untreated  year  \n",
       "0                      NaN  2014  \n",
       "1                      NaN  2014  \n",
       "2                      NaN  2014  \n",
       "\n",
       "[3 rows x 71 columns]"
      ]
     },
     "execution_count": 80,
     "metadata": {},
     "output_type": "execute_result"
    }
   ],
   "source": [
    "usdf14 = df14[df14['country']=='United States']\n",
    "usdf14.cq = df14.cq\n",
    "print usdf14.shape\n",
    "usdf16 = df16[df16['country']=='United States']\n",
    "usdf16.cq = df16.cq\n",
    "print usdf16.shape\n",
    "usdf = pd.concat([usdf14, usdf16], axis=0)\n",
    "print usdf.shape\n",
    "usdf.reset_index(inplace=True)\n",
    "usdf.head(3)\n"
   ]
  },
  {
   "cell_type": "code",
   "execution_count": 81,
   "metadata": {
    "collapsed": false,
    "scrolled": true
   },
   "outputs": [],
   "source": [
    "def question(col):\n",
    "    q = \"\"\n",
    "    if col in df14.cq:\n",
    "        q += '{0}: {1}\\n'.format(2014, df14.cq[col])\n",
    "        q += '\\n'\n",
    "    if col in df16.cq:\n",
    "        q += '{0}: {1}\\n'.format(2016, df16.cq[col])\n",
    "    return q\n",
    "# print question('treatment')"
   ]
  },
  {
   "cell_type": "code",
   "execution_count": 82,
   "metadata": {
    "collapsed": false
   },
   "outputs": [
    {
     "data": {
      "text/plain": [
       "{'age',\n",
       " 'anonymity',\n",
       " 'benefits',\n",
       " 'care_options',\n",
       " 'country',\n",
       " 'coworkers',\n",
       " 'family_history',\n",
       " 'gender',\n",
       " 'gender_category',\n",
       " 'leave',\n",
       " 'mental_health_consequence',\n",
       " 'mental_health_interview',\n",
       " 'mental_vs_physical',\n",
       " 'num_employees',\n",
       " 'obs_consequence',\n",
       " 'phys_health_consequence',\n",
       " 'phys_health_interview',\n",
       " 'remote_work',\n",
       " 'seek_help',\n",
       " 'self_employed',\n",
       " 'state',\n",
       " 'supervisor',\n",
       " 'tech_company',\n",
       " 'treatment',\n",
       " 'wellness_program',\n",
       " 'year'}"
      ]
     },
     "execution_count": 82,
     "metadata": {},
     "output_type": "execute_result"
    }
   ],
   "source": [
    "cols14 = set(df14.columns)\n",
    "cols16 = set(df16.columns)\n",
    "cols = cols14.union(cols16)\n",
    "usdf.cq = { c:question(c) for c in cols }\n",
    "overlap = cols14.intersection(cols16) \n",
    "overlap"
   ]
  },
  {
   "cell_type": "code",
   "execution_count": 83,
   "metadata": {
    "collapsed": true
   },
   "outputs": [],
   "source": [
    "shouldnt_combine = ['remote_work', 'family_history', 'leave', 'cowoerkers']\n",
    "more_work_to_combine = ['state', 'self_employed']"
   ]
  },
  {
   "cell_type": "code",
   "execution_count": 90,
   "metadata": {
    "collapsed": false,
    "scrolled": true
   },
   "outputs": [
    {
     "name": "stdout",
     "output_type": "stream",
     "text": [
      "\n",
      "2016    837\n",
      "2014    751\n",
      "Name: year, dtype: int64\n"
     ]
    }
   ],
   "source": [
    "preview_col('year', usdf)"
   ]
  },
  {
   "cell_type": "code",
   "execution_count": 85,
   "metadata": {
    "collapsed": false
   },
   "outputs": [
    {
     "name": "stdout",
     "output_type": "stream",
     "text": [
      "Would you be willing to discuss a mental health issue with your direct supervisor(s)?\n",
      "yes             304\n",
      "no              238\n",
      "some_of_them    209\n",
      "Name: supervisor, dtype: int64\n"
     ]
    }
   ],
   "source": [
    "preview_col('supervisor', usdf14)"
   ]
  },
  {
   "cell_type": "code",
   "execution_count": 86,
   "metadata": {
    "collapsed": false
   },
   "outputs": [
    {
     "name": "stdout",
     "output_type": "stream",
     "text": [
      "Would you feel comfortable discussing a mental health disorder with your direct supervisor(s)?\n",
      "yes      271\n",
      "maybe    229\n",
      "no       208\n",
      "NaN      129\n",
      "Name: supervisor, dtype: int64\n"
     ]
    }
   ],
   "source": [
    "preview_col('supervisor', usdf16)"
   ]
  },
  {
   "cell_type": "code",
   "execution_count": null,
   "metadata": {
    "collapsed": true
   },
   "outputs": [],
   "source": []
  },
  {
   "cell_type": "code",
   "execution_count": null,
   "metadata": {
    "collapsed": true
   },
   "outputs": [],
   "source": []
  },
  {
   "cell_type": "code",
   "execution_count": null,
   "metadata": {
    "collapsed": true
   },
   "outputs": [],
   "source": []
  }
 ],
 "metadata": {
  "kernelspec": {
   "display_name": "Python 2",
   "language": "python",
   "name": "python2"
  },
  "language_info": {
   "codemirror_mode": {
    "name": "ipython",
    "version": 2
   },
   "file_extension": ".py",
   "mimetype": "text/x-python",
   "name": "python",
   "nbconvert_exporter": "python",
   "pygments_lexer": "ipython2",
   "version": "2.7.13"
  }
 },
 "nbformat": 4,
 "nbformat_minor": 0
}
