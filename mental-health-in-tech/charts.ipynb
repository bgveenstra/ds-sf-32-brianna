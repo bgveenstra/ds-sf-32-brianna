{
 "cells": [
  {
   "cell_type": "markdown",
   "metadata": {},
   "source": [
    "Potential resource(s):\n",
    "http://scikit-learn.org/stable/auto_examples/cluster/plot_kmeans_digits.html#sphx-glr-auto-examples-cluster-plot-kmeans-digits-py"
   ]
  },
  {
   "cell_type": "markdown",
   "metadata": {},
   "source": [
    "# Mental Health in Tech Project\n",
    "\n",
    "## Data Sets\n",
    "\n",
    "[OSMI Survey on Mental Health in the Tech Workplace in 2014](https://www.kaggle.com/osmi/mental-health-in-tech-survey) \n",
    "\n",
    "[\"Ongoing\" OSMI survey from 2016](https://data.world/kittybot/osmi-mental-health-tech-2016)\n",
    "\n",
    "\n",
    "## Questions\n",
    "\n",
    "What factors are most signficant in influencing whether or not a person believes disclosing a mental health issue would have negative consequences?\n",
    "\n",
    "Can we predict, based on publicly available features of a person and company, whether that person is likely to beleive disclosing a mental health issue would be harmful for their career?"
   ]
  },
  {
   "cell_type": "markdown",
   "metadata": {},
   "source": [
    "## Exploring and Cleaning 2014 Data"
   ]
  },
  {
   "cell_type": "code",
   "execution_count": 1,
   "metadata": {
    "collapsed": true
   },
   "outputs": [],
   "source": [
    "import pandas as pd"
   ]
  },
  {
   "cell_type": "code",
   "execution_count": 2,
   "metadata": {
    "collapsed": false
   },
   "outputs": [
    {
     "name": "stdout",
     "output_type": "stream",
     "text": [
      "(1259, 29)\n"
     ]
    },
    {
     "data": {
      "text/html": [
       "<div>\n",
       "<table border=\"1\" class=\"dataframe\">\n",
       "  <thead>\n",
       "    <tr style=\"text-align: right;\">\n",
       "      <th></th>\n",
       "      <th>timestamp</th>\n",
       "      <th>age</th>\n",
       "      <th>gender</th>\n",
       "      <th>country</th>\n",
       "      <th>state</th>\n",
       "      <th>self_employed</th>\n",
       "      <th>family_history</th>\n",
       "      <th>treatment</th>\n",
       "      <th>work_interfere</th>\n",
       "      <th>num_employees</th>\n",
       "      <th>...</th>\n",
       "      <th>phys_health_consequence</th>\n",
       "      <th>coworkers</th>\n",
       "      <th>supervisor</th>\n",
       "      <th>mental_health_interview</th>\n",
       "      <th>phys_health_interview</th>\n",
       "      <th>mental_vs_physical</th>\n",
       "      <th>obs_consequence</th>\n",
       "      <th>comments</th>\n",
       "      <th>gender_category</th>\n",
       "      <th>year</th>\n",
       "    </tr>\n",
       "  </thead>\n",
       "  <tbody>\n",
       "    <tr>\n",
       "      <th>0</th>\n",
       "      <td>2014-08-27 11:29:31</td>\n",
       "      <td>37.0</td>\n",
       "      <td>Female</td>\n",
       "      <td>United States</td>\n",
       "      <td>IL</td>\n",
       "      <td>NaN</td>\n",
       "      <td>0</td>\n",
       "      <td>1</td>\n",
       "      <td>often</td>\n",
       "      <td>6-25</td>\n",
       "      <td>...</td>\n",
       "      <td>no</td>\n",
       "      <td>some_of_them</td>\n",
       "      <td>yes</td>\n",
       "      <td>no</td>\n",
       "      <td>maybe</td>\n",
       "      <td>yes</td>\n",
       "      <td>0</td>\n",
       "      <td>NaN</td>\n",
       "      <td>female</td>\n",
       "      <td>2014</td>\n",
       "    </tr>\n",
       "    <tr>\n",
       "      <th>1</th>\n",
       "      <td>2014-08-27 11:29:37</td>\n",
       "      <td>44.0</td>\n",
       "      <td>M</td>\n",
       "      <td>United States</td>\n",
       "      <td>IN</td>\n",
       "      <td>NaN</td>\n",
       "      <td>0</td>\n",
       "      <td>0</td>\n",
       "      <td>rarely</td>\n",
       "      <td>1000+</td>\n",
       "      <td>...</td>\n",
       "      <td>no</td>\n",
       "      <td>no</td>\n",
       "      <td>no</td>\n",
       "      <td>no</td>\n",
       "      <td>no</td>\n",
       "      <td>dont_know</td>\n",
       "      <td>0</td>\n",
       "      <td>NaN</td>\n",
       "      <td>male</td>\n",
       "      <td>2014</td>\n",
       "    </tr>\n",
       "    <tr>\n",
       "      <th>2</th>\n",
       "      <td>2014-08-27 11:29:44</td>\n",
       "      <td>32.0</td>\n",
       "      <td>Male</td>\n",
       "      <td>Canada</td>\n",
       "      <td>NaN</td>\n",
       "      <td>NaN</td>\n",
       "      <td>0</td>\n",
       "      <td>0</td>\n",
       "      <td>rarely</td>\n",
       "      <td>6-25</td>\n",
       "      <td>...</td>\n",
       "      <td>no</td>\n",
       "      <td>yes</td>\n",
       "      <td>yes</td>\n",
       "      <td>yes</td>\n",
       "      <td>yes</td>\n",
       "      <td>no</td>\n",
       "      <td>0</td>\n",
       "      <td>NaN</td>\n",
       "      <td>male</td>\n",
       "      <td>2014</td>\n",
       "    </tr>\n",
       "  </tbody>\n",
       "</table>\n",
       "<p>3 rows × 29 columns</p>\n",
       "</div>"
      ],
      "text/plain": [
       "             timestamp   age  gender        country state self_employed  \\\n",
       "0  2014-08-27 11:29:31  37.0  Female  United States    IL           NaN   \n",
       "1  2014-08-27 11:29:37  44.0       M  United States    IN           NaN   \n",
       "2  2014-08-27 11:29:44  32.0    Male         Canada   NaN           NaN   \n",
       "\n",
       "   family_history  treatment work_interfere num_employees  ...   \\\n",
       "0               0          1          often          6-25  ...    \n",
       "1               0          0         rarely         1000+  ...    \n",
       "2               0          0         rarely          6-25  ...    \n",
       "\n",
       "   phys_health_consequence     coworkers supervisor mental_health_interview  \\\n",
       "0                       no  some_of_them        yes                      no   \n",
       "1                       no            no         no                      no   \n",
       "2                       no           yes        yes                     yes   \n",
       "\n",
       "  phys_health_interview mental_vs_physical obs_consequence comments  \\\n",
       "0                 maybe                yes               0      NaN   \n",
       "1                    no          dont_know               0      NaN   \n",
       "2                   yes                 no               0      NaN   \n",
       "\n",
       "  gender_category  year  \n",
       "0          female  2014  \n",
       "1            male  2014  \n",
       "2            male  2014  \n",
       "\n",
       "[3 rows x 29 columns]"
      ]
     },
     "execution_count": 2,
     "metadata": {},
     "output_type": "execute_result"
    }
   ],
   "source": [
    "df14 = pd.read_csv(\"./datasets/2014/clean-no-dummies-2014.csv\", index_col=0)\n",
    "df14['year'] = '2014'\n",
    "print df14.shape\n",
    "df14.head(3)"
   ]
  },
  {
   "cell_type": "code",
   "execution_count": 3,
   "metadata": {
    "collapsed": false
   },
   "outputs": [
    {
     "name": "stdout",
     "output_type": "stream",
     "text": [
      "(1433, 65)\n"
     ]
    },
    {
     "data": {
      "text/html": [
       "<div>\n",
       "<table border=\"1\" class=\"dataframe\">\n",
       "  <thead>\n",
       "    <tr style=\"text-align: right;\">\n",
       "      <th></th>\n",
       "      <th>self_employed</th>\n",
       "      <th>num_employees</th>\n",
       "      <th>tech_company</th>\n",
       "      <th>tech_role</th>\n",
       "      <th>benefits</th>\n",
       "      <th>care_options</th>\n",
       "      <th>wellness_program</th>\n",
       "      <th>seek_help</th>\n",
       "      <th>anonymity</th>\n",
       "      <th>leave</th>\n",
       "      <th>...</th>\n",
       "      <th>age</th>\n",
       "      <th>gender</th>\n",
       "      <th>live_in_country</th>\n",
       "      <th>live_in_state</th>\n",
       "      <th>work_in_country</th>\n",
       "      <th>work_in_state</th>\n",
       "      <th>position</th>\n",
       "      <th>remote_work</th>\n",
       "      <th>gender_category</th>\n",
       "      <th>year</th>\n",
       "    </tr>\n",
       "  </thead>\n",
       "  <tbody>\n",
       "    <tr>\n",
       "      <th>0</th>\n",
       "      <td>0</td>\n",
       "      <td>26-100</td>\n",
       "      <td>1.0</td>\n",
       "      <td>NaN</td>\n",
       "      <td>doesnt_apply</td>\n",
       "      <td>NaN</td>\n",
       "      <td>no</td>\n",
       "      <td>no</td>\n",
       "      <td>dont_know</td>\n",
       "      <td>very_easy</td>\n",
       "      <td>...</td>\n",
       "      <td>39.0</td>\n",
       "      <td>Male</td>\n",
       "      <td>united_kingdom</td>\n",
       "      <td>NaN</td>\n",
       "      <td>united_kingdom</td>\n",
       "      <td>NaN</td>\n",
       "      <td>Back-end Developer</td>\n",
       "      <td>sometimes</td>\n",
       "      <td>male</td>\n",
       "      <td>2016</td>\n",
       "    </tr>\n",
       "    <tr>\n",
       "      <th>1</th>\n",
       "      <td>0</td>\n",
       "      <td>6-25</td>\n",
       "      <td>1.0</td>\n",
       "      <td>NaN</td>\n",
       "      <td>no</td>\n",
       "      <td>yes</td>\n",
       "      <td>yes</td>\n",
       "      <td>yes</td>\n",
       "      <td>yes</td>\n",
       "      <td>somewhat_easy</td>\n",
       "      <td>...</td>\n",
       "      <td>29.0</td>\n",
       "      <td>male</td>\n",
       "      <td>united_states</td>\n",
       "      <td>illinois</td>\n",
       "      <td>united_states_of_america</td>\n",
       "      <td>illinois</td>\n",
       "      <td>Back-end Developer|Front-end Developer</td>\n",
       "      <td>never</td>\n",
       "      <td>male</td>\n",
       "      <td>2016</td>\n",
       "    </tr>\n",
       "    <tr>\n",
       "      <th>2</th>\n",
       "      <td>0</td>\n",
       "      <td>6-25</td>\n",
       "      <td>1.0</td>\n",
       "      <td>NaN</td>\n",
       "      <td>no</td>\n",
       "      <td>NaN</td>\n",
       "      <td>no</td>\n",
       "      <td>no</td>\n",
       "      <td>dont_know</td>\n",
       "      <td>neither_easy_nor_difficult</td>\n",
       "      <td>...</td>\n",
       "      <td>38.0</td>\n",
       "      <td>Male</td>\n",
       "      <td>united_kingdom</td>\n",
       "      <td>NaN</td>\n",
       "      <td>united_kingdom</td>\n",
       "      <td>NaN</td>\n",
       "      <td>Back-end Developer</td>\n",
       "      <td>always</td>\n",
       "      <td>male</td>\n",
       "      <td>2016</td>\n",
       "    </tr>\n",
       "  </tbody>\n",
       "</table>\n",
       "<p>3 rows × 65 columns</p>\n",
       "</div>"
      ],
      "text/plain": [
       "   self_employed num_employees  tech_company  tech_role      benefits  \\\n",
       "0              0        26-100           1.0        NaN  doesnt_apply   \n",
       "1              0          6-25           1.0        NaN            no   \n",
       "2              0          6-25           1.0        NaN            no   \n",
       "\n",
       "  care_options wellness_program seek_help  anonymity  \\\n",
       "0          NaN               no        no  dont_know   \n",
       "1          yes              yes       yes        yes   \n",
       "2          NaN               no        no  dont_know   \n",
       "\n",
       "                        leave  ...    age gender live_in_country  \\\n",
       "0                   very_easy  ...   39.0   Male  united_kingdom   \n",
       "1               somewhat_easy  ...   29.0   male   united_states   \n",
       "2  neither_easy_nor_difficult  ...   38.0  Male   united_kingdom   \n",
       "\n",
       "  live_in_state           work_in_country  work_in_state  \\\n",
       "0           NaN            united_kingdom            NaN   \n",
       "1      illinois  united_states_of_america       illinois   \n",
       "2           NaN            united_kingdom            NaN   \n",
       "\n",
       "                                 position remote_work gender_category  year  \n",
       "0                      Back-end Developer   sometimes            male  2016  \n",
       "1  Back-end Developer|Front-end Developer       never            male  2016  \n",
       "2                      Back-end Developer      always            male  2016  \n",
       "\n",
       "[3 rows x 65 columns]"
      ]
     },
     "execution_count": 3,
     "metadata": {},
     "output_type": "execute_result"
    }
   ],
   "source": [
    "df16 = pd.read_csv(\"./datasets/2016/clean-no-dummies-2016.csv\", index_col=0)\n",
    "df16['year'] = '2016'\n",
    "print df16.shape\n",
    "df16.head(3)"
   ]
  },
  {
   "cell_type": "code",
   "execution_count": 4,
   "metadata": {
    "collapsed": false
   },
   "outputs": [
    {
     "name": "stdout",
     "output_type": "stream",
     "text": [
      "set(['timestamp', 'state', 'work_interfere', 'comments', 'country'])\n",
      "set(['hurt_career', 'revealed_contacts', 'prev_coworkers', 'prev_mental_health_consequence', 'mental_health_interview_comment', 'reluctant_due_to_obs', 'insurance', 'prev_seek_help', 'work_in_state', 'past_disorder', 'prev_employer', 'professional_diagnosed', 'prev_benefits', 'friends_family', 'diagnosed_conditions', 'prev_supervisor', 'revealed_coworkers', 'professional_diagnoses', 'prev_phys_health_consequence', 'tech_role', 'live_in_state', 'viewed_negatively', 'work_interfere_untreated', 'percent_time_impacted', 'prev_wellness_program', 'know_resources', 'believed_conditions', 'productivity_impacted', 'revealed_contacts_consequence', 'prev_anonymity', 'current_disorder', 'obs_negative_response', 'work_interfere_treated', 'revealed_coworkers_consequence', 'prev_mental_vs_physical', 'prev_obs_consequence', 'phys_health_interview_comment', 'live_in_country', 'prev_care_options', 'work_in_country', 'position'])\n"
     ]
    }
   ],
   "source": [
    "# print df14.columns\n",
    "# print df16.columns\n",
    "colset14 = set(df14.columns)\n",
    "colset16 = set(df16.columns)\n",
    "print colset14 - colset16\n",
    "print colset16 - colset14"
   ]
  },
  {
   "cell_type": "code",
   "execution_count": 5,
   "metadata": {
    "collapsed": true
   },
   "outputs": [],
   "source": [
    "df = pd.concat([df14, df16])"
   ]
  },
  {
   "cell_type": "markdown",
   "metadata": {},
   "source": [
    "### Chart Imports & config\n"
   ]
  },
  {
   "cell_type": "code",
   "execution_count": 6,
   "metadata": {
    "collapsed": false
   },
   "outputs": [],
   "source": [
    "import matplotlib\n",
    "%matplotlib inline\n",
    "plt = matplotlib.pyplot\n"
   ]
  },
  {
   "cell_type": "markdown",
   "metadata": {},
   "source": [
    "### Age\n"
   ]
  },
  {
   "cell_type": "markdown",
   "metadata": {},
   "source": [
    "Plan: \n",
    "- group by age\n",
    "- get frequency of mental health yes/no/maybe for each age group\n",
    "- plot frequencies (y) by age (x)"
   ]
  },
  {
   "cell_type": "code",
   "execution_count": null,
   "metadata": {
    "collapsed": true
   },
   "outputs": [],
   "source": []
  },
  {
   "cell_type": "code",
   "execution_count": 8,
   "metadata": {
    "collapsed": false
   },
   "outputs": [
    {
     "data": {
      "text/plain": [
       "<pandas.core.groupby.DataFrameGroupBy object at 0x1103ec2d0>"
      ]
     },
     "execution_count": 8,
     "metadata": {},
     "output_type": "execute_result"
    }
   ],
   "source": [
    "df14.groupby('age')\n",
    "# PL\n",
    "# for key,grp in df14.groupby('age'):\n",
    "#     print key\n",
    "#     print grp['mental_health_consequence'].value_counts()\n",
    "\n",
    "# df2 = df14.groupby(['age'])['mental_health_consequence'].count()#.unstack('Abuse/NFF').fillna(0)\n",
    "# df2[['mental_health_consequence','age']].plot(kind='bar')\n",
    "# df2.plot(kind='bar')"
   ]
  },
  {
   "cell_type": "code",
   "execution_count": 25,
   "metadata": {
    "collapsed": false
   },
   "outputs": [
    {
     "data": {
      "text/html": [
       "<div>\n",
       "<table border=\"1\" class=\"dataframe\">\n",
       "  <thead>\n",
       "    <tr style=\"text-align: right;\">\n",
       "      <th></th>\n",
       "      <th>timestamp</th>\n",
       "      <th>age</th>\n",
       "      <th>gender</th>\n",
       "      <th>country</th>\n",
       "      <th>state</th>\n",
       "      <th>self_employed</th>\n",
       "      <th>family_history</th>\n",
       "      <th>treatment</th>\n",
       "      <th>work_interfere</th>\n",
       "      <th>num_employees</th>\n",
       "      <th>...</th>\n",
       "      <th>phys_health_consequence</th>\n",
       "      <th>coworkers</th>\n",
       "      <th>supervisor</th>\n",
       "      <th>mental_health_interview</th>\n",
       "      <th>phys_health_interview</th>\n",
       "      <th>mental_vs_physical</th>\n",
       "      <th>obs_consequence</th>\n",
       "      <th>comments</th>\n",
       "      <th>gender_category</th>\n",
       "      <th>year</th>\n",
       "    </tr>\n",
       "  </thead>\n",
       "  <tbody>\n",
       "    <tr>\n",
       "      <th>0</th>\n",
       "      <td>2014-08-27 11:29:31</td>\n",
       "      <td>37.0</td>\n",
       "      <td>Female</td>\n",
       "      <td>United States</td>\n",
       "      <td>IL</td>\n",
       "      <td>NaN</td>\n",
       "      <td>0</td>\n",
       "      <td>1</td>\n",
       "      <td>often</td>\n",
       "      <td>6-25</td>\n",
       "      <td>...</td>\n",
       "      <td>no</td>\n",
       "      <td>some_of_them</td>\n",
       "      <td>yes</td>\n",
       "      <td>no</td>\n",
       "      <td>maybe</td>\n",
       "      <td>yes</td>\n",
       "      <td>0</td>\n",
       "      <td>NaN</td>\n",
       "      <td>female</td>\n",
       "      <td>2014</td>\n",
       "    </tr>\n",
       "    <tr>\n",
       "      <th>1</th>\n",
       "      <td>2014-08-27 11:29:37</td>\n",
       "      <td>44.0</td>\n",
       "      <td>M</td>\n",
       "      <td>United States</td>\n",
       "      <td>IN</td>\n",
       "      <td>NaN</td>\n",
       "      <td>0</td>\n",
       "      <td>0</td>\n",
       "      <td>rarely</td>\n",
       "      <td>1000+</td>\n",
       "      <td>...</td>\n",
       "      <td>no</td>\n",
       "      <td>no</td>\n",
       "      <td>no</td>\n",
       "      <td>no</td>\n",
       "      <td>no</td>\n",
       "      <td>dont_know</td>\n",
       "      <td>0</td>\n",
       "      <td>NaN</td>\n",
       "      <td>male</td>\n",
       "      <td>2014</td>\n",
       "    </tr>\n",
       "  </tbody>\n",
       "</table>\n",
       "<p>2 rows × 29 columns</p>\n",
       "</div>"
      ],
      "text/plain": [
       "             timestamp   age  gender        country state self_employed  \\\n",
       "0  2014-08-27 11:29:31  37.0  Female  United States    IL           NaN   \n",
       "1  2014-08-27 11:29:37  44.0       M  United States    IN           NaN   \n",
       "\n",
       "   family_history  treatment work_interfere num_employees  ...   \\\n",
       "0               0          1          often          6-25  ...    \n",
       "1               0          0         rarely         1000+  ...    \n",
       "\n",
       "   phys_health_consequence     coworkers supervisor mental_health_interview  \\\n",
       "0                       no  some_of_them        yes                      no   \n",
       "1                       no            no         no                      no   \n",
       "\n",
       "  phys_health_interview mental_vs_physical obs_consequence comments  \\\n",
       "0                 maybe                yes               0      NaN   \n",
       "1                    no          dont_know               0      NaN   \n",
       "\n",
       "  gender_category  year  \n",
       "0          female  2014  \n",
       "1            male  2014  \n",
       "\n",
       "[2 rows x 29 columns]"
      ]
     },
     "execution_count": 25,
     "metadata": {},
     "output_type": "execute_result"
    }
   ],
   "source": [
    "df14.head(2)"
   ]
  },
  {
   "cell_type": "code",
   "execution_count": null,
   "metadata": {
    "collapsed": true
   },
   "outputs": [],
   "source": []
  },
  {
   "cell_type": "code",
   "execution_count": null,
   "metadata": {
    "collapsed": true
   },
   "outputs": [],
   "source": []
  }
 ],
 "metadata": {
  "kernelspec": {
   "display_name": "Python 2",
   "language": "python",
   "name": "python2"
  },
  "language_info": {
   "codemirror_mode": {
    "name": "ipython",
    "version": 2
   },
   "file_extension": ".py",
   "mimetype": "text/x-python",
   "name": "python",
   "nbconvert_exporter": "python",
   "pygments_lexer": "ipython2",
   "version": "2.7.13"
  }
 },
 "nbformat": 4,
 "nbformat_minor": 0
}
