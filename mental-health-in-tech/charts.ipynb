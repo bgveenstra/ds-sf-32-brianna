{
 "cells": [
  {
   "cell_type": "markdown",
   "metadata": {},
   "source": [
    "# Mental Health in Tech Project\n",
    "\n",
    "## Data Sets\n",
    "\n",
    "[OSMI Survey on Mental Health in the Tech Workplace in 2014](https://www.kaggle.com/osmi/mental-health-in-tech-survey) \n",
    "\n",
    "[\"Ongoing\" OSMI survey from 2016](https://data.world/kittybot/osmi-mental-health-tech-2016)\n",
    "\n",
    "\n",
    "## Questions\n",
    "\n",
    "What factors are most signficant in influencing whether or not a person believes disclosing a mental health issue would have negative consequences?\n",
    "\n",
    "Can we predict, based on publicly available features of a person and company, whether that person is likely to beleive disclosing a mental health issue would be harmful for their career?"
   ]
  },
  {
   "cell_type": "markdown",
   "metadata": {},
   "source": [
    "## Exploring and Cleaning 2014 Data\n",
    "\n",
    "See cleaning.ipynb"
   ]
  },
  {
   "cell_type": "code",
   "execution_count": 3,
   "metadata": {
    "collapsed": true
   },
   "outputs": [],
   "source": [
    "import pandas as pd"
   ]
  },
  {
   "cell_type": "code",
   "execution_count": 4,
   "metadata": {
    "collapsed": false
   },
   "outputs": [
    {
     "name": "stdout",
     "output_type": "stream",
     "text": [
      "(1259, 27)\n"
     ]
    }
   ],
   "source": [
    "df14 = pd.read_csv(\"./datasets/2014/mental-health-in-tech-2014.csv\")\n",
    "print df14.shape\n",
    "# df14.head(3)"
   ]
  },
  {
   "cell_type": "code",
   "execution_count": 5,
   "metadata": {
    "collapsed": false
   },
   "outputs": [],
   "source": [
    "# standardize columns to have lowercase names\n",
    "df14.rename(columns={'Age': 'age', 'Gender': 'gender', 'Country': 'country', 'Timestamp': 'timestamp'}, inplace=True)\n",
    "# replace confusing no_employees column name\n",
    "df14.rename(columns={'no_employees': 'num_employees'}, inplace=True)\n"
   ]
  },
  {
   "cell_type": "code",
   "execution_count": 6,
   "metadata": {
    "collapsed": false
   },
   "outputs": [
    {
     "name": "stdout",
     "output_type": "stream",
     "text": [
      "(1259, 27)\n"
     ]
    }
   ],
   "source": [
    "df_original = pd.read_csv(\"./datasets/2014/osmi-mental-health-in-tech-original.csv\")\n",
    "print df_original.shape\n",
    "# print df_original.columns   # original questions/fields"
   ]
  },
  {
   "cell_type": "markdown",
   "metadata": {},
   "source": [
    "<details><summary> Click to expand all **original questions/fields** </summary>\n",
    "    \n",
    "- Timestamp   \n",
    "- Age  \n",
    "- Gender   \n",
    "- Country  \n",
    "- If you live in the United States, which state or territory do you live in?  \n",
    "- Are you self-employed?  \n",
    "- Do you have a family history of mental illness?  \n",
    "- Have you sought treatment for a mental health condition?  \n",
    "- If you have a mental health condition, do you feel that it interferes with your work?  \n",
    "- How many employees does your company or organization have?  \n",
    "- Do you work remotely (outside of an office) at least 50% of the time?  \n",
    "- Is your employer primarily a tech company/organization?  \n",
    "- Does your employer provide mental health benefits?  \n",
    "- Do you know the options for mental health care your employer provides?  \n",
    "- Has your employer ever discussed mental health as part of an employee wellness program?  \n",
    "- Does your employer provide resources to learn more about mental health issues and how to seek help?  \n",
    "- Is your anonymity protected if you choose to take advantage of mental health or substance abuse treatment resources?  \n",
    "- How easy is it for you to take medical leave for a mental health condition?  \n",
    "- Do you think that discussing a mental health issue with your employer would have negative consequences?  \n",
    "- Do you think that discussing a physical health issue with your employer would have negative consequences?  \n",
    "- Would you be willing to discuss a mental health issue with your coworkers?  \n",
    "- Would you be willing to discuss a mental health issue with your direct supervisor(s)?  \n",
    "- Would you bring up a mental health issue with a potential employer in an interview?  \n",
    "- Would you bring up a physical health issue with a potential employer in an interview?  \n",
    "- Do you feel that your employer takes mental health as seriously as physical health?  \n",
    "- Have you heard of or observed negative consequences for coworkers with mental health conditions in your workplace?  \n",
    "- Any additional notes or comments\n",
    "</details>"
   ]
  },
  {
   "cell_type": "code",
   "execution_count": 7,
   "metadata": {
    "collapsed": false,
    "scrolled": true
   },
   "outputs": [
    {
     "data": {
      "text/plain": [
       "'Do you feel that your employer takes mental health as seriously as physical health?'"
      ]
     },
     "execution_count": 7,
     "metadata": {},
     "output_type": "execute_result"
    }
   ],
   "source": [
    "# create reference to look up questions based on column names\n",
    "column_names = df14.columns\n",
    "questions = df_original.columns\n",
    "col_question_map = { \n",
    "    column_names[i]: questions[i] for i in range(df_original.shape[1]-1) \n",
    "}\n",
    "\n",
    "# for example:\n",
    "col_question_map['mental_vs_physical']"
   ]
  },
  {
   "cell_type": "code",
   "execution_count": 22,
   "metadata": {
    "collapsed": false
   },
   "outputs": [
    {
     "data": {
      "text/plain": [
       "{'age': 'Age',\n",
       " 'anonymity': 'Is your anonymity protected if you choose to take advantage of mental health or substance abuse treatment resources?',\n",
       " 'benefits': 'Does your employer provide mental health benefits?',\n",
       " 'care_options': 'Do you know the options for mental health care your employer provides?',\n",
       " 'country': 'Country',\n",
       " 'coworkers': 'Would you be willing to discuss a mental health issue with your coworkers?',\n",
       " 'family_history': 'Do you have a family history of mental illness?',\n",
       " 'gender': 'Gender',\n",
       " 'leave': 'How easy is it for you to take medical leave for a mental health condition?',\n",
       " 'mental_health_consequence': 'Do you think that discussing a mental health issue with your employer would have negative consequences?',\n",
       " 'mental_health_interview': 'Would you bring up a mental health issue with a potential employer in an interview?',\n",
       " 'mental_vs_physical': 'Do you feel that your employer takes mental health as seriously as physical health?',\n",
       " 'num_employees': 'How many employees does your company or organization have?',\n",
       " 'obs_consequence': 'Have you heard of or observed negative consequences for coworkers with mental health conditions in your workplace?',\n",
       " 'phys_health_consequence': 'Do you think that discussing a physical health issue with your employer would have negative consequences?',\n",
       " 'phys_health_interview': 'Would you bring up a physical health issue with a potential employer in an interview?',\n",
       " 'remote_work': 'Do you work remotely (outside of an office) at least 50% of the time?',\n",
       " 'seek_help': 'Does your employer provide resources to learn more about mental health issues and how to seek help?',\n",
       " 'self_employed': 'Are you self-employed?',\n",
       " 'state': 'If you live in the United States, which state or territory do you live in?',\n",
       " 'supervisor': 'Would you be willing to discuss a mental health issue with your direct supervisor(s)?',\n",
       " 'tech_company': 'Is your employer primarily a tech company/organization?',\n",
       " 'timestamp': 'Timestamp',\n",
       " 'treatment': 'Have you sought treatment for a mental health condition?',\n",
       " 'wellness_program': 'Has your employer ever discussed mental health as part of an employee wellness program?',\n",
       " 'work_interfere': 'If you have a mental health condition, do you feel that it interferes with your work?'}"
      ]
     },
     "execution_count": 22,
     "metadata": {},
     "output_type": "execute_result"
    }
   ],
   "source": [
    "col_question_map\n"
   ]
  },
  {
   "cell_type": "code",
   "execution_count": 41,
   "metadata": {
    "collapsed": false
   },
   "outputs": [],
   "source": [
    "def stats(col):\n",
    "    print df[col].value_counts()/df.shape[0]\n",
    "    print col_question_map[col]"
   ]
  },
  {
   "cell_type": "code",
   "execution_count": 40,
   "metadata": {
    "collapsed": false
   },
   "outputs": [],
   "source": [
    "def tstats(col):\n",
    "    print df[df['treatment']==1][col].value_counts()/df[df['treatment']==1].shape[0]\n",
    "    print col_question_map[col]\n"
   ]
  },
  {
   "cell_type": "code",
   "execution_count": 44,
   "metadata": {
    "collapsed": false
   },
   "outputs": [
    {
     "name": "stdout",
     "output_type": "stream",
     "text": [
      "0    0.799058\n",
      "1    0.200942\n",
      "Name: obs_consequence, dtype: float64\n",
      "Have you heard of or observed negative consequences for coworkers with mental health conditions in your workplace?\n"
     ]
    }
   ],
   "source": [
    "tstats('obs_consequence')"
   ]
  },
  {
   "cell_type": "code",
   "execution_count": null,
   "metadata": {
    "collapsed": true
   },
   "outputs": [],
   "source": [
    "nstats('mental_health_consequence')"
   ]
  },
  {
   "cell_type": "code",
   "execution_count": 33,
   "metadata": {
    "collapsed": false
   },
   "outputs": [
    {
     "name": "stdout",
     "output_type": "stream",
     "text": [
      "no       0.800635\n",
      "maybe    0.164416\n",
      "yes      0.034948\n",
      "Name: mental_health_interview, dtype: float64\n",
      "Would you bring up a mental health issue with a potential employer in an interview?\n"
     ]
    }
   ],
   "source": [
    "stats('mental_health_interview')"
   ]
  },
  {
   "cell_type": "code",
   "execution_count": 35,
   "metadata": {
    "collapsed": false
   },
   "outputs": [
    {
     "name": "stdout",
     "output_type": "stream",
     "text": [
      "yes             0.409849\n",
      "no              0.312153\n",
      "some_of_them    0.277998\n",
      "Name: supervisor, dtype: float64\n",
      "Would you be willing to discuss a mental health issue with your direct supervisor(s)?\n"
     ]
    }
   ],
   "source": [
    "stats('supervisor')"
   ]
  },
  {
   "cell_type": "markdown",
   "metadata": {},
   "source": [
    "#### Load Cleaned Data\n"
   ]
  },
  {
   "cell_type": "code",
   "execution_count": 8,
   "metadata": {
    "collapsed": false
   },
   "outputs": [
    {
     "name": "stdout",
     "output_type": "stream",
     "text": [
      "(1259, 183)\n"
     ]
    }
   ],
   "source": [
    "df = pd.read_csv(\"./datasets/2014/clean-mental-health-in-tech-2014.csv\", index_col=0)\n",
    "print df.shape"
   ]
  },
  {
   "cell_type": "code",
   "execution_count": 9,
   "metadata": {
    "collapsed": false
   },
   "outputs": [
    {
     "name": "stdout",
     "output_type": "stream",
     "text": [
      "age has 8 NaNs\n",
      "state has 515 NaNs\n",
      "self_employed has 18 NaNs\n",
      "work_interfere has 264 NaNs\n",
      "comments has 1095 NaNs\n"
     ]
    }
   ],
   "source": [
    "# quick NaN check\n",
    "counts = df.count()\n",
    "numrows = df.shape[0]\n",
    "for col in df.columns:\n",
    "    if counts[col] != numrows:\n",
    "        print \"{0} has {1} NaNs\".format(col, numrows-counts[col])"
   ]
  },
  {
   "cell_type": "code",
   "execution_count": 10,
   "metadata": {
    "collapsed": false
   },
   "outputs": [
    {
     "data": {
      "text/html": [
       "<div>\n",
       "<table border=\"1\" class=\"dataframe\">\n",
       "  <thead>\n",
       "    <tr style=\"text-align: right;\">\n",
       "      <th></th>\n",
       "      <th>timestamp</th>\n",
       "      <th>age</th>\n",
       "      <th>gender</th>\n",
       "      <th>country</th>\n",
       "      <th>state</th>\n",
       "      <th>self_employed</th>\n",
       "      <th>family_history</th>\n",
       "      <th>treatment</th>\n",
       "      <th>work_interfere</th>\n",
       "      <th>num_employees</th>\n",
       "      <th>...</th>\n",
       "      <th>phys_health_consequence_no</th>\n",
       "      <th>phys_health_consequence_yes</th>\n",
       "      <th>leave_dont_know</th>\n",
       "      <th>leave_somewhat_difficult</th>\n",
       "      <th>leave_somewhat_easy</th>\n",
       "      <th>leave_very_difficult</th>\n",
       "      <th>leave_very_easy</th>\n",
       "      <th>gender_category_female</th>\n",
       "      <th>gender_category_male</th>\n",
       "      <th>gender_category_other</th>\n",
       "    </tr>\n",
       "  </thead>\n",
       "  <tbody>\n",
       "    <tr>\n",
       "      <th>0</th>\n",
       "      <td>2014-08-27 11:29:31</td>\n",
       "      <td>37.0</td>\n",
       "      <td>Female</td>\n",
       "      <td>United States</td>\n",
       "      <td>IL</td>\n",
       "      <td>NaN</td>\n",
       "      <td>0</td>\n",
       "      <td>1</td>\n",
       "      <td>often</td>\n",
       "      <td>6-25</td>\n",
       "      <td>...</td>\n",
       "      <td>1</td>\n",
       "      <td>0</td>\n",
       "      <td>0</td>\n",
       "      <td>0</td>\n",
       "      <td>1</td>\n",
       "      <td>0</td>\n",
       "      <td>0</td>\n",
       "      <td>1</td>\n",
       "      <td>0</td>\n",
       "      <td>0</td>\n",
       "    </tr>\n",
       "    <tr>\n",
       "      <th>1</th>\n",
       "      <td>2014-08-27 11:29:37</td>\n",
       "      <td>44.0</td>\n",
       "      <td>M</td>\n",
       "      <td>United States</td>\n",
       "      <td>IN</td>\n",
       "      <td>NaN</td>\n",
       "      <td>0</td>\n",
       "      <td>0</td>\n",
       "      <td>rarely</td>\n",
       "      <td>1000+</td>\n",
       "      <td>...</td>\n",
       "      <td>1</td>\n",
       "      <td>0</td>\n",
       "      <td>1</td>\n",
       "      <td>0</td>\n",
       "      <td>0</td>\n",
       "      <td>0</td>\n",
       "      <td>0</td>\n",
       "      <td>0</td>\n",
       "      <td>1</td>\n",
       "      <td>0</td>\n",
       "    </tr>\n",
       "  </tbody>\n",
       "</table>\n",
       "<p>2 rows × 183 columns</p>\n",
       "</div>"
      ],
      "text/plain": [
       "             timestamp   age  gender        country state self_employed  \\\n",
       "0  2014-08-27 11:29:31  37.0  Female  United States    IL           NaN   \n",
       "1  2014-08-27 11:29:37  44.0       M  United States    IN           NaN   \n",
       "\n",
       "   family_history  treatment work_interfere num_employees  \\\n",
       "0               0          1          often          6-25   \n",
       "1               0          0         rarely         1000+   \n",
       "\n",
       "           ...           phys_health_consequence_no  \\\n",
       "0          ...                                    1   \n",
       "1          ...                                    1   \n",
       "\n",
       "   phys_health_consequence_yes leave_dont_know leave_somewhat_difficult  \\\n",
       "0                            0               0                        0   \n",
       "1                            0               1                        0   \n",
       "\n",
       "  leave_somewhat_easy leave_very_difficult leave_very_easy  \\\n",
       "0                   1                    0               0   \n",
       "1                   0                    0               0   \n",
       "\n",
       "  gender_category_female gender_category_male gender_category_other  \n",
       "0                      1                    0                     0  \n",
       "1                      0                    1                     0  \n",
       "\n",
       "[2 rows x 183 columns]"
      ]
     },
     "execution_count": 10,
     "metadata": {},
     "output_type": "execute_result"
    }
   ],
   "source": [
    "df.head(2)"
   ]
  },
  {
   "cell_type": "markdown",
   "metadata": {},
   "source": [
    "## Charts\n"
   ]
  },
  {
   "cell_type": "code",
   "execution_count": 13,
   "metadata": {
    "collapsed": false
   },
   "outputs": [],
   "source": [
    "import matplotlib.pyplot as plt\n",
    "% matplotlib inline"
   ]
  },
  {
   "cell_type": "code",
   "execution_count": 14,
   "metadata": {
    "collapsed": false
   },
   "outputs": [
    {
     "data": {
      "text/plain": [
       "'Do you think that discussing a mental health issue with your employer would have negative consequences?'"
      ]
     },
     "execution_count": 14,
     "metadata": {},
     "output_type": "execute_result"
    }
   ],
   "source": [
    "col_question_map['mental_health_consequence']"
   ]
  },
  {
   "cell_type": "code",
   "execution_count": 20,
   "metadata": {
    "collapsed": false
   },
   "outputs": [
    {
     "name": "stdout",
     "output_type": "stream",
     "text": [
      "(1233, 183)\n"
     ]
    },
    {
     "data": {
      "text/plain": [
       "no       476\n",
       "maybe    471\n",
       "yes      286\n",
       "Name: mental_health_consequence, dtype: int64"
      ]
     },
     "execution_count": 20,
     "metadata": {},
     "output_type": "execute_result"
    }
   ],
   "source": [
    "tdf = df.dropna(subset=['self_employed', 'age'])\n",
    "print tdf.shape\n",
    "y = tdf['mental_health_consequence']\n",
    "y.value_counts()"
   ]
  },
  {
   "cell_type": "code",
   "execution_count": 21,
   "metadata": {
    "collapsed": false
   },
   "outputs": [],
   "source": [
    "# col_question_map\n"
   ]
  },
  {
   "cell_type": "code",
   "execution_count": null,
   "metadata": {
    "collapsed": true
   },
   "outputs": [],
   "source": []
  },
  {
   "cell_type": "code",
   "execution_count": null,
   "metadata": {
    "collapsed": true
   },
   "outputs": [],
   "source": [
    "tdf.plot.bar(x=[], y=None, **kwds)[source]"
   ]
  }
 ],
 "metadata": {
  "kernelspec": {
   "display_name": "Python 2",
   "language": "python",
   "name": "python2"
  },
  "language_info": {
   "codemirror_mode": {
    "name": "ipython",
    "version": 2
   },
   "file_extension": ".py",
   "mimetype": "text/x-python",
   "name": "python",
   "nbconvert_exporter": "python",
   "pygments_lexer": "ipython2",
   "version": "2.7.13"
  }
 },
 "nbformat": 4,
 "nbformat_minor": 0
}
