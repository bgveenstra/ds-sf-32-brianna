{
 "cells": [
  {
   "cell_type": "markdown",
   "metadata": {},
   "source": [
    "Potential resource(s):\n",
    "http://scikit-learn.org/stable/auto_examples/cluster/plot_kmeans_digits.html#sphx-glr-auto-examples-cluster-plot-kmeans-digits-py"
   ]
  },
  {
   "cell_type": "markdown",
   "metadata": {},
   "source": [
    "# Mental Health in Tech Project\n",
    "\n",
    "## Data Sets\n",
    "\n",
    "[OSMI Survey on Mental Health in the Tech Workplace in 2014](https://www.kaggle.com/osmi/mental-health-in-tech-survey) \n",
    "\n",
    "[\"Ongoing\" OSMI survey from 2016](https://data.world/kittybot/osmi-mental-health-tech-2016)\n",
    "\n",
    "\n",
    "## Questions\n",
    "\n",
    "What factors are most signficant in influencing whether or not a person believes disclosing a mental health issue would have negative consequences?\n",
    "\n",
    "Can we predict, based on publicly available features of a person and company, whether that person is likely to beleive disclosing a mental health issue would be harmful for their career?"
   ]
  },
  {
   "cell_type": "markdown",
   "metadata": {},
   "source": [
    "## Exploring and Cleaning 2016 Data"
   ]
  },
  {
   "cell_type": "code",
   "execution_count": 1,
   "metadata": {
    "collapsed": true
   },
   "outputs": [],
   "source": [
    "import pandas as pd"
   ]
  },
  {
   "cell_type": "code",
   "execution_count": 2,
   "metadata": {
    "collapsed": false
   },
   "outputs": [
    {
     "name": "stdout",
     "output_type": "stream",
     "text": [
      "(1433, 63)\n"
     ]
    },
    {
     "data": {
      "text/html": [
       "<div>\n",
       "<table border=\"1\" class=\"dataframe\">\n",
       "  <thead>\n",
       "    <tr style=\"text-align: right;\">\n",
       "      <th></th>\n",
       "      <th>Are you self-employed?</th>\n",
       "      <th>How many employees does your company or organization have?</th>\n",
       "      <th>Is your employer primarily a tech company/organization?</th>\n",
       "      <th>Is your primary role within your company related to tech/IT?</th>\n",
       "      <th>Does your employer provide mental health benefits as part of healthcare coverage?</th>\n",
       "      <th>Do you know the options for mental health care available under your employer-provided coverage?</th>\n",
       "      <th>Has your employer ever formally discussed mental health (for example, as part of a wellness campaign or other official communication)?</th>\n",
       "      <th>Does your employer offer resources to learn more about mental health concerns and options for seeking help?</th>\n",
       "      <th>Is your anonymity protected if you choose to take advantage of mental health or substance abuse treatment resources provided by your employer?</th>\n",
       "      <th>If a mental health issue prompted you to request a medical leave from work, asking for that leave would be:</th>\n",
       "      <th>...</th>\n",
       "      <th>If you have a mental health issue, do you feel that it interferes with your work when being treated effectively?</th>\n",
       "      <th>If you have a mental health issue, do you feel that it interferes with your work when NOT being treated effectively?</th>\n",
       "      <th>What is your age?</th>\n",
       "      <th>What is your gender?</th>\n",
       "      <th>What country do you live in?</th>\n",
       "      <th>What US state or territory do you live in?</th>\n",
       "      <th>What country do you work in?</th>\n",
       "      <th>What US state or territory do you work in?</th>\n",
       "      <th>Which of the following best describes your work position?</th>\n",
       "      <th>Do you work remotely?</th>\n",
       "    </tr>\n",
       "  </thead>\n",
       "  <tbody>\n",
       "    <tr>\n",
       "      <th>0</th>\n",
       "      <td>0</td>\n",
       "      <td>26-100</td>\n",
       "      <td>1.0</td>\n",
       "      <td>NaN</td>\n",
       "      <td>Not eligible for coverage / N/A</td>\n",
       "      <td>NaN</td>\n",
       "      <td>No</td>\n",
       "      <td>No</td>\n",
       "      <td>I don't know</td>\n",
       "      <td>Very easy</td>\n",
       "      <td>...</td>\n",
       "      <td>Not applicable to me</td>\n",
       "      <td>Not applicable to me</td>\n",
       "      <td>39</td>\n",
       "      <td>Male</td>\n",
       "      <td>United Kingdom</td>\n",
       "      <td>NaN</td>\n",
       "      <td>United Kingdom</td>\n",
       "      <td>NaN</td>\n",
       "      <td>Back-end Developer</td>\n",
       "      <td>Sometimes</td>\n",
       "    </tr>\n",
       "    <tr>\n",
       "      <th>1</th>\n",
       "      <td>0</td>\n",
       "      <td>6-25</td>\n",
       "      <td>1.0</td>\n",
       "      <td>NaN</td>\n",
       "      <td>No</td>\n",
       "      <td>Yes</td>\n",
       "      <td>Yes</td>\n",
       "      <td>Yes</td>\n",
       "      <td>Yes</td>\n",
       "      <td>Somewhat easy</td>\n",
       "      <td>...</td>\n",
       "      <td>Rarely</td>\n",
       "      <td>Sometimes</td>\n",
       "      <td>29</td>\n",
       "      <td>male</td>\n",
       "      <td>United States of America</td>\n",
       "      <td>Illinois</td>\n",
       "      <td>United States of America</td>\n",
       "      <td>Illinois</td>\n",
       "      <td>Back-end Developer|Front-end Developer</td>\n",
       "      <td>Never</td>\n",
       "    </tr>\n",
       "    <tr>\n",
       "      <th>2</th>\n",
       "      <td>0</td>\n",
       "      <td>6-25</td>\n",
       "      <td>1.0</td>\n",
       "      <td>NaN</td>\n",
       "      <td>No</td>\n",
       "      <td>NaN</td>\n",
       "      <td>No</td>\n",
       "      <td>No</td>\n",
       "      <td>I don't know</td>\n",
       "      <td>Neither easy nor difficult</td>\n",
       "      <td>...</td>\n",
       "      <td>Not applicable to me</td>\n",
       "      <td>Not applicable to me</td>\n",
       "      <td>38</td>\n",
       "      <td>Male</td>\n",
       "      <td>United Kingdom</td>\n",
       "      <td>NaN</td>\n",
       "      <td>United Kingdom</td>\n",
       "      <td>NaN</td>\n",
       "      <td>Back-end Developer</td>\n",
       "      <td>Always</td>\n",
       "    </tr>\n",
       "  </tbody>\n",
       "</table>\n",
       "<p>3 rows × 63 columns</p>\n",
       "</div>"
      ],
      "text/plain": [
       "   Are you self-employed?  \\\n",
       "0                       0   \n",
       "1                       0   \n",
       "2                       0   \n",
       "\n",
       "  How many employees does your company or organization have?  \\\n",
       "0                                             26-100           \n",
       "1                                               6-25           \n",
       "2                                               6-25           \n",
       "\n",
       "   Is your employer primarily a tech company/organization?  \\\n",
       "0                                                1.0         \n",
       "1                                                1.0         \n",
       "2                                                1.0         \n",
       "\n",
       "   Is your primary role within your company related to tech/IT?  \\\n",
       "0                                                NaN              \n",
       "1                                                NaN              \n",
       "2                                                NaN              \n",
       "\n",
       "  Does your employer provide mental health benefits as part of healthcare coverage?  \\\n",
       "0                    Not eligible for coverage / N/A                                  \n",
       "1                                                 No                                  \n",
       "2                                                 No                                  \n",
       "\n",
       "  Do you know the options for mental health care available under your employer-provided coverage?  \\\n",
       "0                                                NaN                                                \n",
       "1                                                Yes                                                \n",
       "2                                                NaN                                                \n",
       "\n",
       "  Has your employer ever formally discussed mental health (for example, as part of a wellness campaign or other official communication)?  \\\n",
       "0                                                 No                                                                                       \n",
       "1                                                Yes                                                                                       \n",
       "2                                                 No                                                                                       \n",
       "\n",
       "  Does your employer offer resources to learn more about mental health concerns and options for seeking help?  \\\n",
       "0                                                 No                                                            \n",
       "1                                                Yes                                                            \n",
       "2                                                 No                                                            \n",
       "\n",
       "  Is your anonymity protected if you choose to take advantage of mental health or substance abuse treatment resources provided by your employer?  \\\n",
       "0                                       I don't know                                                                                               \n",
       "1                                                Yes                                                                                               \n",
       "2                                       I don't know                                                                                               \n",
       "\n",
       "  If a mental health issue prompted you to request a medical leave from work, asking for that leave would be:  \\\n",
       "0                                          Very easy                                                            \n",
       "1                                      Somewhat easy                                                            \n",
       "2                         Neither easy nor difficult                                                            \n",
       "\n",
       "           ...           \\\n",
       "0          ...            \n",
       "1          ...            \n",
       "2          ...            \n",
       "\n",
       "  If you have a mental health issue, do you feel that it interferes with your work when being treated effectively?  \\\n",
       "0                               Not applicable to me                                                                 \n",
       "1                                             Rarely                                                                 \n",
       "2                               Not applicable to me                                                                 \n",
       "\n",
       "  If you have a mental health issue, do you feel that it interferes with your work when NOT being treated effectively?  \\\n",
       "0                               Not applicable to me                                                                     \n",
       "1                                          Sometimes                                                                     \n",
       "2                               Not applicable to me                                                                     \n",
       "\n",
       "  What is your age? What is your gender? What country do you live in?  \\\n",
       "0                39                 Male               United Kingdom   \n",
       "1                29                 male     United States of America   \n",
       "2                38                Male                United Kingdom   \n",
       "\n",
       "  What US state or territory do you live in?  What country do you work in?  \\\n",
       "0                                        NaN                United Kingdom   \n",
       "1                                   Illinois      United States of America   \n",
       "2                                        NaN                United Kingdom   \n",
       "\n",
       "  What US state or territory do you work in?  \\\n",
       "0                                        NaN   \n",
       "1                                   Illinois   \n",
       "2                                        NaN   \n",
       "\n",
       "  Which of the following best describes your work position?  \\\n",
       "0                                 Back-end Developer          \n",
       "1             Back-end Developer|Front-end Developer          \n",
       "2                                 Back-end Developer          \n",
       "\n",
       "  Do you work remotely?  \n",
       "0             Sometimes  \n",
       "1                 Never  \n",
       "2                Always  \n",
       "\n",
       "[3 rows x 63 columns]"
      ]
     },
     "execution_count": 2,
     "metadata": {},
     "output_type": "execute_result"
    }
   ],
   "source": [
    "df16 = pd.read_csv(\"./datasets/2016/mental-health-in-tech-2016_20161114.csv\")\n",
    "print df16.shape\n",
    "df16.head(3)"
   ]
  },
  {
   "cell_type": "code",
   "execution_count": 3,
   "metadata": {
    "collapsed": false
   },
   "outputs": [
    {
     "data": {
      "text/html": [
       "<div>\n",
       "<table border=\"1\" class=\"dataframe\">\n",
       "  <thead>\n",
       "    <tr style=\"text-align: right;\">\n",
       "      <th></th>\n",
       "      <th>self_employed</th>\n",
       "      <th>num_employees</th>\n",
       "      <th>tech_company</th>\n",
       "      <th>tech_role</th>\n",
       "      <th>benefits</th>\n",
       "      <th>care_options</th>\n",
       "      <th>wellness_program</th>\n",
       "      <th>seek_help</th>\n",
       "      <th>anonymity</th>\n",
       "      <th>leave</th>\n",
       "      <th>...</th>\n",
       "      <th>work_interfere_treated</th>\n",
       "      <th>work_interfere_untreated</th>\n",
       "      <th>age</th>\n",
       "      <th>gender</th>\n",
       "      <th>live_in_country</th>\n",
       "      <th>live_in_state</th>\n",
       "      <th>work_in_country</th>\n",
       "      <th>work_in_state</th>\n",
       "      <th>position</th>\n",
       "      <th>remote_work</th>\n",
       "    </tr>\n",
       "  </thead>\n",
       "  <tbody>\n",
       "    <tr>\n",
       "      <th>0</th>\n",
       "      <td>0</td>\n",
       "      <td>26-100</td>\n",
       "      <td>1.0</td>\n",
       "      <td>NaN</td>\n",
       "      <td>Not eligible for coverage / N/A</td>\n",
       "      <td>NaN</td>\n",
       "      <td>No</td>\n",
       "      <td>No</td>\n",
       "      <td>I don't know</td>\n",
       "      <td>Very easy</td>\n",
       "      <td>...</td>\n",
       "      <td>Not applicable to me</td>\n",
       "      <td>Not applicable to me</td>\n",
       "      <td>39</td>\n",
       "      <td>Male</td>\n",
       "      <td>United Kingdom</td>\n",
       "      <td>NaN</td>\n",
       "      <td>United Kingdom</td>\n",
       "      <td>NaN</td>\n",
       "      <td>Back-end Developer</td>\n",
       "      <td>Sometimes</td>\n",
       "    </tr>\n",
       "    <tr>\n",
       "      <th>1</th>\n",
       "      <td>0</td>\n",
       "      <td>6-25</td>\n",
       "      <td>1.0</td>\n",
       "      <td>NaN</td>\n",
       "      <td>No</td>\n",
       "      <td>Yes</td>\n",
       "      <td>Yes</td>\n",
       "      <td>Yes</td>\n",
       "      <td>Yes</td>\n",
       "      <td>Somewhat easy</td>\n",
       "      <td>...</td>\n",
       "      <td>Rarely</td>\n",
       "      <td>Sometimes</td>\n",
       "      <td>29</td>\n",
       "      <td>male</td>\n",
       "      <td>United States of America</td>\n",
       "      <td>Illinois</td>\n",
       "      <td>United States of America</td>\n",
       "      <td>Illinois</td>\n",
       "      <td>Back-end Developer|Front-end Developer</td>\n",
       "      <td>Never</td>\n",
       "    </tr>\n",
       "    <tr>\n",
       "      <th>2</th>\n",
       "      <td>0</td>\n",
       "      <td>6-25</td>\n",
       "      <td>1.0</td>\n",
       "      <td>NaN</td>\n",
       "      <td>No</td>\n",
       "      <td>NaN</td>\n",
       "      <td>No</td>\n",
       "      <td>No</td>\n",
       "      <td>I don't know</td>\n",
       "      <td>Neither easy nor difficult</td>\n",
       "      <td>...</td>\n",
       "      <td>Not applicable to me</td>\n",
       "      <td>Not applicable to me</td>\n",
       "      <td>38</td>\n",
       "      <td>Male</td>\n",
       "      <td>United Kingdom</td>\n",
       "      <td>NaN</td>\n",
       "      <td>United Kingdom</td>\n",
       "      <td>NaN</td>\n",
       "      <td>Back-end Developer</td>\n",
       "      <td>Always</td>\n",
       "    </tr>\n",
       "  </tbody>\n",
       "</table>\n",
       "<p>3 rows × 63 columns</p>\n",
       "</div>"
      ],
      "text/plain": [
       "   self_employed num_employees  tech_company  tech_role  \\\n",
       "0              0        26-100           1.0        NaN   \n",
       "1              0          6-25           1.0        NaN   \n",
       "2              0          6-25           1.0        NaN   \n",
       "\n",
       "                          benefits care_options wellness_program seek_help  \\\n",
       "0  Not eligible for coverage / N/A          NaN               No        No   \n",
       "1                               No          Yes              Yes       Yes   \n",
       "2                               No          NaN               No        No   \n",
       "\n",
       "      anonymity                       leave     ...      \\\n",
       "0  I don't know                   Very easy     ...       \n",
       "1           Yes               Somewhat easy     ...       \n",
       "2  I don't know  Neither easy nor difficult     ...       \n",
       "\n",
       "  work_interfere_treated work_interfere_untreated age gender  \\\n",
       "0   Not applicable to me     Not applicable to me  39   Male   \n",
       "1                 Rarely                Sometimes  29   male   \n",
       "2   Not applicable to me     Not applicable to me  38  Male    \n",
       "\n",
       "            live_in_country live_in_state           work_in_country  \\\n",
       "0            United Kingdom           NaN            United Kingdom   \n",
       "1  United States of America      Illinois  United States of America   \n",
       "2            United Kingdom           NaN            United Kingdom   \n",
       "\n",
       "  work_in_state                                position remote_work  \n",
       "0           NaN                      Back-end Developer   Sometimes  \n",
       "1      Illinois  Back-end Developer|Front-end Developer       Never  \n",
       "2           NaN                      Back-end Developer      Always  \n",
       "\n",
       "[3 rows x 63 columns]"
      ]
     },
     "execution_count": 3,
     "metadata": {},
     "output_type": "execute_result"
    }
   ],
   "source": [
    "# rename columns to match 2014 data set and shorter names\n",
    "question_col_map = {\n",
    "    'Are you self-employed?': 'self_employed',\n",
    "    'How many employees does your company or organization have?': 'num_employees',\n",
    "    'Is your employer primarily a tech company/organization?': 'tech_company',\n",
    "    'Is your primary role within your company related to tech/IT?': 'tech_role',\n",
    "    'Does your employer provide mental health benefits as part of healthcare coverage?': 'benefits',\n",
    "    'Do you know the options for mental health care available under your employer-provided coverage?': 'care_options',\n",
    "    'Has your employer ever formally discussed mental health (for example, as part of a wellness campaign or other official communication)?': 'wellness_program',\n",
    "    'Does your employer offer resources to learn more about mental health concerns and options for seeking help?': 'seek_help',\n",
    "    'Is your anonymity protected if you choose to take advantage of mental health or substance abuse treatment resources provided by your employer?': 'anonymity',\n",
    "    'If a mental health issue prompted you to request a medical leave from work, asking for that leave would be:': 'leave',  \n",
    "    'Do you think that discussing a mental health disorder with your employer would have negative consequences?': 'mental_health_consequence',\n",
    "    'Do you think that discussing a physical health issue with your employer would have negative consequences?': 'phys_health_consequence',\n",
    "    'Would you feel comfortable discussing a mental health disorder with your coworkers?': 'coworkers',  # \"comfortable\" updated from \"willing\"\n",
    "    'Would you feel comfortable discussing a mental health disorder with your direct supervisor(s)?': 'supervisor',  # \"comfortable\" updated from \"willing\"\n",
    "    'Do you feel that your employer takes mental health as seriously as physical health?': 'mental_vs_physical',\n",
    "    'Have you heard of or observed negative consequences for co-workers who have been open about mental health issues in your workplace?': 'obs_consequence',\n",
    "    'Do you have medical coverage (private insurance or state-provided) which includes treatment of \\xc2\\xa0mental health issues?': 'insurance',\n",
    "    'Do you know local or online resources to seek help for a mental health disorder?': 'know_resources',\n",
    "    'If you have been diagnosed or treated for a mental health disorder, do you ever reveal this to clients or business contacts?': 'revealed_contacts',\n",
    "    'If you have revealed a mental health issue to a client or business contact, do you believe this has impacted you negatively?': 'revealed_contacts_consequence',\n",
    "    'If you have been diagnosed or treated for a mental health disorder, do you ever reveal this to coworkers or employees?': 'revealed_coworkers',\n",
    "    'If you have revealed a mental health issue to a coworker or employee, do you believe this has impacted you negatively?': 'revealed_coworkers_consequence',\n",
    "    'Do you believe your productivity is ever affected by a mental health issue?': 'productivity_impacted',  # close to 'work_interfere'\n",
    "    'If yes, what percentage of your work time (time performing primary or secondary job functions) is affected by a mental health issue?': 'percent_time_impacted',\n",
    "    'Do you have previous employers?': 'prev_employer',\n",
    "    'Have your previous employers provided mental health benefits?': 'prev_benefits',\n",
    "    'Were you aware of the options for mental health care provided by your previous employers?': 'prev_care_options',\n",
    "    'Did your previous employers ever formally discuss mental health (as part of a wellness campaign or other official communication)?': 'prev_wellness_program',\n",
    "    'Did your previous employers provide resources to learn more about mental health issues and how to seek help?': 'prev_seek_help',\n",
    "    'Was your anonymity protected if you chose to take advantage of mental health or substance abuse treatment resources with previous employers?': 'prev_anonymity',\n",
    "    'Do you think that discussing a mental health disorder with previous employers would have negative consequences?': 'prev_mental_health_consequence',\n",
    "    'Do you think that discussing a physical health issue with previous employers would have negative consequences?': 'prev_phys_health_consequence',\n",
    "    'Would you have been willing to discuss a mental health issue with your previous co-workers?': 'prev_coworkers',\n",
    "    'Would you have been willing to discuss a mental health issue with your direct supervisor(s)?': 'prev_supervisor',\n",
    "    'Did you feel that your previous employers took mental health as seriously as physical health?': 'prev_mental_vs_physical',\n",
    "    'Did you hear of or observe negative consequences for co-workers with mental health issues in your previous workplaces?': 'prev_obs_consequence',\n",
    "    'Would you be willing to bring up a physical health issue with a potential employer in an interview?': 'phys_health_interview',\n",
    "    'Why or why not?': 'phys_health_interview_comment',\n",
    "    'Would you bring up a mental health issue with a potential employer in an interview?': 'mental_health_interview',\n",
    "    'Why or why not?.1': 'mental_health_interview_comment',\n",
    "    'Do you feel that being identified as a person with a mental health issue would hurt your career?': 'hurt_career',\n",
    "    'Do you think that team members/co-workers would view you more negatively if they knew you suffered from a mental health issue?': 'viewed_negatively',\n",
    "    'How willing would you be to share with friends and family that you have a mental illness?': 'friends_family',\n",
    "    'Have you observed or experienced an unsupportive or badly handled response to a mental health issue in your current or previous workplace?': 'obs_negative_response',  # close to 'obs_consequence'\n",
    "    'Have your observations of how another individual who discussed a mental health disorder made you less likely to reveal a mental health issue yourself in your current workplace?': 'reluctant_due_to_obs',\n",
    "    'Do you have a family history of mental illness?': 'family_history',\n",
    "    'Have you had a mental health disorder in the past?': 'past_disorder',\n",
    "    'Do you currently have a mental health disorder?': 'current_disorder',\n",
    "    'If yes, what condition(s) have you been diagnosed with?': 'diagnosed_conditions',\n",
    "    'If maybe, what condition(s) do you believe you have?': 'believed_conditions',\n",
    "    'Have you been diagnosed with a mental health condition by a medical professional?': 'professional_diagnosed',\n",
    "    'If so, what condition(s) were you diagnosed with?': 'professional_diagnoses',\n",
    "    'Have you ever sought treatment for a mental health issue from a mental health professional?': 'treatment',\n",
    "    'If you have a mental health issue, do you feel that it interferes with your work when being treated effectively?': 'work_interfere_treated',\n",
    "    'If you have a mental health issue, do you feel that it interferes with your work when NOT being treated effectively?': 'work_interfere_untreated',\n",
    "    'What is your age?': 'age',\n",
    "    'What is your gender?': 'gender',\n",
    "    'What country do you live in?': 'live_in_country',\n",
    "    'What US state or territory do you live in?': 'live_in_state',\n",
    "    'What country do you work in?': 'work_in_country',\n",
    "    'What US state or territory do you work in?': 'work_in_state',\n",
    "    'Which of the following best describes your work position?': 'position',\n",
    "    'Do you work remotely?': 'remote_work'  # previously asked at least 50% of time\n",
    "}\n",
    "df16.rename(columns=question_col_map, inplace=True)\n",
    "df16.head(3)"
   ]
  },
  {
   "cell_type": "code",
   "execution_count": 4,
   "metadata": {
    "collapsed": false
   },
   "outputs": [],
   "source": [
    "col_question_map = { question_col_map[q]: q for q in question_col_map.keys()}\n",
    "# col_question_map"
   ]
  },
  {
   "cell_type": "markdown",
   "metadata": {},
   "source": [
    "<details><summary> Click to expand all **original questions/fields** </summary>\n",
    "- Are you self-employed?  \n",
    "- How many employees does your company or organization have?  \n",
    "- Is your employer primarily a tech company/organization?  \n",
    "- Is your primary role within your company related to tech/IT?  \n",
    "- Does your employer provide mental health benefits as part of healthcare coverage?  \n",
    "- Do you know the options for mental health care available under your employer-provided coverage?  \n",
    "- Has your employer ever formally discussed mental health (for example, as part of a wellness campaign or other official communication)?  \n",
    "- Does your employer offer resources to learn more about mental health concerns and options for seeking help?  \n",
    "- Is your anonymity protected if you choose to take advantage of mental health or substance abuse treatment resources provided by your employer?  \n",
    "- If a mental health issue prompted you to request a medical leave from work, asking for that leave would be:  \n",
    "- Do you think that discussing a mental health disorder with your employer would have negative consequences?  \n",
    "- Do you think that discussing a physical health issue with your employer would have negative consequences?  \n",
    "- Would you feel comfortable discussing a mental health disorder with your coworkers?  \n",
    "- Would you feel comfortable discussing a mental health disorder with your direct supervisor(s)?  \n",
    "- Do you feel that your employer takes mental health as seriously as physical health?  \n",
    "- Have you heard of or observed negative consequences for co-workers who have been open about mental health issues in your workplace?  \n",
    "- Do you have medical coverage (private insurance or state-provided) which includes treatment of \\xc2\\xa0mental health issues?  \n",
    "- Do you know local or online resources to seek help for a mental health disorder?  \n",
    "- If you have been diagnosed or treated for a mental health disorder, do you ever reveal this to clients or business contacts?  \n",
    "- If you have revealed a mental health issue to a client or business contact, do you believe this has impacted you negatively?  \n",
    "- If you have been diagnosed or treated for a mental health disorder, do you ever reveal this to coworkers or employees?  \n",
    "- If you have revealed a mental health issue to a coworker or employee, do you believe this has impacted you negatively?  \n",
    "- Do you believe your productivity is ever affected by a mental health issue?  \n",
    "- If yes, what percentage of your work time (time performing primary or secondary job functions) is affected by a mental health issue?  \n",
    "- Do you have previous employers?  \n",
    "- Have your previous employers provided mental health benefits?  \n",
    "- Were you aware of the options for mental health care provided by your previous employers?  \n",
    "- Did your previous employers ever formally discuss mental health (as part of a wellness campaign or other official communication)?  \n",
    "- Did your previous employers provide resources to learn more about mental health issues and how to seek help?  \n",
    "- Was your anonymity protected if you chose to take advantage of mental health or substance abuse treatment resources with previous employers?  \n",
    "- Do you think that discussing a mental health disorder with previous employers would have negative consequences?  \n",
    "- Do you think that discussing a physical health issue with previous employers would have negative consequences?  \n",
    "- Would you have been willing to discuss a mental health issue with your previous co-workers?  \n",
    "- Would you have been willing to discuss a mental health issue with your direct supervisor(s)?  \n",
    "- Did you feel that your previous employers took mental health as seriously as physical health?  \n",
    "- Did you hear of or observe negative consequences for co-workers with mental health issues in your previous workplaces?  \n",
    "- Would you be willing to bring up a physical health issue with a potential employer in an interview?  \n",
    "- Why or why not?  \n",
    "- Would you bring up a mental health issue with a potential employer in an interview?  \n",
    "- Why or why not?.1  \n",
    "- Do you feel that being identified as a person with a mental health issue would hurt your career?  \n",
    "- Do you think that team members/co-workers would view you more negatively if they knew you suffered from a mental health issue?  \n",
    "- How willing would you be to share with friends and family that you have a mental illness?  \n",
    "- Have you observed or experienced an unsupportive or badly handled response to a mental health issue in your current or previous workplace?  \n",
    "- Have your observations of how another individual who discussed a mental health disorder made you less likely to reveal a mental health issue yourself in your current workplace?  \n",
    "- Do you have a family history of mental illness?  \n",
    "- Have you had a mental health disorder in the past?  \n",
    "- Do you currently have a mental health disorder?  \n",
    "- If yes, what condition(s) have you been diagnosed with?  \n",
    "- If maybe, what condition(s) do you believe you have?  \n",
    "- Have you been diagnosed with a mental health condition by a medical professional?  \n",
    "- If so, what condition(s) were you diagnosed with?  \n",
    "- Have you ever sought treatment for a mental health issue from a mental health professional?  \n",
    "- If you have a mental health issue, do you feel that it interferes with your work when being treated effectively?  \n",
    "- If you have a mental health issue, do you feel that it interferes with your work when NOT being treated effectively?  \n",
    "- What is your age?  \n",
    "- What is your gender?  \n",
    "- What country do you live in?  \n",
    "- What US state or territory do you live in?  \n",
    "- What country do you work in?  \n",
    "- What US state or territory do you work in?  \n",
    "- Which of the following best describes your work position?  \n",
    "- Do you work remotely?  \n",
    "</details>"
   ]
  },
  {
   "cell_type": "markdown",
   "metadata": {},
   "source": [
    "#### Quick NaN Check\n"
   ]
  },
  {
   "cell_type": "code",
   "execution_count": 5,
   "metadata": {
    "collapsed": false
   },
   "outputs": [
    {
     "name": "stdout",
     "output_type": "stream",
     "text": [
      "num_employees\n",
      "\t287 NaNs\t\t1146 values\n",
      "tech_company\n",
      "\t287 NaNs\t\t1146 values\n",
      "tech_role\n",
      "\t1170 NaNs\t\t263 values\n",
      "benefits\n",
      "\t287 NaNs\t\t1146 values\n",
      "care_options\n",
      "\t420 NaNs\t\t1013 values\n",
      "wellness_program\n",
      "\t287 NaNs\t\t1146 values\n",
      "seek_help\n",
      "\t287 NaNs\t\t1146 values\n",
      "anonymity\n",
      "\t287 NaNs\t\t1146 values\n",
      "leave\n",
      "\t287 NaNs\t\t1146 values\n",
      "mental_health_consequence\n",
      "\t287 NaNs\t\t1146 values\n",
      "phys_health_consequence\n",
      "\t287 NaNs\t\t1146 values\n",
      "coworkers\n",
      "\t287 NaNs\t\t1146 values\n",
      "supervisor\n",
      "\t287 NaNs\t\t1146 values\n",
      "mental_vs_physical\n",
      "\t287 NaNs\t\t1146 values\n",
      "obs_consequence\n",
      "\t287 NaNs\t\t1146 values\n",
      "insurance\n",
      "\t1146 NaNs\t\t287 values\n",
      "know_resources\n",
      "\t1146 NaNs\t\t287 values\n",
      "revealed_contacts\n",
      "\t1146 NaNs\t\t287 values\n",
      "revealed_contacts_consequence\n",
      "\t1289 NaNs\t\t144 values\n",
      "revealed_coworkers\n",
      "\t1146 NaNs\t\t287 values\n",
      "revealed_coworkers_consequence\n",
      "\t1146 NaNs\t\t287 values\n",
      "productivity_impacted\n",
      "\t1146 NaNs\t\t287 values\n",
      "percent_time_impacted\n",
      "\t1229 NaNs\t\t204 values\n",
      "prev_benefits\n",
      "\t169 NaNs\t\t1264 values\n",
      "prev_care_options\n",
      "\t169 NaNs\t\t1264 values\n",
      "prev_wellness_program\n",
      "\t169 NaNs\t\t1264 values\n",
      "prev_seek_help\n",
      "\t169 NaNs\t\t1264 values\n",
      "prev_anonymity\n",
      "\t169 NaNs\t\t1264 values\n",
      "prev_mental_health_consequence\n",
      "\t169 NaNs\t\t1264 values\n",
      "prev_phys_health_consequence\n",
      "\t169 NaNs\t\t1264 values\n",
      "prev_coworkers\n",
      "\t169 NaNs\t\t1264 values\n",
      "prev_supervisor\n",
      "\t169 NaNs\t\t1264 values\n",
      "prev_mental_vs_physical\n",
      "\t169 NaNs\t\t1264 values\n",
      "prev_obs_consequence\n",
      "\t169 NaNs\t\t1264 values\n",
      "phys_health_interview_comment\n",
      "\t337 NaNs\t\t1096 values\n",
      "mental_health_interview_comment\n",
      "\t306 NaNs\t\t1127 values\n",
      "obs_negative_response\n",
      "\t89 NaNs\t\t1344 values\n",
      "reluctant_due_to_obs\n",
      "\t776 NaNs\t\t657 values\n",
      "diagnosed_conditions\n",
      "\t865 NaNs\t\t568 values\n",
      "believed_conditions\n",
      "\t1111 NaNs\t\t322 values\n",
      "professional_diagnoses\n",
      "\t722 NaNs\t\t711 values\n",
      "gender\n",
      "\t3 NaNs\t\t1430 values\n",
      "live_in_state\n",
      "\t593 NaNs\t\t840 values\n",
      "work_in_state\n",
      "\t582 NaNs\t\t851 values\n"
     ]
    }
   ],
   "source": [
    "# NaN check\n",
    "counts = df16.count()\n",
    "numrows = df16.shape[0]\n",
    "for col in df16.columns:\n",
    "    if counts[col] != numrows:\n",
    "        print \"{0}\\n\\t{1} NaNs\\t\\t{2} values\".format(col, numrows-counts[col], counts[col])"
   ]
  },
  {
   "cell_type": "code",
   "execution_count": 6,
   "metadata": {
    "collapsed": false
   },
   "outputs": [
    {
     "data": {
      "text/html": [
       "<div>\n",
       "<table border=\"1\" class=\"dataframe\">\n",
       "  <thead>\n",
       "    <tr style=\"text-align: right;\">\n",
       "      <th></th>\n",
       "      <th>self_employed</th>\n",
       "      <th>num_employees</th>\n",
       "      <th>tech_company</th>\n",
       "      <th>tech_role</th>\n",
       "      <th>benefits</th>\n",
       "      <th>care_options</th>\n",
       "      <th>wellness_program</th>\n",
       "      <th>seek_help</th>\n",
       "      <th>anonymity</th>\n",
       "      <th>leave</th>\n",
       "      <th>...</th>\n",
       "      <th>work_interfere_treated</th>\n",
       "      <th>work_interfere_untreated</th>\n",
       "      <th>age</th>\n",
       "      <th>gender</th>\n",
       "      <th>live_in_country</th>\n",
       "      <th>live_in_state</th>\n",
       "      <th>work_in_country</th>\n",
       "      <th>work_in_state</th>\n",
       "      <th>position</th>\n",
       "      <th>remote_work</th>\n",
       "    </tr>\n",
       "  </thead>\n",
       "  <tbody>\n",
       "    <tr>\n",
       "      <th>0</th>\n",
       "      <td>0</td>\n",
       "      <td>26-100</td>\n",
       "      <td>1.0</td>\n",
       "      <td>NaN</td>\n",
       "      <td>Not eligible for coverage / N/A</td>\n",
       "      <td>NaN</td>\n",
       "      <td>No</td>\n",
       "      <td>No</td>\n",
       "      <td>I don't know</td>\n",
       "      <td>Very easy</td>\n",
       "      <td>...</td>\n",
       "      <td>Not applicable to me</td>\n",
       "      <td>Not applicable to me</td>\n",
       "      <td>39</td>\n",
       "      <td>Male</td>\n",
       "      <td>United Kingdom</td>\n",
       "      <td>NaN</td>\n",
       "      <td>United Kingdom</td>\n",
       "      <td>NaN</td>\n",
       "      <td>Back-end Developer</td>\n",
       "      <td>Sometimes</td>\n",
       "    </tr>\n",
       "    <tr>\n",
       "      <th>1</th>\n",
       "      <td>0</td>\n",
       "      <td>6-25</td>\n",
       "      <td>1.0</td>\n",
       "      <td>NaN</td>\n",
       "      <td>No</td>\n",
       "      <td>Yes</td>\n",
       "      <td>Yes</td>\n",
       "      <td>Yes</td>\n",
       "      <td>Yes</td>\n",
       "      <td>Somewhat easy</td>\n",
       "      <td>...</td>\n",
       "      <td>Rarely</td>\n",
       "      <td>Sometimes</td>\n",
       "      <td>29</td>\n",
       "      <td>male</td>\n",
       "      <td>United States of America</td>\n",
       "      <td>Illinois</td>\n",
       "      <td>United States of America</td>\n",
       "      <td>Illinois</td>\n",
       "      <td>Back-end Developer|Front-end Developer</td>\n",
       "      <td>Never</td>\n",
       "    </tr>\n",
       "    <tr>\n",
       "      <th>2</th>\n",
       "      <td>0</td>\n",
       "      <td>6-25</td>\n",
       "      <td>1.0</td>\n",
       "      <td>NaN</td>\n",
       "      <td>No</td>\n",
       "      <td>NaN</td>\n",
       "      <td>No</td>\n",
       "      <td>No</td>\n",
       "      <td>I don't know</td>\n",
       "      <td>Neither easy nor difficult</td>\n",
       "      <td>...</td>\n",
       "      <td>Not applicable to me</td>\n",
       "      <td>Not applicable to me</td>\n",
       "      <td>38</td>\n",
       "      <td>Male</td>\n",
       "      <td>United Kingdom</td>\n",
       "      <td>NaN</td>\n",
       "      <td>United Kingdom</td>\n",
       "      <td>NaN</td>\n",
       "      <td>Back-end Developer</td>\n",
       "      <td>Always</td>\n",
       "    </tr>\n",
       "  </tbody>\n",
       "</table>\n",
       "<p>3 rows × 63 columns</p>\n",
       "</div>"
      ],
      "text/plain": [
       "   self_employed num_employees  tech_company  tech_role  \\\n",
       "0              0        26-100           1.0        NaN   \n",
       "1              0          6-25           1.0        NaN   \n",
       "2              0          6-25           1.0        NaN   \n",
       "\n",
       "                          benefits care_options wellness_program seek_help  \\\n",
       "0  Not eligible for coverage / N/A          NaN               No        No   \n",
       "1                               No          Yes              Yes       Yes   \n",
       "2                               No          NaN               No        No   \n",
       "\n",
       "      anonymity                       leave     ...      \\\n",
       "0  I don't know                   Very easy     ...       \n",
       "1           Yes               Somewhat easy     ...       \n",
       "2  I don't know  Neither easy nor difficult     ...       \n",
       "\n",
       "  work_interfere_treated work_interfere_untreated age gender  \\\n",
       "0   Not applicable to me     Not applicable to me  39   Male   \n",
       "1                 Rarely                Sometimes  29   male   \n",
       "2   Not applicable to me     Not applicable to me  38  Male    \n",
       "\n",
       "            live_in_country live_in_state           work_in_country  \\\n",
       "0            United Kingdom           NaN            United Kingdom   \n",
       "1  United States of America      Illinois  United States of America   \n",
       "2            United Kingdom           NaN            United Kingdom   \n",
       "\n",
       "  work_in_state                                position remote_work  \n",
       "0           NaN                      Back-end Developer   Sometimes  \n",
       "1      Illinois  Back-end Developer|Front-end Developer       Never  \n",
       "2           NaN                      Back-end Developer      Always  \n",
       "\n",
       "[3 rows x 63 columns]"
      ]
     },
     "execution_count": 6,
     "metadata": {},
     "output_type": "execute_result"
    }
   ],
   "source": [
    "df16[df16['revealed_coworkers'].isnull()].head(3)"
   ]
  },
  {
   "cell_type": "code",
   "execution_count": 7,
   "metadata": {
    "collapsed": true
   },
   "outputs": [],
   "source": [
    "def preview_col(df, col):\n",
    "    print col\n",
    "    if col in col_question_map:\n",
    "        print col_question_map[col]\n",
    "    print df[col].value_counts(dropna=False)"
   ]
  },
  {
   "cell_type": "markdown",
   "metadata": {
    "collapsed": true
   },
   "source": [
    "### Ages\n",
    "\n",
    "This is supposed to be a survey of working adults, so values under 16 and over 80 can be ignored."
   ]
  },
  {
   "cell_type": "code",
   "execution_count": 8,
   "metadata": {
    "collapsed": false
   },
   "outputs": [
    {
     "name": "stdout",
     "output_type": "stream",
     "text": [
      "[  3  15  17  19  20  21  22  23  24  25  26  27  28  29  30  31  32  33\n",
      "  34  35  36  37  38  39  40  41  42  43  44  45  46  47  48  49  50  51\n",
      "  52  53  54  55  56  57  58  59  61  62  63  65  66  70  74  99 323]\n"
     ]
    }
   ],
   "source": [
    "ages = df16.age.unique()\n",
    "ages.sort()\n",
    "print ages"
   ]
  },
  {
   "cell_type": "code",
   "execution_count": 9,
   "metadata": {
    "collapsed": false
   },
   "outputs": [],
   "source": [
    "nan = float('NaN')\n",
    "\n",
    "df16.age = df16.age.map(lambda x: nan if (x<16 or x>80) else x)"
   ]
  },
  {
   "cell_type": "code",
   "execution_count": 10,
   "metadata": {
    "collapsed": false
   },
   "outputs": [
    {
     "name": "stdout",
     "output_type": "stream",
     "text": [
      "[ 17.  19.  20.  21.  22.  23.  24.  25.  26.  27.  28.  29.  30.  31.  32.\n",
      "  33.  34.  35.  36.  37.  38.  39.  40.  41.  42.  43.  44.  45.  46.  47.\n",
      "  48.  49.  50.  51.  52.  53.  54.  55.  56.  57.  58.  59.  61.  62.  63.\n",
      "  65.  66.  70.  74.  nan]\n"
     ]
    }
   ],
   "source": [
    "ages = df16.age.unique()\n",
    "ages.sort()\n",
    "print ages"
   ]
  },
  {
   "cell_type": "markdown",
   "metadata": {},
   "source": [
    "### Gender responses\n",
    "\n",
    "Gender responses seem to be strings entered by the user. To create a more manageable set of variables, I examine all the gender responses and categorize them into `female`, `male`, or `other`.  \n",
    "\n",
    "Note (and it's noted in a comment in the code) that trans men and women map to `male` and `female` categories, respectively. Gender identity can have an impact on feelings of being stigmatized, so this might be a decision to explore further. "
   ]
  },
  {
   "cell_type": "code",
   "execution_count": 11,
   "metadata": {
    "collapsed": true
   },
   "outputs": [],
   "source": [
    "# create dictionary to organize dummy data frames throughout\n",
    "dummy_dfs = {}"
   ]
  },
  {
   "cell_type": "code",
   "execution_count": 12,
   "metadata": {
    "collapsed": false
   },
   "outputs": [
    {
     "name": "stdout",
     "output_type": "stream",
     "text": [
      "['Male' 'male' 'Male ' 'Female' 'M' 'female' 'm' 'I identify as female.'\n",
      " 'female ' 'Bigender' 'non-binary' 'Female assigned at birth ' 'F' 'Woman'\n",
      " 'man' 'fm' 'f' 'Cis female ' 'Transitioned, M2F'\n",
      " 'Genderfluid (born female)' 'Other/Transfeminine'\n",
      " 'Female or Multi-Gender Femme' 'Female ' 'woman' 'female/woman' 'Cis male'\n",
      " 'Male.' 'Androgynous' 'male 9:1 female, roughly' nan 'Male (cis)' 'Other'\n",
      " 'nb masculine' 'Cisgender Female' 'Man' 'Sex is male'\n",
      " 'none of your business' 'genderqueer' 'cis male' 'Human' 'Genderfluid'\n",
      " 'Enby' 'Malr' 'genderqueer woman' 'mtf' 'Queer' 'Agender' 'Dude' 'Fluid'\n",
      " \"I'm a man why didn't you make this a drop down question. You should of asked sex? And I would of answered yes please. Seriously how much text can this take? \"\n",
      " 'mail' 'M|' 'Male/genderqueer' 'fem' 'Nonbinary' 'male ' 'human'\n",
      " 'Female (props for making this a freeform field, though)' ' Female'\n",
      " 'Unicorn' 'Cis Male' 'Male (trans, FtM)' 'Cis-woman' 'Genderqueer'\n",
      " 'cisdude' 'Genderflux demi-girl' 'female-bodied; no feelings about gender'\n",
      " 'cis man' 'AFAB' 'Transgender woman' 'MALE']\n"
     ]
    }
   ],
   "source": [
    "print df16.gender.unique()"
   ]
  },
  {
   "cell_type": "code",
   "execution_count": 13,
   "metadata": {
    "collapsed": false
   },
   "outputs": [],
   "source": [
    "# categorize gender responses into male, female, other based on response\n",
    "def categorize_gender(gender_response):\n",
    "    if type(gender_response) != str:\n",
    "        return 'other'\n",
    "    gender_response = gender_response.strip().lower()\n",
    "    \n",
    "    # caution - removing data about gender identity that may \n",
    "        # be correlated with mental health or feelings of being stigmatized\n",
    "    male_responses = set(['male', 'm', 'man', 'cis male', 'male (cis)',\n",
    "                          'male (trans)', 'cis man', 'cisdude',\n",
    "                          'mal', 'male.', 'mail', 'maile', 'make', 'msle', 'malr',\n",
    "                          \"I'm a man why didn't you make this a drop down question. You should of asked sex? And I would of answered yes please. Seriously how much text can this take? \".strip().lower(),\n",
    "                          'dude', 'male (trans, ftm)'\n",
    "                         ])\n",
    "    \n",
    "    # caution - removing data about gender identity that may \n",
    "        # be correlated with mental health or feelings of being stigmatized\n",
    "    female_responses = set(['female', 'f', 'woman', 'female (cis)', 'female/woman', \n",
    "                            'cisgender female', 'trans-female', 'mtf',\n",
    "                            'trans-female', 'trans woman', 'female (trans)', \n",
    "                            'cis-female/femme', 'cis female', 'transgender woman',\n",
    "                            'femake', 'femail', 'transitioned, m2f', 'cis-woman',\n",
    "                            'female (props for making this a freeform field, though)'\n",
    "                           ])\n",
    "    if gender_response in male_responses:\n",
    "        return 'male'\n",
    "    elif gender_response in female_responses:\n",
    "        return 'female'\n",
    "    else:\n",
    "        return 'other'\n"
   ]
  },
  {
   "cell_type": "code",
   "execution_count": 14,
   "metadata": {
    "collapsed": false
   },
   "outputs": [],
   "source": [
    "categorized_gender_responses = df16.gender.map(categorize_gender)"
   ]
  },
  {
   "cell_type": "code",
   "execution_count": 15,
   "metadata": {
    "collapsed": false
   },
   "outputs": [
    {
     "data": {
      "text/plain": [
       "male      1056\n",
       "female     337\n",
       "other       40\n",
       "Name: gender, dtype: int64"
      ]
     },
     "execution_count": 15,
     "metadata": {},
     "output_type": "execute_result"
    }
   ],
   "source": [
    "categorized_gender_responses.value_counts(dropna=False)"
   ]
  },
  {
   "cell_type": "code",
   "execution_count": 16,
   "metadata": {
    "collapsed": false
   },
   "outputs": [],
   "source": [
    "dummy_dfs['gender'] = pd.get_dummies(categorized_gender_responses, prefix='gender')"
   ]
  },
  {
   "cell_type": "code",
   "execution_count": 17,
   "metadata": {
    "collapsed": false
   },
   "outputs": [],
   "source": [
    "df16.loc[:,'gender_category'] = categorized_gender_responses"
   ]
  },
  {
   "cell_type": "code",
   "execution_count": 18,
   "metadata": {
    "collapsed": false
   },
   "outputs": [
    {
     "data": {
      "text/html": [
       "<div>\n",
       "<table border=\"1\" class=\"dataframe\">\n",
       "  <thead>\n",
       "    <tr style=\"text-align: right;\">\n",
       "      <th></th>\n",
       "      <th>gender</th>\n",
       "      <th>gender_category</th>\n",
       "    </tr>\n",
       "  </thead>\n",
       "  <tbody>\n",
       "    <tr>\n",
       "      <th>1430</th>\n",
       "      <td>Male</td>\n",
       "      <td>male</td>\n",
       "    </tr>\n",
       "    <tr>\n",
       "      <th>1431</th>\n",
       "      <td>Female</td>\n",
       "      <td>female</td>\n",
       "    </tr>\n",
       "    <tr>\n",
       "      <th>1432</th>\n",
       "      <td>non-binary</td>\n",
       "      <td>other</td>\n",
       "    </tr>\n",
       "  </tbody>\n",
       "</table>\n",
       "</div>"
      ],
      "text/plain": [
       "          gender gender_category\n",
       "1430        Male            male\n",
       "1431      Female          female\n",
       "1432  non-binary           other"
      ]
     },
     "execution_count": 18,
     "metadata": {},
     "output_type": "execute_result"
    }
   ],
   "source": [
    "df16[['gender', 'gender_category']].tail(3)"
   ]
  },
  {
   "cell_type": "code",
   "execution_count": 19,
   "metadata": {
    "collapsed": false
   },
   "outputs": [
    {
     "data": {
      "text/plain": [
       "male      1056\n",
       "female     337\n",
       "other       40\n",
       "Name: gender_category, dtype: int64"
      ]
     },
     "execution_count": 19,
     "metadata": {},
     "output_type": "execute_result"
    }
   ],
   "source": [
    "df16['gender_category'].value_counts()"
   ]
  },
  {
   "cell_type": "markdown",
   "metadata": {},
   "source": [
    "### Yes/no questions\n",
    "\n",
    "Many of the survey questions are yes/no questions, but the data is currently stored as strings. I convert these to `1` for `Yes` and `0` for `No`.\n",
    "\n",
    "Most of the columns with three reponses have `'Yes'`, `'No'`, and `'Maybe'`, `'Don't know'`, or some other meaningful third option.  Those will be one-hot coded with dummy variables later."
   ]
  },
  {
   "cell_type": "code",
   "execution_count": 20,
   "metadata": {
    "collapsed": false,
    "scrolled": true
   },
   "outputs": [
    {
     "name": "stdout",
     "output_type": "stream",
     "text": [
      "self_employed [0 1]\n",
      "prev_employer [1 0]\n",
      "professional_diagnosed ['Yes' 'No']\n",
      "treatment [0 1]\n"
     ]
    }
   ],
   "source": [
    "for col in df16.columns:\n",
    "    col_uniq = df16[col].unique()\n",
    "    if len(col_uniq) == 2:\n",
    "        print col, col_uniq"
   ]
  },
  {
   "cell_type": "code",
   "execution_count": 21,
   "metadata": {
    "collapsed": true
   },
   "outputs": [],
   "source": [
    "def yes_no_same(response):\n",
    "    if response=='Yes' or response==1:\n",
    "        return 1\n",
    "    elif response=='No' or response==0:\n",
    "        return 0\n",
    "    else:\n",
    "        return response"
   ]
  },
  {
   "cell_type": "code",
   "execution_count": 22,
   "metadata": {
    "collapsed": true
   },
   "outputs": [],
   "source": [
    "def yes_no_same_column(df, column_name):\n",
    "    df[column_name] = df[column_name].map(yes_no_same)"
   ]
  },
  {
   "cell_type": "code",
   "execution_count": 23,
   "metadata": {
    "collapsed": true
   },
   "outputs": [],
   "source": [
    "two_opt_cols = ['prev_employer', 'professional_diagnosed', 'treatment', 'self_employed']\n",
    "for col in two_opt_cols:\n",
    "    yes_no_same_column(df16, col)"
   ]
  },
  {
   "cell_type": "code",
   "execution_count": 24,
   "metadata": {
    "collapsed": false
   },
   "outputs": [
    {
     "data": {
      "text/html": [
       "<div>\n",
       "<table border=\"1\" class=\"dataframe\">\n",
       "  <thead>\n",
       "    <tr style=\"text-align: right;\">\n",
       "      <th></th>\n",
       "      <th>prev_employer</th>\n",
       "      <th>professional_diagnosed</th>\n",
       "      <th>treatment</th>\n",
       "      <th>self_employed</th>\n",
       "    </tr>\n",
       "  </thead>\n",
       "  <tbody>\n",
       "    <tr>\n",
       "      <th>0</th>\n",
       "      <td>1</td>\n",
       "      <td>1</td>\n",
       "      <td>0</td>\n",
       "      <td>0</td>\n",
       "    </tr>\n",
       "    <tr>\n",
       "      <th>1</th>\n",
       "      <td>1</td>\n",
       "      <td>1</td>\n",
       "      <td>1</td>\n",
       "      <td>0</td>\n",
       "    </tr>\n",
       "    <tr>\n",
       "      <th>2</th>\n",
       "      <td>1</td>\n",
       "      <td>0</td>\n",
       "      <td>1</td>\n",
       "      <td>0</td>\n",
       "    </tr>\n",
       "  </tbody>\n",
       "</table>\n",
       "</div>"
      ],
      "text/plain": [
       "   prev_employer  professional_diagnosed  treatment  self_employed\n",
       "0              1                       1          0              0\n",
       "1              1                       1          1              0\n",
       "2              1                       0          1              0"
      ]
     },
     "execution_count": 24,
     "metadata": {},
     "output_type": "execute_result"
    }
   ],
   "source": [
    "df16[two_opt_cols].head(3)"
   ]
  },
  {
   "cell_type": "markdown",
   "metadata": {},
   "source": [
    "#### Colums with 2 options and nan"
   ]
  },
  {
   "cell_type": "code",
   "execution_count": 25,
   "metadata": {
    "collapsed": true
   },
   "outputs": [],
   "source": [
    "two_opt_with_nans = ['tech_company', 'tech_role', 'obs_consequence', 'insurance']"
   ]
  },
  {
   "cell_type": "code",
   "execution_count": 26,
   "metadata": {
    "collapsed": false
   },
   "outputs": [
    {
     "name": "stdout",
     "output_type": "stream",
     "text": [
      " 1.0    883\n",
      "NaN     287\n",
      " 0.0    263\n",
      "Name: tech_company, dtype: int64\n",
      "NaN     1170\n",
      " 1.0     248\n",
      " 0.0      15\n",
      "Name: tech_role, dtype: int64\n",
      " 0.0    1048\n",
      "NaN      287\n",
      " 1.0      98\n",
      "Name: obs_consequence, dtype: int64\n",
      "NaN     1146\n",
      " 1.0     185\n",
      " 0.0     102\n",
      "Name: insurance, dtype: int64\n"
     ]
    }
   ],
   "source": [
    "for col in two_opt_with_nans:\n",
    "    df16[col] = df16[col].map(yes_no_same)\n",
    "    print df16[col].value_counts(dropna=False)"
   ]
  },
  {
   "cell_type": "code",
   "execution_count": 27,
   "metadata": {
    "collapsed": true
   },
   "outputs": [],
   "source": [
    "# for col in two_opt_with_nans:\n",
    "#     dummy_dfs[col] = pd.get_dummies(df[col], prefix=col, dummy_na=True)"
   ]
  },
  {
   "cell_type": "code",
   "execution_count": 28,
   "metadata": {
    "collapsed": false
   },
   "outputs": [
    {
     "data": {
      "text/html": [
       "<div>\n",
       "<table border=\"1\" class=\"dataframe\">\n",
       "  <thead>\n",
       "    <tr style=\"text-align: right;\">\n",
       "      <th></th>\n",
       "      <th>tech_company</th>\n",
       "      <th>tech_role</th>\n",
       "      <th>obs_consequence</th>\n",
       "      <th>insurance</th>\n",
       "    </tr>\n",
       "  </thead>\n",
       "  <tbody>\n",
       "    <tr>\n",
       "      <th>0</th>\n",
       "      <td>1.0</td>\n",
       "      <td>NaN</td>\n",
       "      <td>0.0</td>\n",
       "      <td>NaN</td>\n",
       "    </tr>\n",
       "    <tr>\n",
       "      <th>1</th>\n",
       "      <td>1.0</td>\n",
       "      <td>NaN</td>\n",
       "      <td>0.0</td>\n",
       "      <td>NaN</td>\n",
       "    </tr>\n",
       "    <tr>\n",
       "      <th>2</th>\n",
       "      <td>1.0</td>\n",
       "      <td>NaN</td>\n",
       "      <td>0.0</td>\n",
       "      <td>NaN</td>\n",
       "    </tr>\n",
       "    <tr>\n",
       "      <th>3</th>\n",
       "      <td>NaN</td>\n",
       "      <td>NaN</td>\n",
       "      <td>NaN</td>\n",
       "      <td>1.0</td>\n",
       "    </tr>\n",
       "    <tr>\n",
       "      <th>4</th>\n",
       "      <td>0.0</td>\n",
       "      <td>1.0</td>\n",
       "      <td>0.0</td>\n",
       "      <td>NaN</td>\n",
       "    </tr>\n",
       "  </tbody>\n",
       "</table>\n",
       "</div>"
      ],
      "text/plain": [
       "   tech_company  tech_role  obs_consequence  insurance\n",
       "0           1.0        NaN              0.0        NaN\n",
       "1           1.0        NaN              0.0        NaN\n",
       "2           1.0        NaN              0.0        NaN\n",
       "3           NaN        NaN              NaN        1.0\n",
       "4           0.0        1.0              0.0        NaN"
      ]
     },
     "execution_count": 28,
     "metadata": {},
     "output_type": "execute_result"
    }
   ],
   "source": [
    "df16[two_opt_with_nans].head(5)"
   ]
  },
  {
   "cell_type": "markdown",
   "metadata": {},
   "source": [
    "### Yes/no/maybe and other three-option columns\n",
    "\n",
    "Many of the survey questions have yes/no/maybe or other meaningful third choices.  These columns will need one-hot coding and dummy variables."
   ]
  },
  {
   "cell_type": "markdown",
   "metadata": {},
   "source": [
    "#### Three Option Columns"
   ]
  },
  {
   "cell_type": "code",
   "execution_count": 29,
   "metadata": {
    "collapsed": false
   },
   "outputs": [
    {
     "name": "stdout",
     "output_type": "stream",
     "text": [
      "tech_company [  1.  nan   0.]\n",
      "tech_role [ nan   1.   0.]\n",
      "obs_consequence [  0.  nan   1.]\n",
      "insurance [ nan   1.   0.]\n",
      "phys_health_interview ['Maybe' 'Yes' 'No']\n",
      "mental_health_interview ['Maybe' 'No' 'Yes']\n",
      "family_history ['No' 'Yes' \"I don't know\"]\n",
      "past_disorder ['Yes' 'Maybe' 'No']\n",
      "current_disorder ['No' 'Yes' 'Maybe']\n",
      "remote_work ['Sometimes' 'Never' 'Always']\n",
      "gender_category ['male' 'female' 'other']\n"
     ]
    }
   ],
   "source": [
    "three_opt_cols = [col for col in df16.columns if len(df16[col].unique()) == 3]\n",
    "\n",
    "for col in three_opt_cols:\n",
    "    print col, df16[col].unique()"
   ]
  },
  {
   "cell_type": "code",
   "execution_count": 30,
   "metadata": {
    "collapsed": true
   },
   "outputs": [],
   "source": [
    "def get_prefix(response):\n",
    "    if type(response) != str:\n",
    "        return response\n",
    "    else:\n",
    "        return response.lower().replace(\" \", \"_\").replace(\"'\", \"\")"
   ]
  },
  {
   "cell_type": "code",
   "execution_count": 31,
   "metadata": {
    "collapsed": false
   },
   "outputs": [],
   "source": [
    "true_three_opts = [\n",
    "    'phys_health_interview', \n",
    "    'mental_health_interview', \n",
    "    'family_history', \n",
    "    'past_disorder', \n",
    "    'current_disorder', \n",
    "    'remote_work'\n",
    "]"
   ]
  },
  {
   "cell_type": "code",
   "execution_count": 32,
   "metadata": {
    "collapsed": false
   },
   "outputs": [],
   "source": [
    "df16.replace({\"I don't know\": 'dont know'}, inplace=True)"
   ]
  },
  {
   "cell_type": "code",
   "execution_count": 33,
   "metadata": {
    "collapsed": false
   },
   "outputs": [
    {
     "name": "stdout",
     "output_type": "stream",
     "text": [
      "['maybe' 'yes' 'no']\n",
      "['maybe' 'no' 'yes']\n",
      "['no' 'yes' 'dont_know']\n",
      "['yes' 'maybe' 'no']\n",
      "['no' 'yes' 'maybe']\n",
      "['sometimes' 'never' 'always']\n"
     ]
    }
   ],
   "source": [
    "for col in true_three_opts:\n",
    "    df16[col] = df16[col].map(get_prefix)\n",
    "    print df16[col].unique()"
   ]
  },
  {
   "cell_type": "code",
   "execution_count": 34,
   "metadata": {
    "collapsed": true
   },
   "outputs": [],
   "source": [
    "for col in true_three_opts:\n",
    "    dummy_dfs[col] = pd.get_dummies(df16[col], prefix=col)"
   ]
  },
  {
   "cell_type": "code",
   "execution_count": 35,
   "metadata": {
    "collapsed": false
   },
   "outputs": [
    {
     "data": {
      "text/plain": [
       "['past_disorder',\n",
       " 'family_history',\n",
       " 'gender',\n",
       " 'remote_work',\n",
       " 'mental_health_interview',\n",
       " 'phys_health_interview',\n",
       " 'current_disorder']"
      ]
     },
     "execution_count": 35,
     "metadata": {},
     "output_type": "execute_result"
    }
   ],
   "source": [
    "dummy_dfs.keys()"
   ]
  },
  {
   "cell_type": "code",
   "execution_count": 36,
   "metadata": {
    "collapsed": false
   },
   "outputs": [
    {
     "data": {
      "text/html": [
       "<div>\n",
       "<table border=\"1\" class=\"dataframe\">\n",
       "  <thead>\n",
       "    <tr style=\"text-align: right;\">\n",
       "      <th></th>\n",
       "      <th>phys_health_interview</th>\n",
       "      <th>mental_health_interview</th>\n",
       "      <th>family_history</th>\n",
       "      <th>past_disorder</th>\n",
       "      <th>current_disorder</th>\n",
       "      <th>remote_work</th>\n",
       "    </tr>\n",
       "  </thead>\n",
       "  <tbody>\n",
       "    <tr>\n",
       "      <th>0</th>\n",
       "      <td>maybe</td>\n",
       "      <td>maybe</td>\n",
       "      <td>no</td>\n",
       "      <td>yes</td>\n",
       "      <td>no</td>\n",
       "      <td>sometimes</td>\n",
       "    </tr>\n",
       "    <tr>\n",
       "      <th>1</th>\n",
       "      <td>maybe</td>\n",
       "      <td>no</td>\n",
       "      <td>yes</td>\n",
       "      <td>yes</td>\n",
       "      <td>yes</td>\n",
       "      <td>never</td>\n",
       "    </tr>\n",
       "    <tr>\n",
       "      <th>2</th>\n",
       "      <td>yes</td>\n",
       "      <td>yes</td>\n",
       "      <td>no</td>\n",
       "      <td>maybe</td>\n",
       "      <td>no</td>\n",
       "      <td>always</td>\n",
       "    </tr>\n",
       "    <tr>\n",
       "      <th>3</th>\n",
       "      <td>yes</td>\n",
       "      <td>maybe</td>\n",
       "      <td>no</td>\n",
       "      <td>yes</td>\n",
       "      <td>yes</td>\n",
       "      <td>sometimes</td>\n",
       "    </tr>\n",
       "    <tr>\n",
       "      <th>4</th>\n",
       "      <td>maybe</td>\n",
       "      <td>no</td>\n",
       "      <td>yes</td>\n",
       "      <td>yes</td>\n",
       "      <td>yes</td>\n",
       "      <td>sometimes</td>\n",
       "    </tr>\n",
       "  </tbody>\n",
       "</table>\n",
       "</div>"
      ],
      "text/plain": [
       "  phys_health_interview mental_health_interview family_history past_disorder  \\\n",
       "0                 maybe                   maybe             no           yes   \n",
       "1                 maybe                      no            yes           yes   \n",
       "2                   yes                     yes             no         maybe   \n",
       "3                   yes                   maybe             no           yes   \n",
       "4                 maybe                      no            yes           yes   \n",
       "\n",
       "  current_disorder remote_work  \n",
       "0               no   sometimes  \n",
       "1              yes       never  \n",
       "2               no      always  \n",
       "3              yes   sometimes  \n",
       "4              yes   sometimes  "
      ]
     },
     "execution_count": 36,
     "metadata": {},
     "output_type": "execute_result"
    }
   ],
   "source": [
    "df16[true_three_opts].head(5)\n"
   ]
  },
  {
   "cell_type": "markdown",
   "metadata": {},
   "source": [
    "**At this point**, the `dummy_dfs` dictionary holds dummy variable sets for all three-option columns and `gender`."
   ]
  },
  {
   "cell_type": "code",
   "execution_count": 37,
   "metadata": {
    "collapsed": false
   },
   "outputs": [
    {
     "data": {
      "text/html": [
       "<div>\n",
       "<table border=\"1\" class=\"dataframe\">\n",
       "  <thead>\n",
       "    <tr style=\"text-align: right;\">\n",
       "      <th></th>\n",
       "      <th>remote_work_always</th>\n",
       "      <th>remote_work_never</th>\n",
       "      <th>remote_work_sometimes</th>\n",
       "    </tr>\n",
       "  </thead>\n",
       "  <tbody>\n",
       "    <tr>\n",
       "      <th>0</th>\n",
       "      <td>0</td>\n",
       "      <td>0</td>\n",
       "      <td>1</td>\n",
       "    </tr>\n",
       "    <tr>\n",
       "      <th>1</th>\n",
       "      <td>0</td>\n",
       "      <td>1</td>\n",
       "      <td>0</td>\n",
       "    </tr>\n",
       "    <tr>\n",
       "      <th>2</th>\n",
       "      <td>1</td>\n",
       "      <td>0</td>\n",
       "      <td>0</td>\n",
       "    </tr>\n",
       "    <tr>\n",
       "      <th>3</th>\n",
       "      <td>0</td>\n",
       "      <td>0</td>\n",
       "      <td>1</td>\n",
       "    </tr>\n",
       "    <tr>\n",
       "      <th>4</th>\n",
       "      <td>0</td>\n",
       "      <td>0</td>\n",
       "      <td>1</td>\n",
       "    </tr>\n",
       "  </tbody>\n",
       "</table>\n",
       "</div>"
      ],
      "text/plain": [
       "   remote_work_always  remote_work_never  remote_work_sometimes\n",
       "0                   0                  0                      1\n",
       "1                   0                  1                      0\n",
       "2                   1                  0                      0\n",
       "3                   0                  0                      1\n",
       "4                   0                  0                      1"
      ]
     },
     "execution_count": 37,
     "metadata": {},
     "output_type": "execute_result"
    }
   ],
   "source": [
    "dummy_dfs['remote_work'].head()"
   ]
  },
  {
   "cell_type": "markdown",
   "metadata": {},
   "source": [
    "### Other categorical variables"
   ]
  },
  {
   "cell_type": "code",
   "execution_count": 38,
   "metadata": {
    "collapsed": true
   },
   "outputs": [],
   "source": [
    "def prefix_dummies(df, col, use_na=False):\n",
    "    df[col] = df[col].map(get_prefix)\n",
    "    dummy_dfs[col] = pd.get_dummies(df[col], prefix=col, dummy_na=use_na)"
   ]
  },
  {
   "cell_type": "code",
   "execution_count": 39,
   "metadata": {
    "collapsed": false
   },
   "outputs": [
    {
     "data": {
      "text/plain": [
       "['past_disorder',\n",
       " 'family_history',\n",
       " 'gender',\n",
       " 'remote_work',\n",
       " 'mental_health_interview',\n",
       " 'phys_health_interview',\n",
       " 'current_disorder']"
      ]
     },
     "execution_count": 39,
     "metadata": {},
     "output_type": "execute_result"
    }
   ],
   "source": [
    "dummy_dfs.keys()"
   ]
  },
  {
   "cell_type": "markdown",
   "metadata": {},
   "source": [
    "#### If you have a mental health issue, do you feel that it interferes with your work?"
   ]
  },
  {
   "cell_type": "code",
   "execution_count": 40,
   "metadata": {
    "collapsed": false
   },
   "outputs": [
    {
     "name": "stdout",
     "output_type": "stream",
     "text": [
      "work_interfere_treated\n",
      "If you have a mental health issue, do you feel that it interferes with your work when being treated effectively?\n",
      "Not applicable to me    557\n",
      "Sometimes               369\n",
      "Rarely                  322\n",
      "Never                   120\n",
      "Often                    65\n",
      "Name: work_interfere_treated, dtype: int64\n",
      "\n",
      "work_interfere_untreated\n",
      "If you have a mental health issue, do you feel that it interferes with your work when NOT being treated effectively?\n",
      "Often                   538\n",
      "Not applicable to me    468\n",
      "Sometimes               363\n",
      "Rarely                   52\n",
      "Never                    12\n",
      "Name: work_interfere_untreated, dtype: int64\n"
     ]
    }
   ],
   "source": [
    "preview_col(df16, 'work_interfere_treated')\n",
    "print\n",
    "preview_col(df16, 'work_interfere_untreated')"
   ]
  },
  {
   "cell_type": "code",
   "execution_count": 41,
   "metadata": {
    "collapsed": true
   },
   "outputs": [],
   "source": [
    "df16.replace({'Not applicable to me': 'doesnt apply'}, inplace=True)"
   ]
  },
  {
   "cell_type": "code",
   "execution_count": 42,
   "metadata": {
    "collapsed": false
   },
   "outputs": [],
   "source": [
    "prefix_dummies(df16, 'work_interfere_treated')\n",
    "prefix_dummies(df16, 'work_interfere_untreated')\n"
   ]
  },
  {
   "cell_type": "markdown",
   "metadata": {},
   "source": [
    "#### How many employees does your company or organization have?"
   ]
  },
  {
   "cell_type": "code",
   "execution_count": 43,
   "metadata": {
    "collapsed": false
   },
   "outputs": [
    {
     "name": "stdout",
     "output_type": "stream",
     "text": [
      "num_employees\n",
      "How many employees does your company or organization have?\n",
      "26-100            292\n",
      "NaN               287\n",
      "More than 1000    256\n",
      "100-500           248\n",
      "6-25              210\n",
      "500-1000           80\n",
      "1-5                60\n",
      "Name: num_employees, dtype: int64\n"
     ]
    }
   ],
   "source": [
    "preview_col(df16, 'num_employees')"
   ]
  },
  {
   "cell_type": "code",
   "execution_count": 44,
   "metadata": {
    "collapsed": false
   },
   "outputs": [
    {
     "name": "stdout",
     "output_type": "stream",
     "text": [
      "['26-100' '6-25' nan '1000+' '100-500' '500-1000' '1-5']\n"
     ]
    }
   ],
   "source": [
    "df16.num_employees = df16.num_employees.map(lambda x: '1000+' if x=='More than 1000' else x)\n",
    "print df16.num_employees.unique()"
   ]
  },
  {
   "cell_type": "code",
   "execution_count": 45,
   "metadata": {
    "collapsed": false
   },
   "outputs": [],
   "source": [
    "dummy_dfs['num_employees'] = pd.get_dummies(df16.num_employees, prefix='num_employees', dummy_na=True)\n",
    "# dummy_dfs['num_employees'].head(3)"
   ]
  },
  {
   "cell_type": "code",
   "execution_count": 46,
   "metadata": {
    "collapsed": false
   },
   "outputs": [
    {
     "name": "stdout",
     "output_type": "stream",
     "text": [
      "['26-100' '6-25' nan '1000+' '100-500' '500-1000' '1-5']\n"
     ]
    }
   ],
   "source": [
    "df16.num_employees = df16.num_employees.map(lambda x: '1000+' if x=='More than 1000' else x)\n",
    "print df16.num_employees.unique()"
   ]
  },
  {
   "cell_type": "code",
   "execution_count": 47,
   "metadata": {
    "collapsed": false
   },
   "outputs": [],
   "source": [
    "df16.replace({\n",
    "    \"I don't know\": 'dont_know',\n",
    "    \"I am not sure\": \"dont_know\",\n",
    "    \"I'm not sure\": 'dont_know',\n",
    "    \"United States of America\": \"United States\",\n",
    "    \"Not applicable to me\": \"doesnt apply\",\n",
    "    'Not eligible for coverage / N/A': \"doesnt_apply\",\n",
    "    \"No, I don't know any\": 'none',\n",
    "    'Yes, I know several': 'several',\n",
    "    'I know some': 'some',\n",
    "    'No, because it would impact me negatively': 'no_due_to_negative_impact',\n",
    "    'Sometimes, if it comes up': 'sometimes',\n",
    "    \"No, because it doesn't matter\": 'no_due_to_doesnt_matter',\n",
    "    'Yes, always': 'always',\n",
    "    'No, none did': 'none',\n",
    "    'Some did': 'some',\n",
    "    'Yes, they all did': 'all',\n",
    "    'I was aware of some': 'some',\n",
    "    'Yes, I was aware of all of them': 'all',\n",
    "    'No, I only became aware later': 'aware_later',\n",
    "    'None did': 'none',\n",
    "    'Yes, all of them': 'all',\n",
    "    'None of them': 'none',\n",
    "    'Some of them': 'some',\n",
    "    'Some of my previous employers': 'some',\n",
    "    'No, at none of my previous employers': 'none',\n",
    "    'Yes, at all of my previous employers': 'all',\n",
    "    'Maybe/Not sure': 'maybe',\n",
    "    'Yes, I observed': 'observed',\n",
    "    'Yes, I experienced': 'experienced',\n",
    "    'Yes, I think it would': 'yes_would',\n",
    "    \"No, I don't think it would\": 'no_wouldnt',\n",
    "    'Yes, it has': 'yes has',\n",
    "    'No, it has not': 'no hasnt',\n",
    "    'Yes, I think they would': 'yes would',\n",
    "    \"No, I don't think they would\": 'no wouldnt',\n",
    "    'No, they do not': 'no dont',\n",
    "    'Yes, they do': 'yes do',\n",
    "    'N/A (not currently aware)': 'not_currently_aware',\n",
    "    'Not applicable to me (I do not have a mental illness)': 'no mental illness'\n",
    "    }, \n",
    "    inplace=True)\n"
   ]
  },
  {
   "cell_type": "markdown",
   "metadata": {},
   "source": [
    "#### Country & State"
   ]
  },
  {
   "cell_type": "code",
   "execution_count": 48,
   "metadata": {
    "collapsed": false
   },
   "outputs": [],
   "source": [
    "states = {\n",
    "        'AK': 'Alaska',\n",
    "        'AL': 'Alabama',\n",
    "        'AR': 'Arkansas',\n",
    "        'AS': 'American Samoa',\n",
    "        'AZ': 'Arizona',\n",
    "        'CA': 'California',\n",
    "        'CO': 'Colorado',\n",
    "        'CT': 'Connecticut',\n",
    "        'DC': 'District of Columbia',\n",
    "        'DE': 'Delaware',\n",
    "        'FL': 'Florida',\n",
    "        'GA': 'Georgia',\n",
    "        'GU': 'Guam',\n",
    "        'HI': 'Hawaii',\n",
    "        'IA': 'Iowa',\n",
    "        'ID': 'Idaho',\n",
    "        'IL': 'Illinois',\n",
    "        'IN': 'Indiana',\n",
    "        'KS': 'Kansas',\n",
    "        'KY': 'Kentucky',\n",
    "        'LA': 'Louisiana',\n",
    "        'MA': 'Massachusetts',\n",
    "        'MD': 'Maryland',\n",
    "        'ME': 'Maine',\n",
    "        'MI': 'Michigan',\n",
    "        'MN': 'Minnesota',\n",
    "        'MO': 'Missouri',\n",
    "        'MP': 'Northern Mariana Islands',\n",
    "        'MS': 'Mississippi',\n",
    "        'MT': 'Montana',\n",
    "        'NA': 'National',\n",
    "        'NC': 'North Carolina',\n",
    "        'ND': 'North Dakota',\n",
    "        'NE': 'Nebraska',\n",
    "        'NH': 'New Hampshire',\n",
    "        'NJ': 'New Jersey',\n",
    "        'NM': 'New Mexico',\n",
    "        'NV': 'Nevada',\n",
    "        'NY': 'New York',\n",
    "        'OH': 'Ohio',\n",
    "        'OK': 'Oklahoma',\n",
    "        'OR': 'Oregon',\n",
    "        'PA': 'Pennsylvania',\n",
    "        'PR': 'Puerto Rico',\n",
    "        'RI': 'Rhode Island',\n",
    "        'SC': 'South Carolina',\n",
    "        'SD': 'South Dakota',\n",
    "        'TN': 'Tennessee',\n",
    "        'TX': 'Texas',\n",
    "        'UT': 'Utah',\n",
    "        'VA': 'Virginia',\n",
    "        'VI': 'Virgin Islands',\n",
    "        'VT': 'Vermont',\n",
    "        'WA': 'Washington',\n",
    "        'WI': 'Wisconsin',\n",
    "        'WV': 'West Virginia',\n",
    "        'WY': 'Wyoming'\n",
    "}"
   ]
  },
  {
   "cell_type": "code",
   "execution_count": 49,
   "metadata": {
    "collapsed": false
   },
   "outputs": [],
   "source": [
    "state_abbr = { i[1]: i[0] for i in states.iteritems()}\n",
    "# state_abbr"
   ]
  },
  {
   "cell_type": "code",
   "execution_count": 50,
   "metadata": {
    "collapsed": false
   },
   "outputs": [],
   "source": [
    "df16['live_in_state'].replace(state_abbr, inplace=True)\n",
    "df16['work_in_state'].replace(state_abbr, inplace=True)"
   ]
  },
  {
   "cell_type": "code",
   "execution_count": 51,
   "metadata": {
    "collapsed": false
   },
   "outputs": [],
   "source": [
    "def get_state (row):\n",
    "    if row['live_in_state'] == row['work_in_state']:\n",
    "        return row['live_in_state']\n",
    "    elif pd.notnull(row['live_in_state']) and pd.notnull(row['work_in_state']):\n",
    "        return 'multi'\n",
    "    else:\n",
    "        return nan\n",
    "df16['state'] = df16.apply(get_state, axis=1)\n",
    "# df16['state'].value_counts(dropna=False)"
   ]
  },
  {
   "cell_type": "code",
   "execution_count": 52,
   "metadata": {
    "collapsed": false
   },
   "outputs": [],
   "source": [
    "df16['work_in_country'].replace({ 'United States of America': 'United States' }, inplace=True)\n",
    "df16['live_in_country'].replace({ 'United States of America': 'United States' }, inplace=True)"
   ]
  },
  {
   "cell_type": "code",
   "execution_count": 53,
   "metadata": {
    "collapsed": false
   },
   "outputs": [],
   "source": [
    "# df16_country_set = set(df16['live_in_country'].unique()).union(set(df16['work_in_country'].unique()))\n",
    "# # df16_country_set\n",
    "# df14_country_set = set(['United States', 'Canada', 'United Kingdom', 'Bulgaria', 'France',\n",
    "#        'Portugal', 'Netherlands', 'Switzerland', 'Poland', 'Australia',\n",
    "#        'Germany', 'Russia', 'Mexico', 'Brazil', 'Slovenia', 'Costa Rica',\n",
    "#        'Austria', 'Ireland', 'India', 'South Africa', 'Italy', 'Sweden',\n",
    "#        'Colombia', 'Latvia', 'Romania', 'Belgium', 'New Zealand',\n",
    "#        'Zimbabwe', 'Spain', 'Finland', 'Uruguay', 'Israel',\n",
    "#        'Bosnia and Herzegovina', 'Hungary', 'Singapore', 'Japan',\n",
    "#        'Nigeria', 'Croatia', 'Norway', 'Thailand', 'Denmark',\n",
    "#        'Bahamas, The', 'Greece', 'Moldova', 'Georgia', 'China',\n",
    "#        'Czech Republic', 'Philippines'])\n",
    "# df14_country_set\n",
    "# df16_country_set ^ df14_country_set"
   ]
  },
  {
   "cell_type": "code",
   "execution_count": 54,
   "metadata": {
    "collapsed": false
   },
   "outputs": [
    {
     "data": {
      "text/plain": [
       "United States             837\n",
       "United Kingdom            178\n",
       "Canada                     73\n",
       "Germany                    57\n",
       "Netherlands                47\n",
       "Australia                  34\n",
       "multi                      26\n",
       "Sweden                     19\n",
       "Ireland                    15\n",
       "France                     14\n",
       "Switzerland                10\n",
       "Brazil                     10\n",
       "New Zealand                 9\n",
       "India                       9\n",
       "Russia                      9\n",
       "Bulgaria                    7\n",
       "Finland                     7\n",
       "Denmark                     7\n",
       "Belgium                     5\n",
       "Austria                     4\n",
       "South Africa                4\n",
       "Poland                      4\n",
       "Romania                     3\n",
       "Italy                       3\n",
       "Spain                       3\n",
       "Czech Republic              3\n",
       "Chile                       3\n",
       "Norway                      3\n",
       "Mexico                      2\n",
       "Israel                      2\n",
       "Bosnia and Herzegovina      2\n",
       "Pakistan                    2\n",
       "Estonia                     2\n",
       "Colombia                    2\n",
       "Iran                        1\n",
       "Ecuador                     1\n",
       "Argentina                   1\n",
       "Japan                       1\n",
       "Costa Rica                  1\n",
       "Lithuania                   1\n",
       "Serbia                      1\n",
       "Brunei                      1\n",
       "China                       1\n",
       "Guatemala                   1\n",
       "Vietnam                     1\n",
       "Greece                      1\n",
       "Bangladesh                  1\n",
       "Afghanistan                 1\n",
       "Other                       1\n",
       "Slovakia                    1\n",
       "Venezuela                   1\n",
       "Hungary                     1\n",
       "Name: country, dtype: int64"
      ]
     },
     "execution_count": 54,
     "metadata": {},
     "output_type": "execute_result"
    }
   ],
   "source": [
    "def get_country (row):\n",
    "    if row['live_in_country'] == row['work_in_country']:\n",
    "        return row['live_in_country']\n",
    "    elif pd.notnull(row['live_in_country']) and pd.notnull(row['work_in_country']):\n",
    "        return 'multi'\n",
    "    else:\n",
    "        return nan\n",
    "df16['country'] = df16.apply(get_country, axis=1)\n",
    "df16['country'].value_counts(dropna=False)"
   ]
  },
  {
   "cell_type": "code",
   "execution_count": 1,
   "metadata": {
    "collapsed": false,
    "scrolled": true
   },
   "outputs": [
    {
     "ename": "NameError",
     "evalue": "name 'df16' is not defined",
     "output_type": "error",
     "traceback": [
      "\u001b[0;31m---------------------------------------------------------------------------\u001b[0m",
      "\u001b[0;31mNameError\u001b[0m                                 Traceback (most recent call last)",
      "\u001b[0;32m<ipython-input-1-6cf407fcc754>\u001b[0m in \u001b[0;36m<module>\u001b[0;34m()\u001b[0m\n\u001b[0;32m----> 1\u001b[0;31m \u001b[0mlive_countries\u001b[0m \u001b[0;34m=\u001b[0m \u001b[0mdf16\u001b[0m\u001b[0;34m[\u001b[0m\u001b[0;34m'live_in_country'\u001b[0m\u001b[0;34m]\u001b[0m\u001b[0;34m.\u001b[0m\u001b[0mmap\u001b[0m\u001b[0;34m(\u001b[0m\u001b[0mget_prefix\u001b[0m\u001b[0;34m)\u001b[0m\u001b[0;34m\u001b[0m\u001b[0m\n\u001b[0m\u001b[1;32m      2\u001b[0m \u001b[0;31m# print live_countries.head(3)\u001b[0m\u001b[0;34m\u001b[0m\u001b[0;34m\u001b[0m\u001b[0m\n",
      "\u001b[0;31mNameError\u001b[0m: name 'df16' is not defined"
     ]
    }
   ],
   "source": [
    "live_countries = df16['live_in_country'].map(get_prefix)\n",
    "# print live_countries.head(3)"
   ]
  },
  {
   "cell_type": "code",
   "execution_count": 56,
   "metadata": {
    "collapsed": false
   },
   "outputs": [],
   "source": [
    "dummy_dfs['live_in_country'] = pd.get_dummies(live_countries, prefix='live_in')\n",
    "# dummy_dfs['live_in_country'].head(3)"
   ]
  },
  {
   "cell_type": "code",
   "execution_count": 57,
   "metadata": {
    "collapsed": true
   },
   "outputs": [],
   "source": [
    "prefix_dummies(df16, 'live_in_state', True)"
   ]
  },
  {
   "cell_type": "code",
   "execution_count": 58,
   "metadata": {
    "collapsed": false,
    "scrolled": true
   },
   "outputs": [
    {
     "data": {
      "text/html": [
       "<div>\n",
       "<table border=\"1\" class=\"dataframe\">\n",
       "  <thead>\n",
       "    <tr style=\"text-align: right;\">\n",
       "      <th></th>\n",
       "      <th>live_in_state_ak</th>\n",
       "      <th>live_in_state_al</th>\n",
       "      <th>live_in_state_az</th>\n",
       "      <th>live_in_state_ca</th>\n",
       "      <th>live_in_state_co</th>\n",
       "      <th>live_in_state_ct</th>\n",
       "      <th>live_in_state_dc</th>\n",
       "      <th>live_in_state_de</th>\n",
       "      <th>live_in_state_fl</th>\n",
       "      <th>live_in_state_ga</th>\n",
       "      <th>...</th>\n",
       "      <th>live_in_state_sd</th>\n",
       "      <th>live_in_state_tn</th>\n",
       "      <th>live_in_state_tx</th>\n",
       "      <th>live_in_state_ut</th>\n",
       "      <th>live_in_state_va</th>\n",
       "      <th>live_in_state_vt</th>\n",
       "      <th>live_in_state_wa</th>\n",
       "      <th>live_in_state_wi</th>\n",
       "      <th>live_in_state_wv</th>\n",
       "      <th>live_in_state_nan</th>\n",
       "    </tr>\n",
       "  </thead>\n",
       "  <tbody>\n",
       "    <tr>\n",
       "      <th>0</th>\n",
       "      <td>0</td>\n",
       "      <td>0</td>\n",
       "      <td>0</td>\n",
       "      <td>0</td>\n",
       "      <td>0</td>\n",
       "      <td>0</td>\n",
       "      <td>0</td>\n",
       "      <td>0</td>\n",
       "      <td>0</td>\n",
       "      <td>0</td>\n",
       "      <td>...</td>\n",
       "      <td>0</td>\n",
       "      <td>0</td>\n",
       "      <td>0</td>\n",
       "      <td>0</td>\n",
       "      <td>0</td>\n",
       "      <td>0</td>\n",
       "      <td>0</td>\n",
       "      <td>0</td>\n",
       "      <td>0</td>\n",
       "      <td>1</td>\n",
       "    </tr>\n",
       "    <tr>\n",
       "      <th>1</th>\n",
       "      <td>0</td>\n",
       "      <td>0</td>\n",
       "      <td>0</td>\n",
       "      <td>0</td>\n",
       "      <td>0</td>\n",
       "      <td>0</td>\n",
       "      <td>0</td>\n",
       "      <td>0</td>\n",
       "      <td>0</td>\n",
       "      <td>0</td>\n",
       "      <td>...</td>\n",
       "      <td>0</td>\n",
       "      <td>0</td>\n",
       "      <td>0</td>\n",
       "      <td>0</td>\n",
       "      <td>0</td>\n",
       "      <td>0</td>\n",
       "      <td>0</td>\n",
       "      <td>0</td>\n",
       "      <td>0</td>\n",
       "      <td>0</td>\n",
       "    </tr>\n",
       "    <tr>\n",
       "      <th>2</th>\n",
       "      <td>0</td>\n",
       "      <td>0</td>\n",
       "      <td>0</td>\n",
       "      <td>0</td>\n",
       "      <td>0</td>\n",
       "      <td>0</td>\n",
       "      <td>0</td>\n",
       "      <td>0</td>\n",
       "      <td>0</td>\n",
       "      <td>0</td>\n",
       "      <td>...</td>\n",
       "      <td>0</td>\n",
       "      <td>0</td>\n",
       "      <td>0</td>\n",
       "      <td>0</td>\n",
       "      <td>0</td>\n",
       "      <td>0</td>\n",
       "      <td>0</td>\n",
       "      <td>0</td>\n",
       "      <td>0</td>\n",
       "      <td>1</td>\n",
       "    </tr>\n",
       "  </tbody>\n",
       "</table>\n",
       "<p>3 rows × 48 columns</p>\n",
       "</div>"
      ],
      "text/plain": [
       "   live_in_state_ak  live_in_state_al  live_in_state_az  live_in_state_ca  \\\n",
       "0                 0                 0                 0                 0   \n",
       "1                 0                 0                 0                 0   \n",
       "2                 0                 0                 0                 0   \n",
       "\n",
       "   live_in_state_co  live_in_state_ct  live_in_state_dc  live_in_state_de  \\\n",
       "0                 0                 0                 0                 0   \n",
       "1                 0                 0                 0                 0   \n",
       "2                 0                 0                 0                 0   \n",
       "\n",
       "   live_in_state_fl  live_in_state_ga        ...          live_in_state_sd  \\\n",
       "0                 0                 0        ...                         0   \n",
       "1                 0                 0        ...                         0   \n",
       "2                 0                 0        ...                         0   \n",
       "\n",
       "   live_in_state_tn  live_in_state_tx  live_in_state_ut  live_in_state_va  \\\n",
       "0                 0                 0                 0                 0   \n",
       "1                 0                 0                 0                 0   \n",
       "2                 0                 0                 0                 0   \n",
       "\n",
       "   live_in_state_vt  live_in_state_wa  live_in_state_wi  live_in_state_wv  \\\n",
       "0                 0                 0                 0                 0   \n",
       "1                 0                 0                 0                 0   \n",
       "2                 0                 0                 0                 0   \n",
       "\n",
       "   live_in_state_nan  \n",
       "0                  1  \n",
       "1                  0  \n",
       "2                  1  \n",
       "\n",
       "[3 rows x 48 columns]"
      ]
     },
     "execution_count": 58,
     "metadata": {},
     "output_type": "execute_result"
    }
   ],
   "source": [
    "dummy_dfs['live_in_state'].head(3)"
   ]
  },
  {
   "cell_type": "code",
   "execution_count": 59,
   "metadata": {
    "collapsed": true
   },
   "outputs": [],
   "source": [
    "prefix_dummies(df16, 'work_in_state', True)\n",
    "prefix_dummies(df16, 'work_in_country')\n",
    "prefix_dummies(df16, 'country')"
   ]
  },
  {
   "cell_type": "code",
   "execution_count": 60,
   "metadata": {
    "collapsed": false
   },
   "outputs": [],
   "source": [
    "# dummy_dfs['country'].head(3)"
   ]
  },
  {
   "cell_type": "markdown",
   "metadata": {},
   "source": [
    "#### If a mental health issue prompted you to request a medical leave from work, asking for that leave would be:"
   ]
  },
  {
   "cell_type": "code",
   "execution_count": 61,
   "metadata": {
    "collapsed": false
   },
   "outputs": [],
   "source": [
    "v = preview_col"
   ]
  },
  {
   "cell_type": "code",
   "execution_count": 62,
   "metadata": {
    "collapsed": false
   },
   "outputs": [],
   "source": [
    "# x = df16[df16['mental_health_consequence'].isnull()].copy()\n",
    "# print x.shape\n",
    "# x.isnull().sum(axis=1).values\n",
    "# x = x.dropna(axis=1)\n",
    "# print x.shape\n",
    "# print x.columns\n",
    "# x.tail(3)"
   ]
  },
  {
   "cell_type": "code",
   "execution_count": 63,
   "metadata": {
    "collapsed": false
   },
   "outputs": [
    {
     "name": "stdout",
     "output_type": "stream",
     "text": [
      "57\n",
      "num_employees\n",
      "How many employees does your company or organization have?\n",
      "26-100      292\n",
      "NaN         287\n",
      "1000+       256\n",
      "100-500     248\n",
      "6-25        210\n",
      "500-1000     80\n",
      "1-5          60\n",
      "Name: num_employees, dtype: int64\n",
      "\n",
      "benefits\n",
      "Does your employer provide mental health benefits as part of healthcare coverage?\n",
      "yes             531\n",
      "dont_know       319\n",
      "NaN             287\n",
      "no              213\n",
      "doesnt_apply     83\n",
      "Name: benefits, dtype: int64\n",
      "\n",
      "care_options\n",
      "Do you know the options for mental health care available under your employer-provided coverage?\n",
      "NaN          420\n",
      "no           354\n",
      "dont_know    352\n",
      "yes          307\n",
      "Name: care_options, dtype: int64\n",
      "\n",
      "wellness_program\n",
      "Has your employer ever formally discussed mental health (for example, as part of a wellness campaign or other official communication)?\n",
      "no           813\n",
      "NaN          287\n",
      "yes          230\n",
      "dont_know    103\n",
      "Name: wellness_program, dtype: int64\n",
      "\n",
      "seek_help\n",
      "Does your employer offer resources to learn more about mental health concerns and options for seeking help?\n",
      "no           531\n",
      "dont_know    320\n",
      "yes          295\n",
      "NaN          287\n",
      "Name: seek_help, dtype: int64\n",
      "\n",
      "anonymity\n",
      "Is your anonymity protected if you choose to take advantage of mental health or substance abuse treatment resources provided by your employer?\n",
      "dont_know    742\n",
      "yes          320\n",
      "NaN          287\n",
      "no            84\n",
      "Name: anonymity, dtype: int64\n",
      "\n",
      "leave\n",
      "If a mental health issue prompted you to request a medical leave from work, asking for that leave would be:\n",
      "NaN                           287\n",
      "somewhat_easy                 281\n",
      "very_easy                     220\n",
      "somewhat_difficult            199\n",
      "neither_easy_nor_difficult    178\n",
      "dont_know                     150\n",
      "very_difficult                118\n",
      "Name: leave, dtype: int64\n",
      "\n",
      "mental_health_consequence\n",
      "Do you think that discussing a mental health disorder with your employer would have negative consequences?\n",
      "maybe    487\n",
      "no       438\n",
      "NaN      287\n",
      "yes      221\n",
      "Name: mental_health_consequence, dtype: int64\n",
      "\n",
      "phys_health_consequence\n",
      "Do you think that discussing a physical health issue with your employer would have negative consequences?\n",
      "no       837\n",
      "NaN      287\n",
      "maybe    268\n",
      "yes       41\n",
      "Name: phys_health_consequence, dtype: int64\n",
      "\n",
      "coworkers\n",
      "Would you feel comfortable discussing a mental health disorder with your coworkers?\n",
      "maybe    479\n",
      "no       392\n",
      "NaN      287\n",
      "yes      275\n",
      "Name: coworkers, dtype: int64\n",
      "\n",
      "supervisor\n",
      "Would you feel comfortable discussing a mental health disorder with your direct supervisor(s)?\n",
      "yes      428\n",
      "maybe    382\n",
      "no       336\n",
      "NaN      287\n",
      "Name: supervisor, dtype: int64\n",
      "\n",
      "mental_vs_physical\n",
      "Do you feel that your employer takes mental health as seriously as physical health?\n",
      "dont_know    493\n",
      "yes          350\n",
      "no           303\n",
      "NaN          287\n",
      "Name: mental_vs_physical, dtype: int64\n",
      "\n",
      "know_resources\n",
      "Do you know local or online resources to seek help for a mental health disorder?\n",
      "NaN        1146\n",
      "some        141\n",
      "several      83\n",
      "none         63\n",
      "Name: know_resources, dtype: int64\n",
      "\n",
      "revealed_contacts\n",
      "If you have been diagnosed or treated for a mental health disorder, do you ever reveal this to clients or business contacts?\n",
      "NaN                          1146\n",
      "doesnt_apply                  101\n",
      "no_due_to_negative_impact      83\n",
      "sometimes                      57\n",
      "no_due_to_doesnt_matter        44\n",
      "always                          2\n",
      "Name: revealed_contacts, dtype: int64\n",
      "\n",
      "revealed_contacts_consequence\n",
      "If you have revealed a mental health issue to a client or business contact, do you believe this has impacted you negatively?\n",
      "NaN          1289\n",
      "dont_know      66\n",
      "no             42\n",
      "yes            36\n",
      "Name: revealed_contacts_consequence, dtype: int64\n",
      "\n",
      "revealed_coworkers\n",
      "If you have been diagnosed or treated for a mental health disorder, do you ever reveal this to coworkers or employees?\n",
      "NaN                          1146\n",
      "doesnt_apply                  111\n",
      "sometimes                      99\n",
      "no_due_to_negative_impact      51\n",
      "no_due_to_doesnt_matter        15\n",
      "always                         11\n",
      "Name: revealed_coworkers, dtype: int64\n",
      "\n",
      "revealed_coworkers_consequence\n",
      "If you have revealed a mental health issue to a coworker or employee, do you believe this has impacted you negatively?\n",
      "NaN             1146\n",
      "doesnt_apply     133\n",
      "dont_know         62\n",
      "no                57\n",
      "yes               35\n",
      "Name: revealed_coworkers_consequence, dtype: int64\n",
      "\n",
      "productivity_impacted\n",
      "Do you believe your productivity is ever affected by a mental health issue?\n",
      "NaN             1146\n",
      "yes              204\n",
      "unsure            38\n",
      "doesnt_apply      31\n",
      "no                14\n",
      "Name: productivity_impacted, dtype: int64\n",
      "\n",
      "percent_time_impacted\n",
      "If yes, what percentage of your work time (time performing primary or secondary job functions) is affected by a mental health issue?\n",
      "NaN        1229\n",
      "1-25%        92\n",
      "26-50%       72\n",
      "51-75%       26\n",
      "76-100%      14\n",
      "Name: percent_time_impacted, dtype: int64\n",
      "\n",
      "prev_benefits\n",
      "Have your previous employers provided mental health benefits?\n",
      "some         391\n",
      "none         372\n",
      "dont_know    313\n",
      "all          188\n",
      "NaN          169\n",
      "Name: prev_benefits, dtype: int64\n",
      "\n",
      "prev_care_options\n",
      "Were you aware of the options for mental health care provided by your previous employers?\n",
      "not_currently_aware    582\n",
      "some                   384\n",
      "all                    181\n",
      "NaN                    169\n",
      "aware_later            117\n",
      "Name: prev_care_options, dtype: int64\n",
      "\n",
      "prev_wellness_program\n",
      "Did your previous employers ever formally discuss mental health (as part of a wellness campaign or other official communication)?\n",
      "none         890\n",
      "some         255\n",
      "NaN          169\n",
      "dont_know     86\n",
      "all           33\n",
      "Name: prev_wellness_program, dtype: int64\n",
      "\n",
      "prev_seek_help\n",
      "Did your previous employers provide resources to learn more about mental health issues and how to seek help?\n",
      "none    842\n",
      "some    371\n",
      "NaN     169\n",
      "all      51\n",
      "Name: prev_seek_help, dtype: int64\n",
      "\n",
      "prev_anonymity\n",
      "Was your anonymity protected if you chose to take advantage of mental health or substance abuse treatment resources with previous employers?\n",
      "dont_know    860\n",
      "NaN          169\n",
      "always       164\n",
      "no           121\n",
      "sometimes    119\n",
      "Name: prev_anonymity, dtype: int64\n",
      "\n",
      "prev_mental_health_consequence\n",
      "Do you think that discussing a mental health disorder with previous employers would have negative consequences?\n",
      "some         615\n",
      "dont_know    310\n",
      "all          226\n",
      "NaN          169\n",
      "none         113\n",
      "Name: prev_mental_health_consequence, dtype: int64\n",
      "\n",
      "prev_phys_health_consequence\n",
      "Do you think that discussing a physical health issue with previous employers would have negative consequences?\n",
      "some    631\n",
      "none    559\n",
      "NaN     169\n",
      "all      74\n",
      "Name: prev_phys_health_consequence, dtype: int64\n",
      "\n",
      "prev_coworkers\n",
      "Would you have been willing to discuss a mental health issue with your previous co-workers?\n",
      "some    740\n",
      "none    430\n",
      "NaN     169\n",
      "all      94\n",
      "Name: prev_coworkers, dtype: int64\n",
      "\n",
      "prev_supervisor\n",
      "Would you have been willing to discuss a mental health issue with your direct supervisor(s)?\n",
      "some         654\n",
      "none         416\n",
      "NaN          169\n",
      "dont_know    101\n",
      "all           93\n",
      "Name: prev_supervisor, dtype: int64\n",
      "\n",
      "prev_mental_vs_physical\n",
      "Did you feel that your previous employers took mental health as seriously as physical health?\n",
      "none         463\n",
      "some         427\n",
      "dont_know    331\n",
      "NaN          169\n",
      "all           43\n",
      "Name: prev_mental_vs_physical, dtype: int64\n",
      "\n",
      "prev_obs_consequence\n",
      "Did you hear of or observe negative consequences for co-workers with mental health issues in your previous workplaces?\n",
      "none    758\n",
      "some    444\n",
      "NaN     169\n",
      "all      62\n",
      "Name: prev_obs_consequence, dtype: int64\n",
      "\n",
      "phys_health_interview\n",
      "Would you be willing to bring up a physical health issue with a potential employer in an interview?\n",
      "maybe    633\n",
      "no       441\n",
      "yes      359\n",
      "Name: phys_health_interview, dtype: int64\n",
      "\n",
      "mental_health_interview\n",
      "Would you bring up a mental health issue with a potential employer in an interview?\n",
      "no       883\n",
      "maybe    438\n",
      "yes      112\n",
      "Name: mental_health_interview, dtype: int64\n",
      "\n",
      "hurt_career\n",
      "Do you feel that being identified as a person with a mental health issue would hurt your career?\n",
      "maybe         588\n",
      "yes_would     563\n",
      "no_wouldnt    147\n",
      "yes_has       105\n",
      "no_hasnt       30\n",
      "Name: hurt_career, dtype: int64\n",
      "\n",
      "viewed_negatively\n",
      "Do you think that team members/co-workers would view you more negatively if they knew you suffered from a mental health issue?\n",
      "maybe         591\n",
      "yes_would     403\n",
      "no_wouldnt    348\n",
      "no_dont        49\n",
      "yes_do         42\n",
      "Name: viewed_negatively, dtype: int64\n",
      "\n",
      "friends_family\n",
      "How willing would you be to share with friends and family that you have a mental illness?\n",
      "somewhat_open        640\n",
      "very_open            251\n",
      "somewhat_not_open    214\n",
      "neutral              141\n",
      "no_mental_illness    112\n",
      "not_open_at_all       75\n",
      "Name: friends_family, dtype: int64\n",
      "\n",
      "obs_negative_response\n",
      "Have you observed or experienced an unsupportive or badly handled response to a mental health issue in your current or previous workplace?\n",
      "no             567\n",
      "maybe          346\n",
      "observed       264\n",
      "experienced    167\n",
      "NaN             89\n",
      "Name: obs_negative_response, dtype: int64\n",
      "\n",
      "reluctant_due_to_obs\n",
      "Have your observations of how another individual who discussed a mental health disorder made you less likely to reveal a mental health issue yourself in your current workplace?\n",
      "NaN      776\n",
      "yes      246\n",
      "no       234\n",
      "maybe    177\n",
      "Name: reluctant_due_to_obs, dtype: int64\n",
      "\n",
      "family_history\n",
      "Do you have a family history of mental illness?\n",
      "yes          670\n",
      "no           488\n",
      "dont_know    275\n",
      "Name: family_history, dtype: int64\n",
      "\n",
      "past_disorder\n",
      "Have you had a mental health disorder in the past?\n",
      "yes      736\n",
      "no       451\n",
      "maybe    246\n",
      "Name: past_disorder, dtype: int64\n",
      "\n",
      "current_disorder\n",
      "Do you currently have a mental health disorder?\n",
      "yes      575\n",
      "no       531\n",
      "maybe    327\n",
      "Name: current_disorder, dtype: int64\n",
      "\n",
      "work_interfere_treated\n",
      "If you have a mental health issue, do you feel that it interferes with your work when being treated effectively?\n",
      "doesnt_apply    557\n",
      "sometimes       369\n",
      "rarely          322\n",
      "never           120\n",
      "often            65\n",
      "Name: work_interfere_treated, dtype: int64\n",
      "\n",
      "work_interfere_untreated\n",
      "If you have a mental health issue, do you feel that it interferes with your work when NOT being treated effectively?\n",
      "often           538\n",
      "doesnt_apply    468\n",
      "sometimes       363\n",
      "rarely           52\n",
      "never            12\n",
      "Name: work_interfere_untreated, dtype: int64\n",
      "\n",
      "live_in_country\n",
      "What country do you live in?\n",
      "united_states             840\n",
      "united_kingdom            180\n",
      "canada                     78\n",
      "germany                    58\n",
      "netherlands                48\n",
      "australia                  35\n",
      "sweden                     19\n",
      "france                     16\n",
      "ireland                    15\n",
      "brazil                     10\n",
      "switzerland                10\n",
      "new_zealand                 9\n",
      "russia                      9\n",
      "india                       9\n",
      "denmark                     7\n",
      "bulgaria                    7\n",
      "finland                     7\n",
      "italy                       5\n",
      "belgium                     5\n",
      "poland                      4\n",
      "austria                     4\n",
      "spain                       4\n",
      "romania                     4\n",
      "south_africa                4\n",
      "norway                      3\n",
      "chile                       3\n",
      "pakistan                    3\n",
      "czech_republic              3\n",
      "other                       2\n",
      "lithuania                   2\n",
      "estonia                     2\n",
      "mexico                      2\n",
      "bosnia_and_herzegovina      2\n",
      "israel                      2\n",
      "colombia                    2\n",
      "afghanistan                 2\n",
      "japan                       2\n",
      "iran                        1\n",
      "brunei                      1\n",
      "serbia                      1\n",
      "venezuela                   1\n",
      "taiwan                      1\n",
      "bangladesh                  1\n",
      "hungary                     1\n",
      "slovakia                    1\n",
      "costa_rica                  1\n",
      "argentina                   1\n",
      "ecuador                     1\n",
      "greece                      1\n",
      "algeria                     1\n",
      "guatemala                   1\n",
      "china                       1\n",
      "vietnam                     1\n",
      "Name: live_in_country, dtype: int64\n",
      "\n",
      "live_in_state\n",
      "What US state or territory do you live in?\n",
      "NaN    593\n",
      "ca     130\n",
      "il      56\n",
      "mi      48\n",
      "ny      45\n",
      "wa      43\n",
      "tx      43\n",
      "mn      42\n",
      "or      37\n",
      "pa      33\n",
      "co      28\n",
      "tn      27\n",
      "oh      25\n",
      "in      25\n",
      "ma      23\n",
      "fl      21\n",
      "nc      21\n",
      "md      16\n",
      "va      15\n",
      "ga      14\n",
      "ks      14\n",
      "wi      13\n",
      "ok      13\n",
      "ne      12\n",
      "mo      12\n",
      "nj       7\n",
      "ut       6\n",
      "me       5\n",
      "ia       5\n",
      "az       5\n",
      "nh       5\n",
      "ct       5\n",
      "vt       5\n",
      "ky       4\n",
      "sd       4\n",
      "al       4\n",
      "nm       4\n",
      "nd       4\n",
      "dc       3\n",
      "id       3\n",
      "ri       3\n",
      "nv       3\n",
      "ak       2\n",
      "la       2\n",
      "wv       2\n",
      "mt       1\n",
      "de       1\n",
      "sc       1\n",
      "Name: live_in_state, dtype: int64\n",
      "\n",
      "work_in_country\n",
      "What country do you work in?\n",
      "united_states             851\n",
      "united_kingdom            183\n",
      "canada                     74\n",
      "germany                    58\n",
      "netherlands                47\n",
      "australia                  34\n",
      "sweden                     20\n",
      "ireland                    15\n",
      "france                     14\n",
      "switzerland                10\n",
      "brazil                     10\n",
      "new_zealand                 9\n",
      "india                       9\n",
      "russia                      9\n",
      "finland                     7\n",
      "bulgaria                    7\n",
      "denmark                     7\n",
      "belgium                     5\n",
      "south_africa                4\n",
      "poland                      4\n",
      "austria                     4\n",
      "chile                       3\n",
      "romania                     3\n",
      "italy                       3\n",
      "spain                       3\n",
      "czech_republic              3\n",
      "norway                      3\n",
      "israel                      2\n",
      "pakistan                    2\n",
      "estonia                     2\n",
      "afghanistan                 2\n",
      "other                       2\n",
      "colombia                    2\n",
      "bosnia_and_herzegovina      2\n",
      "mexico                      2\n",
      "lithuania                   1\n",
      "bangladesh                  1\n",
      "turkey                      1\n",
      "slovakia                    1\n",
      "vietnam                     1\n",
      "argentina                   1\n",
      "ecuador                     1\n",
      "guatemala                   1\n",
      "hungary                     1\n",
      "united_arab_emirates        1\n",
      "china                       1\n",
      "greece                      1\n",
      "japan                       1\n",
      "venezuela                   1\n",
      "serbia                      1\n",
      "brunei                      1\n",
      "iran                        1\n",
      "costa_rica                  1\n",
      "Name: work_in_country, dtype: int64\n",
      "\n",
      "work_in_state\n",
      "What US state or territory do you work in?\n",
      "NaN    582\n",
      "ca     141\n",
      "il      58\n",
      "ny      49\n",
      "mi      47\n",
      "tx      44\n",
      "mn      43\n",
      "wa      42\n",
      "or      34\n",
      "pa      32\n",
      "tn      28\n",
      "co      28\n",
      "in      25\n",
      "ma      25\n",
      "oh      25\n",
      "nc      21\n",
      "fl      19\n",
      "wi      14\n",
      "ga      14\n",
      "md      14\n",
      "ok      14\n",
      "ks      14\n",
      "va      13\n",
      "ne      12\n",
      "mo      11\n",
      "dc       7\n",
      "nj       7\n",
      "az       6\n",
      "ut       6\n",
      "ct       5\n",
      "vt       5\n",
      "ia       5\n",
      "me       4\n",
      "ky       4\n",
      "al       4\n",
      "sd       4\n",
      "nm       4\n",
      "nd       4\n",
      "nh       3\n",
      "nv       3\n",
      "ak       2\n",
      "id       2\n",
      "la       2\n",
      "ri       2\n",
      "mt       1\n",
      "hi       1\n",
      "de       1\n",
      "wv       1\n",
      "sc       1\n",
      "Name: work_in_state, dtype: int64\n",
      "\n",
      "remote_work\n",
      "Do you work remotely?\n",
      "sometimes    757\n",
      "always       343\n",
      "never        333\n",
      "Name: remote_work, dtype: int64\n",
      "\n",
      "gender_category\n",
      "male      1056\n",
      "female     337\n",
      "other       40\n",
      "Name: gender_category, dtype: int64\n",
      "\n",
      "state\n",
      "NaN      596\n",
      "ca       126\n",
      "il        55\n",
      "mi        46\n",
      "ny        43\n",
      "tx        43\n",
      "mn        42\n",
      "multi     41\n",
      "wa        40\n",
      "or        33\n",
      "pa        31\n",
      "tn        27\n",
      "co        27\n",
      "oh        23\n",
      "in        23\n",
      "nc        21\n",
      "ma        21\n",
      "fl        18\n",
      "ks        14\n",
      "ga        14\n",
      "md        14\n",
      "ok        13\n",
      "va        12\n",
      "ne        12\n",
      "wi        12\n",
      "mo        10\n",
      "ut         6\n",
      "ct         5\n",
      "nj         5\n",
      "vt         5\n",
      "ia         5\n",
      "az         5\n",
      "me         4\n",
      "ky         4\n",
      "al         4\n",
      "sd         4\n",
      "nm         4\n",
      "nd         4\n",
      "dc         3\n",
      "nh         3\n",
      "nv         3\n",
      "ak         2\n",
      "id         2\n",
      "la         2\n",
      "ri         2\n",
      "mt         1\n",
      "de         1\n",
      "wv         1\n",
      "sc         1\n",
      "Name: state, dtype: int64\n",
      "\n",
      "country\n",
      "united_states             837\n",
      "united_kingdom            178\n",
      "canada                     73\n",
      "germany                    57\n",
      "netherlands                47\n",
      "australia                  34\n",
      "multi                      26\n",
      "sweden                     19\n",
      "ireland                    15\n",
      "france                     14\n",
      "brazil                     10\n",
      "switzerland                10\n",
      "india                       9\n",
      "russia                      9\n",
      "new_zealand                 9\n",
      "finland                     7\n",
      "bulgaria                    7\n",
      "denmark                     7\n",
      "belgium                     5\n",
      "austria                     4\n",
      "south_africa                4\n",
      "poland                      4\n",
      "chile                       3\n",
      "czech_republic              3\n",
      "norway                      3\n",
      "italy                       3\n",
      "romania                     3\n",
      "spain                       3\n",
      "israel                      2\n",
      "colombia                    2\n",
      "bosnia_and_herzegovina      2\n",
      "pakistan                    2\n",
      "estonia                     2\n",
      "mexico                      2\n",
      "hungary                     1\n",
      "lithuania                   1\n",
      "iran                        1\n",
      "brunei                      1\n",
      "serbia                      1\n",
      "venezuela                   1\n",
      "japan                       1\n",
      "other                       1\n",
      "bangladesh                  1\n",
      "afghanistan                 1\n",
      "guatemala                   1\n",
      "slovakia                    1\n",
      "greece                      1\n",
      "china                       1\n",
      "argentina                   1\n",
      "ecuador                     1\n",
      "costa_rica                  1\n",
      "vietnam                     1\n",
      "Name: country, dtype: int64\n",
      "\n"
     ]
    }
   ],
   "source": [
    "obj_cols = df16.columns[df16.dtypes==object]\n",
    "print len(obj_cols)\n",
    "long_cols = ['phys_health_interview_comment', \n",
    "             'mental_health_interview_comment',\n",
    "             'professional_diagnoses',\n",
    "             'position',\n",
    "             'gender',\n",
    "             'diagnosed_conditions',\n",
    "             'believed_conditions'\n",
    "            ]\n",
    "for col in long_cols:\n",
    "    obj_cols = obj_cols.drop(col)\n",
    "for col in obj_cols:\n",
    "    prefix_dummies(df16, col, True)\n",
    "    v(df16, col)\n",
    "#     print col\n",
    "#     print df16[col].head(3)\n",
    "    print\n",
    "#     pass\n",
    "\n",
    "investigate = [\n",
    "    'friends_family',\n",
    "    'family_history',\n",
    "    'mental_vs_physical'\n",
    "]"
   ]
  },
  {
   "cell_type": "markdown",
   "metadata": {},
   "source": [
    "## Exporting Cleaned Data\n"
   ]
  },
  {
   "cell_type": "code",
   "execution_count": 64,
   "metadata": {
    "collapsed": false
   },
   "outputs": [
    {
     "name": "stdout",
     "output_type": "stream",
     "text": [
      "reluctant_due_to_obs\n",
      "Have your observations of how another individual who discussed a mental health disorder made you less likely to reveal a mental health issue yourself in your current workplace?\n",
      "NaN      776\n",
      "yes      246\n",
      "no       234\n",
      "maybe    177\n",
      "Name: reluctant_due_to_obs, dtype: int64\n"
     ]
    }
   ],
   "source": [
    "v(df16, 'reluctant_due_to_obs')"
   ]
  },
  {
   "cell_type": "code",
   "execution_count": 65,
   "metadata": {
    "collapsed": false
   },
   "outputs": [
    {
     "name": "stdout",
     "output_type": "stream",
     "text": [
      "(1433, 585)\n"
     ]
    }
   ],
   "source": [
    "df = pd.concat(dummy_dfs.values(), axis=1)\n",
    "df = pd.concat([df16, df], axis=1)\n",
    "print df.shape"
   ]
  },
  {
   "cell_type": "code",
   "execution_count": 66,
   "metadata": {
    "collapsed": false
   },
   "outputs": [
    {
     "data": {
      "text/html": [
       "<div>\n",
       "<table border=\"1\" class=\"dataframe\">\n",
       "  <thead>\n",
       "    <tr style=\"text-align: right;\">\n",
       "      <th></th>\n",
       "      <th>self_employed</th>\n",
       "      <th>num_employees</th>\n",
       "      <th>tech_company</th>\n",
       "      <th>tech_role</th>\n",
       "      <th>benefits</th>\n",
       "      <th>care_options</th>\n",
       "      <th>wellness_program</th>\n",
       "      <th>seek_help</th>\n",
       "      <th>anonymity</th>\n",
       "      <th>leave</th>\n",
       "      <th>...</th>\n",
       "      <th>gender</th>\n",
       "      <th>live_in_country</th>\n",
       "      <th>live_in_state</th>\n",
       "      <th>work_in_country</th>\n",
       "      <th>work_in_state</th>\n",
       "      <th>position</th>\n",
       "      <th>remote_work</th>\n",
       "      <th>gender_category</th>\n",
       "      <th>state</th>\n",
       "      <th>country</th>\n",
       "    </tr>\n",
       "  </thead>\n",
       "  <tbody>\n",
       "    <tr>\n",
       "      <th>0</th>\n",
       "      <td>0</td>\n",
       "      <td>26-100</td>\n",
       "      <td>1.0</td>\n",
       "      <td>NaN</td>\n",
       "      <td>doesnt_apply</td>\n",
       "      <td>NaN</td>\n",
       "      <td>no</td>\n",
       "      <td>no</td>\n",
       "      <td>dont_know</td>\n",
       "      <td>very_easy</td>\n",
       "      <td>...</td>\n",
       "      <td>Male</td>\n",
       "      <td>united_kingdom</td>\n",
       "      <td>NaN</td>\n",
       "      <td>united_kingdom</td>\n",
       "      <td>NaN</td>\n",
       "      <td>Back-end Developer</td>\n",
       "      <td>sometimes</td>\n",
       "      <td>male</td>\n",
       "      <td>NaN</td>\n",
       "      <td>united_kingdom</td>\n",
       "    </tr>\n",
       "    <tr>\n",
       "      <th>1</th>\n",
       "      <td>0</td>\n",
       "      <td>6-25</td>\n",
       "      <td>1.0</td>\n",
       "      <td>NaN</td>\n",
       "      <td>no</td>\n",
       "      <td>yes</td>\n",
       "      <td>yes</td>\n",
       "      <td>yes</td>\n",
       "      <td>yes</td>\n",
       "      <td>somewhat_easy</td>\n",
       "      <td>...</td>\n",
       "      <td>male</td>\n",
       "      <td>united_states</td>\n",
       "      <td>il</td>\n",
       "      <td>united_states</td>\n",
       "      <td>il</td>\n",
       "      <td>Back-end Developer|Front-end Developer</td>\n",
       "      <td>never</td>\n",
       "      <td>male</td>\n",
       "      <td>il</td>\n",
       "      <td>united_states</td>\n",
       "    </tr>\n",
       "    <tr>\n",
       "      <th>2</th>\n",
       "      <td>0</td>\n",
       "      <td>6-25</td>\n",
       "      <td>1.0</td>\n",
       "      <td>NaN</td>\n",
       "      <td>no</td>\n",
       "      <td>NaN</td>\n",
       "      <td>no</td>\n",
       "      <td>no</td>\n",
       "      <td>dont_know</td>\n",
       "      <td>neither_easy_nor_difficult</td>\n",
       "      <td>...</td>\n",
       "      <td>Male</td>\n",
       "      <td>united_kingdom</td>\n",
       "      <td>NaN</td>\n",
       "      <td>united_kingdom</td>\n",
       "      <td>NaN</td>\n",
       "      <td>Back-end Developer</td>\n",
       "      <td>always</td>\n",
       "      <td>male</td>\n",
       "      <td>NaN</td>\n",
       "      <td>united_kingdom</td>\n",
       "    </tr>\n",
       "  </tbody>\n",
       "</table>\n",
       "<p>3 rows × 66 columns</p>\n",
       "</div>"
      ],
      "text/plain": [
       "   self_employed num_employees  tech_company  tech_role      benefits  \\\n",
       "0              0        26-100           1.0        NaN  doesnt_apply   \n",
       "1              0          6-25           1.0        NaN            no   \n",
       "2              0          6-25           1.0        NaN            no   \n",
       "\n",
       "  care_options wellness_program seek_help  anonymity  \\\n",
       "0          NaN               no        no  dont_know   \n",
       "1          yes              yes       yes        yes   \n",
       "2          NaN               no        no  dont_know   \n",
       "\n",
       "                        leave       ...       gender live_in_country  \\\n",
       "0                   very_easy       ...         Male  united_kingdom   \n",
       "1               somewhat_easy       ...         male   united_states   \n",
       "2  neither_easy_nor_difficult       ...        Male   united_kingdom   \n",
       "\n",
       "  live_in_state work_in_country work_in_state  \\\n",
       "0           NaN  united_kingdom           NaN   \n",
       "1            il   united_states            il   \n",
       "2           NaN  united_kingdom           NaN   \n",
       "\n",
       "                                 position  remote_work gender_category state  \\\n",
       "0                      Back-end Developer    sometimes            male   NaN   \n",
       "1  Back-end Developer|Front-end Developer        never            male    il   \n",
       "2                      Back-end Developer       always            male   NaN   \n",
       "\n",
       "          country  \n",
       "0  united_kingdom  \n",
       "1   united_states  \n",
       "2  united_kingdom  \n",
       "\n",
       "[3 rows x 66 columns]"
      ]
     },
     "execution_count": 66,
     "metadata": {},
     "output_type": "execute_result"
    }
   ],
   "source": [
    "df16.head(3)"
   ]
  },
  {
   "cell_type": "code",
   "execution_count": 67,
   "metadata": {
    "collapsed": false
   },
   "outputs": [
    {
     "data": {
      "text/html": [
       "<div>\n",
       "<table border=\"1\" class=\"dataframe\">\n",
       "  <thead>\n",
       "    <tr style=\"text-align: right;\">\n",
       "      <th></th>\n",
       "      <th>self_employed</th>\n",
       "      <th>num_employees</th>\n",
       "      <th>tech_company</th>\n",
       "      <th>tech_role</th>\n",
       "      <th>benefits</th>\n",
       "      <th>care_options</th>\n",
       "      <th>wellness_program</th>\n",
       "      <th>seek_help</th>\n",
       "      <th>anonymity</th>\n",
       "      <th>leave</th>\n",
       "      <th>...</th>\n",
       "      <th>country_switzerland</th>\n",
       "      <th>country_united_kingdom</th>\n",
       "      <th>country_united_states</th>\n",
       "      <th>country_venezuela</th>\n",
       "      <th>country_vietnam</th>\n",
       "      <th>country_nan</th>\n",
       "      <th>phys_health_consequence_maybe</th>\n",
       "      <th>phys_health_consequence_no</th>\n",
       "      <th>phys_health_consequence_yes</th>\n",
       "      <th>phys_health_consequence_nan</th>\n",
       "    </tr>\n",
       "  </thead>\n",
       "  <tbody>\n",
       "    <tr>\n",
       "      <th>0</th>\n",
       "      <td>0</td>\n",
       "      <td>26-100</td>\n",
       "      <td>1.0</td>\n",
       "      <td>NaN</td>\n",
       "      <td>doesnt_apply</td>\n",
       "      <td>NaN</td>\n",
       "      <td>no</td>\n",
       "      <td>no</td>\n",
       "      <td>dont_know</td>\n",
       "      <td>very_easy</td>\n",
       "      <td>...</td>\n",
       "      <td>0</td>\n",
       "      <td>1</td>\n",
       "      <td>0</td>\n",
       "      <td>0</td>\n",
       "      <td>0</td>\n",
       "      <td>0</td>\n",
       "      <td>0</td>\n",
       "      <td>1</td>\n",
       "      <td>0</td>\n",
       "      <td>0</td>\n",
       "    </tr>\n",
       "    <tr>\n",
       "      <th>1</th>\n",
       "      <td>0</td>\n",
       "      <td>6-25</td>\n",
       "      <td>1.0</td>\n",
       "      <td>NaN</td>\n",
       "      <td>no</td>\n",
       "      <td>yes</td>\n",
       "      <td>yes</td>\n",
       "      <td>yes</td>\n",
       "      <td>yes</td>\n",
       "      <td>somewhat_easy</td>\n",
       "      <td>...</td>\n",
       "      <td>0</td>\n",
       "      <td>0</td>\n",
       "      <td>1</td>\n",
       "      <td>0</td>\n",
       "      <td>0</td>\n",
       "      <td>0</td>\n",
       "      <td>0</td>\n",
       "      <td>1</td>\n",
       "      <td>0</td>\n",
       "      <td>0</td>\n",
       "    </tr>\n",
       "  </tbody>\n",
       "</table>\n",
       "<p>2 rows × 585 columns</p>\n",
       "</div>"
      ],
      "text/plain": [
       "   self_employed num_employees  tech_company  tech_role      benefits  \\\n",
       "0              0        26-100           1.0        NaN  doesnt_apply   \n",
       "1              0          6-25           1.0        NaN            no   \n",
       "\n",
       "  care_options wellness_program seek_help  anonymity          leave  \\\n",
       "0          NaN               no        no  dont_know      very_easy   \n",
       "1          yes              yes       yes        yes  somewhat_easy   \n",
       "\n",
       "              ...             country_switzerland country_united_kingdom  \\\n",
       "0             ...                               0                      1   \n",
       "1             ...                               0                      0   \n",
       "\n",
       "  country_united_states country_venezuela country_vietnam  country_nan  \\\n",
       "0                     0                 0               0            0   \n",
       "1                     1                 0               0            0   \n",
       "\n",
       "   phys_health_consequence_maybe phys_health_consequence_no  \\\n",
       "0                              0                          1   \n",
       "1                              0                          1   \n",
       "\n",
       "  phys_health_consequence_yes phys_health_consequence_nan  \n",
       "0                           0                           0  \n",
       "1                           0                           0  \n",
       "\n",
       "[2 rows x 585 columns]"
      ]
     },
     "execution_count": 67,
     "metadata": {},
     "output_type": "execute_result"
    }
   ],
   "source": [
    "df.head(2)"
   ]
  },
  {
   "cell_type": "code",
   "execution_count": null,
   "metadata": {
    "collapsed": true
   },
   "outputs": [],
   "source": []
  },
  {
   "cell_type": "code",
   "execution_count": 68,
   "metadata": {
    "collapsed": true
   },
   "outputs": [],
   "source": [
    "df.to_csv(path_or_buf=\"./datasets/2016/clean-mental-health-in-tech-2016.csv\")"
   ]
  },
  {
   "cell_type": "code",
   "execution_count": 69,
   "metadata": {
    "collapsed": true
   },
   "outputs": [],
   "source": [
    "df16.to_csv(path_or_buf=\"./datasets/2016/clean-no-dummies-2016.csv\")"
   ]
  },
  {
   "cell_type": "code",
   "execution_count": null,
   "metadata": {
    "collapsed": true
   },
   "outputs": [],
   "source": []
  }
 ],
 "metadata": {
  "kernelspec": {
   "display_name": "Python 2",
   "language": "python",
   "name": "python2"
  },
  "language_info": {
   "codemirror_mode": {
    "name": "ipython",
    "version": 2
   },
   "file_extension": ".py",
   "mimetype": "text/x-python",
   "name": "python",
   "nbconvert_exporter": "python",
   "pygments_lexer": "ipython2",
   "version": "2.7.13"
  }
 },
 "nbformat": 4,
 "nbformat_minor": 0
}
