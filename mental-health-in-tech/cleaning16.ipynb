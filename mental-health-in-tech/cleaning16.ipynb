{
 "cells": [
  {
   "cell_type": "markdown",
   "metadata": {},
   "source": [
    "Potential resource(s):\n",
    "http://scikit-learn.org/stable/auto_examples/cluster/plot_kmeans_digits.html#sphx-glr-auto-examples-cluster-plot-kmeans-digits-py"
   ]
  },
  {
   "cell_type": "markdown",
   "metadata": {},
   "source": [
    "# Mental Health in Tech Project\n",
    "\n",
    "## Data Sets\n",
    "\n",
    "[OSMI Survey on Mental Health in the Tech Workplace in 2014](https://www.kaggle.com/osmi/mental-health-in-tech-survey) \n",
    "\n",
    "[\"Ongoing\" OSMI survey from 2016](https://data.world/kittybot/osmi-mental-health-tech-2016)\n",
    "\n",
    "\n",
    "## Questions\n",
    "\n",
    "What factors are most signficant in influencing whether or not a person believes disclosing a mental health issue would have negative consequences?\n",
    "\n",
    "Can we predict, based on publicly available features of a person and company, whether that person is likely to beleive disclosing a mental health issue would be harmful for their career?"
   ]
  },
  {
   "cell_type": "markdown",
   "metadata": {},
   "source": [
    "## Exploring and Cleaning 2016 Data"
   ]
  },
  {
   "cell_type": "code",
   "execution_count": 2,
   "metadata": {
    "collapsed": false
   },
   "outputs": [],
   "source": [
    "import pandas as pd\n",
    "%matplotlib inline"
   ]
  },
  {
   "cell_type": "code",
   "execution_count": 3,
   "metadata": {
    "collapsed": false
   },
   "outputs": [
    {
     "name": "stdout",
     "output_type": "stream",
     "text": [
      "(1433, 63)\n"
     ]
    },
    {
     "data": {
      "text/html": [
       "<div>\n",
       "<table border=\"1\" class=\"dataframe\">\n",
       "  <thead>\n",
       "    <tr style=\"text-align: right;\">\n",
       "      <th></th>\n",
       "      <th>Are you self-employed?</th>\n",
       "      <th>How many employees does your company or organization have?</th>\n",
       "      <th>Is your employer primarily a tech company/organization?</th>\n",
       "      <th>Is your primary role within your company related to tech/IT?</th>\n",
       "      <th>Does your employer provide mental health benefits as part of healthcare coverage?</th>\n",
       "      <th>Do you know the options for mental health care available under your employer-provided coverage?</th>\n",
       "      <th>Has your employer ever formally discussed mental health (for example, as part of a wellness campaign or other official communication)?</th>\n",
       "      <th>Does your employer offer resources to learn more about mental health concerns and options for seeking help?</th>\n",
       "      <th>Is your anonymity protected if you choose to take advantage of mental health or substance abuse treatment resources provided by your employer?</th>\n",
       "      <th>If a mental health issue prompted you to request a medical leave from work, asking for that leave would be:</th>\n",
       "      <th>...</th>\n",
       "      <th>If you have a mental health issue, do you feel that it interferes with your work when being treated effectively?</th>\n",
       "      <th>If you have a mental health issue, do you feel that it interferes with your work when NOT being treated effectively?</th>\n",
       "      <th>What is your age?</th>\n",
       "      <th>What is your gender?</th>\n",
       "      <th>What country do you live in?</th>\n",
       "      <th>What US state or territory do you live in?</th>\n",
       "      <th>What country do you work in?</th>\n",
       "      <th>What US state or territory do you work in?</th>\n",
       "      <th>Which of the following best describes your work position?</th>\n",
       "      <th>Do you work remotely?</th>\n",
       "    </tr>\n",
       "  </thead>\n",
       "  <tbody>\n",
       "    <tr>\n",
       "      <th>0</th>\n",
       "      <td>0</td>\n",
       "      <td>26-100</td>\n",
       "      <td>1.0</td>\n",
       "      <td>NaN</td>\n",
       "      <td>Not eligible for coverage / N/A</td>\n",
       "      <td>NaN</td>\n",
       "      <td>No</td>\n",
       "      <td>No</td>\n",
       "      <td>I don't know</td>\n",
       "      <td>Very easy</td>\n",
       "      <td>...</td>\n",
       "      <td>Not applicable to me</td>\n",
       "      <td>Not applicable to me</td>\n",
       "      <td>39</td>\n",
       "      <td>Male</td>\n",
       "      <td>United Kingdom</td>\n",
       "      <td>NaN</td>\n",
       "      <td>United Kingdom</td>\n",
       "      <td>NaN</td>\n",
       "      <td>Back-end Developer</td>\n",
       "      <td>Sometimes</td>\n",
       "    </tr>\n",
       "    <tr>\n",
       "      <th>1</th>\n",
       "      <td>0</td>\n",
       "      <td>6-25</td>\n",
       "      <td>1.0</td>\n",
       "      <td>NaN</td>\n",
       "      <td>No</td>\n",
       "      <td>Yes</td>\n",
       "      <td>Yes</td>\n",
       "      <td>Yes</td>\n",
       "      <td>Yes</td>\n",
       "      <td>Somewhat easy</td>\n",
       "      <td>...</td>\n",
       "      <td>Rarely</td>\n",
       "      <td>Sometimes</td>\n",
       "      <td>29</td>\n",
       "      <td>male</td>\n",
       "      <td>United States of America</td>\n",
       "      <td>Illinois</td>\n",
       "      <td>United States of America</td>\n",
       "      <td>Illinois</td>\n",
       "      <td>Back-end Developer|Front-end Developer</td>\n",
       "      <td>Never</td>\n",
       "    </tr>\n",
       "    <tr>\n",
       "      <th>2</th>\n",
       "      <td>0</td>\n",
       "      <td>6-25</td>\n",
       "      <td>1.0</td>\n",
       "      <td>NaN</td>\n",
       "      <td>No</td>\n",
       "      <td>NaN</td>\n",
       "      <td>No</td>\n",
       "      <td>No</td>\n",
       "      <td>I don't know</td>\n",
       "      <td>Neither easy nor difficult</td>\n",
       "      <td>...</td>\n",
       "      <td>Not applicable to me</td>\n",
       "      <td>Not applicable to me</td>\n",
       "      <td>38</td>\n",
       "      <td>Male</td>\n",
       "      <td>United Kingdom</td>\n",
       "      <td>NaN</td>\n",
       "      <td>United Kingdom</td>\n",
       "      <td>NaN</td>\n",
       "      <td>Back-end Developer</td>\n",
       "      <td>Always</td>\n",
       "    </tr>\n",
       "  </tbody>\n",
       "</table>\n",
       "<p>3 rows × 63 columns</p>\n",
       "</div>"
      ],
      "text/plain": [
       "   Are you self-employed?  \\\n",
       "0                       0   \n",
       "1                       0   \n",
       "2                       0   \n",
       "\n",
       "  How many employees does your company or organization have?  \\\n",
       "0                                             26-100           \n",
       "1                                               6-25           \n",
       "2                                               6-25           \n",
       "\n",
       "   Is your employer primarily a tech company/organization?  \\\n",
       "0                                                1.0         \n",
       "1                                                1.0         \n",
       "2                                                1.0         \n",
       "\n",
       "   Is your primary role within your company related to tech/IT?  \\\n",
       "0                                                NaN              \n",
       "1                                                NaN              \n",
       "2                                                NaN              \n",
       "\n",
       "  Does your employer provide mental health benefits as part of healthcare coverage?  \\\n",
       "0                    Not eligible for coverage / N/A                                  \n",
       "1                                                 No                                  \n",
       "2                                                 No                                  \n",
       "\n",
       "  Do you know the options for mental health care available under your employer-provided coverage?  \\\n",
       "0                                                NaN                                                \n",
       "1                                                Yes                                                \n",
       "2                                                NaN                                                \n",
       "\n",
       "  Has your employer ever formally discussed mental health (for example, as part of a wellness campaign or other official communication)?  \\\n",
       "0                                                 No                                                                                       \n",
       "1                                                Yes                                                                                       \n",
       "2                                                 No                                                                                       \n",
       "\n",
       "  Does your employer offer resources to learn more about mental health concerns and options for seeking help?  \\\n",
       "0                                                 No                                                            \n",
       "1                                                Yes                                                            \n",
       "2                                                 No                                                            \n",
       "\n",
       "  Is your anonymity protected if you choose to take advantage of mental health or substance abuse treatment resources provided by your employer?  \\\n",
       "0                                       I don't know                                                                                               \n",
       "1                                                Yes                                                                                               \n",
       "2                                       I don't know                                                                                               \n",
       "\n",
       "  If a mental health issue prompted you to request a medical leave from work, asking for that leave would be:  \\\n",
       "0                                          Very easy                                                            \n",
       "1                                      Somewhat easy                                                            \n",
       "2                         Neither easy nor difficult                                                            \n",
       "\n",
       "           ...           \\\n",
       "0          ...            \n",
       "1          ...            \n",
       "2          ...            \n",
       "\n",
       "  If you have a mental health issue, do you feel that it interferes with your work when being treated effectively?  \\\n",
       "0                               Not applicable to me                                                                 \n",
       "1                                             Rarely                                                                 \n",
       "2                               Not applicable to me                                                                 \n",
       "\n",
       "  If you have a mental health issue, do you feel that it interferes with your work when NOT being treated effectively?  \\\n",
       "0                               Not applicable to me                                                                     \n",
       "1                                          Sometimes                                                                     \n",
       "2                               Not applicable to me                                                                     \n",
       "\n",
       "  What is your age? What is your gender? What country do you live in?  \\\n",
       "0                39                 Male               United Kingdom   \n",
       "1                29                 male     United States of America   \n",
       "2                38                Male                United Kingdom   \n",
       "\n",
       "  What US state or territory do you live in?  What country do you work in?  \\\n",
       "0                                        NaN                United Kingdom   \n",
       "1                                   Illinois      United States of America   \n",
       "2                                        NaN                United Kingdom   \n",
       "\n",
       "  What US state or territory do you work in?  \\\n",
       "0                                        NaN   \n",
       "1                                   Illinois   \n",
       "2                                        NaN   \n",
       "\n",
       "  Which of the following best describes your work position?  \\\n",
       "0                                 Back-end Developer          \n",
       "1             Back-end Developer|Front-end Developer          \n",
       "2                                 Back-end Developer          \n",
       "\n",
       "  Do you work remotely?  \n",
       "0             Sometimes  \n",
       "1                 Never  \n",
       "2                Always  \n",
       "\n",
       "[3 rows x 63 columns]"
      ]
     },
     "execution_count": 3,
     "metadata": {},
     "output_type": "execute_result"
    }
   ],
   "source": [
    "df16 = pd.read_csv(\"./datasets/2016/mental-health-in-tech-2016_20161114.csv\")\n",
    "print df16.shape\n",
    "df16.head(3)"
   ]
  },
  {
   "cell_type": "code",
   "execution_count": 4,
   "metadata": {
    "collapsed": false
   },
   "outputs": [
    {
     "data": {
      "text/html": [
       "<div>\n",
       "<table border=\"1\" class=\"dataframe\">\n",
       "  <thead>\n",
       "    <tr style=\"text-align: right;\">\n",
       "      <th></th>\n",
       "      <th>self_employed</th>\n",
       "      <th>num_employees</th>\n",
       "      <th>tech_company</th>\n",
       "      <th>tech_role</th>\n",
       "      <th>benefits</th>\n",
       "      <th>care_options</th>\n",
       "      <th>wellness_program</th>\n",
       "      <th>seek_help</th>\n",
       "      <th>anonymity</th>\n",
       "      <th>leave</th>\n",
       "      <th>...</th>\n",
       "      <th>work_interfere_treated</th>\n",
       "      <th>work_interfere_untreated</th>\n",
       "      <th>age</th>\n",
       "      <th>gender</th>\n",
       "      <th>live_in_country</th>\n",
       "      <th>live_in_state</th>\n",
       "      <th>work_in_country</th>\n",
       "      <th>work_in_state</th>\n",
       "      <th>position</th>\n",
       "      <th>remote_work</th>\n",
       "    </tr>\n",
       "  </thead>\n",
       "  <tbody>\n",
       "    <tr>\n",
       "      <th>0</th>\n",
       "      <td>0</td>\n",
       "      <td>26-100</td>\n",
       "      <td>1.0</td>\n",
       "      <td>NaN</td>\n",
       "      <td>Not eligible for coverage / N/A</td>\n",
       "      <td>NaN</td>\n",
       "      <td>No</td>\n",
       "      <td>No</td>\n",
       "      <td>I don't know</td>\n",
       "      <td>Very easy</td>\n",
       "      <td>...</td>\n",
       "      <td>Not applicable to me</td>\n",
       "      <td>Not applicable to me</td>\n",
       "      <td>39</td>\n",
       "      <td>Male</td>\n",
       "      <td>United Kingdom</td>\n",
       "      <td>NaN</td>\n",
       "      <td>United Kingdom</td>\n",
       "      <td>NaN</td>\n",
       "      <td>Back-end Developer</td>\n",
       "      <td>Sometimes</td>\n",
       "    </tr>\n",
       "    <tr>\n",
       "      <th>1</th>\n",
       "      <td>0</td>\n",
       "      <td>6-25</td>\n",
       "      <td>1.0</td>\n",
       "      <td>NaN</td>\n",
       "      <td>No</td>\n",
       "      <td>Yes</td>\n",
       "      <td>Yes</td>\n",
       "      <td>Yes</td>\n",
       "      <td>Yes</td>\n",
       "      <td>Somewhat easy</td>\n",
       "      <td>...</td>\n",
       "      <td>Rarely</td>\n",
       "      <td>Sometimes</td>\n",
       "      <td>29</td>\n",
       "      <td>male</td>\n",
       "      <td>United States of America</td>\n",
       "      <td>Illinois</td>\n",
       "      <td>United States of America</td>\n",
       "      <td>Illinois</td>\n",
       "      <td>Back-end Developer|Front-end Developer</td>\n",
       "      <td>Never</td>\n",
       "    </tr>\n",
       "    <tr>\n",
       "      <th>2</th>\n",
       "      <td>0</td>\n",
       "      <td>6-25</td>\n",
       "      <td>1.0</td>\n",
       "      <td>NaN</td>\n",
       "      <td>No</td>\n",
       "      <td>NaN</td>\n",
       "      <td>No</td>\n",
       "      <td>No</td>\n",
       "      <td>I don't know</td>\n",
       "      <td>Neither easy nor difficult</td>\n",
       "      <td>...</td>\n",
       "      <td>Not applicable to me</td>\n",
       "      <td>Not applicable to me</td>\n",
       "      <td>38</td>\n",
       "      <td>Male</td>\n",
       "      <td>United Kingdom</td>\n",
       "      <td>NaN</td>\n",
       "      <td>United Kingdom</td>\n",
       "      <td>NaN</td>\n",
       "      <td>Back-end Developer</td>\n",
       "      <td>Always</td>\n",
       "    </tr>\n",
       "  </tbody>\n",
       "</table>\n",
       "<p>3 rows × 63 columns</p>\n",
       "</div>"
      ],
      "text/plain": [
       "   self_employed num_employees  tech_company  tech_role  \\\n",
       "0              0        26-100           1.0        NaN   \n",
       "1              0          6-25           1.0        NaN   \n",
       "2              0          6-25           1.0        NaN   \n",
       "\n",
       "                          benefits care_options wellness_program seek_help  \\\n",
       "0  Not eligible for coverage / N/A          NaN               No        No   \n",
       "1                               No          Yes              Yes       Yes   \n",
       "2                               No          NaN               No        No   \n",
       "\n",
       "      anonymity                       leave     ...      \\\n",
       "0  I don't know                   Very easy     ...       \n",
       "1           Yes               Somewhat easy     ...       \n",
       "2  I don't know  Neither easy nor difficult     ...       \n",
       "\n",
       "  work_interfere_treated work_interfere_untreated age gender  \\\n",
       "0   Not applicable to me     Not applicable to me  39   Male   \n",
       "1                 Rarely                Sometimes  29   male   \n",
       "2   Not applicable to me     Not applicable to me  38  Male    \n",
       "\n",
       "            live_in_country live_in_state           work_in_country  \\\n",
       "0            United Kingdom           NaN            United Kingdom   \n",
       "1  United States of America      Illinois  United States of America   \n",
       "2            United Kingdom           NaN            United Kingdom   \n",
       "\n",
       "  work_in_state                                position remote_work  \n",
       "0           NaN                      Back-end Developer   Sometimes  \n",
       "1      Illinois  Back-end Developer|Front-end Developer       Never  \n",
       "2           NaN                      Back-end Developer      Always  \n",
       "\n",
       "[3 rows x 63 columns]"
      ]
     },
     "execution_count": 4,
     "metadata": {},
     "output_type": "execute_result"
    }
   ],
   "source": [
    "# rename columns to match 2014 data set and shorter names\n",
    "question_col_map = {\n",
    "    'Are you self-employed?': 'self_employed',\n",
    "    'How many employees does your company or organization have?': 'num_employees',\n",
    "    'Is your employer primarily a tech company/organization?': 'tech_company',\n",
    "    'Is your primary role within your company related to tech/IT?': 'tech_role',\n",
    "    'Does your employer provide mental health benefits as part of healthcare coverage?': 'benefits',\n",
    "    'Do you know the options for mental health care available under your employer-provided coverage?': 'care_options',\n",
    "    'Has your employer ever formally discussed mental health (for example, as part of a wellness campaign or other official communication)?': 'wellness_program',\n",
    "    'Does your employer offer resources to learn more about mental health concerns and options for seeking help?': 'seek_help',\n",
    "    'Is your anonymity protected if you choose to take advantage of mental health or substance abuse treatment resources provided by your employer?': 'anonymity',\n",
    "    'If a mental health issue prompted you to request a medical leave from work, asking for that leave would be:': 'leave',  \n",
    "    'Do you think that discussing a mental health disorder with your employer would have negative consequences?': 'mental_health_consequence',\n",
    "    'Do you think that discussing a physical health issue with your employer would have negative consequences?': 'phys_health_consequence',\n",
    "    'Would you feel comfortable discussing a mental health disorder with your coworkers?': 'coworkers',  # \"comfortable\" updated from \"willing\"\n",
    "    'Would you feel comfortable discussing a mental health disorder with your direct supervisor(s)?': 'supervisor',  # \"comfortable\" updated from \"willing\"\n",
    "    'Do you feel that your employer takes mental health as seriously as physical health?': 'mental_vs_physical',\n",
    "    'Have you heard of or observed negative consequences for co-workers who have been open about mental health issues in your workplace?': 'obs_consequence',\n",
    "    'Do you have medical coverage (private insurance or state-provided) which includes treatment of \\xc2\\xa0mental health issues?': 'insurance',\n",
    "    'Do you know local or online resources to seek help for a mental health disorder?': 'know_resources',\n",
    "    'If you have been diagnosed or treated for a mental health disorder, do you ever reveal this to clients or business contacts?': 'revealed_contacts',\n",
    "    'If you have revealed a mental health issue to a client or business contact, do you believe this has impacted you negatively?': 'revealed_contacts_consequence',\n",
    "    'If you have been diagnosed or treated for a mental health disorder, do you ever reveal this to coworkers or employees?': 'revealed_coworkers',\n",
    "    'If you have revealed a mental health issue to a coworker or employee, do you believe this has impacted you negatively?': 'revealed_coworkers_consequence',\n",
    "    'Do you believe your productivity is ever affected by a mental health issue?': 'productivity_impacted',  # close to 'work_interfere'\n",
    "    'If yes, what percentage of your work time (time performing primary or secondary job functions) is affected by a mental health issue?': 'percent_time_impacted',\n",
    "    'Do you have previous employers?': 'prev_employer',\n",
    "    'Have your previous employers provided mental health benefits?': 'prev_benefits',\n",
    "    'Were you aware of the options for mental health care provided by your previous employers?': 'prev_care_options',\n",
    "    'Did your previous employers ever formally discuss mental health (as part of a wellness campaign or other official communication)?': 'prev_wellness_program',\n",
    "    'Did your previous employers provide resources to learn more about mental health issues and how to seek help?': 'prev_seek_help',\n",
    "    'Was your anonymity protected if you chose to take advantage of mental health or substance abuse treatment resources with previous employers?': 'prev_anonymity',\n",
    "    'Do you think that discussing a mental health disorder with previous employers would have negative consequences?': 'prev_mental_health_consequence',\n",
    "    'Do you think that discussing a physical health issue with previous employers would have negative consequences?': 'prev_phys_health_consequence',\n",
    "    'Would you have been willing to discuss a mental health issue with your previous co-workers?': 'prev_coworkers',\n",
    "    'Would you have been willing to discuss a mental health issue with your direct supervisor(s)?': 'prev_supervisor',\n",
    "    'Did you feel that your previous employers took mental health as seriously as physical health?': 'prev_mental_vs_physical',\n",
    "    'Did you hear of or observe negative consequences for co-workers with mental health issues in your previous workplaces?': 'prev_obs_consequence',\n",
    "    'Would you be willing to bring up a physical health issue with a potential employer in an interview?': 'phys_health_interview',\n",
    "    'Why or why not?': 'phys_health_interview_comment',\n",
    "    'Would you bring up a mental health issue with a potential employer in an interview?': 'mental_health_interview',\n",
    "    'Why or why not?.1': 'mental_health_interview_comment',\n",
    "    'Do you feel that being identified as a person with a mental health issue would hurt your career?': 'hurt_career',\n",
    "    'Do you think that team members/co-workers would view you more negatively if they knew you suffered from a mental health issue?': 'viewed_negatively',\n",
    "    'How willing would you be to share with friends and family that you have a mental illness?': 'friends_family',\n",
    "    'Have you observed or experienced an unsupportive or badly handled response to a mental health issue in your current or previous workplace?': 'obs_negative_response',  # close to 'obs_consequence'\n",
    "    'Have your observations of how another individual who discussed a mental health disorder made you less likely to reveal a mental health issue yourself in your current workplace?': 'reluctant_due_to_obs',\n",
    "    'Do you have a family history of mental illness?': 'family_history',\n",
    "    'Have you had a mental health disorder in the past?': 'past_disorder',\n",
    "    'Do you currently have a mental health disorder?': 'current_disorder',\n",
    "    'If yes, what condition(s) have you been diagnosed with?': 'current_diagnosed_conditions',\n",
    "    'If maybe, what condition(s) do you believe you have?': 'current_believed_conditions',\n",
    "    'Have you been diagnosed with a mental health condition by a medical professional?': 'professional_diagnosed',\n",
    "    'If so, what condition(s) were you diagnosed with?': 'professional_diagnoses',\n",
    "    'Have you ever sought treatment for a mental health issue from a mental health professional?': 'treatment',\n",
    "    'If you have a mental health issue, do you feel that it interferes with your work when being treated effectively?': 'work_interfere_treated',\n",
    "    'If you have a mental health issue, do you feel that it interferes with your work when NOT being treated effectively?': 'work_interfere_untreated',\n",
    "    'What is your age?': 'age',\n",
    "    'What is your gender?': 'gender',\n",
    "    'What country do you live in?': 'live_in_country',\n",
    "    'What US state or territory do you live in?': 'live_in_state',\n",
    "    'What country do you work in?': 'work_in_country',\n",
    "    'What US state or territory do you work in?': 'work_in_state',\n",
    "    'Which of the following best describes your work position?': 'position',\n",
    "    'Do you work remotely?': 'remote_work'  # previously asked at least 50% of time\n",
    "}\n",
    "df16.rename(columns=question_col_map, inplace=True)\n",
    "df16.head(3)"
   ]
  },
  {
   "cell_type": "code",
   "execution_count": 5,
   "metadata": {
    "collapsed": false
   },
   "outputs": [
    {
     "data": {
      "text/plain": [
       "{'age': 'What is your age?',\n",
       " 'anonymity': 'Is your anonymity protected if you choose to take advantage of mental health or substance abuse treatment resources provided by your employer?',\n",
       " 'benefits': 'Does your employer provide mental health benefits as part of healthcare coverage?',\n",
       " 'care_options': 'Do you know the options for mental health care available under your employer-provided coverage?',\n",
       " 'coworkers': 'Would you feel comfortable discussing a mental health disorder with your coworkers?',\n",
       " 'current_believed_conditions': 'If maybe, what condition(s) do you believe you have?',\n",
       " 'current_diagnosed_conditions': 'If yes, what condition(s) have you been diagnosed with?',\n",
       " 'current_disorder': 'Do you currently have a mental health disorder?',\n",
       " 'family_history': 'Do you have a family history of mental illness?',\n",
       " 'friends_family': 'How willing would you be to share with friends and family that you have a mental illness?',\n",
       " 'gender': 'What is your gender?',\n",
       " 'hurt_career': 'Do you feel that being identified as a person with a mental health issue would hurt your career?',\n",
       " 'insurance': 'Do you have medical coverage (private insurance or state-provided) which includes treatment of \\xc2\\xa0mental health issues?',\n",
       " 'know_resources': 'Do you know local or online resources to seek help for a mental health disorder?',\n",
       " 'leave': 'If a mental health issue prompted you to request a medical leave from work, asking for that leave would be:',\n",
       " 'live_in_country': 'What country do you live in?',\n",
       " 'live_in_state': 'What US state or territory do you live in?',\n",
       " 'mental_health_consequence': 'Do you think that discussing a mental health disorder with your employer would have negative consequences?',\n",
       " 'mental_health_interview': 'Would you bring up a mental health issue with a potential employer in an interview?',\n",
       " 'mental_health_interview_comment': 'Why or why not?.1',\n",
       " 'mental_vs_physical': 'Do you feel that your employer takes mental health as seriously as physical health?',\n",
       " 'num_employees': 'How many employees does your company or organization have?',\n",
       " 'obs_consequence': 'Have you heard of or observed negative consequences for co-workers who have been open about mental health issues in your workplace?',\n",
       " 'obs_negative_response': 'Have you observed or experienced an unsupportive or badly handled response to a mental health issue in your current or previous workplace?',\n",
       " 'past_disorder': 'Have you had a mental health disorder in the past?',\n",
       " 'percent_time_impacted': 'If yes, what percentage of your work time (time performing primary or secondary job functions) is affected by a mental health issue?',\n",
       " 'phys_health_consequence': 'Do you think that discussing a physical health issue with your employer would have negative consequences?',\n",
       " 'phys_health_interview': 'Would you be willing to bring up a physical health issue with a potential employer in an interview?',\n",
       " 'phys_health_interview_comment': 'Why or why not?',\n",
       " 'position': 'Which of the following best describes your work position?',\n",
       " 'prev_anonymity': 'Was your anonymity protected if you chose to take advantage of mental health or substance abuse treatment resources with previous employers?',\n",
       " 'prev_benefits': 'Have your previous employers provided mental health benefits?',\n",
       " 'prev_care_options': 'Were you aware of the options for mental health care provided by your previous employers?',\n",
       " 'prev_coworkers': 'Would you have been willing to discuss a mental health issue with your previous co-workers?',\n",
       " 'prev_employer': 'Do you have previous employers?',\n",
       " 'prev_mental_health_consequence': 'Do you think that discussing a mental health disorder with previous employers would have negative consequences?',\n",
       " 'prev_mental_vs_physical': 'Did you feel that your previous employers took mental health as seriously as physical health?',\n",
       " 'prev_obs_consequence': 'Did you hear of or observe negative consequences for co-workers with mental health issues in your previous workplaces?',\n",
       " 'prev_phys_health_consequence': 'Do you think that discussing a physical health issue with previous employers would have negative consequences?',\n",
       " 'prev_seek_help': 'Did your previous employers provide resources to learn more about mental health issues and how to seek help?',\n",
       " 'prev_supervisor': 'Would you have been willing to discuss a mental health issue with your direct supervisor(s)?',\n",
       " 'prev_wellness_program': 'Did your previous employers ever formally discuss mental health (as part of a wellness campaign or other official communication)?',\n",
       " 'productivity_impacted': 'Do you believe your productivity is ever affected by a mental health issue?',\n",
       " 'professional_diagnosed': 'Have you been diagnosed with a mental health condition by a medical professional?',\n",
       " 'professional_diagnoses': 'If so, what condition(s) were you diagnosed with?',\n",
       " 'reluctant_due_to_obs': 'Have your observations of how another individual who discussed a mental health disorder made you less likely to reveal a mental health issue yourself in your current workplace?',\n",
       " 'remote_work': 'Do you work remotely?',\n",
       " 'revealed_contacts': 'If you have been diagnosed or treated for a mental health disorder, do you ever reveal this to clients or business contacts?',\n",
       " 'revealed_contacts_consequence': 'If you have revealed a mental health issue to a client or business contact, do you believe this has impacted you negatively?',\n",
       " 'revealed_coworkers': 'If you have been diagnosed or treated for a mental health disorder, do you ever reveal this to coworkers or employees?',\n",
       " 'revealed_coworkers_consequence': 'If you have revealed a mental health issue to a coworker or employee, do you believe this has impacted you negatively?',\n",
       " 'seek_help': 'Does your employer offer resources to learn more about mental health concerns and options for seeking help?',\n",
       " 'self_employed': 'Are you self-employed?',\n",
       " 'supervisor': 'Would you feel comfortable discussing a mental health disorder with your direct supervisor(s)?',\n",
       " 'tech_company': 'Is your employer primarily a tech company/organization?',\n",
       " 'tech_role': 'Is your primary role within your company related to tech/IT?',\n",
       " 'treatment': 'Have you ever sought treatment for a mental health issue from a mental health professional?',\n",
       " 'viewed_negatively': 'Do you think that team members/co-workers would view you more negatively if they knew you suffered from a mental health issue?',\n",
       " 'wellness_program': 'Has your employer ever formally discussed mental health (for example, as part of a wellness campaign or other official communication)?',\n",
       " 'work_in_country': 'What country do you work in?',\n",
       " 'work_in_state': 'What US state or territory do you work in?',\n",
       " 'work_interfere_treated': 'If you have a mental health issue, do you feel that it interferes with your work when being treated effectively?',\n",
       " 'work_interfere_untreated': 'If you have a mental health issue, do you feel that it interferes with your work when NOT being treated effectively?'}"
      ]
     },
     "execution_count": 5,
     "metadata": {},
     "output_type": "execute_result"
    }
   ],
   "source": [
    "col_question_map = { question_col_map[q]: q for q in question_col_map.keys()}\n",
    "col_question_map"
   ]
  },
  {
   "cell_type": "markdown",
   "metadata": {},
   "source": [
    "<details><summary> Click to expand all **original questions/fields** </summary>\n",
    "- Are you self-employed?  \n",
    "- How many employees does your company or organization have?  \n",
    "- Is your employer primarily a tech company/organization?  \n",
    "- Is your primary role within your company related to tech/IT?  \n",
    "- Does your employer provide mental health benefits as part of healthcare coverage?  \n",
    "- Do you know the options for mental health care available under your employer-provided coverage?  \n",
    "- Has your employer ever formally discussed mental health (for example, as part of a wellness campaign or other official communication)?  \n",
    "- Does your employer offer resources to learn more about mental health concerns and options for seeking help?  \n",
    "- Is your anonymity protected if you choose to take advantage of mental health or substance abuse treatment resources provided by your employer?  \n",
    "- If a mental health issue prompted you to request a medical leave from work, asking for that leave would be:  \n",
    "- Do you think that discussing a mental health disorder with your employer would have negative consequences?  \n",
    "- Do you think that discussing a physical health issue with your employer would have negative consequences?  \n",
    "- Would you feel comfortable discussing a mental health disorder with your coworkers?  \n",
    "- Would you feel comfortable discussing a mental health disorder with your direct supervisor(s)?  \n",
    "- Do you feel that your employer takes mental health as seriously as physical health?  \n",
    "- Have you heard of or observed negative consequences for co-workers who have been open about mental health issues in your workplace?  \n",
    "- Do you have medical coverage (private insurance or state-provided) which includes treatment of \\xc2\\xa0mental health issues?  \n",
    "- Do you know local or online resources to seek help for a mental health disorder?  \n",
    "- If you have been diagnosed or treated for a mental health disorder, do you ever reveal this to clients or business contacts?  \n",
    "- If you have revealed a mental health issue to a client or business contact, do you believe this has impacted you negatively?  \n",
    "- If you have been diagnosed or treated for a mental health disorder, do you ever reveal this to coworkers or employees?  \n",
    "- If you have revealed a mental health issue to a coworker or employee, do you believe this has impacted you negatively?  \n",
    "- Do you believe your productivity is ever affected by a mental health issue?  \n",
    "- If yes, what percentage of your work time (time performing primary or secondary job functions) is affected by a mental health issue?  \n",
    "- Do you have previous employers?  \n",
    "- Have your previous employers provided mental health benefits?  \n",
    "- Were you aware of the options for mental health care provided by your previous employers?  \n",
    "- Did your previous employers ever formally discuss mental health (as part of a wellness campaign or other official communication)?  \n",
    "- Did your previous employers provide resources to learn more about mental health issues and how to seek help?  \n",
    "- Was your anonymity protected if you chose to take advantage of mental health or substance abuse treatment resources with previous employers?  \n",
    "- Do you think that discussing a mental health disorder with previous employers would have negative consequences?  \n",
    "- Do you think that discussing a physical health issue with previous employers would have negative consequences?  \n",
    "- Would you have been willing to discuss a mental health issue with your previous co-workers?  \n",
    "- Would you have been willing to discuss a mental health issue with your direct supervisor(s)?  \n",
    "- Did you feel that your previous employers took mental health as seriously as physical health?  \n",
    "- Did you hear of or observe negative consequences for co-workers with mental health issues in your previous workplaces?  \n",
    "- Would you be willing to bring up a physical health issue with a potential employer in an interview?  \n",
    "- Why or why not?  \n",
    "- Would you bring up a mental health issue with a potential employer in an interview?  \n",
    "- Why or why not?.1  \n",
    "- Do you feel that being identified as a person with a mental health issue would hurt your career?  \n",
    "- Do you think that team members/co-workers would view you more negatively if they knew you suffered from a mental health issue?  \n",
    "- How willing would you be to share with friends and family that you have a mental illness?  \n",
    "- Have you observed or experienced an unsupportive or badly handled response to a mental health issue in your current or previous workplace?  \n",
    "- Have your observations of how another individual who discussed a mental health disorder made you less likely to reveal a mental health issue yourself in your current workplace?  \n",
    "- Do you have a family history of mental illness?  \n",
    "- Have you had a mental health disorder in the past?  \n",
    "- Do you currently have a mental health disorder?  \n",
    "- If yes, what condition(s) have you been diagnosed with?  \n",
    "- If maybe, what condition(s) do you believe you have?  \n",
    "- Have you been diagnosed with a mental health condition by a medical professional?  \n",
    "- If so, what condition(s) were you diagnosed with?  \n",
    "- Have you ever sought treatment for a mental health issue from a mental health professional?  \n",
    "- If you have a mental health issue, do you feel that it interferes with your work when being treated effectively?  \n",
    "- If you have a mental health issue, do you feel that it interferes with your work when NOT being treated effectively?  \n",
    "- What is your age?  \n",
    "- What is your gender?  \n",
    "- What country do you live in?  \n",
    "- What US state or territory do you live in?  \n",
    "- What country do you work in?  \n",
    "- What US state or territory do you work in?  \n",
    "- Which of the following best describes your work position?  \n",
    "- Do you work remotely?  \n",
    "</details>"
   ]
  },
  {
   "cell_type": "code",
   "execution_count": 6,
   "metadata": {
    "collapsed": false
   },
   "outputs": [
    {
     "data": {
      "text/plain": [
       "0                 NaN\n",
       "1                 Yes\n",
       "2                 NaN\n",
       "3                 NaN\n",
       "4                 Yes\n",
       "5       I am not sure\n",
       "6                  No\n",
       "7                 Yes\n",
       "8                  No\n",
       "9                 NaN\n",
       "10      I am not sure\n",
       "11                Yes\n",
       "12      I am not sure\n",
       "13                Yes\n",
       "14                Yes\n",
       "15                 No\n",
       "16                 No\n",
       "17                 No\n",
       "18                NaN\n",
       "19                 No\n",
       "20                NaN\n",
       "21                 No\n",
       "22                Yes\n",
       "23                Yes\n",
       "24                NaN\n",
       "25                Yes\n",
       "26                 No\n",
       "27                 No\n",
       "28                 No\n",
       "29                NaN\n",
       "            ...      \n",
       "1403    I am not sure\n",
       "1404              NaN\n",
       "1405    I am not sure\n",
       "1406               No\n",
       "1407    I am not sure\n",
       "1408              NaN\n",
       "1409              Yes\n",
       "1410               No\n",
       "1411    I am not sure\n",
       "1412    I am not sure\n",
       "1413              Yes\n",
       "1414              Yes\n",
       "1415    I am not sure\n",
       "1416               No\n",
       "1417              NaN\n",
       "1418    I am not sure\n",
       "1419              Yes\n",
       "1420              NaN\n",
       "1421               No\n",
       "1422    I am not sure\n",
       "1423    I am not sure\n",
       "1424              NaN\n",
       "1425    I am not sure\n",
       "1426    I am not sure\n",
       "1427               No\n",
       "1428              NaN\n",
       "1429              NaN\n",
       "1430              Yes\n",
       "1431    I am not sure\n",
       "1432               No\n",
       "Name: care_options, dtype: object"
      ]
     },
     "execution_count": 6,
     "metadata": {},
     "output_type": "execute_result"
    }
   ],
   "source": [
    "df16['care_options']"
   ]
  },
  {
   "cell_type": "markdown",
   "metadata": {},
   "source": [
    "#### Quick NaN Check\n"
   ]
  },
  {
   "cell_type": "code",
   "execution_count": 6,
   "metadata": {
    "collapsed": false
   },
   "outputs": [
    {
     "name": "stdout",
     "output_type": "stream",
     "text": [
      "num_employees\n",
      "\t287 NaNs\t\t1146 values\n",
      "tech_company\n",
      "\t287 NaNs\t\t1146 values\n",
      "tech_role\n",
      "\t1170 NaNs\t\t263 values\n",
      "benefits\n",
      "\t287 NaNs\t\t1146 values\n",
      "care_options\n",
      "\t420 NaNs\t\t1013 values\n",
      "wellness_program\n",
      "\t287 NaNs\t\t1146 values\n",
      "seek_help\n",
      "\t287 NaNs\t\t1146 values\n",
      "anonymity\n",
      "\t287 NaNs\t\t1146 values\n",
      "leave\n",
      "\t287 NaNs\t\t1146 values\n",
      "mental_health_consequence\n",
      "\t287 NaNs\t\t1146 values\n",
      "phys_health_consequence\n",
      "\t287 NaNs\t\t1146 values\n",
      "coworkers\n",
      "\t287 NaNs\t\t1146 values\n",
      "supervisor\n",
      "\t287 NaNs\t\t1146 values\n",
      "mental_vs_physical\n",
      "\t287 NaNs\t\t1146 values\n",
      "obs_consequence\n",
      "\t287 NaNs\t\t1146 values\n",
      "insurance\n",
      "\t1146 NaNs\t\t287 values\n",
      "know_resources\n",
      "\t1146 NaNs\t\t287 values\n",
      "revealed_contacts\n",
      "\t1146 NaNs\t\t287 values\n",
      "revealed_contacts_consequence\n",
      "\t1289 NaNs\t\t144 values\n",
      "revealed_coworkers\n",
      "\t1146 NaNs\t\t287 values\n",
      "revealed_coworkers_consequence\n",
      "\t1146 NaNs\t\t287 values\n",
      "productivity_impacted\n",
      "\t1146 NaNs\t\t287 values\n",
      "percent_time_impacted\n",
      "\t1229 NaNs\t\t204 values\n",
      "prev_benefits\n",
      "\t169 NaNs\t\t1264 values\n",
      "prev_care_options\n",
      "\t169 NaNs\t\t1264 values\n",
      "prev_wellness_program\n",
      "\t169 NaNs\t\t1264 values\n",
      "prev_seek_help\n",
      "\t169 NaNs\t\t1264 values\n",
      "prev_anonymity\n",
      "\t169 NaNs\t\t1264 values\n",
      "prev_mental_health_consequence\n",
      "\t169 NaNs\t\t1264 values\n",
      "prev_phys_health_consequence\n",
      "\t169 NaNs\t\t1264 values\n",
      "prev_coworkers\n",
      "\t169 NaNs\t\t1264 values\n",
      "prev_supervisor\n",
      "\t169 NaNs\t\t1264 values\n",
      "prev_mental_vs_physical\n",
      "\t169 NaNs\t\t1264 values\n",
      "prev_obs_consequence\n",
      "\t169 NaNs\t\t1264 values\n",
      "phys_health_interview_comment\n",
      "\t337 NaNs\t\t1096 values\n",
      "mental_health_interview_comment\n",
      "\t306 NaNs\t\t1127 values\n",
      "obs_negative_response\n",
      "\t89 NaNs\t\t1344 values\n",
      "reluctant_due_to_obs\n",
      "\t776 NaNs\t\t657 values\n",
      "current_diagnosed_conditions\n",
      "\t865 NaNs\t\t568 values\n",
      "current_believed_conditions\n",
      "\t1111 NaNs\t\t322 values\n",
      "professional_diagnoses\n",
      "\t722 NaNs\t\t711 values\n",
      "gender\n",
      "\t3 NaNs\t\t1430 values\n",
      "live_in_state\n",
      "\t593 NaNs\t\t840 values\n",
      "work_in_state\n",
      "\t582 NaNs\t\t851 values\n"
     ]
    }
   ],
   "source": [
    "# NaN check\n",
    "counts = df16.count()\n",
    "numrows = df16.shape[0]\n",
    "for col in df16.columns:\n",
    "    if counts[col] != numrows:\n",
    "        print \"{0}\\n\\t{1} NaNs\\t\\t{2} values\".format(col, numrows-counts[col], counts[col])"
   ]
  },
  {
   "cell_type": "code",
   "execution_count": 7,
   "metadata": {
    "collapsed": false
   },
   "outputs": [
    {
     "data": {
      "text/html": [
       "<div>\n",
       "<table border=\"1\" class=\"dataframe\">\n",
       "  <thead>\n",
       "    <tr style=\"text-align: right;\">\n",
       "      <th></th>\n",
       "      <th>self_employed</th>\n",
       "      <th>num_employees</th>\n",
       "      <th>tech_company</th>\n",
       "      <th>tech_role</th>\n",
       "      <th>benefits</th>\n",
       "      <th>care_options</th>\n",
       "      <th>wellness_program</th>\n",
       "      <th>seek_help</th>\n",
       "      <th>anonymity</th>\n",
       "      <th>leave</th>\n",
       "      <th>...</th>\n",
       "      <th>work_interfere_treated</th>\n",
       "      <th>work_interfere_untreated</th>\n",
       "      <th>age</th>\n",
       "      <th>gender</th>\n",
       "      <th>live_in_country</th>\n",
       "      <th>live_in_state</th>\n",
       "      <th>work_in_country</th>\n",
       "      <th>work_in_state</th>\n",
       "      <th>position</th>\n",
       "      <th>remote_work</th>\n",
       "    </tr>\n",
       "  </thead>\n",
       "  <tbody>\n",
       "    <tr>\n",
       "      <th>0</th>\n",
       "      <td>0</td>\n",
       "      <td>26-100</td>\n",
       "      <td>1.0</td>\n",
       "      <td>NaN</td>\n",
       "      <td>Not eligible for coverage / N/A</td>\n",
       "      <td>NaN</td>\n",
       "      <td>No</td>\n",
       "      <td>No</td>\n",
       "      <td>I don't know</td>\n",
       "      <td>Very easy</td>\n",
       "      <td>...</td>\n",
       "      <td>Not applicable to me</td>\n",
       "      <td>Not applicable to me</td>\n",
       "      <td>39</td>\n",
       "      <td>Male</td>\n",
       "      <td>United Kingdom</td>\n",
       "      <td>NaN</td>\n",
       "      <td>United Kingdom</td>\n",
       "      <td>NaN</td>\n",
       "      <td>Back-end Developer</td>\n",
       "      <td>Sometimes</td>\n",
       "    </tr>\n",
       "    <tr>\n",
       "      <th>1</th>\n",
       "      <td>0</td>\n",
       "      <td>6-25</td>\n",
       "      <td>1.0</td>\n",
       "      <td>NaN</td>\n",
       "      <td>No</td>\n",
       "      <td>Yes</td>\n",
       "      <td>Yes</td>\n",
       "      <td>Yes</td>\n",
       "      <td>Yes</td>\n",
       "      <td>Somewhat easy</td>\n",
       "      <td>...</td>\n",
       "      <td>Rarely</td>\n",
       "      <td>Sometimes</td>\n",
       "      <td>29</td>\n",
       "      <td>male</td>\n",
       "      <td>United States of America</td>\n",
       "      <td>Illinois</td>\n",
       "      <td>United States of America</td>\n",
       "      <td>Illinois</td>\n",
       "      <td>Back-end Developer|Front-end Developer</td>\n",
       "      <td>Never</td>\n",
       "    </tr>\n",
       "    <tr>\n",
       "      <th>2</th>\n",
       "      <td>0</td>\n",
       "      <td>6-25</td>\n",
       "      <td>1.0</td>\n",
       "      <td>NaN</td>\n",
       "      <td>No</td>\n",
       "      <td>NaN</td>\n",
       "      <td>No</td>\n",
       "      <td>No</td>\n",
       "      <td>I don't know</td>\n",
       "      <td>Neither easy nor difficult</td>\n",
       "      <td>...</td>\n",
       "      <td>Not applicable to me</td>\n",
       "      <td>Not applicable to me</td>\n",
       "      <td>38</td>\n",
       "      <td>Male</td>\n",
       "      <td>United Kingdom</td>\n",
       "      <td>NaN</td>\n",
       "      <td>United Kingdom</td>\n",
       "      <td>NaN</td>\n",
       "      <td>Back-end Developer</td>\n",
       "      <td>Always</td>\n",
       "    </tr>\n",
       "  </tbody>\n",
       "</table>\n",
       "<p>3 rows × 63 columns</p>\n",
       "</div>"
      ],
      "text/plain": [
       "   self_employed num_employees  tech_company  tech_role  \\\n",
       "0              0        26-100           1.0        NaN   \n",
       "1              0          6-25           1.0        NaN   \n",
       "2              0          6-25           1.0        NaN   \n",
       "\n",
       "                          benefits care_options wellness_program seek_help  \\\n",
       "0  Not eligible for coverage / N/A          NaN               No        No   \n",
       "1                               No          Yes              Yes       Yes   \n",
       "2                               No          NaN               No        No   \n",
       "\n",
       "      anonymity                       leave     ...      \\\n",
       "0  I don't know                   Very easy     ...       \n",
       "1           Yes               Somewhat easy     ...       \n",
       "2  I don't know  Neither easy nor difficult     ...       \n",
       "\n",
       "  work_interfere_treated work_interfere_untreated age gender  \\\n",
       "0   Not applicable to me     Not applicable to me  39   Male   \n",
       "1                 Rarely                Sometimes  29   male   \n",
       "2   Not applicable to me     Not applicable to me  38  Male    \n",
       "\n",
       "            live_in_country live_in_state           work_in_country  \\\n",
       "0            United Kingdom           NaN            United Kingdom   \n",
       "1  United States of America      Illinois  United States of America   \n",
       "2            United Kingdom           NaN            United Kingdom   \n",
       "\n",
       "  work_in_state                                position remote_work  \n",
       "0           NaN                      Back-end Developer   Sometimes  \n",
       "1      Illinois  Back-end Developer|Front-end Developer       Never  \n",
       "2           NaN                      Back-end Developer      Always  \n",
       "\n",
       "[3 rows x 63 columns]"
      ]
     },
     "execution_count": 7,
     "metadata": {},
     "output_type": "execute_result"
    }
   ],
   "source": [
    "df16[df16['revealed_coworkers'].isnull()].head(3)"
   ]
  },
  {
   "cell_type": "code",
   "execution_count": 8,
   "metadata": {
    "collapsed": true
   },
   "outputs": [],
   "source": [
    "def preview_col(df, col):\n",
    "    print col\n",
    "    if col in col_question_map:\n",
    "        print col_question_map[col]\n",
    "    print df[col].value_counts(dropna=False)"
   ]
  },
  {
   "cell_type": "markdown",
   "metadata": {
    "collapsed": true
   },
   "source": [
    "### Ages\n",
    "\n",
    "This is supposed to be a survey of working adults, so values under 16 and over 80 can be ignored."
   ]
  },
  {
   "cell_type": "code",
   "execution_count": 9,
   "metadata": {
    "collapsed": false
   },
   "outputs": [
    {
     "name": "stdout",
     "output_type": "stream",
     "text": [
      "[  3  15  17  19  20  21  22  23  24  25  26  27  28  29  30  31  32  33\n",
      "  34  35  36  37  38  39  40  41  42  43  44  45  46  47  48  49  50  51\n",
      "  52  53  54  55  56  57  58  59  61  62  63  65  66  70  74  99 323]\n"
     ]
    }
   ],
   "source": [
    "ages = df16.age.unique()\n",
    "ages.sort()\n",
    "print ages"
   ]
  },
  {
   "cell_type": "code",
   "execution_count": 10,
   "metadata": {
    "collapsed": false
   },
   "outputs": [],
   "source": [
    "nan = float('NaN')\n",
    "\n",
    "df16.age = df16.age.map(lambda x: nan if (x<16 or x>80) else x)"
   ]
  },
  {
   "cell_type": "code",
   "execution_count": 11,
   "metadata": {
    "collapsed": false,
    "scrolled": true
   },
   "outputs": [
    {
     "name": "stdout",
     "output_type": "stream",
     "text": [
      "[ 17.  19.  20.  21.  22.  23.  24.  25.  26.  27.  28.  29.  30.  31.  32.\n",
      "  33.  34.  35.  36.  37.  38.  39.  40.  41.  42.  43.  44.  45.  46.  47.\n",
      "  48.  49.  50.  51.  52.  53.  54.  55.  56.  57.  58.  59.  61.  62.  63.\n",
      "  65.  66.  70.  74.  nan]\n"
     ]
    }
   ],
   "source": [
    "ages = df16.age.unique()\n",
    "ages.sort()\n",
    "print ages"
   ]
  },
  {
   "cell_type": "code",
   "execution_count": 12,
   "metadata": {
    "collapsed": true
   },
   "outputs": [],
   "source": [
    "# def nan_cols_out_of_range(data, col, rmin, rmax):\n",
    "#     data[col] = data[col].map(lambda x: np.nan if (x<rmin or x>rmax) else x)\n",
    "\n",
    "# agemin = 16\n",
    "# agemax = 80\n",
    "\n",
    "# nan_cols_out_of_range(df14, 'age', agemin, agemax)\n",
    "# nan_cols_out_of_range(df16, 'age', agemin, agemax)"
   ]
  },
  {
   "cell_type": "markdown",
   "metadata": {},
   "source": [
    "### Gender responses\n",
    "\n",
    "Gender responses seem to be strings entered by the user. To create a more manageable set of variables, I examine all the gender responses and categorize them into `female`, `male`, or `other`.  \n",
    "\n",
    "Note (and it's noted in a comment in the code) that trans men and women map to `male` and `female` categories, respectively. Gender identity can have an impact on feelings of being stigmatized, so this might be a decision to explore further. "
   ]
  },
  {
   "cell_type": "code",
   "execution_count": 13,
   "metadata": {
    "collapsed": true
   },
   "outputs": [],
   "source": [
    "# create dictionary to organize dummy data frames throughout\n",
    "dummy_dfs = {}"
   ]
  },
  {
   "cell_type": "code",
   "execution_count": 14,
   "metadata": {
    "collapsed": false
   },
   "outputs": [
    {
     "name": "stdout",
     "output_type": "stream",
     "text": [
      "['Male' 'male' 'Male ' 'Female' 'M' 'female' 'm' 'I identify as female.'\n",
      " 'female ' 'Bigender' 'non-binary' 'Female assigned at birth ' 'F' 'Woman'\n",
      " 'man' 'fm' 'f' 'Cis female ' 'Transitioned, M2F'\n",
      " 'Genderfluid (born female)' 'Other/Transfeminine'\n",
      " 'Female or Multi-Gender Femme' 'Female ' 'woman' 'female/woman' 'Cis male'\n",
      " 'Male.' 'Androgynous' 'male 9:1 female, roughly' nan 'Male (cis)' 'Other'\n",
      " 'nb masculine' 'Cisgender Female' 'Man' 'Sex is male'\n",
      " 'none of your business' 'genderqueer' 'cis male' 'Human' 'Genderfluid'\n",
      " 'Enby' 'Malr' 'genderqueer woman' 'mtf' 'Queer' 'Agender' 'Dude' 'Fluid'\n",
      " \"I'm a man why didn't you make this a drop down question. You should of asked sex? And I would of answered yes please. Seriously how much text can this take? \"\n",
      " 'mail' 'M|' 'Male/genderqueer' 'fem' 'Nonbinary' 'male ' 'human'\n",
      " 'Female (props for making this a freeform field, though)' ' Female'\n",
      " 'Unicorn' 'Cis Male' 'Male (trans, FtM)' 'Cis-woman' 'Genderqueer'\n",
      " 'cisdude' 'Genderflux demi-girl' 'female-bodied; no feelings about gender'\n",
      " 'cis man' 'AFAB' 'Transgender woman' 'MALE']\n"
     ]
    }
   ],
   "source": [
    "print df16.gender.unique()"
   ]
  },
  {
   "cell_type": "code",
   "execution_count": 14,
   "metadata": {
    "collapsed": false
   },
   "outputs": [],
   "source": [
    "# categorize gender responses into male, female, other based on response\n",
    "def categorize_gender(gender_response):\n",
    "    if type(gender_response) != str:\n",
    "        return 'other'\n",
    "    gender_response = gender_response.strip().lower()\n",
    "    \n",
    "\n",
    "    male_responses = {\n",
    "        'cis male', 'cis man', 'cisdude', 'dude',\n",
    "        \"i'm a man why didn't you make this a drop down question. you should of asked sex? and i would of answered yes please. seriously how much text can this take?\",\n",
    "        'm', 'mail', 'maile', 'make', 'mal', 'male', 'male (cis)', 'male (trans)',\n",
    "        'male (trans, ftm)', 'male.', 'malr', 'man', 'msle', 'm|'\n",
    "    }\n",
    "    \n",
    "    \n",
    "    female_responses = {\n",
    "        'cis female', 'cis-female/femme', 'cis-woman', 'cisgender female', 'f',\n",
    "        'femail', 'femake', 'female', 'female (cis)', 'female assigned at birth',\n",
    "        'female (props for making this a freeform field, though)', 'female (trans)',\n",
    "        'female/woman', 'fem', 'fm', 'i identify as female.', 'mtf', 'trans woman', \n",
    "        'trans-female', 'transgender woman', 'transitioned, m2f', 'woman'\n",
    "    }\n",
    "    if gender_response in male_responses:\n",
    "        return 'male'\n",
    "    elif gender_response in female_responses:\n",
    "        return 'female'\n",
    "    else:\n",
    "        print gender_response\n",
    "        return 'other'\n"
   ]
  },
  {
   "cell_type": "code",
   "execution_count": 15,
   "metadata": {
    "collapsed": false
   },
   "outputs": [
    {
     "name": "stdout",
     "output_type": "stream",
     "text": [
      "bigender\n",
      "non-binary\n",
      "genderfluid (born female)\n",
      "other/transfeminine\n",
      "female or multi-gender femme\n",
      "androgynous\n",
      "male 9:1 female, roughly\n",
      "other\n",
      "nb masculine\n",
      "sex is male\n",
      "none of your business\n",
      "genderqueer\n",
      "human\n",
      "genderfluid\n",
      "enby\n",
      "genderqueer woman\n",
      "queer\n",
      "agender\n",
      "fluid\n",
      "non-binary\n",
      "male/genderqueer\n",
      "nonbinary\n",
      "human\n",
      "nonbinary\n",
      "unicorn\n",
      "genderqueer\n",
      "non-binary\n",
      "genderflux demi-girl\n",
      "female-bodied; no feelings about gender\n",
      "afab\n",
      "agender\n",
      "non-binary\n"
     ]
    }
   ],
   "source": [
    "categorized_gender_responses = df16.gender.map(categorize_gender)"
   ]
  },
  {
   "cell_type": "code",
   "execution_count": 17,
   "metadata": {
    "collapsed": false
   },
   "outputs": [
    {
     "data": {
      "text/plain": [
       "male      1056\n",
       "female     337\n",
       "other       40\n",
       "Name: gender, dtype: int64"
      ]
     },
     "execution_count": 17,
     "metadata": {},
     "output_type": "execute_result"
    }
   ],
   "source": [
    "categorized_gender_responses.value_counts(dropna=False)"
   ]
  },
  {
   "cell_type": "code",
   "execution_count": 18,
   "metadata": {
    "collapsed": false
   },
   "outputs": [],
   "source": [
    "dummy_dfs['gender'] = pd.get_dummies(categorized_gender_responses, prefix='gender')"
   ]
  },
  {
   "cell_type": "code",
   "execution_count": 19,
   "metadata": {
    "collapsed": false
   },
   "outputs": [],
   "source": [
    "df16.loc[:,'gender_category'] = categorized_gender_responses"
   ]
  },
  {
   "cell_type": "code",
   "execution_count": 20,
   "metadata": {
    "collapsed": false
   },
   "outputs": [
    {
     "data": {
      "text/html": [
       "<div>\n",
       "<table border=\"1\" class=\"dataframe\">\n",
       "  <thead>\n",
       "    <tr style=\"text-align: right;\">\n",
       "      <th></th>\n",
       "      <th>gender</th>\n",
       "      <th>gender_category</th>\n",
       "    </tr>\n",
       "  </thead>\n",
       "  <tbody>\n",
       "    <tr>\n",
       "      <th>1430</th>\n",
       "      <td>Male</td>\n",
       "      <td>male</td>\n",
       "    </tr>\n",
       "    <tr>\n",
       "      <th>1431</th>\n",
       "      <td>Female</td>\n",
       "      <td>female</td>\n",
       "    </tr>\n",
       "    <tr>\n",
       "      <th>1432</th>\n",
       "      <td>non-binary</td>\n",
       "      <td>other</td>\n",
       "    </tr>\n",
       "  </tbody>\n",
       "</table>\n",
       "</div>"
      ],
      "text/plain": [
       "          gender gender_category\n",
       "1430        Male            male\n",
       "1431      Female          female\n",
       "1432  non-binary           other"
      ]
     },
     "execution_count": 20,
     "metadata": {},
     "output_type": "execute_result"
    }
   ],
   "source": [
    "df16[['gender', 'gender_category']].tail(3)"
   ]
  },
  {
   "cell_type": "code",
   "execution_count": 21,
   "metadata": {
    "collapsed": false
   },
   "outputs": [
    {
     "data": {
      "text/plain": [
       "male      1056\n",
       "female     337\n",
       "other       40\n",
       "Name: gender_category, dtype: int64"
      ]
     },
     "execution_count": 21,
     "metadata": {},
     "output_type": "execute_result"
    }
   ],
   "source": [
    "df16['gender_category'].value_counts()"
   ]
  },
  {
   "cell_type": "markdown",
   "metadata": {},
   "source": [
    "### Yes/no questions\n",
    "\n",
    "Many of the survey questions are yes/no questions, but the data is currently stored as strings. I convert these to `1` for `Yes` and `0` for `No`.\n",
    "\n",
    "Most of the columns with three reponses have `'Yes'`, `'No'`, and `'Maybe'`, `'Don't know'`, or some other meaningful third option.  Those will be one-hot coded with dummy variables later."
   ]
  },
  {
   "cell_type": "code",
   "execution_count": 22,
   "metadata": {
    "collapsed": false,
    "scrolled": true
   },
   "outputs": [
    {
     "name": "stdout",
     "output_type": "stream",
     "text": [
      "self_employed [0 1]\n",
      "prev_employer [1 0]\n",
      "professional_diagnosed ['Yes' 'No']\n",
      "treatment [0 1]\n"
     ]
    }
   ],
   "source": [
    "for col in df16.columns:\n",
    "    col_uniq = df16[col].unique()\n",
    "    if len(col_uniq) == 2:\n",
    "        print col, col_uniq"
   ]
  },
  {
   "cell_type": "code",
   "execution_count": 23,
   "metadata": {
    "collapsed": true
   },
   "outputs": [],
   "source": [
    "def yes_no_same(response):\n",
    "    if response=='Yes' or response==1:\n",
    "        return 1\n",
    "    elif response=='No' or response==0:\n",
    "        return 0\n",
    "    else:\n",
    "        return response"
   ]
  },
  {
   "cell_type": "code",
   "execution_count": 24,
   "metadata": {
    "collapsed": true
   },
   "outputs": [],
   "source": [
    "def yes_no_same_column(df, column_name):\n",
    "    df[column_name] = df[column_name].map(yes_no_same)"
   ]
  },
  {
   "cell_type": "code",
   "execution_count": 98,
   "metadata": {
    "collapsed": true
   },
   "outputs": [],
   "source": [
    "two_opt_cols = ['prev_employer', 'professional_diagnosed', 'treatment']\n",
    "for col in two_opt_cols:\n",
    "    yes_no_same_column(df16, col)"
   ]
  },
  {
   "cell_type": "code",
   "execution_count": 26,
   "metadata": {
    "collapsed": false
   },
   "outputs": [
    {
     "data": {
      "text/html": [
       "<div>\n",
       "<table border=\"1\" class=\"dataframe\">\n",
       "  <thead>\n",
       "    <tr style=\"text-align: right;\">\n",
       "      <th></th>\n",
       "      <th>prev_employer</th>\n",
       "      <th>professional_diagnosed</th>\n",
       "      <th>treatment</th>\n",
       "      <th>self_employed</th>\n",
       "    </tr>\n",
       "  </thead>\n",
       "  <tbody>\n",
       "    <tr>\n",
       "      <th>0</th>\n",
       "      <td>1</td>\n",
       "      <td>1</td>\n",
       "      <td>0</td>\n",
       "      <td>0</td>\n",
       "    </tr>\n",
       "    <tr>\n",
       "      <th>1</th>\n",
       "      <td>1</td>\n",
       "      <td>1</td>\n",
       "      <td>1</td>\n",
       "      <td>0</td>\n",
       "    </tr>\n",
       "    <tr>\n",
       "      <th>2</th>\n",
       "      <td>1</td>\n",
       "      <td>0</td>\n",
       "      <td>1</td>\n",
       "      <td>0</td>\n",
       "    </tr>\n",
       "  </tbody>\n",
       "</table>\n",
       "</div>"
      ],
      "text/plain": [
       "   prev_employer  professional_diagnosed  treatment  self_employed\n",
       "0              1                       1          0              0\n",
       "1              1                       1          1              0\n",
       "2              1                       0          1              0"
      ]
     },
     "execution_count": 26,
     "metadata": {},
     "output_type": "execute_result"
    }
   ],
   "source": [
    "df16[two_opt_cols].head(3)"
   ]
  },
  {
   "cell_type": "markdown",
   "metadata": {},
   "source": [
    "#### Colums with 2 options and nan"
   ]
  },
  {
   "cell_type": "code",
   "execution_count": 99,
   "metadata": {
    "collapsed": true
   },
   "outputs": [],
   "source": [
    "two_opt_with_nans = ['tech_company', 'self_employed', 'tech_role', 'obs_consequence', 'insurance']"
   ]
  },
  {
   "cell_type": "code",
   "execution_count": 100,
   "metadata": {
    "collapsed": false
   },
   "outputs": [
    {
     "name": "stdout",
     "output_type": "stream",
     "text": [
      " 1.0    883\n",
      "NaN     287\n",
      " 0.0    263\n",
      "Name: tech_company, dtype: int64\n",
      "0    1146\n",
      "1     287\n",
      "Name: self_employed, dtype: int64\n",
      "NaN     1170\n",
      " 1.0     248\n",
      " 0.0      15\n",
      "Name: tech_role, dtype: int64\n",
      " 0.0    1048\n",
      "NaN      287\n",
      " 1.0      98\n",
      "Name: obs_consequence, dtype: int64\n",
      "NaN     1146\n",
      " 1.0     185\n",
      " 0.0     102\n",
      "Name: insurance, dtype: int64\n"
     ]
    }
   ],
   "source": [
    "for col in two_opt_with_nans:\n",
    "    df16[col] = df16[col].map(yes_no_same)\n",
    "    print df16[col].value_counts(dropna=False)"
   ]
  },
  {
   "cell_type": "code",
   "execution_count": 29,
   "metadata": {
    "collapsed": true
   },
   "outputs": [],
   "source": [
    "# for col in two_opt_with_nans:\n",
    "#     dummy_dfs[col] = pd.get_dummies(df[col], prefix=col, dummy_na=True)"
   ]
  },
  {
   "cell_type": "code",
   "execution_count": 30,
   "metadata": {
    "collapsed": false
   },
   "outputs": [
    {
     "data": {
      "text/html": [
       "<div>\n",
       "<table border=\"1\" class=\"dataframe\">\n",
       "  <thead>\n",
       "    <tr style=\"text-align: right;\">\n",
       "      <th></th>\n",
       "      <th>tech_company</th>\n",
       "      <th>tech_role</th>\n",
       "      <th>obs_consequence</th>\n",
       "      <th>insurance</th>\n",
       "    </tr>\n",
       "  </thead>\n",
       "  <tbody>\n",
       "    <tr>\n",
       "      <th>0</th>\n",
       "      <td>1.0</td>\n",
       "      <td>NaN</td>\n",
       "      <td>0.0</td>\n",
       "      <td>NaN</td>\n",
       "    </tr>\n",
       "    <tr>\n",
       "      <th>1</th>\n",
       "      <td>1.0</td>\n",
       "      <td>NaN</td>\n",
       "      <td>0.0</td>\n",
       "      <td>NaN</td>\n",
       "    </tr>\n",
       "    <tr>\n",
       "      <th>2</th>\n",
       "      <td>1.0</td>\n",
       "      <td>NaN</td>\n",
       "      <td>0.0</td>\n",
       "      <td>NaN</td>\n",
       "    </tr>\n",
       "    <tr>\n",
       "      <th>3</th>\n",
       "      <td>NaN</td>\n",
       "      <td>NaN</td>\n",
       "      <td>NaN</td>\n",
       "      <td>1.0</td>\n",
       "    </tr>\n",
       "    <tr>\n",
       "      <th>4</th>\n",
       "      <td>0.0</td>\n",
       "      <td>1.0</td>\n",
       "      <td>0.0</td>\n",
       "      <td>NaN</td>\n",
       "    </tr>\n",
       "  </tbody>\n",
       "</table>\n",
       "</div>"
      ],
      "text/plain": [
       "   tech_company  tech_role  obs_consequence  insurance\n",
       "0           1.0        NaN              0.0        NaN\n",
       "1           1.0        NaN              0.0        NaN\n",
       "2           1.0        NaN              0.0        NaN\n",
       "3           NaN        NaN              NaN        1.0\n",
       "4           0.0        1.0              0.0        NaN"
      ]
     },
     "execution_count": 30,
     "metadata": {},
     "output_type": "execute_result"
    }
   ],
   "source": [
    "df16[two_opt_with_nans].head(5)"
   ]
  },
  {
   "cell_type": "markdown",
   "metadata": {},
   "source": [
    "### Yes/no/maybe and other three-option columns\n",
    "\n",
    "Many of the survey questions have yes/no/maybe or other meaningful third choices.  These columns will need one-hot coding and dummy variables."
   ]
  },
  {
   "cell_type": "markdown",
   "metadata": {},
   "source": [
    "#### Three Option Columns"
   ]
  },
  {
   "cell_type": "code",
   "execution_count": 31,
   "metadata": {
    "collapsed": false
   },
   "outputs": [
    {
     "name": "stdout",
     "output_type": "stream",
     "text": [
      "tech_company [  1.  nan   0.]\n",
      "tech_role [ nan   1.   0.]\n",
      "obs_consequence [  0.  nan   1.]\n",
      "insurance [ nan   1.   0.]\n",
      "phys_health_interview ['Maybe' 'Yes' 'No']\n",
      "mental_health_interview ['Maybe' 'No' 'Yes']\n",
      "family_history ['No' 'Yes' \"I don't know\"]\n",
      "past_disorder ['Yes' 'Maybe' 'No']\n",
      "current_disorder ['No' 'Yes' 'Maybe']\n",
      "remote_work ['Sometimes' 'Never' 'Always']\n",
      "gender_category ['male' 'female' 'other']\n"
     ]
    }
   ],
   "source": [
    "three_opt_cols = [col for col in df16.columns if len(df16[col].unique()) == 3]\n",
    "\n",
    "for col in three_opt_cols:\n",
    "    print col, df16[col].unique()"
   ]
  },
  {
   "cell_type": "code",
   "execution_count": 32,
   "metadata": {
    "collapsed": true
   },
   "outputs": [],
   "source": [
    "def get_prefix(response):\n",
    "    if type(response) != str:\n",
    "        return response\n",
    "    else:\n",
    "        return response.lower().replace(\" \", \"_\").replace(\"'\", \"\")"
   ]
  },
  {
   "cell_type": "code",
   "execution_count": 33,
   "metadata": {
    "collapsed": false
   },
   "outputs": [],
   "source": [
    "true_three_opts = [\n",
    "    'phys_health_interview', \n",
    "    'mental_health_interview', \n",
    "    'family_history', \n",
    "    'past_disorder', \n",
    "    'current_disorder', \n",
    "    'remote_work'\n",
    "]"
   ]
  },
  {
   "cell_type": "code",
   "execution_count": 34,
   "metadata": {
    "collapsed": false
   },
   "outputs": [],
   "source": [
    "df16.replace({\"I don't know\": 'dont know'}, inplace=True)"
   ]
  },
  {
   "cell_type": "code",
   "execution_count": 35,
   "metadata": {
    "collapsed": false
   },
   "outputs": [
    {
     "name": "stdout",
     "output_type": "stream",
     "text": [
      "['maybe' 'yes' 'no']\n",
      "['maybe' 'no' 'yes']\n",
      "['no' 'yes' 'dont_know']\n",
      "['yes' 'maybe' 'no']\n",
      "['no' 'yes' 'maybe']\n",
      "['sometimes' 'never' 'always']\n"
     ]
    }
   ],
   "source": [
    "for col in true_three_opts:\n",
    "    df16[col] = df16[col].map(get_prefix)\n",
    "    print df16[col].unique()"
   ]
  },
  {
   "cell_type": "code",
   "execution_count": 36,
   "metadata": {
    "collapsed": true
   },
   "outputs": [],
   "source": [
    "for col in true_three_opts:\n",
    "    dummy_dfs[col] = pd.get_dummies(df16[col], prefix=col)"
   ]
  },
  {
   "cell_type": "code",
   "execution_count": 37,
   "metadata": {
    "collapsed": false
   },
   "outputs": [
    {
     "data": {
      "text/plain": [
       "['past_disorder',\n",
       " 'family_history',\n",
       " 'gender',\n",
       " 'remote_work',\n",
       " 'mental_health_interview',\n",
       " 'phys_health_interview',\n",
       " 'current_disorder']"
      ]
     },
     "execution_count": 37,
     "metadata": {},
     "output_type": "execute_result"
    }
   ],
   "source": [
    "dummy_dfs.keys()"
   ]
  },
  {
   "cell_type": "code",
   "execution_count": 38,
   "metadata": {
    "collapsed": false
   },
   "outputs": [
    {
     "data": {
      "text/html": [
       "<div>\n",
       "<table border=\"1\" class=\"dataframe\">\n",
       "  <thead>\n",
       "    <tr style=\"text-align: right;\">\n",
       "      <th></th>\n",
       "      <th>phys_health_interview</th>\n",
       "      <th>mental_health_interview</th>\n",
       "      <th>family_history</th>\n",
       "      <th>past_disorder</th>\n",
       "      <th>current_disorder</th>\n",
       "      <th>remote_work</th>\n",
       "    </tr>\n",
       "  </thead>\n",
       "  <tbody>\n",
       "    <tr>\n",
       "      <th>0</th>\n",
       "      <td>maybe</td>\n",
       "      <td>maybe</td>\n",
       "      <td>no</td>\n",
       "      <td>yes</td>\n",
       "      <td>no</td>\n",
       "      <td>sometimes</td>\n",
       "    </tr>\n",
       "    <tr>\n",
       "      <th>1</th>\n",
       "      <td>maybe</td>\n",
       "      <td>no</td>\n",
       "      <td>yes</td>\n",
       "      <td>yes</td>\n",
       "      <td>yes</td>\n",
       "      <td>never</td>\n",
       "    </tr>\n",
       "    <tr>\n",
       "      <th>2</th>\n",
       "      <td>yes</td>\n",
       "      <td>yes</td>\n",
       "      <td>no</td>\n",
       "      <td>maybe</td>\n",
       "      <td>no</td>\n",
       "      <td>always</td>\n",
       "    </tr>\n",
       "    <tr>\n",
       "      <th>3</th>\n",
       "      <td>yes</td>\n",
       "      <td>maybe</td>\n",
       "      <td>no</td>\n",
       "      <td>yes</td>\n",
       "      <td>yes</td>\n",
       "      <td>sometimes</td>\n",
       "    </tr>\n",
       "    <tr>\n",
       "      <th>4</th>\n",
       "      <td>maybe</td>\n",
       "      <td>no</td>\n",
       "      <td>yes</td>\n",
       "      <td>yes</td>\n",
       "      <td>yes</td>\n",
       "      <td>sometimes</td>\n",
       "    </tr>\n",
       "  </tbody>\n",
       "</table>\n",
       "</div>"
      ],
      "text/plain": [
       "  phys_health_interview mental_health_interview family_history past_disorder  \\\n",
       "0                 maybe                   maybe             no           yes   \n",
       "1                 maybe                      no            yes           yes   \n",
       "2                   yes                     yes             no         maybe   \n",
       "3                   yes                   maybe             no           yes   \n",
       "4                 maybe                      no            yes           yes   \n",
       "\n",
       "  current_disorder remote_work  \n",
       "0               no   sometimes  \n",
       "1              yes       never  \n",
       "2               no      always  \n",
       "3              yes   sometimes  \n",
       "4              yes   sometimes  "
      ]
     },
     "execution_count": 38,
     "metadata": {},
     "output_type": "execute_result"
    }
   ],
   "source": [
    "df16[true_three_opts].head(5)\n"
   ]
  },
  {
   "cell_type": "markdown",
   "metadata": {},
   "source": [
    "**At this point**, the `dummy_dfs` dictionary holds dummy variable sets for all three-option columns and `gender`."
   ]
  },
  {
   "cell_type": "code",
   "execution_count": 39,
   "metadata": {
    "collapsed": false
   },
   "outputs": [
    {
     "data": {
      "text/html": [
       "<div>\n",
       "<table border=\"1\" class=\"dataframe\">\n",
       "  <thead>\n",
       "    <tr style=\"text-align: right;\">\n",
       "      <th></th>\n",
       "      <th>remote_work_always</th>\n",
       "      <th>remote_work_never</th>\n",
       "      <th>remote_work_sometimes</th>\n",
       "    </tr>\n",
       "  </thead>\n",
       "  <tbody>\n",
       "    <tr>\n",
       "      <th>0</th>\n",
       "      <td>0</td>\n",
       "      <td>0</td>\n",
       "      <td>1</td>\n",
       "    </tr>\n",
       "    <tr>\n",
       "      <th>1</th>\n",
       "      <td>0</td>\n",
       "      <td>1</td>\n",
       "      <td>0</td>\n",
       "    </tr>\n",
       "    <tr>\n",
       "      <th>2</th>\n",
       "      <td>1</td>\n",
       "      <td>0</td>\n",
       "      <td>0</td>\n",
       "    </tr>\n",
       "    <tr>\n",
       "      <th>3</th>\n",
       "      <td>0</td>\n",
       "      <td>0</td>\n",
       "      <td>1</td>\n",
       "    </tr>\n",
       "    <tr>\n",
       "      <th>4</th>\n",
       "      <td>0</td>\n",
       "      <td>0</td>\n",
       "      <td>1</td>\n",
       "    </tr>\n",
       "  </tbody>\n",
       "</table>\n",
       "</div>"
      ],
      "text/plain": [
       "   remote_work_always  remote_work_never  remote_work_sometimes\n",
       "0                   0                  0                      1\n",
       "1                   0                  1                      0\n",
       "2                   1                  0                      0\n",
       "3                   0                  0                      1\n",
       "4                   0                  0                      1"
      ]
     },
     "execution_count": 39,
     "metadata": {},
     "output_type": "execute_result"
    }
   ],
   "source": [
    "dummy_dfs['remote_work'].head()"
   ]
  },
  {
   "cell_type": "markdown",
   "metadata": {},
   "source": [
    "### Other categorical variables"
   ]
  },
  {
   "cell_type": "code",
   "execution_count": 40,
   "metadata": {
    "collapsed": true
   },
   "outputs": [],
   "source": [
    "def prefix_dummies(df, col, use_na=False):\n",
    "    df[col] = df[col].map(get_prefix)\n",
    "    dummy_dfs[col] = pd.get_dummies(df[col], prefix=col, dummy_na=use_na)"
   ]
  },
  {
   "cell_type": "code",
   "execution_count": 41,
   "metadata": {
    "collapsed": false
   },
   "outputs": [
    {
     "data": {
      "text/plain": [
       "['past_disorder',\n",
       " 'family_history',\n",
       " 'gender',\n",
       " 'remote_work',\n",
       " 'mental_health_interview',\n",
       " 'phys_health_interview',\n",
       " 'current_disorder']"
      ]
     },
     "execution_count": 41,
     "metadata": {},
     "output_type": "execute_result"
    }
   ],
   "source": [
    "dummy_dfs.keys()"
   ]
  },
  {
   "cell_type": "markdown",
   "metadata": {},
   "source": [
    "#### If you have a mental health issue, do you feel that it interferes with your work?"
   ]
  },
  {
   "cell_type": "code",
   "execution_count": 42,
   "metadata": {
    "collapsed": false
   },
   "outputs": [
    {
     "name": "stdout",
     "output_type": "stream",
     "text": [
      "work_interfere_treated\n",
      "If you have a mental health issue, do you feel that it interferes with your work when being treated effectively?\n",
      "Not applicable to me    557\n",
      "Sometimes               369\n",
      "Rarely                  322\n",
      "Never                   120\n",
      "Often                    65\n",
      "Name: work_interfere_treated, dtype: int64\n",
      "\n",
      "work_interfere_untreated\n",
      "If you have a mental health issue, do you feel that it interferes with your work when NOT being treated effectively?\n",
      "Often                   538\n",
      "Not applicable to me    468\n",
      "Sometimes               363\n",
      "Rarely                   52\n",
      "Never                    12\n",
      "Name: work_interfere_untreated, dtype: int64\n"
     ]
    }
   ],
   "source": [
    "preview_col(df16, 'work_interfere_treated')\n",
    "print\n",
    "preview_col(df16, 'work_interfere_untreated')"
   ]
  },
  {
   "cell_type": "code",
   "execution_count": 43,
   "metadata": {
    "collapsed": true
   },
   "outputs": [],
   "source": [
    "df16.replace({'Not applicable to me': 'doesnt apply'}, inplace=True)"
   ]
  },
  {
   "cell_type": "code",
   "execution_count": 44,
   "metadata": {
    "collapsed": false
   },
   "outputs": [],
   "source": [
    "prefix_dummies(df16, 'work_interfere_treated')\n",
    "prefix_dummies(df16, 'work_interfere_untreated')\n"
   ]
  },
  {
   "cell_type": "markdown",
   "metadata": {},
   "source": [
    "#### How many employees does your company or organization have?"
   ]
  },
  {
   "cell_type": "code",
   "execution_count": 45,
   "metadata": {
    "collapsed": false
   },
   "outputs": [
    {
     "name": "stdout",
     "output_type": "stream",
     "text": [
      "num_employees\n",
      "How many employees does your company or organization have?\n",
      "26-100            292\n",
      "NaN               287\n",
      "More than 1000    256\n",
      "100-500           248\n",
      "6-25              210\n",
      "500-1000           80\n",
      "1-5                60\n",
      "Name: num_employees, dtype: int64\n"
     ]
    }
   ],
   "source": [
    "preview_col(df16, 'num_employees')"
   ]
  },
  {
   "cell_type": "code",
   "execution_count": 46,
   "metadata": {
    "collapsed": false
   },
   "outputs": [
    {
     "name": "stdout",
     "output_type": "stream",
     "text": [
      "['26-100' '6-25' nan '1000+' '100-500' '500-1000' '1-5']\n"
     ]
    }
   ],
   "source": [
    "df16.num_employees = df16.num_employees.map(lambda x: '1000+' if x=='More than 1000' else x)\n",
    "print df16.num_employees.unique()"
   ]
  },
  {
   "cell_type": "code",
   "execution_count": 47,
   "metadata": {
    "collapsed": false
   },
   "outputs": [],
   "source": [
    "dummy_dfs['num_employees'] = pd.get_dummies(df16.num_employees, prefix='num_employees', dummy_na=True)\n",
    "# dummy_dfs['num_employees'].head(3)"
   ]
  },
  {
   "cell_type": "code",
   "execution_count": 48,
   "metadata": {
    "collapsed": false
   },
   "outputs": [
    {
     "name": "stdout",
     "output_type": "stream",
     "text": [
      "['26-100' '6-25' nan '1000+' '100-500' '500-1000' '1-5']\n"
     ]
    }
   ],
   "source": [
    "df16.num_employees = df16.num_employees.map(lambda x: '1000+' if x=='More than 1000' else x)\n",
    "print df16.num_employees.unique()"
   ]
  },
  {
   "cell_type": "code",
   "execution_count": 49,
   "metadata": {
    "collapsed": false
   },
   "outputs": [],
   "source": [
    "df16.replace({\n",
    "    \"I don't know\": 'dont_know',\n",
    "    \"I am not sure\": \"not_sure\",\n",
    "    \"I'm not sure\": 'dont_know',\n",
    "    \"United States of America\": \"United States\",\n",
    "    \"Not applicable to me\": \"doesnt apply\",\n",
    "    'Not eligible for coverage / N/A': \"doesnt_apply\",\n",
    "    \"No, I don't know any\": 'none',\n",
    "    'Yes, I know several': 'several',\n",
    "    'I know some': 'some',\n",
    "    'No, because it would impact me negatively': 'no_due_to_negative_impact',\n",
    "    'Sometimes, if it comes up': 'sometimes',\n",
    "    \"No, because it doesn't matter\": 'no_due_to_doesnt_matter',\n",
    "    'Yes, always': 'always',\n",
    "    'No, none did': 'none',\n",
    "    'Some did': 'some',\n",
    "    'Yes, they all did': 'all',\n",
    "    'I was aware of some': 'some',\n",
    "    'Yes, I was aware of all of them': 'all',\n",
    "    'No, I only became aware later': 'aware_later',\n",
    "    'None did': 'none',\n",
    "    'Yes, all of them': 'all',\n",
    "    'None of them': 'none',\n",
    "    'Some of them': 'some',\n",
    "    'Some of my previous employers': 'some',\n",
    "    'No, at none of my previous employers': 'none',\n",
    "    'Yes, at all of my previous employers': 'all',\n",
    "    'Maybe/Not sure': 'maybe',\n",
    "    'Yes, I observed': 'observed',\n",
    "    'Yes, I experienced': 'experienced',\n",
    "    'Yes, I think it would': 'yes_would',\n",
    "    \"No, I don't think it would\": 'no_wouldnt',\n",
    "    'Yes, it has': 'yes has',\n",
    "    'No, it has not': 'no hasnt',\n",
    "    'Yes, I think they would': 'yes would',\n",
    "    \"No, I don't think they would\": 'no wouldnt',\n",
    "    'No, they do not': 'no dont',\n",
    "    'Yes, they do': 'yes do',\n",
    "    'N/A (not currently aware)': 'not_currently_aware',\n",
    "    'Not applicable to me (I do not have a mental illness)': 'no mental illness'\n",
    "    }, \n",
    "    inplace=True)\n"
   ]
  },
  {
   "cell_type": "markdown",
   "metadata": {},
   "source": [
    "#### Country & State"
   ]
  },
  {
   "cell_type": "code",
   "execution_count": 50,
   "metadata": {
    "collapsed": false
   },
   "outputs": [],
   "source": [
    "states = {\n",
    "        'AK': 'Alaska',\n",
    "        'AL': 'Alabama',\n",
    "        'AR': 'Arkansas',\n",
    "        'AS': 'American Samoa',\n",
    "        'AZ': 'Arizona',\n",
    "        'CA': 'California',\n",
    "        'CO': 'Colorado',\n",
    "        'CT': 'Connecticut',\n",
    "        'DC': 'District of Columbia',\n",
    "        'DE': 'Delaware',\n",
    "        'FL': 'Florida',\n",
    "        'GA': 'Georgia',\n",
    "        'GU': 'Guam',\n",
    "        'HI': 'Hawaii',\n",
    "        'IA': 'Iowa',\n",
    "        'ID': 'Idaho',\n",
    "        'IL': 'Illinois',\n",
    "        'IN': 'Indiana',\n",
    "        'KS': 'Kansas',\n",
    "        'KY': 'Kentucky',\n",
    "        'LA': 'Louisiana',\n",
    "        'MA': 'Massachusetts',\n",
    "        'MD': 'Maryland',\n",
    "        'ME': 'Maine',\n",
    "        'MI': 'Michigan',\n",
    "        'MN': 'Minnesota',\n",
    "        'MO': 'Missouri',\n",
    "        'MP': 'Northern Mariana Islands',\n",
    "        'MS': 'Mississippi',\n",
    "        'MT': 'Montana',\n",
    "        'NA': 'National',\n",
    "        'NC': 'North Carolina',\n",
    "        'ND': 'North Dakota',\n",
    "        'NE': 'Nebraska',\n",
    "        'NH': 'New Hampshire',\n",
    "        'NJ': 'New Jersey',\n",
    "        'NM': 'New Mexico',\n",
    "        'NV': 'Nevada',\n",
    "        'NY': 'New York',\n",
    "        'OH': 'Ohio',\n",
    "        'OK': 'Oklahoma',\n",
    "        'OR': 'Oregon',\n",
    "        'PA': 'Pennsylvania',\n",
    "        'PR': 'Puerto Rico',\n",
    "        'RI': 'Rhode Island',\n",
    "        'SC': 'South Carolina',\n",
    "        'SD': 'South Dakota',\n",
    "        'TN': 'Tennessee',\n",
    "        'TX': 'Texas',\n",
    "        'UT': 'Utah',\n",
    "        'VA': 'Virginia',\n",
    "        'VI': 'Virgin Islands',\n",
    "        'VT': 'Vermont',\n",
    "        'WA': 'Washington',\n",
    "        'WI': 'Wisconsin',\n",
    "        'WV': 'West Virginia',\n",
    "        'WY': 'Wyoming'\n",
    "}"
   ]
  },
  {
   "cell_type": "code",
   "execution_count": 51,
   "metadata": {
    "collapsed": false
   },
   "outputs": [],
   "source": [
    "state_abbr = { i[1]: i[0] for i in states.iteritems()}\n",
    "# state_abbr"
   ]
  },
  {
   "cell_type": "code",
   "execution_count": 52,
   "metadata": {
    "collapsed": false
   },
   "outputs": [],
   "source": [
    "df16['live_in_state'].replace(state_abbr, inplace=True)\n",
    "df16['work_in_state'].replace(state_abbr, inplace=True)"
   ]
  },
  {
   "cell_type": "code",
   "execution_count": 53,
   "metadata": {
    "collapsed": false
   },
   "outputs": [],
   "source": [
    "def get_state (row):\n",
    "    if row['live_in_state'] == row['work_in_state']:\n",
    "        return row['live_in_state']\n",
    "    elif pd.notnull(row['live_in_state']) and pd.notnull(row['work_in_state']):\n",
    "        return 'multi'\n",
    "    else:\n",
    "        return nan\n",
    "df16['state'] = df16.apply(get_state, axis=1)\n",
    "# df16['state'].value_counts(dropna=False)"
   ]
  },
  {
   "cell_type": "code",
   "execution_count": 54,
   "metadata": {
    "collapsed": false
   },
   "outputs": [],
   "source": [
    "df16['work_in_country'].replace({ 'United States of America': 'United States' }, inplace=True)\n",
    "df16['live_in_country'].replace({ 'United States of America': 'United States' }, inplace=True)"
   ]
  },
  {
   "cell_type": "code",
   "execution_count": 55,
   "metadata": {
    "collapsed": false
   },
   "outputs": [],
   "source": [
    "# df16_country_set = set(df16['live_in_country'].unique()).union(set(df16['work_in_country'].unique()))\n",
    "# # df16_country_set\n",
    "# df14_country_set = set(['United States', 'Canada', 'United Kingdom', 'Bulgaria', 'France',\n",
    "#        'Portugal', 'Netherlands', 'Switzerland', 'Poland', 'Australia',\n",
    "#        'Germany', 'Russia', 'Mexico', 'Brazil', 'Slovenia', 'Costa Rica',\n",
    "#        'Austria', 'Ireland', 'India', 'South Africa', 'Italy', 'Sweden',\n",
    "#        'Colombia', 'Latvia', 'Romania', 'Belgium', 'New Zealand',\n",
    "#        'Zimbabwe', 'Spain', 'Finland', 'Uruguay', 'Israel',\n",
    "#        'Bosnia and Herzegovina', 'Hungary', 'Singapore', 'Japan',\n",
    "#        'Nigeria', 'Croatia', 'Norway', 'Thailand', 'Denmark',\n",
    "#        'Bahamas, The', 'Greece', 'Moldova', 'Georgia', 'China',\n",
    "#        'Czech Republic', 'Philippines'])\n",
    "# df14_country_set\n",
    "# df16_country_set ^ df14_country_set"
   ]
  },
  {
   "cell_type": "code",
   "execution_count": 56,
   "metadata": {
    "collapsed": false
   },
   "outputs": [
    {
     "data": {
      "text/plain": [
       "United States             837\n",
       "United Kingdom            178\n",
       "Canada                     73\n",
       "Germany                    57\n",
       "Netherlands                47\n",
       "Australia                  34\n",
       "multi                      26\n",
       "Sweden                     19\n",
       "Ireland                    15\n",
       "France                     14\n",
       "Switzerland                10\n",
       "Brazil                     10\n",
       "New Zealand                 9\n",
       "India                       9\n",
       "Russia                      9\n",
       "Bulgaria                    7\n",
       "Finland                     7\n",
       "Denmark                     7\n",
       "Belgium                     5\n",
       "Austria                     4\n",
       "South Africa                4\n",
       "Poland                      4\n",
       "Romania                     3\n",
       "Italy                       3\n",
       "Spain                       3\n",
       "Czech Republic              3\n",
       "Chile                       3\n",
       "Norway                      3\n",
       "Mexico                      2\n",
       "Israel                      2\n",
       "Bosnia and Herzegovina      2\n",
       "Pakistan                    2\n",
       "Estonia                     2\n",
       "Colombia                    2\n",
       "Iran                        1\n",
       "Ecuador                     1\n",
       "Argentina                   1\n",
       "Japan                       1\n",
       "Costa Rica                  1\n",
       "Lithuania                   1\n",
       "Serbia                      1\n",
       "Brunei                      1\n",
       "China                       1\n",
       "Guatemala                   1\n",
       "Vietnam                     1\n",
       "Greece                      1\n",
       "Bangladesh                  1\n",
       "Afghanistan                 1\n",
       "Other                       1\n",
       "Slovakia                    1\n",
       "Venezuela                   1\n",
       "Hungary                     1\n",
       "Name: country, dtype: int64"
      ]
     },
     "execution_count": 56,
     "metadata": {},
     "output_type": "execute_result"
    }
   ],
   "source": [
    "def get_country (row):\n",
    "    if row['live_in_country'] == row['work_in_country']:\n",
    "        return row['live_in_country']\n",
    "    elif pd.notnull(row['live_in_country']) and pd.notnull(row['work_in_country']):\n",
    "        return 'multi'\n",
    "    else:\n",
    "        return nan\n",
    "df16['country'] = df16.apply(get_country, axis=1)\n",
    "df16['country'].value_counts(dropna=False)"
   ]
  },
  {
   "cell_type": "code",
   "execution_count": 57,
   "metadata": {
    "collapsed": false,
    "scrolled": true
   },
   "outputs": [],
   "source": [
    "# live_countries = df16['live_in_country'].map(get_prefix)\n",
    "# print live_countries.head(3)"
   ]
  },
  {
   "cell_type": "code",
   "execution_count": 58,
   "metadata": {
    "collapsed": false
   },
   "outputs": [],
   "source": [
    "# dummy_dfs['live_in_country'] = pd.get_dummies(live_countries, prefix='live_in')\n",
    "# dummy_dfs['live_in_country'].head(3)"
   ]
  },
  {
   "cell_type": "code",
   "execution_count": 59,
   "metadata": {
    "collapsed": true
   },
   "outputs": [],
   "source": [
    "# prefix_dummies(df16, 'live_in_state', True)"
   ]
  },
  {
   "cell_type": "code",
   "execution_count": 60,
   "metadata": {
    "collapsed": false,
    "scrolled": true
   },
   "outputs": [],
   "source": [
    "# dummy_dfs['live_in_state'].head(3)"
   ]
  },
  {
   "cell_type": "code",
   "execution_count": 61,
   "metadata": {
    "collapsed": true
   },
   "outputs": [],
   "source": [
    "# prefix_dummies(df16, 'work_in_state', True)\n",
    "# prefix_dummies(df16, 'work_in_country')\n",
    "# prefix_dummies(df16, 'country')"
   ]
  },
  {
   "cell_type": "code",
   "execution_count": 62,
   "metadata": {
    "collapsed": false
   },
   "outputs": [],
   "source": [
    "# dummy_dfs['country'].head(3)"
   ]
  },
  {
   "cell_type": "markdown",
   "metadata": {},
   "source": [
    "#### If a mental health issue prompted you to request a medical leave from work, asking for that leave would be:"
   ]
  },
  {
   "cell_type": "code",
   "execution_count": 63,
   "metadata": {
    "collapsed": false
   },
   "outputs": [],
   "source": [
    "v = preview_col"
   ]
  },
  {
   "cell_type": "code",
   "execution_count": 64,
   "metadata": {
    "collapsed": false
   },
   "outputs": [],
   "source": [
    "# x = df16[df16['mental_health_consequence'].isnull()].copy()\n",
    "# print x.shape\n",
    "# x.isnull().sum(axis=1).values\n",
    "# x = x.dropna(axis=1)\n",
    "# print x.shape\n",
    "# print x.columns\n",
    "# x.tail(3)"
   ]
  },
  {
   "cell_type": "code",
   "execution_count": 65,
   "metadata": {
    "collapsed": false
   },
   "outputs": [
    {
     "name": "stdout",
     "output_type": "stream",
     "text": [
      "57\n",
      "Index([u'num_employees', u'benefits', u'care_options', u'wellness_program',\n",
      "       u'seek_help', u'anonymity', u'leave', u'mental_health_consequence',\n",
      "       u'phys_health_consequence', u'coworkers', u'supervisor',\n",
      "       u'mental_vs_physical', u'know_resources', u'revealed_contacts',\n",
      "       u'revealed_contacts_consequence', u'revealed_coworkers',\n",
      "       u'revealed_coworkers_consequence', u'productivity_impacted',\n",
      "       u'percent_time_impacted', u'prev_benefits', u'prev_care_options',\n",
      "       u'prev_wellness_program', u'prev_seek_help', u'prev_anonymity',\n",
      "       u'prev_mental_health_consequence', u'prev_phys_health_consequence',\n",
      "       u'prev_coworkers', u'prev_supervisor', u'prev_mental_vs_physical',\n",
      "       u'prev_obs_consequence', u'phys_health_interview',\n",
      "       u'mental_health_interview', u'hurt_career', u'viewed_negatively',\n",
      "       u'friends_family', u'obs_negative_response', u'reluctant_due_to_obs',\n",
      "       u'family_history', u'past_disorder', u'current_disorder',\n",
      "       u'work_interfere_treated', u'work_interfere_untreated',\n",
      "       u'live_in_country', u'live_in_state', u'work_in_country',\n",
      "       u'work_in_state', u'remote_work', u'gender_category', u'state'],\n",
      "      dtype='object')\n"
     ]
    }
   ],
   "source": [
    "obj_cols = df16.columns[df16.dtypes==object]\n",
    "print len(obj_cols)\n",
    "long_cols = ['phys_health_interview_comment', \n",
    "             'mental_health_interview_comment',\n",
    "             'professional_diagnoses',\n",
    "             'position',\n",
    "             'gender',\n",
    "             'current_diagnosed_conditions',\n",
    "             'current_believed_conditions',\n",
    "             'country'\n",
    "            ]\n",
    "for col in long_cols:\n",
    "    obj_cols = obj_cols.drop(col)\n",
    "for col in obj_cols:\n",
    "    prefix_dummies(df16, col, True)\n",
    "#     v(df16, col)\n",
    "# #     print col\n",
    "# #     print df16[col].head(3)\n",
    "#     print\n",
    "# #     pass\n",
    "print obj_cols\n",
    "\n",
    "investigate = [\n",
    "    'friends_family',\n",
    "    'family_history',\n",
    "    'mental_vs_physical'\n",
    "]"
   ]
  },
  {
   "cell_type": "markdown",
   "metadata": {},
   "source": [
    "## Exporting Cleaned Data\n"
   ]
  },
  {
   "cell_type": "code",
   "execution_count": 66,
   "metadata": {
    "collapsed": false
   },
   "outputs": [
    {
     "name": "stdout",
     "output_type": "stream",
     "text": [
      "reluctant_due_to_obs\n",
      "Have your observations of how another individual who discussed a mental health disorder made you less likely to reveal a mental health issue yourself in your current workplace?\n",
      "NaN      776\n",
      "yes      246\n",
      "no       234\n",
      "maybe    177\n",
      "Name: reluctant_due_to_obs, dtype: int64\n"
     ]
    }
   ],
   "source": [
    "v(df16, 'reluctant_due_to_obs')"
   ]
  },
  {
   "cell_type": "code",
   "execution_count": 67,
   "metadata": {
    "collapsed": false
   },
   "outputs": [
    {
     "name": "stdout",
     "output_type": "stream",
     "text": [
      "(1433, 532)\n"
     ]
    }
   ],
   "source": [
    "df = pd.concat(dummy_dfs.values(), axis=1)\n",
    "df = pd.concat([df16, df], axis=1)\n",
    "print df.shape"
   ]
  },
  {
   "cell_type": "code",
   "execution_count": 68,
   "metadata": {
    "collapsed": false
   },
   "outputs": [
    {
     "data": {
      "text/html": [
       "<div>\n",
       "<table border=\"1\" class=\"dataframe\">\n",
       "  <thead>\n",
       "    <tr style=\"text-align: right;\">\n",
       "      <th></th>\n",
       "      <th>self_employed</th>\n",
       "      <th>num_employees</th>\n",
       "      <th>tech_company</th>\n",
       "      <th>tech_role</th>\n",
       "      <th>benefits</th>\n",
       "      <th>care_options</th>\n",
       "      <th>wellness_program</th>\n",
       "      <th>seek_help</th>\n",
       "      <th>anonymity</th>\n",
       "      <th>leave</th>\n",
       "      <th>...</th>\n",
       "      <th>gender</th>\n",
       "      <th>live_in_country</th>\n",
       "      <th>live_in_state</th>\n",
       "      <th>work_in_country</th>\n",
       "      <th>work_in_state</th>\n",
       "      <th>position</th>\n",
       "      <th>remote_work</th>\n",
       "      <th>gender_category</th>\n",
       "      <th>state</th>\n",
       "      <th>country</th>\n",
       "    </tr>\n",
       "  </thead>\n",
       "  <tbody>\n",
       "    <tr>\n",
       "      <th>0</th>\n",
       "      <td>0</td>\n",
       "      <td>26-100</td>\n",
       "      <td>1.0</td>\n",
       "      <td>NaN</td>\n",
       "      <td>doesnt_apply</td>\n",
       "      <td>NaN</td>\n",
       "      <td>no</td>\n",
       "      <td>no</td>\n",
       "      <td>dont_know</td>\n",
       "      <td>very_easy</td>\n",
       "      <td>...</td>\n",
       "      <td>Male</td>\n",
       "      <td>united_kingdom</td>\n",
       "      <td>NaN</td>\n",
       "      <td>united_kingdom</td>\n",
       "      <td>NaN</td>\n",
       "      <td>Back-end Developer</td>\n",
       "      <td>sometimes</td>\n",
       "      <td>male</td>\n",
       "      <td>NaN</td>\n",
       "      <td>United Kingdom</td>\n",
       "    </tr>\n",
       "    <tr>\n",
       "      <th>1</th>\n",
       "      <td>0</td>\n",
       "      <td>6-25</td>\n",
       "      <td>1.0</td>\n",
       "      <td>NaN</td>\n",
       "      <td>no</td>\n",
       "      <td>yes</td>\n",
       "      <td>yes</td>\n",
       "      <td>yes</td>\n",
       "      <td>yes</td>\n",
       "      <td>somewhat_easy</td>\n",
       "      <td>...</td>\n",
       "      <td>male</td>\n",
       "      <td>united_states</td>\n",
       "      <td>il</td>\n",
       "      <td>united_states</td>\n",
       "      <td>il</td>\n",
       "      <td>Back-end Developer|Front-end Developer</td>\n",
       "      <td>never</td>\n",
       "      <td>male</td>\n",
       "      <td>il</td>\n",
       "      <td>United States</td>\n",
       "    </tr>\n",
       "    <tr>\n",
       "      <th>2</th>\n",
       "      <td>0</td>\n",
       "      <td>6-25</td>\n",
       "      <td>1.0</td>\n",
       "      <td>NaN</td>\n",
       "      <td>no</td>\n",
       "      <td>NaN</td>\n",
       "      <td>no</td>\n",
       "      <td>no</td>\n",
       "      <td>dont_know</td>\n",
       "      <td>neither_easy_nor_difficult</td>\n",
       "      <td>...</td>\n",
       "      <td>Male</td>\n",
       "      <td>united_kingdom</td>\n",
       "      <td>NaN</td>\n",
       "      <td>united_kingdom</td>\n",
       "      <td>NaN</td>\n",
       "      <td>Back-end Developer</td>\n",
       "      <td>always</td>\n",
       "      <td>male</td>\n",
       "      <td>NaN</td>\n",
       "      <td>United Kingdom</td>\n",
       "    </tr>\n",
       "  </tbody>\n",
       "</table>\n",
       "<p>3 rows × 66 columns</p>\n",
       "</div>"
      ],
      "text/plain": [
       "   self_employed num_employees  tech_company  tech_role      benefits  \\\n",
       "0              0        26-100           1.0        NaN  doesnt_apply   \n",
       "1              0          6-25           1.0        NaN            no   \n",
       "2              0          6-25           1.0        NaN            no   \n",
       "\n",
       "  care_options wellness_program seek_help  anonymity  \\\n",
       "0          NaN               no        no  dont_know   \n",
       "1          yes              yes       yes        yes   \n",
       "2          NaN               no        no  dont_know   \n",
       "\n",
       "                        leave       ...       gender live_in_country  \\\n",
       "0                   very_easy       ...         Male  united_kingdom   \n",
       "1               somewhat_easy       ...         male   united_states   \n",
       "2  neither_easy_nor_difficult       ...        Male   united_kingdom   \n",
       "\n",
       "  live_in_state work_in_country work_in_state  \\\n",
       "0           NaN  united_kingdom           NaN   \n",
       "1            il   united_states            il   \n",
       "2           NaN  united_kingdom           NaN   \n",
       "\n",
       "                                 position  remote_work gender_category state  \\\n",
       "0                      Back-end Developer    sometimes            male   NaN   \n",
       "1  Back-end Developer|Front-end Developer        never            male    il   \n",
       "2                      Back-end Developer       always            male   NaN   \n",
       "\n",
       "          country  \n",
       "0  United Kingdom  \n",
       "1   United States  \n",
       "2  United Kingdom  \n",
       "\n",
       "[3 rows x 66 columns]"
      ]
     },
     "execution_count": 68,
     "metadata": {},
     "output_type": "execute_result"
    }
   ],
   "source": [
    "df16.head(3)"
   ]
  },
  {
   "cell_type": "code",
   "execution_count": 69,
   "metadata": {
    "collapsed": false
   },
   "outputs": [
    {
     "data": {
      "text/html": [
       "<div>\n",
       "<table border=\"1\" class=\"dataframe\">\n",
       "  <thead>\n",
       "    <tr style=\"text-align: right;\">\n",
       "      <th></th>\n",
       "      <th>self_employed</th>\n",
       "      <th>num_employees</th>\n",
       "      <th>tech_company</th>\n",
       "      <th>tech_role</th>\n",
       "      <th>benefits</th>\n",
       "      <th>care_options</th>\n",
       "      <th>wellness_program</th>\n",
       "      <th>seek_help</th>\n",
       "      <th>anonymity</th>\n",
       "      <th>leave</th>\n",
       "      <th>...</th>\n",
       "      <th>gender_category_other</th>\n",
       "      <th>gender_category_nan</th>\n",
       "      <th>remote_work_always</th>\n",
       "      <th>remote_work_never</th>\n",
       "      <th>remote_work_sometimes</th>\n",
       "      <th>remote_work_nan</th>\n",
       "      <th>phys_health_consequence_maybe</th>\n",
       "      <th>phys_health_consequence_no</th>\n",
       "      <th>phys_health_consequence_yes</th>\n",
       "      <th>phys_health_consequence_nan</th>\n",
       "    </tr>\n",
       "  </thead>\n",
       "  <tbody>\n",
       "    <tr>\n",
       "      <th>0</th>\n",
       "      <td>0</td>\n",
       "      <td>26-100</td>\n",
       "      <td>1.0</td>\n",
       "      <td>NaN</td>\n",
       "      <td>doesnt_apply</td>\n",
       "      <td>NaN</td>\n",
       "      <td>no</td>\n",
       "      <td>no</td>\n",
       "      <td>dont_know</td>\n",
       "      <td>very_easy</td>\n",
       "      <td>...</td>\n",
       "      <td>0</td>\n",
       "      <td>0</td>\n",
       "      <td>0</td>\n",
       "      <td>0</td>\n",
       "      <td>1</td>\n",
       "      <td>0</td>\n",
       "      <td>0</td>\n",
       "      <td>1</td>\n",
       "      <td>0</td>\n",
       "      <td>0</td>\n",
       "    </tr>\n",
       "    <tr>\n",
       "      <th>1</th>\n",
       "      <td>0</td>\n",
       "      <td>6-25</td>\n",
       "      <td>1.0</td>\n",
       "      <td>NaN</td>\n",
       "      <td>no</td>\n",
       "      <td>yes</td>\n",
       "      <td>yes</td>\n",
       "      <td>yes</td>\n",
       "      <td>yes</td>\n",
       "      <td>somewhat_easy</td>\n",
       "      <td>...</td>\n",
       "      <td>0</td>\n",
       "      <td>0</td>\n",
       "      <td>0</td>\n",
       "      <td>1</td>\n",
       "      <td>0</td>\n",
       "      <td>0</td>\n",
       "      <td>0</td>\n",
       "      <td>1</td>\n",
       "      <td>0</td>\n",
       "      <td>0</td>\n",
       "    </tr>\n",
       "  </tbody>\n",
       "</table>\n",
       "<p>2 rows × 532 columns</p>\n",
       "</div>"
      ],
      "text/plain": [
       "   self_employed num_employees  tech_company  tech_role      benefits  \\\n",
       "0              0        26-100           1.0        NaN  doesnt_apply   \n",
       "1              0          6-25           1.0        NaN            no   \n",
       "\n",
       "  care_options wellness_program seek_help  anonymity          leave  \\\n",
       "0          NaN               no        no  dont_know      very_easy   \n",
       "1          yes              yes       yes        yes  somewhat_easy   \n",
       "\n",
       "              ...             gender_category_other gender_category_nan  \\\n",
       "0             ...                                 0                   0   \n",
       "1             ...                                 0                   0   \n",
       "\n",
       "  remote_work_always remote_work_never remote_work_sometimes  remote_work_nan  \\\n",
       "0                  0                 0                     1                0   \n",
       "1                  0                 1                     0                0   \n",
       "\n",
       "   phys_health_consequence_maybe phys_health_consequence_no  \\\n",
       "0                              0                          1   \n",
       "1                              0                          1   \n",
       "\n",
       "  phys_health_consequence_yes phys_health_consequence_nan  \n",
       "0                           0                           0  \n",
       "1                           0                           0  \n",
       "\n",
       "[2 rows x 532 columns]"
      ]
     },
     "execution_count": 69,
     "metadata": {},
     "output_type": "execute_result"
    }
   ],
   "source": [
    "df.head(2)"
   ]
  },
  {
   "cell_type": "code",
   "execution_count": null,
   "metadata": {
    "collapsed": true
   },
   "outputs": [],
   "source": []
  },
  {
   "cell_type": "code",
   "execution_count": 70,
   "metadata": {
    "collapsed": true
   },
   "outputs": [],
   "source": [
    "df.to_csv(path_or_buf=\"./datasets/2016/clean-mental-health-in-tech-2016.csv\")"
   ]
  },
  {
   "cell_type": "code",
   "execution_count": 71,
   "metadata": {
    "collapsed": true
   },
   "outputs": [],
   "source": [
    "df16.to_csv(path_or_buf=\"./datasets/2016/clean-no-dummies-2016.csv\")"
   ]
  },
  {
   "cell_type": "code",
   "execution_count": 72,
   "metadata": {
    "collapsed": false
   },
   "outputs": [
    {
     "data": {
      "text/plain": [
       "Index([u'self_employed', u'num_employees', u'tech_company', u'tech_role',\n",
       "       u'benefits', u'care_options', u'wellness_program', u'seek_help',\n",
       "       u'anonymity', u'leave', u'mental_health_consequence',\n",
       "       u'phys_health_consequence', u'coworkers', u'supervisor',\n",
       "       u'mental_vs_physical', u'obs_consequence', u'insurance',\n",
       "       u'know_resources', u'revealed_contacts',\n",
       "       u'revealed_contacts_consequence', u'revealed_coworkers',\n",
       "       u'revealed_coworkers_consequence', u'productivity_impacted',\n",
       "       u'percent_time_impacted', u'prev_employer', u'prev_benefits',\n",
       "       u'prev_care_options', u'prev_wellness_program', u'prev_seek_help',\n",
       "       u'prev_anonymity', u'prev_mental_health_consequence',\n",
       "       u'prev_phys_health_consequence', u'prev_coworkers', u'prev_supervisor',\n",
       "       u'prev_mental_vs_physical', u'prev_obs_consequence',\n",
       "       u'phys_health_interview', u'phys_health_interview_comment',\n",
       "       u'mental_health_interview', u'mental_health_interview_comment',\n",
       "       u'hurt_career', u'viewed_negatively', u'friends_family',\n",
       "       u'obs_negative_response', u'reluctant_due_to_obs', u'family_history',\n",
       "       u'past_disorder', u'current_disorder', u'current_diagnosed_conditions',\n",
       "       u'current_believed_conditions', u'professional_diagnosed',\n",
       "       u'professional_diagnoses', u'treatment', u'work_interfere_treated',\n",
       "       u'work_interfere_untreated', u'age', u'gender', u'live_in_country',\n",
       "       u'live_in_state', u'work_in_country', u'work_in_state', u'position',\n",
       "       u'remote_work', u'gender_category', u'state', u'country'],\n",
       "      dtype='object')"
      ]
     },
     "execution_count": 72,
     "metadata": {},
     "output_type": "execute_result"
    }
   ],
   "source": [
    "df16.columns"
   ]
  },
  {
   "cell_type": "code",
   "execution_count": 73,
   "metadata": {
    "collapsed": false
   },
   "outputs": [
    {
     "data": {
      "text/html": [
       "<div>\n",
       "<table border=\"1\" class=\"dataframe\">\n",
       "  <thead>\n",
       "    <tr style=\"text-align: right;\">\n",
       "      <th></th>\n",
       "      <th>current_diagnosed_conditions</th>\n",
       "      <th>current_believed_conditions</th>\n",
       "      <th>professional_diagnoses</th>\n",
       "    </tr>\n",
       "  </thead>\n",
       "  <tbody>\n",
       "    <tr>\n",
       "      <th>0</th>\n",
       "      <td>NaN</td>\n",
       "      <td>NaN</td>\n",
       "      <td>Anxiety Disorder (Generalized, Social, Phobia,...</td>\n",
       "    </tr>\n",
       "    <tr>\n",
       "      <th>1</th>\n",
       "      <td>Anxiety Disorder (Generalized, Social, Phobia,...</td>\n",
       "      <td>NaN</td>\n",
       "      <td>Anxiety Disorder (Generalized, Social, Phobia,...</td>\n",
       "    </tr>\n",
       "    <tr>\n",
       "      <th>2</th>\n",
       "      <td>NaN</td>\n",
       "      <td>NaN</td>\n",
       "      <td>NaN</td>\n",
       "    </tr>\n",
       "    <tr>\n",
       "      <th>3</th>\n",
       "      <td>Anxiety Disorder (Generalized, Social, Phobia,...</td>\n",
       "      <td>NaN</td>\n",
       "      <td>Anxiety Disorder (Generalized, Social, Phobia,...</td>\n",
       "    </tr>\n",
       "    <tr>\n",
       "      <th>4</th>\n",
       "      <td>Anxiety Disorder (Generalized, Social, Phobia,...</td>\n",
       "      <td>NaN</td>\n",
       "      <td>Anxiety Disorder (Generalized, Social, Phobia,...</td>\n",
       "    </tr>\n",
       "  </tbody>\n",
       "</table>\n",
       "</div>"
      ],
      "text/plain": [
       "                        current_diagnosed_conditions  \\\n",
       "0                                                NaN   \n",
       "1  Anxiety Disorder (Generalized, Social, Phobia,...   \n",
       "2                                                NaN   \n",
       "3  Anxiety Disorder (Generalized, Social, Phobia,...   \n",
       "4  Anxiety Disorder (Generalized, Social, Phobia,...   \n",
       "\n",
       "  current_believed_conditions  \\\n",
       "0                         NaN   \n",
       "1                         NaN   \n",
       "2                         NaN   \n",
       "3                         NaN   \n",
       "4                         NaN   \n",
       "\n",
       "                              professional_diagnoses  \n",
       "0  Anxiety Disorder (Generalized, Social, Phobia,...  \n",
       "1  Anxiety Disorder (Generalized, Social, Phobia,...  \n",
       "2                                                NaN  \n",
       "3  Anxiety Disorder (Generalized, Social, Phobia,...  \n",
       "4  Anxiety Disorder (Generalized, Social, Phobia,...  "
      ]
     },
     "execution_count": 73,
     "metadata": {},
     "output_type": "execute_result"
    }
   ],
   "source": [
    "cdc = 'current_diagnosed_conditions'\n",
    "cbc = 'current_believed_conditions'\n",
    "pdc = 'professional_diagnoses'\n",
    "df16[[cdc, cbc, pdc]].head()"
   ]
  },
  {
   "cell_type": "markdown",
   "metadata": {},
   "source": [
    "![position options in survey](role.png)"
   ]
  },
  {
   "cell_type": "code",
   "execution_count": 74,
   "metadata": {
    "collapsed": false
   },
   "outputs": [],
   "source": [
    "a = df16[[cdc, cbc, pdc, 'position']].head(100).copy()"
   ]
  },
  {
   "cell_type": "code",
   "execution_count": 75,
   "metadata": {
    "collapsed": false
   },
   "outputs": [
    {
     "data": {
      "text/html": [
       "<div>\n",
       "<table border=\"1\" class=\"dataframe\">\n",
       "  <thead>\n",
       "    <tr style=\"text-align: right;\">\n",
       "      <th></th>\n",
       "      <th>current_diagnosed_conditions</th>\n",
       "      <th>current_believed_conditions</th>\n",
       "      <th>professional_diagnoses</th>\n",
       "      <th>position</th>\n",
       "    </tr>\n",
       "  </thead>\n",
       "  <tbody>\n",
       "    <tr>\n",
       "      <th>0</th>\n",
       "      <td>NaN</td>\n",
       "      <td>NaN</td>\n",
       "      <td>Anxiety Disorder (Generalized, Social, Phobia,...</td>\n",
       "      <td>Back-end Developer</td>\n",
       "    </tr>\n",
       "    <tr>\n",
       "      <th>1</th>\n",
       "      <td>Anxiety Disorder (Generalized, Social, Phobia,...</td>\n",
       "      <td>NaN</td>\n",
       "      <td>Anxiety Disorder (Generalized, Social, Phobia,...</td>\n",
       "      <td>Back-end Developer|Front-end Developer</td>\n",
       "    </tr>\n",
       "    <tr>\n",
       "      <th>2</th>\n",
       "      <td>NaN</td>\n",
       "      <td>NaN</td>\n",
       "      <td>NaN</td>\n",
       "      <td>Back-end Developer</td>\n",
       "    </tr>\n",
       "    <tr>\n",
       "      <th>3</th>\n",
       "      <td>Anxiety Disorder (Generalized, Social, Phobia,...</td>\n",
       "      <td>NaN</td>\n",
       "      <td>Anxiety Disorder (Generalized, Social, Phobia,...</td>\n",
       "      <td>Supervisor/Team Lead</td>\n",
       "    </tr>\n",
       "    <tr>\n",
       "      <th>4</th>\n",
       "      <td>Anxiety Disorder (Generalized, Social, Phobia,...</td>\n",
       "      <td>NaN</td>\n",
       "      <td>Anxiety Disorder (Generalized, Social, Phobia,...</td>\n",
       "      <td>Executive Leadership|Supervisor/Team Lead|Dev ...</td>\n",
       "    </tr>\n",
       "  </tbody>\n",
       "</table>\n",
       "</div>"
      ],
      "text/plain": [
       "                        current_diagnosed_conditions  \\\n",
       "0                                                NaN   \n",
       "1  Anxiety Disorder (Generalized, Social, Phobia,...   \n",
       "2                                                NaN   \n",
       "3  Anxiety Disorder (Generalized, Social, Phobia,...   \n",
       "4  Anxiety Disorder (Generalized, Social, Phobia,...   \n",
       "\n",
       "  current_believed_conditions  \\\n",
       "0                         NaN   \n",
       "1                         NaN   \n",
       "2                         NaN   \n",
       "3                         NaN   \n",
       "4                         NaN   \n",
       "\n",
       "                              professional_diagnoses  \\\n",
       "0  Anxiety Disorder (Generalized, Social, Phobia,...   \n",
       "1  Anxiety Disorder (Generalized, Social, Phobia,...   \n",
       "2                                                NaN   \n",
       "3  Anxiety Disorder (Generalized, Social, Phobia,...   \n",
       "4  Anxiety Disorder (Generalized, Social, Phobia,...   \n",
       "\n",
       "                                            position  \n",
       "0                                 Back-end Developer  \n",
       "1             Back-end Developer|Front-end Developer  \n",
       "2                                 Back-end Developer  \n",
       "3                               Supervisor/Team Lead  \n",
       "4  Executive Leadership|Supervisor/Team Lead|Dev ...  "
      ]
     },
     "execution_count": 75,
     "metadata": {},
     "output_type": "execute_result"
    }
   ],
   "source": [
    "a.head()"
   ]
  },
  {
   "cell_type": "markdown",
   "metadata": {},
   "source": [
    "![conditions choices in survey](conditions.png)"
   ]
  },
  {
   "cell_type": "code",
   "execution_count": 76,
   "metadata": {
    "collapsed": true
   },
   "outputs": [],
   "source": [
    "import numpy as np\n",
    "def get_strlist_col_unique(data, col):\n",
    "    # create an array that includes all choices from strings\n",
    "#     cd = 'choice_description'\n",
    "    uniq_strs = data[col].unique()\n",
    "    uniq = set([np.nan])\n",
    "    for s in uniq_strs:\n",
    "        if type(s) != str:\n",
    "            pass\n",
    "        else:\n",
    "            slist = set(s.split('|'))\n",
    "            uniq = uniq.union(slist)\n",
    "    return uniq\n"
   ]
  },
  {
   "cell_type": "code",
   "execution_count": 77,
   "metadata": {
    "collapsed": false
   },
   "outputs": [
    {
     "data": {
      "text/plain": [
       "{'Addictive Disorder',\n",
       " 'Anxiety Disorder (Generalized, Social, Phobia, etc)',\n",
       " 'Attention Deficit Hyperactivity Disorder',\n",
       " 'Dissociative Disorder',\n",
       " 'Eating Disorder (Anorexia, Bulimia, etc)',\n",
       " 'Mood Disorder (Depression, Bipolar Disorder, etc)',\n",
       " 'Obsessive-Compulsive Disorder',\n",
       " 'Personality Disorder (Borderline, Antisocial, Paranoid, etc)',\n",
       " 'Post-traumatic Stress Disorder',\n",
       " 'Psychotic Disorder (Schizophrenia, Schizoaffective, etc)',\n",
       " 'Stress Response Syndromes',\n",
       " 'Substance Use Disorder'}"
      ]
     },
     "execution_count": 77,
     "metadata": {},
     "output_type": "execute_result"
    }
   ],
   "source": [
    "\n",
    "survey_opts = { \n",
    "    'Anxiety Disorder (Generalized, Social, Phobia, etc)',\n",
    "    'Mood Disorder (Depression, Bipolar Disorder, etc)',\n",
    "    'Psychotic Disorder (Schizophrenia, Schizoaffective, etc)',\n",
    "    'Eating Disorder (Anorexia, Bulimia, etc)',\n",
    "    'Attention Deficit Hyperactivity Disorder',\n",
    "    'Personality Disorder (Borderline, Antisocial, Paranoid, etc)',\n",
    "    'Obsessive-Compulsive Disorder',\n",
    "    'Post-traumatic Stress Disorder',\n",
    "    'Stress Response Syndromes',\n",
    "    'Dissociative Disorder',\n",
    "    'Substance Use Disorder',\n",
    "    'Addictive Disorder'\n",
    "}\n",
    "survey_opts"
   ]
  },
  {
   "cell_type": "code",
   "execution_count": 78,
   "metadata": {
    "collapsed": false
   },
   "outputs": [],
   "source": [
    "position_options = get_strlist_col_unique(a, 'position')\n",
    "#professional_diagnoses_options\n",
    "pdo = get_strlist_col_unique(df16, pdc)\n",
    "# diagnosed_conditions_options \n",
    "dco =  get_strlist_col_unique(df16, cdc)\n",
    "# believed condition options\n",
    "bco =  get_strlist_col_unique(df16, cbc)\n",
    "conditions = pdo.union(dco).union(bco)\n"
   ]
  },
  {
   "cell_type": "code",
   "execution_count": 79,
   "metadata": {
    "collapsed": false
   },
   "outputs": [
    {
     "data": {
      "text/plain": [
       "{nan,\n",
       " 'ADD (w/o Hyperactivity)',\n",
       " 'Asperger Syndrome',\n",
       " \"Asperger's\",\n",
       " 'Aspergers',\n",
       " 'Asperges',\n",
       " 'Attention Deficit Disorder',\n",
       " 'Autism',\n",
       " \"Autism (Asperger's)\",\n",
       " 'Autism - while not a \"mental illness\", still greatly affects how I handle anxiety',\n",
       " 'Autism Spectrum Disorder',\n",
       " 'Autism spectrum disorder',\n",
       " 'Burn out',\n",
       " 'Burnout',\n",
       " 'Combination of physical impairment (strongly near-sighted) with a possibly mental one (MCD / \"ADHD\", though its actually a stimulus filtering impairment)',\n",
       " 'Depersonalisation',\n",
       " 'Depression',\n",
       " 'Gender Dysphoria',\n",
       " 'Gender Identity Disorder',\n",
       " \"I haven't been formally diagnosed, so I felt uncomfortable answering, but Social Anxiety and Depression.\",\n",
       " 'Intimate Disorder',\n",
       " 'MCD (when it was diagnosed, the ultra-mega \"disorder\" ADHD didn\\'t exist yet)',\n",
       " 'PDD-NOS',\n",
       " 'PDD-NOS (see above)',\n",
       " 'PTSD (undiagnosed)',\n",
       " 'Pervasive Developmental Disorder (Not Otherwise Specified)',\n",
       " 'Schizotypal Personality Disorder',\n",
       " 'Seasonal Affective Disorder',\n",
       " 'Sexual addiction',\n",
       " 'Sleeping Disorder',\n",
       " 'Suicidal Ideation',\n",
       " 'Tinnitus',\n",
       " 'Transgender',\n",
       " 'Traumatic Brain Injury',\n",
       " \"We're all hurt, right?!\",\n",
       " 'attention deficit disorder (but not the hyperactive version)',\n",
       " 'autism spectrum disorder',\n",
       " 'depersonalization disorder',\n",
       " 'post-partum / anxiety',\n",
       " 'posttraumatic stress disourder'}"
      ]
     },
     "execution_count": 79,
     "metadata": {},
     "output_type": "execute_result"
    }
   ],
   "source": [
    "conditions - survey_opts"
   ]
  },
  {
   "cell_type": "code",
   "execution_count": 80,
   "metadata": {
    "collapsed": false
   },
   "outputs": [
    {
     "data": {
      "text/plain": [
       "{'Addictive Disorder',\n",
       " 'Anxiety Disorder (Generalized, Social, Phobia, etc)',\n",
       " 'Attention Deficit Hyperactivity Disorder',\n",
       " 'Dissociative Disorder',\n",
       " 'Eating Disorder (Anorexia, Bulimia, etc)',\n",
       " 'Mood Disorder (Depression, Bipolar Disorder, etc)',\n",
       " 'Obsessive-Compulsive Disorder',\n",
       " 'Personality Disorder (Borderline, Antisocial, Paranoid, etc)',\n",
       " 'Post-traumatic Stress Disorder',\n",
       " 'Psychotic Disorder (Schizophrenia, Schizoaffective, etc)',\n",
       " 'Stress Response Syndromes',\n",
       " 'Substance Use Disorder'}"
      ]
     },
     "execution_count": 80,
     "metadata": {},
     "output_type": "execute_result"
    }
   ],
   "source": [
    "survey_opts = { \n",
    "    'Anxiety Disorder (Generalized, Social, Phobia, etc)',\n",
    "    'Mood Disorder (Depression, Bipolar Disorder, etc)',\n",
    "    'Psychotic Disorder (Schizophrenia, Schizoaffective, etc)',\n",
    "    'Eating Disorder (Anorexia, Bulimia, etc)',\n",
    "    'Attention Deficit Hyperactivity Disorder',\n",
    "    'Personality Disorder (Borderline, Antisocial, Paranoid, etc)',\n",
    "    'Obsessive-Compulsive Disorder',\n",
    "    'Post-traumatic Stress Disorder',\n",
    "    'Stress Response Syndromes',\n",
    "    'Dissociative Disorder',\n",
    "    'Substance Use Disorder',\n",
    "    'Addictive Disorder'\n",
    "}\n",
    "survey_opts"
   ]
  },
  {
   "cell_type": "code",
   "execution_count": 81,
   "metadata": {
    "collapsed": false
   },
   "outputs": [
    {
     "name": "stdout",
     "output_type": "stream",
     "text": [
      "2\n",
      "2\n"
     ]
    }
   ],
   "source": [
    "def set_row_for_choice(data, choice, col):\n",
    "    def set_choice(row):\n",
    "        if type(row[col]) == float:\n",
    "            return 0\n",
    "        elif choice in row[col]:\n",
    "            return 1\n",
    "        else:\n",
    "            return 0\n",
    "    new_col = \"choice_\" + choice\n",
    "    data[new_col] = 0\n",
    "    data[new_col] = data.apply(set_choice, axis=1)\n",
    "    return data[new_col] \n",
    "print set_row_for_choice(a, 'Addictive Disorder', 'professional_diagnoses').sum()\n",
    "print set_row_for_choice(a, 'Obsessive-Compulsive Disorder', 'professional_diagnoses').sum()"
   ]
  },
  {
   "cell_type": "code",
   "execution_count": 82,
   "metadata": {
    "collapsed": false
   },
   "outputs": [
    {
     "data": {
      "text/html": [
       "<div>\n",
       "<table border=\"1\" class=\"dataframe\">\n",
       "  <thead>\n",
       "    <tr style=\"text-align: right;\">\n",
       "      <th></th>\n",
       "      <th>current_diagnosed_conditions</th>\n",
       "      <th>current_believed_conditions</th>\n",
       "      <th>professional_diagnoses</th>\n",
       "      <th>position</th>\n",
       "      <th>choice_Addictive Disorder</th>\n",
       "      <th>choice_Obsessive-Compulsive Disorder</th>\n",
       "    </tr>\n",
       "  </thead>\n",
       "  <tbody>\n",
       "    <tr>\n",
       "      <th>0</th>\n",
       "      <td>NaN</td>\n",
       "      <td>NaN</td>\n",
       "      <td>Anxiety Disorder (Generalized, Social, Phobia,...</td>\n",
       "      <td>Back-end Developer</td>\n",
       "      <td>0</td>\n",
       "      <td>0</td>\n",
       "    </tr>\n",
       "    <tr>\n",
       "      <th>1</th>\n",
       "      <td>Anxiety Disorder (Generalized, Social, Phobia,...</td>\n",
       "      <td>NaN</td>\n",
       "      <td>Anxiety Disorder (Generalized, Social, Phobia,...</td>\n",
       "      <td>Back-end Developer|Front-end Developer</td>\n",
       "      <td>0</td>\n",
       "      <td>0</td>\n",
       "    </tr>\n",
       "    <tr>\n",
       "      <th>2</th>\n",
       "      <td>NaN</td>\n",
       "      <td>NaN</td>\n",
       "      <td>NaN</td>\n",
       "      <td>Back-end Developer</td>\n",
       "      <td>0</td>\n",
       "      <td>0</td>\n",
       "    </tr>\n",
       "    <tr>\n",
       "      <th>3</th>\n",
       "      <td>Anxiety Disorder (Generalized, Social, Phobia,...</td>\n",
       "      <td>NaN</td>\n",
       "      <td>Anxiety Disorder (Generalized, Social, Phobia,...</td>\n",
       "      <td>Supervisor/Team Lead</td>\n",
       "      <td>0</td>\n",
       "      <td>0</td>\n",
       "    </tr>\n",
       "    <tr>\n",
       "      <th>4</th>\n",
       "      <td>Anxiety Disorder (Generalized, Social, Phobia,...</td>\n",
       "      <td>NaN</td>\n",
       "      <td>Anxiety Disorder (Generalized, Social, Phobia,...</td>\n",
       "      <td>Executive Leadership|Supervisor/Team Lead|Dev ...</td>\n",
       "      <td>0</td>\n",
       "      <td>0</td>\n",
       "    </tr>\n",
       "    <tr>\n",
       "      <th>5</th>\n",
       "      <td>Anxiety Disorder (Generalized, Social, Phobia,...</td>\n",
       "      <td>NaN</td>\n",
       "      <td>NaN</td>\n",
       "      <td>DevOps/SysAdmin|Support|Back-end Developer|Fro...</td>\n",
       "      <td>0</td>\n",
       "      <td>0</td>\n",
       "    </tr>\n",
       "    <tr>\n",
       "      <th>6</th>\n",
       "      <td>NaN</td>\n",
       "      <td>NaN</td>\n",
       "      <td>NaN</td>\n",
       "      <td>Back-end Developer</td>\n",
       "      <td>0</td>\n",
       "      <td>0</td>\n",
       "    </tr>\n",
       "    <tr>\n",
       "      <th>7</th>\n",
       "      <td>Anxiety Disorder (Generalized, Social, Phobia,...</td>\n",
       "      <td>NaN</td>\n",
       "      <td>Anxiety Disorder (Generalized, Social, Phobia,...</td>\n",
       "      <td>Dev Evangelist/Advocate|Back-end Developer</td>\n",
       "      <td>0</td>\n",
       "      <td>0</td>\n",
       "    </tr>\n",
       "    <tr>\n",
       "      <th>8</th>\n",
       "      <td>Mood Disorder (Depression, Bipolar Disorder, etc)</td>\n",
       "      <td>NaN</td>\n",
       "      <td>Mood Disorder (Depression, Bipolar Disorder, etc)</td>\n",
       "      <td>Support|Back-end Developer|One-person shop</td>\n",
       "      <td>0</td>\n",
       "      <td>0</td>\n",
       "    </tr>\n",
       "    <tr>\n",
       "      <th>9</th>\n",
       "      <td>Anxiety Disorder (Generalized, Social, Phobia,...</td>\n",
       "      <td>NaN</td>\n",
       "      <td>Anxiety Disorder (Generalized, Social, Phobia,...</td>\n",
       "      <td>One-person shop|Front-end Developer|Back-end D...</td>\n",
       "      <td>0</td>\n",
       "      <td>0</td>\n",
       "    </tr>\n",
       "    <tr>\n",
       "      <th>10</th>\n",
       "      <td>Mood Disorder (Depression, Bipolar Disorder, etc)</td>\n",
       "      <td>NaN</td>\n",
       "      <td>Mood Disorder (Depression, Bipolar Disorder, etc)</td>\n",
       "      <td>Front-end Developer</td>\n",
       "      <td>0</td>\n",
       "      <td>0</td>\n",
       "    </tr>\n",
       "    <tr>\n",
       "      <th>11</th>\n",
       "      <td>Anxiety Disorder (Generalized, Social, Phobia,...</td>\n",
       "      <td>NaN</td>\n",
       "      <td>Anxiety Disorder (Generalized, Social, Phobia,...</td>\n",
       "      <td>Executive Leadership</td>\n",
       "      <td>0</td>\n",
       "      <td>0</td>\n",
       "    </tr>\n",
       "    <tr>\n",
       "      <th>12</th>\n",
       "      <td>Mood Disorder (Depression, Bipolar Disorder, etc)</td>\n",
       "      <td>NaN</td>\n",
       "      <td>Mood Disorder (Depression, Bipolar Disorder, etc)</td>\n",
       "      <td>Supervisor/Team Lead|Dev Evangelist/Advocate|B...</td>\n",
       "      <td>0</td>\n",
       "      <td>0</td>\n",
       "    </tr>\n",
       "    <tr>\n",
       "      <th>13</th>\n",
       "      <td>NaN</td>\n",
       "      <td>Substance Use Disorder|Addictive Disorder</td>\n",
       "      <td>NaN</td>\n",
       "      <td>DevOps/SysAdmin|Back-end Developer|Front-end D...</td>\n",
       "      <td>0</td>\n",
       "      <td>0</td>\n",
       "    </tr>\n",
       "    <tr>\n",
       "      <th>14</th>\n",
       "      <td>Anxiety Disorder (Generalized, Social, Phobia,...</td>\n",
       "      <td>NaN</td>\n",
       "      <td>Anxiety Disorder (Generalized, Social, Phobia,...</td>\n",
       "      <td>Designer</td>\n",
       "      <td>0</td>\n",
       "      <td>1</td>\n",
       "    </tr>\n",
       "    <tr>\n",
       "      <th>15</th>\n",
       "      <td>Mood Disorder (Depression, Bipolar Disorder, etc)</td>\n",
       "      <td>NaN</td>\n",
       "      <td>Mood Disorder (Depression, Bipolar Disorder, etc)</td>\n",
       "      <td>Other|Executive Leadership</td>\n",
       "      <td>0</td>\n",
       "      <td>0</td>\n",
       "    </tr>\n",
       "    <tr>\n",
       "      <th>16</th>\n",
       "      <td>Anxiety Disorder (Generalized, Social, Phobia,...</td>\n",
       "      <td>NaN</td>\n",
       "      <td>Anxiety Disorder (Generalized, Social, Phobia,...</td>\n",
       "      <td>Front-end Developer</td>\n",
       "      <td>0</td>\n",
       "      <td>0</td>\n",
       "    </tr>\n",
       "    <tr>\n",
       "      <th>17</th>\n",
       "      <td>NaN</td>\n",
       "      <td>NaN</td>\n",
       "      <td>NaN</td>\n",
       "      <td>Back-end Developer</td>\n",
       "      <td>0</td>\n",
       "      <td>0</td>\n",
       "    </tr>\n",
       "    <tr>\n",
       "      <th>18</th>\n",
       "      <td>Personality Disorder (Borderline, Antisocial, ...</td>\n",
       "      <td>NaN</td>\n",
       "      <td>Personality Disorder (Borderline, Antisocial, ...</td>\n",
       "      <td>One-person shop</td>\n",
       "      <td>0</td>\n",
       "      <td>0</td>\n",
       "    </tr>\n",
       "    <tr>\n",
       "      <th>19</th>\n",
       "      <td>Anxiety Disorder (Generalized, Social, Phobia,...</td>\n",
       "      <td>NaN</td>\n",
       "      <td>Anxiety Disorder (Generalized, Social, Phobia,...</td>\n",
       "      <td>Back-end Developer|Front-end Developer</td>\n",
       "      <td>0</td>\n",
       "      <td>0</td>\n",
       "    </tr>\n",
       "    <tr>\n",
       "      <th>20</th>\n",
       "      <td>NaN</td>\n",
       "      <td>NaN</td>\n",
       "      <td>NaN</td>\n",
       "      <td>Back-end Developer</td>\n",
       "      <td>0</td>\n",
       "      <td>0</td>\n",
       "    </tr>\n",
       "    <tr>\n",
       "      <th>21</th>\n",
       "      <td>NaN</td>\n",
       "      <td>NaN</td>\n",
       "      <td>NaN</td>\n",
       "      <td>Other</td>\n",
       "      <td>0</td>\n",
       "      <td>0</td>\n",
       "    </tr>\n",
       "    <tr>\n",
       "      <th>22</th>\n",
       "      <td>NaN</td>\n",
       "      <td>NaN</td>\n",
       "      <td>NaN</td>\n",
       "      <td>Back-end Developer</td>\n",
       "      <td>0</td>\n",
       "      <td>0</td>\n",
       "    </tr>\n",
       "    <tr>\n",
       "      <th>23</th>\n",
       "      <td>NaN</td>\n",
       "      <td>NaN</td>\n",
       "      <td>Mood Disorder (Depression, Bipolar Disorder, e...</td>\n",
       "      <td>Back-end Developer</td>\n",
       "      <td>0</td>\n",
       "      <td>0</td>\n",
       "    </tr>\n",
       "    <tr>\n",
       "      <th>24</th>\n",
       "      <td>NaN</td>\n",
       "      <td>NaN</td>\n",
       "      <td>NaN</td>\n",
       "      <td>Supervisor/Team Lead</td>\n",
       "      <td>0</td>\n",
       "      <td>0</td>\n",
       "    </tr>\n",
       "    <tr>\n",
       "      <th>25</th>\n",
       "      <td>NaN</td>\n",
       "      <td>NaN</td>\n",
       "      <td>NaN</td>\n",
       "      <td>Supervisor/Team Lead|Support|Back-end Developer</td>\n",
       "      <td>0</td>\n",
       "      <td>0</td>\n",
       "    </tr>\n",
       "    <tr>\n",
       "      <th>26</th>\n",
       "      <td>Mood Disorder (Depression, Bipolar Disorder, etc)</td>\n",
       "      <td>NaN</td>\n",
       "      <td>Mood Disorder (Depression, Bipolar Disorder, etc)</td>\n",
       "      <td>Supervisor/Team Lead|DevOps/SysAdmin|Back-end ...</td>\n",
       "      <td>0</td>\n",
       "      <td>0</td>\n",
       "    </tr>\n",
       "    <tr>\n",
       "      <th>27</th>\n",
       "      <td>NaN</td>\n",
       "      <td>Anxiety Disorder (Generalized, Social, Phobia,...</td>\n",
       "      <td>NaN</td>\n",
       "      <td>Back-end Developer</td>\n",
       "      <td>0</td>\n",
       "      <td>0</td>\n",
       "    </tr>\n",
       "    <tr>\n",
       "      <th>28</th>\n",
       "      <td>NaN</td>\n",
       "      <td>Anxiety Disorder (Generalized, Social, Phobia,...</td>\n",
       "      <td>NaN</td>\n",
       "      <td>Other</td>\n",
       "      <td>0</td>\n",
       "      <td>0</td>\n",
       "    </tr>\n",
       "    <tr>\n",
       "      <th>29</th>\n",
       "      <td>Anxiety Disorder (Generalized, Social, Phobia,...</td>\n",
       "      <td>NaN</td>\n",
       "      <td>Mood Disorder (Depression, Bipolar Disorder, etc)</td>\n",
       "      <td>Other|Supervisor/Team Lead|Support|Back-end De...</td>\n",
       "      <td>0</td>\n",
       "      <td>0</td>\n",
       "    </tr>\n",
       "    <tr>\n",
       "      <th>...</th>\n",
       "      <td>...</td>\n",
       "      <td>...</td>\n",
       "      <td>...</td>\n",
       "      <td>...</td>\n",
       "      <td>...</td>\n",
       "      <td>...</td>\n",
       "    </tr>\n",
       "    <tr>\n",
       "      <th>70</th>\n",
       "      <td>NaN</td>\n",
       "      <td>NaN</td>\n",
       "      <td>NaN</td>\n",
       "      <td>Back-end Developer</td>\n",
       "      <td>0</td>\n",
       "      <td>0</td>\n",
       "    </tr>\n",
       "    <tr>\n",
       "      <th>71</th>\n",
       "      <td>NaN</td>\n",
       "      <td>NaN</td>\n",
       "      <td>NaN</td>\n",
       "      <td>Support</td>\n",
       "      <td>0</td>\n",
       "      <td>0</td>\n",
       "    </tr>\n",
       "    <tr>\n",
       "      <th>72</th>\n",
       "      <td>NaN</td>\n",
       "      <td>NaN</td>\n",
       "      <td>NaN</td>\n",
       "      <td>Executive Leadership|Supervisor/Team Lead|Back...</td>\n",
       "      <td>0</td>\n",
       "      <td>0</td>\n",
       "    </tr>\n",
       "    <tr>\n",
       "      <th>73</th>\n",
       "      <td>NaN</td>\n",
       "      <td>NaN</td>\n",
       "      <td>Mood Disorder (Depression, Bipolar Disorder, etc)</td>\n",
       "      <td>Front-end Developer|Back-end Developer</td>\n",
       "      <td>0</td>\n",
       "      <td>0</td>\n",
       "    </tr>\n",
       "    <tr>\n",
       "      <th>74</th>\n",
       "      <td>NaN</td>\n",
       "      <td>Anxiety Disorder (Generalized, Social, Phobia,...</td>\n",
       "      <td>NaN</td>\n",
       "      <td>Supervisor/Team Lead|DevOps/SysAdmin|Back-end ...</td>\n",
       "      <td>0</td>\n",
       "      <td>0</td>\n",
       "    </tr>\n",
       "    <tr>\n",
       "      <th>75</th>\n",
       "      <td>NaN</td>\n",
       "      <td>NaN</td>\n",
       "      <td>NaN</td>\n",
       "      <td>Front-end Developer|Back-end Developer|DevOps/...</td>\n",
       "      <td>0</td>\n",
       "      <td>0</td>\n",
       "    </tr>\n",
       "    <tr>\n",
       "      <th>76</th>\n",
       "      <td>Personality Disorder (Borderline, Antisocial, ...</td>\n",
       "      <td>NaN</td>\n",
       "      <td>NaN</td>\n",
       "      <td>Back-end Developer</td>\n",
       "      <td>0</td>\n",
       "      <td>0</td>\n",
       "    </tr>\n",
       "    <tr>\n",
       "      <th>77</th>\n",
       "      <td>NaN</td>\n",
       "      <td>NaN</td>\n",
       "      <td>NaN</td>\n",
       "      <td>Front-end Developer</td>\n",
       "      <td>0</td>\n",
       "      <td>0</td>\n",
       "    </tr>\n",
       "    <tr>\n",
       "      <th>78</th>\n",
       "      <td>NaN</td>\n",
       "      <td>NaN</td>\n",
       "      <td>NaN</td>\n",
       "      <td>Front-end Developer</td>\n",
       "      <td>0</td>\n",
       "      <td>0</td>\n",
       "    </tr>\n",
       "    <tr>\n",
       "      <th>79</th>\n",
       "      <td>Anxiety Disorder (Generalized, Social, Phobia,...</td>\n",
       "      <td>NaN</td>\n",
       "      <td>Anxiety Disorder (Generalized, Social, Phobia,...</td>\n",
       "      <td>Supervisor/Team Lead|Dev Evangelist/Advocate|B...</td>\n",
       "      <td>0</td>\n",
       "      <td>0</td>\n",
       "    </tr>\n",
       "    <tr>\n",
       "      <th>80</th>\n",
       "      <td>NaN</td>\n",
       "      <td>NaN</td>\n",
       "      <td>NaN</td>\n",
       "      <td>Back-end Developer|DevOps/SysAdmin</td>\n",
       "      <td>0</td>\n",
       "      <td>0</td>\n",
       "    </tr>\n",
       "    <tr>\n",
       "      <th>81</th>\n",
       "      <td>Anxiety Disorder (Generalized, Social, Phobia,...</td>\n",
       "      <td>NaN</td>\n",
       "      <td>NaN</td>\n",
       "      <td>Back-end Developer</td>\n",
       "      <td>0</td>\n",
       "      <td>0</td>\n",
       "    </tr>\n",
       "    <tr>\n",
       "      <th>82</th>\n",
       "      <td>Anxiety Disorder (Generalized, Social, Phobia,...</td>\n",
       "      <td>NaN</td>\n",
       "      <td>Anxiety Disorder (Generalized, Social, Phobia,...</td>\n",
       "      <td>Back-end Developer</td>\n",
       "      <td>0</td>\n",
       "      <td>0</td>\n",
       "    </tr>\n",
       "    <tr>\n",
       "      <th>83</th>\n",
       "      <td>NaN</td>\n",
       "      <td>NaN</td>\n",
       "      <td>NaN</td>\n",
       "      <td>Dev Evangelist/Advocate|Back-end Developer</td>\n",
       "      <td>0</td>\n",
       "      <td>0</td>\n",
       "    </tr>\n",
       "    <tr>\n",
       "      <th>84</th>\n",
       "      <td>Anxiety Disorder (Generalized, Social, Phobia,...</td>\n",
       "      <td>NaN</td>\n",
       "      <td>Mood Disorder (Depression, Bipolar Disorder, etc)</td>\n",
       "      <td>One-person shop|Back-end Developer</td>\n",
       "      <td>0</td>\n",
       "      <td>0</td>\n",
       "    </tr>\n",
       "    <tr>\n",
       "      <th>85</th>\n",
       "      <td>NaN</td>\n",
       "      <td>Anxiety Disorder (Generalized, Social, Phobia,...</td>\n",
       "      <td>NaN</td>\n",
       "      <td>DevOps/SysAdmin|Back-end Developer|Front-end D...</td>\n",
       "      <td>0</td>\n",
       "      <td>0</td>\n",
       "    </tr>\n",
       "    <tr>\n",
       "      <th>86</th>\n",
       "      <td>NaN</td>\n",
       "      <td>Anxiety Disorder (Generalized, Social, Phobia,...</td>\n",
       "      <td>NaN</td>\n",
       "      <td>Back-end Developer|Supervisor/Team Lead</td>\n",
       "      <td>0</td>\n",
       "      <td>0</td>\n",
       "    </tr>\n",
       "    <tr>\n",
       "      <th>87</th>\n",
       "      <td>Anxiety Disorder (Generalized, Social, Phobia,...</td>\n",
       "      <td>NaN</td>\n",
       "      <td>Anxiety Disorder (Generalized, Social, Phobia,...</td>\n",
       "      <td>Back-end Developer</td>\n",
       "      <td>0</td>\n",
       "      <td>0</td>\n",
       "    </tr>\n",
       "    <tr>\n",
       "      <th>88</th>\n",
       "      <td>NaN</td>\n",
       "      <td>Anxiety Disorder (Generalized, Social, Phobia,...</td>\n",
       "      <td>Anxiety Disorder (Generalized, Social, Phobia,...</td>\n",
       "      <td>Front-end Developer|Back-end Developer|Sales|E...</td>\n",
       "      <td>0</td>\n",
       "      <td>0</td>\n",
       "    </tr>\n",
       "    <tr>\n",
       "      <th>89</th>\n",
       "      <td>Anxiety Disorder (Generalized, Social, Phobia,...</td>\n",
       "      <td>NaN</td>\n",
       "      <td>Anxiety Disorder (Generalized, Social, Phobia,...</td>\n",
       "      <td>Back-end Developer</td>\n",
       "      <td>0</td>\n",
       "      <td>0</td>\n",
       "    </tr>\n",
       "    <tr>\n",
       "      <th>90</th>\n",
       "      <td>NaN</td>\n",
       "      <td>NaN</td>\n",
       "      <td>Anxiety Disorder (Generalized, Social, Phobia,...</td>\n",
       "      <td>Other</td>\n",
       "      <td>0</td>\n",
       "      <td>0</td>\n",
       "    </tr>\n",
       "    <tr>\n",
       "      <th>91</th>\n",
       "      <td>NaN</td>\n",
       "      <td>Anxiety Disorder (Generalized, Social, Phobia,...</td>\n",
       "      <td>Anxiety Disorder (Generalized, Social, Phobia,...</td>\n",
       "      <td>Back-end Developer</td>\n",
       "      <td>0</td>\n",
       "      <td>0</td>\n",
       "    </tr>\n",
       "    <tr>\n",
       "      <th>92</th>\n",
       "      <td>Anxiety Disorder (Generalized, Social, Phobia,...</td>\n",
       "      <td>NaN</td>\n",
       "      <td>NaN</td>\n",
       "      <td>Supervisor/Team Lead</td>\n",
       "      <td>0</td>\n",
       "      <td>0</td>\n",
       "    </tr>\n",
       "    <tr>\n",
       "      <th>93</th>\n",
       "      <td>NaN</td>\n",
       "      <td>NaN</td>\n",
       "      <td>NaN</td>\n",
       "      <td>Front-end Developer</td>\n",
       "      <td>0</td>\n",
       "      <td>0</td>\n",
       "    </tr>\n",
       "    <tr>\n",
       "      <th>94</th>\n",
       "      <td>Anxiety Disorder (Generalized, Social, Phobia,...</td>\n",
       "      <td>NaN</td>\n",
       "      <td>Anxiety Disorder (Generalized, Social, Phobia,...</td>\n",
       "      <td>Front-end Developer</td>\n",
       "      <td>0</td>\n",
       "      <td>0</td>\n",
       "    </tr>\n",
       "    <tr>\n",
       "      <th>95</th>\n",
       "      <td>Anxiety Disorder (Generalized, Social, Phobia,...</td>\n",
       "      <td>NaN</td>\n",
       "      <td>Anxiety Disorder (Generalized, Social, Phobia,...</td>\n",
       "      <td>Back-end Developer</td>\n",
       "      <td>0</td>\n",
       "      <td>0</td>\n",
       "    </tr>\n",
       "    <tr>\n",
       "      <th>96</th>\n",
       "      <td>NaN</td>\n",
       "      <td>NaN</td>\n",
       "      <td>NaN</td>\n",
       "      <td>Front-end Developer</td>\n",
       "      <td>0</td>\n",
       "      <td>0</td>\n",
       "    </tr>\n",
       "    <tr>\n",
       "      <th>97</th>\n",
       "      <td>NaN</td>\n",
       "      <td>NaN</td>\n",
       "      <td>NaN</td>\n",
       "      <td>Back-end Developer|DevOps/SysAdmin</td>\n",
       "      <td>0</td>\n",
       "      <td>0</td>\n",
       "    </tr>\n",
       "    <tr>\n",
       "      <th>98</th>\n",
       "      <td>Mood Disorder (Depression, Bipolar Disorder, e...</td>\n",
       "      <td>NaN</td>\n",
       "      <td>NaN</td>\n",
       "      <td>One-person shop|Back-end Developer|Sales|Suppo...</td>\n",
       "      <td>0</td>\n",
       "      <td>0</td>\n",
       "    </tr>\n",
       "    <tr>\n",
       "      <th>99</th>\n",
       "      <td>Mood Disorder (Depression, Bipolar Disorder, e...</td>\n",
       "      <td>NaN</td>\n",
       "      <td>Mood Disorder (Depression, Bipolar Disorder, e...</td>\n",
       "      <td>Back-end Developer</td>\n",
       "      <td>0</td>\n",
       "      <td>1</td>\n",
       "    </tr>\n",
       "  </tbody>\n",
       "</table>\n",
       "<p>100 rows × 6 columns</p>\n",
       "</div>"
      ],
      "text/plain": [
       "                         current_diagnosed_conditions  \\\n",
       "0                                                 NaN   \n",
       "1   Anxiety Disorder (Generalized, Social, Phobia,...   \n",
       "2                                                 NaN   \n",
       "3   Anxiety Disorder (Generalized, Social, Phobia,...   \n",
       "4   Anxiety Disorder (Generalized, Social, Phobia,...   \n",
       "5   Anxiety Disorder (Generalized, Social, Phobia,...   \n",
       "6                                                 NaN   \n",
       "7   Anxiety Disorder (Generalized, Social, Phobia,...   \n",
       "8   Mood Disorder (Depression, Bipolar Disorder, etc)   \n",
       "9   Anxiety Disorder (Generalized, Social, Phobia,...   \n",
       "10  Mood Disorder (Depression, Bipolar Disorder, etc)   \n",
       "11  Anxiety Disorder (Generalized, Social, Phobia,...   \n",
       "12  Mood Disorder (Depression, Bipolar Disorder, etc)   \n",
       "13                                                NaN   \n",
       "14  Anxiety Disorder (Generalized, Social, Phobia,...   \n",
       "15  Mood Disorder (Depression, Bipolar Disorder, etc)   \n",
       "16  Anxiety Disorder (Generalized, Social, Phobia,...   \n",
       "17                                                NaN   \n",
       "18  Personality Disorder (Borderline, Antisocial, ...   \n",
       "19  Anxiety Disorder (Generalized, Social, Phobia,...   \n",
       "20                                                NaN   \n",
       "21                                                NaN   \n",
       "22                                                NaN   \n",
       "23                                                NaN   \n",
       "24                                                NaN   \n",
       "25                                                NaN   \n",
       "26  Mood Disorder (Depression, Bipolar Disorder, etc)   \n",
       "27                                                NaN   \n",
       "28                                                NaN   \n",
       "29  Anxiety Disorder (Generalized, Social, Phobia,...   \n",
       "..                                                ...   \n",
       "70                                                NaN   \n",
       "71                                                NaN   \n",
       "72                                                NaN   \n",
       "73                                                NaN   \n",
       "74                                                NaN   \n",
       "75                                                NaN   \n",
       "76  Personality Disorder (Borderline, Antisocial, ...   \n",
       "77                                                NaN   \n",
       "78                                                NaN   \n",
       "79  Anxiety Disorder (Generalized, Social, Phobia,...   \n",
       "80                                                NaN   \n",
       "81  Anxiety Disorder (Generalized, Social, Phobia,...   \n",
       "82  Anxiety Disorder (Generalized, Social, Phobia,...   \n",
       "83                                                NaN   \n",
       "84  Anxiety Disorder (Generalized, Social, Phobia,...   \n",
       "85                                                NaN   \n",
       "86                                                NaN   \n",
       "87  Anxiety Disorder (Generalized, Social, Phobia,...   \n",
       "88                                                NaN   \n",
       "89  Anxiety Disorder (Generalized, Social, Phobia,...   \n",
       "90                                                NaN   \n",
       "91                                                NaN   \n",
       "92  Anxiety Disorder (Generalized, Social, Phobia,...   \n",
       "93                                                NaN   \n",
       "94  Anxiety Disorder (Generalized, Social, Phobia,...   \n",
       "95  Anxiety Disorder (Generalized, Social, Phobia,...   \n",
       "96                                                NaN   \n",
       "97                                                NaN   \n",
       "98  Mood Disorder (Depression, Bipolar Disorder, e...   \n",
       "99  Mood Disorder (Depression, Bipolar Disorder, e...   \n",
       "\n",
       "                          current_believed_conditions  \\\n",
       "0                                                 NaN   \n",
       "1                                                 NaN   \n",
       "2                                                 NaN   \n",
       "3                                                 NaN   \n",
       "4                                                 NaN   \n",
       "5                                                 NaN   \n",
       "6                                                 NaN   \n",
       "7                                                 NaN   \n",
       "8                                                 NaN   \n",
       "9                                                 NaN   \n",
       "10                                                NaN   \n",
       "11                                                NaN   \n",
       "12                                                NaN   \n",
       "13          Substance Use Disorder|Addictive Disorder   \n",
       "14                                                NaN   \n",
       "15                                                NaN   \n",
       "16                                                NaN   \n",
       "17                                                NaN   \n",
       "18                                                NaN   \n",
       "19                                                NaN   \n",
       "20                                                NaN   \n",
       "21                                                NaN   \n",
       "22                                                NaN   \n",
       "23                                                NaN   \n",
       "24                                                NaN   \n",
       "25                                                NaN   \n",
       "26                                                NaN   \n",
       "27  Anxiety Disorder (Generalized, Social, Phobia,...   \n",
       "28  Anxiety Disorder (Generalized, Social, Phobia,...   \n",
       "29                                                NaN   \n",
       "..                                                ...   \n",
       "70                                                NaN   \n",
       "71                                                NaN   \n",
       "72                                                NaN   \n",
       "73                                                NaN   \n",
       "74  Anxiety Disorder (Generalized, Social, Phobia,...   \n",
       "75                                                NaN   \n",
       "76                                                NaN   \n",
       "77                                                NaN   \n",
       "78                                                NaN   \n",
       "79                                                NaN   \n",
       "80                                                NaN   \n",
       "81                                                NaN   \n",
       "82                                                NaN   \n",
       "83                                                NaN   \n",
       "84                                                NaN   \n",
       "85  Anxiety Disorder (Generalized, Social, Phobia,...   \n",
       "86  Anxiety Disorder (Generalized, Social, Phobia,...   \n",
       "87                                                NaN   \n",
       "88  Anxiety Disorder (Generalized, Social, Phobia,...   \n",
       "89                                                NaN   \n",
       "90                                                NaN   \n",
       "91  Anxiety Disorder (Generalized, Social, Phobia,...   \n",
       "92                                                NaN   \n",
       "93                                                NaN   \n",
       "94                                                NaN   \n",
       "95                                                NaN   \n",
       "96                                                NaN   \n",
       "97                                                NaN   \n",
       "98                                                NaN   \n",
       "99                                                NaN   \n",
       "\n",
       "                               professional_diagnoses  \\\n",
       "0   Anxiety Disorder (Generalized, Social, Phobia,...   \n",
       "1   Anxiety Disorder (Generalized, Social, Phobia,...   \n",
       "2                                                 NaN   \n",
       "3   Anxiety Disorder (Generalized, Social, Phobia,...   \n",
       "4   Anxiety Disorder (Generalized, Social, Phobia,...   \n",
       "5                                                 NaN   \n",
       "6                                                 NaN   \n",
       "7   Anxiety Disorder (Generalized, Social, Phobia,...   \n",
       "8   Mood Disorder (Depression, Bipolar Disorder, etc)   \n",
       "9   Anxiety Disorder (Generalized, Social, Phobia,...   \n",
       "10  Mood Disorder (Depression, Bipolar Disorder, etc)   \n",
       "11  Anxiety Disorder (Generalized, Social, Phobia,...   \n",
       "12  Mood Disorder (Depression, Bipolar Disorder, etc)   \n",
       "13                                                NaN   \n",
       "14  Anxiety Disorder (Generalized, Social, Phobia,...   \n",
       "15  Mood Disorder (Depression, Bipolar Disorder, etc)   \n",
       "16  Anxiety Disorder (Generalized, Social, Phobia,...   \n",
       "17                                                NaN   \n",
       "18  Personality Disorder (Borderline, Antisocial, ...   \n",
       "19  Anxiety Disorder (Generalized, Social, Phobia,...   \n",
       "20                                                NaN   \n",
       "21                                                NaN   \n",
       "22                                                NaN   \n",
       "23  Mood Disorder (Depression, Bipolar Disorder, e...   \n",
       "24                                                NaN   \n",
       "25                                                NaN   \n",
       "26  Mood Disorder (Depression, Bipolar Disorder, etc)   \n",
       "27                                                NaN   \n",
       "28                                                NaN   \n",
       "29  Mood Disorder (Depression, Bipolar Disorder, etc)   \n",
       "..                                                ...   \n",
       "70                                                NaN   \n",
       "71                                                NaN   \n",
       "72                                                NaN   \n",
       "73  Mood Disorder (Depression, Bipolar Disorder, etc)   \n",
       "74                                                NaN   \n",
       "75                                                NaN   \n",
       "76                                                NaN   \n",
       "77                                                NaN   \n",
       "78                                                NaN   \n",
       "79  Anxiety Disorder (Generalized, Social, Phobia,...   \n",
       "80                                                NaN   \n",
       "81                                                NaN   \n",
       "82  Anxiety Disorder (Generalized, Social, Phobia,...   \n",
       "83                                                NaN   \n",
       "84  Mood Disorder (Depression, Bipolar Disorder, etc)   \n",
       "85                                                NaN   \n",
       "86                                                NaN   \n",
       "87  Anxiety Disorder (Generalized, Social, Phobia,...   \n",
       "88  Anxiety Disorder (Generalized, Social, Phobia,...   \n",
       "89  Anxiety Disorder (Generalized, Social, Phobia,...   \n",
       "90  Anxiety Disorder (Generalized, Social, Phobia,...   \n",
       "91  Anxiety Disorder (Generalized, Social, Phobia,...   \n",
       "92                                                NaN   \n",
       "93                                                NaN   \n",
       "94  Anxiety Disorder (Generalized, Social, Phobia,...   \n",
       "95  Anxiety Disorder (Generalized, Social, Phobia,...   \n",
       "96                                                NaN   \n",
       "97                                                NaN   \n",
       "98                                                NaN   \n",
       "99  Mood Disorder (Depression, Bipolar Disorder, e...   \n",
       "\n",
       "                                             position  \\\n",
       "0                                  Back-end Developer   \n",
       "1              Back-end Developer|Front-end Developer   \n",
       "2                                  Back-end Developer   \n",
       "3                                Supervisor/Team Lead   \n",
       "4   Executive Leadership|Supervisor/Team Lead|Dev ...   \n",
       "5   DevOps/SysAdmin|Support|Back-end Developer|Fro...   \n",
       "6                                  Back-end Developer   \n",
       "7          Dev Evangelist/Advocate|Back-end Developer   \n",
       "8          Support|Back-end Developer|One-person shop   \n",
       "9   One-person shop|Front-end Developer|Back-end D...   \n",
       "10                                Front-end Developer   \n",
       "11                               Executive Leadership   \n",
       "12  Supervisor/Team Lead|Dev Evangelist/Advocate|B...   \n",
       "13  DevOps/SysAdmin|Back-end Developer|Front-end D...   \n",
       "14                                           Designer   \n",
       "15                         Other|Executive Leadership   \n",
       "16                                Front-end Developer   \n",
       "17                                 Back-end Developer   \n",
       "18                                    One-person shop   \n",
       "19             Back-end Developer|Front-end Developer   \n",
       "20                                 Back-end Developer   \n",
       "21                                              Other   \n",
       "22                                 Back-end Developer   \n",
       "23                                 Back-end Developer   \n",
       "24                               Supervisor/Team Lead   \n",
       "25    Supervisor/Team Lead|Support|Back-end Developer   \n",
       "26  Supervisor/Team Lead|DevOps/SysAdmin|Back-end ...   \n",
       "27                                 Back-end Developer   \n",
       "28                                              Other   \n",
       "29  Other|Supervisor/Team Lead|Support|Back-end De...   \n",
       "..                                                ...   \n",
       "70                                 Back-end Developer   \n",
       "71                                            Support   \n",
       "72  Executive Leadership|Supervisor/Team Lead|Back...   \n",
       "73             Front-end Developer|Back-end Developer   \n",
       "74  Supervisor/Team Lead|DevOps/SysAdmin|Back-end ...   \n",
       "75  Front-end Developer|Back-end Developer|DevOps/...   \n",
       "76                                 Back-end Developer   \n",
       "77                                Front-end Developer   \n",
       "78                                Front-end Developer   \n",
       "79  Supervisor/Team Lead|Dev Evangelist/Advocate|B...   \n",
       "80                 Back-end Developer|DevOps/SysAdmin   \n",
       "81                                 Back-end Developer   \n",
       "82                                 Back-end Developer   \n",
       "83         Dev Evangelist/Advocate|Back-end Developer   \n",
       "84                 One-person shop|Back-end Developer   \n",
       "85  DevOps/SysAdmin|Back-end Developer|Front-end D...   \n",
       "86            Back-end Developer|Supervisor/Team Lead   \n",
       "87                                 Back-end Developer   \n",
       "88  Front-end Developer|Back-end Developer|Sales|E...   \n",
       "89                                 Back-end Developer   \n",
       "90                                              Other   \n",
       "91                                 Back-end Developer   \n",
       "92                               Supervisor/Team Lead   \n",
       "93                                Front-end Developer   \n",
       "94                                Front-end Developer   \n",
       "95                                 Back-end Developer   \n",
       "96                                Front-end Developer   \n",
       "97                 Back-end Developer|DevOps/SysAdmin   \n",
       "98  One-person shop|Back-end Developer|Sales|Suppo...   \n",
       "99                                 Back-end Developer   \n",
       "\n",
       "    choice_Addictive Disorder  choice_Obsessive-Compulsive Disorder  \n",
       "0                           0                                     0  \n",
       "1                           0                                     0  \n",
       "2                           0                                     0  \n",
       "3                           0                                     0  \n",
       "4                           0                                     0  \n",
       "5                           0                                     0  \n",
       "6                           0                                     0  \n",
       "7                           0                                     0  \n",
       "8                           0                                     0  \n",
       "9                           0                                     0  \n",
       "10                          0                                     0  \n",
       "11                          0                                     0  \n",
       "12                          0                                     0  \n",
       "13                          0                                     0  \n",
       "14                          0                                     1  \n",
       "15                          0                                     0  \n",
       "16                          0                                     0  \n",
       "17                          0                                     0  \n",
       "18                          0                                     0  \n",
       "19                          0                                     0  \n",
       "20                          0                                     0  \n",
       "21                          0                                     0  \n",
       "22                          0                                     0  \n",
       "23                          0                                     0  \n",
       "24                          0                                     0  \n",
       "25                          0                                     0  \n",
       "26                          0                                     0  \n",
       "27                          0                                     0  \n",
       "28                          0                                     0  \n",
       "29                          0                                     0  \n",
       "..                        ...                                   ...  \n",
       "70                          0                                     0  \n",
       "71                          0                                     0  \n",
       "72                          0                                     0  \n",
       "73                          0                                     0  \n",
       "74                          0                                     0  \n",
       "75                          0                                     0  \n",
       "76                          0                                     0  \n",
       "77                          0                                     0  \n",
       "78                          0                                     0  \n",
       "79                          0                                     0  \n",
       "80                          0                                     0  \n",
       "81                          0                                     0  \n",
       "82                          0                                     0  \n",
       "83                          0                                     0  \n",
       "84                          0                                     0  \n",
       "85                          0                                     0  \n",
       "86                          0                                     0  \n",
       "87                          0                                     0  \n",
       "88                          0                                     0  \n",
       "89                          0                                     0  \n",
       "90                          0                                     0  \n",
       "91                          0                                     0  \n",
       "92                          0                                     0  \n",
       "93                          0                                     0  \n",
       "94                          0                                     0  \n",
       "95                          0                                     0  \n",
       "96                          0                                     0  \n",
       "97                          0                                     0  \n",
       "98                          0                                     0  \n",
       "99                          0                                     1  \n",
       "\n",
       "[100 rows x 6 columns]"
      ]
     },
     "execution_count": 82,
     "metadata": {},
     "output_type": "execute_result"
    }
   ],
   "source": [
    "a\n"
   ]
  },
  {
   "cell_type": "code",
   "execution_count": 83,
   "metadata": {
    "collapsed": false
   },
   "outputs": [
    {
     "data": {
      "text/plain": [
       "<matplotlib.axes._subplots.AxesSubplot at 0x1112f5690>"
      ]
     },
     "execution_count": 83,
     "metadata": {},
     "output_type": "execute_result"
    },
    {
     "data": {
      "image/png": "[encoded data removed]",
      "text/plain": [
       "<matplotlib.figure.Figure at 0x110e5c0d0>"
      ]
     },
     "metadata": {},
     "output_type": "display_data"
    }
   ],
   "source": [
    "# df16.groupby('age')['mental_health_consequence'].describe()[30.0]\n",
    "\n",
    "df16.groupby('age').size().plot(kind='bar')\n",
    "# quantiles\n"
   ]
  },
  {
   "cell_type": "code",
   "execution_count": 84,
   "metadata": {
    "collapsed": false
   },
   "outputs": [
    {
     "data": {
      "text/plain": [
       "'Obsessive-Compulsive Disorder|Eating Disorder (Anorexia, Bulimia, etc)|Mood Disorder (Depression, Bipolar Disorder, etc)|Anxiety Disorder (Generalized, Social, Phobia, etc)'"
      ]
     },
     "execution_count": 84,
     "metadata": {},
     "output_type": "execute_result"
    }
   ],
   "source": [
    "cs = df16[cdc].tail(1)[1432]\n",
    "cs"
   ]
  },
  {
   "cell_type": "code",
   "execution_count": 85,
   "metadata": {
    "collapsed": true
   },
   "outputs": [],
   "source": [
    "import re"
   ]
  },
  {
   "cell_type": "code",
   "execution_count": 86,
   "metadata": {
    "collapsed": true
   },
   "outputs": [],
   "source": [
    "def conditions_from_str(fullstr, cset):\n",
    "    for c in cset:\n",
    "        if c in fullstr:\n",
    "            print c"
   ]
  },
  {
   "cell_type": "code",
   "execution_count": 87,
   "metadata": {
    "collapsed": false
   },
   "outputs": [
    {
     "name": "stdout",
     "output_type": "stream",
     "text": [
      "Anxiety Disorder (Generalized, Social, Phobia, etc)\n",
      "Mood Disorder (Depression, Bipolar Disorder, etc)\n",
      "Obsessive-Compulsive Disorder\n",
      "Eating Disorder (Anorexia, Bulimia, etc)\n"
     ]
    }
   ],
   "source": [
    "conditions_from_str(cs, survey_opts)"
   ]
  },
  {
   "cell_type": "code",
   "execution_count": 88,
   "metadata": {
    "collapsed": false
   },
   "outputs": [
    {
     "data": {
      "text/html": [
       "<div>\n",
       "<table border=\"1\" class=\"dataframe\">\n",
       "  <thead>\n",
       "    <tr style=\"text-align: right;\">\n",
       "      <th></th>\n",
       "      <th>self_employed</th>\n",
       "      <th>num_employees</th>\n",
       "      <th>tech_company</th>\n",
       "      <th>tech_role</th>\n",
       "      <th>benefits</th>\n",
       "      <th>care_options</th>\n",
       "      <th>wellness_program</th>\n",
       "      <th>seek_help</th>\n",
       "      <th>anonymity</th>\n",
       "      <th>leave</th>\n",
       "      <th>...</th>\n",
       "      <th>gender</th>\n",
       "      <th>live_in_country</th>\n",
       "      <th>live_in_state</th>\n",
       "      <th>work_in_country</th>\n",
       "      <th>work_in_state</th>\n",
       "      <th>position</th>\n",
       "      <th>remote_work</th>\n",
       "      <th>gender_category</th>\n",
       "      <th>state</th>\n",
       "      <th>country</th>\n",
       "    </tr>\n",
       "  </thead>\n",
       "  <tbody>\n",
       "    <tr>\n",
       "      <th>0</th>\n",
       "      <td>0</td>\n",
       "      <td>26-100</td>\n",
       "      <td>1.0</td>\n",
       "      <td>NaN</td>\n",
       "      <td>doesnt_apply</td>\n",
       "      <td>NaN</td>\n",
       "      <td>no</td>\n",
       "      <td>no</td>\n",
       "      <td>dont_know</td>\n",
       "      <td>very_easy</td>\n",
       "      <td>...</td>\n",
       "      <td>Male</td>\n",
       "      <td>united_kingdom</td>\n",
       "      <td>NaN</td>\n",
       "      <td>united_kingdom</td>\n",
       "      <td>NaN</td>\n",
       "      <td>Back-end Developer</td>\n",
       "      <td>sometimes</td>\n",
       "      <td>male</td>\n",
       "      <td>NaN</td>\n",
       "      <td>United Kingdom</td>\n",
       "    </tr>\n",
       "  </tbody>\n",
       "</table>\n",
       "<p>1 rows × 66 columns</p>\n",
       "</div>"
      ],
      "text/plain": [
       "   self_employed num_employees  tech_company  tech_role      benefits  \\\n",
       "0              0        26-100           1.0        NaN  doesnt_apply   \n",
       "\n",
       "  care_options wellness_program seek_help  anonymity      leave  \\\n",
       "0          NaN               no        no  dont_know  very_easy   \n",
       "\n",
       "        ...       gender live_in_country live_in_state work_in_country  \\\n",
       "0       ...         Male  united_kingdom           NaN  united_kingdom   \n",
       "\n",
       "  work_in_state            position  remote_work gender_category state  \\\n",
       "0           NaN  Back-end Developer    sometimes            male   NaN   \n",
       "\n",
       "          country  \n",
       "0  United Kingdom  \n",
       "\n",
       "[1 rows x 66 columns]"
      ]
     },
     "execution_count": 88,
     "metadata": {},
     "output_type": "execute_result"
    }
   ],
   "source": [
    "df16.ix[0:0]"
   ]
  },
  {
   "cell_type": "code",
   "execution_count": 89,
   "metadata": {
    "collapsed": false,
    "scrolled": true
   },
   "outputs": [
    {
     "data": {
      "text/html": [
       "<div>\n",
       "<table border=\"1\" class=\"dataframe\">\n",
       "  <thead>\n",
       "    <tr style=\"text-align: right;\">\n",
       "      <th></th>\n",
       "      <th>current_diagnosed_conditions</th>\n",
       "      <th>current_believed_conditions</th>\n",
       "      <th>professional_diagnoses</th>\n",
       "    </tr>\n",
       "  </thead>\n",
       "  <tbody>\n",
       "    <tr>\n",
       "      <th>0</th>\n",
       "      <td>NaN</td>\n",
       "      <td>NaN</td>\n",
       "      <td>Anxiety Disorder (Generalized, Social, Phobia,...</td>\n",
       "    </tr>\n",
       "    <tr>\n",
       "      <th>1</th>\n",
       "      <td>Anxiety Disorder (Generalized, Social, Phobia,...</td>\n",
       "      <td>NaN</td>\n",
       "      <td>Anxiety Disorder (Generalized, Social, Phobia,...</td>\n",
       "    </tr>\n",
       "    <tr>\n",
       "      <th>2</th>\n",
       "      <td>NaN</td>\n",
       "      <td>NaN</td>\n",
       "      <td>NaN</td>\n",
       "    </tr>\n",
       "  </tbody>\n",
       "</table>\n",
       "</div>"
      ],
      "text/plain": [
       "                        current_diagnosed_conditions  \\\n",
       "0                                                NaN   \n",
       "1  Anxiety Disorder (Generalized, Social, Phobia,...   \n",
       "2                                                NaN   \n",
       "\n",
       "  current_believed_conditions  \\\n",
       "0                         NaN   \n",
       "1                         NaN   \n",
       "2                         NaN   \n",
       "\n",
       "                              professional_diagnoses  \n",
       "0  Anxiety Disorder (Generalized, Social, Phobia,...  \n",
       "1  Anxiety Disorder (Generalized, Social, Phobia,...  \n",
       "2                                                NaN  "
      ]
     },
     "execution_count": 89,
     "metadata": {},
     "output_type": "execute_result"
    }
   ],
   "source": [
    "b = df16[[cdc,cbc,pdc]].head(3).copy()\n",
    "b"
   ]
  },
  {
   "cell_type": "code",
   "execution_count": 90,
   "metadata": {
    "collapsed": false
   },
   "outputs": [],
   "source": [
    "# col_question_map"
   ]
  },
  {
   "cell_type": "code",
   "execution_count": 91,
   "metadata": {
    "collapsed": false
   },
   "outputs": [
    {
     "name": "stdout",
     "output_type": "stream",
     "text": [
      "Do you currently have a mental health disorder?\n",
      "If yes, what condition(s) have you been diagnosed with?\n",
      "If maybe, what condition(s) do you believe you have?\n",
      "\n",
      "Have you been diagnosed with a mental health condition by a medical professional?\n",
      "If so, what condition(s) were you diagnosed with?\n"
     ]
    }
   ],
   "source": [
    "print col_question_map['current_disorder']\n",
    "print col_question_map['current_diagnosed_conditions']\n",
    "print col_question_map[cbc]\n",
    "print\n",
    "print col_question_map['professional_diagnosed']\n",
    "print col_question_map['professional_diagnoses']\n"
   ]
  },
  {
   "cell_type": "code",
   "execution_count": 92,
   "metadata": {
    "collapsed": false
   },
   "outputs": [
    {
     "data": {
      "text/html": [
       "<div>\n",
       "<table border=\"1\" class=\"dataframe\">\n",
       "  <thead>\n",
       "    <tr style=\"text-align: right;\">\n",
       "      <th></th>\n",
       "      <th>current_diagnosed_conditions</th>\n",
       "      <th>current_believed_conditions</th>\n",
       "      <th>professional_diagnoses</th>\n",
       "    </tr>\n",
       "  </thead>\n",
       "  <tbody>\n",
       "    <tr>\n",
       "      <th>0</th>\n",
       "      <td>NaN</td>\n",
       "      <td>NaN</td>\n",
       "      <td>Anxiety Disorder (Generalized, Social, Phobia,...</td>\n",
       "    </tr>\n",
       "    <tr>\n",
       "      <th>1</th>\n",
       "      <td>Anxiety Disorder (Generalized, Social, Phobia,...</td>\n",
       "      <td>NaN</td>\n",
       "      <td>Anxiety Disorder (Generalized, Social, Phobia,...</td>\n",
       "    </tr>\n",
       "    <tr>\n",
       "      <th>2</th>\n",
       "      <td>NaN</td>\n",
       "      <td>NaN</td>\n",
       "      <td>NaN</td>\n",
       "    </tr>\n",
       "  </tbody>\n",
       "</table>\n",
       "</div>"
      ],
      "text/plain": [
       "                        current_diagnosed_conditions  \\\n",
       "0                                                NaN   \n",
       "1  Anxiety Disorder (Generalized, Social, Phobia,...   \n",
       "2                                                NaN   \n",
       "\n",
       "  current_believed_conditions  \\\n",
       "0                         NaN   \n",
       "1                         NaN   \n",
       "2                         NaN   \n",
       "\n",
       "                              professional_diagnoses  \n",
       "0  Anxiety Disorder (Generalized, Social, Phobia,...  \n",
       "1  Anxiety Disorder (Generalized, Social, Phobia,...  \n",
       "2                                                NaN  "
      ]
     },
     "execution_count": 92,
     "metadata": {},
     "output_type": "execute_result"
    }
   ],
   "source": [
    "# split column string on |\n",
    "# map each segment to a column name or other based on condition in string\n",
    "def condition_list(cstring):\n",
    "    clist = cstring.split('|')\n",
    "    return clist\n",
    "\n",
    "\n",
    "def get_category_for_segment(segstr):\n",
    "    condition_map = {\n",
    "        'addict': 'addictive_disorder',\n",
    "        'anxi': 'anxiety_disorder',\n",
    "        'deficit disorder': 'add',\n",
    "        'add': 'add',\n",
    "        'hyperactivity': 'adhd',\n",
    "        'adhd': 'adhd',\n",
    "        'dissociative': 'dissociative_disorder',\n",
    "        'eating': 'eating_disorder',\n",
    "        'mood': 'mood_disorder',\n",
    "        'depress': 'mood_disorder',\n",
    "        'bipolar': 'mood_disorder',\n",
    "        'obsess': 'ocd',\n",
    "        'personality': 'personality_disorder',\n",
    "        'traumatic': 'ptsd',\n",
    "        'stress disorder': 'ptsd',\n",
    "        'ptsd': 'ptsd',\n",
    "        'psychot': 'psychotic_disorder',\n",
    "        'schiz': 'psychotic_disorder',\n",
    "        'stress response': 'stress_response_syndromes',\n",
    "        'substance': 'substance_use_disorder',\n",
    "        'asperg': 'autism_spectrum',\n",
    "        'autism': 'autism_spectrum',\n",
    "        'pdd': 'pdd_nos',\n",
    "        'pervasive': 'pdd_nos'\n",
    "    }\n",
    "    for k in condition_map:\n",
    "        if k in segstr.lower():\n",
    "            return condition_map[k]\n",
    "    print segstr.lower()\n",
    "    return 'other'\n",
    "    \n",
    "# def set_choice_cols_in_df(data, choice_set, col):\n",
    "#     def set_condition_cols_in_row(row):\n",
    "#         if type(row[col]) == float:\n",
    "#             return 0\n",
    "#         elif choice in row[col]:\n",
    "#             return 1\n",
    "#         else:\n",
    "#             return 0\n",
    "        \n",
    "#     new_col = \"choice_\" + choice\n",
    "#     data[new_col] = 0\n",
    "#     data[new_col] = data.apply(set_choice, axis=1)\n",
    "#     return data[new_col] \n",
    "\n",
    "# set_choice_cols_in_df(data, choice_set, col):\n",
    "b\n",
    "    "
   ]
  },
  {
   "cell_type": "code",
   "execution_count": 93,
   "metadata": {
    "collapsed": false
   },
   "outputs": [
    {
     "data": {
      "text/plain": [
       "'Obsessive-Compulsive Disorder|Eating Disorder (Anorexia, Bulimia, etc)|Mood Disorder (Depression, Bipolar Disorder, etc)|Anxiety Disorder (Generalized, Social, Phobia, etc)'"
      ]
     },
     "execution_count": 93,
     "metadata": {},
     "output_type": "execute_result"
    }
   ],
   "source": [
    "cs"
   ]
  },
  {
   "cell_type": "code",
   "execution_count": 94,
   "metadata": {
    "collapsed": false
   },
   "outputs": [],
   "source": [
    "css = condition_list(cs)\n",
    "css.append('autism')\n",
    "css.append('pants')"
   ]
  },
  {
   "cell_type": "code",
   "execution_count": 95,
   "metadata": {
    "collapsed": false
   },
   "outputs": [
    {
     "data": {
      "text/plain": [
       "'mood_disorder'"
      ]
     },
     "execution_count": 95,
     "metadata": {},
     "output_type": "execute_result"
    }
   ],
   "source": [
    "cats = get_category_for_segment(css[2])\n",
    "cats"
   ]
  },
  {
   "cell_type": "code",
   "execution_count": 96,
   "metadata": {
    "collapsed": false
   },
   "outputs": [
    {
     "name": "stdout",
     "output_type": "stream",
     "text": [
      "autism_spectrum\n",
      "pants\n",
      "other\n"
     ]
    }
   ],
   "source": [
    "print get_category_for_segment(css[4])\n",
    "print get_category_for_segment(css[5])"
   ]
  },
  {
   "cell_type": "code",
   "execution_count": null,
   "metadata": {
    "collapsed": false
   },
   "outputs": [],
   "source": []
  },
  {
   "cell_type": "code",
   "execution_count": null,
   "metadata": {
    "collapsed": true
   },
   "outputs": [],
   "source": []
  },
  {
   "cell_type": "code",
   "execution_count": 97,
   "metadata": {
    "collapsed": false
   },
   "outputs": [
    {
     "data": {
      "text/plain": [
       "{'age': 'What is your age?',\n",
       " 'anonymity': 'Is your anonymity protected if you choose to take advantage of mental health or substance abuse treatment resources provided by your employer?',\n",
       " 'benefits': 'Does your employer provide mental health benefits as part of healthcare coverage?',\n",
       " 'care_options': 'Do you know the options for mental health care available under your employer-provided coverage?',\n",
       " 'coworkers': 'Would you feel comfortable discussing a mental health disorder with your coworkers?',\n",
       " 'current_believed_conditions': 'If maybe, what condition(s) do you believe you have?',\n",
       " 'current_diagnosed_conditions': 'If yes, what condition(s) have you been diagnosed with?',\n",
       " 'current_disorder': 'Do you currently have a mental health disorder?',\n",
       " 'family_history': 'Do you have a family history of mental illness?',\n",
       " 'friends_family': 'How willing would you be to share with friends and family that you have a mental illness?',\n",
       " 'gender': 'What is your gender?',\n",
       " 'hurt_career': 'Do you feel that being identified as a person with a mental health issue would hurt your career?',\n",
       " 'insurance': 'Do you have medical coverage (private insurance or state-provided) which includes treatment of \\xc2\\xa0mental health issues?',\n",
       " 'know_resources': 'Do you know local or online resources to seek help for a mental health disorder?',\n",
       " 'leave': 'If a mental health issue prompted you to request a medical leave from work, asking for that leave would be:',\n",
       " 'live_in_country': 'What country do you live in?',\n",
       " 'live_in_state': 'What US state or territory do you live in?',\n",
       " 'mental_health_consequence': 'Do you think that discussing a mental health disorder with your employer would have negative consequences?',\n",
       " 'mental_health_interview': 'Would you bring up a mental health issue with a potential employer in an interview?',\n",
       " 'mental_health_interview_comment': 'Why or why not?.1',\n",
       " 'mental_vs_physical': 'Do you feel that your employer takes mental health as seriously as physical health?',\n",
       " 'num_employees': 'How many employees does your company or organization have?',\n",
       " 'obs_consequence': 'Have you heard of or observed negative consequences for co-workers who have been open about mental health issues in your workplace?',\n",
       " 'obs_negative_response': 'Have you observed or experienced an unsupportive or badly handled response to a mental health issue in your current or previous workplace?',\n",
       " 'past_disorder': 'Have you had a mental health disorder in the past?',\n",
       " 'percent_time_impacted': 'If yes, what percentage of your work time (time performing primary or secondary job functions) is affected by a mental health issue?',\n",
       " 'phys_health_consequence': 'Do you think that discussing a physical health issue with your employer would have negative consequences?',\n",
       " 'phys_health_interview': 'Would you be willing to bring up a physical health issue with a potential employer in an interview?',\n",
       " 'phys_health_interview_comment': 'Why or why not?',\n",
       " 'position': 'Which of the following best describes your work position?',\n",
       " 'prev_anonymity': 'Was your anonymity protected if you chose to take advantage of mental health or substance abuse treatment resources with previous employers?',\n",
       " 'prev_benefits': 'Have your previous employers provided mental health benefits?',\n",
       " 'prev_care_options': 'Were you aware of the options for mental health care provided by your previous employers?',\n",
       " 'prev_coworkers': 'Would you have been willing to discuss a mental health issue with your previous co-workers?',\n",
       " 'prev_employer': 'Do you have previous employers?',\n",
       " 'prev_mental_health_consequence': 'Do you think that discussing a mental health disorder with previous employers would have negative consequences?',\n",
       " 'prev_mental_vs_physical': 'Did you feel that your previous employers took mental health as seriously as physical health?',\n",
       " 'prev_obs_consequence': 'Did you hear of or observe negative consequences for co-workers with mental health issues in your previous workplaces?',\n",
       " 'prev_phys_health_consequence': 'Do you think that discussing a physical health issue with previous employers would have negative consequences?',\n",
       " 'prev_seek_help': 'Did your previous employers provide resources to learn more about mental health issues and how to seek help?',\n",
       " 'prev_supervisor': 'Would you have been willing to discuss a mental health issue with your direct supervisor(s)?',\n",
       " 'prev_wellness_program': 'Did your previous employers ever formally discuss mental health (as part of a wellness campaign or other official communication)?',\n",
       " 'productivity_impacted': 'Do you believe your productivity is ever affected by a mental health issue?',\n",
       " 'professional_diagnosed': 'Have you been diagnosed with a mental health condition by a medical professional?',\n",
       " 'professional_diagnoses': 'If so, what condition(s) were you diagnosed with?',\n",
       " 'reluctant_due_to_obs': 'Have your observations of how another individual who discussed a mental health disorder made you less likely to reveal a mental health issue yourself in your current workplace?',\n",
       " 'remote_work': 'Do you work remotely?',\n",
       " 'revealed_contacts': 'If you have been diagnosed or treated for a mental health disorder, do you ever reveal this to clients or business contacts?',\n",
       " 'revealed_contacts_consequence': 'If you have revealed a mental health issue to a client or business contact, do you believe this has impacted you negatively?',\n",
       " 'revealed_coworkers': 'If you have been diagnosed or treated for a mental health disorder, do you ever reveal this to coworkers or employees?',\n",
       " 'revealed_coworkers_consequence': 'If you have revealed a mental health issue to a coworker or employee, do you believe this has impacted you negatively?',\n",
       " 'seek_help': 'Does your employer offer resources to learn more about mental health concerns and options for seeking help?',\n",
       " 'self_employed': 'Are you self-employed?',\n",
       " 'supervisor': 'Would you feel comfortable discussing a mental health disorder with your direct supervisor(s)?',\n",
       " 'tech_company': 'Is your employer primarily a tech company/organization?',\n",
       " 'tech_role': 'Is your primary role within your company related to tech/IT?',\n",
       " 'treatment': 'Have you ever sought treatment for a mental health issue from a mental health professional?',\n",
       " 'viewed_negatively': 'Do you think that team members/co-workers would view you more negatively if they knew you suffered from a mental health issue?',\n",
       " 'wellness_program': 'Has your employer ever formally discussed mental health (for example, as part of a wellness campaign or other official communication)?',\n",
       " 'work_in_country': 'What country do you work in?',\n",
       " 'work_in_state': 'What US state or territory do you work in?',\n",
       " 'work_interfere_treated': 'If you have a mental health issue, do you feel that it interferes with your work when being treated effectively?',\n",
       " 'work_interfere_untreated': 'If you have a mental health issue, do you feel that it interferes with your work when NOT being treated effectively?'}"
      ]
     },
     "execution_count": 97,
     "metadata": {},
     "output_type": "execute_result"
    }
   ],
   "source": [
    "col_question_map\n"
   ]
  },
  {
   "cell_type": "code",
   "execution_count": null,
   "metadata": {
    "collapsed": true
   },
   "outputs": [],
   "source": []
  },
  {
   "cell_type": "code",
   "execution_count": null,
   "metadata": {
    "collapsed": true
   },
   "outputs": [],
   "source": []
  },
  {
   "cell_type": "code",
   "execution_count": null,
   "metadata": {
    "collapsed": true
   },
   "outputs": [],
   "source": []
  }
 ],
 "metadata": {
  "kernelspec": {
   "display_name": "Python 2",
   "language": "python",
   "name": "python2"
  },
  "language_info": {
   "codemirror_mode": {
    "name": "ipython",
    "version": 2
   },
   "file_extension": ".py",
   "mimetype": "text/x-python",
   "name": "python",
   "nbconvert_exporter": "python",
   "pygments_lexer": "ipython2",
   "version": "2.7.13"
  }
 },
 "nbformat": 4,
 "nbformat_minor": 0
}
