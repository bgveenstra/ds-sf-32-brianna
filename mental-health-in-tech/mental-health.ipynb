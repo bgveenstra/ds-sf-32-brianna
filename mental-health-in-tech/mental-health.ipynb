{
 "cells": [
  {
   "cell_type": "markdown",
   "metadata": {},
   "source": [
    "# Mental Health in Tech Project\n",
    "\n",
    "## Data Sets\n",
    "\n",
    "[OSMI Survey on Mental Health in the Tech Workplace in 2014](https://www.kaggle.com/osmi/mental-health-in-tech-survey) \n",
    "\n",
    "[\"Ongoing\" OSMI survey from 2016](https://data.world/kittybot/osmi-mental-health-tech-2016)\n",
    "\n",
    "\n",
    "## Questions\n",
    "\n",
    "What factors are most signficant in influencing whether or not a person believes disclosing a mental health issue would have negative consequences?\n",
    "\n",
    "Can we predict, based on publicly available features of a person and company, whether that person is likely to beleive disclosing a mental health issue would be harmful for their career?"
   ]
  },
  {
   "cell_type": "markdown",
   "metadata": {},
   "source": [
    "## Plan"
   ]
  },
  {
   "cell_type": "code",
   "execution_count": 1,
   "metadata": {
    "collapsed": true
   },
   "outputs": [],
   "source": [
    "# clean 2014 data:\n",
    "#   - remove invalid ages  ( < 16, > 80)\n",
    "#   - create gender categories\n",
    "#   - create dictionary to map questions to column names (from original data set)\n",
    "#   - add year column with all 2014s"
   ]
  },
  {
   "cell_type": "code",
   "execution_count": 2,
   "metadata": {
    "collapsed": true
   },
   "outputs": [],
   "source": [
    "# use only US data"
   ]
  },
  {
   "cell_type": "code",
   "execution_count": 3,
   "metadata": {
    "collapsed": false
   },
   "outputs": [],
   "source": [
    "# plot number of responses by age"
   ]
  },
  {
   "cell_type": "code",
   "execution_count": 4,
   "metadata": {
    "collapsed": true
   },
   "outputs": [],
   "source": [
    "# plot frequency of mental health consequences yes/no/maybe by age"
   ]
  },
  {
   "cell_type": "code",
   "execution_count": 5,
   "metadata": {
    "collapsed": true
   },
   "outputs": [],
   "source": [
    "# plot frequency of mental health consequence yes/no/maybe by age groups (quantiles, 4-6 groups)"
   ]
  },
  {
   "cell_type": "code",
   "execution_count": 6,
   "metadata": {
    "collapsed": true
   },
   "outputs": [],
   "source": [
    "################ Logistic Regression"
   ]
  },
  {
   "cell_type": "code",
   "execution_count": 7,
   "metadata": {
    "collapsed": true
   },
   "outputs": [],
   "source": [
    "# logistic regression \n",
    "# - combine mental health consequences (yes and maybe) vs no as boolean categorical Y to predict\n",
    "# - pull out X variables that are public\n",
    "# - created dummies for categorical public X variables"
   ]
  },
  {
   "cell_type": "markdown",
   "metadata": {},
   "source": [
    "## Setup\n",
    "<hr>\n"
   ]
  },
  {
   "cell_type": "code",
   "execution_count": 8,
   "metadata": {
    "collapsed": true
   },
   "outputs": [],
   "source": [
    "import pandas as pd\n",
    "import numpy as np\n",
    "import matplotlib.pyplot as plt\n",
    "%matplotlib inline\n",
    "import seaborn as sns\n",
    "# some plotting colors:\n",
    "y = badass = '#BADA55'\n",
    "m = '#444444'\n",
    "n = 'b'\n",
    "coffee = '#C0FFEE'"
   ]
  },
  {
   "cell_type": "markdown",
   "metadata": {
    "collapsed": true
   },
   "source": [
    "## Import & Initial Data Cleaning: 2014\n",
    "<hr>"
   ]
  },
  {
   "cell_type": "code",
   "execution_count": 9,
   "metadata": {
    "collapsed": false
   },
   "outputs": [
    {
     "name": "stdout",
     "output_type": "stream",
     "text": [
      "(1259, 27)\n"
     ]
    }
   ],
   "source": [
    "df14 = pd.read_csv(\"./datasets/2014/mental-health-in-tech-2014.csv\")\n",
    "print df14.shape\n",
    "# df14.head(3)"
   ]
  },
  {
   "cell_type": "markdown",
   "metadata": {},
   "source": [
    "### Column Names & Corresponding Questions"
   ]
  },
  {
   "cell_type": "code",
   "execution_count": 10,
   "metadata": {
    "collapsed": false
   },
   "outputs": [
    {
     "data": {
      "text/html": [
       "<div>\n",
       "<table border=\"1\" class=\"dataframe\">\n",
       "  <thead>\n",
       "    <tr style=\"text-align: right;\">\n",
       "      <th></th>\n",
       "      <th>timestamp</th>\n",
       "      <th>age</th>\n",
       "      <th>gender</th>\n",
       "      <th>country</th>\n",
       "      <th>state</th>\n",
       "      <th>self_employed</th>\n",
       "      <th>family_history</th>\n",
       "      <th>treatment</th>\n",
       "      <th>work_interfere</th>\n",
       "      <th>num_employees</th>\n",
       "      <th>...</th>\n",
       "      <th>leave</th>\n",
       "      <th>mental_health_consequence</th>\n",
       "      <th>phys_health_consequence</th>\n",
       "      <th>coworkers</th>\n",
       "      <th>supervisor</th>\n",
       "      <th>mental_health_interview</th>\n",
       "      <th>phys_health_interview</th>\n",
       "      <th>mental_vs_physical</th>\n",
       "      <th>obs_consequence</th>\n",
       "      <th>comments</th>\n",
       "    </tr>\n",
       "  </thead>\n",
       "  <tbody>\n",
       "    <tr>\n",
       "      <th>0</th>\n",
       "      <td>2014-08-27 11:29:31</td>\n",
       "      <td>37</td>\n",
       "      <td>Female</td>\n",
       "      <td>United States</td>\n",
       "      <td>IL</td>\n",
       "      <td>NaN</td>\n",
       "      <td>No</td>\n",
       "      <td>Yes</td>\n",
       "      <td>Often</td>\n",
       "      <td>6-25</td>\n",
       "      <td>...</td>\n",
       "      <td>Somewhat easy</td>\n",
       "      <td>No</td>\n",
       "      <td>No</td>\n",
       "      <td>Some of them</td>\n",
       "      <td>Yes</td>\n",
       "      <td>No</td>\n",
       "      <td>Maybe</td>\n",
       "      <td>Yes</td>\n",
       "      <td>No</td>\n",
       "      <td>NaN</td>\n",
       "    </tr>\n",
       "    <tr>\n",
       "      <th>1</th>\n",
       "      <td>2014-08-27 11:29:37</td>\n",
       "      <td>44</td>\n",
       "      <td>M</td>\n",
       "      <td>United States</td>\n",
       "      <td>IN</td>\n",
       "      <td>NaN</td>\n",
       "      <td>No</td>\n",
       "      <td>No</td>\n",
       "      <td>Rarely</td>\n",
       "      <td>More than 1000</td>\n",
       "      <td>...</td>\n",
       "      <td>Don't know</td>\n",
       "      <td>Maybe</td>\n",
       "      <td>No</td>\n",
       "      <td>No</td>\n",
       "      <td>No</td>\n",
       "      <td>No</td>\n",
       "      <td>No</td>\n",
       "      <td>Don't know</td>\n",
       "      <td>No</td>\n",
       "      <td>NaN</td>\n",
       "    </tr>\n",
       "    <tr>\n",
       "      <th>2</th>\n",
       "      <td>2014-08-27 11:29:44</td>\n",
       "      <td>32</td>\n",
       "      <td>Male</td>\n",
       "      <td>Canada</td>\n",
       "      <td>NaN</td>\n",
       "      <td>NaN</td>\n",
       "      <td>No</td>\n",
       "      <td>No</td>\n",
       "      <td>Rarely</td>\n",
       "      <td>6-25</td>\n",
       "      <td>...</td>\n",
       "      <td>Somewhat difficult</td>\n",
       "      <td>No</td>\n",
       "      <td>No</td>\n",
       "      <td>Yes</td>\n",
       "      <td>Yes</td>\n",
       "      <td>Yes</td>\n",
       "      <td>Yes</td>\n",
       "      <td>No</td>\n",
       "      <td>No</td>\n",
       "      <td>NaN</td>\n",
       "    </tr>\n",
       "  </tbody>\n",
       "</table>\n",
       "<p>3 rows × 27 columns</p>\n",
       "</div>"
      ],
      "text/plain": [
       "             timestamp  age  gender        country state self_employed  \\\n",
       "0  2014-08-27 11:29:31   37  Female  United States    IL           NaN   \n",
       "1  2014-08-27 11:29:37   44       M  United States    IN           NaN   \n",
       "2  2014-08-27 11:29:44   32    Male         Canada   NaN           NaN   \n",
       "\n",
       "  family_history treatment work_interfere   num_employees   ...     \\\n",
       "0             No       Yes          Often            6-25   ...      \n",
       "1             No        No         Rarely  More than 1000   ...      \n",
       "2             No        No         Rarely            6-25   ...      \n",
       "\n",
       "                leave mental_health_consequence phys_health_consequence  \\\n",
       "0       Somewhat easy                        No                      No   \n",
       "1          Don't know                     Maybe                      No   \n",
       "2  Somewhat difficult                        No                      No   \n",
       "\n",
       "      coworkers supervisor mental_health_interview phys_health_interview  \\\n",
       "0  Some of them        Yes                      No                 Maybe   \n",
       "1            No         No                      No                    No   \n",
       "2           Yes        Yes                     Yes                   Yes   \n",
       "\n",
       "  mental_vs_physical obs_consequence comments  \n",
       "0                Yes              No      NaN  \n",
       "1         Don't know              No      NaN  \n",
       "2                 No              No      NaN  \n",
       "\n",
       "[3 rows x 27 columns]"
      ]
     },
     "execution_count": 10,
     "metadata": {},
     "output_type": "execute_result"
    }
   ],
   "source": [
    "# standardize columns to have lowercase names\n",
    "df14.rename(columns={'Age': 'age', 'Gender': 'gender', 'Country': 'country', 'Timestamp': 'timestamp'}, inplace=True)\n",
    "# replace no_employees column name\n",
    "df14.rename(columns={'no_employees': 'num_employees'}, inplace=True)\n",
    "df14.head(3)"
   ]
  },
  {
   "cell_type": "code",
   "execution_count": 11,
   "metadata": {
    "collapsed": false,
    "scrolled": true
   },
   "outputs": [],
   "source": [
    "df_original = pd.read_csv(\"./datasets/2014/osmi-mental-health-in-tech-original.csv\")\n",
    "# print df_original.columns   # original questions/fields"
   ]
  },
  {
   "cell_type": "markdown",
   "metadata": {},
   "source": [
    "<details><summary> Click to expand all **original questions/fields** from 2014 </summary>\n",
    "    \n",
    "- Timestamp   \n",
    "- Age  \n",
    "- Gender   \n",
    "- Country  \n",
    "- If you live in the United States, which state or territory do you live in?  \n",
    "- Are you self-employed?  \n",
    "- Do you have a family history of mental illness?  \n",
    "- Have you sought treatment for a mental health condition?  \n",
    "- If you have a mental health condition, do you feel that it interferes with your work?  \n",
    "- How many employees does your company or organization have?  \n",
    "- Do you work remotely (outside of an office) at least 50% of the time?  \n",
    "- Is your employer primarily a tech company/organization?  \n",
    "- Does your employer provide mental health benefits?  \n",
    "- Do you know the options for mental health care your employer provides?  \n",
    "- Has your employer ever discussed mental health as part of an employee wellness program?  \n",
    "- Does your employer provide resources to learn more about mental health issues and how to seek help?  \n",
    "- Is your anonymity protected if you choose to take advantage of mental health or substance abuse treatment resources?  \n",
    "- How easy is it for you to take medical leave for a mental health condition?  \n",
    "- Do you think that discussing a mental health issue with your employer would have negative consequences?  \n",
    "- Do you think that discussing a physical health issue with your employer would have negative consequences?  \n",
    "- Would you be willing to discuss a mental health issue with your coworkers?  \n",
    "- Would you be willing to discuss a mental health issue with your direct supervisor(s)?  \n",
    "- Would you bring up a mental health issue with a potential employer in an interview?  \n",
    "- Would you bring up a physical health issue with a potential employer in an interview?  \n",
    "- Do you feel that your employer takes mental health as seriously as physical health?  \n",
    "- Have you heard of or observed negative consequences for coworkers with mental health conditions in your workplace?  \n",
    "- Any additional notes or comments\n",
    "</details>"
   ]
  },
  {
   "cell_type": "code",
   "execution_count": 12,
   "metadata": {
    "collapsed": false
   },
   "outputs": [
    {
     "data": {
      "text/plain": [
       "'Do you feel that your employer takes mental health as seriously as physical health?'"
      ]
     },
     "execution_count": 12,
     "metadata": {},
     "output_type": "execute_result"
    }
   ],
   "source": [
    "# create reference to look up questions based on column names\n",
    "column_names = df14.columns\n",
    "questions = df_original.columns\n",
    "cq14 = { \n",
    "    column_names[i]: questions[i] for i in range(df_original.shape[1]-1) \n",
    "}\n",
    "\n",
    "# for example:\n",
    "cq14['mental_vs_physical']"
   ]
  },
  {
   "cell_type": "code",
   "execution_count": 13,
   "metadata": {
    "collapsed": true
   },
   "outputs": [],
   "source": [
    "df14.cq = cq14"
   ]
  },
  {
   "cell_type": "markdown",
   "metadata": {},
   "source": [
    "### Invalid and Missing Data"
   ]
  },
  {
   "cell_type": "code",
   "execution_count": 14,
   "metadata": {
    "collapsed": true
   },
   "outputs": [],
   "source": [
    "# helper function to preview a column\n",
    "def preview_col(col, data, index_order=None):\n",
    "    if col in data.cq:\n",
    "        print data.cq[col]\n",
    "    counts = data[col].value_counts(dropna=False)\n",
    "    percents = counts * (100.0/data.shape[0])\n",
    "    df = pd.concat([counts, percents], axis=1)\n",
    "    df.columns = ['count', 'percent']\n",
    "    if (index_order != None):\n",
    "        df = df.reindex(index_order)\n",
    "    return df"
   ]
  },
  {
   "cell_type": "markdown",
   "metadata": {},
   "source": [
    "#### NaN check"
   ]
  },
  {
   "cell_type": "code",
   "execution_count": 15,
   "metadata": {
    "collapsed": false
   },
   "outputs": [],
   "source": [
    "def print_nan_counts(data):\n",
    "    counts = data.count()\n",
    "    numrows = data.shape[0]\n",
    "    for col in data.columns:\n",
    "        if counts[col] != numrows:\n",
    "            print \"{0} has {1} NaNs\".format(col, numrows-counts[col])"
   ]
  },
  {
   "cell_type": "code",
   "execution_count": 16,
   "metadata": {
    "collapsed": false
   },
   "outputs": [
    {
     "name": "stdout",
     "output_type": "stream",
     "text": [
      "state has 515 NaNs\n",
      "self_employed has 18 NaNs\n",
      "work_interfere has 264 NaNs\n",
      "comments has 1095 NaNs\n"
     ]
    }
   ],
   "source": [
    "print_nan_counts(df14)"
   ]
  },
  {
   "cell_type": "code",
   "execution_count": 17,
   "metadata": {
    "collapsed": true
   },
   "outputs": [],
   "source": [
    "df14.dropna(subset=['self_employed'], inplace=True) "
   ]
  },
  {
   "cell_type": "markdown",
   "metadata": {},
   "source": [
    "#### Timestamps\n",
    "\n",
    "Timestamps are time series data. The survey actually spans about 1.5 years, from August 2014 to February 2016.  The vast majority (89.9%) of the survey submissions were collected during August 27-29, 2015. Not really used in this analysis."
   ]
  },
  {
   "cell_type": "code",
   "execution_count": 18,
   "metadata": {
    "collapsed": true
   },
   "outputs": [],
   "source": [
    "df14['timestamp'] = df14['timestamp'].map(pd.to_datetime)"
   ]
  },
  {
   "cell_type": "code",
   "execution_count": 19,
   "metadata": {
    "collapsed": false
   },
   "outputs": [
    {
     "name": "stdout",
     "output_type": "stream",
     "text": [
      "2014-08-27 11:34:53\n",
      "2016-02-01 23:04:31\n"
     ]
    }
   ],
   "source": [
    "first = df14.timestamp.min()\n",
    "print first\n",
    "last = df14.timestamp.max()\n",
    "print last"
   ]
  },
  {
   "cell_type": "code",
   "execution_count": 20,
   "metadata": {
    "collapsed": false
   },
   "outputs": [
    {
     "data": {
      "text/plain": [
       "0.9000805801772764"
      ]
     },
     "execution_count": 20,
     "metadata": {},
     "output_type": "execute_result"
    }
   ],
   "source": [
    "aug14 = df14[(df14['timestamp'].dt.year==2014)]\n",
    "aug14 = aug14[(aug14['timestamp'].dt.month==8)]\n",
    "submit_date_counts = aug14['timestamp'].groupby(aug14['timestamp'].dt.day).count()\n",
    "float(submit_date_counts.sum()) / df14.shape[0]"
   ]
  },
  {
   "cell_type": "code",
   "execution_count": 21,
   "metadata": {
    "collapsed": false
   },
   "outputs": [
    {
     "data": {
      "text/plain": [
       "<matplotlib.text.Text at 0x116f21590>"
      ]
     },
     "execution_count": 21,
     "metadata": {},
     "output_type": "execute_result"
    },
    {
     "data": {
      "image/png": "[encoded data removed]",
      "text/plain": [
       "<matplotlib.figure.Figure at 0x10c9561d0>"
      ]
     },
     "metadata": {},
     "output_type": "display_data"
    }
   ],
   "source": [
    "p = submit_date_counts.plot(kind='bar', title='Survey Submissions by Day in Aug 2014')\n",
    "p.set_xlabel('day in August 2014')\n",
    "p.set_ylabel('number of submissions')"
   ]
  },
  {
   "cell_type": "markdown",
   "metadata": {},
   "source": [
    "#### Invalid Ages\n",
    "\n",
    "This is supposed to be a survey of working adults, so values under 16 and over 80 can be ignored."
   ]
  },
  {
   "cell_type": "code",
   "execution_count": 22,
   "metadata": {
    "collapsed": false,
    "scrolled": true
   },
   "outputs": [],
   "source": [
    "def nan_invalid_ages(data, agemin=16, agemax=80):\n",
    "    data.age = data.age.map(lambda x: np.nan if (x<agemin or x>agemax) else x)"
   ]
  },
  {
   "cell_type": "code",
   "execution_count": 23,
   "metadata": {
    "collapsed": false
   },
   "outputs": [
    {
     "data": {
      "text/plain": [
       "<matplotlib.text.Text at 0x1179f0a50>"
      ]
     },
     "execution_count": 23,
     "metadata": {},
     "output_type": "execute_result"
    },
    {
     "data": {
      "image/png": "[encoded data removed]",
      "text/plain": [
       "<matplotlib.figure.Figure at 0x117911410>"
      ]
     },
     "metadata": {},
     "output_type": "display_data"
    }
   ],
   "source": [
    "nan_invalid_ages(df14)\n",
    "p = df14['age'].value_counts(dropna=False).sort_index().plot(kind='bar')\n",
    "p.set_title('Number of submissions by age')\n",
    "p.set_xlabel('age')\n",
    "p.set_ylabel('number of submissions')"
   ]
  },
  {
   "cell_type": "code",
   "execution_count": 24,
   "metadata": {
    "collapsed": false
   },
   "outputs": [],
   "source": [
    "# df14[np.isnan(df14['age'])]\n",
    "df14.dropna(subset=['age'], inplace=True) "
   ]
  },
  {
   "cell_type": "markdown",
   "metadata": {},
   "source": [
    "#### Gender responses\n",
    "\n",
    "Gender responses are strings entered by the user. To create a more manageable set of variables, I examine all the gender responses and categorize them into `female`, `male`, or `other`. Trans men and women map to `male` and `female` categories, respectively. "
   ]
  },
  {
   "cell_type": "code",
   "execution_count": 25,
   "metadata": {
    "collapsed": true
   },
   "outputs": [],
   "source": [
    "# print df14.gender.unique()"
   ]
  },
  {
   "cell_type": "code",
   "execution_count": 26,
   "metadata": {
    "collapsed": true
   },
   "outputs": [],
   "source": [
    "# categorize gender responses into male, female, other based on response\n",
    "def categorize_gender(gender_response):\n",
    "    if type(gender_response) != str:\n",
    "        return 'other'\n",
    "    gender_response = gender_response.strip().lower()\n",
    "    \n",
    "    male_category_responses = {\n",
    "        'cis male', 'cis man', 'cisdude', 'dude',\n",
    "        \"i'm a man why didn't you make this a drop down question. you should of asked sex? and i would of answered yes please. seriously how much text can this take?\",\n",
    "        'm', 'mail', 'maile', 'make', 'mal', 'male', 'male (cis)', 'male (trans)',\n",
    "        'male (trans, ftm)', 'male.', 'malr', 'man', 'msle', 'm|'\n",
    "    }\n",
    "    \n",
    "    \n",
    "    female_category_responses = {\n",
    "        'cis female', 'cis-female/femme', 'cis-woman', 'cisgender female', 'f', 'fem',\n",
    "        'femail', 'femake', 'female', 'female (cis)', 'female assigned at birth', \n",
    "        'female (props for making this a freeform field, though)', 'female (trans)',\n",
    "        'female/woman', 'fm', 'i identify as female.', 'mtf', 'trans woman', \n",
    "        'trans-female', 'transgender woman', 'transitioned, m2f', 'woman'\n",
    "    }\n",
    "    \n",
    "    if gender_response in male_category_responses:\n",
    "        return 'male'\n",
    "    elif gender_response in female_category_responses:\n",
    "        return 'female'\n",
    "    else:\n",
    "        # print gender_response\n",
    "        return 'other'"
   ]
  },
  {
   "cell_type": "markdown",
   "metadata": {},
   "source": [
    "<details><summary> click to see `gender_response` values mapped to `other` for 2014:</summary>\n",
    "    - male-ish  \n",
    "    - something kinda male?  \n",
    "    - queer/she/they  \n",
    "    - non-binary  \n",
    "    - nah  \n",
    "    - all  \n",
    "    - enby  \n",
    "    - fluid  \n",
    "    - genderqueer  \n",
    "    - androgyne  \n",
    "    - agender  \n",
    "    - guy (-ish) ^_^  \n",
    "    - male leaning androgynous  \n",
    "    - neuter  \n",
    "    - queer  \n",
    "    - a little about you  \n",
    "    - p  \n",
    "    - ostensibly male, unsure what that really means\n",
    "</details>"
   ]
  },
  {
   "cell_type": "code",
   "execution_count": 27,
   "metadata": {
    "collapsed": false
   },
   "outputs": [],
   "source": [
    "df14['gender_category'] = df14.gender.map(categorize_gender)"
   ]
  },
  {
   "cell_type": "code",
   "execution_count": 28,
   "metadata": {
    "collapsed": false
   },
   "outputs": [
    {
     "name": "stdout",
     "output_type": "stream",
     "text": [
      "        count    percent\n",
      "male      972  78.832117\n",
      "female    246  19.951338\n",
      "other      15   1.216545\n"
     ]
    },
    {
     "name": "stderr",
     "output_type": "stream",
     "text": [
      "/Users/bgveenstra/anaconda/lib/python2.7/site-packages/pandas/tools/plotting.py:983: UserWarning: 'colors' is being deprecated. Please use 'color'instead of 'colors'\n",
      "  warnings.warn((\"'colors' is being deprecated. Please use 'color'\"\n"
     ]
    },
    {
     "data": {
      "image/png": "[encoded data removed]",
      "text/plain": [
       "<matplotlib.figure.Figure at 0x1174da950>"
      ]
     },
     "metadata": {},
     "output_type": "display_data"
    }
   ],
   "source": [
    "s = preview_col('gender_category', df14)\n",
    "print s\n",
    "\n",
    "def countplot(summary, col, colors=None):\n",
    "    p = summary['count'].plot(kind='bar', colors=colors) \n",
    "    p.set_title('Number of responses by {0} value'.format(col))\n",
    "    p.set_xlabel(col)\n",
    "    p.set_ylabel('num responses')\n",
    "    \n",
    "def percentplot(summary, col, colors=None):\n",
    "    p = summary['percent'].plot(kind='bar', colors=colors) \n",
    "    p.set_title('Percent of responses by {0} value'.format(col))\n",
    "    p.set_xlabel(col)\n",
    "    p.set_ylabel('percent of responses')\n",
    "    \n",
    "countplot(s, 'gender_category')"
   ]
  },
  {
   "cell_type": "markdown",
   "metadata": {},
   "source": [
    "### Yes/no questions\n",
    "\n",
    "Many of the survey questions are yes/no questions, but the data is currently stored as strings. Convert these to `1` for `Yes` and `0` for `No`."
   ]
  },
  {
   "cell_type": "code",
   "execution_count": 29,
   "metadata": {
    "collapsed": true
   },
   "outputs": [],
   "source": [
    "# change one response from yes/no to 1/0 (or keep response if it's an other)\n",
    "def yes_no_same(response):\n",
    "    if response=='Yes' or response==1:\n",
    "        return 1\n",
    "    elif response=='No' or response==0:\n",
    "        return 0\n",
    "    else:\n",
    "        return response"
   ]
  },
  {
   "cell_type": "code",
   "execution_count": 30,
   "metadata": {
    "collapsed": true
   },
   "outputs": [],
   "source": [
    "# change all yes/no responses in a column to 1/0\n",
    "def yes_no_same_column(data, column_name):\n",
    "    data[column_name] = data[column_name].map(yes_no_same)"
   ]
  },
  {
   "cell_type": "code",
   "execution_count": 31,
   "metadata": {
    "collapsed": false
   },
   "outputs": [
    {
     "name": "stdout",
     "output_type": "stream",
     "text": [
      "self_employed ['Yes' 'No']\n",
      "family_history ['Yes' 'No']\n",
      "treatment ['No' 'Yes']\n",
      "remote_work ['Yes' 'No']\n",
      "tech_company ['Yes' 'No']\n",
      "obs_consequence ['Yes' 'No']\n"
     ]
    }
   ],
   "source": [
    "two_opt_cols = [col for col in df14.columns if len(df14[col].unique())==2]\n",
    "for col in two_opt_cols:\n",
    "    print col, df14[col].unique()"
   ]
  },
  {
   "cell_type": "code",
   "execution_count": 32,
   "metadata": {
    "collapsed": false
   },
   "outputs": [],
   "source": [
    "for col in two_opt_cols:\n",
    "    yes_no_same_column(df14, col)\n",
    "#     print '\\n', col+':', preview_col(col, df14)"
   ]
  },
  {
   "cell_type": "markdown",
   "metadata": {},
   "source": [
    "### Other Categorical Columns\n",
    "\n",
    "Many of the survey questions have yes/no/maybe or other meaningful third choices. \n",
    "\n",
    "There are also categorical columns for state, country, number of employees, how easy it is to take medical leave, and whether a condition interferes with work."
   ]
  },
  {
   "cell_type": "code",
   "execution_count": 33,
   "metadata": {
    "collapsed": true
   },
   "outputs": [],
   "source": [
    "def get_prefix(response):\n",
    "    if type(response) != str:\n",
    "        return response\n",
    "    else:\n",
    "        return response.lower().replace(\"'\", \"\").replace(\" \", \"_\")"
   ]
  },
  {
   "cell_type": "markdown",
   "metadata": {},
   "source": [
    "#### Three-option columns"
   ]
  },
  {
   "cell_type": "code",
   "execution_count": 34,
   "metadata": {
    "collapsed": false
   },
   "outputs": [
    {
     "name": "stdout",
     "output_type": "stream",
     "text": [
      "benefits ['Yes' 'No' \"Don't know\"]\n",
      "care_options ['Not sure' 'No' 'Yes']\n",
      "wellness_program ['Yes' 'No' \"Don't know\"]\n",
      "seek_help [\"Don't know\" 'No' 'Yes']\n",
      "anonymity ['Yes' 'No' \"Don't know\"]\n",
      "mental_health_consequence ['No' 'Maybe' 'Yes']\n",
      "phys_health_consequence ['No' 'Maybe' 'Yes']\n",
      "coworkers ['Yes' 'Some of them' 'No']\n",
      "supervisor ['Yes' 'Some of them' 'No']\n",
      "mental_health_interview ['No' 'Maybe' 'Yes']\n",
      "phys_health_interview ['Yes' 'Maybe' 'No']\n",
      "mental_vs_physical ['Yes' \"Don't know\" 'No']\n",
      "gender_category ['male' 'female' 'other']\n"
     ]
    }
   ],
   "source": [
    "three_opt_cols = [col for col in df14.columns if len(df14[col].unique()) == 3]\n",
    "for col in three_opt_cols:\n",
    "    print col, df14[col].unique()"
   ]
  },
  {
   "cell_type": "code",
   "execution_count": 35,
   "metadata": {
    "collapsed": false
   },
   "outputs": [],
   "source": [
    "for col in three_opt_cols:\n",
    "    df14[col] = df14[col].map(get_prefix)\n",
    "#     print col, df14[col].unique()"
   ]
  },
  {
   "cell_type": "markdown",
   "metadata": {},
   "source": [
    "#### Country & State"
   ]
  },
  {
   "cell_type": "code",
   "execution_count": 36,
   "metadata": {
    "collapsed": false
   },
   "outputs": [
    {
     "name": "stdout",
     "output_type": "stream",
     "text": [
      "Country\n"
     ]
    },
    {
     "data": {
      "image/png": "[encoded data removed]",
      "text/plain": [
       "<matplotlib.figure.Figure at 0x11a1c3210>"
      ]
     },
     "metadata": {},
     "output_type": "display_data"
    }
   ],
   "source": [
    "# print df14['country'].unique()\n",
    "s = preview_col('country', df14)\n",
    "# print s\n",
    "countplot(s, 'country')\n",
    "countries = df14['country'].map(get_prefix)"
   ]
  },
  {
   "cell_type": "code",
   "execution_count": 37,
   "metadata": {
    "collapsed": true
   },
   "outputs": [],
   "source": [
    "# dummy_dfs['country'] = pd.get_dummies(countries)"
   ]
  },
  {
   "cell_type": "code",
   "execution_count": 38,
   "metadata": {
    "collapsed": false
   },
   "outputs": [
    {
     "name": "stdout",
     "output_type": "stream",
     "text": [
      "If you live in the United States, which state or territory do you live in?\n"
     ]
    },
    {
     "data": {
      "image/png": "[encoded data removed]",
      "text/plain": [
       "<matplotlib.figure.Figure at 0x11a45bdd0>"
      ]
     },
     "metadata": {},
     "output_type": "display_data"
    }
   ],
   "source": [
    "# print df14['state'].unique()\n",
    "s = preview_col('state', df14)\n",
    "# print s\n",
    "countplot(s, 'state')"
   ]
  },
  {
   "cell_type": "code",
   "execution_count": 39,
   "metadata": {
    "collapsed": false
   },
   "outputs": [
    {
     "data": {
      "image/png": "[encoded data removed]",
      "text/plain": [
       "<matplotlib.figure.Figure at 0x11a95af50>"
      ]
     },
     "metadata": {},
     "output_type": "display_data"
    }
   ],
   "source": [
    "uss = s.drop(np.nan)\n",
    "countplot(uss, 'state')"
   ]
  },
  {
   "cell_type": "code",
   "execution_count": 40,
   "metadata": {
    "collapsed": true
   },
   "outputs": [],
   "source": [
    "# dummy_dfs['state'] = pd.get_dummies(df14.state, prefix='state', dummy_na=True)"
   ]
  },
  {
   "cell_type": "code",
   "execution_count": null,
   "metadata": {
    "collapsed": true
   },
   "outputs": [],
   "source": []
  },
  {
   "cell_type": "markdown",
   "metadata": {},
   "source": [
    "#### How many employees does your company or organization have?"
   ]
  },
  {
   "cell_type": "code",
   "execution_count": 41,
   "metadata": {
    "collapsed": false
   },
   "outputs": [
    {
     "name": "stdout",
     "output_type": "stream",
     "text": [
      "How many employees does your company or organization have?\n",
      "          count    percent\n",
      "1-5         156  12.652068\n",
      "6-25        283  22.952149\n",
      "26-100      283  22.952149\n",
      "100-500     172  13.949716\n",
      "500-1000     59   4.785077\n",
      "1000+       280  22.708840\n"
     ]
    },
    {
     "data": {
      "image/png": "[encoded data removed]",
      "text/plain": [
       "<matplotlib.figure.Figure at 0x11abbbf90>"
      ]
     },
     "metadata": {},
     "output_type": "display_data"
    }
   ],
   "source": [
    "df14.num_employees = df14.num_employees.map(lambda x: '1000+' if x=='More than 1000' else x)\n",
    "s = preview_col('num_employees', df14, \n",
    "            index_order=['1-5', '6-25', '26-100', '100-500', '500-1000', '1000+'])\n",
    "print s\n",
    "\n",
    "countplot(s, 'num_employees')"
   ]
  },
  {
   "cell_type": "markdown",
   "metadata": {},
   "source": [
    "#### How easy is it for you to take medical leave for a mental health condition?"
   ]
  },
  {
   "cell_type": "code",
   "execution_count": 42,
   "metadata": {
    "collapsed": false
   },
   "outputs": [
    {
     "name": "stdout",
     "output_type": "stream",
     "text": [
      "How easy is it for you to take medical leave for a mental health condition?\n",
      "                    count    percent\n",
      "very_difficult         96   7.785888\n",
      "somewhat_difficult    121   9.813463\n",
      "somewhat_easy         262  21.248986\n",
      "very_easy             202  16.382806\n",
      "dont_know             552  44.768856\n"
     ]
    },
    {
     "data": {
      "image/png": "[encoded data removed]",
      "text/plain": [
       "<matplotlib.figure.Figure at 0x11abbbfd0>"
      ]
     },
     "metadata": {},
     "output_type": "display_data"
    }
   ],
   "source": [
    "df14['leave'] = df14['leave'].map(get_prefix)\n",
    "s = preview_col('leave', df14, \n",
    "                index_order=['very_difficult', 'somewhat_difficult', \n",
    "                             'somewhat_easy', 'very_easy', 'dont_know'\n",
    "                            ]\n",
    "               )\n",
    "print s\n",
    "countplot(s, 'leave')"
   ]
  },
  {
   "cell_type": "markdown",
   "metadata": {},
   "source": [
    "#### If you have a mental health condition, do you feel that it interferes with your work?"
   ]
  },
  {
   "cell_type": "code",
   "execution_count": 43,
   "metadata": {
    "collapsed": false
   },
   "outputs": [
    {
     "name": "stdout",
     "output_type": "stream",
     "text": [
      "If you have a mental health condition, do you feel that it interferes with your work?\n",
      "           count    percent\n",
      "never        206  16.707218\n",
      "rarely       170  13.787510\n",
      "sometimes    457  37.064071\n",
      "often        138  11.192214\n",
      "NaN          262  21.248986\n"
     ]
    },
    {
     "data": {
      "image/png": "[encoded data removed]",
      "text/plain": [
       "<matplotlib.figure.Figure at 0x11a8eaf10>"
      ]
     },
     "metadata": {},
     "output_type": "display_data"
    }
   ],
   "source": [
    "df14['work_interfere'] = df14['work_interfere'].map(get_prefix)\n",
    "s = preview_col('work_interfere', df14, \n",
    "                index_order=['never', 'rarely', 'sometimes', 'often', np.nan]\n",
    "               )\n",
    "print s\n",
    "countplot(s, 'work_interfere')"
   ]
  },
  {
   "cell_type": "code",
   "execution_count": 44,
   "metadata": {
    "collapsed": true
   },
   "outputs": [],
   "source": [
    "def prefix_preview_countplot(col, data, index_order=None):\n",
    "    print col\n",
    "    data[col] = data[col].map(get_prefix)\n",
    "    s = preview_col(col, data, \n",
    "                    index_order=index_order\n",
    "                   )\n",
    "    print s\n",
    "    countplot(s, col)"
   ]
  },
  {
   "cell_type": "code",
   "execution_count": 45,
   "metadata": {
    "collapsed": false
   },
   "outputs": [
    {
     "name": "stdout",
     "output_type": "stream",
     "text": [
      "work_interfere\n",
      "If you have a mental health condition, do you feel that it interferes with your work?\n",
      "           count    percent\n",
      "never        206  16.707218\n",
      "rarely       170  13.787510\n",
      "sometimes    457  37.064071\n",
      "often        138  11.192214\n",
      "NaN          262  21.248986\n"
     ]
    },
    {
     "data": {
      "image/png": "[encoded data removed]",
      "text/plain": [
       "<matplotlib.figure.Figure at 0x11ab38990>"
      ]
     },
     "metadata": {},
     "output_type": "display_data"
    }
   ],
   "source": [
    "prefix_preview_countplot('work_interfere', df14, \n",
    "                index_order=['never', 'rarely', 'sometimes', 'often', np.nan]\n",
    "               )"
   ]
  },
  {
   "cell_type": "markdown",
   "metadata": {},
   "source": [
    "## Checkpoint: Export, Import"
   ]
  },
  {
   "cell_type": "code",
   "execution_count": 46,
   "metadata": {
    "collapsed": true
   },
   "outputs": [],
   "source": [
    "df14['year']=2014\n",
    "df14.to_csv(path_or_buf=\"./datasets/2014/clean-no-dummies-2014.csv\")"
   ]
  },
  {
   "cell_type": "code",
   "execution_count": 47,
   "metadata": {
    "collapsed": false
   },
   "outputs": [],
   "source": [
    "df14 = pd.read_csv('./datasets/2014/clean-no-dummies-2014.csv', index_col=0)\n",
    "df14.cq = cq14"
   ]
  },
  {
   "cell_type": "markdown",
   "metadata": {},
   "source": [
    "## Other Codings for Categorical Variables"
   ]
  },
  {
   "cell_type": "markdown",
   "metadata": {},
   "source": [
    "### Dummy Variables 2014"
   ]
  },
  {
   "cell_type": "code",
   "execution_count": 48,
   "metadata": {
    "collapsed": true
   },
   "outputs": [],
   "source": [
    "# create dictionary to organize dummy data frames throughout\n",
    "ddfs14 = {} # dummy dataframes, 2014\n",
    "df14.dummy_dict = ddfs14"
   ]
  },
  {
   "cell_type": "code",
   "execution_count": 49,
   "metadata": {
    "collapsed": false
   },
   "outputs": [
    {
     "data": {
      "text/html": [
       "<div>\n",
       "<table border=\"1\" class=\"dataframe\">\n",
       "  <thead>\n",
       "    <tr style=\"text-align: right;\">\n",
       "      <th></th>\n",
       "      <th>gender_category_female</th>\n",
       "      <th>gender_category_male</th>\n",
       "      <th>gender_category_other</th>\n",
       "    </tr>\n",
       "  </thead>\n",
       "  <tbody>\n",
       "    <tr>\n",
       "      <th>18</th>\n",
       "      <td>0</td>\n",
       "      <td>1</td>\n",
       "      <td>0</td>\n",
       "    </tr>\n",
       "    <tr>\n",
       "      <th>19</th>\n",
       "      <td>0</td>\n",
       "      <td>1</td>\n",
       "      <td>0</td>\n",
       "    </tr>\n",
       "    <tr>\n",
       "      <th>20</th>\n",
       "      <td>0</td>\n",
       "      <td>1</td>\n",
       "      <td>0</td>\n",
       "    </tr>\n",
       "  </tbody>\n",
       "</table>\n",
       "</div>"
      ],
      "text/plain": [
       "    gender_category_female  gender_category_male  gender_category_other\n",
       "18                       0                     1                      0\n",
       "19                       0                     1                      0\n",
       "20                       0                     1                      0"
      ]
     },
     "execution_count": 49,
     "metadata": {},
     "output_type": "execute_result"
    }
   ],
   "source": [
    "ddfs14['gender_category'] = pd.get_dummies(df14['gender_category'], prefix='gender_category')\n",
    "ddfs14['gender_category'].head(3)"
   ]
  },
  {
   "cell_type": "code",
   "execution_count": 50,
   "metadata": {
    "collapsed": false,
    "scrolled": true
   },
   "outputs": [
    {
     "data": {
      "text/html": [
       "<div>\n",
       "<table border=\"1\" class=\"dataframe\">\n",
       "  <thead>\n",
       "    <tr style=\"text-align: right;\">\n",
       "      <th></th>\n",
       "      <th>state_AL</th>\n",
       "      <th>state_AZ</th>\n",
       "      <th>state_CA</th>\n",
       "      <th>state_CO</th>\n",
       "      <th>state_CT</th>\n",
       "      <th>state_DC</th>\n",
       "      <th>state_FL</th>\n",
       "      <th>state_GA</th>\n",
       "      <th>state_IA</th>\n",
       "      <th>state_ID</th>\n",
       "      <th>...</th>\n",
       "      <th>state_TN</th>\n",
       "      <th>state_TX</th>\n",
       "      <th>state_UT</th>\n",
       "      <th>state_VA</th>\n",
       "      <th>state_VT</th>\n",
       "      <th>state_WA</th>\n",
       "      <th>state_WI</th>\n",
       "      <th>state_WV</th>\n",
       "      <th>state_WY</th>\n",
       "      <th>state_nan</th>\n",
       "    </tr>\n",
       "  </thead>\n",
       "  <tbody>\n",
       "    <tr>\n",
       "      <th>18</th>\n",
       "      <td>0</td>\n",
       "      <td>0</td>\n",
       "      <td>0</td>\n",
       "      <td>0</td>\n",
       "      <td>0</td>\n",
       "      <td>0</td>\n",
       "      <td>0</td>\n",
       "      <td>0</td>\n",
       "      <td>0</td>\n",
       "      <td>0</td>\n",
       "      <td>...</td>\n",
       "      <td>0</td>\n",
       "      <td>0</td>\n",
       "      <td>0</td>\n",
       "      <td>0</td>\n",
       "      <td>0</td>\n",
       "      <td>0</td>\n",
       "      <td>0</td>\n",
       "      <td>0</td>\n",
       "      <td>0</td>\n",
       "      <td>0</td>\n",
       "    </tr>\n",
       "    <tr>\n",
       "      <th>19</th>\n",
       "      <td>0</td>\n",
       "      <td>0</td>\n",
       "      <td>0</td>\n",
       "      <td>0</td>\n",
       "      <td>0</td>\n",
       "      <td>0</td>\n",
       "      <td>0</td>\n",
       "      <td>0</td>\n",
       "      <td>0</td>\n",
       "      <td>0</td>\n",
       "      <td>...</td>\n",
       "      <td>0</td>\n",
       "      <td>0</td>\n",
       "      <td>0</td>\n",
       "      <td>0</td>\n",
       "      <td>0</td>\n",
       "      <td>0</td>\n",
       "      <td>0</td>\n",
       "      <td>0</td>\n",
       "      <td>0</td>\n",
       "      <td>1</td>\n",
       "    </tr>\n",
       "    <tr>\n",
       "      <th>20</th>\n",
       "      <td>0</td>\n",
       "      <td>0</td>\n",
       "      <td>0</td>\n",
       "      <td>0</td>\n",
       "      <td>0</td>\n",
       "      <td>0</td>\n",
       "      <td>0</td>\n",
       "      <td>0</td>\n",
       "      <td>0</td>\n",
       "      <td>0</td>\n",
       "      <td>...</td>\n",
       "      <td>0</td>\n",
       "      <td>0</td>\n",
       "      <td>0</td>\n",
       "      <td>0</td>\n",
       "      <td>0</td>\n",
       "      <td>0</td>\n",
       "      <td>0</td>\n",
       "      <td>0</td>\n",
       "      <td>0</td>\n",
       "      <td>0</td>\n",
       "    </tr>\n",
       "  </tbody>\n",
       "</table>\n",
       "<p>3 rows × 46 columns</p>\n",
       "</div>"
      ],
      "text/plain": [
       "    state_AL  state_AZ  state_CA  state_CO  state_CT  state_DC  state_FL  \\\n",
       "18         0         0         0         0         0         0         0   \n",
       "19         0         0         0         0         0         0         0   \n",
       "20         0         0         0         0         0         0         0   \n",
       "\n",
       "    state_GA  state_IA  state_ID    ...      state_TN  state_TX  state_UT  \\\n",
       "18         0         0         0    ...             0         0         0   \n",
       "19         0         0         0    ...             0         0         0   \n",
       "20         0         0         0    ...             0         0         0   \n",
       "\n",
       "    state_VA  state_VT  state_WA  state_WI  state_WV  state_WY  state_nan  \n",
       "18         0         0         0         0         0         0          0  \n",
       "19         0         0         0         0         0         0          1  \n",
       "20         0         0         0         0         0         0          0  \n",
       "\n",
       "[3 rows x 46 columns]"
      ]
     },
     "execution_count": 50,
     "metadata": {},
     "output_type": "execute_result"
    }
   ],
   "source": [
    "def dummy_head(col, data, dummy_data_dict, use_na=False, prefix=None):\n",
    "    if (prefix == None):\n",
    "        prefix=col\n",
    "    dummy_data_dict[col] = pd.get_dummies(data[col], prefix=prefix, dummy_na=use_na)\n",
    "    return dummy_data_dict[col].head(3)\n",
    "    \n",
    "dummy_head('state', df14, ddfs14, use_na=True)"
   ]
  },
  {
   "cell_type": "code",
   "execution_count": 51,
   "metadata": {
    "collapsed": false
   },
   "outputs": [
    {
     "data": {
      "text/html": [
       "<div>\n",
       "<table border=\"1\" class=\"dataframe\">\n",
       "  <thead>\n",
       "    <tr style=\"text-align: right;\">\n",
       "      <th></th>\n",
       "      <th>country_Australia</th>\n",
       "      <th>country_Austria</th>\n",
       "      <th>country_Belgium</th>\n",
       "      <th>country_Bosnia and Herzegovina</th>\n",
       "      <th>country_Brazil</th>\n",
       "      <th>country_Bulgaria</th>\n",
       "      <th>country_Canada</th>\n",
       "      <th>country_China</th>\n",
       "      <th>country_Colombia</th>\n",
       "      <th>country_Costa Rica</th>\n",
       "      <th>...</th>\n",
       "      <th>country_Slovenia</th>\n",
       "      <th>country_South Africa</th>\n",
       "      <th>country_Spain</th>\n",
       "      <th>country_Sweden</th>\n",
       "      <th>country_Switzerland</th>\n",
       "      <th>country_Thailand</th>\n",
       "      <th>country_United Kingdom</th>\n",
       "      <th>country_United States</th>\n",
       "      <th>country_Uruguay</th>\n",
       "      <th>country_nan</th>\n",
       "    </tr>\n",
       "  </thead>\n",
       "  <tbody>\n",
       "    <tr>\n",
       "      <th>18</th>\n",
       "      <td>0</td>\n",
       "      <td>0</td>\n",
       "      <td>0</td>\n",
       "      <td>0</td>\n",
       "      <td>0</td>\n",
       "      <td>0</td>\n",
       "      <td>0</td>\n",
       "      <td>0</td>\n",
       "      <td>0</td>\n",
       "      <td>0</td>\n",
       "      <td>...</td>\n",
       "      <td>0</td>\n",
       "      <td>0</td>\n",
       "      <td>0</td>\n",
       "      <td>0</td>\n",
       "      <td>0</td>\n",
       "      <td>0</td>\n",
       "      <td>0</td>\n",
       "      <td>1</td>\n",
       "      <td>0</td>\n",
       "      <td>0</td>\n",
       "    </tr>\n",
       "    <tr>\n",
       "      <th>19</th>\n",
       "      <td>0</td>\n",
       "      <td>0</td>\n",
       "      <td>0</td>\n",
       "      <td>0</td>\n",
       "      <td>0</td>\n",
       "      <td>0</td>\n",
       "      <td>0</td>\n",
       "      <td>0</td>\n",
       "      <td>0</td>\n",
       "      <td>0</td>\n",
       "      <td>...</td>\n",
       "      <td>0</td>\n",
       "      <td>0</td>\n",
       "      <td>0</td>\n",
       "      <td>0</td>\n",
       "      <td>0</td>\n",
       "      <td>0</td>\n",
       "      <td>0</td>\n",
       "      <td>0</td>\n",
       "      <td>0</td>\n",
       "      <td>0</td>\n",
       "    </tr>\n",
       "    <tr>\n",
       "      <th>20</th>\n",
       "      <td>0</td>\n",
       "      <td>0</td>\n",
       "      <td>0</td>\n",
       "      <td>0</td>\n",
       "      <td>0</td>\n",
       "      <td>0</td>\n",
       "      <td>0</td>\n",
       "      <td>0</td>\n",
       "      <td>0</td>\n",
       "      <td>0</td>\n",
       "      <td>...</td>\n",
       "      <td>0</td>\n",
       "      <td>0</td>\n",
       "      <td>0</td>\n",
       "      <td>0</td>\n",
       "      <td>0</td>\n",
       "      <td>0</td>\n",
       "      <td>0</td>\n",
       "      <td>1</td>\n",
       "      <td>0</td>\n",
       "      <td>0</td>\n",
       "    </tr>\n",
       "  </tbody>\n",
       "</table>\n",
       "<p>3 rows × 47 columns</p>\n",
       "</div>"
      ],
      "text/plain": [
       "    country_Australia  country_Austria  country_Belgium  \\\n",
       "18                  0                0                0   \n",
       "19                  0                0                0   \n",
       "20                  0                0                0   \n",
       "\n",
       "    country_Bosnia and Herzegovina  country_Brazil  country_Bulgaria  \\\n",
       "18                               0               0                 0   \n",
       "19                               0               0                 0   \n",
       "20                               0               0                 0   \n",
       "\n",
       "    country_Canada  country_China  country_Colombia  country_Costa Rica  \\\n",
       "18               0              0                 0                   0   \n",
       "19               0              0                 0                   0   \n",
       "20               0              0                 0                   0   \n",
       "\n",
       "       ...       country_Slovenia  country_South Africa  country_Spain  \\\n",
       "18     ...                      0                     0              0   \n",
       "19     ...                      0                     0              0   \n",
       "20     ...                      0                     0              0   \n",
       "\n",
       "    country_Sweden  country_Switzerland  country_Thailand  \\\n",
       "18               0                    0                 0   \n",
       "19               0                    0                 0   \n",
       "20               0                    0                 0   \n",
       "\n",
       "    country_United Kingdom  country_United States  country_Uruguay  \\\n",
       "18                       0                      1                0   \n",
       "19                       0                      0                0   \n",
       "20                       0                      1                0   \n",
       "\n",
       "    country_nan  \n",
       "18            0  \n",
       "19            0  \n",
       "20            0  \n",
       "\n",
       "[3 rows x 47 columns]"
      ]
     },
     "execution_count": 51,
     "metadata": {},
     "output_type": "execute_result"
    }
   ],
   "source": [
    "dummy_head('country', df14, ddfs14, use_na=True)"
   ]
  },
  {
   "cell_type": "code",
   "execution_count": 52,
   "metadata": {
    "collapsed": false
   },
   "outputs": [
    {
     "data": {
      "text/html": [
       "<div>\n",
       "<table border=\"1\" class=\"dataframe\">\n",
       "  <thead>\n",
       "    <tr style=\"text-align: right;\">\n",
       "      <th></th>\n",
       "      <th>work_interfere_never</th>\n",
       "      <th>work_interfere_often</th>\n",
       "      <th>work_interfere_rarely</th>\n",
       "      <th>work_interfere_sometimes</th>\n",
       "      <th>work_interfere_nan</th>\n",
       "    </tr>\n",
       "  </thead>\n",
       "  <tbody>\n",
       "    <tr>\n",
       "      <th>18</th>\n",
       "      <td>0</td>\n",
       "      <td>0</td>\n",
       "      <td>0</td>\n",
       "      <td>1</td>\n",
       "      <td>0</td>\n",
       "    </tr>\n",
       "    <tr>\n",
       "      <th>19</th>\n",
       "      <td>0</td>\n",
       "      <td>0</td>\n",
       "      <td>0</td>\n",
       "      <td>0</td>\n",
       "      <td>1</td>\n",
       "    </tr>\n",
       "    <tr>\n",
       "      <th>20</th>\n",
       "      <td>0</td>\n",
       "      <td>0</td>\n",
       "      <td>0</td>\n",
       "      <td>1</td>\n",
       "      <td>0</td>\n",
       "    </tr>\n",
       "  </tbody>\n",
       "</table>\n",
       "</div>"
      ],
      "text/plain": [
       "    work_interfere_never  work_interfere_often  work_interfere_rarely  \\\n",
       "18                     0                     0                      0   \n",
       "19                     0                     0                      0   \n",
       "20                     0                     0                      0   \n",
       "\n",
       "    work_interfere_sometimes  work_interfere_nan  \n",
       "18                         1                   0  \n",
       "19                         0                   1  \n",
       "20                         1                   0  "
      ]
     },
     "execution_count": 52,
     "metadata": {},
     "output_type": "execute_result"
    }
   ],
   "source": [
    "dummy_head('work_interfere', df14, ddfs14, use_na=True)"
   ]
  },
  {
   "cell_type": "code",
   "execution_count": 53,
   "metadata": {
    "collapsed": false
   },
   "outputs": [
    {
     "data": {
      "text/html": [
       "<div>\n",
       "<table border=\"1\" class=\"dataframe\">\n",
       "  <thead>\n",
       "    <tr style=\"text-align: right;\">\n",
       "      <th></th>\n",
       "      <th>num_employees_1-5</th>\n",
       "      <th>num_employees_100-500</th>\n",
       "      <th>num_employees_1000+</th>\n",
       "      <th>num_employees_26-100</th>\n",
       "      <th>num_employees_500-1000</th>\n",
       "      <th>num_employees_6-25</th>\n",
       "    </tr>\n",
       "  </thead>\n",
       "  <tbody>\n",
       "    <tr>\n",
       "      <th>18</th>\n",
       "      <td>1</td>\n",
       "      <td>0</td>\n",
       "      <td>0</td>\n",
       "      <td>0</td>\n",
       "      <td>0</td>\n",
       "      <td>0</td>\n",
       "    </tr>\n",
       "    <tr>\n",
       "      <th>19</th>\n",
       "      <td>0</td>\n",
       "      <td>0</td>\n",
       "      <td>0</td>\n",
       "      <td>0</td>\n",
       "      <td>0</td>\n",
       "      <td>1</td>\n",
       "    </tr>\n",
       "    <tr>\n",
       "      <th>20</th>\n",
       "      <td>0</td>\n",
       "      <td>1</td>\n",
       "      <td>0</td>\n",
       "      <td>0</td>\n",
       "      <td>0</td>\n",
       "      <td>0</td>\n",
       "    </tr>\n",
       "  </tbody>\n",
       "</table>\n",
       "</div>"
      ],
      "text/plain": [
       "    num_employees_1-5  num_employees_100-500  num_employees_1000+  \\\n",
       "18                  1                      0                    0   \n",
       "19                  0                      0                    0   \n",
       "20                  0                      1                    0   \n",
       "\n",
       "    num_employees_26-100  num_employees_500-1000  num_employees_6-25  \n",
       "18                     0                       0                   0  \n",
       "19                     0                       0                   1  \n",
       "20                     0                       0                   0  "
      ]
     },
     "execution_count": 53,
     "metadata": {},
     "output_type": "execute_result"
    }
   ],
   "source": [
    "dummy_head('num_employees', df14, ddfs14)"
   ]
  },
  {
   "cell_type": "code",
   "execution_count": 54,
   "metadata": {
    "collapsed": false
   },
   "outputs": [
    {
     "data": {
      "text/html": [
       "<div>\n",
       "<table border=\"1\" class=\"dataframe\">\n",
       "  <thead>\n",
       "    <tr style=\"text-align: right;\">\n",
       "      <th></th>\n",
       "      <th>leave_dont_know</th>\n",
       "      <th>leave_somewhat_difficult</th>\n",
       "      <th>leave_somewhat_easy</th>\n",
       "      <th>leave_very_difficult</th>\n",
       "      <th>leave_very_easy</th>\n",
       "    </tr>\n",
       "  </thead>\n",
       "  <tbody>\n",
       "    <tr>\n",
       "      <th>18</th>\n",
       "      <td>0</td>\n",
       "      <td>0</td>\n",
       "      <td>0</td>\n",
       "      <td>0</td>\n",
       "      <td>1</td>\n",
       "    </tr>\n",
       "    <tr>\n",
       "      <th>19</th>\n",
       "      <td>0</td>\n",
       "      <td>0</td>\n",
       "      <td>1</td>\n",
       "      <td>0</td>\n",
       "      <td>0</td>\n",
       "    </tr>\n",
       "    <tr>\n",
       "      <th>20</th>\n",
       "      <td>0</td>\n",
       "      <td>1</td>\n",
       "      <td>0</td>\n",
       "      <td>0</td>\n",
       "      <td>0</td>\n",
       "    </tr>\n",
       "  </tbody>\n",
       "</table>\n",
       "</div>"
      ],
      "text/plain": [
       "    leave_dont_know  leave_somewhat_difficult  leave_somewhat_easy  \\\n",
       "18                0                         0                    0   \n",
       "19                0                         0                    1   \n",
       "20                0                         1                    0   \n",
       "\n",
       "    leave_very_difficult  leave_very_easy  \n",
       "18                     0                1  \n",
       "19                     0                0  \n",
       "20                     0                0  "
      ]
     },
     "execution_count": 54,
     "metadata": {},
     "output_type": "execute_result"
    }
   ],
   "source": [
    "dummy_head('leave', df14, ddfs14)"
   ]
  },
  {
   "cell_type": "code",
   "execution_count": 55,
   "metadata": {
    "collapsed": false
   },
   "outputs": [
    {
     "name": "stdout",
     "output_type": "stream",
     "text": [
      "['benefits', 'care_options', 'wellness_program', 'seek_help', 'anonymity', 'mental_health_consequence', 'phys_health_consequence', 'coworkers', 'supervisor', 'mental_health_interview', 'phys_health_interview', 'mental_vs_physical', 'gender_category']\n"
     ]
    }
   ],
   "source": [
    "print three_opt_cols\n",
    "for col in three_opt_cols:\n",
    "    dummy_head(col, df14, ddfs14)"
   ]
  },
  {
   "cell_type": "code",
   "execution_count": 56,
   "metadata": {
    "collapsed": false
   },
   "outputs": [
    {
     "data": {
      "text/plain": [
       "['phys_health_interview',\n",
       " 'care_options',\n",
       " 'mental_vs_physical',\n",
       " 'benefits',\n",
       " 'wellness_program',\n",
       " 'num_employees',\n",
       " 'country',\n",
       " 'seek_help',\n",
       " 'work_interfere',\n",
       " 'leave',\n",
       " 'state',\n",
       " 'gender_category',\n",
       " 'coworkers',\n",
       " 'mental_health_consequence',\n",
       " 'anonymity',\n",
       " 'supervisor',\n",
       " 'mental_health_interview',\n",
       " 'phys_health_consequence']"
      ]
     },
     "execution_count": 56,
     "metadata": {},
     "output_type": "execute_result"
    }
   ],
   "source": [
    "ddfs14.keys()"
   ]
  },
  {
   "cell_type": "code",
   "execution_count": 57,
   "metadata": {
    "collapsed": false
   },
   "outputs": [
    {
     "data": {
      "text/html": [
       "<div>\n",
       "<table border=\"1\" class=\"dataframe\">\n",
       "  <thead>\n",
       "    <tr style=\"text-align: right;\">\n",
       "      <th></th>\n",
       "      <th>phys_health_interview_maybe</th>\n",
       "      <th>phys_health_interview_no</th>\n",
       "      <th>phys_health_interview_yes</th>\n",
       "      <th>care_options_no</th>\n",
       "      <th>care_options_not_sure</th>\n",
       "      <th>care_options_yes</th>\n",
       "      <th>mental_vs_physical_dont_know</th>\n",
       "      <th>mental_vs_physical_no</th>\n",
       "      <th>mental_vs_physical_yes</th>\n",
       "      <th>benefits_dont_know</th>\n",
       "      <th>...</th>\n",
       "      <th>anonymity_yes</th>\n",
       "      <th>supervisor_no</th>\n",
       "      <th>supervisor_some_of_them</th>\n",
       "      <th>supervisor_yes</th>\n",
       "      <th>mental_health_interview_maybe</th>\n",
       "      <th>mental_health_interview_no</th>\n",
       "      <th>mental_health_interview_yes</th>\n",
       "      <th>phys_health_consequence_maybe</th>\n",
       "      <th>phys_health_consequence_no</th>\n",
       "      <th>phys_health_consequence_yes</th>\n",
       "    </tr>\n",
       "  </thead>\n",
       "  <tbody>\n",
       "    <tr>\n",
       "      <th>18</th>\n",
       "      <td>0</td>\n",
       "      <td>0</td>\n",
       "      <td>1</td>\n",
       "      <td>0</td>\n",
       "      <td>1</td>\n",
       "      <td>0</td>\n",
       "      <td>0</td>\n",
       "      <td>0</td>\n",
       "      <td>1</td>\n",
       "      <td>0</td>\n",
       "      <td>...</td>\n",
       "      <td>1</td>\n",
       "      <td>0</td>\n",
       "      <td>0</td>\n",
       "      <td>1</td>\n",
       "      <td>0</td>\n",
       "      <td>1</td>\n",
       "      <td>0</td>\n",
       "      <td>0</td>\n",
       "      <td>1</td>\n",
       "      <td>0</td>\n",
       "    </tr>\n",
       "    <tr>\n",
       "      <th>19</th>\n",
       "      <td>1</td>\n",
       "      <td>0</td>\n",
       "      <td>0</td>\n",
       "      <td>1</td>\n",
       "      <td>0</td>\n",
       "      <td>0</td>\n",
       "      <td>1</td>\n",
       "      <td>0</td>\n",
       "      <td>0</td>\n",
       "      <td>0</td>\n",
       "      <td>...</td>\n",
       "      <td>1</td>\n",
       "      <td>0</td>\n",
       "      <td>1</td>\n",
       "      <td>0</td>\n",
       "      <td>1</td>\n",
       "      <td>0</td>\n",
       "      <td>0</td>\n",
       "      <td>0</td>\n",
       "      <td>1</td>\n",
       "      <td>0</td>\n",
       "    </tr>\n",
       "    <tr>\n",
       "      <th>20</th>\n",
       "      <td>0</td>\n",
       "      <td>1</td>\n",
       "      <td>0</td>\n",
       "      <td>0</td>\n",
       "      <td>0</td>\n",
       "      <td>1</td>\n",
       "      <td>0</td>\n",
       "      <td>1</td>\n",
       "      <td>0</td>\n",
       "      <td>0</td>\n",
       "      <td>...</td>\n",
       "      <td>0</td>\n",
       "      <td>0</td>\n",
       "      <td>1</td>\n",
       "      <td>0</td>\n",
       "      <td>0</td>\n",
       "      <td>1</td>\n",
       "      <td>0</td>\n",
       "      <td>0</td>\n",
       "      <td>1</td>\n",
       "      <td>0</td>\n",
       "    </tr>\n",
       "  </tbody>\n",
       "</table>\n",
       "<p>3 rows × 148 columns</p>\n",
       "</div>"
      ],
      "text/plain": [
       "    phys_health_interview_maybe  phys_health_interview_no  \\\n",
       "18                            0                         0   \n",
       "19                            1                         0   \n",
       "20                            0                         1   \n",
       "\n",
       "    phys_health_interview_yes  care_options_no  care_options_not_sure  \\\n",
       "18                          1                0                      1   \n",
       "19                          0                1                      0   \n",
       "20                          0                0                      0   \n",
       "\n",
       "    care_options_yes  mental_vs_physical_dont_know  mental_vs_physical_no  \\\n",
       "18                 0                             0                      0   \n",
       "19                 0                             1                      0   \n",
       "20                 1                             0                      1   \n",
       "\n",
       "    mental_vs_physical_yes  benefits_dont_know             ...               \\\n",
       "18                       1                   0             ...                \n",
       "19                       0                   0             ...                \n",
       "20                       0                   0             ...                \n",
       "\n",
       "    anonymity_yes  supervisor_no  supervisor_some_of_them  supervisor_yes  \\\n",
       "18              1              0                        0               1   \n",
       "19              1              0                        1               0   \n",
       "20              0              0                        1               0   \n",
       "\n",
       "    mental_health_interview_maybe  mental_health_interview_no  \\\n",
       "18                              0                           1   \n",
       "19                              1                           0   \n",
       "20                              0                           1   \n",
       "\n",
       "    mental_health_interview_yes  phys_health_consequence_maybe  \\\n",
       "18                            0                              0   \n",
       "19                            0                              0   \n",
       "20                            0                              0   \n",
       "\n",
       "    phys_health_consequence_no  phys_health_consequence_yes  \n",
       "18                           1                            0  \n",
       "19                           1                            0  \n",
       "20                           1                            0  \n",
       "\n",
       "[3 rows x 148 columns]"
      ]
     },
     "execution_count": 57,
     "metadata": {},
     "output_type": "execute_result"
    }
   ],
   "source": [
    "df = pd.concat(ddfs14.values(), axis=1)\n",
    "df.head(3)"
   ]
  },
  {
   "cell_type": "markdown",
   "metadata": {},
   "source": [
    "### Numerical Categories 2014"
   ]
  },
  {
   "cell_type": "code",
   "execution_count": 58,
   "metadata": {
    "collapsed": false
   },
   "outputs": [
    {
     "data": {
      "text/plain": [
       "['phys_health_interview',\n",
       " 'care_options',\n",
       " 'mental_vs_physical',\n",
       " 'benefits',\n",
       " 'wellness_program',\n",
       " 'num_employees',\n",
       " 'country',\n",
       " 'seek_help',\n",
       " 'work_interfere',\n",
       " 'leave',\n",
       " 'state',\n",
       " 'gender_category',\n",
       " 'coworkers',\n",
       " 'mental_health_consequence',\n",
       " 'anonymity',\n",
       " 'supervisor',\n",
       " 'mental_health_interview',\n",
       " 'phys_health_consequence']"
      ]
     },
     "execution_count": 58,
     "metadata": {},
     "output_type": "execute_result"
    }
   ],
   "source": [
    "# categorical variables \n",
    "catvars = ddfs14.keys()\n",
    "catvars"
   ]
  },
  {
   "cell_type": "code",
   "execution_count": 59,
   "metadata": {
    "collapsed": true
   },
   "outputs": [],
   "source": [
    "catnum14 = {}\n",
    "df14.catnum = catnum14"
   ]
  },
  {
   "cell_type": "code",
   "execution_count": 60,
   "metadata": {
    "collapsed": false
   },
   "outputs": [],
   "source": [
    "for col in catvars:\n",
    "    u = df14[col].unique()\n",
    "    catnum14[col] = { i: u[i] for i in range(len(u)) }\n",
    "    df14[col+'_category_num'] = df14[col].map(lambda x: u.tolist().index(x))"
   ]
  },
  {
   "cell_type": "code",
   "execution_count": 61,
   "metadata": {
    "collapsed": false
   },
   "outputs": [],
   "source": [
    "# catnum14.keys()\n",
    "# df14.columns.sort_values()"
   ]
  },
  {
   "cell_type": "code",
   "execution_count": 62,
   "metadata": {
    "collapsed": false
   },
   "outputs": [
    {
     "name": "stdout",
     "output_type": "stream",
     "text": [
      "{0: 'not_sure', 1: 'no', 2: 'yes'}\n"
     ]
    }
   ],
   "source": [
    "print catnum14['care_options']"
   ]
  },
  {
   "cell_type": "code",
   "execution_count": 63,
   "metadata": {
    "collapsed": false
   },
   "outputs": [
    {
     "data": {
      "text/plain": [
       "'South Africa'"
      ]
     },
     "execution_count": 63,
     "metadata": {},
     "output_type": "execute_result"
    }
   ],
   "source": [
    "def translate_num(col, num, data=df14):\n",
    "    return data.catnum[col][num]\n",
    "\n",
    "translate_num('country', 18)"
   ]
  },
  {
   "cell_type": "code",
   "execution_count": null,
   "metadata": {
    "collapsed": true
   },
   "outputs": [],
   "source": []
  },
  {
   "cell_type": "code",
   "execution_count": null,
   "metadata": {
    "collapsed": true
   },
   "outputs": [],
   "source": []
  },
  {
   "cell_type": "markdown",
   "metadata": {},
   "source": [
    "## Model"
   ]
  },
  {
   "cell_type": "code",
   "execution_count": 64,
   "metadata": {
    "collapsed": true
   },
   "outputs": [],
   "source": [
    "mhc = 'mental_health_consequence'\n",
    "mhcnum = 'mental_health_consequence_category_num'\n",
    "nmy = ['no', 'maybe', 'yes']"
   ]
  },
  {
   "cell_type": "markdown",
   "metadata": {},
   "source": [
    "### Initial Random Forest Classifier"
   ]
  },
  {
   "cell_type": "code",
   "execution_count": 65,
   "metadata": {
    "collapsed": true
   },
   "outputs": [],
   "source": [
    "from sklearn.ensemble import RandomForestClassifier"
   ]
  },
  {
   "cell_type": "code",
   "execution_count": 66,
   "metadata": {
    "collapsed": false
   },
   "outputs": [
    {
     "name": "stdout",
     "output_type": "stream",
     "text": [
      "Do you think that discussing a mental health issue with your employer would have negative consequences?\n",
      "       count    percent\n",
      "no       476  38.605028\n",
      "maybe    471  38.199513\n",
      "yes      286  23.195458\n"
     ]
    },
    {
     "data": {
      "image/png": "[encoded data removed]",
      "text/plain": [
       "<matplotlib.figure.Figure at 0x11addbc50>"
      ]
     },
     "metadata": {},
     "output_type": "display_data"
    }
   ],
   "source": [
    "s = preview_col(mhc, df14, index_order=nmy)\n",
    "print s\n",
    "countplot(s, mhc, colors=[n,m,y])"
   ]
  },
  {
   "cell_type": "code",
   "execution_count": 67,
   "metadata": {
    "collapsed": false
   },
   "outputs": [
    {
     "name": "stdout",
     "output_type": "stream",
     "text": [
      "{0: 'no', 1: 'maybe', 2: 'yes'}\n"
     ]
    },
    {
     "data": {
      "text/plain": [
       "18    0\n",
       "19    0\n",
       "20    1\n",
       "Name: mental_health_consequence_category_num, dtype: int64"
      ]
     },
     "execution_count": 67,
     "metadata": {},
     "output_type": "execute_result"
    }
   ],
   "source": [
    "total_y = df14[mhcnum].copy()\n",
    "print df14.catnum[mhc]\n",
    "total_y.head(3)"
   ]
  },
  {
   "cell_type": "code",
   "execution_count": 68,
   "metadata": {
    "collapsed": false
   },
   "outputs": [],
   "source": [
    "employer_cols = ['self_employed', 'tech_company', 'num_employees_category_num', 'country_category_num',]\n",
    "person_cols = [ 'gender_category_category_num', 'age']\n",
    "private_cols = ['treatment', 'family_history', 'obs_consequence']\n",
    "X_cols = employer_cols+person_cols+private_cols"
   ]
  },
  {
   "cell_type": "code",
   "execution_count": 69,
   "metadata": {
    "collapsed": false
   },
   "outputs": [
    {
     "data": {
      "text/html": [
       "<div>\n",
       "<table border=\"1\" class=\"dataframe\">\n",
       "  <thead>\n",
       "    <tr style=\"text-align: right;\">\n",
       "      <th></th>\n",
       "      <th>self_employed</th>\n",
       "      <th>tech_company</th>\n",
       "      <th>num_employees_category_num</th>\n",
       "      <th>country_category_num</th>\n",
       "      <th>gender_category_category_num</th>\n",
       "      <th>age</th>\n",
       "      <th>treatment</th>\n",
       "      <th>family_history</th>\n",
       "      <th>obs_consequence</th>\n",
       "    </tr>\n",
       "  </thead>\n",
       "  <tbody>\n",
       "    <tr>\n",
       "      <th>18</th>\n",
       "      <td>1</td>\n",
       "      <td>1</td>\n",
       "      <td>0</td>\n",
       "      <td>0</td>\n",
       "      <td>0</td>\n",
       "      <td>46.0</td>\n",
       "      <td>0</td>\n",
       "      <td>1</td>\n",
       "      <td>1</td>\n",
       "    </tr>\n",
       "    <tr>\n",
       "      <th>19</th>\n",
       "      <td>1</td>\n",
       "      <td>1</td>\n",
       "      <td>1</td>\n",
       "      <td>1</td>\n",
       "      <td>0</td>\n",
       "      <td>36.0</td>\n",
       "      <td>0</td>\n",
       "      <td>1</td>\n",
       "      <td>0</td>\n",
       "    </tr>\n",
       "    <tr>\n",
       "      <th>20</th>\n",
       "      <td>0</td>\n",
       "      <td>1</td>\n",
       "      <td>2</td>\n",
       "      <td>0</td>\n",
       "      <td>0</td>\n",
       "      <td>29.0</td>\n",
       "      <td>1</td>\n",
       "      <td>1</td>\n",
       "      <td>0</td>\n",
       "    </tr>\n",
       "  </tbody>\n",
       "</table>\n",
       "</div>"
      ],
      "text/plain": [
       "    self_employed  tech_company  num_employees_category_num  \\\n",
       "18              1             1                           0   \n",
       "19              1             1                           1   \n",
       "20              0             1                           2   \n",
       "\n",
       "    country_category_num  gender_category_category_num   age  treatment  \\\n",
       "18                     0                             0  46.0          0   \n",
       "19                     1                             0  36.0          0   \n",
       "20                     0                             0  29.0          1   \n",
       "\n",
       "    family_history  obs_consequence  \n",
       "18               1                1  \n",
       "19               1                0  \n",
       "20               1                0  "
      ]
     },
     "execution_count": 69,
     "metadata": {},
     "output_type": "execute_result"
    }
   ],
   "source": [
    "df14.columns\n",
    "total_X = df14[X_cols].copy()\n",
    "total_X.head(3)"
   ]
  },
  {
   "cell_type": "code",
   "execution_count": 70,
   "metadata": {
    "collapsed": false
   },
   "outputs": [
    {
     "data": {
      "text/plain": [
       "RandomForestClassifier(bootstrap=True, class_weight=None, criterion='gini',\n",
       "            max_depth=None, max_features='auto', max_leaf_nodes=None,\n",
       "            min_impurity_split=1e-07, min_samples_leaf=1,\n",
       "            min_samples_split=2, min_weight_fraction_leaf=0.0,\n",
       "            n_estimators=20, n_jobs=1, oob_score=False, random_state=None,\n",
       "            verbose=0, warm_start=False)"
      ]
     },
     "execution_count": 70,
     "metadata": {},
     "output_type": "execute_result"
    }
   ],
   "source": [
    "model = RandomForestClassifier(n_estimators = 20)\n",
    "    \n",
    "model.fit(total_X, total_y)"
   ]
  },
  {
   "cell_type": "code",
   "execution_count": 71,
   "metadata": {
    "collapsed": false
   },
   "outputs": [
    {
     "name": "stdout",
     "output_type": "stream",
     "text": [
      "                       Features  Importance Score\n",
      "5                           age          0.481996\n",
      "3          country_category_num          0.156814\n",
      "2    num_employees_category_num          0.152303\n",
      "4  gender_category_category_num          0.043271\n",
      "7                family_history          0.041724\n",
      "1                  tech_company          0.036073\n",
      "6                     treatment          0.032582\n",
      "8               obs_consequence          0.032153\n",
      "0                 self_employed          0.023085\n"
     ]
    },
    {
     "data": {
      "text/plain": [
       "(0, 1)"
      ]
     },
     "execution_count": 71,
     "metadata": {},
     "output_type": "execute_result"
    },
    {
     "data": {
      "image/png": "[encoded data removed]",
      "text/plain": [
       "<matplotlib.figure.Figure at 0x11b09c8d0>"
      ]
     },
     "metadata": {},
     "output_type": "display_data"
    }
   ],
   "source": [
    "features = total_X.columns\n",
    "feature_importances = model.feature_importances_\n",
    "\n",
    "features_df = pd.DataFrame({'Features': features, 'Importance Score': feature_importances})\n",
    "features_df.sort_values(by='Importance Score', inplace=True, ascending=False)\n",
    "\n",
    "print features_df\n",
    "f = features_df.plot(kind='bar', x='Features')\n",
    "f.set_ylim(0,1)"
   ]
  },
  {
   "cell_type": "markdown",
   "metadata": {},
   "source": [
    "### Mental Health Consequences Boolean Column\n",
    "\n",
    "Adding a column that will have 1 if the respondent answered `yes` or `maybe` for mental health consequence, and 0 if `no`."
   ]
  },
  {
   "cell_type": "code",
   "execution_count": 72,
   "metadata": {
    "collapsed": false,
    "scrolled": false
   },
   "outputs": [
    {
     "name": "stdout",
     "output_type": "stream",
     "text": [
      "Do you think that discussing a mental health issue with your employer would have negative consequences?\n"
     ]
    },
    {
     "data": {
      "image/png": "[encoded data removed]",
      "text/plain": [
       "<matplotlib.figure.Figure at 0x11af6d490>"
      ]
     },
     "metadata": {},
     "output_type": "display_data"
    }
   ],
   "source": [
    "badass = '#BADA55'\n",
    "grey = '#444444'\n",
    "red = '#ff3300'\n",
    "bluegrey = '#34598B'\n",
    "yellow = '#ffbb00'\n",
    "orange = '#ff7700'\n",
    "blue = '#567BAD'\n",
    "m = blue\n",
    "y = grey\n",
    "eh = bluegrey\n",
    "n = badass\n",
    "\n",
    "ymn=['yes', 'maybe', 'no']\n",
    "\n",
    "mhc = 'mental_health_consequence'\n",
    "mhcp = preview_col(mhc, df14, index_order=ymn)\n",
    "percentplot(mhcp, mhc, colors=[y,m,n])"
   ]
  },
  {
   "cell_type": "code",
   "execution_count": 73,
   "metadata": {
    "collapsed": true
   },
   "outputs": [],
   "source": [
    "# from multiclass mental health consequence column, get a boolean column\n",
    "mhc2 = 'mental_health_yes_maybe'"
   ]
  },
  {
   "cell_type": "code",
   "execution_count": 74,
   "metadata": {
    "collapsed": false
   },
   "outputs": [],
   "source": [
    "def ymn_response(ynmstr):\n",
    "    if ynmstr == 'no':\n",
    "        return 0\n",
    "    else:\n",
    "        return 1\n",
    "df14['mental_health_yes_maybe'] = df14['mental_health_consequence'].map(lambda(x): ymn_response(x))"
   ]
  },
  {
   "cell_type": "code",
   "execution_count": 75,
   "metadata": {
    "collapsed": false
   },
   "outputs": [
    {
     "data": {
      "text/plain": [
       "1    757\n",
       "0    476\n",
       "Name: mental_health_yes_maybe, dtype: int64"
      ]
     },
     "execution_count": 75,
     "metadata": {},
     "output_type": "execute_result"
    }
   ],
   "source": [
    "df14[mhc2].value_counts(dropna=False)"
   ]
  },
  {
   "cell_type": "markdown",
   "metadata": {},
   "source": [
    "### Limit to United States\n",
    "\n",
    "Focus on the US to avoid legal differences among countries. "
   ]
  },
  {
   "cell_type": "code",
   "execution_count": 76,
   "metadata": {
    "collapsed": false
   },
   "outputs": [
    {
     "data": {
      "text/plain": [
       "(735, 48)"
      ]
     },
     "execution_count": 76,
     "metadata": {},
     "output_type": "execute_result"
    }
   ],
   "source": [
    "usdf14 = df14[df14['country']=='United States'].copy()\n",
    "usdf14.cq = df14.cq\n",
    "usdf14.shape"
   ]
  },
  {
   "cell_type": "code",
   "execution_count": 77,
   "metadata": {
    "collapsed": false
   },
   "outputs": [
    {
     "name": "stdout",
     "output_type": "stream",
     "text": [
      "{0: 'no', 1: 'maybe', 2: 'yes'}\n"
     ]
    },
    {
     "data": {
      "text/plain": [
       "18    0\n",
       "20    1\n",
       "21    0\n",
       "Name: mental_health_consequence_category_num, dtype: int64"
      ]
     },
     "execution_count": 77,
     "metadata": {},
     "output_type": "execute_result"
    }
   ],
   "source": [
    "total_y = usdf14[mhcnum].copy()\n",
    "print df14.catnum[mhc]\n",
    "total_y.head(3)"
   ]
  },
  {
   "cell_type": "code",
   "execution_count": 78,
   "metadata": {
    "collapsed": false
   },
   "outputs": [
    {
     "data": {
      "text/html": [
       "<div>\n",
       "<table border=\"1\" class=\"dataframe\">\n",
       "  <thead>\n",
       "    <tr style=\"text-align: right;\">\n",
       "      <th></th>\n",
       "      <th>self_employed</th>\n",
       "      <th>tech_company</th>\n",
       "      <th>num_employees_category_num</th>\n",
       "      <th>country_category_num</th>\n",
       "      <th>gender_category_category_num</th>\n",
       "      <th>age</th>\n",
       "      <th>treatment</th>\n",
       "      <th>family_history</th>\n",
       "      <th>obs_consequence</th>\n",
       "    </tr>\n",
       "  </thead>\n",
       "  <tbody>\n",
       "    <tr>\n",
       "      <th>18</th>\n",
       "      <td>1</td>\n",
       "      <td>1</td>\n",
       "      <td>0</td>\n",
       "      <td>0</td>\n",
       "      <td>0</td>\n",
       "      <td>46.0</td>\n",
       "      <td>0</td>\n",
       "      <td>1</td>\n",
       "      <td>1</td>\n",
       "    </tr>\n",
       "    <tr>\n",
       "      <th>20</th>\n",
       "      <td>0</td>\n",
       "      <td>1</td>\n",
       "      <td>2</td>\n",
       "      <td>0</td>\n",
       "      <td>0</td>\n",
       "      <td>29.0</td>\n",
       "      <td>1</td>\n",
       "      <td>1</td>\n",
       "      <td>0</td>\n",
       "    </tr>\n",
       "    <tr>\n",
       "      <th>21</th>\n",
       "      <td>1</td>\n",
       "      <td>1</td>\n",
       "      <td>0</td>\n",
       "      <td>0</td>\n",
       "      <td>0</td>\n",
       "      <td>31.0</td>\n",
       "      <td>0</td>\n",
       "      <td>0</td>\n",
       "      <td>0</td>\n",
       "    </tr>\n",
       "  </tbody>\n",
       "</table>\n",
       "</div>"
      ],
      "text/plain": [
       "    self_employed  tech_company  num_employees_category_num  \\\n",
       "18              1             1                           0   \n",
       "20              0             1                           2   \n",
       "21              1             1                           0   \n",
       "\n",
       "    country_category_num  gender_category_category_num   age  treatment  \\\n",
       "18                     0                             0  46.0          0   \n",
       "20                     0                             0  29.0          1   \n",
       "21                     0                             0  31.0          0   \n",
       "\n",
       "    family_history  obs_consequence  \n",
       "18               1                1  \n",
       "20               1                0  \n",
       "21               0                0  "
      ]
     },
     "execution_count": 78,
     "metadata": {},
     "output_type": "execute_result"
    }
   ],
   "source": [
    "total_X = usdf14[X_cols].copy()\n",
    "total_X.head(3)"
   ]
  },
  {
   "cell_type": "code",
   "execution_count": 79,
   "metadata": {
    "collapsed": false
   },
   "outputs": [
    {
     "data": {
      "text/plain": [
       "RandomForestClassifier(bootstrap=True, class_weight=None, criterion='gini',\n",
       "            max_depth=None, max_features='auto', max_leaf_nodes=None,\n",
       "            min_impurity_split=1e-07, min_samples_leaf=1,\n",
       "            min_samples_split=2, min_weight_fraction_leaf=0.0,\n",
       "            n_estimators=20, n_jobs=1, oob_score=False, random_state=None,\n",
       "            verbose=0, warm_start=False)"
      ]
     },
     "execution_count": 79,
     "metadata": {},
     "output_type": "execute_result"
    }
   ],
   "source": [
    "usm = RandomForestClassifier(n_estimators = 20)\n",
    "    \n",
    "usm.fit(total_X, total_y)"
   ]
  },
  {
   "cell_type": "code",
   "execution_count": 80,
   "metadata": {
    "collapsed": false
   },
   "outputs": [
    {
     "name": "stdout",
     "output_type": "stream",
     "text": [
      "                       Features  Importance Score\n",
      "5                           age          0.606019\n",
      "2    num_employees_category_num          0.170970\n",
      "7                family_history          0.049348\n",
      "6                     treatment          0.042937\n",
      "4  gender_category_category_num          0.041081\n",
      "1                  tech_company          0.040495\n",
      "8               obs_consequence          0.028500\n",
      "0                 self_employed          0.020651\n",
      "3          country_category_num          0.000000\n"
     ]
    },
    {
     "data": {
      "text/plain": [
       "(0, 1)"
      ]
     },
     "execution_count": 80,
     "metadata": {},
     "output_type": "execute_result"
    },
    {
     "data": {
      "image/png": "[encoded data removed]",
      "text/plain": [
       "<matplotlib.figure.Figure at 0x11aa3ac90>"
      ]
     },
     "metadata": {},
     "output_type": "display_data"
    }
   ],
   "source": [
    "features = total_X.columns\n",
    "feature_importances = usm.feature_importances_\n",
    "\n",
    "features_df = pd.DataFrame({'Features': features, 'Importance Score': feature_importances})\n",
    "features_df.sort_values(by='Importance Score', inplace=True, ascending=False)\n",
    "\n",
    "print features_df\n",
    "f = features_df.plot(kind='bar', x='Features')\n",
    "f.set_ylim(0,1)"
   ]
  },
  {
   "cell_type": "code",
   "execution_count": 81,
   "metadata": {
    "collapsed": false
   },
   "outputs": [
    {
     "name": "stdout",
     "output_type": "stream",
     "text": [
      "All Countries\n",
      "   count    percent\n",
      "1    757  61.394972\n",
      "0    476  38.605028\n"
     ]
    },
    {
     "data": {
      "image/png": "[encoded data removed]",
      "text/plain": [
       "<matplotlib.figure.Figure at 0x11a6d76d0>"
      ]
     },
     "metadata": {},
     "output_type": "display_data"
    }
   ],
   "source": [
    "s = preview_col(mhc2, df14)\n",
    "print 'All Countries'\n",
    "print s\n",
    "\n",
    "percentplot(s, mhc2, colors=[eh, n])"
   ]
  },
  {
   "cell_type": "code",
   "execution_count": 82,
   "metadata": {
    "collapsed": false
   },
   "outputs": [
    {
     "name": "stdout",
     "output_type": "stream",
     "text": [
      "United States only\n",
      "   count    percent\n",
      "1    464  63.129252\n",
      "0    271  36.870748\n"
     ]
    },
    {
     "data": {
      "image/png": "[encoded data removed]",
      "text/plain": [
       "<matplotlib.figure.Figure at 0x11aa6cf10>"
      ]
     },
     "metadata": {},
     "output_type": "display_data"
    }
   ],
   "source": [
    "s = preview_col(mhc2, usdf14)\n",
    "\n",
    "print 'United States only'\n",
    "print s\n",
    "\n",
    "percentplot(s, mhc2, colors=[eh, n])"
   ]
  },
  {
   "cell_type": "markdown",
   "metadata": {},
   "source": [
    "### Investigate age"
   ]
  },
  {
   "cell_type": "code",
   "execution_count": 83,
   "metadata": {
    "collapsed": false
   },
   "outputs": [],
   "source": [
    "# Total data\n",
    "\n",
    "# sns.boxplot(x=mhc, y='age', data=df14)\n",
    "# df14.groupby(mhc)['age'].describe()"
   ]
  },
  {
   "cell_type": "code",
   "execution_count": 84,
   "metadata": {
    "collapsed": false
   },
   "outputs": [
    {
     "data": {
      "text/plain": [
       "mental_health_consequence       \n",
       "maybe                      count    295.000000\n",
       "                           mean      33.383051\n",
       "                           std        7.898961\n",
       "                           min       19.000000\n",
       "                           25%       28.000000\n",
       "                           50%       32.000000\n",
       "                           75%       38.000000\n",
       "                           max       72.000000\n",
       "no                         count    271.000000\n",
       "                           mean      32.501845\n",
       "                           std        7.605005\n",
       "                           min       18.000000\n",
       "                           25%       27.000000\n",
       "                           50%       32.000000\n",
       "                           75%       36.000000\n",
       "                           max       60.000000\n",
       "yes                        count    169.000000\n",
       "                           mean      33.532544\n",
       "                           std        7.372758\n",
       "                           min       18.000000\n",
       "                           25%       28.000000\n",
       "                           50%       33.000000\n",
       "                           75%       39.000000\n",
       "                           max       57.000000\n",
       "Name: age, dtype: float64"
      ]
     },
     "execution_count": 84,
     "metadata": {},
     "output_type": "execute_result"
    },
    {
     "data": {
      "image/png": "[encoded data removed]",
      "text/plain": [
       "<matplotlib.figure.Figure at 0x11addbf10>"
      ]
     },
     "metadata": {},
     "output_type": "display_data"
    }
   ],
   "source": [
    "# US only\n",
    "\n",
    "sns.boxplot(x=mhc, y='age', data=usdf14)\n",
    "usdf14.groupby(mhc)['age'].describe()"
   ]
  },
  {
   "cell_type": "code",
   "execution_count": 85,
   "metadata": {
    "collapsed": false
   },
   "outputs": [],
   "source": [
    "# for r in usdf14[mhc].unique():\n",
    "#     usdf14[usdf14[mhc]==r]['age'].plot.hist(alpha=0.30, label=r, legend=True, bins=15)"
   ]
  },
  {
   "cell_type": "code",
   "execution_count": 86,
   "metadata": {
    "collapsed": false
   },
   "outputs": [
    {
     "data": {
      "text/plain": [
       "<seaborn.axisgrid.FacetGrid at 0x11af8f850>"
      ]
     },
     "execution_count": 86,
     "metadata": {},
     "output_type": "execute_result"
    },
    {
     "data": {
      "image/png": "[encoded data removed]",
      "text/plain": [
       "<matplotlib.figure.Figure at 0x11af8f690>"
      ]
     },
     "metadata": {},
     "output_type": "display_data"
    }
   ],
   "source": [
    "g = sns.FacetGrid(usdf14, col=mhc)  \n",
    "g.map(sns.distplot, 'age')  "
   ]
  },
  {
   "cell_type": "code",
   "execution_count": 87,
   "metadata": {
    "collapsed": false
   },
   "outputs": [
    {
     "data": {
      "text/plain": [
       "<seaborn.axisgrid.FacetGrid at 0x11a838350>"
      ]
     },
     "execution_count": 87,
     "metadata": {},
     "output_type": "execute_result"
    },
    {
     "data": {
      "image/png": "[encoded data removed]",
      "text/plain": [
       "<matplotlib.figure.Figure at 0x11a8409d0>"
      ]
     },
     "metadata": {},
     "output_type": "display_data"
    }
   ],
   "source": [
    "g = sns.FacetGrid(usdf14, col=mhc2)  \n",
    "g.map(sns.distplot, 'age')  "
   ]
  },
  {
   "cell_type": "code",
   "execution_count": 88,
   "metadata": {
    "collapsed": false
   },
   "outputs": [],
   "source": [
    "# sns.swarmplot(y=mhc, x='age', data=usdf14)"
   ]
  },
  {
   "cell_type": "code",
   "execution_count": 89,
   "metadata": {
    "collapsed": true
   },
   "outputs": [],
   "source": [
    "# group by main (col name), and get dataframe \n",
    "# with proportion (percentage) of values for sub (col name)\n",
    "def cat_proportion_in_col(df, main, sub):\n",
    "    d = df[[main, sub]].copy()\n",
    "    count_subs_per_main = d.groupby([main, sub]).size()\n",
    "    percent_subs_per_main = count_subs_per_main.groupby(level=[0]).apply(lambda x: 100*x /  x.sum())\n",
    "    pdf = pd.DataFrame(percent_subs_per_main)\n",
    "    pdf.reset_index(inplace=True)\n",
    "    pdf.rename(columns={0:'percentage'}, inplace=True)\n",
    "    return pdf"
   ]
  },
  {
   "cell_type": "code",
   "execution_count": 94,
   "metadata": {
    "collapsed": false
   },
   "outputs": [],
   "source": [
    "\n",
    "grouped = cat_proportion_in_col(usdf14, mhc2, 'age')\n",
    "# # group who believe there is cause for worry or concern \n",
    "wdf = grouped[grouped[mhc2]==1][['age', 'percentage']]\n",
    "\n",
    "# # no conern group (disclosing diagnosis is safe)\n",
    "nwdf = grouped[grouped[mhc2]==0][['age', 'percentage']]\n",
    "\n"
   ]
  },
  {
   "cell_type": "code",
   "execution_count": 95,
   "metadata": {
    "collapsed": false
   },
   "outputs": [
    {
     "name": "stdout",
     "output_type": "stream",
     "text": [
      "Ttest_indResult(statistic=array([ 1.21143941, -0.53409381]), pvalue=array([ 0.22948037,  0.5948355 ]))\n"
     ]
    }
   ],
   "source": [
    "# perform t-test on 2-dimensional data in the 2 groups \n",
    "# not working as I intend; giving 2 separate metrics\n",
    "from scipy.stats import ttest_ind\n",
    "\n",
    "print ttest_ind(wdf, nwdf)"
   ]
  },
  {
   "cell_type": "code",
   "execution_count": null,
   "metadata": {
    "collapsed": true
   },
   "outputs": [],
   "source": []
  },
  {
   "cell_type": "markdown",
   "metadata": {},
   "source": [
    "### Proportions of Responses"
   ]
  },
  {
   "cell_type": "code",
   "execution_count": 96,
   "metadata": {
    "collapsed": false
   },
   "outputs": [
    {
     "data": {
      "text/html": [
       "<div>\n",
       "<table border=\"1\" class=\"dataframe\">\n",
       "  <thead>\n",
       "    <tr style=\"text-align: right;\">\n",
       "      <th></th>\n",
       "      <th>treatment</th>\n",
       "      <th>mental_health_consequence</th>\n",
       "      <th>percentage</th>\n",
       "    </tr>\n",
       "  </thead>\n",
       "  <tbody>\n",
       "    <tr>\n",
       "      <th>0</th>\n",
       "      <td>0</td>\n",
       "      <td>maybe</td>\n",
       "      <td>36.557377</td>\n",
       "    </tr>\n",
       "    <tr>\n",
       "      <th>1</th>\n",
       "      <td>0</td>\n",
       "      <td>no</td>\n",
       "      <td>44.098361</td>\n",
       "    </tr>\n",
       "    <tr>\n",
       "      <th>2</th>\n",
       "      <td>0</td>\n",
       "      <td>yes</td>\n",
       "      <td>19.344262</td>\n",
       "    </tr>\n",
       "    <tr>\n",
       "      <th>3</th>\n",
       "      <td>1</td>\n",
       "      <td>maybe</td>\n",
       "      <td>39.807384</td>\n",
       "    </tr>\n",
       "    <tr>\n",
       "      <th>4</th>\n",
       "      <td>1</td>\n",
       "      <td>no</td>\n",
       "      <td>33.226324</td>\n",
       "    </tr>\n",
       "    <tr>\n",
       "      <th>5</th>\n",
       "      <td>1</td>\n",
       "      <td>yes</td>\n",
       "      <td>26.966292</td>\n",
       "    </tr>\n",
       "  </tbody>\n",
       "</table>\n",
       "</div>"
      ],
      "text/plain": [
       "   treatment mental_health_consequence  percentage\n",
       "0          0                     maybe   36.557377\n",
       "1          0                        no   44.098361\n",
       "2          0                       yes   19.344262\n",
       "3          1                     maybe   39.807384\n",
       "4          1                        no   33.226324\n",
       "5          1                       yes   26.966292"
      ]
     },
     "execution_count": 96,
     "metadata": {},
     "output_type": "execute_result"
    }
   ],
   "source": [
    "cat_proportion_in_col(df14, 'treatment', mhc)"
   ]
  },
  {
   "cell_type": "code",
   "execution_count": 97,
   "metadata": {
    "collapsed": false
   },
   "outputs": [],
   "source": [
    "def factorplot_percentage(df, main_col, sub_col):\n",
    "    percent_df = cat_proportion_in_col(df, main_col, sub_col)\n",
    "    print percent_df\n",
    "    fg = sns.factorplot(\n",
    "        x=mhc, \n",
    "        y='percentage',\n",
    "        col=main_col,\n",
    "        data=percent_df, \n",
    "        kind='bar',\n",
    "        palette='Set1',\n",
    "        order=['no', 'maybe', 'yes']\n",
    "    )\n",
    "    fg.set_xlabels('')\n",
    "    fg.fig.subplots_adjust(top=0.84)\n",
    "    fg.fig.suptitle('{0} response proportions by {1}'.format(sub_col, main_col))"
   ]
  },
  {
   "cell_type": "code",
   "execution_count": 98,
   "metadata": {
    "collapsed": false
   },
   "outputs": [
    {
     "name": "stdout",
     "output_type": "stream",
     "text": [
      "   treatment mental_health_consequence  percentage\n",
      "0          0                     maybe   38.023952\n",
      "1          0                        no   44.311377\n",
      "2          0                       yes   17.664671\n",
      "3          1                     maybe   41.895262\n",
      "4          1                        no   30.673317\n",
      "5          1                       yes   27.431421\n"
     ]
    },
    {
     "data": {
      "image/png": "[encoded data removed]",
      "text/plain": [
       "<matplotlib.figure.Figure at 0x11ac9bbd0>"
      ]
     },
     "metadata": {},
     "output_type": "display_data"
    }
   ],
   "source": [
    "factorplot_percentage(usdf14, 'treatment', mhc)"
   ]
  },
  {
   "cell_type": "code",
   "execution_count": 99,
   "metadata": {
    "collapsed": false
   },
   "outputs": [
    {
     "name": "stdout",
     "output_type": "stream",
     "text": [
      "   obs_consequence mental_health_consequence  percentage\n",
      "0                0                     maybe   40.586420\n",
      "1                0                        no   39.043210\n",
      "2                0                       yes   20.370370\n",
      "3                1                     maybe   36.781609\n",
      "4                1                        no   20.689655\n",
      "5                1                       yes   42.528736\n"
     ]
    },
    {
     "data": {
      "image/png": "[encoded data removed]",
      "text/plain": [
       "<matplotlib.figure.Figure at 0x11b068410>"
      ]
     },
     "metadata": {},
     "output_type": "display_data"
    }
   ],
   "source": [
    "factorplot_percentage(usdf14, 'obs_consequence', mhc)"
   ]
  },
  {
   "cell_type": "code",
   "execution_count": 100,
   "metadata": {
    "collapsed": false
   },
   "outputs": [
    {
     "name": "stdout",
     "output_type": "stream",
     "text": [
      "   tech_company mental_health_consequence  percentage\n",
      "0             0                     maybe   47.445255\n",
      "1             0                        no   25.547445\n",
      "2             0                       yes   27.007299\n",
      "3             1                     maybe   38.461538\n",
      "4             1                        no   39.464883\n",
      "5             1                       yes   22.073579\n"
     ]
    },
    {
     "data": {
      "image/png": "[encoded data removed]",
      "text/plain": [
       "<matplotlib.figure.Figure at 0x11adc0d90>"
      ]
     },
     "metadata": {},
     "output_type": "display_data"
    }
   ],
   "source": [
    "factorplot_percentage(usdf14,  'tech_company', mhc)"
   ]
  },
  {
   "cell_type": "code",
   "execution_count": 101,
   "metadata": {
    "collapsed": false
   },
   "outputs": [
    {
     "name": "stdout",
     "output_type": "stream",
     "text": [
      "  gender_category mental_health_consequence  percentage\n",
      "0          female                     maybe   44.692737\n",
      "1          female                        no   27.374302\n",
      "2          female                       yes   27.932961\n",
      "3            male                     maybe   38.475499\n",
      "4            male                        no   40.290381\n",
      "5            male                       yes   21.234120\n",
      "6           other                     maybe   60.000000\n",
      "7           other                       yes   40.000000\n"
     ]
    },
    {
     "data": {
      "image/png": "[encoded data removed]",
      "text/plain": [
       "<matplotlib.figure.Figure at 0x11b806850>"
      ]
     },
     "metadata": {},
     "output_type": "display_data"
    }
   ],
   "source": [
    "factorplot_percentage(usdf14,  'gender_category', mhc)"
   ]
  },
  {
   "cell_type": "code",
   "execution_count": 102,
   "metadata": {
    "collapsed": false
   },
   "outputs": [
    {
     "name": "stdout",
     "output_type": "stream",
     "text": [
      "   work_interfere mental_health_consequence  percentage\n",
      "0           never                     maybe   42.622951\n",
      "1           never                        no   40.163934\n",
      "2           never                       yes   17.213115\n",
      "3           often                     maybe   37.974684\n",
      "4           often                        no   25.316456\n",
      "5           often                       yes   36.708861\n",
      "6          rarely                     maybe   40.366972\n",
      "7          rarely                        no   41.284404\n",
      "8          rarely                       yes   18.348624\n",
      "9       sometimes                     maybe   41.696113\n",
      "10      sometimes                        no   29.328622\n",
      "11      sometimes                       yes   28.975265\n"
     ]
    },
    {
     "data": {
      "image/png": "[encoded data removed]",
      "text/plain": [
       "<matplotlib.figure.Figure at 0x11bb06250>"
      ]
     },
     "metadata": {},
     "output_type": "display_data"
    }
   ],
   "source": [
    "wi_df = cat_proportion_in_col(usdf14, 'work_interfere', mhc)\n",
    "print wi_df\n",
    "fg = sns.factorplot(\n",
    "    x=mhc, \n",
    "    y='percentage',\n",
    "    col='work_interfere',\n",
    "    data=wi_df, \n",
    "    kind='bar',\n",
    "    palette='Set1',\n",
    "    order=['no', 'maybe', 'yes']\n",
    ")\n",
    "fg.set_xlabels('')\n",
    "fg.fig.subplots_adjust(top=0.84)\n",
    "# fg.fig.suptitle('{0} response proportions by {1}'.format(mhc, 'work_interfere'))"
   ]
  },
  {
   "cell_type": "code",
   "execution_count": 119,
   "metadata": {
    "collapsed": false
   },
   "outputs": [],
   "source": [
    "# age counts\n",
    "agec = df14['age'].value_counts()\n",
    "agec = agec.sort_index()"
   ]
  },
  {
   "cell_type": "code",
   "execution_count": 123,
   "metadata": {
    "collapsed": false
   },
   "outputs": [],
   "source": [
    "# number of mhc2 \"yes/maybe\" responses for each age\n",
    "agey = df14.groupby('age')[mhc2].sum()\n",
    "# agey[3:30,]"
   ]
  },
  {
   "cell_type": "code",
   "execution_count": 124,
   "metadata": {
    "collapsed": false
   },
   "outputs": [],
   "source": [
    "# percent of 'maybe/yes' mental health consequences responses, for responses between age 21 and 47\n",
    "agep = 100.0 * agey[3:30,]/agec[3:30,]"
   ]
  },
  {
   "cell_type": "code",
   "execution_count": 125,
   "metadata": {
    "collapsed": false
   },
   "outputs": [
    {
     "data": {
      "text/plain": [
       "<matplotlib.axes._subplots.AxesSubplot at 0x11babed10>"
      ]
     },
     "execution_count": 125,
     "metadata": {},
     "output_type": "execute_result"
    },
    {
     "data": {
      "image/png": "[encoded data removed]",
      "text/plain": [
       "<matplotlib.figure.Figure at 0x11be56310>"
      ]
     },
     "metadata": {},
     "output_type": "display_data"
    }
   ],
   "source": [
    "agep.plot(kind='bar')"
   ]
  },
  {
   "cell_type": "code",
   "execution_count": 144,
   "metadata": {
    "collapsed": false
   },
   "outputs": [],
   "source": [
    "# nr = usdf14.shape[0]\n",
    "# quintiles = [int(nr*.2*i) for i in range(1, 6)]"
   ]
  },
  {
   "cell_type": "code",
   "execution_count": 164,
   "metadata": {
    "collapsed": false
   },
   "outputs": [
    {
     "name": "stdout",
     "output_type": "stream",
     "text": [
      "20.4865707544 43.5134292456\n"
     ]
    }
   ],
   "source": [
    "std = usdf14['age'].std()\n",
    "med = usdf14['age'].median()\n",
    "down15 = med - 1.5*std\n",
    "up15 = med + 1.5*std\n",
    "print down15, up15"
   ]
  },
  {
   "cell_type": "code",
   "execution_count": 146,
   "metadata": {
    "collapsed": false
   },
   "outputs": [
    {
     "data": {
      "text/plain": [
       "<matplotlib.axes._subplots.AxesSubplot at 0x11c2dd7d0>"
      ]
     },
     "execution_count": 146,
     "metadata": {},
     "output_type": "execute_result"
    },
    {
     "data": {
      "image/png": "[encoded data removed]",
      "text/plain": [
       "<matplotlib.figure.Figure at 0x11c486cd0>"
      ]
     },
     "metadata": {},
     "output_type": "display_data"
    }
   ],
   "source": [
    "sns.boxplot( y='age', data=usdf14, showmeans=True, width=0.1, palette='Set2', orient='h')"
   ]
  },
  {
   "cell_type": "code",
   "execution_count": 157,
   "metadata": {
    "collapsed": false
   },
   "outputs": [
    {
     "data": {
      "text/plain": [
       "<matplotlib.axes._subplots.AxesSubplot at 0x11714b150>"
      ]
     },
     "execution_count": 157,
     "metadata": {},
     "output_type": "execute_result"
    },
    {
     "data": {
      "image/png": "[encoded data removed]",
      "text/plain": [
       "<matplotlib.figure.Figure at 0x11d633e50>"
      ]
     },
     "metadata": {},
     "output_type": "display_data"
    }
   ],
   "source": [
    "\n",
    "sns.boxplot(x='age', y=mhc, data=usdf14, showmeans=True, palette='Set2', orient='h', width=0.3)\n"
   ]
  },
  {
   "cell_type": "code",
   "execution_count": 159,
   "metadata": {
    "collapsed": false
   },
   "outputs": [
    {
     "data": {
      "image/png": "[encoded data removed]",
      "text/plain": [
       "<matplotlib.figure.Figure at 0x11db34d90>"
      ]
     },
     "metadata": {},
     "output_type": "display_data"
    }
   ],
   "source": [
    "\n",
    "sns.boxplot(y=mhc2, x='age', data=df14, palette='Set3', width=0.3, showmeans=True, orient='h');"
   ]
  },
  {
   "cell_type": "code",
   "execution_count": 161,
   "metadata": {
    "collapsed": false
   },
   "outputs": [
    {
     "data": {
      "text/plain": [
       "<matplotlib.axes._subplots.AxesSubplot at 0x11e5b8810>"
      ]
     },
     "execution_count": 161,
     "metadata": {},
     "output_type": "execute_result"
    },
    {
     "data": {
      "image/png": "[encoded data removed]",
      "text/plain": [
       "<matplotlib.figure.Figure at 0x11d6285d0>"
      ]
     },
     "metadata": {},
     "output_type": "display_data"
    }
   ],
   "source": [
    "\n",
    "usdf14['age'].plot.hist()"
   ]
  },
  {
   "cell_type": "code",
   "execution_count": 116,
   "metadata": {
    "collapsed": false
   },
   "outputs": [
    {
     "data": {
      "image/png": "[encoded data removed]",
      "text/plain": [
       "<matplotlib.figure.Figure at 0x11be67490>"
      ]
     },
     "metadata": {},
     "output_type": "display_data"
    }
   ],
   "source": [
    "for r in df14[mhc].unique():\n",
    "    df14[df14[mhc]==r]['age'].plot.hist(alpha=0.30, label=r, legend=True)"
   ]
  },
  {
   "cell_type": "code",
   "execution_count": 117,
   "metadata": {
    "collapsed": false
   },
   "outputs": [
    {
     "data": {
      "image/png": "[encoded data removed]",
      "text/plain": [
       "<matplotlib.figure.Figure at 0x11ba3a090>"
      ]
     },
     "metadata": {},
     "output_type": "display_data"
    }
   ],
   "source": [
    "for r in df14[mhc2].unique():\n",
    "    df14[df14[mhc2]==r]['age'].plot.hist(alpha=0.30, label=r, legend=True)"
   ]
  },
  {
   "cell_type": "code",
   "execution_count": 118,
   "metadata": {
    "collapsed": false
   },
   "outputs": [
    {
     "name": "stdout",
     "output_type": "stream",
     "text": [
      "(1.9426878882307723, 0.052281658104509313, 1231.0)\n"
     ]
    }
   ],
   "source": [
    "import statsmodels.stats.weightstats as sm\n",
    "from scipy.stats import ttest_ind\n",
    "\n",
    "mhc21age = df14[df14[mhc2]==1]['age'].dropna()\n",
    "mhc20age = df14[df14[mhc2]==0]['age'].dropna()\n",
    "\n",
    "# t-test, p-value, degrees of freedom\n",
    "print sm.ttest_ind(mhc21age, mhc20age)\n",
    "\n",
    "\n",
    "# print ttest_ind(mhc21age, mhc20age)"
   ]
  },
  {
   "cell_type": "code",
   "execution_count": null,
   "metadata": {
    "collapsed": false
   },
   "outputs": [],
   "source": [
    "nd = df14[df14[mhc]=='no']['age'].dropna()\n",
    "yd = df14[df14[mhc]=='yes']['age'].dropna()\n",
    "md = df14[df14[mhc]=='maybe']['age'].dropna()\n",
    "\n",
    "print sm.ttest_ind(nd, yd)\n",
    "print sm.ttest_ind(nd, md)\n",
    "print sm.ttest_ind(md, yd)"
   ]
  },
  {
   "cell_type": "code",
   "execution_count": null,
   "metadata": {
    "collapsed": false
   },
   "outputs": [],
   "source": [
    "gc = 'gender_category'\n",
    "fc = df14[df14[gc]=='female'][mhc2].dropna()\n",
    "mc = df14[df14[gc]=='male'][mhc2].dropna()\n",
    "oc = df14[df14[gc]=='other'][mhc2].dropna()\n",
    "\n",
    "\n",
    "print sm.ttest_ind(fc, mc)\n",
    "print sm.ttest_ind(fc, oc)\n",
    "print sm.ttest_ind(oc, mc)\n"
   ]
  },
  {
   "cell_type": "code",
   "execution_count": null,
   "metadata": {
    "collapsed": false
   },
   "outputs": [],
   "source": [
    "for r in df14[gc].unique():\n",
    "    df14[df14[gc]==r][mhc2].plot.hist(alpha=0.30, label=r, legend=True)"
   ]
  },
  {
   "cell_type": "code",
   "execution_count": null,
   "metadata": {
    "collapsed": false
   },
   "outputs": [],
   "source": [
    "obc = 'obs_consequence'\n",
    "obc1 = df14[df14[obc]==1][mhc2].dropna()\n",
    "obc0 = df14[df14[obc]==0][mhc2].dropna()\n",
    "print sm.ttest_ind(obc1, obc0)\n",
    "for r in df14[obc].unique():\n",
    "    df14[df14[obc]==r][mhc2].plot.hist(alpha=0.30, label=r, legend=True)"
   ]
  },
  {
   "cell_type": "code",
   "execution_count": null,
   "metadata": {
    "collapsed": false
   },
   "outputs": [],
   "source": [
    "def onetwothree(x):\n",
    "    if x=='yes':\n",
    "        return 2\n",
    "    elif x=='maybe':\n",
    "        return 1\n",
    "    else:\n",
    "        return 0\n",
    "\n",
    "df = df14.copy().dropna()\n",
    "df['mhcnum'] = df[mhc].map(onetwothree)\n",
    "df['mhcnum']\n",
    "\n",
    "\n",
    "obc12 = df[df[obc]==1]['mhcnum'].dropna()\n",
    "obc02 = df[df[obc]==0]['mhcnum'].dropna()\n",
    "print sm.ttest_ind(obc12, obc02)"
   ]
  },
  {
   "cell_type": "code",
   "execution_count": null,
   "metadata": {
    "collapsed": false
   },
   "outputs": [],
   "source": [
    "dms = []\n",
    "for col in df14.columns:\n",
    "    l = len(df14[col].unique())\n",
    "    if l == 2:\n",
    "#         print col\n",
    "        if 0 in df14[col].unique():\n",
    "            dms.append(col)\n",
    "        else:\n",
    "            print col\n",
    "\n",
    "dms.remove(mhc+'_maybe')\n",
    "dms.remove(mhc+'_no')\n",
    "dms.remove(mhc+'_yes')\n",
    "dms.remove(mhc2)\n",
    "states = ['state_AL', 'state_AZ', 'state_CA', 'state_CO', 'state_CT', 'state_DC', 'state_FL', 'state_GA', 'state_IA', 'state_ID', 'state_IL', 'state_IN', 'state_KS', 'state_KY', 'state_LA', 'state_MA', 'state_MD', 'state_ME', 'state_MI', 'state_MN', 'state_MO', 'state_MS', 'state_NC', 'state_NE', 'state_NH', 'state_NJ', 'state_NM', 'state_NV', 'state_NY', 'state_OH', 'state_OK', 'state_OR', 'state_PA', 'state_RI', 'state_SC', 'state_SD', 'state_TN', 'state_TX', 'state_UT', 'state_VA', 'state_VT', 'state_WA', 'state_WI', 'state_WV', 'state_WY', 'state_nan']         \n",
    "states.remove('state_CA')            \n",
    "\n",
    "seekhelp = ['seek_help_dont_know', 'seek_help_no', 'seek_help_yes']\n",
    "seekhelp.remove('seek_help_no')\n",
    "\n",
    "careopts = [ 'care_options_no', 'care_options_not_sure', 'care_options_yes']\n",
    "careopts.remove('care_options_no')\n",
    "interfere = ['work_interfere_never', 'work_interfere_often', 'work_interfere_rarely', 'work_interfere_sometimes', 'work_interfere_nan']\n",
    "interfere.remove('work_interfere_never')"
   ]
  },
  {
   "cell_type": "code",
   "execution_count": null,
   "metadata": {
    "collapsed": false
   },
   "outputs": [],
   "source": [
    "xcols = ['treatment'] + ['obs_consequence']  + seekhelp +  careopts #+ states \n",
    "X = df14[xcols]"
   ]
  },
  {
   "cell_type": "code",
   "execution_count": null,
   "metadata": {
    "collapsed": false
   },
   "outputs": [],
   "source": [
    "X.head(3)"
   ]
  },
  {
   "cell_type": "code",
   "execution_count": null,
   "metadata": {
    "collapsed": false
   },
   "outputs": [],
   "source": [
    "import statsmodels.discrete.discrete_model as discrete_model\n",
    "y = df14[mhc2]\n",
    "\n",
    "logit = discrete_model.Logit(y, X, missing='drop')\n",
    "result = logit.fit()\n",
    "result.summary()"
   ]
  },
  {
   "cell_type": "code",
   "execution_count": null,
   "metadata": {
    "collapsed": false
   },
   "outputs": [],
   "source": [
    "from sklearn.linear_model import LogisticRegression\n",
    "from sklearn.cross_validation import train_test_split\n",
    "from sklearn.metrics import classification_report\n",
    "# from sklearn.metrics import model_selection\n",
    "from sklearn.metrics import confusion_matrix\n",
    "from sklearn.metrics import roc_curve, roc_auc_score"
   ]
  },
  {
   "cell_type": "code",
   "execution_count": null,
   "metadata": {
    "collapsed": true
   },
   "outputs": [],
   "source": [
    "trainX, testX, trainY, testY = train_test_split(X, y, train_size=0.7, stratify=y)"
   ]
  },
  {
   "cell_type": "code",
   "execution_count": null,
   "metadata": {
    "collapsed": false
   },
   "outputs": [],
   "source": []
  },
  {
   "cell_type": "code",
   "execution_count": null,
   "metadata": {
    "collapsed": false
   },
   "outputs": [],
   "source": [
    "\n",
    "lr = LogisticRegression()\n",
    "lrm = lr.fit(trainX, trainY)\n",
    "print 'Intercept: \\n', lr.intercept_\n",
    "print 'Coefficients: \\n', lr.coef_\n",
    "probs = lr.predict_proba(testX)\n",
    "# print 'Logreg predicted probabilities: \\n',probs[:5,]\n",
    "print 'Score: \\n', lr.score(testX, testY)"
   ]
  },
  {
   "cell_type": "code",
   "execution_count": null,
   "metadata": {
    "collapsed": false
   },
   "outputs": [],
   "source": [
    "pred = lr.predict(testX)\n",
    "pred"
   ]
  },
  {
   "cell_type": "code",
   "execution_count": null,
   "metadata": {
    "collapsed": false,
    "scrolled": true
   },
   "outputs": [],
   "source": [
    "cm = confusion_matrix(testY, pred)\n",
    "                 # predicted mhc2==0   # predicted mhc2==1\n",
    "# actual mhc2==0     12                   71\n",
    "# actual mhc2==1      8                   133\n",
    "cm"
   ]
  },
  {
   "cell_type": "code",
   "execution_count": null,
   "metadata": {
    "collapsed": false
   },
   "outputs": [],
   "source": [
    "print 'false pos / pos pred: ', float(cm[0][1])/(cm[1][1] + cm[0][1])\n",
    "print 'true pos / pos pred: ', float(cm[1][1])/(cm[1][1] + cm[0][1])\n",
    "print 'true pos / actual pos: ', float(cm[1][1])/(cm[1][1] + cm[1][0])\n",
    "# high false positive rate"
   ]
  },
  {
   "cell_type": "code",
   "execution_count": null,
   "metadata": {
    "collapsed": false
   },
   "outputs": [],
   "source": [
    "# roc_curve(testY, probs[:,1])"
   ]
  },
  {
   "cell_type": "code",
   "execution_count": null,
   "metadata": {
    "collapsed": false
   },
   "outputs": [],
   "source": [
    "roc_auc_score(testY,probs[:,1])"
   ]
  },
  {
   "cell_type": "code",
   "execution_count": null,
   "metadata": {
    "collapsed": true
   },
   "outputs": [],
   "source": [
    "def roc_auc( X, train_fraction=0.7):\n",
    "#     print 'Columns: \\n', X.columns.tolist()\n",
    "    trainX, testX, trainY, testY = train_test_split(X, y, train_size=train_fraction, stratify=y)\n",
    "    lr = LogisticRegression()\n",
    "    lrm = lr.fit(trainX, trainY)\n",
    "#     print 'Intercept: \\n', lr.intercept_\n",
    "#     print 'Coefficients: \\n', lr.coef_\n",
    "    probs = lr.predict_proba(testX)\n",
    "    print 'Model Internal Score: \\n', lr.score(testX, testY)\n",
    "    pred = lr.predict(testX)\n",
    "    cm = confusion_matrix(testY, pred)\n",
    "    print 'Confusion Matrix: \\n', cm\n",
    "    roc_auc = roc_auc_score(testY,probs[:,1])\n",
    "    print 'ROC AUC Score: \\n',  roc_auc\n",
    "    return {\n",
    "        'confusion matrix': cm,\n",
    "        'predictions': pred,\n",
    "        'prediciton probabilities': probs,\n",
    "        'lr': lr,\n",
    "        'model': lrm,\n",
    "        'roc auc score': roc_auc,\n",
    "        'cols': X.columns\n",
    "    }"
   ]
  },
  {
   "cell_type": "code",
   "execution_count": null,
   "metadata": {
    "collapsed": false
   },
   "outputs": [],
   "source": [
    "# good coefficients & intercept\n",
    "# Intercept: \n",
    "# [ 0.6256203]\n",
    "# Coefficients: \n",
    "# [[ 0.22157059  0.49319513 -0.13146842 -0.62516122 -0.04497772 -0.14180665]]\n",
    "# Model Internal Score: \n",
    "# 0.678571428571\n",
    "# [[ 14  69]\n",
    "#  [  3 138]]\n",
    "# ROC AUC Score: \n",
    "# 0.700888661027"
   ]
  },
  {
   "cell_type": "code",
   "execution_count": null,
   "metadata": {
    "collapsed": false
   },
   "outputs": [],
   "source": [
    "roc_auc(X)"
   ]
  },
  {
   "cell_type": "code",
   "execution_count": null,
   "metadata": {
    "collapsed": false
   },
   "outputs": [],
   "source": [
    "# roc_auc(df14[['obs_consequence'] + careopts])"
   ]
  },
  {
   "cell_type": "code",
   "execution_count": null,
   "metadata": {
    "collapsed": false
   },
   "outputs": [],
   "source": [
    "a = roc_auc(df14[dms])\n",
    "# a['lr'].coef_[0][0]\n",
    "dic = { dms[i]:a['lr'].coef_[0][i] for i in range(len(dms))}\n",
    "adf = pd.DataFrame(dic, index=['Coefficient']).T\n",
    "import math\n",
    "adf['abs_coeff'] = adf['Coefficient'].map(math.fabs)\n",
    "adf.sort_values('abs_coeff', inplace=True, ascending=False)\n",
    "adf.head(10)"
   ]
  },
  {
   "cell_type": "code",
   "execution_count": null,
   "metadata": {
    "collapsed": true
   },
   "outputs": [],
   "source": [
    "dms2 = [\n",
    "    'family_history', \n",
    "    'treatment', \n",
    "    'remote_work', \n",
    "    'tech_company', \n",
    "    'obs_consequence', \n",
    "    'wellness_program_dont_know', 'wellness_program_no', 'wellness_program_yes', \n",
    "    'mental_vs_physical_dont_know', 'mental_vs_physical_no', 'mental_vs_physical_yes', \n",
    "    'benefits_dont_know', 'benefits_no', 'benefits_yes', \n",
    "    'num_employees_1-5', 'num_employees_100-500', 'num_employees_1000+', 'num_employees_26-100', 'num_employees_500-1000', 'num_employees_6-25', \n",
    "    'seek_help_dont_know', 'seek_help_no', 'seek_help_yes', \n",
    "#     'gender_female', 'gender_male', 'gender_other', \n",
    "    'work_interfere_never', 'work_interfere_often', 'work_interfere_rarely', 'work_interfere_sometimes', 'work_interfere_nan', \n",
    "    'care_options_no', 'care_options_not_sure', 'care_options_yes', \n",
    "#     'state_AL', 'state_AZ', 'state_CA', 'state_CO', 'state_CT', 'state_DC', 'state_FL', 'state_GA', 'state_IA', 'state_ID', 'state_IL', 'state_IN', 'state_KS', 'state_KY', 'state_LA', 'state_MA', 'state_MD', 'state_ME', 'state_MI', 'state_MN', 'state_MO', 'state_MS', 'state_NC', 'state_NE', 'state_NH', 'state_NJ', 'state_NM', 'state_NV', 'state_NY', 'state_OH', 'state_OK', 'state_OR', 'state_PA', 'state_RI', 'state_SC', 'state_SD', 'state_TN', 'state_TX', 'state_UT', 'state_VA', 'state_VT', 'state_WA', 'state_WI', 'state_WV', 'state_WY', 'state_nan', \n",
    "    'phys_health_interview_maybe', 'phys_health_interview_no', 'phys_health_interview_yes', \n",
    "    'coworkers_no', 'coworkers_some_of_them', 'coworkers_yes', \n",
    "    'self_employed_no', 'self_employed_yes', 'self_employed_nan', \n",
    "    'anonymity_dont_know', 'anonymity_no', 'anonymity_yes', \n",
    "    'supervisor_no', 'supervisor_some_of_them', 'supervisor_yes', \n",
    "    'mental_health_interview_maybe', 'mental_health_interview_no', 'mental_health_interview_yes', \n",
    "    'phys_health_consequence_maybe', 'phys_health_consequence_no', 'phys_health_consequence_yes', \n",
    "    'leave_dont_know', 'leave_somewhat_difficult', 'leave_somewhat_easy', 'leave_very_difficult', 'leave_very_easy', \n",
    "    'gender_category_female', 'gender_category_male', 'gender_category_other'\n",
    "]\n"
   ]
  },
  {
   "cell_type": "code",
   "execution_count": null,
   "metadata": {
    "collapsed": false
   },
   "outputs": [],
   "source": [
    "a = roc_auc(df14[dms2])\n",
    "# a['lr'].coef_[0][0]\n",
    "dic = { dms2[i]:a['lr'].coef_[0][i] for i in range(len(dms2))}\n",
    "adf = pd.DataFrame(dic, index=['Coefficient']).T\n",
    "import math\n",
    "adf['abs_coeff'] = adf['Coefficient'].map(math.fabs)\n",
    "adf.sort_values('abs_coeff', inplace=True, ascending=False)\n",
    "adf.head(10)"
   ]
  },
  {
   "cell_type": "code",
   "execution_count": null,
   "metadata": {
    "collapsed": true
   },
   "outputs": [],
   "source": [
    "dmsco = [\n",
    "    'family_history', \n",
    "    'treatment', \n",
    "    'remote_work', \n",
    "    'tech_company', \n",
    "    'obs_consequence', \n",
    "    'wellness_program_dont_know', 'wellness_program_no', #'wellness_program_yes', \n",
    "    'mental_vs_physical_dont_know', 'mental_vs_physical_no',# 'mental_vs_physical_yes', \n",
    "    'benefits_dont_know', 'benefits_no',  # 'benefits_yes', \n",
    "    'num_employees_1-5', 'num_employees_100-500', 'num_employees_1000+', 'num_employees_26-100', 'num_employees_500-1000',# 'num_employees_6-25', \n",
    "    'seek_help_dont_know', 'seek_help_no',# 'seek_help_yes', \n",
    "#     'gender_female', 'gender_male', 'gender_other', \n",
    "    'work_interfere_never', 'work_interfere_often', 'work_interfere_rarely', 'work_interfere_sometimes', #'work_interfere_nan', \n",
    "    'care_options_no', 'care_options_not_sure', #'care_options_yes', \n",
    "#     'state_AL', 'state_AZ', 'state_CA', 'state_CO', 'state_CT', 'state_DC', 'state_FL', 'state_GA', 'state_IA', 'state_ID', 'state_IL', 'state_IN', 'state_KS', 'state_KY', 'state_LA', 'state_MA', 'state_MD', 'state_ME', 'state_MI', 'state_MN', 'state_MO', 'state_MS', 'state_NC', 'state_NE', 'state_NH', 'state_NJ', 'state_NM', 'state_NV', 'state_NY', 'state_OH', 'state_OK', 'state_OR', 'state_PA', 'state_RI', 'state_SC', 'state_SD', 'state_TN', 'state_TX', 'state_UT', 'state_VA', 'state_VT', 'state_WA', 'state_WI', 'state_WV', 'state_WY', 'state_nan', \n",
    "    'phys_health_interview_maybe', 'phys_health_interview_no', #'phys_health_interview_yes', \n",
    "    'coworkers_no', 'coworkers_some_of_them', #'coworkers_yes', \n",
    "    'self_employed_no', 'self_employed_yes', #'self_employed_nan', \n",
    "    'anonymity_dont_know', 'anonymity_no', #'anonymity_yes', \n",
    "    'supervisor_no', 'supervisor_some_of_them',# 'supervisor_yes', \n",
    "    'mental_health_interview_maybe', 'mental_health_interview_no', #'mental_health_interview_yes', \n",
    "    'phys_health_consequence_maybe', 'phys_health_consequence_no', #'phys_health_consequence_yes', \n",
    "#     'leave_dont_know', \n",
    "    'leave_somewhat_difficult', 'leave_somewhat_easy', 'leave_very_difficult', 'leave_very_easy', \n",
    "#     'gender_category_female', 'gender_category_male',# 'gender_category_other'\n",
    "]"
   ]
  },
  {
   "cell_type": "code",
   "execution_count": null,
   "metadata": {
    "collapsed": false,
    "scrolled": true
   },
   "outputs": [],
   "source": [
    "# a = roc_auc(df14[dmsco])\n",
    "# # a['lr'].coef_[0][0]\n",
    "# dic = { dmsco[i]:a['lr'].coef_[0][i] for i in range(len(dmsco))}\n",
    "# adf = pd.DataFrame(dic, index=['Coefficient']).T\n",
    "# import math\n",
    "# adf['abs_coeff'] = adf['Coefficient'].map(math.fabs)\n",
    "# adf.sort_values('abs_coeff', inplace=True, ascending=False)\n",
    "# adf.head(10)"
   ]
  },
  {
   "cell_type": "code",
   "execution_count": null,
   "metadata": {
    "collapsed": false
   },
   "outputs": [],
   "source": [
    "y = df14[mhc2]\n",
    "X = df14[dmsco]\n",
    "trainX, testX, trainY, testY = train_test_split(X, y, train_size=0.7, stratify=y)\n",
    "\n",
    "logit = discrete_model.Logit(trainY, trainX, missing='drop')\n",
    "result = logit.fit()\n",
    "result.summary()"
   ]
  },
  {
   "cell_type": "code",
   "execution_count": null,
   "metadata": {
    "collapsed": false
   },
   "outputs": [],
   "source": [
    "# reglogit = discrete_model.Logit(trainY, trainX, missing='drop')\n",
    "# regresult = logit.fit_regularized(model='l1', alpha=.2)\n",
    "# regresult.summary()"
   ]
  },
  {
   "cell_type": "code",
   "execution_count": null,
   "metadata": {
    "collapsed": false
   },
   "outputs": [],
   "source": [
    "logit2 = discrete_model.Logit(testY, testX, missing='drop')\n",
    "probs = logit2.predict(result.params)\n",
    "pred = np.round(probs)\n",
    "cm = confusion_matrix(testY, pred)\n",
    "print 'Confusion Matrix: \\n', cm\n",
    "roc_auc = roc_auc_score(testY,probs)\n",
    "print 'ROC AUC Score: \\n',  roc_auc"
   ]
  },
  {
   "cell_type": "code",
   "execution_count": null,
   "metadata": {
    "collapsed": false
   },
   "outputs": [],
   "source": [
    "print 'false pos / pos pred: ', float(cm[0][1])/(cm[1][1] + cm[0][1])\n",
    "print 'true pos / pos pred: ', float(cm[1][1])/(cm[1][1] + cm[0][1])\n",
    "print 'true pos / actual pos: ', float(cm[1][1])/(cm[1][1] + cm[1][0])"
   ]
  },
  {
   "cell_type": "code",
   "execution_count": null,
   "metadata": {
    "collapsed": true
   },
   "outputs": [],
   "source": []
  },
  {
   "cell_type": "code",
   "execution_count": null,
   "metadata": {
    "collapsed": true
   },
   "outputs": [],
   "source": []
  },
  {
   "cell_type": "code",
   "execution_count": null,
   "metadata": {
    "collapsed": true
   },
   "outputs": [],
   "source": []
  },
  {
   "cell_type": "code",
   "execution_count": null,
   "metadata": {
    "collapsed": true
   },
   "outputs": [],
   "source": []
  }
 ],
 "metadata": {
  "kernelspec": {
   "display_name": "Python 2",
   "language": "python",
   "name": "python2"
  },
  "language_info": {
   "codemirror_mode": {
    "name": "ipython",
    "version": 2
   },
   "file_extension": ".py",
   "mimetype": "text/x-python",
   "name": "python",
   "nbconvert_exporter": "python",
   "pygments_lexer": "ipython2",
   "version": "2.7.13"
  }
 },
 "nbformat": 4,
 "nbformat_minor": 0
}
