{
 "cells": [
  {
   "cell_type": "markdown",
   "metadata": {},
   "source": [
    "Potential resource(s):\n",
    "http://scikit-learn.org/stable/auto_examples/cluster/plot_kmeans_digits.html#sphx-glr-auto-examples-cluster-plot-kmeans-digits-py"
   ]
  },
  {
   "cell_type": "markdown",
   "metadata": {},
   "source": [
    "# Mental Health in Tech Project\n",
    "\n",
    "## Data Sets\n",
    "\n",
    "[OSMI Survey on Mental Health in the Tech Workplace in 2014](https://www.kaggle.com/osmi/mental-health-in-tech-survey) \n",
    "\n",
    "[\"Ongoing\" OSMI survey from 2016](https://data.world/kittybot/osmi-mental-health-tech-2016)\n",
    "\n",
    "\n",
    "## Questions\n",
    "\n",
    "What factors are most signficant in influencing whether or not a person believes disclosing a mental health issue would have negative consequences?\n",
    "\n",
    "Can we predict, based on publicly available features of a person and company, whether that person is likely to beleive disclosing a mental health issue would be harmful for their career?"
   ]
  },
  {
   "cell_type": "markdown",
   "metadata": {},
   "source": [
    "## Plan"
   ]
  },
  {
   "cell_type": "code",
   "execution_count": 1,
   "metadata": {
    "collapsed": true
   },
   "outputs": [],
   "source": [
    "# clean 2014 data:\n",
    "#   - remove invalid ages  ( < 16, > 80)\n",
    "#   - create gender categories\n",
    "#   - create dictionary to map questions to column names (from original data set)\n",
    "#   - add year column with all 2014s"
   ]
  },
  {
   "cell_type": "code",
   "execution_count": 2,
   "metadata": {
    "collapsed": true
   },
   "outputs": [],
   "source": [
    "# use only US data"
   ]
  },
  {
   "cell_type": "code",
   "execution_count": 3,
   "metadata": {
    "collapsed": false
   },
   "outputs": [],
   "source": [
    "# plot number of responses by age"
   ]
  },
  {
   "cell_type": "code",
   "execution_count": 4,
   "metadata": {
    "collapsed": true
   },
   "outputs": [],
   "source": [
    "# plot frequency of mental health consequences yes/no/maybe by age"
   ]
  },
  {
   "cell_type": "code",
   "execution_count": 5,
   "metadata": {
    "collapsed": true
   },
   "outputs": [],
   "source": [
    "# plot frequency of mental health consequence yes/no/maybe by age groups (quantiles, 4-6 groups)"
   ]
  },
  {
   "cell_type": "code",
   "execution_count": 6,
   "metadata": {
    "collapsed": true
   },
   "outputs": [],
   "source": [
    "################ Logistic Regression"
   ]
  },
  {
   "cell_type": "code",
   "execution_count": 7,
   "metadata": {
    "collapsed": true
   },
   "outputs": [],
   "source": [
    "# logistic regression \n",
    "# - combine mental health consequences (yes and maybe) vs no as boolean categorical Y to predict\n",
    "# - pull out X variables that are public\n",
    "# - created dummies for categorical public X variables"
   ]
  },
  {
   "cell_type": "markdown",
   "metadata": {},
   "source": [
    "## Setup"
   ]
  },
  {
   "cell_type": "code",
   "execution_count": 8,
   "metadata": {
    "collapsed": true
   },
   "outputs": [],
   "source": [
    "import pandas as pd\n",
    "import numpy as np\n",
    "import matplotlib.pyplot as plt\n",
    "%matplotlib inline\n",
    "import seaborn as sns"
   ]
  },
  {
   "cell_type": "markdown",
   "metadata": {
    "collapsed": true
   },
   "source": [
    "## Import & Initial Data Cleaning"
   ]
  },
  {
   "cell_type": "code",
   "execution_count": 9,
   "metadata": {
    "collapsed": false
   },
   "outputs": [
    {
     "name": "stdout",
     "output_type": "stream",
     "text": [
      "(1259, 28)\n"
     ]
    }
   ],
   "source": [
    "df14 = pd.read_csv('./datasets/2014/clean-no-dummies-2014.csv', index_col=0)\n",
    "print df14.shape"
   ]
  },
  {
   "cell_type": "markdown",
   "metadata": {},
   "source": [
    "### Limit to US Data"
   ]
  },
  {
   "cell_type": "code",
   "execution_count": 10,
   "metadata": {
    "collapsed": false
   },
   "outputs": [
    {
     "name": "stdout",
     "output_type": "stream",
     "text": [
      "(751, 28)\n"
     ]
    },
    {
     "data": {
      "text/html": [
       "<div>\n",
       "<table border=\"1\" class=\"dataframe\">\n",
       "  <thead>\n",
       "    <tr style=\"text-align: right;\">\n",
       "      <th></th>\n",
       "      <th>timestamp</th>\n",
       "      <th>age</th>\n",
       "      <th>gender</th>\n",
       "      <th>country</th>\n",
       "      <th>state</th>\n",
       "      <th>self_employed</th>\n",
       "      <th>family_history</th>\n",
       "      <th>treatment</th>\n",
       "      <th>work_interfere</th>\n",
       "      <th>num_employees</th>\n",
       "      <th>...</th>\n",
       "      <th>mental_health_consequence</th>\n",
       "      <th>phys_health_consequence</th>\n",
       "      <th>coworkers</th>\n",
       "      <th>supervisor</th>\n",
       "      <th>mental_health_interview</th>\n",
       "      <th>phys_health_interview</th>\n",
       "      <th>mental_vs_physical</th>\n",
       "      <th>obs_consequence</th>\n",
       "      <th>comments</th>\n",
       "      <th>gender_category</th>\n",
       "    </tr>\n",
       "  </thead>\n",
       "  <tbody>\n",
       "    <tr>\n",
       "      <th>0</th>\n",
       "      <td>2014-08-27 11:29:31</td>\n",
       "      <td>37.0</td>\n",
       "      <td>Female</td>\n",
       "      <td>United States</td>\n",
       "      <td>IL</td>\n",
       "      <td>NaN</td>\n",
       "      <td>no</td>\n",
       "      <td>1</td>\n",
       "      <td>often</td>\n",
       "      <td>6-25</td>\n",
       "      <td>...</td>\n",
       "      <td>no</td>\n",
       "      <td>no</td>\n",
       "      <td>some_of_them</td>\n",
       "      <td>yes</td>\n",
       "      <td>no</td>\n",
       "      <td>maybe</td>\n",
       "      <td>yes</td>\n",
       "      <td>0</td>\n",
       "      <td>NaN</td>\n",
       "      <td>female</td>\n",
       "    </tr>\n",
       "    <tr>\n",
       "      <th>1</th>\n",
       "      <td>2014-08-27 11:29:37</td>\n",
       "      <td>44.0</td>\n",
       "      <td>M</td>\n",
       "      <td>United States</td>\n",
       "      <td>IN</td>\n",
       "      <td>NaN</td>\n",
       "      <td>no</td>\n",
       "      <td>0</td>\n",
       "      <td>rarely</td>\n",
       "      <td>1000+</td>\n",
       "      <td>...</td>\n",
       "      <td>maybe</td>\n",
       "      <td>no</td>\n",
       "      <td>no</td>\n",
       "      <td>no</td>\n",
       "      <td>no</td>\n",
       "      <td>no</td>\n",
       "      <td>dont_know</td>\n",
       "      <td>0</td>\n",
       "      <td>NaN</td>\n",
       "      <td>male</td>\n",
       "    </tr>\n",
       "    <tr>\n",
       "      <th>4</th>\n",
       "      <td>2014-08-27 11:30:22</td>\n",
       "      <td>31.0</td>\n",
       "      <td>Male</td>\n",
       "      <td>United States</td>\n",
       "      <td>TX</td>\n",
       "      <td>NaN</td>\n",
       "      <td>no</td>\n",
       "      <td>0</td>\n",
       "      <td>never</td>\n",
       "      <td>100-500</td>\n",
       "      <td>...</td>\n",
       "      <td>no</td>\n",
       "      <td>no</td>\n",
       "      <td>some_of_them</td>\n",
       "      <td>yes</td>\n",
       "      <td>yes</td>\n",
       "      <td>yes</td>\n",
       "      <td>dont_know</td>\n",
       "      <td>0</td>\n",
       "      <td>NaN</td>\n",
       "      <td>male</td>\n",
       "    </tr>\n",
       "  </tbody>\n",
       "</table>\n",
       "<p>3 rows × 28 columns</p>\n",
       "</div>"
      ],
      "text/plain": [
       "             timestamp   age  gender        country state self_employed  \\\n",
       "0  2014-08-27 11:29:31  37.0  Female  United States    IL           NaN   \n",
       "1  2014-08-27 11:29:37  44.0       M  United States    IN           NaN   \n",
       "4  2014-08-27 11:30:22  31.0    Male  United States    TX           NaN   \n",
       "\n",
       "  family_history  treatment work_interfere num_employees       ...        \\\n",
       "0             no          1          often          6-25       ...         \n",
       "1             no          0         rarely         1000+       ...         \n",
       "4             no          0          never       100-500       ...         \n",
       "\n",
       "   mental_health_consequence  phys_health_consequence     coworkers  \\\n",
       "0                         no                       no  some_of_them   \n",
       "1                      maybe                       no            no   \n",
       "4                         no                       no  some_of_them   \n",
       "\n",
       "  supervisor mental_health_interview phys_health_interview mental_vs_physical  \\\n",
       "0        yes                      no                 maybe                yes   \n",
       "1         no                      no                    no          dont_know   \n",
       "4        yes                     yes                   yes          dont_know   \n",
       "\n",
       "  obs_consequence comments gender_category  \n",
       "0               0      NaN          female  \n",
       "1               0      NaN            male  \n",
       "4               0      NaN            male  \n",
       "\n",
       "[3 rows x 28 columns]"
      ]
     },
     "execution_count": 10,
     "metadata": {},
     "output_type": "execute_result"
    }
   ],
   "source": [
    "df14 = df14[df14['country']=='United States']\n",
    "print df14.shape\n",
    "df14.head(3)"
   ]
  },
  {
   "cell_type": "markdown",
   "metadata": {},
   "source": [
    "### Column-Question Mapping\n",
    "\n",
    "Conveniently look up the survey question associated with each column name.\n",
    "\n",
    "Can also add to the maps to describe created columns."
   ]
  },
  {
   "cell_type": "code",
   "execution_count": 11,
   "metadata": {
    "collapsed": true
   },
   "outputs": [],
   "source": [
    "# map column names to questions\n",
    "df14.cq = {'age': 'Age',\n",
    " 'anonymity': 'Is your anonymity protected if you choose to take advantage of mental health or substance abuse treatment resources?',\n",
    " 'benefits': 'Does your employer provide mental health benefits?',\n",
    " 'care_options': 'Do you know the options for mental health care your employer provides?',\n",
    " 'country': 'Country',\n",
    " 'coworkers': 'Would you be willing to discuss a mental health issue with your coworkers?',\n",
    " 'family_history': 'Do you have a family history of mental illness?',\n",
    " 'gender': 'Gender',\n",
    " 'leave': 'How easy is it for you to take medical leave for a mental health condition?',\n",
    " 'mental_health_consequence': 'Do you think that discussing a mental health issue with your employer would have negative consequences?',\n",
    " 'mental_health_interview': 'Would you bring up a mental health issue with a potential employer in an interview?',\n",
    " 'mental_vs_physical': 'Do you feel that your employer takes mental health as seriously as physical health?',\n",
    " 'num_employees': 'How many employees does your company or organization have?',\n",
    " 'obs_consequence': 'Have you heard of or observed negative consequences for coworkers with mental health conditions in your workplace?',\n",
    " 'phys_health_consequence': 'Do you think that discussing a physical health issue with your employer would have negative consequences?',\n",
    " 'phys_health_interview': 'Would you bring up a physical health issue with a potential employer in an interview?',\n",
    " 'remote_work': 'Do you work remotely (outside of an office) at least 50% of the time?',\n",
    " 'seek_help': 'Does your employer provide resources to learn more about mental health issues and how to seek help?',\n",
    " 'self_employed': 'Are you self-employed?',\n",
    " 'state': 'If you live in the United States, which state or territory do you live in?',\n",
    " 'supervisor': 'Would you be willing to discuss a mental health issue with your direct supervisor(s)?',\n",
    " 'tech_company': 'Is your employer primarily a tech company/organization?',\n",
    " 'timestamp': 'Timestamp',\n",
    " 'treatment': 'Have you sought treatment for a mental health condition?',\n",
    " 'wellness_program': 'Has your employer ever discussed mental health as part of an employee wellness program?',\n",
    " 'work_interfere': 'If you have a mental health condition, do you feel that it interferes with your work?'\n",
    "}"
   ]
  },
  {
   "cell_type": "markdown",
   "metadata": {},
   "source": [
    "#### Additional Derived Columns"
   ]
  },
  {
   "cell_type": "code",
   "execution_count": 12,
   "metadata": {
    "collapsed": false
   },
   "outputs": [],
   "source": [
    "# gender_category_explanation = 'Derived column: categorized gender responses into male/female/other. Trans males and females are categorized as males and females, respectively.'\n",
    "# df14.cq['gender_category'] = gender_category_explanation\n",
    "df14.cq['gender_category'] = 'Derived: male/female/other. Trans male and trans female categorized as male and female, respectively.'"
   ]
  },
  {
   "cell_type": "code",
   "execution_count": 13,
   "metadata": {
    "collapsed": true
   },
   "outputs": [],
   "source": [
    "df14['year'] = 2014"
   ]
  },
  {
   "cell_type": "markdown",
   "metadata": {},
   "source": [
    "#### Preview Column Function"
   ]
  },
  {
   "cell_type": "code",
   "execution_count": 14,
   "metadata": {
    "collapsed": true
   },
   "outputs": [],
   "source": [
    "# helper function to get column preview\n",
    "def preview_col(col, data=df14):\n",
    "    if col in data.cq:\n",
    "        print data.cq[col]\n",
    "    print data[col].value_counts(dropna=False)"
   ]
  },
  {
   "cell_type": "code",
   "execution_count": 15,
   "metadata": {
    "collapsed": false
   },
   "outputs": [
    {
     "name": "stdout",
     "output_type": "stream",
     "text": [
      "Have you sought treatment for a mental health condition?\n",
      "1    410\n",
      "0    341\n",
      "Name: treatment, dtype: int64\n"
     ]
    }
   ],
   "source": [
    "preview_col('treatment')\n"
   ]
  },
  {
   "cell_type": "markdown",
   "metadata": {},
   "source": [
    "### Mental Health Consequences Boolean Column\n",
    "\n",
    "Adding a column that will have 1 if the respondent answered `yes` or `maybe` for mental health consequence, and 0 if `no`."
   ]
  },
  {
   "cell_type": "code",
   "execution_count": 16,
   "metadata": {
    "collapsed": false,
    "scrolled": false
   },
   "outputs": [
    {
     "name": "stdout",
     "output_type": "stream",
     "text": [
      "Do you think that discussing a mental health issue with your employer would have negative consequences?\n",
      "maybe    300\n",
      "no       280\n",
      "yes      171\n",
      "Name: mental_health_consequence, dtype: int64\n"
     ]
    }
   ],
   "source": [
    "mhc = 'mental_health_consequence'\n",
    "preview_col(mhc)"
   ]
  },
  {
   "cell_type": "code",
   "execution_count": 17,
   "metadata": {
    "collapsed": true
   },
   "outputs": [],
   "source": [
    "mhc2 = 'mental_health_yes_maybe'"
   ]
  },
  {
   "cell_type": "code",
   "execution_count": 18,
   "metadata": {
    "collapsed": false
   },
   "outputs": [],
   "source": [
    "def ymn(ynmstr):\n",
    "    if ynmstr == 'no':\n",
    "        return 0\n",
    "    else:\n",
    "        return 1\n",
    "df14['mental_health_yes_maybe'] = df14['mental_health_consequence'].map(lambda(x): ymn(x))"
   ]
  },
  {
   "cell_type": "code",
   "execution_count": 19,
   "metadata": {
    "collapsed": false
   },
   "outputs": [
    {
     "data": {
      "text/plain": [
       "471"
      ]
     },
     "execution_count": 19,
     "metadata": {},
     "output_type": "execute_result"
    }
   ],
   "source": [
    "df14[mhc2].sum()"
   ]
  },
  {
   "cell_type": "code",
   "execution_count": 20,
   "metadata": {
    "collapsed": false
   },
   "outputs": [
    {
     "data": {
      "text/plain": [
       "maybe    300\n",
       "no       280\n",
       "yes      171\n",
       "Name: mental_health_consequence, dtype: int64"
      ]
     },
     "execution_count": 20,
     "metadata": {},
     "output_type": "execute_result"
    }
   ],
   "source": [
    "df14[mhc].value_counts()"
   ]
  },
  {
   "cell_type": "markdown",
   "metadata": {},
   "source": [
    "### Responses by age"
   ]
  },
  {
   "cell_type": "code",
   "execution_count": 21,
   "metadata": {
    "collapsed": false
   },
   "outputs": [
    {
     "ename": "NameError",
     "evalue": "name 'df16' is not defined",
     "output_type": "error",
     "traceback": [
      "\u001b[0;31m---------------------------------------------------------------------------\u001b[0m",
      "\u001b[0;31mNameError\u001b[0m                                 Traceback (most recent call last)",
      "\u001b[0;32m<ipython-input-21-b87787bb1a6c>\u001b[0m in \u001b[0;36m<module>\u001b[0;34m()\u001b[0m\n\u001b[0;32m----> 1\u001b[0;31m \u001b[0mdf16\u001b[0m\u001b[0;34m.\u001b[0m\u001b[0mgroupby\u001b[0m\u001b[0;34m(\u001b[0m\u001b[0;34m'age'\u001b[0m\u001b[0;34m)\u001b[0m\u001b[0;34m.\u001b[0m\u001b[0msize\u001b[0m\u001b[0;34m(\u001b[0m\u001b[0;34m)\u001b[0m\u001b[0;34m.\u001b[0m\u001b[0mplot\u001b[0m\u001b[0;34m(\u001b[0m\u001b[0mkind\u001b[0m\u001b[0;34m=\u001b[0m\u001b[0;34m'bar'\u001b[0m\u001b[0;34m)\u001b[0m\u001b[0;34m\u001b[0m\u001b[0m\n\u001b[0m",
      "\u001b[0;31mNameError\u001b[0m: name 'df16' is not defined"
     ]
    }
   ],
   "source": [
    "df16.groupby('age').size().plot(kind='bar')"
   ]
  },
  {
   "cell_type": "code",
   "execution_count": null,
   "metadata": {
    "collapsed": false
   },
   "outputs": [],
   "source": [
    "df14.age.describe()"
   ]
  },
  {
   "cell_type": "code",
   "execution_count": null,
   "metadata": {
    "collapsed": false
   },
   "outputs": [],
   "source": [
    "gcs = df14.groupby('gender_category')\n",
    "gcs.size()"
   ]
  },
  {
   "cell_type": "code",
   "execution_count": null,
   "metadata": {
    "collapsed": false
   },
   "outputs": [],
   "source": [
    "gcs.groups"
   ]
  },
  {
   "cell_type": "code",
   "execution_count": null,
   "metadata": {
    "collapsed": false
   },
   "outputs": [],
   "source": [
    "gcs.size()['female']"
   ]
  },
  {
   "cell_type": "code",
   "execution_count": null,
   "metadata": {
    "collapsed": false
   },
   "outputs": [],
   "source": [
    "df14['gender_category'].unique()"
   ]
  },
  {
   "cell_type": "code",
   "execution_count": null,
   "metadata": {
    "collapsed": false,
    "scrolled": true
   },
   "outputs": [],
   "source": [
    "def plot_percentages(df, category_col, target_col):\n",
    "    for cat_val in df[category_col].unique():\n",
    "        get_percentages_val(df, category_col, target_col, cat_val)\n",
    "        \n",
    "        \n",
    "def get_percentages_val(df, category_col, target_col, cat_val):\n",
    "    catdf = df[df[category_col]==cat_val]\n",
    "    num_this_catval = catdf.shape[0]\n",
    "    cat_target_groups = catdf.groupby(target_col)\n",
    "    cat_target_sizes = cat_target_groups.size()\n",
    "    print cat_target_sizes\n",
    "    cat_target_percentages =  100 * cat_target_sizes / num_this_catval\n",
    "    return cat_target_percentages\n",
    "    \n",
    "mp = get_percentages_val(df14, 'gender_category', mhc, 'male')\n",
    "fp = get_percentages_val(df14, 'gender_category', mhc, 'female')\n",
    "op = get_percentages_val(df14, 'gender_category', mhc, 'other')\n",
    "op['no'] = 0.0\n",
    "print mp \n",
    "print fp \n",
    "print op"
   ]
  },
  {
   "cell_type": "code",
   "execution_count": null,
   "metadata": {
    "collapsed": false
   },
   "outputs": [],
   "source": [
    "fig = plt.figure()\n",
    "\n",
    "mp.plot(kind='bar', color='red', position=2, width=0.1)\n",
    "fp.plot(kind='bar', color='blue', position=1, width=0.1)\n",
    "op.plot(kind='bar', color='green', position=0, width=0.1, opacity=0.5)\n",
    "fig.set_ylabel = ('percent')\n",
    "plt.show()"
   ]
  },
  {
   "cell_type": "code",
   "execution_count": null,
   "metadata": {
    "collapsed": false
   },
   "outputs": [],
   "source": [
    "fdf14 = df14[df14['gender_category']=='female']\n",
    "nf = fdf14.shape[0]\n",
    "print nf\n",
    "fdf14.head(2)"
   ]
  },
  {
   "cell_type": "code",
   "execution_count": null,
   "metadata": {
    "collapsed": false
   },
   "outputs": [],
   "source": [
    "fmhc = fdf14.groupby(mhc)"
   ]
  },
  {
   "cell_type": "code",
   "execution_count": null,
   "metadata": {
    "collapsed": false
   },
   "outputs": [],
   "source": [
    "fmhc.size()"
   ]
  },
  {
   "cell_type": "code",
   "execution_count": null,
   "metadata": {
    "collapsed": false
   },
   "outputs": [],
   "source": [
    "fmhcp = 100 * fmhc.size() / nf"
   ]
  },
  {
   "cell_type": "code",
   "execution_count": null,
   "metadata": {
    "collapsed": false
   },
   "outputs": [],
   "source": [
    "fmhcp.plot(kind='bar')"
   ]
  },
  {
   "cell_type": "code",
   "execution_count": null,
   "metadata": {
    "collapsed": true
   },
   "outputs": [],
   "source": []
  },
  {
   "cell_type": "code",
   "execution_count": null,
   "metadata": {
    "collapsed": true
   },
   "outputs": [],
   "source": []
  },
  {
   "cell_type": "code",
   "execution_count": null,
   "metadata": {
    "collapsed": true
   },
   "outputs": [],
   "source": []
  },
  {
   "cell_type": "code",
   "execution_count": null,
   "metadata": {
    "collapsed": true
   },
   "outputs": [],
   "source": []
  },
  {
   "cell_type": "code",
   "execution_count": null,
   "metadata": {
    "collapsed": false
   },
   "outputs": [],
   "source": [
    "def cat_proportion_in_col(df, main, sub):\n",
    "    d = df[[main, sub]].copy()\n",
    "    count_subs_per_main = d.groupby([main, sub]).size()\n",
    "    percent_subs_per_main = count_subs_per_main.groupby(level=[0]).apply(lambda x: 100*x /  x.sum())\n",
    "    return percent_subs_per_main\n",
    "\n",
    "pros = cat_proportion_in_col(df14, 'gender_category', mhc)\n",
    "print 'no' in pros['other']\n",
    "pros[('other', 'no')] = 0 \n",
    "pros"
   ]
  },
  {
   "cell_type": "code",
   "execution_count": null,
   "metadata": {
    "collapsed": false
   },
   "outputs": [],
   "source": [
    "# pros"
   ]
  },
  {
   "cell_type": "code",
   "execution_count": null,
   "metadata": {
    "collapsed": false
   },
   "outputs": [],
   "source": [
    "# sns.swarmplot(x=, data=pros)"
   ]
  },
  {
   "cell_type": "code",
   "execution_count": null,
   "metadata": {
    "collapsed": false
   },
   "outputs": [],
   "source": [
    "sns.swarmplot(y=mhc, x='age', data=df14)"
   ]
  },
  {
   "cell_type": "code",
   "execution_count": null,
   "metadata": {
    "collapsed": false
   },
   "outputs": [],
   "source": [
    "sns.violinplot(\n",
    "    x='treatment', \n",
    "    y='age', \n",
    "    hue=mhc, \n",
    "    data=df14,         \n",
    "    split=False, \n",
    "#     inner=\"stick\", \n",
    "    palette=\"Set2\"\n",
    ");"
   ]
  },
  {
   "cell_type": "code",
   "execution_count": null,
   "metadata": {
    "collapsed": false
   },
   "outputs": [],
   "source": [
    "fg = seaborn.factorplot(x='Group', y='val(continuous)', hue='Mean', \n",
    "                        col='Sex', row='', data=data, kind='bar')\n",
    "fg.set_xlabels('')"
   ]
  },
  {
   "cell_type": "code",
   "execution_count": null,
   "metadata": {
    "collapsed": false
   },
   "outputs": [],
   "source": [
    "pdf = pd.DataFrame(pros)\n",
    "pdf"
   ]
  },
  {
   "cell_type": "code",
   "execution_count": null,
   "metadata": {
    "collapsed": false
   },
   "outputs": [],
   "source": [
    "pdf.reset_index(inplace=True)\n",
    "pdf"
   ]
  },
  {
   "cell_type": "code",
   "execution_count": null,
   "metadata": {
    "collapsed": false
   },
   "outputs": [],
   "source": [
    "pdf.rename(columns={0: 'percentage'}, inplace=True)"
   ]
  },
  {
   "cell_type": "code",
   "execution_count": null,
   "metadata": {
    "collapsed": false
   },
   "outputs": [],
   "source": [
    "fg = sns.factorplot(\n",
    "    x=mhc, \n",
    "    y='percentage',\n",
    "    col='gender_category',\n",
    "    data=pdf, \n",
    "    kind='bar',\n",
    "    palette='Set1',\n",
    "    order=['no', 'maybe', 'yes']\n",
    ")\n",
    "# fg.set_xlabels('')"
   ]
  },
  {
   "cell_type": "code",
   "execution_count": null,
   "metadata": {
    "collapsed": true
   },
   "outputs": [],
   "source": []
  },
  {
   "cell_type": "code",
   "execution_count": null,
   "metadata": {
    "collapsed": true
   },
   "outputs": [],
   "source": []
  },
  {
   "cell_type": "code",
   "execution_count": null,
   "metadata": {
    "collapsed": true
   },
   "outputs": [],
   "source": []
  },
  {
   "cell_type": "code",
   "execution_count": null,
   "metadata": {
    "collapsed": false
   },
   "outputs": [],
   "source": [
    "r = df14[df14['age']>25]\n",
    "r = r[r['age']<50]\n",
    "agep = cat_proportion_in_col(r,'age', mhc)\n",
    "agep.head(8)"
   ]
  },
  {
   "cell_type": "code",
   "execution_count": null,
   "metadata": {
    "collapsed": false
   },
   "outputs": [],
   "source": [
    "colors = {'no': 'r', 'maybe': 'b', 'yes': 'g'}\n",
    "ax = agep.plot(\n",
    "    kind='bar', \n",
    "#     kind='scatter',\n",
    "    x='age', \n",
    "#     xlim=80,\n",
    "    y='percentage',\n",
    "    color=[colors[cat] for cat in ['no', 'yes', 'maybe']]\n",
    ")\n",
    "# new_ticks = np.linspace(agep.age.min(), agep.age.max(), 4)\n",
    "# positions of each tick, relative to the indices of the x-values\n",
    "# ax.set_xticks(np.interp(new_ticks, agep.age, np.arange(agep.shape[0])))\n",
    "\n",
    "# labels\n",
    "# ax.set_xticklabels(new_ticks)"
   ]
  },
  {
   "cell_type": "code",
   "execution_count": 23,
   "metadata": {
    "collapsed": false
   },
   "outputs": [
    {
     "data": {
      "text/html": [
       "<div>\n",
       "<table border=\"1\" class=\"dataframe\">\n",
       "  <thead>\n",
       "    <tr style=\"text-align: right;\">\n",
       "      <th></th>\n",
       "      <th>treatment</th>\n",
       "      <th>mental_health_consequence</th>\n",
       "      <th>percentage</th>\n",
       "    </tr>\n",
       "  </thead>\n",
       "  <tbody>\n",
       "    <tr>\n",
       "      <th>0</th>\n",
       "      <td>0</td>\n",
       "      <td>maybe</td>\n",
       "      <td>37.536657</td>\n",
       "    </tr>\n",
       "    <tr>\n",
       "      <th>1</th>\n",
       "      <td>0</td>\n",
       "      <td>no</td>\n",
       "      <td>45.161290</td>\n",
       "    </tr>\n",
       "    <tr>\n",
       "      <th>2</th>\n",
       "      <td>0</td>\n",
       "      <td>yes</td>\n",
       "      <td>17.302053</td>\n",
       "    </tr>\n",
       "    <tr>\n",
       "      <th>3</th>\n",
       "      <td>1</td>\n",
       "      <td>maybe</td>\n",
       "      <td>41.951220</td>\n",
       "    </tr>\n",
       "    <tr>\n",
       "      <th>4</th>\n",
       "      <td>1</td>\n",
       "      <td>no</td>\n",
       "      <td>30.731707</td>\n",
       "    </tr>\n",
       "    <tr>\n",
       "      <th>5</th>\n",
       "      <td>1</td>\n",
       "      <td>yes</td>\n",
       "      <td>27.317073</td>\n",
       "    </tr>\n",
       "  </tbody>\n",
       "</table>\n",
       "</div>"
      ],
      "text/plain": [
       "   treatment mental_health_consequence  percentage\n",
       "0          0                     maybe   37.536657\n",
       "1          0                        no   45.161290\n",
       "2          0                       yes   17.302053\n",
       "3          1                     maybe   41.951220\n",
       "4          1                        no   30.731707\n",
       "5          1                       yes   27.317073"
      ]
     },
     "execution_count": 23,
     "metadata": {},
     "output_type": "execute_result"
    }
   ],
   "source": [
    "def cat_proportion_in_col(df, main, sub):\n",
    "    d = df[[main, sub]].copy()\n",
    "    count_subs_per_main = d.groupby([main, sub]).size()\n",
    "    percent_subs_per_main = count_subs_per_main.groupby(level=[0]).apply(lambda x: 100*x /  x.sum())\n",
    "    pdf = pd.DataFrame(percent_subs_per_main)\n",
    "    pdf.reset_index(inplace=True)\n",
    "    pdf.rename(columns={0:'percentage'}, inplace=True)\n",
    "    return pdf\n",
    "\n",
    "pros = cat_proportion_in_col(df14, 'treatment', mhc)\n",
    "pros"
   ]
  },
  {
   "cell_type": "code",
   "execution_count": 24,
   "metadata": {
    "collapsed": false,
    "scrolled": true
   },
   "outputs": [
    {
     "data": {
      "image/png": "[encoded data removed]",
      "text/plain": [
       "<matplotlib.figure.Figure at 0x10cb4c790>"
      ]
     },
     "metadata": {},
     "output_type": "display_data"
    }
   ],
   "source": [
    "fg = sns.factorplot(\n",
    "    x=mhc, \n",
    "    y='percentage',\n",
    "    col='treatment',\n",
    "    data=pros, \n",
    "    kind='bar',\n",
    "    palette='Set1',\n",
    "    order=['no', 'maybe', 'yes']\n",
    ")\n",
    "# fg.set_xlabels('')"
   ]
  },
  {
   "cell_type": "code",
   "execution_count": 30,
   "metadata": {
    "collapsed": true
   },
   "outputs": [],
   "source": [
    "def plot_percentage(df, main_col, sub_col):\n",
    "    percent_df = cat_proportion_in_col(df, main_col, sub_col)\n",
    "    fg = sns.factorplot(\n",
    "        x=mhc, \n",
    "        y='percentage',\n",
    "        col=main_col,\n",
    "        data=percent_df, \n",
    "        kind='bar',\n",
    "        palette='Set1',\n",
    "        order=['no', 'maybe', 'yes']\n",
    "    )"
   ]
  },
  {
   "cell_type": "code",
   "execution_count": 31,
   "metadata": {
    "collapsed": false
   },
   "outputs": [
    {
     "data": {
      "image/png": "[encoded data removed]",
      "text/plain": [
       "<matplotlib.figure.Figure at 0x11086d890>"
      ]
     },
     "metadata": {},
     "output_type": "display_data"
    }
   ],
   "source": [
    "plot_percentage(df14, 'obs_consequence', mhc)"
   ]
  },
  {
   "cell_type": "code",
   "execution_count": 32,
   "metadata": {
    "collapsed": false
   },
   "outputs": [
    {
     "data": {
      "image/png": "[encoded data removed]",
      "text/plain": [
       "<matplotlib.figure.Figure at 0x10d388dd0>"
      ]
     },
     "metadata": {},
     "output_type": "display_data"
    }
   ],
   "source": [
    "plot_percentage(df14, 'treatment', mhc)"
   ]
  },
  {
   "cell_type": "code",
   "execution_count": 33,
   "metadata": {
    "collapsed": false
   },
   "outputs": [
    {
     "data": {
      "image/png": "[encoded data removed]",
      "text/plain": [
       "<matplotlib.figure.Figure at 0x110aef9d0>"
      ]
     },
     "metadata": {},
     "output_type": "display_data"
    }
   ],
   "source": [
    "plot_percentage(df14, 'tech_company', mhc)"
   ]
  },
  {
   "cell_type": "code",
   "execution_count": 34,
   "metadata": {
    "collapsed": false
   },
   "outputs": [
    {
     "data": {
      "image/png": "[encoded data removed]",
      "text/plain": [
       "<matplotlib.figure.Figure at 0x111081850>"
      ]
     },
     "metadata": {},
     "output_type": "display_data"
    }
   ],
   "source": [
    "plot_percentage(df14, 'age', mhc)"
   ]
  },
  {
   "cell_type": "code",
   "execution_count": null,
   "metadata": {
    "collapsed": false
   },
   "outputs": [],
   "source": []
  },
  {
   "cell_type": "code",
   "execution_count": null,
   "metadata": {
    "collapsed": true
   },
   "outputs": [],
   "source": []
  },
  {
   "cell_type": "code",
   "execution_count": null,
   "metadata": {
    "collapsed": true
   },
   "outputs": [],
   "source": []
  }
 ],
 "metadata": {
  "kernelspec": {
   "display_name": "Python 2",
   "language": "python",
   "name": "python2"
  },
  "language_info": {
   "codemirror_mode": {
    "name": "ipython",
    "version": 2
   },
   "file_extension": ".py",
   "mimetype": "text/x-python",
   "name": "python",
   "nbconvert_exporter": "python",
   "pygments_lexer": "ipython2",
   "version": "2.7.13"
  }
 },
 "nbformat": 4,
 "nbformat_minor": 0
}
