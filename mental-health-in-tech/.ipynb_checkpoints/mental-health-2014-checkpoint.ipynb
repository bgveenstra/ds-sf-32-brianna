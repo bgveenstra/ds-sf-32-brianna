{
 "cells": [
  {
   "cell_type": "markdown",
   "metadata": {},
   "source": [
    "# Mental Health in Tech Project\n",
    "\n",
    "## Data Sets\n",
    "\n",
    "[OSMI Survey on Mental Health in the Tech Workplace in 2014](https://www.kaggle.com/osmi/mental-health-in-tech-survey) \n",
    "\n",
    "[\"Ongoing\" OSMI survey from 2016](https://data.world/kittybot/osmi-mental-health-tech-2016)\n",
    "\n",
    "\n",
    "## Questions\n",
    "\n",
    "What factors are most signficant in influencing whether or not a person believes disclosing a mental health issue would have negative consequences?\n",
    "\n",
    "Can we predict, based on publicly available features of a person and company, whether that person is likely to beleive disclosing a mental health issue would be harmful for their career?"
   ]
  },
  {
   "cell_type": "markdown",
   "metadata": {},
   "source": [
    "## Plan"
   ]
  },
  {
   "cell_type": "code",
   "execution_count": 1,
   "metadata": {
    "collapsed": true
   },
   "outputs": [],
   "source": [
    "# clean 2014 data:\n",
    "#   - remove invalid ages  ( < 16, > 80)\n",
    "#   - create gender categories\n",
    "#   - create dictionary to map questions to column names (from original data set)\n",
    "#   - add year column with all 2014s"
   ]
  },
  {
   "cell_type": "code",
   "execution_count": 2,
   "metadata": {
    "collapsed": true
   },
   "outputs": [],
   "source": [
    "# use only US data"
   ]
  },
  {
   "cell_type": "code",
   "execution_count": 3,
   "metadata": {
    "collapsed": false
   },
   "outputs": [],
   "source": [
    "# plot number of responses by age"
   ]
  },
  {
   "cell_type": "code",
   "execution_count": 4,
   "metadata": {
    "collapsed": true
   },
   "outputs": [],
   "source": [
    "# plot frequency of mental health consequences yes/no/maybe by age"
   ]
  },
  {
   "cell_type": "code",
   "execution_count": 5,
   "metadata": {
    "collapsed": true
   },
   "outputs": [],
   "source": [
    "# plot frequency of mental health consequence yes/no/maybe by age groups (quantiles, 4-6 groups)"
   ]
  },
  {
   "cell_type": "code",
   "execution_count": 6,
   "metadata": {
    "collapsed": true
   },
   "outputs": [],
   "source": [
    "################ Logistic Regression"
   ]
  },
  {
   "cell_type": "code",
   "execution_count": 7,
   "metadata": {
    "collapsed": true
   },
   "outputs": [],
   "source": [
    "# logistic regression \n",
    "# - combine mental health consequences (yes and maybe) vs no as boolean categorical Y to predict\n",
    "# - pull out X variables that are public\n",
    "# - created dummies for categorical public X variables"
   ]
  },
  {
   "cell_type": "markdown",
   "metadata": {},
   "source": [
    "## Setup"
   ]
  },
  {
   "cell_type": "code",
   "execution_count": 8,
   "metadata": {
    "collapsed": true
   },
   "outputs": [],
   "source": [
    "import pandas as pd\n",
    "import numpy as np\n",
    "import matplotlib.pyplot as plt\n",
    "%matplotlib inline\n",
    "import seaborn as sns\n",
    "# some plotting colors:\n",
    "y = badass = '#BADA55'\n",
    "m = '#444444'\n",
    "n = 'b'\n",
    "coffee = '#C0FFEE'"
   ]
  },
  {
   "cell_type": "markdown",
   "metadata": {
    "collapsed": true
   },
   "source": [
    "## Import & Initial Data Cleaning"
   ]
  },
  {
   "cell_type": "code",
   "execution_count": 9,
   "metadata": {
    "collapsed": false
   },
   "outputs": [
    {
     "name": "stdout",
     "output_type": "stream",
     "text": [
      "(1259, 183)\n",
      "(1251, 183)\n"
     ]
    }
   ],
   "source": [
    "# df14 = pd.read_csv('./datasets/2014/clean-no-dummies-2014.csv', index_col=0)\n",
    "df14 = pd.read_csv('./datasets/2014/clean-mental-health-in-tech-2014.csv', index_col=0)\n",
    "print df14.shape\n",
    "df14.dropna(subset=['age'], inplace=True) \n",
    "print df14.shape"
   ]
  },
  {
   "cell_type": "markdown",
   "metadata": {},
   "source": [
    "### Limit to US Data"
   ]
  },
  {
   "cell_type": "code",
   "execution_count": 10,
   "metadata": {
    "collapsed": false
   },
   "outputs": [
    {
     "name": "stdout",
     "output_type": "stream",
     "text": [
      "(746, 183)\n"
     ]
    },
    {
     "data": {
      "text/html": [
       "<div>\n",
       "<table border=\"1\" class=\"dataframe\">\n",
       "  <thead>\n",
       "    <tr style=\"text-align: right;\">\n",
       "      <th></th>\n",
       "      <th>timestamp</th>\n",
       "      <th>age</th>\n",
       "      <th>gender</th>\n",
       "      <th>country</th>\n",
       "      <th>state</th>\n",
       "      <th>self_employed</th>\n",
       "      <th>family_history</th>\n",
       "      <th>treatment</th>\n",
       "      <th>work_interfere</th>\n",
       "      <th>num_employees</th>\n",
       "      <th>...</th>\n",
       "      <th>phys_health_consequence_no</th>\n",
       "      <th>phys_health_consequence_yes</th>\n",
       "      <th>leave_dont_know</th>\n",
       "      <th>leave_somewhat_difficult</th>\n",
       "      <th>leave_somewhat_easy</th>\n",
       "      <th>leave_very_difficult</th>\n",
       "      <th>leave_very_easy</th>\n",
       "      <th>gender_category_female</th>\n",
       "      <th>gender_category_male</th>\n",
       "      <th>gender_category_other</th>\n",
       "    </tr>\n",
       "  </thead>\n",
       "  <tbody>\n",
       "    <tr>\n",
       "      <th>0</th>\n",
       "      <td>2014-08-27 11:29:31</td>\n",
       "      <td>37.0</td>\n",
       "      <td>Female</td>\n",
       "      <td>United States</td>\n",
       "      <td>IL</td>\n",
       "      <td>NaN</td>\n",
       "      <td>0</td>\n",
       "      <td>1</td>\n",
       "      <td>often</td>\n",
       "      <td>6-25</td>\n",
       "      <td>...</td>\n",
       "      <td>1</td>\n",
       "      <td>0</td>\n",
       "      <td>0</td>\n",
       "      <td>0</td>\n",
       "      <td>1</td>\n",
       "      <td>0</td>\n",
       "      <td>0</td>\n",
       "      <td>1</td>\n",
       "      <td>0</td>\n",
       "      <td>0</td>\n",
       "    </tr>\n",
       "    <tr>\n",
       "      <th>1</th>\n",
       "      <td>2014-08-27 11:29:37</td>\n",
       "      <td>44.0</td>\n",
       "      <td>M</td>\n",
       "      <td>United States</td>\n",
       "      <td>IN</td>\n",
       "      <td>NaN</td>\n",
       "      <td>0</td>\n",
       "      <td>0</td>\n",
       "      <td>rarely</td>\n",
       "      <td>1000+</td>\n",
       "      <td>...</td>\n",
       "      <td>1</td>\n",
       "      <td>0</td>\n",
       "      <td>1</td>\n",
       "      <td>0</td>\n",
       "      <td>0</td>\n",
       "      <td>0</td>\n",
       "      <td>0</td>\n",
       "      <td>0</td>\n",
       "      <td>1</td>\n",
       "      <td>0</td>\n",
       "    </tr>\n",
       "    <tr>\n",
       "      <th>4</th>\n",
       "      <td>2014-08-27 11:30:22</td>\n",
       "      <td>31.0</td>\n",
       "      <td>Male</td>\n",
       "      <td>United States</td>\n",
       "      <td>TX</td>\n",
       "      <td>NaN</td>\n",
       "      <td>0</td>\n",
       "      <td>0</td>\n",
       "      <td>never</td>\n",
       "      <td>100-500</td>\n",
       "      <td>...</td>\n",
       "      <td>1</td>\n",
       "      <td>0</td>\n",
       "      <td>1</td>\n",
       "      <td>0</td>\n",
       "      <td>0</td>\n",
       "      <td>0</td>\n",
       "      <td>0</td>\n",
       "      <td>0</td>\n",
       "      <td>1</td>\n",
       "      <td>0</td>\n",
       "    </tr>\n",
       "  </tbody>\n",
       "</table>\n",
       "<p>3 rows × 183 columns</p>\n",
       "</div>"
      ],
      "text/plain": [
       "             timestamp   age  gender        country state self_employed  \\\n",
       "0  2014-08-27 11:29:31  37.0  Female  United States    IL           NaN   \n",
       "1  2014-08-27 11:29:37  44.0       M  United States    IN           NaN   \n",
       "4  2014-08-27 11:30:22  31.0    Male  United States    TX           NaN   \n",
       "\n",
       "   family_history  treatment work_interfere num_employees  \\\n",
       "0               0          1          often          6-25   \n",
       "1               0          0         rarely         1000+   \n",
       "4               0          0          never       100-500   \n",
       "\n",
       "           ...           phys_health_consequence_no  \\\n",
       "0          ...                                    1   \n",
       "1          ...                                    1   \n",
       "4          ...                                    1   \n",
       "\n",
       "   phys_health_consequence_yes leave_dont_know leave_somewhat_difficult  \\\n",
       "0                            0               0                        0   \n",
       "1                            0               1                        0   \n",
       "4                            0               1                        0   \n",
       "\n",
       "  leave_somewhat_easy leave_very_difficult leave_very_easy  \\\n",
       "0                   1                    0               0   \n",
       "1                   0                    0               0   \n",
       "4                   0                    0               0   \n",
       "\n",
       "  gender_category_female gender_category_male gender_category_other  \n",
       "0                      1                    0                     0  \n",
       "1                      0                    1                     0  \n",
       "4                      0                    1                     0  \n",
       "\n",
       "[3 rows x 183 columns]"
      ]
     },
     "execution_count": 10,
     "metadata": {},
     "output_type": "execute_result"
    }
   ],
   "source": [
    "df14 = df14[df14['country']=='United States']\n",
    "print df14.shape\n",
    "df14.head(3)"
   ]
  },
  {
   "cell_type": "markdown",
   "metadata": {},
   "source": [
    "### Column-Question Mapping\n",
    "\n",
    "Conveniently look up the survey question associated with each column name.\n",
    "\n",
    "Can also add to the maps to describe created columns."
   ]
  },
  {
   "cell_type": "code",
   "execution_count": 11,
   "metadata": {
    "collapsed": true
   },
   "outputs": [],
   "source": [
    "# map column names to questions\n",
    "df14.cq = {'age': 'Age',\n",
    " 'anonymity': 'Is your anonymity protected if you choose to take advantage of mental health or substance abuse treatment resources?',\n",
    " 'benefits': 'Does your employer provide mental health benefits?',\n",
    " 'care_options': 'Do you know the options for mental health care your employer provides?',\n",
    " 'country': 'Country',\n",
    " 'coworkers': 'Would you be willing to discuss a mental health issue with your coworkers?',\n",
    " 'family_history': 'Do you have a family history of mental illness?',\n",
    " 'gender': 'Gender',\n",
    " 'leave': 'How easy is it for you to take medical leave for a mental health condition?',\n",
    " 'mental_health_consequence': 'Do you think that discussing a mental health issue with your employer would have negative consequences?',\n",
    " 'mental_health_interview': 'Would you bring up a mental health issue with a potential employer in an interview?',\n",
    " 'mental_vs_physical': 'Do you feel that your employer takes mental health as seriously as physical health?',\n",
    " 'num_employees': 'How many employees does your company or organization have?',\n",
    " 'obs_consequence': 'Have you heard of or observed negative consequences for coworkers with mental health conditions in your workplace?',\n",
    " 'phys_health_consequence': 'Do you think that discussing a physical health issue with your employer would have negative consequences?',\n",
    " 'phys_health_interview': 'Would you bring up a physical health issue with a potential employer in an interview?',\n",
    " 'remote_work': 'Do you work remotely (outside of an office) at least 50% of the time?',\n",
    " 'seek_help': 'Does your employer provide resources to learn more about mental health issues and how to seek help?',\n",
    " 'self_employed': 'Are you self-employed?',\n",
    " 'state': 'If you live in the United States, which state or territory do you live in?',\n",
    " 'supervisor': 'Would you be willing to discuss a mental health issue with your direct supervisor(s)?',\n",
    " 'tech_company': 'Is your employer primarily a tech company/organization?',\n",
    " 'timestamp': 'Timestamp',\n",
    " 'treatment': 'Have you sought treatment for a mental health condition?',\n",
    " 'wellness_program': 'Has your employer ever discussed mental health as part of an employee wellness program?',\n",
    " 'work_interfere': 'If you have a mental health condition, do you feel that it interferes with your work?'\n",
    "}"
   ]
  },
  {
   "cell_type": "markdown",
   "metadata": {},
   "source": [
    "#### Additional Derived Columns"
   ]
  },
  {
   "cell_type": "code",
   "execution_count": 12,
   "metadata": {
    "collapsed": false
   },
   "outputs": [],
   "source": [
    "# gender_category_explanation = 'Derived column: categorized gender responses into male/female/other. Trans males and females are categorized as males and females, respectively.'\n",
    "# df14.cq['gender_category'] = gender_category_explanation\n",
    "df14.cq['gender_category'] = 'Derived: male/female/other. Trans male and trans female categorized as male and female, respectively.'"
   ]
  },
  {
   "cell_type": "code",
   "execution_count": 13,
   "metadata": {
    "collapsed": true
   },
   "outputs": [],
   "source": [
    "df14['year'] = 2014"
   ]
  },
  {
   "cell_type": "markdown",
   "metadata": {},
   "source": [
    "#### Preview Column Function"
   ]
  },
  {
   "cell_type": "code",
   "execution_count": 14,
   "metadata": {
    "collapsed": false
   },
   "outputs": [],
   "source": [
    "# helper function to get column preview\n",
    "def preview_col(col, data=df14):\n",
    "    if col in data.cq:\n",
    "        print data.cq[col]\n",
    "    counts = data[col].value_counts(dropna=False)\n",
    "    print counts\n",
    "    percents = counts * (100.0/data.shape[0])\n",
    "    print percents\n",
    "    return percents"
   ]
  },
  {
   "cell_type": "code",
   "execution_count": 15,
   "metadata": {
    "collapsed": false
   },
   "outputs": [
    {
     "name": "stdout",
     "output_type": "stream",
     "text": [
      "Have you sought treatment for a mental health condition?\n",
      "1    408\n",
      "0    338\n",
      "Name: treatment, dtype: int64\n",
      "1    54.691689\n",
      "0    45.308311\n",
      "Name: treatment, dtype: float64\n"
     ]
    },
    {
     "name": "stderr",
     "output_type": "stream",
     "text": [
      "/Users/bgveenstra/anaconda/lib/python2.7/site-packages/pandas/tools/plotting.py:983: UserWarning: 'colors' is being deprecated. Please use 'color'instead of 'colors'\n",
      "  warnings.warn((\"'colors' is being deprecated. Please use 'color'\"\n"
     ]
    },
    {
     "data": {
      "text/plain": [
       "<matplotlib.axes._subplots.AxesSubplot at 0x10d8ce3d0>"
      ]
     },
     "execution_count": 15,
     "metadata": {},
     "output_type": "execute_result"
    },
    {
     "data": {
      "image/png": "[encoded data removed]",
      "text/plain": [
       "<matplotlib.figure.Figure at 0x10336db10>"
      ]
     },
     "metadata": {},
     "output_type": "display_data"
    }
   ],
   "source": [
    "tps = preview_col('treatment')\n",
    "tps.plot(kind='bar', colors=[y,n])"
   ]
  },
  {
   "cell_type": "markdown",
   "metadata": {},
   "source": [
    "### Mental Health Consequences Boolean Column\n",
    "\n",
    "Adding a column that will have 1 if the respondent answered `yes` or `maybe` for mental health consequence, and 0 if `no`."
   ]
  },
  {
   "cell_type": "code",
   "execution_count": 16,
   "metadata": {
    "collapsed": false,
    "scrolled": false
   },
   "outputs": [
    {
     "name": "stdout",
     "output_type": "stream",
     "text": [
      "Do you think that discussing a mental health issue with your employer would have negative consequences?\n",
      "maybe    299\n",
      "no       277\n",
      "yes      170\n",
      "Name: mental_health_consequence, dtype: int64\n",
      "maybe    40.080429\n",
      "no       37.131367\n",
      "yes      22.788204\n",
      "Name: mental_health_consequence, dtype: float64\n"
     ]
    },
    {
     "data": {
      "text/plain": [
       "<matplotlib.axes._subplots.AxesSubplot at 0x10dea1e10>"
      ]
     },
     "execution_count": 16,
     "metadata": {},
     "output_type": "execute_result"
    },
    {
     "data": {
      "image/png": "[encoded data removed]",
      "text/plain": [
       "<matplotlib.figure.Figure at 0x10334f750>"
      ]
     },
     "metadata": {},
     "output_type": "display_data"
    }
   ],
   "source": [
    "mhc = 'mental_health_consequence'\n",
    "mhcp = preview_col(mhc)\n",
    "mhcp.plot(kind='bar', colors=[m, n, y])"
   ]
  },
  {
   "cell_type": "code",
   "execution_count": 17,
   "metadata": {
    "collapsed": true
   },
   "outputs": [],
   "source": [
    "# from multiclass mental health consequence column, get a boolean column\n",
    "mhc2 = 'mental_health_yes_maybe'"
   ]
  },
  {
   "cell_type": "code",
   "execution_count": 18,
   "metadata": {
    "collapsed": false
   },
   "outputs": [],
   "source": [
    "def ymn(ynmstr):\n",
    "    if ynmstr == 'no':\n",
    "        return 0\n",
    "    else:\n",
    "        return 1\n",
    "df14['mental_health_yes_maybe'] = df14['mental_health_consequence'].map(lambda(x): ymn(x))"
   ]
  },
  {
   "cell_type": "code",
   "execution_count": 19,
   "metadata": {
    "collapsed": false
   },
   "outputs": [
    {
     "data": {
      "text/plain": [
       "1    469\n",
       "0    277\n",
       "Name: mental_health_yes_maybe, dtype: int64"
      ]
     },
     "execution_count": 19,
     "metadata": {},
     "output_type": "execute_result"
    }
   ],
   "source": [
    "df14[mhc2].value_counts(dropna=False)"
   ]
  },
  {
   "cell_type": "code",
   "execution_count": 20,
   "metadata": {
    "collapsed": false
   },
   "outputs": [],
   "source": [
    "# df14[mhc].value_counts()"
   ]
  },
  {
   "cell_type": "markdown",
   "metadata": {},
   "source": [
    "### Responses by age"
   ]
  },
  {
   "cell_type": "code",
   "execution_count": 21,
   "metadata": {
    "collapsed": false
   },
   "outputs": [
    {
     "data": {
      "text/plain": [
       "<matplotlib.axes._subplots.AxesSubplot at 0x1108ec810>"
      ]
     },
     "execution_count": 21,
     "metadata": {},
     "output_type": "execute_result"
    },
    {
     "data": {
      "image/png": "[encoded data removed]",
      "text/plain": [
       "<matplotlib.figure.Figure at 0x1109073d0>"
      ]
     },
     "metadata": {},
     "output_type": "display_data"
    }
   ],
   "source": [
    "df14.groupby('age').size().plot(kind='bar')"
   ]
  },
  {
   "cell_type": "code",
   "execution_count": 22,
   "metadata": {
    "collapsed": false
   },
   "outputs": [
    {
     "data": {
      "text/plain": [
       "count    746.000000\n",
       "mean      33.130027\n",
       "std        7.647817\n",
       "min       18.000000\n",
       "25%       28.000000\n",
       "50%       32.000000\n",
       "75%       37.750000\n",
       "max       72.000000\n",
       "Name: age, dtype: float64"
      ]
     },
     "execution_count": 22,
     "metadata": {},
     "output_type": "execute_result"
    }
   ],
   "source": [
    "df14.age.describe()"
   ]
  },
  {
   "cell_type": "code",
   "execution_count": 23,
   "metadata": {
    "collapsed": false
   },
   "outputs": [
    {
     "name": "stdout",
     "output_type": "stream",
     "text": [
      "gender_category\n",
      "female    184\n",
      "male      557\n",
      "other       5\n",
      "dtype: int64\n"
     ]
    },
    {
     "data": {
      "text/plain": [
       "<matplotlib.axes._subplots.AxesSubplot at 0x110900c50>"
      ]
     },
     "execution_count": 23,
     "metadata": {},
     "output_type": "execute_result"
    },
    {
     "data": {
      "image/png": "[encoded data removed]",
      "text/plain": [
       "<matplotlib.figure.Figure at 0x110907050>"
      ]
     },
     "metadata": {},
     "output_type": "display_data"
    }
   ],
   "source": [
    "gcs = df14.groupby('gender_category')\n",
    "gcs_size = gcs.size()\n",
    "print gcs_size\n",
    "gcs_size.plot(kind='bar')"
   ]
  },
  {
   "cell_type": "code",
   "execution_count": 24,
   "metadata": {
    "collapsed": false,
    "scrolled": true
   },
   "outputs": [
    {
     "name": "stdout",
     "output_type": "stream",
     "text": [
      "mental_health_consequence\n",
      "maybe    214\n",
      "no       226\n",
      "yes      117\n",
      "dtype: int64\n",
      "mental_health_consequence\n",
      "maybe    82\n",
      "no       51\n",
      "yes      51\n",
      "dtype: int64\n",
      "mental_health_consequence\n",
      "maybe    3\n",
      "yes      2\n",
      "dtype: int64\n"
     ]
    }
   ],
   "source": [
    "def plot_percentages(df, category_col, target_col):\n",
    "    for cat_val in df[category_col].unique():\n",
    "        get_percentages_val(df, category_col, target_col, cat_val)\n",
    "        \n",
    "        \n",
    "def get_percentages_val(df, category_col, target_col, cat_val):\n",
    "    catdf = df[df[category_col]==cat_val]\n",
    "    num_this_catval = catdf.shape[0]\n",
    "    cat_target_groups = catdf.groupby(target_col)\n",
    "    cat_target_sizes = cat_target_groups.size()\n",
    "    print cat_target_sizes\n",
    "    cat_target_percentages =  100 * cat_target_sizes / num_this_catval\n",
    "    return cat_target_percentages\n",
    "    \n",
    "mp = get_percentages_val(df14, 'gender_category', mhc, 'male')\n",
    "fp = get_percentages_val(df14, 'gender_category', mhc, 'female')\n",
    "op = get_percentages_val(df14, 'gender_category', mhc, 'other')\n",
    "op['no'] = 0.0\n",
    "# print mp \n",
    "# print fp \n",
    "# print op"
   ]
  },
  {
   "cell_type": "code",
   "execution_count": 25,
   "metadata": {
    "collapsed": false
   },
   "outputs": [
    {
     "data": {
      "image/png": "[encoded data removed]",
      "text/plain": [
       "<matplotlib.figure.Figure at 0x110c4f690>"
      ]
     },
     "metadata": {},
     "output_type": "display_data"
    }
   ],
   "source": [
    "fig = plt.figure()\n",
    "\n",
    "mp.plot(kind='bar', color='red', position=2, width=0.1)\n",
    "fp.plot(kind='bar', color='blue', position=1, width=0.1)\n",
    "op.plot(kind='bar', color='green', position=0, width=0.1)\n",
    "fig.set_ylabel = ('percent')\n",
    "plt.show()"
   ]
  },
  {
   "cell_type": "code",
   "execution_count": null,
   "metadata": {
    "collapsed": false
   },
   "outputs": [],
   "source": []
  },
  {
   "cell_type": "code",
   "execution_count": 26,
   "metadata": {
    "collapsed": false
   },
   "outputs": [
    {
     "data": {
      "text/html": [
       "<div>\n",
       "<table border=\"1\" class=\"dataframe\">\n",
       "  <thead>\n",
       "    <tr style=\"text-align: right;\">\n",
       "      <th></th>\n",
       "      <th>treatment</th>\n",
       "      <th>mental_health_consequence</th>\n",
       "      <th>percentage</th>\n",
       "    </tr>\n",
       "  </thead>\n",
       "  <tbody>\n",
       "    <tr>\n",
       "      <th>0</th>\n",
       "      <td>0</td>\n",
       "      <td>maybe</td>\n",
       "      <td>37.869822</td>\n",
       "    </tr>\n",
       "    <tr>\n",
       "      <th>1</th>\n",
       "      <td>0</td>\n",
       "      <td>no</td>\n",
       "      <td>44.674556</td>\n",
       "    </tr>\n",
       "    <tr>\n",
       "      <th>2</th>\n",
       "      <td>0</td>\n",
       "      <td>yes</td>\n",
       "      <td>17.455621</td>\n",
       "    </tr>\n",
       "    <tr>\n",
       "      <th>3</th>\n",
       "      <td>1</td>\n",
       "      <td>maybe</td>\n",
       "      <td>41.911765</td>\n",
       "    </tr>\n",
       "    <tr>\n",
       "      <th>4</th>\n",
       "      <td>1</td>\n",
       "      <td>no</td>\n",
       "      <td>30.882353</td>\n",
       "    </tr>\n",
       "    <tr>\n",
       "      <th>5</th>\n",
       "      <td>1</td>\n",
       "      <td>yes</td>\n",
       "      <td>27.205882</td>\n",
       "    </tr>\n",
       "  </tbody>\n",
       "</table>\n",
       "</div>"
      ],
      "text/plain": [
       "   treatment mental_health_consequence  percentage\n",
       "0          0                     maybe   37.869822\n",
       "1          0                        no   44.674556\n",
       "2          0                       yes   17.455621\n",
       "3          1                     maybe   41.911765\n",
       "4          1                        no   30.882353\n",
       "5          1                       yes   27.205882"
      ]
     },
     "execution_count": 26,
     "metadata": {},
     "output_type": "execute_result"
    }
   ],
   "source": [
    "# def cat_proportion_in_col(df, main, sub):\n",
    "#     d = df[[main, sub]].copy()\n",
    "#     count_subs_per_main = d.groupby([main, sub]).size()\n",
    "#     percent_subs_per_main = count_subs_per_main.groupby(level=[0]).apply(lambda x: 100*x /  x.sum())\n",
    "#     return percent_subs_per_main\n",
    "\n",
    "# pros = cat_proportion_in_col(df14, 'gender_category', mhc)\n",
    "# print 'no' in pros['other']\n",
    "# pros[('other', 'no')] = 0 \n",
    "# pros\n",
    "def cat_proportion_in_col(df, main, sub):\n",
    "    d = df[[main, sub]].copy()\n",
    "    count_subs_per_main = d.groupby([main, sub]).size()\n",
    "    percent_subs_per_main = count_subs_per_main.groupby(level=[0]).apply(lambda x: 100*x /  x.sum())\n",
    "    pdf = pd.DataFrame(percent_subs_per_main)\n",
    "    pdf.reset_index(inplace=True)\n",
    "    pdf.rename(columns={0:'percentage'}, inplace=True)\n",
    "    return pdf\n",
    "\n",
    "pros = cat_proportion_in_col(df14, 'treatment', mhc)\n",
    "pros"
   ]
  },
  {
   "cell_type": "code",
   "execution_count": 27,
   "metadata": {
    "collapsed": false
   },
   "outputs": [
    {
     "data": {
      "text/plain": [
       "<matplotlib.axes._subplots.AxesSubplot at 0x110f2af90>"
      ]
     },
     "execution_count": 27,
     "metadata": {},
     "output_type": "execute_result"
    },
    {
     "data": {
      "image/png": "[encoded data removed]",
      "text/plain": [
       "<matplotlib.figure.Figure at 0x110d210d0>"
      ]
     },
     "metadata": {},
     "output_type": "display_data"
    }
   ],
   "source": [
    "sns.swarmplot(y=mhc, x='age', data=df14)"
   ]
  },
  {
   "cell_type": "code",
   "execution_count": 28,
   "metadata": {
    "collapsed": false
   },
   "outputs": [
    {
     "data": {
      "image/png": "[encoded data removed]",
      "text/plain": [
       "<matplotlib.figure.Figure at 0x110f52210>"
      ]
     },
     "metadata": {},
     "output_type": "display_data"
    }
   ],
   "source": [
    "sns.violinplot(\n",
    "    x='treatment', \n",
    "    y='age', \n",
    "    hue=mhc, \n",
    "    data=df14,         \n",
    "    split=False, \n",
    "#     inner=\"stick\", \n",
    "    palette=\"Set2\"\n",
    ");"
   ]
  },
  {
   "cell_type": "code",
   "execution_count": 29,
   "metadata": {
    "collapsed": true
   },
   "outputs": [],
   "source": [
    "def plot_percentage(df, main_col, sub_col):\n",
    "    percent_df = cat_proportion_in_col(df, main_col, sub_col)\n",
    "    print percent_df\n",
    "    fg = sns.factorplot(\n",
    "        x=mhc, \n",
    "        y='percentage',\n",
    "        col=main_col,\n",
    "        data=percent_df, \n",
    "        kind='bar',\n",
    "        palette='Set1',\n",
    "        order=['no', 'maybe', 'yes']\n",
    "    )\n",
    "    fg.set_xlabels('')\n",
    "    fg.fig.subplots_adjust(top=0.84)\n",
    "    fg.fig.suptitle('{0} response proportions by {1}'.format(sub_col, main_col))"
   ]
  },
  {
   "cell_type": "code",
   "execution_count": 30,
   "metadata": {
    "collapsed": false
   },
   "outputs": [
    {
     "name": "stdout",
     "output_type": "stream",
     "text": [
      "   obs_consequence mental_health_consequence  percentage\n",
      "0                0                     maybe   40.577508\n",
      "1                0                        no   39.361702\n",
      "2                0                       yes   20.060790\n",
      "3                1                     maybe   36.363636\n",
      "4                1                        no   20.454545\n",
      "5                1                       yes   43.181818\n"
     ]
    },
    {
     "data": {
      "image/png": "[encoded data removed]",
      "text/plain": [
       "<matplotlib.figure.Figure at 0x1117f1b10>"
      ]
     },
     "metadata": {},
     "output_type": "display_data"
    }
   ],
   "source": [
    "plot_percentage(df14, 'obs_consequence', mhc)"
   ]
  },
  {
   "cell_type": "code",
   "execution_count": 31,
   "metadata": {
    "collapsed": false
   },
   "outputs": [
    {
     "name": "stdout",
     "output_type": "stream",
     "text": [
      "   treatment mental_health_consequence  percentage\n",
      "0          0                     maybe   37.869822\n",
      "1          0                        no   44.674556\n",
      "2          0                       yes   17.455621\n",
      "3          1                     maybe   41.911765\n",
      "4          1                        no   30.882353\n",
      "5          1                       yes   27.205882\n"
     ]
    },
    {
     "data": {
      "image/png": "[encoded data removed]",
      "text/plain": [
       "<matplotlib.figure.Figure at 0x110f5cfd0>"
      ]
     },
     "metadata": {},
     "output_type": "display_data"
    }
   ],
   "source": [
    "plot_percentage(df14, 'treatment', mhc)"
   ]
  },
  {
   "cell_type": "code",
   "execution_count": 32,
   "metadata": {
    "collapsed": false
   },
   "outputs": [
    {
     "name": "stdout",
     "output_type": "stream",
     "text": [
      "   tech_company mental_health_consequence  percentage\n",
      "0             0                     maybe   47.482014\n",
      "1             0                        no   25.179856\n",
      "2             0                       yes   27.338129\n",
      "3             1                     maybe   38.385502\n",
      "4             1                        no   39.868204\n",
      "5             1                       yes   21.746293\n"
     ]
    },
    {
     "data": {
      "image/png": "[encoded data removed]",
      "text/plain": [
       "<matplotlib.figure.Figure at 0x111aca850>"
      ]
     },
     "metadata": {},
     "output_type": "display_data"
    }
   ],
   "source": [
    "plot_percentage(df14, 'tech_company', mhc)"
   ]
  },
  {
   "cell_type": "code",
   "execution_count": 33,
   "metadata": {
    "collapsed": false
   },
   "outputs": [
    {
     "name": "stdout",
     "output_type": "stream",
     "text": [
      "  gender_category mental_health_consequence  percentage\n",
      "0          female                     maybe   44.565217\n",
      "1          female                        no   27.717391\n",
      "2          female                       yes   27.717391\n",
      "3            male                     maybe   38.420108\n",
      "4            male                        no   40.574506\n",
      "5            male                       yes   21.005386\n",
      "6           other                     maybe   60.000000\n",
      "7           other                       yes   40.000000\n"
     ]
    },
    {
     "data": {
      "image/png": "[encoded data removed]",
      "text/plain": [
       "<matplotlib.figure.Figure at 0x111dc2a50>"
      ]
     },
     "metadata": {},
     "output_type": "display_data"
    }
   ],
   "source": [
    "plot_percentage(df14, 'gender_category', mhc)"
   ]
  },
  {
   "cell_type": "code",
   "execution_count": 34,
   "metadata": {
    "collapsed": false
   },
   "outputs": [
    {
     "name": "stdout",
     "output_type": "stream",
     "text": [
      "   work_interfere mental_health_consequence  percentage\n",
      "0           never                     maybe   41.935484\n",
      "1           never                        no   41.129032\n",
      "2           never                       yes   16.935484\n",
      "3           often                     maybe   37.500000\n",
      "4           often                        no   26.250000\n",
      "5           often                       yes   36.250000\n",
      "6          rarely                     maybe   40.540541\n",
      "7          rarely                        no   41.441441\n",
      "8          rarely                       yes   18.018018\n",
      "9       sometimes                     maybe   41.868512\n",
      "10      sometimes                        no   29.411765\n",
      "11      sometimes                       yes   28.719723\n"
     ]
    },
    {
     "data": {
      "image/png": "[encoded data removed]",
      "text/plain": [
       "<matplotlib.figure.Figure at 0x1120c36d0>"
      ]
     },
     "metadata": {},
     "output_type": "display_data"
    }
   ],
   "source": [
    "wi_df = cat_proportion_in_col(df14, 'work_interfere', mhc)\n",
    "print wi_df\n",
    "fg = sns.factorplot(\n",
    "    x=mhc, \n",
    "    y='percentage',\n",
    "    col='work_interfere',\n",
    "    data=wi_df, \n",
    "    kind='bar',\n",
    "    palette='Set1',\n",
    "    order=['no', 'maybe', 'yes']\n",
    ")\n",
    "fg.set_xlabels('')\n",
    "fg.fig.subplots_adjust(top=0.84)\n",
    "# fg.fig.suptitle('{0} response proportions by {1}'.format(mhc, 'work_interfere'))"
   ]
  },
  {
   "cell_type": "code",
   "execution_count": 35,
   "metadata": {
    "collapsed": false
   },
   "outputs": [
    {
     "data": {
      "text/plain": [
       "18.0     3\n",
       "19.0     2\n",
       "20.0     2\n",
       "21.0     7\n",
       "22.0     9\n",
       "23.0    27\n",
       "24.0    24\n",
       "25.0    39\n",
       "26.0    37\n",
       "27.0    34\n",
       "28.0    34\n",
       "29.0    50\n",
       "30.0    37\n",
       "31.0    41\n",
       "32.0    44\n",
       "33.0    46\n",
       "34.0    33\n",
       "35.0    41\n",
       "36.0    28\n",
       "37.0    21\n",
       "38.0    25\n",
       "39.0    19\n",
       "40.0    28\n",
       "41.0    16\n",
       "42.0    15\n",
       "43.0    20\n",
       "44.0     9\n",
       "45.0     9\n",
       "46.0    12\n",
       "47.0     2\n",
       "48.0     4\n",
       "49.0     3\n",
       "50.0     5\n",
       "51.0     3\n",
       "53.0     1\n",
       "54.0     1\n",
       "55.0     2\n",
       "56.0     4\n",
       "57.0     3\n",
       "58.0     1\n",
       "60.0     2\n",
       "62.0     1\n",
       "65.0     1\n",
       "72.0     1\n",
       "Name: age, dtype: int64"
      ]
     },
     "execution_count": 35,
     "metadata": {},
     "output_type": "execute_result"
    }
   ],
   "source": [
    "agec = df14['age'].value_counts()\n",
    "agec = agec.sort_index()\n",
    "agec"
   ]
  },
  {
   "cell_type": "code",
   "execution_count": 36,
   "metadata": {
    "collapsed": false
   },
   "outputs": [
    {
     "data": {
      "text/plain": [
       "age\n",
       "18.0     1\n",
       "19.0     1\n",
       "20.0     0\n",
       "21.0     3\n",
       "22.0     6\n",
       "23.0    15\n",
       "24.0    12\n",
       "25.0    26\n",
       "26.0    25\n",
       "27.0    19\n",
       "28.0    27\n",
       "29.0    32\n",
       "30.0    20\n",
       "31.0    21\n",
       "32.0    27\n",
       "33.0    25\n",
       "34.0    25\n",
       "35.0    23\n",
       "36.0    17\n",
       "37.0    14\n",
       "38.0    17\n",
       "39.0    13\n",
       "40.0    22\n",
       "41.0    13\n",
       "42.0    13\n",
       "43.0    12\n",
       "44.0     8\n",
       "45.0     4\n",
       "46.0     8\n",
       "47.0     1\n",
       "48.0     4\n",
       "49.0     2\n",
       "50.0     1\n",
       "51.0     0\n",
       "53.0     1\n",
       "54.0     0\n",
       "55.0     1\n",
       "56.0     2\n",
       "57.0     3\n",
       "58.0     1\n",
       "60.0     1\n",
       "62.0     1\n",
       "65.0     1\n",
       "72.0     1\n",
       "Name: mental_health_yes_maybe, dtype: int64"
      ]
     },
     "execution_count": 36,
     "metadata": {},
     "output_type": "execute_result"
    }
   ],
   "source": [
    "agey = df14.groupby('age')[mhc2].sum()\n",
    "agey"
   ]
  },
  {
   "cell_type": "code",
   "execution_count": 37,
   "metadata": {
    "collapsed": false
   },
   "outputs": [
    {
     "data": {
      "text/plain": [
       "age\n",
       "21.0     3\n",
       "22.0     6\n",
       "23.0    15\n",
       "24.0    12\n",
       "25.0    26\n",
       "26.0    25\n",
       "27.0    19\n",
       "28.0    27\n",
       "29.0    32\n",
       "30.0    20\n",
       "31.0    21\n",
       "32.0    27\n",
       "33.0    25\n",
       "34.0    25\n",
       "35.0    23\n",
       "36.0    17\n",
       "37.0    14\n",
       "38.0    17\n",
       "39.0    13\n",
       "40.0    22\n",
       "41.0    13\n",
       "42.0    13\n",
       "43.0    12\n",
       "44.0     8\n",
       "45.0     4\n",
       "46.0     8\n",
       "47.0     1\n",
       "Name: mental_health_yes_maybe, dtype: int64"
      ]
     },
     "execution_count": 37,
     "metadata": {},
     "output_type": "execute_result"
    }
   ],
   "source": [
    "agey[3:30,]"
   ]
  },
  {
   "cell_type": "code",
   "execution_count": 38,
   "metadata": {
    "collapsed": false
   },
   "outputs": [
    {
     "data": {
      "text/plain": [
       "age\n",
       "21.0    42.857143\n",
       "22.0    66.666667\n",
       "23.0    55.555556\n",
       "24.0    50.000000\n",
       "25.0    66.666667\n",
       "26.0    67.567568\n",
       "27.0    55.882353\n",
       "28.0    79.411765\n",
       "29.0    64.000000\n",
       "30.0    54.054054\n",
       "31.0    51.219512\n",
       "32.0    61.363636\n",
       "33.0    54.347826\n",
       "34.0    75.757576\n",
       "35.0    56.097561\n",
       "36.0    60.714286\n",
       "37.0    66.666667\n",
       "38.0    68.000000\n",
       "39.0    68.421053\n",
       "40.0    78.571429\n",
       "41.0    81.250000\n",
       "42.0    86.666667\n",
       "43.0    60.000000\n",
       "44.0    88.888889\n",
       "45.0    44.444444\n",
       "46.0    66.666667\n",
       "47.0    50.000000\n",
       "dtype: float64"
      ]
     },
     "execution_count": 38,
     "metadata": {},
     "output_type": "execute_result"
    }
   ],
   "source": [
    "agep = 100.0 * agey[3:30,]/agec[3:30,]\n",
    "agep"
   ]
  },
  {
   "cell_type": "code",
   "execution_count": 39,
   "metadata": {
    "collapsed": false
   },
   "outputs": [
    {
     "data": {
      "text/plain": [
       "<matplotlib.axes._subplots.AxesSubplot at 0x111fa0e10>"
      ]
     },
     "execution_count": 39,
     "metadata": {},
     "output_type": "execute_result"
    },
    {
     "data": {
      "image/png": "[encoded data removed]",
      "text/plain": [
       "<matplotlib.figure.Figure at 0x11248d710>"
      ]
     },
     "metadata": {},
     "output_type": "display_data"
    }
   ],
   "source": [
    "agep.plot(kind='bar')"
   ]
  },
  {
   "cell_type": "code",
   "execution_count": 40,
   "metadata": {
    "collapsed": false
   },
   "outputs": [
    {
     "data": {
      "text/plain": [
       "149"
      ]
     },
     "execution_count": 40,
     "metadata": {},
     "output_type": "execute_result"
    }
   ],
   "source": [
    "nr = df14.shape[0]\n",
    "bot20 = int(nr*.2)\n",
    "bot20"
   ]
  },
  {
   "cell_type": "code",
   "execution_count": 41,
   "metadata": {
    "collapsed": true
   },
   "outputs": [],
   "source": [
    "bot40 = int(nr*.4)"
   ]
  },
  {
   "cell_type": "code",
   "execution_count": 42,
   "metadata": {
    "collapsed": true
   },
   "outputs": [],
   "source": [
    "quintiles = [int(nr*.2*i) for i in range(1, 6)]"
   ]
  },
  {
   "cell_type": "code",
   "execution_count": 43,
   "metadata": {
    "collapsed": false
   },
   "outputs": [
    {
     "data": {
      "text/plain": [
       "[149, 298, 447, 596, 746]"
      ]
     },
     "execution_count": 43,
     "metadata": {},
     "output_type": "execute_result"
    }
   ],
   "source": [
    "quintiles"
   ]
  },
  {
   "cell_type": "code",
   "execution_count": 44,
   "metadata": {
    "collapsed": false
   },
   "outputs": [
    {
     "data": {
      "text/plain": [
       "<matplotlib.axes._subplots.AxesSubplot at 0x111d9d910>"
      ]
     },
     "execution_count": 44,
     "metadata": {},
     "output_type": "execute_result"
    },
    {
     "data": {
      "image/png": "[encoded data removed]",
      "text/plain": [
       "<matplotlib.figure.Figure at 0x112166350>"
      ]
     },
     "metadata": {},
     "output_type": "display_data"
    }
   ],
   "source": [
    "df14.boxplot(column='age')"
   ]
  },
  {
   "cell_type": "code",
   "execution_count": 45,
   "metadata": {
    "collapsed": false
   },
   "outputs": [
    {
     "data": {
      "image/png": "[encoded data removed]",
      "text/plain": [
       "<matplotlib.figure.Figure at 0x1120032d0>"
      ]
     },
     "metadata": {},
     "output_type": "display_data"
    }
   ],
   "source": [
    "# ax = df14.boxplot(column='age')\n",
    "# df14[df14[mhc]=='yes'].boxplot(column='age')\n",
    "# df14[df14[mhc]=='maybe'].boxplot(column='age')\n",
    "# df14[df14[mhc]=='no'].boxplot(column='age')\n",
    "df14[[mhc, 'age']].groupby(mhc).describe()\n",
    "# df\n",
    "\n",
    "sns.boxplot(x=mhc, y='age', data=df14);\n",
    "\n",
    "# a1=a[['kCH4_sync','week_days']]\n",
    "# ax = a1.boxplot(by='week_days', meanline=True, showmeans=True, showcaps=True, \n",
    "#                 showbox=True, showfliers=False, return_type='axes')\n",
    "# a2 = a[['CH4_sync','week_days']]\n",
    "# a2.boxplot(by='week_days', meanline=True, showmeans=True, showcaps=True, \n",
    "#            showbox=True, showfliers=False, ax=ax)"
   ]
  },
  {
   "cell_type": "code",
   "execution_count": 46,
   "metadata": {
    "collapsed": false
   },
   "outputs": [
    {
     "data": {
      "image/png": "[encoded data removed]",
      "text/plain": [
       "<matplotlib.figure.Figure at 0x1120a3990>"
      ]
     },
     "metadata": {},
     "output_type": "display_data"
    }
   ],
   "source": [
    "\n",
    "sns.boxplot(x=mhc2, y='age', data=df14);"
   ]
  },
  {
   "cell_type": "code",
   "execution_count": 47,
   "metadata": {
    "collapsed": false
   },
   "outputs": [
    {
     "data": {
      "text/plain": [
       "<matplotlib.axes._subplots.AxesSubplot at 0x1119e1390>"
      ]
     },
     "execution_count": 47,
     "metadata": {},
     "output_type": "execute_result"
    },
    {
     "data": {
      "image/png": "[encoded data removed]",
      "text/plain": [
       "<matplotlib.figure.Figure at 0x111f4c6d0>"
      ]
     },
     "metadata": {},
     "output_type": "display_data"
    }
   ],
   "source": [
    "\n",
    "df14['age'].plot.hist()"
   ]
  },
  {
   "cell_type": "code",
   "execution_count": 48,
   "metadata": {
    "collapsed": false
   },
   "outputs": [
    {
     "data": {
      "image/png": "[encoded data removed]",
      "text/plain": [
       "<matplotlib.figure.Figure at 0x111c9a050>"
      ]
     },
     "metadata": {},
     "output_type": "display_data"
    }
   ],
   "source": [
    "for r in df14[mhc].unique():\n",
    "    df14[df14[mhc]==r]['age'].plot.hist(alpha=0.30, label=r, legend=True)"
   ]
  },
  {
   "cell_type": "code",
   "execution_count": 49,
   "metadata": {
    "collapsed": false
   },
   "outputs": [
    {
     "data": {
      "image/png": "[encoded data removed]",
      "text/plain": [
       "<matplotlib.figure.Figure at 0x11195fd90>"
      ]
     },
     "metadata": {},
     "output_type": "display_data"
    }
   ],
   "source": [
    "for r in df14[mhc2].unique():\n",
    "    df14[df14[mhc2]==r]['age'].plot.hist(alpha=0.30, label=r, legend=True)"
   ]
  },
  {
   "cell_type": "code",
   "execution_count": 50,
   "metadata": {
    "collapsed": false
   },
   "outputs": [
    {
     "name": "stdout",
     "output_type": "stream",
     "text": [
      "(1.7066119373900455, 0.088311491427256555, 744.0)\n"
     ]
    }
   ],
   "source": [
    "import statsmodels.stats.weightstats as sm\n",
    "from scipy.stats import ttest_ind\n",
    "\n",
    "mhc21age = df14[df14[mhc2]==1]['age'].dropna()\n",
    "mhc20age = df14[df14[mhc2]==0]['age'].dropna()\n",
    "\n",
    "# t-test, p-value, degrees of freedom\n",
    "print sm.ttest_ind(mhc21age, mhc20age)\n",
    "\n",
    "\n",
    "# print ttest_ind(mhc21age, mhc20age)"
   ]
  },
  {
   "cell_type": "code",
   "execution_count": 51,
   "metadata": {
    "collapsed": false
   },
   "outputs": [
    {
     "name": "stdout",
     "output_type": "stream",
     "text": [
      "(-1.4736605887219922, 0.14128000918097555, 445.0)\n",
      "(-1.4589503877689045, 0.14512575191946944, 574.0)\n",
      "(-0.18127085042919486, 0.8562336311509211, 467.0)\n"
     ]
    }
   ],
   "source": [
    "nd = df14[df14[mhc]=='no']['age'].dropna()\n",
    "yd = df14[df14[mhc]=='yes']['age'].dropna()\n",
    "md = df14[df14[mhc]=='maybe']['age'].dropna()\n",
    "\n",
    "print sm.ttest_ind(nd, yd)\n",
    "print sm.ttest_ind(nd, md)\n",
    "print sm.ttest_ind(md, yd)"
   ]
  },
  {
   "cell_type": "code",
   "execution_count": 52,
   "metadata": {
    "collapsed": false
   },
   "outputs": [
    {
     "name": "stdout",
     "output_type": "stream",
     "text": [
      "(3.1418447643093153, 0.0017458612810267741, 739.0)\n",
      "(-1.3773178339807441, 0.17006033348290231, 187.0)\n",
      "(1.8443828724868256, 0.065655335071830398, 560.0)\n"
     ]
    }
   ],
   "source": [
    "gc = 'gender_category'\n",
    "fc = df14[df14[gc]=='female'][mhc2].dropna()\n",
    "mc = df14[df14[gc]=='male'][mhc2].dropna()\n",
    "oc = df14[df14[gc]=='other'][mhc2].dropna()\n",
    "\n",
    "\n",
    "print sm.ttest_ind(fc, mc)\n",
    "print sm.ttest_ind(fc, oc)\n",
    "print sm.ttest_ind(oc, mc)\n"
   ]
  },
  {
   "cell_type": "code",
   "execution_count": 53,
   "metadata": {
    "collapsed": false
   },
   "outputs": [
    {
     "data": {
      "image/png": "[encoded data removed]",
      "text/plain": [
       "<matplotlib.figure.Figure at 0x111938b90>"
      ]
     },
     "metadata": {},
     "output_type": "display_data"
    }
   ],
   "source": [
    "for r in df14[gc].unique():\n",
    "    df14[df14[gc]==r][mhc2].plot.hist(alpha=0.30, label=r, legend=True)"
   ]
  },
  {
   "cell_type": "code",
   "execution_count": 54,
   "metadata": {
    "collapsed": false
   },
   "outputs": [
    {
     "name": "stdout",
     "output_type": "stream",
     "text": [
      "(3.4707906703862466, 0.0005488586933082829, 744.0)\n"
     ]
    },
    {
     "data": {
      "image/png": "[encoded data removed]",
      "text/plain": [
       "<matplotlib.figure.Figure at 0x111c9aa50>"
      ]
     },
     "metadata": {},
     "output_type": "display_data"
    }
   ],
   "source": [
    "obc = 'obs_consequence'\n",
    "obc1 = df14[df14[obc]==1][mhc2].dropna()\n",
    "obc0 = df14[df14[obc]==0][mhc2].dropna()\n",
    "print sm.ttest_ind(obc1, obc0)\n",
    "for r in df14[obc].unique():\n",
    "    df14[df14[obc]==r][mhc2].plot.hist(alpha=0.30, label=r, legend=True)"
   ]
  },
  {
   "cell_type": "code",
   "execution_count": 55,
   "metadata": {
    "collapsed": false
   },
   "outputs": [
    {
     "name": "stdout",
     "output_type": "stream",
     "text": [
      "(2.2880222152035414, 0.02474313050525041, 81.0)\n"
     ]
    }
   ],
   "source": [
    "def onetwothree(x):\n",
    "    if x=='yes':\n",
    "        return 2\n",
    "    elif x=='maybe':\n",
    "        return 1\n",
    "    else:\n",
    "        return 0\n",
    "\n",
    "df = df14.copy().dropna()\n",
    "df['mhcnum'] = df[mhc].map(onetwothree)\n",
    "df['mhcnum']\n",
    "\n",
    "\n",
    "obc12 = df[df[obc]==1]['mhcnum'].dropna()\n",
    "obc02 = df[df[obc]==0]['mhcnum'].dropna()\n",
    "print sm.ttest_ind(obc12, obc02)"
   ]
  },
  {
   "cell_type": "code",
   "execution_count": 369,
   "metadata": {
    "collapsed": false
   },
   "outputs": [],
   "source": [
    "dms = []\n",
    "for col in df14.columns:\n",
    "    l = len(df14[col].unique())\n",
    "    if l == 2:\n",
    "#         print col\n",
    "        if 0 in df14[col].unique():\n",
    "            dms.append(col)\n",
    "        else:\n",
    "            print col\n",
    "\n",
    "dms.remove(mhc+'_maybe')\n",
    "dms.remove(mhc+'_no')\n",
    "dms.remove(mhc+'_yes')\n",
    "dms.remove(mhc2)\n",
    "states = ['state_AL', 'state_AZ', 'state_CA', 'state_CO', 'state_CT', 'state_DC', 'state_FL', 'state_GA', 'state_IA', 'state_ID', 'state_IL', 'state_IN', 'state_KS', 'state_KY', 'state_LA', 'state_MA', 'state_MD', 'state_ME', 'state_MI', 'state_MN', 'state_MO', 'state_MS', 'state_NC', 'state_NE', 'state_NH', 'state_NJ', 'state_NM', 'state_NV', 'state_NY', 'state_OH', 'state_OK', 'state_OR', 'state_PA', 'state_RI', 'state_SC', 'state_SD', 'state_TN', 'state_TX', 'state_UT', 'state_VA', 'state_VT', 'state_WA', 'state_WI', 'state_WV', 'state_WY', 'state_nan']         \n",
    "states.remove('state_CA')            \n",
    "\n",
    "seekhelp = ['seek_help_dont_know', 'seek_help_no', 'seek_help_yes']\n",
    "seekhelp.remove('seek_help_no')\n",
    "\n",
    "careopts = [ 'care_options_no', 'care_options_not_sure', 'care_options_yes']\n",
    "careopts.remove('care_options_no')\n",
    "interfere = ['work_interfere_never', 'work_interfere_often', 'work_interfere_rarely', 'work_interfere_sometimes', 'work_interfere_nan']\n",
    "interfere.remove('work_interfere_never')"
   ]
  },
  {
   "cell_type": "code",
   "execution_count": 104,
   "metadata": {
    "collapsed": false
   },
   "outputs": [],
   "source": [
    "xcols = ['treatment'] + ['obs_consequence']  + seekhelp +  careopts #+ states \n",
    "X = df14[xcols]"
   ]
  },
  {
   "cell_type": "code",
   "execution_count": 105,
   "metadata": {
    "collapsed": false
   },
   "outputs": [
    {
     "data": {
      "text/html": [
       "<div>\n",
       "<table border=\"1\" class=\"dataframe\">\n",
       "  <thead>\n",
       "    <tr style=\"text-align: right;\">\n",
       "      <th></th>\n",
       "      <th>treatment</th>\n",
       "      <th>obs_consequence</th>\n",
       "      <th>seek_help_dont_know</th>\n",
       "      <th>seek_help_yes</th>\n",
       "      <th>care_options_not_sure</th>\n",
       "      <th>care_options_yes</th>\n",
       "    </tr>\n",
       "  </thead>\n",
       "  <tbody>\n",
       "    <tr>\n",
       "      <th>0</th>\n",
       "      <td>1</td>\n",
       "      <td>0</td>\n",
       "      <td>0</td>\n",
       "      <td>1</td>\n",
       "      <td>1</td>\n",
       "      <td>0</td>\n",
       "    </tr>\n",
       "    <tr>\n",
       "      <th>1</th>\n",
       "      <td>0</td>\n",
       "      <td>0</td>\n",
       "      <td>1</td>\n",
       "      <td>0</td>\n",
       "      <td>0</td>\n",
       "      <td>0</td>\n",
       "    </tr>\n",
       "    <tr>\n",
       "      <th>4</th>\n",
       "      <td>0</td>\n",
       "      <td>0</td>\n",
       "      <td>1</td>\n",
       "      <td>0</td>\n",
       "      <td>0</td>\n",
       "      <td>0</td>\n",
       "    </tr>\n",
       "  </tbody>\n",
       "</table>\n",
       "</div>"
      ],
      "text/plain": [
       "   treatment  obs_consequence  seek_help_dont_know  seek_help_yes  \\\n",
       "0          1                0                    0              1   \n",
       "1          0                0                    1              0   \n",
       "4          0                0                    1              0   \n",
       "\n",
       "   care_options_not_sure  care_options_yes  \n",
       "0                      1                 0  \n",
       "1                      0                 0  \n",
       "4                      0                 0  "
      ]
     },
     "execution_count": 105,
     "metadata": {},
     "output_type": "execute_result"
    }
   ],
   "source": [
    "X.head(3)"
   ]
  },
  {
   "cell_type": "code",
   "execution_count": 438,
   "metadata": {
    "collapsed": false
   },
   "outputs": [
    {
     "name": "stdout",
     "output_type": "stream",
     "text": [
      "Optimization terminated successfully.\n",
      "         Current function value: 0.635041\n",
      "         Iterations 5\n"
     ]
    },
    {
     "data": {
      "text/html": [
       "<table class=\"simpletable\">\n",
       "<caption>Logit Regression Results</caption>\n",
       "<tr>\n",
       "  <th>Dep. Variable:</th> <td>mental_health_yes_maybe</td> <th>  No. Observations:  </th>  <td>   746</td>  \n",
       "</tr>\n",
       "<tr>\n",
       "  <th>Model:</th>                  <td>Logit</td>          <th>  Df Residuals:      </th>  <td>   740</td>  \n",
       "</tr>\n",
       "<tr>\n",
       "  <th>Method:</th>                  <td>MLE</td>           <th>  Df Model:          </th>  <td>     5</td>  \n",
       "</tr>\n",
       "<tr>\n",
       "  <th>Date:</th>             <td>Wed, 19 Apr 2017</td>     <th>  Pseudo R-squ.:     </th>  <td>0.03731</td> \n",
       "</tr>\n",
       "<tr>\n",
       "  <th>Time:</th>                 <td>02:27:38</td>         <th>  Log-Likelihood:    </th> <td> -473.74</td> \n",
       "</tr>\n",
       "<tr>\n",
       "  <th>converged:</th>              <td>True</td>           <th>  LL-Null:           </th> <td> -492.10</td> \n",
       "</tr>\n",
       "<tr>\n",
       "  <th> </th>                         <td> </td>            <th>  LLR p-value:       </th> <td>6.820e-07</td>\n",
       "</tr>\n",
       "</table>\n",
       "<table class=\"simpletable\">\n",
       "<tr>\n",
       "            <td></td>               <th>coef</th>     <th>std err</th>      <th>z</th>      <th>P>|z|</th> <th>[95.0% Conf. Int.]</th> \n",
       "</tr>\n",
       "<tr>\n",
       "  <th>treatment</th>             <td>    0.7431</td> <td>    0.152</td> <td>    4.887</td> <td> 0.000</td> <td>    0.445     1.041</td>\n",
       "</tr>\n",
       "<tr>\n",
       "  <th>obs_consequence</th>       <td>    0.9686</td> <td>    0.281</td> <td>    3.443</td> <td> 0.001</td> <td>    0.417     1.520</td>\n",
       "</tr>\n",
       "<tr>\n",
       "  <th>seek_help_dont_know</th>   <td>    0.1593</td> <td>    0.165</td> <td>    0.969</td> <td> 0.333</td> <td>   -0.163     0.482</td>\n",
       "</tr>\n",
       "<tr>\n",
       "  <th>seek_help_yes</th>         <td>   -0.5877</td> <td>    0.195</td> <td>   -3.011</td> <td> 0.003</td> <td>   -0.970    -0.205</td>\n",
       "</tr>\n",
       "<tr>\n",
       "  <th>care_options_not_sure</th> <td>    0.0698</td> <td>    0.185</td> <td>    0.378</td> <td> 0.706</td> <td>   -0.292     0.432</td>\n",
       "</tr>\n",
       "<tr>\n",
       "  <th>care_options_yes</th>      <td>    0.0863</td> <td>    0.181</td> <td>    0.478</td> <td> 0.633</td> <td>   -0.268     0.441</td>\n",
       "</tr>\n",
       "</table>"
      ],
      "text/plain": [
       "<class 'statsmodels.iolib.summary.Summary'>\n",
       "\"\"\"\n",
       "                              Logit Regression Results                             \n",
       "===================================================================================\n",
       "Dep. Variable:     mental_health_yes_maybe   No. Observations:                  746\n",
       "Model:                               Logit   Df Residuals:                      740\n",
       "Method:                                MLE   Df Model:                            5\n",
       "Date:                     Wed, 19 Apr 2017   Pseudo R-squ.:                 0.03731\n",
       "Time:                             02:27:38   Log-Likelihood:                -473.74\n",
       "converged:                            True   LL-Null:                       -492.10\n",
       "                                             LLR p-value:                 6.820e-07\n",
       "=========================================================================================\n",
       "                            coef    std err          z      P>|z|      [95.0% Conf. Int.]\n",
       "-----------------------------------------------------------------------------------------\n",
       "treatment                 0.7431      0.152      4.887      0.000         0.445     1.041\n",
       "obs_consequence           0.9686      0.281      3.443      0.001         0.417     1.520\n",
       "seek_help_dont_know       0.1593      0.165      0.969      0.333        -0.163     0.482\n",
       "seek_help_yes            -0.5877      0.195     -3.011      0.003        -0.970    -0.205\n",
       "care_options_not_sure     0.0698      0.185      0.378      0.706        -0.292     0.432\n",
       "care_options_yes          0.0863      0.181      0.478      0.633        -0.268     0.441\n",
       "=========================================================================================\n",
       "\"\"\""
      ]
     },
     "execution_count": 438,
     "metadata": {},
     "output_type": "execute_result"
    }
   ],
   "source": [
    "import statsmodels.discrete.discrete_model as discrete_model\n",
    "y = df14[mhc2]\n",
    "\n",
    "logit = discrete_model.Logit(y, X, missing='drop')\n",
    "result = logit.fit()\n",
    "result.summary()"
   ]
  },
  {
   "cell_type": "code",
   "execution_count": 203,
   "metadata": {
    "collapsed": false
   },
   "outputs": [],
   "source": [
    "from sklearn.linear_model import LogisticRegression\n",
    "from sklearn.cross_validation import train_test_split\n",
    "from sklearn.metrics import classification_report\n",
    "# from sklearn.metrics import model_selection\n",
    "from sklearn.metrics import confusion_matrix\n",
    "from sklearn.metrics import roc_curve, roc_auc_score"
   ]
  },
  {
   "cell_type": "code",
   "execution_count": 211,
   "metadata": {
    "collapsed": true
   },
   "outputs": [],
   "source": [
    "trainX, testX, trainY, testY = train_test_split(X, y, train_size=0.7, stratify=y)"
   ]
  },
  {
   "cell_type": "code",
   "execution_count": null,
   "metadata": {
    "collapsed": false
   },
   "outputs": [],
   "source": []
  },
  {
   "cell_type": "code",
   "execution_count": 212,
   "metadata": {
    "collapsed": false
   },
   "outputs": [
    {
     "name": "stdout",
     "output_type": "stream",
     "text": [
      "Intercept: \n",
      "[ 0.33802784]\n",
      "Coefficients: \n",
      "[[ 0.44492348  0.87526229  0.23055191 -0.60585704 -0.11375416 -0.03666286]]\n",
      "Score: \n",
      "0.665178571429\n"
     ]
    }
   ],
   "source": [
    "\n",
    "lr = LogisticRegression()\n",
    "lrm = lr.fit(trainX, trainY)\n",
    "print 'Intercept: \\n', lr.intercept_\n",
    "print 'Coefficients: \\n', lr.coef_\n",
    "probs = lr.predict_proba(testX)\n",
    "# print 'Logreg predicted probabilities: \\n',probs[:5,]\n",
    "print 'Score: \\n', lr.score(testX, testY)"
   ]
  },
  {
   "cell_type": "code",
   "execution_count": 213,
   "metadata": {
    "collapsed": false
   },
   "outputs": [
    {
     "data": {
      "text/plain": [
       "array([1, 1, 1, 1, 0, 1, 1, 1, 1, 1, 1, 1, 1, 0, 1, 1, 1, 1, 1, 1, 1, 1, 1,\n",
       "       1, 1, 1, 1, 1, 0, 1, 1, 1, 1, 1, 1, 1, 1, 1, 1, 1, 1, 1, 1, 0, 1, 1,\n",
       "       1, 1, 1, 1, 1, 1, 1, 1, 0, 1, 1, 1, 1, 1, 1, 1, 0, 1, 1, 1, 1, 1, 1,\n",
       "       1, 1, 1, 1, 1, 1, 1, 1, 1, 1, 1, 1, 1, 1, 1, 1, 1, 1, 1, 0, 1, 0, 1,\n",
       "       1, 1, 1, 1, 1, 1, 1, 1, 1, 1, 1, 1, 1, 1, 1, 1, 1, 1, 1, 1, 1, 1, 1,\n",
       "       1, 1, 1, 1, 1, 1, 0, 0, 1, 1, 1, 1, 1, 1, 1, 1, 1, 1, 1, 1, 1, 1, 1,\n",
       "       1, 1, 1, 1, 1, 1, 1, 0, 1, 1, 1, 1, 1, 1, 1, 1, 1, 1, 1, 0, 1, 1, 1,\n",
       "       1, 1, 1, 1, 1, 1, 1, 1, 1, 0, 1, 1, 1, 1, 1, 1, 1, 1, 1, 0, 1, 1, 1,\n",
       "       1, 1, 1, 1, 0, 1, 1, 1, 1, 1, 1, 1, 1, 1, 1, 1, 1, 1, 1, 1, 1, 1, 1,\n",
       "       1, 1, 1, 1, 1, 1, 1, 1, 1, 1, 1, 1, 0, 1, 1, 1, 1])"
      ]
     },
     "execution_count": 213,
     "metadata": {},
     "output_type": "execute_result"
    }
   ],
   "source": [
    "pred = lr.predict(testX)\n",
    "pred"
   ]
  },
  {
   "cell_type": "code",
   "execution_count": 214,
   "metadata": {
    "collapsed": false,
    "scrolled": true
   },
   "outputs": [
    {
     "data": {
      "text/plain": [
       "array([[ 12,  71],\n",
       "       [  4, 137]])"
      ]
     },
     "execution_count": 214,
     "metadata": {},
     "output_type": "execute_result"
    }
   ],
   "source": [
    "cm = confusion_matrix(testY, pred)\n",
    "                 # predicted mhc2==0   # predicted mhc2==1\n",
    "# actual mhc2==0     12                   71\n",
    "# actual mhc2==1      8                   133\n",
    "cm"
   ]
  },
  {
   "cell_type": "code",
   "execution_count": 215,
   "metadata": {
    "collapsed": false
   },
   "outputs": [
    {
     "name": "stdout",
     "output_type": "stream",
     "text": [
      "false pos / pos pred:  0.341346153846\n",
      "true pos / pos pred:  0.658653846154\n",
      "true pos / actual pos:  0.971631205674\n"
     ]
    }
   ],
   "source": [
    "print 'false pos / pos pred: ', float(cm[0][1])/(cm[1][1] + cm[0][1])\n",
    "print 'true pos / pos pred: ', float(cm[1][1])/(cm[1][1] + cm[0][1])\n",
    "print 'true pos / actual pos: ', float(cm[1][1])/(cm[1][1] + cm[1][0])\n",
    "# high false positive rate"
   ]
  },
  {
   "cell_type": "code",
   "execution_count": 218,
   "metadata": {
    "collapsed": false
   },
   "outputs": [],
   "source": [
    "# roc_curve(testY, probs[:,1])"
   ]
  },
  {
   "cell_type": "code",
   "execution_count": 217,
   "metadata": {
    "collapsed": false
   },
   "outputs": [
    {
     "data": {
      "text/plain": [
       "0.61702127659574468"
      ]
     },
     "execution_count": 217,
     "metadata": {},
     "output_type": "execute_result"
    }
   ],
   "source": [
    "roc_auc_score(testY,probs[:,1])"
   ]
  },
  {
   "cell_type": "code",
   "execution_count": 456,
   "metadata": {
    "collapsed": true
   },
   "outputs": [],
   "source": [
    "def roc_auc( X, train_fraction=0.7):\n",
    "#     print 'Columns: \\n', X.columns.tolist()\n",
    "    trainX, testX, trainY, testY = train_test_split(X, y, train_size=train_fraction, stratify=y)\n",
    "    lr = LogisticRegression()\n",
    "    lrm = lr.fit(trainX, trainY)\n",
    "#     print 'Intercept: \\n', lr.intercept_\n",
    "#     print 'Coefficients: \\n', lr.coef_\n",
    "    probs = lr.predict_proba(testX)\n",
    "    print 'Model Internal Score: \\n', lr.score(testX, testY)\n",
    "    pred = lr.predict(testX)\n",
    "    cm = confusion_matrix(testY, pred)\n",
    "    print 'Confusion Matrix: \\n', cm\n",
    "    roc_auc = roc_auc_score(testY,probs[:,1])\n",
    "    print 'ROC AUC Score: \\n',  roc_auc\n",
    "    return {\n",
    "        'confusion matrix': cm,\n",
    "        'predictions': pred,\n",
    "        'prediciton probabilities': probs,\n",
    "        'lr': lr,\n",
    "        'model': lrm,\n",
    "        'roc auc score': roc_auc,\n",
    "        'cols': X.columns\n",
    "    }"
   ]
  },
  {
   "cell_type": "code",
   "execution_count": 457,
   "metadata": {
    "collapsed": false
   },
   "outputs": [],
   "source": [
    "# good coefficients & intercept\n",
    "# Intercept: \n",
    "# [ 0.6256203]\n",
    "# Coefficients: \n",
    "# [[ 0.22157059  0.49319513 -0.13146842 -0.62516122 -0.04497772 -0.14180665]]\n",
    "# Model Internal Score: \n",
    "# 0.678571428571\n",
    "# [[ 14  69]\n",
    "#  [  3 138]]\n",
    "# ROC AUC Score: \n",
    "# 0.700888661027"
   ]
  },
  {
   "cell_type": "code",
   "execution_count": 458,
   "metadata": {
    "collapsed": false
   },
   "outputs": [
    {
     "name": "stdout",
     "output_type": "stream",
     "text": [
      "Model Internal Score: \n",
      "0.638392857143\n",
      "Confusion Matrix: \n",
      "[[ 13  70]\n",
      " [ 11 130]]\n",
      "ROC AUC Score: \n",
      "0.55895924122\n"
     ]
    },
    {
     "data": {
      "text/plain": [
       "{'cols': Index([u'treatment', u'obs_consequence', u'seek_help_dont_know',\n",
       "        u'seek_help_yes', u'care_options_not_sure', u'care_options_yes'],\n",
       "       dtype='object'), 'confusion matrix': array([[ 13,  70],\n",
       "        [ 11, 130]]), 'lr': LogisticRegression(C=1.0, class_weight=None, dual=False, fit_intercept=True,\n",
       "           intercept_scaling=1, max_iter=100, multi_class='ovr', n_jobs=1,\n",
       "           penalty='l2', random_state=None, solver='liblinear', tol=0.0001,\n",
       "           verbose=0, warm_start=False), 'model': LogisticRegression(C=1.0, class_weight=None, dual=False, fit_intercept=True,\n",
       "           intercept_scaling=1, max_iter=100, multi_class='ovr', n_jobs=1,\n",
       "           penalty='l2', random_state=None, solver='liblinear', tol=0.0001,\n",
       "           verbose=0, warm_start=False), 'prediciton probabilities': array([[ 0.42581378,  0.57418622],\n",
       "        [ 0.16375755,  0.83624245],\n",
       "        [ 0.28551104,  0.71448896],\n",
       "        [ 0.42581378,  0.57418622],\n",
       "        [ 0.27717977,  0.72282023],\n",
       "        [ 0.41670303,  0.58329697],\n",
       "        [ 0.22837328,  0.77162672],\n",
       "        [ 0.28551104,  0.71448896],\n",
       "        [ 0.41670303,  0.58329697],\n",
       "        [ 0.36030326,  0.63969674],\n",
       "        [ 0.32256691,  0.67743309],\n",
       "        [ 0.36401572,  0.63598428],\n",
       "        [ 0.58010878,  0.41989122],\n",
       "        [ 0.58010878,  0.41989122],\n",
       "        [ 0.41670303,  0.58329697],\n",
       "        [ 0.28551104,  0.71448896],\n",
       "        [ 0.16947899,  0.83052101],\n",
       "        [ 0.4691231 ,  0.5308769 ],\n",
       "        [ 0.47939728,  0.52060272],\n",
       "        [ 0.32256691,  0.67743309],\n",
       "        [ 0.22837328,  0.77162672],\n",
       "        [ 0.28296902,  0.71703098],\n",
       "        [ 0.26730093,  0.73269907],\n",
       "        [ 0.41670303,  0.58329697],\n",
       "        [ 0.47939728,  0.52060272],\n",
       "        [ 0.41670303,  0.58329697],\n",
       "        [ 0.27717977,  0.72282023],\n",
       "        [ 0.27717977,  0.72282023],\n",
       "        [ 0.47939728,  0.52060272],\n",
       "        [ 0.47939728,  0.52060272],\n",
       "        [ 0.42581378,  0.57418622],\n",
       "        [ 0.23571595,  0.76428405],\n",
       "        [ 0.41670303,  0.58329697],\n",
       "        [ 0.22837328,  0.77162672],\n",
       "        [ 0.23571595,  0.76428405],\n",
       "        [ 0.41670303,  0.58329697],\n",
       "        [ 0.31984266,  0.68015734],\n",
       "        [ 0.47939728,  0.52060272],\n",
       "        [ 0.47939728,  0.52060272],\n",
       "        [ 0.23571595,  0.76428405],\n",
       "        [ 0.27717977,  0.72282023],\n",
       "        [ 0.28551104,  0.71448896],\n",
       "        [ 0.22837328,  0.77162672],\n",
       "        [ 0.4359183 ,  0.5640817 ],\n",
       "        [ 0.64158385,  0.35841615],\n",
       "        [ 0.4359183 ,  0.5640817 ],\n",
       "        [ 0.28551104,  0.71448896],\n",
       "        [ 0.23571595,  0.76428405],\n",
       "        [ 0.41670303,  0.58329697],\n",
       "        [ 0.42581378,  0.57418622],\n",
       "        [ 0.23571595,  0.76428405],\n",
       "        [ 0.47939728,  0.52060272],\n",
       "        [ 0.4359183 ,  0.5640817 ],\n",
       "        [ 0.36401572,  0.63598428],\n",
       "        [ 0.4359183 ,  0.5640817 ],\n",
       "        [ 0.58010878,  0.41989122],\n",
       "        [ 0.31362899,  0.68637101],\n",
       "        [ 0.52447772,  0.47552228],\n",
       "        [ 0.41670303,  0.58329697],\n",
       "        [ 0.4359183 ,  0.5640817 ],\n",
       "        [ 0.68081762,  0.31918238],\n",
       "        [ 0.16947899,  0.83052101],\n",
       "        [ 0.58010878,  0.41989122],\n",
       "        [ 0.47939728,  0.52060272],\n",
       "        [ 0.4359183 ,  0.5640817 ],\n",
       "        [ 0.58010878,  0.41989122],\n",
       "        [ 0.4359183 ,  0.5640817 ],\n",
       "        [ 0.13606681,  0.86393319],\n",
       "        [ 0.13129501,  0.86870499],\n",
       "        [ 0.42581378,  0.57418622],\n",
       "        [ 0.47939728,  0.52060272],\n",
       "        [ 0.37360796,  0.62639204],\n",
       "        [ 0.27717977,  0.72282023],\n",
       "        [ 0.64158385,  0.35841615],\n",
       "        [ 0.27717977,  0.72282023],\n",
       "        [ 0.23571595,  0.76428405],\n",
       "        [ 0.4691231 ,  0.5308769 ],\n",
       "        [ 0.47939728,  0.52060272],\n",
       "        [ 0.47939728,  0.52060272],\n",
       "        [ 0.27717977,  0.72282023],\n",
       "        [ 0.47939728,  0.52060272],\n",
       "        [ 0.47939728,  0.52060272],\n",
       "        [ 0.4359183 ,  0.5640817 ],\n",
       "        [ 0.22837328,  0.77162672],\n",
       "        [ 0.47939728,  0.52060272],\n",
       "        [ 0.41670303,  0.58329697],\n",
       "        [ 0.32256691,  0.67743309],\n",
       "        [ 0.58010878,  0.41989122],\n",
       "        [ 0.36401572,  0.63598428],\n",
       "        [ 0.16375755,  0.83624245],\n",
       "        [ 0.41670303,  0.58329697],\n",
       "        [ 0.28296902,  0.71703098],\n",
       "        [ 0.42581378,  0.57418622],\n",
       "        [ 0.47939728,  0.52060272],\n",
       "        [ 0.68081762,  0.31918238],\n",
       "        [ 0.42581378,  0.57418622],\n",
       "        [ 0.42581378,  0.57418622],\n",
       "        [ 0.27717977,  0.72282023],\n",
       "        [ 0.22837328,  0.77162672],\n",
       "        [ 0.47939728,  0.52060272],\n",
       "        [ 0.23571595,  0.76428405],\n",
       "        [ 0.22837328,  0.77162672],\n",
       "        [ 0.36401572,  0.63598428],\n",
       "        [ 0.22837328,  0.77162672],\n",
       "        [ 0.41670303,  0.58329697],\n",
       "        [ 0.47939728,  0.52060272],\n",
       "        [ 0.47939728,  0.52060272],\n",
       "        [ 0.28551104,  0.71448896],\n",
       "        [ 0.13129501,  0.86870499],\n",
       "        [ 0.26730093,  0.73269907],\n",
       "        [ 0.52447772,  0.47552228],\n",
       "        [ 0.28551104,  0.71448896],\n",
       "        [ 0.4359183 ,  0.5640817 ],\n",
       "        [ 0.41670303,  0.58329697],\n",
       "        [ 0.22837328,  0.77162672],\n",
       "        [ 0.48068525,  0.51931475],\n",
       "        [ 0.32256691,  0.67743309],\n",
       "        [ 0.16947899,  0.83052101],\n",
       "        [ 0.47939728,  0.52060272],\n",
       "        [ 0.18919568,  0.81080432],\n",
       "        [ 0.31362899,  0.68637101],\n",
       "        [ 0.13129501,  0.86870499],\n",
       "        [ 0.22837328,  0.77162672],\n",
       "        [ 0.32256691,  0.67743309],\n",
       "        [ 0.47939728,  0.52060272],\n",
       "        [ 0.4359183 ,  0.5640817 ],\n",
       "        [ 0.42581378,  0.57418622],\n",
       "        [ 0.47939728,  0.52060272],\n",
       "        [ 0.58010878,  0.41989122],\n",
       "        [ 0.18919568,  0.81080432],\n",
       "        [ 0.23571595,  0.76428405],\n",
       "        [ 0.23571595,  0.76428405],\n",
       "        [ 0.52447772,  0.47552228],\n",
       "        [ 0.28551104,  0.71448896],\n",
       "        [ 0.22837328,  0.77162672],\n",
       "        [ 0.68081762,  0.31918238],\n",
       "        [ 0.22837328,  0.77162672],\n",
       "        [ 0.47939728,  0.52060272],\n",
       "        [ 0.47939728,  0.52060272],\n",
       "        [ 0.22837328,  0.77162672],\n",
       "        [ 0.36401572,  0.63598428],\n",
       "        [ 0.4359183 ,  0.5640817 ],\n",
       "        [ 0.22837328,  0.77162672],\n",
       "        [ 0.58010878,  0.41989122],\n",
       "        [ 0.18919568,  0.81080432],\n",
       "        [ 0.27717977,  0.72282023],\n",
       "        [ 0.28551104,  0.71448896],\n",
       "        [ 0.13129501,  0.86870499],\n",
       "        [ 0.41670303,  0.58329697],\n",
       "        [ 0.41670303,  0.58329697],\n",
       "        [ 0.23571595,  0.76428405],\n",
       "        [ 0.22837328,  0.77162672],\n",
       "        [ 0.36401572,  0.63598428],\n",
       "        [ 0.47939728,  0.52060272],\n",
       "        [ 0.47939728,  0.52060272],\n",
       "        [ 0.16947899,  0.83052101],\n",
       "        [ 0.32256691,  0.67743309],\n",
       "        [ 0.27717977,  0.72282023],\n",
       "        [ 0.41670303,  0.58329697],\n",
       "        [ 0.18919568,  0.81080432],\n",
       "        [ 0.36030326,  0.63969674],\n",
       "        [ 0.42581378,  0.57418622],\n",
       "        [ 0.64158385,  0.35841615],\n",
       "        [ 0.4359183 ,  0.5640817 ],\n",
       "        [ 0.22837328,  0.77162672],\n",
       "        [ 0.58010878,  0.41989122],\n",
       "        [ 0.47939728,  0.52060272],\n",
       "        [ 0.28551104,  0.71448896],\n",
       "        [ 0.32256691,  0.67743309],\n",
       "        [ 0.32256691,  0.67743309],\n",
       "        [ 0.32256691,  0.67743309],\n",
       "        [ 0.41670303,  0.58329697],\n",
       "        [ 0.47939728,  0.52060272],\n",
       "        [ 0.36401572,  0.63598428],\n",
       "        [ 0.22837328,  0.77162672],\n",
       "        [ 0.26730093,  0.73269907],\n",
       "        [ 0.28551104,  0.71448896],\n",
       "        [ 0.27468341,  0.72531659],\n",
       "        [ 0.42581378,  0.57418622],\n",
       "        [ 0.22837328,  0.77162672],\n",
       "        [ 0.23571595,  0.76428405],\n",
       "        [ 0.27717977,  0.72282023],\n",
       "        [ 0.64158385,  0.35841615],\n",
       "        [ 0.47939728,  0.52060272],\n",
       "        [ 0.22837328,  0.77162672],\n",
       "        [ 0.32256691,  0.67743309],\n",
       "        [ 0.64158385,  0.35841615],\n",
       "        [ 0.47939728,  0.52060272],\n",
       "        [ 0.22837328,  0.77162672],\n",
       "        [ 0.23571595,  0.76428405],\n",
       "        [ 0.22837328,  0.77162672],\n",
       "        [ 0.42581378,  0.57418622],\n",
       "        [ 0.42581378,  0.57418622],\n",
       "        [ 0.4691231 ,  0.5308769 ],\n",
       "        [ 0.47939728,  0.52060272],\n",
       "        [ 0.36401572,  0.63598428],\n",
       "        [ 0.19559801,  0.80440199],\n",
       "        [ 0.41670303,  0.58329697],\n",
       "        [ 0.22837328,  0.77162672],\n",
       "        [ 0.41670303,  0.58329697],\n",
       "        [ 0.23571595,  0.76428405],\n",
       "        [ 0.22837328,  0.77162672],\n",
       "        [ 0.47939728,  0.52060272],\n",
       "        [ 0.52447772,  0.47552228],\n",
       "        [ 0.36401572,  0.63598428],\n",
       "        [ 0.36401572,  0.63598428],\n",
       "        [ 0.47939728,  0.52060272],\n",
       "        [ 0.41670303,  0.58329697],\n",
       "        [ 0.47939728,  0.52060272],\n",
       "        [ 0.4359183 ,  0.5640817 ],\n",
       "        [ 0.41670303,  0.58329697],\n",
       "        [ 0.27717977,  0.72282023],\n",
       "        [ 0.16375755,  0.83624245],\n",
       "        [ 0.41670303,  0.58329697],\n",
       "        [ 0.22837328,  0.77162672],\n",
       "        [ 0.41670303,  0.58329697],\n",
       "        [ 0.52447772,  0.47552228],\n",
       "        [ 0.42581378,  0.57418622],\n",
       "        [ 0.68081762,  0.31918238],\n",
       "        [ 0.58010878,  0.41989122],\n",
       "        [ 0.42581378,  0.57418622],\n",
       "        [ 0.4359183 ,  0.5640817 ],\n",
       "        [ 0.23571595,  0.76428405],\n",
       "        [ 0.41366923,  0.58633077]]), 'predictions': array([1, 1, 1, 1, 1, 1, 1, 1, 1, 1, 1, 1, 0, 0, 1, 1, 1, 1, 1, 1, 1, 1, 1,\n",
       "        1, 1, 1, 1, 1, 1, 1, 1, 1, 1, 1, 1, 1, 1, 1, 1, 1, 1, 1, 1, 1, 0, 1,\n",
       "        1, 1, 1, 1, 1, 1, 1, 1, 1, 0, 1, 0, 1, 1, 0, 1, 0, 1, 1, 0, 1, 1, 1,\n",
       "        1, 1, 1, 1, 0, 1, 1, 1, 1, 1, 1, 1, 1, 1, 1, 1, 1, 1, 0, 1, 1, 1, 1,\n",
       "        1, 1, 0, 1, 1, 1, 1, 1, 1, 1, 1, 1, 1, 1, 1, 1, 1, 1, 0, 1, 1, 1, 1,\n",
       "        1, 1, 1, 1, 1, 1, 1, 1, 1, 1, 1, 1, 1, 0, 1, 1, 1, 0, 1, 1, 0, 1, 1,\n",
       "        1, 1, 1, 1, 1, 0, 1, 1, 1, 1, 1, 1, 1, 1, 1, 1, 1, 1, 1, 1, 1, 1, 1,\n",
       "        1, 0, 1, 1, 0, 1, 1, 1, 1, 1, 1, 1, 1, 1, 1, 1, 1, 1, 1, 1, 1, 0, 1,\n",
       "        1, 1, 0, 1, 1, 1, 1, 1, 1, 1, 1, 1, 1, 1, 1, 1, 1, 1, 1, 0, 1, 1, 1,\n",
       "        1, 1, 1, 1, 1, 1, 1, 1, 1, 0, 1, 0, 0, 1, 1, 1, 1]), 'roc auc score': 0.55895924122019991}"
      ]
     },
     "execution_count": 458,
     "metadata": {},
     "output_type": "execute_result"
    }
   ],
   "source": [
    "roc_auc(X)"
   ]
  },
  {
   "cell_type": "code",
   "execution_count": 459,
   "metadata": {
    "collapsed": false
   },
   "outputs": [],
   "source": [
    "# roc_auc(df14[['obs_consequence'] + careopts])"
   ]
  },
  {
   "cell_type": "code",
   "execution_count": 460,
   "metadata": {
    "collapsed": false
   },
   "outputs": [
    {
     "name": "stdout",
     "output_type": "stream",
     "text": [
      "Model Internal Score: \n",
      "0.776785714286\n",
      "Confusion Matrix: \n",
      "[[ 62  21]\n",
      " [ 29 112]]\n",
      "ROC AUC Score: \n",
      "0.86208664445\n"
     ]
    },
    {
     "data": {
      "text/html": [
       "<div>\n",
       "<table border=\"1\" class=\"dataframe\">\n",
       "  <thead>\n",
       "    <tr style=\"text-align: right;\">\n",
       "      <th></th>\n",
       "      <th>Coefficient</th>\n",
       "      <th>abs_coeff</th>\n",
       "    </tr>\n",
       "  </thead>\n",
       "  <tbody>\n",
       "    <tr>\n",
       "      <th>phys_health_consequence_no</th>\n",
       "      <td>-1.944662</td>\n",
       "      <td>1.944662</td>\n",
       "    </tr>\n",
       "    <tr>\n",
       "      <th>phys_health_consequence_maybe</th>\n",
       "      <td>1.865746</td>\n",
       "      <td>1.865746</td>\n",
       "    </tr>\n",
       "    <tr>\n",
       "      <th>state_OR</th>\n",
       "      <td>-1.416050</td>\n",
       "      <td>1.416050</td>\n",
       "    </tr>\n",
       "    <tr>\n",
       "      <th>supervisor_no</th>\n",
       "      <td>1.295792</td>\n",
       "      <td>1.295792</td>\n",
       "    </tr>\n",
       "    <tr>\n",
       "      <th>mental_health_interview_no</th>\n",
       "      <td>1.167481</td>\n",
       "      <td>1.167481</td>\n",
       "    </tr>\n",
       "    <tr>\n",
       "      <th>supervisor_yes</th>\n",
       "      <td>-0.990875</td>\n",
       "      <td>0.990875</td>\n",
       "    </tr>\n",
       "    <tr>\n",
       "      <th>anonymity_no</th>\n",
       "      <td>0.956551</td>\n",
       "      <td>0.956551</td>\n",
       "    </tr>\n",
       "    <tr>\n",
       "      <th>coworkers_no</th>\n",
       "      <td>0.943160</td>\n",
       "      <td>0.943160</td>\n",
       "    </tr>\n",
       "    <tr>\n",
       "      <th>mental_health_interview_yes</th>\n",
       "      <td>-0.929873</td>\n",
       "      <td>0.929873</td>\n",
       "    </tr>\n",
       "    <tr>\n",
       "      <th>work_interfere_often</th>\n",
       "      <td>0.896359</td>\n",
       "      <td>0.896359</td>\n",
       "    </tr>\n",
       "  </tbody>\n",
       "</table>\n",
       "</div>"
      ],
      "text/plain": [
       "                               Coefficient  abs_coeff\n",
       "phys_health_consequence_no       -1.944662   1.944662\n",
       "phys_health_consequence_maybe     1.865746   1.865746\n",
       "state_OR                         -1.416050   1.416050\n",
       "supervisor_no                     1.295792   1.295792\n",
       "mental_health_interview_no        1.167481   1.167481\n",
       "supervisor_yes                   -0.990875   0.990875\n",
       "anonymity_no                      0.956551   0.956551\n",
       "coworkers_no                      0.943160   0.943160\n",
       "mental_health_interview_yes      -0.929873   0.929873\n",
       "work_interfere_often              0.896359   0.896359"
      ]
     },
     "execution_count": 460,
     "metadata": {},
     "output_type": "execute_result"
    }
   ],
   "source": [
    "a = roc_auc(df14[dms])\n",
    "# a['lr'].coef_[0][0]\n",
    "dic = { dms[i]:a['lr'].coef_[0][i] for i in range(len(dms))}\n",
    "adf = pd.DataFrame(dic, index=['Coefficient']).T\n",
    "import math\n",
    "adf['abs_coeff'] = adf['Coefficient'].map(math.fabs)\n",
    "adf.sort_values('abs_coeff', inplace=True, ascending=False)\n",
    "adf.head(10)"
   ]
  },
  {
   "cell_type": "code",
   "execution_count": 461,
   "metadata": {
    "collapsed": true
   },
   "outputs": [],
   "source": [
    "dms2 = [\n",
    "    'family_history', \n",
    "    'treatment', \n",
    "    'remote_work', \n",
    "    'tech_company', \n",
    "    'obs_consequence', \n",
    "    'wellness_program_dont_know', 'wellness_program_no', 'wellness_program_yes', \n",
    "    'mental_vs_physical_dont_know', 'mental_vs_physical_no', 'mental_vs_physical_yes', \n",
    "    'benefits_dont_know', 'benefits_no', 'benefits_yes', \n",
    "    'num_employees_1-5', 'num_employees_100-500', 'num_employees_1000+', 'num_employees_26-100', 'num_employees_500-1000', 'num_employees_6-25', \n",
    "    'seek_help_dont_know', 'seek_help_no', 'seek_help_yes', \n",
    "#     'gender_female', 'gender_male', 'gender_other', \n",
    "    'work_interfere_never', 'work_interfere_often', 'work_interfere_rarely', 'work_interfere_sometimes', 'work_interfere_nan', \n",
    "    'care_options_no', 'care_options_not_sure', 'care_options_yes', \n",
    "#     'state_AL', 'state_AZ', 'state_CA', 'state_CO', 'state_CT', 'state_DC', 'state_FL', 'state_GA', 'state_IA', 'state_ID', 'state_IL', 'state_IN', 'state_KS', 'state_KY', 'state_LA', 'state_MA', 'state_MD', 'state_ME', 'state_MI', 'state_MN', 'state_MO', 'state_MS', 'state_NC', 'state_NE', 'state_NH', 'state_NJ', 'state_NM', 'state_NV', 'state_NY', 'state_OH', 'state_OK', 'state_OR', 'state_PA', 'state_RI', 'state_SC', 'state_SD', 'state_TN', 'state_TX', 'state_UT', 'state_VA', 'state_VT', 'state_WA', 'state_WI', 'state_WV', 'state_WY', 'state_nan', \n",
    "    'phys_health_interview_maybe', 'phys_health_interview_no', 'phys_health_interview_yes', \n",
    "    'coworkers_no', 'coworkers_some_of_them', 'coworkers_yes', \n",
    "    'self_employed_no', 'self_employed_yes', 'self_employed_nan', \n",
    "    'anonymity_dont_know', 'anonymity_no', 'anonymity_yes', \n",
    "    'supervisor_no', 'supervisor_some_of_them', 'supervisor_yes', \n",
    "    'mental_health_interview_maybe', 'mental_health_interview_no', 'mental_health_interview_yes', \n",
    "    'phys_health_consequence_maybe', 'phys_health_consequence_no', 'phys_health_consequence_yes', \n",
    "    'leave_dont_know', 'leave_somewhat_difficult', 'leave_somewhat_easy', 'leave_very_difficult', 'leave_very_easy', \n",
    "    'gender_category_female', 'gender_category_male', 'gender_category_other'\n",
    "]\n"
   ]
  },
  {
   "cell_type": "code",
   "execution_count": 462,
   "metadata": {
    "collapsed": false
   },
   "outputs": [
    {
     "name": "stdout",
     "output_type": "stream",
     "text": [
      "Model Internal Score: \n",
      "0.834821428571\n",
      "Confusion Matrix: \n",
      "[[ 64  19]\n",
      " [ 18 123]]\n",
      "ROC AUC Score: \n",
      "0.900965564385\n"
     ]
    },
    {
     "data": {
      "text/html": [
       "<div>\n",
       "<table border=\"1\" class=\"dataframe\">\n",
       "  <thead>\n",
       "    <tr style=\"text-align: right;\">\n",
       "      <th></th>\n",
       "      <th>Coefficient</th>\n",
       "      <th>abs_coeff</th>\n",
       "    </tr>\n",
       "  </thead>\n",
       "  <tbody>\n",
       "    <tr>\n",
       "      <th>phys_health_consequence_no</th>\n",
       "      <td>-1.951133</td>\n",
       "      <td>1.951133</td>\n",
       "    </tr>\n",
       "    <tr>\n",
       "      <th>phys_health_consequence_maybe</th>\n",
       "      <td>1.787543</td>\n",
       "      <td>1.787543</td>\n",
       "    </tr>\n",
       "    <tr>\n",
       "      <th>mental_health_interview_no</th>\n",
       "      <td>1.345585</td>\n",
       "      <td>1.345585</td>\n",
       "    </tr>\n",
       "    <tr>\n",
       "      <th>supervisor_no</th>\n",
       "      <td>1.094332</td>\n",
       "      <td>1.094332</td>\n",
       "    </tr>\n",
       "    <tr>\n",
       "      <th>mental_health_interview_yes</th>\n",
       "      <td>-1.083216</td>\n",
       "      <td>1.083216</td>\n",
       "    </tr>\n",
       "    <tr>\n",
       "      <th>supervisor_yes</th>\n",
       "      <td>-0.857681</td>\n",
       "      <td>0.857681</td>\n",
       "    </tr>\n",
       "    <tr>\n",
       "      <th>benefits_yes</th>\n",
       "      <td>0.815884</td>\n",
       "      <td>0.815884</td>\n",
       "    </tr>\n",
       "    <tr>\n",
       "      <th>leave_very_difficult</th>\n",
       "      <td>0.811416</td>\n",
       "      <td>0.811416</td>\n",
       "    </tr>\n",
       "    <tr>\n",
       "      <th>benefits_no</th>\n",
       "      <td>-0.791343</td>\n",
       "      <td>0.791343</td>\n",
       "    </tr>\n",
       "    <tr>\n",
       "      <th>mental_vs_physical_yes</th>\n",
       "      <td>-0.699460</td>\n",
       "      <td>0.699460</td>\n",
       "    </tr>\n",
       "  </tbody>\n",
       "</table>\n",
       "</div>"
      ],
      "text/plain": [
       "                               Coefficient  abs_coeff\n",
       "phys_health_consequence_no       -1.951133   1.951133\n",
       "phys_health_consequence_maybe     1.787543   1.787543\n",
       "mental_health_interview_no        1.345585   1.345585\n",
       "supervisor_no                     1.094332   1.094332\n",
       "mental_health_interview_yes      -1.083216   1.083216\n",
       "supervisor_yes                   -0.857681   0.857681\n",
       "benefits_yes                      0.815884   0.815884\n",
       "leave_very_difficult              0.811416   0.811416\n",
       "benefits_no                      -0.791343   0.791343\n",
       "mental_vs_physical_yes           -0.699460   0.699460"
      ]
     },
     "execution_count": 462,
     "metadata": {},
     "output_type": "execute_result"
    }
   ],
   "source": [
    "a = roc_auc(df14[dms2])\n",
    "# a['lr'].coef_[0][0]\n",
    "dic = { dms2[i]:a['lr'].coef_[0][i] for i in range(len(dms2))}\n",
    "adf = pd.DataFrame(dic, index=['Coefficient']).T\n",
    "import math\n",
    "adf['abs_coeff'] = adf['Coefficient'].map(math.fabs)\n",
    "adf.sort_values('abs_coeff', inplace=True, ascending=False)\n",
    "adf.head(10)"
   ]
  },
  {
   "cell_type": "code",
   "execution_count": 750,
   "metadata": {
    "collapsed": true
   },
   "outputs": [],
   "source": [
    "dmsco = [\n",
    "    'family_history', \n",
    "    'treatment', \n",
    "    'remote_work', \n",
    "    'tech_company', \n",
    "    'obs_consequence', \n",
    "    'wellness_program_dont_know', 'wellness_program_no', #'wellness_program_yes', \n",
    "    'mental_vs_physical_dont_know', 'mental_vs_physical_no',# 'mental_vs_physical_yes', \n",
    "    'benefits_dont_know', 'benefits_no',  # 'benefits_yes', \n",
    "    'num_employees_1-5', 'num_employees_100-500', 'num_employees_1000+', 'num_employees_26-100', 'num_employees_500-1000',# 'num_employees_6-25', \n",
    "    'seek_help_dont_know', 'seek_help_no',# 'seek_help_yes', \n",
    "#     'gender_female', 'gender_male', 'gender_other', \n",
    "    'work_interfere_never', 'work_interfere_often', 'work_interfere_rarely', 'work_interfere_sometimes', #'work_interfere_nan', \n",
    "    'care_options_no', 'care_options_not_sure', #'care_options_yes', \n",
    "#     'state_AL', 'state_AZ', 'state_CA', 'state_CO', 'state_CT', 'state_DC', 'state_FL', 'state_GA', 'state_IA', 'state_ID', 'state_IL', 'state_IN', 'state_KS', 'state_KY', 'state_LA', 'state_MA', 'state_MD', 'state_ME', 'state_MI', 'state_MN', 'state_MO', 'state_MS', 'state_NC', 'state_NE', 'state_NH', 'state_NJ', 'state_NM', 'state_NV', 'state_NY', 'state_OH', 'state_OK', 'state_OR', 'state_PA', 'state_RI', 'state_SC', 'state_SD', 'state_TN', 'state_TX', 'state_UT', 'state_VA', 'state_VT', 'state_WA', 'state_WI', 'state_WV', 'state_WY', 'state_nan', \n",
    "    'phys_health_interview_maybe', 'phys_health_interview_no', #'phys_health_interview_yes', \n",
    "    'coworkers_no', 'coworkers_some_of_them', #'coworkers_yes', \n",
    "    'self_employed_no', 'self_employed_yes', #'self_employed_nan', \n",
    "    'anonymity_dont_know', 'anonymity_no', #'anonymity_yes', \n",
    "    'supervisor_no', 'supervisor_some_of_them',# 'supervisor_yes', \n",
    "    'mental_health_interview_maybe', 'mental_health_interview_no', #'mental_health_interview_yes', \n",
    "    'phys_health_consequence_maybe', 'phys_health_consequence_no', #'phys_health_consequence_yes', \n",
    "#     'leave_dont_know', \n",
    "    'leave_somewhat_difficult', 'leave_somewhat_easy', 'leave_very_difficult', 'leave_very_easy', \n",
    "#     'gender_category_female', 'gender_category_male',# 'gender_category_other'\n",
    "]"
   ]
  },
  {
   "cell_type": "code",
   "execution_count": 751,
   "metadata": {
    "collapsed": false,
    "scrolled": true
   },
   "outputs": [],
   "source": [
    "# a = roc_auc(df14[dmsco])\n",
    "# # a['lr'].coef_[0][0]\n",
    "# dic = { dmsco[i]:a['lr'].coef_[0][i] for i in range(len(dmsco))}\n",
    "# adf = pd.DataFrame(dic, index=['Coefficient']).T\n",
    "# import math\n",
    "# adf['abs_coeff'] = adf['Coefficient'].map(math.fabs)\n",
    "# adf.sort_values('abs_coeff', inplace=True, ascending=False)\n",
    "# adf.head(10)"
   ]
  },
  {
   "cell_type": "code",
   "execution_count": 752,
   "metadata": {
    "collapsed": false
   },
   "outputs": [
    {
     "name": "stdout",
     "output_type": "stream",
     "text": [
      "Optimization terminated successfully.\n",
      "         Current function value: 0.322711\n",
      "         Iterations 9\n"
     ]
    },
    {
     "data": {
      "text/html": [
       "<table class=\"simpletable\">\n",
       "<caption>Logit Regression Results</caption>\n",
       "<tr>\n",
       "  <th>Dep. Variable:</th> <td>mental_health_yes_maybe</td> <th>  No. Observations:  </th>  <td>   522</td>  \n",
       "</tr>\n",
       "<tr>\n",
       "  <th>Model:</th>                  <td>Logit</td>          <th>  Df Residuals:      </th>  <td>   480</td>  \n",
       "</tr>\n",
       "<tr>\n",
       "  <th>Method:</th>                  <td>MLE</td>           <th>  Df Model:          </th>  <td>    41</td>  \n",
       "</tr>\n",
       "<tr>\n",
       "  <th>Date:</th>             <td>Wed, 19 Apr 2017</td>     <th>  Pseudo R-squ.:     </th>  <td>0.5109</td>  \n",
       "</tr>\n",
       "<tr>\n",
       "  <th>Time:</th>                 <td>03:16:54</td>         <th>  Log-Likelihood:    </th> <td> -168.46</td> \n",
       "</tr>\n",
       "<tr>\n",
       "  <th>converged:</th>              <td>True</td>           <th>  LL-Null:           </th> <td> -344.43</td> \n",
       "</tr>\n",
       "<tr>\n",
       "  <th> </th>                         <td> </td>            <th>  LLR p-value:       </th> <td>4.779e-51</td>\n",
       "</tr>\n",
       "</table>\n",
       "<table class=\"simpletable\">\n",
       "<tr>\n",
       "                <td></td>                   <th>coef</th>     <th>std err</th>      <th>z</th>      <th>P>|z|</th> <th>[95.0% Conf. Int.]</th> \n",
       "</tr>\n",
       "<tr>\n",
       "  <th>family_history</th>                <td>    0.2469</td> <td>    0.341</td> <td>    0.724</td> <td> 0.469</td> <td>   -0.422     0.915</td>\n",
       "</tr>\n",
       "<tr>\n",
       "  <th>treatment</th>                     <td>    0.1165</td> <td>    0.459</td> <td>    0.254</td> <td> 0.799</td> <td>   -0.782     1.015</td>\n",
       "</tr>\n",
       "<tr>\n",
       "  <th>remote_work</th>                   <td>    0.0380</td> <td>    0.348</td> <td>    0.109</td> <td> 0.913</td> <td>   -0.644     0.720</td>\n",
       "</tr>\n",
       "<tr>\n",
       "  <th>tech_company</th>                  <td>    0.2298</td> <td>    0.370</td> <td>    0.620</td> <td> 0.535</td> <td>   -0.496     0.956</td>\n",
       "</tr>\n",
       "<tr>\n",
       "  <th>obs_consequence</th>               <td>    0.2064</td> <td>    0.511</td> <td>    0.404</td> <td> 0.686</td> <td>   -0.794     1.207</td>\n",
       "</tr>\n",
       "<tr>\n",
       "  <th>wellness_program_dont_know</th>    <td>   -0.0948</td> <td>    0.520</td> <td>   -0.182</td> <td> 0.855</td> <td>   -1.114     0.924</td>\n",
       "</tr>\n",
       "<tr>\n",
       "  <th>wellness_program_no</th>           <td>    0.1836</td> <td>    0.471</td> <td>    0.390</td> <td> 0.697</td> <td>   -0.740     1.107</td>\n",
       "</tr>\n",
       "<tr>\n",
       "  <th>mental_vs_physical_dont_know</th>  <td>    0.8288</td> <td>    0.359</td> <td>    2.309</td> <td> 0.021</td> <td>    0.125     1.532</td>\n",
       "</tr>\n",
       "<tr>\n",
       "  <th>mental_vs_physical_no</th>         <td>    1.2066</td> <td>    0.503</td> <td>    2.397</td> <td> 0.017</td> <td>    0.220     2.193</td>\n",
       "</tr>\n",
       "<tr>\n",
       "  <th>benefits_dont_know</th>            <td>   -0.6997</td> <td>    0.414</td> <td>   -1.692</td> <td> 0.091</td> <td>   -1.510     0.111</td>\n",
       "</tr>\n",
       "<tr>\n",
       "  <th>benefits_no</th>                   <td>   -0.8206</td> <td>    0.574</td> <td>   -1.429</td> <td> 0.153</td> <td>   -1.946     0.305</td>\n",
       "</tr>\n",
       "<tr>\n",
       "  <th>num_employees_1-5</th>             <td>    0.4714</td> <td>    0.767</td> <td>    0.615</td> <td> 0.539</td> <td>   -1.031     1.974</td>\n",
       "</tr>\n",
       "<tr>\n",
       "  <th>num_employees_100-500</th>         <td>    0.6577</td> <td>    0.545</td> <td>    1.208</td> <td> 0.227</td> <td>   -0.410     1.725</td>\n",
       "</tr>\n",
       "<tr>\n",
       "  <th>num_employees_1000+</th>           <td>    0.2496</td> <td>    0.512</td> <td>    0.487</td> <td> 0.626</td> <td>   -0.755     1.254</td>\n",
       "</tr>\n",
       "<tr>\n",
       "  <th>num_employees_26-100</th>          <td>    0.2778</td> <td>    0.479</td> <td>    0.581</td> <td> 0.561</td> <td>   -0.660     1.216</td>\n",
       "</tr>\n",
       "<tr>\n",
       "  <th>num_employees_500-1000</th>        <td>   -0.2165</td> <td>    0.772</td> <td>   -0.280</td> <td> 0.779</td> <td>   -1.730     1.297</td>\n",
       "</tr>\n",
       "<tr>\n",
       "  <th>seek_help_dont_know</th>           <td>    0.3789</td> <td>    0.461</td> <td>    0.821</td> <td> 0.411</td> <td>   -0.525     1.283</td>\n",
       "</tr>\n",
       "<tr>\n",
       "  <th>seek_help_no</th>                  <td>    0.3102</td> <td>    0.511</td> <td>    0.607</td> <td> 0.544</td> <td>   -0.691     1.312</td>\n",
       "</tr>\n",
       "<tr>\n",
       "  <th>work_interfere_never</th>          <td>    0.7015</td> <td>    0.480</td> <td>    1.461</td> <td> 0.144</td> <td>   -0.240     1.643</td>\n",
       "</tr>\n",
       "<tr>\n",
       "  <th>work_interfere_often</th>          <td>    0.6319</td> <td>    0.759</td> <td>    0.832</td> <td> 0.405</td> <td>   -0.856     2.120</td>\n",
       "</tr>\n",
       "<tr>\n",
       "  <th>work_interfere_rarely</th>         <td>   -0.0975</td> <td>    0.569</td> <td>   -0.171</td> <td> 0.864</td> <td>   -1.214     1.019</td>\n",
       "</tr>\n",
       "<tr>\n",
       "  <th>work_interfere_sometimes</th>      <td>    0.3289</td> <td>    0.559</td> <td>    0.589</td> <td> 0.556</td> <td>   -0.766     1.424</td>\n",
       "</tr>\n",
       "<tr>\n",
       "  <th>care_options_no</th>               <td>   -0.2778</td> <td>    0.428</td> <td>   -0.649</td> <td> 0.516</td> <td>   -1.117     0.561</td>\n",
       "</tr>\n",
       "<tr>\n",
       "  <th>care_options_not_sure</th>         <td>   -0.8610</td> <td>    0.478</td> <td>   -1.800</td> <td> 0.072</td> <td>   -1.799     0.077</td>\n",
       "</tr>\n",
       "<tr>\n",
       "  <th>phys_health_interview_maybe</th>   <td>   -1.5120</td> <td>    0.502</td> <td>   -3.014</td> <td> 0.003</td> <td>   -2.495    -0.529</td>\n",
       "</tr>\n",
       "<tr>\n",
       "  <th>phys_health_interview_no</th>      <td>   -1.5591</td> <td>    0.508</td> <td>   -3.066</td> <td> 0.002</td> <td>   -2.556    -0.562</td>\n",
       "</tr>\n",
       "<tr>\n",
       "  <th>coworkers_no</th>                  <td>    1.9634</td> <td>    0.665</td> <td>    2.952</td> <td> 0.003</td> <td>    0.660     3.267</td>\n",
       "</tr>\n",
       "<tr>\n",
       "  <th>coworkers_some_of_them</th>        <td>    1.6445</td> <td>    0.497</td> <td>    3.311</td> <td> 0.001</td> <td>    0.671     2.618</td>\n",
       "</tr>\n",
       "<tr>\n",
       "  <th>self_employed_no</th>              <td>    0.8207</td> <td>    1.448</td> <td>    0.567</td> <td> 0.571</td> <td>   -2.018     3.659</td>\n",
       "</tr>\n",
       "<tr>\n",
       "  <th>self_employed_yes</th>             <td>   -0.4811</td> <td>    1.687</td> <td>   -0.285</td> <td> 0.776</td> <td>   -3.788     2.826</td>\n",
       "</tr>\n",
       "<tr>\n",
       "  <th>anonymity_dont_know</th>           <td>    0.7979</td> <td>    0.375</td> <td>    2.125</td> <td> 0.034</td> <td>    0.062     1.534</td>\n",
       "</tr>\n",
       "<tr>\n",
       "  <th>anonymity_no</th>                  <td>    0.5914</td> <td>    1.390</td> <td>    0.426</td> <td> 0.670</td> <td>   -2.132     3.315</td>\n",
       "</tr>\n",
       "<tr>\n",
       "  <th>supervisor_no</th>                 <td>    2.3594</td> <td>    0.456</td> <td>    5.171</td> <td> 0.000</td> <td>    1.465     3.254</td>\n",
       "</tr>\n",
       "<tr>\n",
       "  <th>supervisor_some_of_them</th>       <td>    1.1827</td> <td>    0.349</td> <td>    3.384</td> <td> 0.001</td> <td>    0.498     1.868</td>\n",
       "</tr>\n",
       "<tr>\n",
       "  <th>mental_health_interview_maybe</th> <td>    3.8850</td> <td>    1.688</td> <td>    2.302</td> <td> 0.021</td> <td>    0.577     7.193</td>\n",
       "</tr>\n",
       "<tr>\n",
       "  <th>mental_health_interview_no</th>    <td>    4.7269</td> <td>    1.656</td> <td>    2.855</td> <td> 0.004</td> <td>    1.482     7.972</td>\n",
       "</tr>\n",
       "<tr>\n",
       "  <th>phys_health_consequence_maybe</th> <td>   -2.9276</td> <td>    2.356</td> <td>   -1.243</td> <td> 0.214</td> <td>   -7.544     1.689</td>\n",
       "</tr>\n",
       "<tr>\n",
       "  <th>phys_health_consequence_no</th>    <td>   -7.9763</td> <td>    2.393</td> <td>   -3.333</td> <td> 0.001</td> <td>  -12.666    -3.286</td>\n",
       "</tr>\n",
       "<tr>\n",
       "  <th>leave_somewhat_difficult</th>      <td>    0.3767</td> <td>    0.548</td> <td>    0.687</td> <td> 0.492</td> <td>   -0.698     1.451</td>\n",
       "</tr>\n",
       "<tr>\n",
       "  <th>leave_somewhat_easy</th>           <td>    0.2938</td> <td>    0.424</td> <td>    0.692</td> <td> 0.489</td> <td>   -0.538     1.126</td>\n",
       "</tr>\n",
       "<tr>\n",
       "  <th>leave_very_difficult</th>          <td>    1.6806</td> <td>    0.797</td> <td>    2.108</td> <td> 0.035</td> <td>    0.118     3.243</td>\n",
       "</tr>\n",
       "<tr>\n",
       "  <th>leave_very_easy</th>               <td>   -1.3818</td> <td>    0.475</td> <td>   -2.907</td> <td> 0.004</td> <td>   -2.314    -0.450</td>\n",
       "</tr>\n",
       "</table>"
      ],
      "text/plain": [
       "<class 'statsmodels.iolib.summary.Summary'>\n",
       "\"\"\"\n",
       "                              Logit Regression Results                             \n",
       "===================================================================================\n",
       "Dep. Variable:     mental_health_yes_maybe   No. Observations:                  522\n",
       "Model:                               Logit   Df Residuals:                      480\n",
       "Method:                                MLE   Df Model:                           41\n",
       "Date:                     Wed, 19 Apr 2017   Pseudo R-squ.:                  0.5109\n",
       "Time:                             03:16:54   Log-Likelihood:                -168.46\n",
       "converged:                            True   LL-Null:                       -344.43\n",
       "                                             LLR p-value:                 4.779e-51\n",
       "=================================================================================================\n",
       "                                    coef    std err          z      P>|z|      [95.0% Conf. Int.]\n",
       "-------------------------------------------------------------------------------------------------\n",
       "family_history                    0.2469      0.341      0.724      0.469        -0.422     0.915\n",
       "treatment                         0.1165      0.459      0.254      0.799        -0.782     1.015\n",
       "remote_work                       0.0380      0.348      0.109      0.913        -0.644     0.720\n",
       "tech_company                      0.2298      0.370      0.620      0.535        -0.496     0.956\n",
       "obs_consequence                   0.2064      0.511      0.404      0.686        -0.794     1.207\n",
       "wellness_program_dont_know       -0.0948      0.520     -0.182      0.855        -1.114     0.924\n",
       "wellness_program_no               0.1836      0.471      0.390      0.697        -0.740     1.107\n",
       "mental_vs_physical_dont_know      0.8288      0.359      2.309      0.021         0.125     1.532\n",
       "mental_vs_physical_no             1.2066      0.503      2.397      0.017         0.220     2.193\n",
       "benefits_dont_know               -0.6997      0.414     -1.692      0.091        -1.510     0.111\n",
       "benefits_no                      -0.8206      0.574     -1.429      0.153        -1.946     0.305\n",
       "num_employees_1-5                 0.4714      0.767      0.615      0.539        -1.031     1.974\n",
       "num_employees_100-500             0.6577      0.545      1.208      0.227        -0.410     1.725\n",
       "num_employees_1000+               0.2496      0.512      0.487      0.626        -0.755     1.254\n",
       "num_employees_26-100              0.2778      0.479      0.581      0.561        -0.660     1.216\n",
       "num_employees_500-1000           -0.2165      0.772     -0.280      0.779        -1.730     1.297\n",
       "seek_help_dont_know               0.3789      0.461      0.821      0.411        -0.525     1.283\n",
       "seek_help_no                      0.3102      0.511      0.607      0.544        -0.691     1.312\n",
       "work_interfere_never              0.7015      0.480      1.461      0.144        -0.240     1.643\n",
       "work_interfere_often              0.6319      0.759      0.832      0.405        -0.856     2.120\n",
       "work_interfere_rarely            -0.0975      0.569     -0.171      0.864        -1.214     1.019\n",
       "work_interfere_sometimes          0.3289      0.559      0.589      0.556        -0.766     1.424\n",
       "care_options_no                  -0.2778      0.428     -0.649      0.516        -1.117     0.561\n",
       "care_options_not_sure            -0.8610      0.478     -1.800      0.072        -1.799     0.077\n",
       "phys_health_interview_maybe      -1.5120      0.502     -3.014      0.003        -2.495    -0.529\n",
       "phys_health_interview_no         -1.5591      0.508     -3.066      0.002        -2.556    -0.562\n",
       "coworkers_no                      1.9634      0.665      2.952      0.003         0.660     3.267\n",
       "coworkers_some_of_them            1.6445      0.497      3.311      0.001         0.671     2.618\n",
       "self_employed_no                  0.8207      1.448      0.567      0.571        -2.018     3.659\n",
       "self_employed_yes                -0.4811      1.687     -0.285      0.776        -3.788     2.826\n",
       "anonymity_dont_know               0.7979      0.375      2.125      0.034         0.062     1.534\n",
       "anonymity_no                      0.5914      1.390      0.426      0.670        -2.132     3.315\n",
       "supervisor_no                     2.3594      0.456      5.171      0.000         1.465     3.254\n",
       "supervisor_some_of_them           1.1827      0.349      3.384      0.001         0.498     1.868\n",
       "mental_health_interview_maybe     3.8850      1.688      2.302      0.021         0.577     7.193\n",
       "mental_health_interview_no        4.7269      1.656      2.855      0.004         1.482     7.972\n",
       "phys_health_consequence_maybe    -2.9276      2.356     -1.243      0.214        -7.544     1.689\n",
       "phys_health_consequence_no       -7.9763      2.393     -3.333      0.001       -12.666    -3.286\n",
       "leave_somewhat_difficult          0.3767      0.548      0.687      0.492        -0.698     1.451\n",
       "leave_somewhat_easy               0.2938      0.424      0.692      0.489        -0.538     1.126\n",
       "leave_very_difficult              1.6806      0.797      2.108      0.035         0.118     3.243\n",
       "leave_very_easy                  -1.3818      0.475     -2.907      0.004        -2.314    -0.450\n",
       "=================================================================================================\n",
       "\"\"\""
      ]
     },
     "execution_count": 752,
     "metadata": {},
     "output_type": "execute_result"
    }
   ],
   "source": [
    "y = df14[mhc2]\n",
    "X = df14[dmsco]\n",
    "trainX, testX, trainY, testY = train_test_split(X, y, train_size=0.7, stratify=y)\n",
    "\n",
    "logit = discrete_model.Logit(trainY, trainX, missing='drop')\n",
    "result = logit.fit()\n",
    "result.summary()"
   ]
  },
  {
   "cell_type": "code",
   "execution_count": 753,
   "metadata": {
    "collapsed": false
   },
   "outputs": [],
   "source": [
    "# reglogit = discrete_model.Logit(trainY, trainX, missing='drop')\n",
    "# regresult = logit.fit_regularized(model='l1', alpha=.2)\n",
    "# regresult.summary()"
   ]
  },
  {
   "cell_type": "code",
   "execution_count": 754,
   "metadata": {
    "collapsed": false
   },
   "outputs": [
    {
     "name": "stdout",
     "output_type": "stream",
     "text": [
      "Confusion Matrix: \n",
      "[[ 65  18]\n",
      " [ 18 123]]\n",
      "ROC AUC Score: \n",
      "0.902332735196\n"
     ]
    }
   ],
   "source": [
    "logit2 = discrete_model.Logit(testY, testX, missing='drop')\n",
    "probs = logit2.predict(result.params)\n",
    "pred = np.round(probs)\n",
    "cm = confusion_matrix(testY, pred)\n",
    "print 'Confusion Matrix: \\n', cm\n",
    "roc_auc = roc_auc_score(testY,probs)\n",
    "print 'ROC AUC Score: \\n',  roc_auc"
   ]
  },
  {
   "cell_type": "code",
   "execution_count": 755,
   "metadata": {
    "collapsed": false
   },
   "outputs": [
    {
     "name": "stdout",
     "output_type": "stream",
     "text": [
      "false pos / pos pred:  0.127659574468\n",
      "true pos / pos pred:  0.872340425532\n",
      "true pos / actual pos:  0.872340425532\n"
     ]
    }
   ],
   "source": [
    "print 'false pos / pos pred: ', float(cm[0][1])/(cm[1][1] + cm[0][1])\n",
    "print 'true pos / pos pred: ', float(cm[1][1])/(cm[1][1] + cm[0][1])\n",
    "print 'true pos / actual pos: ', float(cm[1][1])/(cm[1][1] + cm[1][0])"
   ]
  },
  {
   "cell_type": "code",
   "execution_count": null,
   "metadata": {
    "collapsed": true
   },
   "outputs": [],
   "source": []
  },
  {
   "cell_type": "code",
   "execution_count": null,
   "metadata": {
    "collapsed": true
   },
   "outputs": [],
   "source": []
  },
  {
   "cell_type": "code",
   "execution_count": null,
   "metadata": {
    "collapsed": true
   },
   "outputs": [],
   "source": []
  },
  {
   "cell_type": "code",
   "execution_count": null,
   "metadata": {
    "collapsed": true
   },
   "outputs": [],
   "source": []
  }
 ],
 "metadata": {
  "kernelspec": {
   "display_name": "Python 2",
   "language": "python",
   "name": "python2"
  },
  "language_info": {
   "codemirror_mode": {
    "name": "ipython",
    "version": 2
   },
   "file_extension": ".py",
   "mimetype": "text/x-python",
   "name": "python",
   "nbconvert_exporter": "python",
   "pygments_lexer": "ipython2",
   "version": "2.7.13"
  }
 },
 "nbformat": 4,
 "nbformat_minor": 0
}
