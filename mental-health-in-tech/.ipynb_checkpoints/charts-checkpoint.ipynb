{
 "cells": [
  {
   "cell_type": "markdown",
   "metadata": {},
   "source": [
    "# Mental Health in Tech Project\n",
    "\n",
    "## Data Sets\n",
    "\n",
    "[OSMI Survey on Mental Health in the Tech Workplace in 2014](https://www.kaggle.com/osmi/mental-health-in-tech-survey) \n",
    "\n",
    "[\"Ongoing\" OSMI survey from 2016](https://data.world/kittybot/osmi-mental-health-tech-2016)\n",
    "\n",
    "\n",
    "## Questions\n",
    "\n",
    "What factors are most signficant in influencing whether or not a person believes disclosing a mental health issue would have negative consequences?\n",
    "\n",
    "Can we predict, based on publicly available features of a person and company, whether that person is likely to beleive disclosing a mental health issue would be harmful for their career?"
   ]
  },
  {
   "cell_type": "markdown",
   "metadata": {},
   "source": [
    "## Exploring and Cleaning 2014 Data\n",
    "\n",
    "See cleaning.ipynb"
   ]
  },
  {
   "cell_type": "code",
   "execution_count": 3,
   "metadata": {
    "collapsed": true
   },
   "outputs": [],
   "source": [
    "import pandas as pd"
   ]
  },
  {
   "cell_type": "code",
   "execution_count": 4,
   "metadata": {
    "collapsed": false
   },
   "outputs": [
    {
     "name": "stdout",
     "output_type": "stream",
     "text": [
      "(1259, 27)\n"
     ]
    }
   ],
   "source": [
    "df14 = pd.read_csv(\"./datasets/2014/mental-health-in-tech-2014.csv\")\n",
    "print df14.shape\n",
    "# df14.head(3)"
   ]
  },
  {
   "cell_type": "code",
   "execution_count": 5,
   "metadata": {
    "collapsed": false
   },
   "outputs": [],
   "source": [
    "# standardize columns to have lowercase names\n",
    "df14.rename(columns={'Age': 'age', 'Gender': 'gender', 'Country': 'country', 'Timestamp': 'timestamp'}, inplace=True)\n",
    "# replace confusing no_employees column name\n",
    "df14.rename(columns={'no_employees': 'num_employees'}, inplace=True)\n"
   ]
  },
  {
   "cell_type": "code",
   "execution_count": 6,
   "metadata": {
    "collapsed": false
   },
   "outputs": [
    {
     "name": "stdout",
     "output_type": "stream",
     "text": [
      "(1259, 27)\n"
     ]
    }
   ],
   "source": [
    "df_original = pd.read_csv(\"./datasets/2014/osmi-mental-health-in-tech-original.csv\")\n",
    "print df_original.shape\n",
    "# print df_original.columns   # original questions/fields"
   ]
  },
  {
   "cell_type": "markdown",
   "metadata": {},
   "source": [
    "<details><summary> Click to expand all **original questions/fields** </summary>\n",
    "    \n",
    "- Timestamp   \n",
    "- Age  \n",
    "- Gender   \n",
    "- Country  \n",
    "- If you live in the United States, which state or territory do you live in?  \n",
    "- Are you self-employed?  \n",
    "- Do you have a family history of mental illness?  \n",
    "- Have you sought treatment for a mental health condition?  \n",
    "- If you have a mental health condition, do you feel that it interferes with your work?  \n",
    "- How many employees does your company or organization have?  \n",
    "- Do you work remotely (outside of an office) at least 50% of the time?  \n",
    "- Is your employer primarily a tech company/organization?  \n",
    "- Does your employer provide mental health benefits?  \n",
    "- Do you know the options for mental health care your employer provides?  \n",
    "- Has your employer ever discussed mental health as part of an employee wellness program?  \n",
    "- Does your employer provide resources to learn more about mental health issues and how to seek help?  \n",
    "- Is your anonymity protected if you choose to take advantage of mental health or substance abuse treatment resources?  \n",
    "- How easy is it for you to take medical leave for a mental health condition?  \n",
    "- Do you think that discussing a mental health issue with your employer would have negative consequences?  \n",
    "- Do you think that discussing a physical health issue with your employer would have negative consequences?  \n",
    "- Would you be willing to discuss a mental health issue with your coworkers?  \n",
    "- Would you be willing to discuss a mental health issue with your direct supervisor(s)?  \n",
    "- Would you bring up a mental health issue with a potential employer in an interview?  \n",
    "- Would you bring up a physical health issue with a potential employer in an interview?  \n",
    "- Do you feel that your employer takes mental health as seriously as physical health?  \n",
    "- Have you heard of or observed negative consequences for coworkers with mental health conditions in your workplace?  \n",
    "- Any additional notes or comments\n",
    "</details>"
   ]
  },
  {
   "cell_type": "code",
   "execution_count": 7,
   "metadata": {
    "collapsed": false,
    "scrolled": true
   },
   "outputs": [
    {
     "data": {
      "text/plain": [
       "'Do you feel that your employer takes mental health as seriously as physical health?'"
      ]
     },
     "execution_count": 7,
     "metadata": {},
     "output_type": "execute_result"
    }
   ],
   "source": [
    "# create reference to look up questions based on column names\n",
    "column_names = df14.columns\n",
    "questions = df_original.columns\n",
    "col_question_map = { \n",
    "    column_names[i]: questions[i] for i in range(df_original.shape[1]-1) \n",
    "}\n",
    "\n",
    "# for example:\n",
    "col_question_map['mental_vs_physical']"
   ]
  },
  {
   "cell_type": "markdown",
   "metadata": {},
   "source": [
    "#### Load Cleaned Data\n"
   ]
  },
  {
   "cell_type": "code",
   "execution_count": 8,
   "metadata": {
    "collapsed": false
   },
   "outputs": [
    {
     "name": "stdout",
     "output_type": "stream",
     "text": [
      "(1259, 183)\n"
     ]
    }
   ],
   "source": [
    "df = pd.read_csv(\"./datasets/2014/clean-mental-health-in-tech-2014.csv\", index_col=0)\n",
    "print df.shape"
   ]
  },
  {
   "cell_type": "code",
   "execution_count": 9,
   "metadata": {
    "collapsed": false
   },
   "outputs": [
    {
     "name": "stdout",
     "output_type": "stream",
     "text": [
      "age has 8 NaNs\n",
      "state has 515 NaNs\n",
      "self_employed has 18 NaNs\n",
      "work_interfere has 264 NaNs\n",
      "comments has 1095 NaNs\n"
     ]
    }
   ],
   "source": [
    "# quick NaN check\n",
    "counts = df.count()\n",
    "numrows = df.shape[0]\n",
    "for col in df.columns:\n",
    "    if counts[col] != numrows:\n",
    "        print \"{0} has {1} NaNs\".format(col, numrows-counts[col])"
   ]
  },
  {
   "cell_type": "code",
   "execution_count": 10,
   "metadata": {
    "collapsed": false
   },
   "outputs": [
    {
     "data": {
      "text/html": [
       "<div>\n",
       "<table border=\"1\" class=\"dataframe\">\n",
       "  <thead>\n",
       "    <tr style=\"text-align: right;\">\n",
       "      <th></th>\n",
       "      <th>timestamp</th>\n",
       "      <th>age</th>\n",
       "      <th>gender</th>\n",
       "      <th>country</th>\n",
       "      <th>state</th>\n",
       "      <th>self_employed</th>\n",
       "      <th>family_history</th>\n",
       "      <th>treatment</th>\n",
       "      <th>work_interfere</th>\n",
       "      <th>num_employees</th>\n",
       "      <th>...</th>\n",
       "      <th>phys_health_consequence_no</th>\n",
       "      <th>phys_health_consequence_yes</th>\n",
       "      <th>leave_dont_know</th>\n",
       "      <th>leave_somewhat_difficult</th>\n",
       "      <th>leave_somewhat_easy</th>\n",
       "      <th>leave_very_difficult</th>\n",
       "      <th>leave_very_easy</th>\n",
       "      <th>gender_category_female</th>\n",
       "      <th>gender_category_male</th>\n",
       "      <th>gender_category_other</th>\n",
       "    </tr>\n",
       "  </thead>\n",
       "  <tbody>\n",
       "    <tr>\n",
       "      <th>0</th>\n",
       "      <td>2014-08-27 11:29:31</td>\n",
       "      <td>37.0</td>\n",
       "      <td>Female</td>\n",
       "      <td>United States</td>\n",
       "      <td>IL</td>\n",
       "      <td>NaN</td>\n",
       "      <td>0</td>\n",
       "      <td>1</td>\n",
       "      <td>often</td>\n",
       "      <td>6-25</td>\n",
       "      <td>...</td>\n",
       "      <td>1</td>\n",
       "      <td>0</td>\n",
       "      <td>0</td>\n",
       "      <td>0</td>\n",
       "      <td>1</td>\n",
       "      <td>0</td>\n",
       "      <td>0</td>\n",
       "      <td>1</td>\n",
       "      <td>0</td>\n",
       "      <td>0</td>\n",
       "    </tr>\n",
       "    <tr>\n",
       "      <th>1</th>\n",
       "      <td>2014-08-27 11:29:37</td>\n",
       "      <td>44.0</td>\n",
       "      <td>M</td>\n",
       "      <td>United States</td>\n",
       "      <td>IN</td>\n",
       "      <td>NaN</td>\n",
       "      <td>0</td>\n",
       "      <td>0</td>\n",
       "      <td>rarely</td>\n",
       "      <td>1000+</td>\n",
       "      <td>...</td>\n",
       "      <td>1</td>\n",
       "      <td>0</td>\n",
       "      <td>1</td>\n",
       "      <td>0</td>\n",
       "      <td>0</td>\n",
       "      <td>0</td>\n",
       "      <td>0</td>\n",
       "      <td>0</td>\n",
       "      <td>1</td>\n",
       "      <td>0</td>\n",
       "    </tr>\n",
       "  </tbody>\n",
       "</table>\n",
       "<p>2 rows × 183 columns</p>\n",
       "</div>"
      ],
      "text/plain": [
       "             timestamp   age  gender        country state self_employed  \\\n",
       "0  2014-08-27 11:29:31  37.0  Female  United States    IL           NaN   \n",
       "1  2014-08-27 11:29:37  44.0       M  United States    IN           NaN   \n",
       "\n",
       "   family_history  treatment work_interfere num_employees  \\\n",
       "0               0          1          often          6-25   \n",
       "1               0          0         rarely         1000+   \n",
       "\n",
       "           ...           phys_health_consequence_no  \\\n",
       "0          ...                                    1   \n",
       "1          ...                                    1   \n",
       "\n",
       "   phys_health_consequence_yes leave_dont_know leave_somewhat_difficult  \\\n",
       "0                            0               0                        0   \n",
       "1                            0               1                        0   \n",
       "\n",
       "  leave_somewhat_easy leave_very_difficult leave_very_easy  \\\n",
       "0                   1                    0               0   \n",
       "1                   0                    0               0   \n",
       "\n",
       "  gender_category_female gender_category_male gender_category_other  \n",
       "0                      1                    0                     0  \n",
       "1                      0                    1                     0  \n",
       "\n",
       "[2 rows x 183 columns]"
      ]
     },
     "execution_count": 10,
     "metadata": {},
     "output_type": "execute_result"
    }
   ],
   "source": [
    "df.head(2)"
   ]
  },
  {
   "cell_type": "markdown",
   "metadata": {},
   "source": [
    "## Charts\n"
   ]
  },
  {
   "cell_type": "code",
   "execution_count": 13,
   "metadata": {
    "collapsed": false
   },
   "outputs": [],
   "source": [
    "import matplotlib.pyplot as plt\n",
    "% matplotlib inline"
   ]
  },
  {
   "cell_type": "code",
   "execution_count": 74,
   "metadata": {
    "collapsed": false
   },
   "outputs": [
    {
     "data": {
      "text/plain": [
       "'Do you think that discussing a mental health issue with your employer would have negative consequences?'"
      ]
     },
     "execution_count": 74,
     "metadata": {},
     "output_type": "execute_result"
    }
   ],
   "source": [
    "col_question_map['mental_health_consequence']"
   ]
  },
  {
   "cell_type": "code",
   "execution_count": 105,
   "metadata": {
    "collapsed": false
   },
   "outputs": [
    {
     "name": "stdout",
     "output_type": "stream",
     "text": [
      "(1233, 183)\n"
     ]
    }
   ],
   "source": [
    "tdf = df.dropna(subset=['self_employed', 'age'])\n",
    "print tdf.shape\n",
    "total_y = tdf['mental_health_consequence']"
   ]
  },
  {
   "cell_type": "code",
   "execution_count": 106,
   "metadata": {
    "collapsed": false
   },
   "outputs": [],
   "source": [
    "# col_question_map"
   ]
  },
  {
   "cell_type": "code",
   "execution_count": 107,
   "metadata": {
    "collapsed": true
   },
   "outputs": [],
   "source": [
    "# information not explicitly related to mental health\n",
    "employer_cols = ['self_employed', 'country', 'tech_company', 'num_employees']\n",
    "person_cols = ['age', 'gender_category']\n",
    "X_cols = employer_cols+person_cols"
   ]
  },
  {
   "cell_type": "code",
   "execution_count": 108,
   "metadata": {
    "collapsed": false
   },
   "outputs": [
    {
     "data": {
      "text/html": [
       "<div>\n",
       "<table border=\"1\" class=\"dataframe\">\n",
       "  <thead>\n",
       "    <tr style=\"text-align: right;\">\n",
       "      <th></th>\n",
       "      <th>self_employed</th>\n",
       "      <th>country</th>\n",
       "      <th>tech_company</th>\n",
       "      <th>num_employees</th>\n",
       "      <th>age</th>\n",
       "      <th>gender_category</th>\n",
       "    </tr>\n",
       "  </thead>\n",
       "  <tbody>\n",
       "    <tr>\n",
       "      <th>18</th>\n",
       "      <td>yes</td>\n",
       "      <td>United States</td>\n",
       "      <td>1</td>\n",
       "      <td>1-5</td>\n",
       "      <td>46.0</td>\n",
       "      <td>male</td>\n",
       "    </tr>\n",
       "    <tr>\n",
       "      <th>19</th>\n",
       "      <td>yes</td>\n",
       "      <td>France</td>\n",
       "      <td>1</td>\n",
       "      <td>6-25</td>\n",
       "      <td>36.0</td>\n",
       "      <td>male</td>\n",
       "    </tr>\n",
       "  </tbody>\n",
       "</table>\n",
       "</div>"
      ],
      "text/plain": [
       "   self_employed        country  tech_company num_employees   age  \\\n",
       "18           yes  United States             1           1-5  46.0   \n",
       "19           yes         France             1          6-25  36.0   \n",
       "\n",
       "   gender_category  \n",
       "18            male  \n",
       "19            male  "
      ]
     },
     "execution_count": 108,
     "metadata": {},
     "output_type": "execute_result"
    }
   ],
   "source": [
    "total_X = tdf[X_cols].copy()\n",
    "total_X.head(2)"
   ]
  },
  {
   "cell_type": "code",
   "execution_count": 109,
   "metadata": {
    "collapsed": false
   },
   "outputs": [
    {
     "data": {
      "text/plain": [
       "18    0\n",
       "19    0\n",
       "20    1\n",
       "21    0\n",
       "22    1\n",
       "Name: mental_health_consequence, dtype: int64"
      ]
     },
     "execution_count": 109,
     "metadata": {},
     "output_type": "execute_result"
    }
   ],
   "source": [
    "mhc_labels = total_y.copy()  # mental_health_consequence labels\n",
    "mhc_labels.replace(to_replace={'no': 0, 'maybe': 1, 'yes': 2}, inplace=True)\n",
    "mhc_labels.head()"
   ]
  },
  {
   "cell_type": "code",
   "execution_count": 110,
   "metadata": {
    "collapsed": false
   },
   "outputs": [
    {
     "name": "stdout",
     "output_type": "stream",
     "text": [
      "{'Canada': 3, 'Brazil': 12, 'Italy': 19, 'Czech Republic': 44, 'Costa Rica': 14, 'France': 1, 'Georgia': 42, 'Ireland': 16, 'Nigeria': 35, 'Norway': 37, 'Israel': 30, 'Australia': 8, 'Singapore': 33, 'Slovenia': 13, 'Germany': 9, 'Bosnia and Herzegovina': 31, 'Belgium': 25, 'Thailand': 38, 'Philippines': 45, 'Spain': 27, 'Netherlands': 5, 'Denmark': 39, 'Poland': 7, 'Finland': 28, 'Moldova': 41, 'United States': 0, 'Sweden': 21, 'Latvia': 23, 'Croatia': 36, 'Japan': 34, 'Switzerland': 6, 'Uruguay': 29, 'New Zealand': 26, 'Russia': 10, 'Bulgaria': 20, 'Romania': 24, 'Portugal': 4, 'Mexico': 11, 'South Africa': 18, 'India': 17, 'United Kingdom': 2, 'Austria': 15, 'China': 43, 'Colombia': 22, 'Greece': 40, 'Hungary': 32}\n"
     ]
    }
   ],
   "source": [
    "countries = total_X['country'].unique()\n",
    "country_dict = {countries[i]: i for i in range(len(countries))}\n",
    "print country_dict"
   ]
  },
  {
   "cell_type": "code",
   "execution_count": 111,
   "metadata": {
    "collapsed": false
   },
   "outputs": [
    {
     "name": "stdout",
     "output_type": "stream",
     "text": [
      "{'26-100': 3, '1-5': 0, '6-25': 1, '100-500': 2, '500-1000': 5, '1000+': 4}\n"
     ]
    }
   ],
   "source": [
    "employee_nums = total_X['num_employees'].unique()\n",
    "employee_num_dict = {employee_nums[i]: i for i in range(len(employee_nums))}\n",
    "print employee_num_dict"
   ]
  },
  {
   "cell_type": "code",
   "execution_count": 112,
   "metadata": {
    "collapsed": true
   },
   "outputs": [],
   "source": [
    "totX = total_X.replace({\n",
    "    'self_employed': {'yes': 2, 'no': 0},\n",
    "    'gender_category': {'female': 0, 'other': 1, 'male': 2},\n",
    "    'country': country_dict,\n",
    "    'num_employees': employee_num_dict\n",
    "})"
   ]
  },
  {
   "cell_type": "code",
   "execution_count": 113,
   "metadata": {
    "collapsed": false
   },
   "outputs": [
    {
     "data": {
      "text/html": [
       "<div>\n",
       "<table border=\"1\" class=\"dataframe\">\n",
       "  <thead>\n",
       "    <tr style=\"text-align: right;\">\n",
       "      <th></th>\n",
       "      <th>self_employed</th>\n",
       "      <th>country</th>\n",
       "      <th>tech_company</th>\n",
       "      <th>num_employees</th>\n",
       "      <th>age</th>\n",
       "      <th>gender_category</th>\n",
       "    </tr>\n",
       "  </thead>\n",
       "  <tbody>\n",
       "    <tr>\n",
       "      <th>18</th>\n",
       "      <td>2</td>\n",
       "      <td>0</td>\n",
       "      <td>1</td>\n",
       "      <td>0</td>\n",
       "      <td>46.0</td>\n",
       "      <td>2</td>\n",
       "    </tr>\n",
       "    <tr>\n",
       "      <th>19</th>\n",
       "      <td>2</td>\n",
       "      <td>1</td>\n",
       "      <td>1</td>\n",
       "      <td>1</td>\n",
       "      <td>36.0</td>\n",
       "      <td>2</td>\n",
       "    </tr>\n",
       "    <tr>\n",
       "      <th>20</th>\n",
       "      <td>0</td>\n",
       "      <td>0</td>\n",
       "      <td>1</td>\n",
       "      <td>2</td>\n",
       "      <td>29.0</td>\n",
       "      <td>2</td>\n",
       "    </tr>\n",
       "    <tr>\n",
       "      <th>21</th>\n",
       "      <td>2</td>\n",
       "      <td>0</td>\n",
       "      <td>1</td>\n",
       "      <td>0</td>\n",
       "      <td>31.0</td>\n",
       "      <td>2</td>\n",
       "    </tr>\n",
       "    <tr>\n",
       "      <th>22</th>\n",
       "      <td>0</td>\n",
       "      <td>0</td>\n",
       "      <td>1</td>\n",
       "      <td>3</td>\n",
       "      <td>46.0</td>\n",
       "      <td>2</td>\n",
       "    </tr>\n",
       "    <tr>\n",
       "      <th>23</th>\n",
       "      <td>0</td>\n",
       "      <td>0</td>\n",
       "      <td>0</td>\n",
       "      <td>4</td>\n",
       "      <td>41.0</td>\n",
       "      <td>2</td>\n",
       "    </tr>\n",
       "    <tr>\n",
       "      <th>24</th>\n",
       "      <td>0</td>\n",
       "      <td>0</td>\n",
       "      <td>1</td>\n",
       "      <td>3</td>\n",
       "      <td>33.0</td>\n",
       "      <td>2</td>\n",
       "    </tr>\n",
       "    <tr>\n",
       "      <th>25</th>\n",
       "      <td>0</td>\n",
       "      <td>0</td>\n",
       "      <td>0</td>\n",
       "      <td>4</td>\n",
       "      <td>35.0</td>\n",
       "      <td>2</td>\n",
       "    </tr>\n",
       "    <tr>\n",
       "      <th>26</th>\n",
       "      <td>0</td>\n",
       "      <td>0</td>\n",
       "      <td>1</td>\n",
       "      <td>0</td>\n",
       "      <td>33.0</td>\n",
       "      <td>2</td>\n",
       "    </tr>\n",
       "    <tr>\n",
       "      <th>27</th>\n",
       "      <td>0</td>\n",
       "      <td>0</td>\n",
       "      <td>1</td>\n",
       "      <td>1</td>\n",
       "      <td>35.0</td>\n",
       "      <td>0</td>\n",
       "    </tr>\n",
       "    <tr>\n",
       "      <th>28</th>\n",
       "      <td>0</td>\n",
       "      <td>0</td>\n",
       "      <td>1</td>\n",
       "      <td>3</td>\n",
       "      <td>34.0</td>\n",
       "      <td>2</td>\n",
       "    </tr>\n",
       "    <tr>\n",
       "      <th>29</th>\n",
       "      <td>0</td>\n",
       "      <td>2</td>\n",
       "      <td>1</td>\n",
       "      <td>1</td>\n",
       "      <td>37.0</td>\n",
       "      <td>2</td>\n",
       "    </tr>\n",
       "    <tr>\n",
       "      <th>30</th>\n",
       "      <td>0</td>\n",
       "      <td>2</td>\n",
       "      <td>1</td>\n",
       "      <td>1</td>\n",
       "      <td>32.0</td>\n",
       "      <td>2</td>\n",
       "    </tr>\n",
       "    <tr>\n",
       "      <th>31</th>\n",
       "      <td>2</td>\n",
       "      <td>0</td>\n",
       "      <td>1</td>\n",
       "      <td>0</td>\n",
       "      <td>31.0</td>\n",
       "      <td>2</td>\n",
       "    </tr>\n",
       "    <tr>\n",
       "      <th>32</th>\n",
       "      <td>0</td>\n",
       "      <td>2</td>\n",
       "      <td>1</td>\n",
       "      <td>5</td>\n",
       "      <td>30.0</td>\n",
       "      <td>2</td>\n",
       "    </tr>\n",
       "    <tr>\n",
       "      <th>33</th>\n",
       "      <td>0</td>\n",
       "      <td>0</td>\n",
       "      <td>1</td>\n",
       "      <td>3</td>\n",
       "      <td>42.0</td>\n",
       "      <td>2</td>\n",
       "    </tr>\n",
       "    <tr>\n",
       "      <th>34</th>\n",
       "      <td>0</td>\n",
       "      <td>0</td>\n",
       "      <td>1</td>\n",
       "      <td>0</td>\n",
       "      <td>40.0</td>\n",
       "      <td>0</td>\n",
       "    </tr>\n",
       "    <tr>\n",
       "      <th>35</th>\n",
       "      <td>0</td>\n",
       "      <td>0</td>\n",
       "      <td>1</td>\n",
       "      <td>1</td>\n",
       "      <td>27.0</td>\n",
       "      <td>2</td>\n",
       "    </tr>\n",
       "    <tr>\n",
       "      <th>36</th>\n",
       "      <td>0</td>\n",
       "      <td>3</td>\n",
       "      <td>1</td>\n",
       "      <td>0</td>\n",
       "      <td>29.0</td>\n",
       "      <td>2</td>\n",
       "    </tr>\n",
       "    <tr>\n",
       "      <th>37</th>\n",
       "      <td>0</td>\n",
       "      <td>4</td>\n",
       "      <td>1</td>\n",
       "      <td>2</td>\n",
       "      <td>38.0</td>\n",
       "      <td>2</td>\n",
       "    </tr>\n",
       "    <tr>\n",
       "      <th>38</th>\n",
       "      <td>0</td>\n",
       "      <td>0</td>\n",
       "      <td>1</td>\n",
       "      <td>2</td>\n",
       "      <td>50.0</td>\n",
       "      <td>2</td>\n",
       "    </tr>\n",
       "    <tr>\n",
       "      <th>39</th>\n",
       "      <td>0</td>\n",
       "      <td>0</td>\n",
       "      <td>1</td>\n",
       "      <td>4</td>\n",
       "      <td>35.0</td>\n",
       "      <td>2</td>\n",
       "    </tr>\n",
       "    <tr>\n",
       "      <th>40</th>\n",
       "      <td>0</td>\n",
       "      <td>2</td>\n",
       "      <td>1</td>\n",
       "      <td>1</td>\n",
       "      <td>24.0</td>\n",
       "      <td>2</td>\n",
       "    </tr>\n",
       "    <tr>\n",
       "      <th>41</th>\n",
       "      <td>0</td>\n",
       "      <td>0</td>\n",
       "      <td>1</td>\n",
       "      <td>4</td>\n",
       "      <td>35.0</td>\n",
       "      <td>2</td>\n",
       "    </tr>\n",
       "    <tr>\n",
       "      <th>42</th>\n",
       "      <td>0</td>\n",
       "      <td>3</td>\n",
       "      <td>1</td>\n",
       "      <td>0</td>\n",
       "      <td>27.0</td>\n",
       "      <td>2</td>\n",
       "    </tr>\n",
       "    <tr>\n",
       "      <th>43</th>\n",
       "      <td>0</td>\n",
       "      <td>5</td>\n",
       "      <td>1</td>\n",
       "      <td>1</td>\n",
       "      <td>18.0</td>\n",
       "      <td>2</td>\n",
       "    </tr>\n",
       "    <tr>\n",
       "      <th>44</th>\n",
       "      <td>0</td>\n",
       "      <td>0</td>\n",
       "      <td>1</td>\n",
       "      <td>3</td>\n",
       "      <td>30.0</td>\n",
       "      <td>2</td>\n",
       "    </tr>\n",
       "    <tr>\n",
       "      <th>45</th>\n",
       "      <td>0</td>\n",
       "      <td>0</td>\n",
       "      <td>1</td>\n",
       "      <td>3</td>\n",
       "      <td>38.0</td>\n",
       "      <td>0</td>\n",
       "    </tr>\n",
       "    <tr>\n",
       "      <th>46</th>\n",
       "      <td>0</td>\n",
       "      <td>2</td>\n",
       "      <td>1</td>\n",
       "      <td>3</td>\n",
       "      <td>28.0</td>\n",
       "      <td>2</td>\n",
       "    </tr>\n",
       "    <tr>\n",
       "      <th>47</th>\n",
       "      <td>0</td>\n",
       "      <td>0</td>\n",
       "      <td>1</td>\n",
       "      <td>1</td>\n",
       "      <td>34.0</td>\n",
       "      <td>2</td>\n",
       "    </tr>\n",
       "    <tr>\n",
       "      <th>...</th>\n",
       "      <td>...</td>\n",
       "      <td>...</td>\n",
       "      <td>...</td>\n",
       "      <td>...</td>\n",
       "      <td>...</td>\n",
       "      <td>...</td>\n",
       "    </tr>\n",
       "    <tr>\n",
       "      <th>1229</th>\n",
       "      <td>0</td>\n",
       "      <td>40</td>\n",
       "      <td>1</td>\n",
       "      <td>1</td>\n",
       "      <td>39.0</td>\n",
       "      <td>2</td>\n",
       "    </tr>\n",
       "    <tr>\n",
       "      <th>1230</th>\n",
       "      <td>0</td>\n",
       "      <td>2</td>\n",
       "      <td>1</td>\n",
       "      <td>1</td>\n",
       "      <td>23.0</td>\n",
       "      <td>0</td>\n",
       "    </tr>\n",
       "    <tr>\n",
       "      <th>1231</th>\n",
       "      <td>2</td>\n",
       "      <td>2</td>\n",
       "      <td>1</td>\n",
       "      <td>1</td>\n",
       "      <td>24.0</td>\n",
       "      <td>2</td>\n",
       "    </tr>\n",
       "    <tr>\n",
       "      <th>1232</th>\n",
       "      <td>0</td>\n",
       "      <td>2</td>\n",
       "      <td>0</td>\n",
       "      <td>4</td>\n",
       "      <td>25.0</td>\n",
       "      <td>2</td>\n",
       "    </tr>\n",
       "    <tr>\n",
       "      <th>1233</th>\n",
       "      <td>0</td>\n",
       "      <td>2</td>\n",
       "      <td>1</td>\n",
       "      <td>1</td>\n",
       "      <td>23.0</td>\n",
       "      <td>2</td>\n",
       "    </tr>\n",
       "    <tr>\n",
       "      <th>1234</th>\n",
       "      <td>0</td>\n",
       "      <td>2</td>\n",
       "      <td>0</td>\n",
       "      <td>1</td>\n",
       "      <td>24.0</td>\n",
       "      <td>1</td>\n",
       "    </tr>\n",
       "    <tr>\n",
       "      <th>1235</th>\n",
       "      <td>0</td>\n",
       "      <td>3</td>\n",
       "      <td>1</td>\n",
       "      <td>3</td>\n",
       "      <td>23.0</td>\n",
       "      <td>2</td>\n",
       "    </tr>\n",
       "    <tr>\n",
       "      <th>1236</th>\n",
       "      <td>0</td>\n",
       "      <td>0</td>\n",
       "      <td>1</td>\n",
       "      <td>4</td>\n",
       "      <td>60.0</td>\n",
       "      <td>2</td>\n",
       "    </tr>\n",
       "    <tr>\n",
       "      <th>1237</th>\n",
       "      <td>0</td>\n",
       "      <td>16</td>\n",
       "      <td>1</td>\n",
       "      <td>3</td>\n",
       "      <td>28.0</td>\n",
       "      <td>2</td>\n",
       "    </tr>\n",
       "    <tr>\n",
       "      <th>1238</th>\n",
       "      <td>0</td>\n",
       "      <td>0</td>\n",
       "      <td>0</td>\n",
       "      <td>4</td>\n",
       "      <td>28.0</td>\n",
       "      <td>2</td>\n",
       "    </tr>\n",
       "    <tr>\n",
       "      <th>1239</th>\n",
       "      <td>0</td>\n",
       "      <td>5</td>\n",
       "      <td>1</td>\n",
       "      <td>5</td>\n",
       "      <td>30.0</td>\n",
       "      <td>2</td>\n",
       "    </tr>\n",
       "    <tr>\n",
       "      <th>1240</th>\n",
       "      <td>0</td>\n",
       "      <td>9</td>\n",
       "      <td>1</td>\n",
       "      <td>2</td>\n",
       "      <td>31.0</td>\n",
       "      <td>2</td>\n",
       "    </tr>\n",
       "    <tr>\n",
       "      <th>1241</th>\n",
       "      <td>2</td>\n",
       "      <td>7</td>\n",
       "      <td>1</td>\n",
       "      <td>1</td>\n",
       "      <td>31.0</td>\n",
       "      <td>2</td>\n",
       "    </tr>\n",
       "    <tr>\n",
       "      <th>1242</th>\n",
       "      <td>0</td>\n",
       "      <td>16</td>\n",
       "      <td>1</td>\n",
       "      <td>3</td>\n",
       "      <td>28.0</td>\n",
       "      <td>2</td>\n",
       "    </tr>\n",
       "    <tr>\n",
       "      <th>1243</th>\n",
       "      <td>0</td>\n",
       "      <td>0</td>\n",
       "      <td>1</td>\n",
       "      <td>4</td>\n",
       "      <td>43.0</td>\n",
       "      <td>0</td>\n",
       "    </tr>\n",
       "    <tr>\n",
       "      <th>1244</th>\n",
       "      <td>0</td>\n",
       "      <td>2</td>\n",
       "      <td>0</td>\n",
       "      <td>4</td>\n",
       "      <td>32.0</td>\n",
       "      <td>0</td>\n",
       "    </tr>\n",
       "    <tr>\n",
       "      <th>1245</th>\n",
       "      <td>0</td>\n",
       "      <td>8</td>\n",
       "      <td>0</td>\n",
       "      <td>2</td>\n",
       "      <td>22.0</td>\n",
       "      <td>2</td>\n",
       "    </tr>\n",
       "    <tr>\n",
       "      <th>1246</th>\n",
       "      <td>0</td>\n",
       "      <td>0</td>\n",
       "      <td>1</td>\n",
       "      <td>2</td>\n",
       "      <td>32.0</td>\n",
       "      <td>2</td>\n",
       "    </tr>\n",
       "    <tr>\n",
       "      <th>1247</th>\n",
       "      <td>0</td>\n",
       "      <td>28</td>\n",
       "      <td>1</td>\n",
       "      <td>1</td>\n",
       "      <td>36.0</td>\n",
       "      <td>2</td>\n",
       "    </tr>\n",
       "    <tr>\n",
       "      <th>1248</th>\n",
       "      <td>0</td>\n",
       "      <td>0</td>\n",
       "      <td>1</td>\n",
       "      <td>3</td>\n",
       "      <td>41.0</td>\n",
       "      <td>0</td>\n",
       "    </tr>\n",
       "    <tr>\n",
       "      <th>1249</th>\n",
       "      <td>0</td>\n",
       "      <td>0</td>\n",
       "      <td>1</td>\n",
       "      <td>3</td>\n",
       "      <td>30.0</td>\n",
       "      <td>2</td>\n",
       "    </tr>\n",
       "    <tr>\n",
       "      <th>1250</th>\n",
       "      <td>2</td>\n",
       "      <td>0</td>\n",
       "      <td>1</td>\n",
       "      <td>3</td>\n",
       "      <td>30.0</td>\n",
       "      <td>2</td>\n",
       "    </tr>\n",
       "    <tr>\n",
       "      <th>1251</th>\n",
       "      <td>0</td>\n",
       "      <td>18</td>\n",
       "      <td>0</td>\n",
       "      <td>2</td>\n",
       "      <td>36.0</td>\n",
       "      <td>2</td>\n",
       "    </tr>\n",
       "    <tr>\n",
       "      <th>1252</th>\n",
       "      <td>0</td>\n",
       "      <td>0</td>\n",
       "      <td>1</td>\n",
       "      <td>2</td>\n",
       "      <td>29.0</td>\n",
       "      <td>2</td>\n",
       "    </tr>\n",
       "    <tr>\n",
       "      <th>1253</th>\n",
       "      <td>0</td>\n",
       "      <td>0</td>\n",
       "      <td>0</td>\n",
       "      <td>4</td>\n",
       "      <td>36.0</td>\n",
       "      <td>2</td>\n",
       "    </tr>\n",
       "    <tr>\n",
       "      <th>1254</th>\n",
       "      <td>0</td>\n",
       "      <td>2</td>\n",
       "      <td>1</td>\n",
       "      <td>3</td>\n",
       "      <td>26.0</td>\n",
       "      <td>2</td>\n",
       "    </tr>\n",
       "    <tr>\n",
       "      <th>1255</th>\n",
       "      <td>0</td>\n",
       "      <td>0</td>\n",
       "      <td>1</td>\n",
       "      <td>3</td>\n",
       "      <td>32.0</td>\n",
       "      <td>2</td>\n",
       "    </tr>\n",
       "    <tr>\n",
       "      <th>1256</th>\n",
       "      <td>0</td>\n",
       "      <td>0</td>\n",
       "      <td>1</td>\n",
       "      <td>4</td>\n",
       "      <td>34.0</td>\n",
       "      <td>2</td>\n",
       "    </tr>\n",
       "    <tr>\n",
       "      <th>1257</th>\n",
       "      <td>0</td>\n",
       "      <td>0</td>\n",
       "      <td>1</td>\n",
       "      <td>2</td>\n",
       "      <td>46.0</td>\n",
       "      <td>0</td>\n",
       "    </tr>\n",
       "    <tr>\n",
       "      <th>1258</th>\n",
       "      <td>0</td>\n",
       "      <td>0</td>\n",
       "      <td>0</td>\n",
       "      <td>3</td>\n",
       "      <td>25.0</td>\n",
       "      <td>2</td>\n",
       "    </tr>\n",
       "  </tbody>\n",
       "</table>\n",
       "<p>1233 rows × 6 columns</p>\n",
       "</div>"
      ],
      "text/plain": [
       "      self_employed  country  tech_company  num_employees   age  \\\n",
       "18                2        0             1              0  46.0   \n",
       "19                2        1             1              1  36.0   \n",
       "20                0        0             1              2  29.0   \n",
       "21                2        0             1              0  31.0   \n",
       "22                0        0             1              3  46.0   \n",
       "23                0        0             0              4  41.0   \n",
       "24                0        0             1              3  33.0   \n",
       "25                0        0             0              4  35.0   \n",
       "26                0        0             1              0  33.0   \n",
       "27                0        0             1              1  35.0   \n",
       "28                0        0             1              3  34.0   \n",
       "29                0        2             1              1  37.0   \n",
       "30                0        2             1              1  32.0   \n",
       "31                2        0             1              0  31.0   \n",
       "32                0        2             1              5  30.0   \n",
       "33                0        0             1              3  42.0   \n",
       "34                0        0             1              0  40.0   \n",
       "35                0        0             1              1  27.0   \n",
       "36                0        3             1              0  29.0   \n",
       "37                0        4             1              2  38.0   \n",
       "38                0        0             1              2  50.0   \n",
       "39                0        0             1              4  35.0   \n",
       "40                0        2             1              1  24.0   \n",
       "41                0        0             1              4  35.0   \n",
       "42                0        3             1              0  27.0   \n",
       "43                0        5             1              1  18.0   \n",
       "44                0        0             1              3  30.0   \n",
       "45                0        0             1              3  38.0   \n",
       "46                0        2             1              3  28.0   \n",
       "47                0        0             1              1  34.0   \n",
       "...             ...      ...           ...            ...   ...   \n",
       "1229              0       40             1              1  39.0   \n",
       "1230              0        2             1              1  23.0   \n",
       "1231              2        2             1              1  24.0   \n",
       "1232              0        2             0              4  25.0   \n",
       "1233              0        2             1              1  23.0   \n",
       "1234              0        2             0              1  24.0   \n",
       "1235              0        3             1              3  23.0   \n",
       "1236              0        0             1              4  60.0   \n",
       "1237              0       16             1              3  28.0   \n",
       "1238              0        0             0              4  28.0   \n",
       "1239              0        5             1              5  30.0   \n",
       "1240              0        9             1              2  31.0   \n",
       "1241              2        7             1              1  31.0   \n",
       "1242              0       16             1              3  28.0   \n",
       "1243              0        0             1              4  43.0   \n",
       "1244              0        2             0              4  32.0   \n",
       "1245              0        8             0              2  22.0   \n",
       "1246              0        0             1              2  32.0   \n",
       "1247              0       28             1              1  36.0   \n",
       "1248              0        0             1              3  41.0   \n",
       "1249              0        0             1              3  30.0   \n",
       "1250              2        0             1              3  30.0   \n",
       "1251              0       18             0              2  36.0   \n",
       "1252              0        0             1              2  29.0   \n",
       "1253              0        0             0              4  36.0   \n",
       "1254              0        2             1              3  26.0   \n",
       "1255              0        0             1              3  32.0   \n",
       "1256              0        0             1              4  34.0   \n",
       "1257              0        0             1              2  46.0   \n",
       "1258              0        0             0              3  25.0   \n",
       "\n",
       "      gender_category  \n",
       "18                  2  \n",
       "19                  2  \n",
       "20                  2  \n",
       "21                  2  \n",
       "22                  2  \n",
       "23                  2  \n",
       "24                  2  \n",
       "25                  2  \n",
       "26                  2  \n",
       "27                  0  \n",
       "28                  2  \n",
       "29                  2  \n",
       "30                  2  \n",
       "31                  2  \n",
       "32                  2  \n",
       "33                  2  \n",
       "34                  0  \n",
       "35                  2  \n",
       "36                  2  \n",
       "37                  2  \n",
       "38                  2  \n",
       "39                  2  \n",
       "40                  2  \n",
       "41                  2  \n",
       "42                  2  \n",
       "43                  2  \n",
       "44                  2  \n",
       "45                  0  \n",
       "46                  2  \n",
       "47                  2  \n",
       "...               ...  \n",
       "1229                2  \n",
       "1230                0  \n",
       "1231                2  \n",
       "1232                2  \n",
       "1233                2  \n",
       "1234                1  \n",
       "1235                2  \n",
       "1236                2  \n",
       "1237                2  \n",
       "1238                2  \n",
       "1239                2  \n",
       "1240                2  \n",
       "1241                2  \n",
       "1242                2  \n",
       "1243                0  \n",
       "1244                0  \n",
       "1245                2  \n",
       "1246                2  \n",
       "1247                2  \n",
       "1248                0  \n",
       "1249                2  \n",
       "1250                2  \n",
       "1251                2  \n",
       "1252                2  \n",
       "1253                2  \n",
       "1254                2  \n",
       "1255                2  \n",
       "1256                2  \n",
       "1257                0  \n",
       "1258                2  \n",
       "\n",
       "[1233 rows x 6 columns]"
      ]
     },
     "execution_count": 113,
     "metadata": {},
     "output_type": "execute_result"
    }
   ],
   "source": [
    "totX"
   ]
  },
  {
   "cell_type": "code",
   "execution_count": 116,
   "metadata": {
    "collapsed": false
   },
   "outputs": [],
   "source": [
    "# quick NaN check\n",
    "counts = totX.count()\n",
    "numrows = totX.shape[0]\n",
    "for col in totX.columns:\n",
    "    if counts[col] != numrows:\n",
    "        print \"{0} has {1} NaNs\".format(col, numrows-counts[col])"
   ]
  },
  {
   "cell_type": "code",
   "execution_count": 117,
   "metadata": {
    "collapsed": false
   },
   "outputs": [
    {
     "data": {
      "text/plain": [
       "DecisionTreeClassifier(class_weight=None, criterion='gini', max_depth=None,\n",
       "            max_features=None, max_leaf_nodes=None,\n",
       "            min_impurity_split=1e-07, min_samples_leaf=1,\n",
       "            min_samples_split=2, min_weight_fraction_leaf=0.0,\n",
       "            presort=False, random_state=None, splitter='best')"
      ]
     },
     "execution_count": 117,
     "metadata": {},
     "output_type": "execute_result"
    }
   ],
   "source": [
    "dtree.fit(totX, total_y)"
   ]
  },
  {
   "cell_type": "code",
   "execution_count": 136,
   "metadata": {
    "collapsed": false
   },
   "outputs": [],
   "source": [
    "# from IPython import display\n",
    "# from sklearn import datasets, tree, utils\n",
    "# from sklearn.externals.six import StringIO  \n",
    "# import pydotplus\n",
    "# from sklearn import tree\n",
    "\n",
    "\n",
    "# clf = tree.DecisionTreeClassifier()\n",
    "# clf.fit(totX, total_y)\n",
    "\n",
    "# tree_clf = dtree\n",
    "\n",
    "# # Generate a plot of the decision tree\n",
    "# dot_data = StringIO() \n",
    "# tree.export_graphviz(tree_clf, \n",
    "#                      class_names = total_y.tolist(),\n",
    "#                      feature_names = totX.columns.tolist(), out_file=dot_data, \n",
    "#                     filled=True, ) \n",
    "# graph = pydotplus.graph_from_dot_data(dot_data.getvalue()) \n",
    "\n",
    "# display.Image(graph.create_png())\n"
   ]
  },
  {
   "cell_type": "markdown",
   "metadata": {},
   "source": [
    "# Random Forest\n"
   ]
  },
  {
   "cell_type": "code",
   "execution_count": 138,
   "metadata": {
    "collapsed": false
   },
   "outputs": [
    {
     "data": {
      "text/plain": [
       "RandomForestClassifier(bootstrap=True, class_weight=None, criterion='gini',\n",
       "            max_depth=None, max_features='auto', max_leaf_nodes=None,\n",
       "            min_impurity_split=1e-07, min_samples_leaf=1,\n",
       "            min_samples_split=2, min_weight_fraction_leaf=0.0,\n",
       "            n_estimators=20, n_jobs=1, oob_score=False, random_state=None,\n",
       "            verbose=0, warm_start=False)"
      ]
     },
     "execution_count": 138,
     "metadata": {},
     "output_type": "execute_result"
    }
   ],
   "source": [
    "from sklearn.ensemble import RandomForestClassifier\n",
    "\n",
    "model = RandomForestClassifier(n_estimators = 20)\n",
    "    \n",
    "model.fit(totX, total_y)"
   ]
  },
  {
   "cell_type": "code",
   "execution_count": 148,
   "metadata": {
    "collapsed": false
   },
   "outputs": [],
   "source": [
    "\n",
    "# # This is all that's needed for scikit-plot\n",
    "# import matplotlib.pyplot as plt\n",
    "# from scikitplot import classifier_factory\n",
    "\n",
    "# classifier_factory(model)\n",
    "\n",
    "# model.plot_roc_curve(totX.as_matrix(), total_y, random_state=2)\n",
    "# plt.show()"
   ]
  },
  {
   "cell_type": "code",
   "execution_count": 149,
   "metadata": {
    "collapsed": false
   },
   "outputs": [
    {
     "data": {
      "text/html": [
       "<div>\n",
       "<table border=\"1\" class=\"dataframe\">\n",
       "  <thead>\n",
       "    <tr style=\"text-align: right;\">\n",
       "      <th></th>\n",
       "      <th>Features</th>\n",
       "      <th>Importance Score</th>\n",
       "    </tr>\n",
       "  </thead>\n",
       "  <tbody>\n",
       "    <tr>\n",
       "      <th>4</th>\n",
       "      <td>age</td>\n",
       "      <td>0.571472</td>\n",
       "    </tr>\n",
       "    <tr>\n",
       "      <th>1</th>\n",
       "      <td>country</td>\n",
       "      <td>0.221640</td>\n",
       "    </tr>\n",
       "    <tr>\n",
       "      <th>3</th>\n",
       "      <td>num_employees</td>\n",
       "      <td>0.134009</td>\n",
       "    </tr>\n",
       "    <tr>\n",
       "      <th>5</th>\n",
       "      <td>gender</td>\n",
       "      <td>0.027561</td>\n",
       "    </tr>\n",
       "    <tr>\n",
       "      <th>2</th>\n",
       "      <td>tech_company</td>\n",
       "      <td>0.027027</td>\n",
       "    </tr>\n",
       "  </tbody>\n",
       "</table>\n",
       "</div>"
      ],
      "text/plain": [
       "        Features  Importance Score\n",
       "4            age          0.571472\n",
       "1        country          0.221640\n",
       "3  num_employees          0.134009\n",
       "5         gender          0.027561\n",
       "2   tech_company          0.027027"
      ]
     },
     "execution_count": 149,
     "metadata": {},
     "output_type": "execute_result"
    }
   ],
   "source": [
    "features = X.columns\n",
    "feature_importances = model.feature_importances_\n",
    "\n",
    "features_df = pd.DataFrame({'Features': features, 'Importance Score': feature_importances})\n",
    "features_df.sort_values(by='Importance Score', inplace=True, ascending=False)\n",
    "\n",
    "features_df.head()"
   ]
  },
  {
   "cell_type": "code",
   "execution_count": null,
   "metadata": {
    "collapsed": true
   },
   "outputs": [],
   "source": []
  }
 ],
 "metadata": {
  "kernelspec": {
   "display_name": "Python 2",
   "language": "python",
   "name": "python2"
  },
  "language_info": {
   "codemirror_mode": {
    "name": "ipython",
    "version": 2
   },
   "file_extension": ".py",
   "mimetype": "text/x-python",
   "name": "python",
   "nbconvert_exporter": "python",
   "pygments_lexer": "ipython2",
   "version": "2.7.13"
  }
 },
 "nbformat": 4,
 "nbformat_minor": 0
}
