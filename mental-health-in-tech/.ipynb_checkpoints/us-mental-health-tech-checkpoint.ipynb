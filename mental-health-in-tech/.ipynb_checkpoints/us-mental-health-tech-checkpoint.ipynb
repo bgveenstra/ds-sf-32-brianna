{
 "cells": [
  {
   "cell_type": "markdown",
   "metadata": {},
   "source": [
    "Potential resource(s):\n",
    "http://scikit-learn.org/stable/auto_examples/cluster/plot_kmeans_digits.html#sphx-glr-auto-examples-cluster-plot-kmeans-digits-py"
   ]
  },
  {
   "cell_type": "markdown",
   "metadata": {},
   "source": [
    "# Mental Health in Tech Project\n",
    "\n",
    "## Data Sets\n",
    "\n",
    "[OSMI Survey on Mental Health in the Tech Workplace in 2014](https://www.kaggle.com/osmi/mental-health-in-tech-survey) \n",
    "\n",
    "[\"Ongoing\" OSMI survey from 2016](https://data.world/kittybot/osmi-mental-health-tech-2016)\n",
    "\n",
    "\n",
    "## Questions\n",
    "\n",
    "What factors are most signficant in influencing whether or not a person believes disclosing a mental health issue would have negative consequences?\n",
    "\n",
    "Can we predict, based on publicly available features of a person and company, whether that person is likely to beleive disclosing a mental health issue would be harmful for their career?"
   ]
  },
  {
   "cell_type": "markdown",
   "metadata": {},
   "source": [
    "## Exploring and Cleaning 2014 Data"
   ]
  },
  {
   "cell_type": "code",
   "execution_count": 1,
   "metadata": {
    "collapsed": true
   },
   "outputs": [],
   "source": [
    "import pandas as pd\n",
    "import seaborn as sns\n",
    "import matplotlib.pyplot as plt\n",
    "%matplotlib inline"
   ]
  },
  {
   "cell_type": "code",
   "execution_count": 2,
   "metadata": {
    "collapsed": false
   },
   "outputs": [
    {
     "name": "stdout",
     "output_type": "stream",
     "text": [
      "(1259, 29)\n"
     ]
    },
    {
     "data": {
      "text/html": [
       "<div>\n",
       "<table border=\"1\" class=\"dataframe\">\n",
       "  <thead>\n",
       "    <tr style=\"text-align: right;\">\n",
       "      <th></th>\n",
       "      <th>timestamp</th>\n",
       "      <th>age</th>\n",
       "      <th>gender</th>\n",
       "      <th>country</th>\n",
       "      <th>state</th>\n",
       "      <th>self_employed</th>\n",
       "      <th>family_history</th>\n",
       "      <th>treatment</th>\n",
       "      <th>work_interfere</th>\n",
       "      <th>num_employees</th>\n",
       "      <th>...</th>\n",
       "      <th>phys_health_consequence</th>\n",
       "      <th>coworkers</th>\n",
       "      <th>supervisor</th>\n",
       "      <th>mental_health_interview</th>\n",
       "      <th>phys_health_interview</th>\n",
       "      <th>mental_vs_physical</th>\n",
       "      <th>obs_consequence</th>\n",
       "      <th>comments</th>\n",
       "      <th>gender_category</th>\n",
       "      <th>year</th>\n",
       "    </tr>\n",
       "  </thead>\n",
       "  <tbody>\n",
       "    <tr>\n",
       "      <th>0</th>\n",
       "      <td>2014-08-27 11:29:31</td>\n",
       "      <td>37.0</td>\n",
       "      <td>Female</td>\n",
       "      <td>United States</td>\n",
       "      <td>IL</td>\n",
       "      <td>NaN</td>\n",
       "      <td>no</td>\n",
       "      <td>1</td>\n",
       "      <td>often</td>\n",
       "      <td>6-25</td>\n",
       "      <td>...</td>\n",
       "      <td>no</td>\n",
       "      <td>some_of_them</td>\n",
       "      <td>yes</td>\n",
       "      <td>no</td>\n",
       "      <td>maybe</td>\n",
       "      <td>yes</td>\n",
       "      <td>0</td>\n",
       "      <td>NaN</td>\n",
       "      <td>female</td>\n",
       "      <td>2014</td>\n",
       "    </tr>\n",
       "    <tr>\n",
       "      <th>1</th>\n",
       "      <td>2014-08-27 11:29:37</td>\n",
       "      <td>44.0</td>\n",
       "      <td>M</td>\n",
       "      <td>United States</td>\n",
       "      <td>IN</td>\n",
       "      <td>NaN</td>\n",
       "      <td>no</td>\n",
       "      <td>0</td>\n",
       "      <td>rarely</td>\n",
       "      <td>1000+</td>\n",
       "      <td>...</td>\n",
       "      <td>no</td>\n",
       "      <td>no</td>\n",
       "      <td>no</td>\n",
       "      <td>no</td>\n",
       "      <td>no</td>\n",
       "      <td>dont_know</td>\n",
       "      <td>0</td>\n",
       "      <td>NaN</td>\n",
       "      <td>male</td>\n",
       "      <td>2014</td>\n",
       "    </tr>\n",
       "    <tr>\n",
       "      <th>2</th>\n",
       "      <td>2014-08-27 11:29:44</td>\n",
       "      <td>32.0</td>\n",
       "      <td>Male</td>\n",
       "      <td>Canada</td>\n",
       "      <td>NaN</td>\n",
       "      <td>NaN</td>\n",
       "      <td>no</td>\n",
       "      <td>0</td>\n",
       "      <td>rarely</td>\n",
       "      <td>6-25</td>\n",
       "      <td>...</td>\n",
       "      <td>no</td>\n",
       "      <td>yes</td>\n",
       "      <td>yes</td>\n",
       "      <td>yes</td>\n",
       "      <td>yes</td>\n",
       "      <td>no</td>\n",
       "      <td>0</td>\n",
       "      <td>NaN</td>\n",
       "      <td>male</td>\n",
       "      <td>2014</td>\n",
       "    </tr>\n",
       "  </tbody>\n",
       "</table>\n",
       "<p>3 rows × 29 columns</p>\n",
       "</div>"
      ],
      "text/plain": [
       "             timestamp   age  gender        country state self_employed  \\\n",
       "0  2014-08-27 11:29:31  37.0  Female  United States    IL           NaN   \n",
       "1  2014-08-27 11:29:37  44.0       M  United States    IN           NaN   \n",
       "2  2014-08-27 11:29:44  32.0    Male         Canada   NaN           NaN   \n",
       "\n",
       "  family_history  treatment work_interfere num_employees  ...   \\\n",
       "0             no          1          often          6-25  ...    \n",
       "1             no          0         rarely         1000+  ...    \n",
       "2             no          0         rarely          6-25  ...    \n",
       "\n",
       "   phys_health_consequence     coworkers supervisor mental_health_interview  \\\n",
       "0                       no  some_of_them        yes                      no   \n",
       "1                       no            no         no                      no   \n",
       "2                       no           yes        yes                     yes   \n",
       "\n",
       "  phys_health_interview mental_vs_physical obs_consequence comments  \\\n",
       "0                 maybe                yes               0      NaN   \n",
       "1                    no          dont_know               0      NaN   \n",
       "2                   yes                 no               0      NaN   \n",
       "\n",
       "  gender_category  year  \n",
       "0          female  2014  \n",
       "1            male  2014  \n",
       "2            male  2014  \n",
       "\n",
       "[3 rows x 29 columns]"
      ]
     },
     "execution_count": 2,
     "metadata": {},
     "output_type": "execute_result"
    }
   ],
   "source": [
    "df14 = pd.read_csv(\"./datasets/2014/clean-no-dummies-2014.csv\", index_col=0)\n",
    "df14['year'] = '2014'\n",
    "print df14.shape\n",
    "df14.head(3)"
   ]
  },
  {
   "cell_type": "code",
   "execution_count": 3,
   "metadata": {
    "collapsed": false
   },
   "outputs": [
    {
     "name": "stdout",
     "output_type": "stream",
     "text": [
      "(1433, 67)\n"
     ]
    },
    {
     "data": {
      "text/html": [
       "<div>\n",
       "<table border=\"1\" class=\"dataframe\">\n",
       "  <thead>\n",
       "    <tr style=\"text-align: right;\">\n",
       "      <th></th>\n",
       "      <th>self_employed</th>\n",
       "      <th>num_employees</th>\n",
       "      <th>tech_company</th>\n",
       "      <th>tech_role</th>\n",
       "      <th>benefits</th>\n",
       "      <th>care_options</th>\n",
       "      <th>wellness_program</th>\n",
       "      <th>seek_help</th>\n",
       "      <th>anonymity</th>\n",
       "      <th>leave</th>\n",
       "      <th>...</th>\n",
       "      <th>live_in_country</th>\n",
       "      <th>live_in_state</th>\n",
       "      <th>work_in_country</th>\n",
       "      <th>work_in_state</th>\n",
       "      <th>position</th>\n",
       "      <th>remote_work</th>\n",
       "      <th>gender_category</th>\n",
       "      <th>state</th>\n",
       "      <th>country</th>\n",
       "      <th>year</th>\n",
       "    </tr>\n",
       "  </thead>\n",
       "  <tbody>\n",
       "    <tr>\n",
       "      <th>0</th>\n",
       "      <td>0</td>\n",
       "      <td>26-100</td>\n",
       "      <td>1.0</td>\n",
       "      <td>NaN</td>\n",
       "      <td>doesnt_apply</td>\n",
       "      <td>NaN</td>\n",
       "      <td>no</td>\n",
       "      <td>no</td>\n",
       "      <td>dont_know</td>\n",
       "      <td>very_easy</td>\n",
       "      <td>...</td>\n",
       "      <td>united_kingdom</td>\n",
       "      <td>NaN</td>\n",
       "      <td>united_kingdom</td>\n",
       "      <td>NaN</td>\n",
       "      <td>Back-end Developer</td>\n",
       "      <td>sometimes</td>\n",
       "      <td>male</td>\n",
       "      <td>NaN</td>\n",
       "      <td>United Kingdom</td>\n",
       "      <td>2016</td>\n",
       "    </tr>\n",
       "    <tr>\n",
       "      <th>1</th>\n",
       "      <td>0</td>\n",
       "      <td>6-25</td>\n",
       "      <td>1.0</td>\n",
       "      <td>NaN</td>\n",
       "      <td>no</td>\n",
       "      <td>yes</td>\n",
       "      <td>yes</td>\n",
       "      <td>yes</td>\n",
       "      <td>yes</td>\n",
       "      <td>somewhat_easy</td>\n",
       "      <td>...</td>\n",
       "      <td>united_states</td>\n",
       "      <td>il</td>\n",
       "      <td>united_states</td>\n",
       "      <td>il</td>\n",
       "      <td>Back-end Developer|Front-end Developer</td>\n",
       "      <td>never</td>\n",
       "      <td>male</td>\n",
       "      <td>il</td>\n",
       "      <td>United States</td>\n",
       "      <td>2016</td>\n",
       "    </tr>\n",
       "    <tr>\n",
       "      <th>2</th>\n",
       "      <td>0</td>\n",
       "      <td>6-25</td>\n",
       "      <td>1.0</td>\n",
       "      <td>NaN</td>\n",
       "      <td>no</td>\n",
       "      <td>NaN</td>\n",
       "      <td>no</td>\n",
       "      <td>no</td>\n",
       "      <td>dont_know</td>\n",
       "      <td>neither_easy_nor_difficult</td>\n",
       "      <td>...</td>\n",
       "      <td>united_kingdom</td>\n",
       "      <td>NaN</td>\n",
       "      <td>united_kingdom</td>\n",
       "      <td>NaN</td>\n",
       "      <td>Back-end Developer</td>\n",
       "      <td>always</td>\n",
       "      <td>male</td>\n",
       "      <td>NaN</td>\n",
       "      <td>United Kingdom</td>\n",
       "      <td>2016</td>\n",
       "    </tr>\n",
       "  </tbody>\n",
       "</table>\n",
       "<p>3 rows × 67 columns</p>\n",
       "</div>"
      ],
      "text/plain": [
       "   self_employed num_employees  tech_company  tech_role      benefits  \\\n",
       "0              0        26-100           1.0        NaN  doesnt_apply   \n",
       "1              0          6-25           1.0        NaN            no   \n",
       "2              0          6-25           1.0        NaN            no   \n",
       "\n",
       "  care_options wellness_program seek_help  anonymity  \\\n",
       "0          NaN               no        no  dont_know   \n",
       "1          yes              yes       yes        yes   \n",
       "2          NaN               no        no  dont_know   \n",
       "\n",
       "                        leave  ...  live_in_country live_in_state  \\\n",
       "0                   very_easy  ...   united_kingdom           NaN   \n",
       "1               somewhat_easy  ...    united_states            il   \n",
       "2  neither_easy_nor_difficult  ...   united_kingdom           NaN   \n",
       "\n",
       "  work_in_country work_in_state                                position  \\\n",
       "0  united_kingdom           NaN                      Back-end Developer   \n",
       "1   united_states            il  Back-end Developer|Front-end Developer   \n",
       "2  united_kingdom           NaN                      Back-end Developer   \n",
       "\n",
       "   remote_work  gender_category state         country  year  \n",
       "0    sometimes             male   NaN  United Kingdom  2016  \n",
       "1        never             male    il   United States  2016  \n",
       "2       always             male   NaN  United Kingdom  2016  \n",
       "\n",
       "[3 rows x 67 columns]"
      ]
     },
     "execution_count": 3,
     "metadata": {},
     "output_type": "execute_result"
    }
   ],
   "source": [
    "df16 = pd.read_csv(\"./datasets/2016/clean-no-dummies-2016.csv\", index_col=0)\n",
    "df16['year'] = '2016'\n",
    "print df16.shape\n",
    "df16.head(3)"
   ]
  },
  {
   "cell_type": "code",
   "execution_count": 4,
   "metadata": {
    "collapsed": false
   },
   "outputs": [],
   "source": [
    "# print df14.columns\n",
    "# print df16.columns\n",
    "colset14 = set(df14.columns)\n",
    "colset16 = set(df16.columns)\n",
    "# print colset14 - colset16\n",
    "# print colset16 - colset14"
   ]
  },
  {
   "cell_type": "markdown",
   "metadata": {},
   "source": [
    "#### NaN Check\n"
   ]
  },
  {
   "cell_type": "code",
   "execution_count": 5,
   "metadata": {
    "collapsed": false
   },
   "outputs": [
    {
     "data": {
      "text/html": [
       "<div>\n",
       "<table border=\"1\" class=\"dataframe\">\n",
       "  <thead>\n",
       "    <tr style=\"text-align: right;\">\n",
       "      <th></th>\n",
       "      <th>self_employed</th>\n",
       "      <th>num_employees</th>\n",
       "      <th>tech_company</th>\n",
       "      <th>tech_role</th>\n",
       "      <th>benefits</th>\n",
       "      <th>care_options</th>\n",
       "      <th>wellness_program</th>\n",
       "      <th>seek_help</th>\n",
       "      <th>anonymity</th>\n",
       "      <th>leave</th>\n",
       "      <th>...</th>\n",
       "      <th>live_in_country</th>\n",
       "      <th>live_in_state</th>\n",
       "      <th>work_in_country</th>\n",
       "      <th>work_in_state</th>\n",
       "      <th>position</th>\n",
       "      <th>remote_work</th>\n",
       "      <th>gender_category</th>\n",
       "      <th>state</th>\n",
       "      <th>country</th>\n",
       "      <th>year</th>\n",
       "    </tr>\n",
       "  </thead>\n",
       "  <tbody>\n",
       "    <tr>\n",
       "      <th>0</th>\n",
       "      <td>0</td>\n",
       "      <td>26-100</td>\n",
       "      <td>1.0</td>\n",
       "      <td>NaN</td>\n",
       "      <td>doesnt_apply</td>\n",
       "      <td>NaN</td>\n",
       "      <td>no</td>\n",
       "      <td>no</td>\n",
       "      <td>dont_know</td>\n",
       "      <td>very_easy</td>\n",
       "      <td>...</td>\n",
       "      <td>united_kingdom</td>\n",
       "      <td>NaN</td>\n",
       "      <td>united_kingdom</td>\n",
       "      <td>NaN</td>\n",
       "      <td>Back-end Developer</td>\n",
       "      <td>sometimes</td>\n",
       "      <td>male</td>\n",
       "      <td>NaN</td>\n",
       "      <td>United Kingdom</td>\n",
       "      <td>2016</td>\n",
       "    </tr>\n",
       "  </tbody>\n",
       "</table>\n",
       "<p>1 rows × 67 columns</p>\n",
       "</div>"
      ],
      "text/plain": [
       "   self_employed num_employees  tech_company  tech_role      benefits  \\\n",
       "0              0        26-100           1.0        NaN  doesnt_apply   \n",
       "\n",
       "  care_options wellness_program seek_help  anonymity      leave  ...   \\\n",
       "0          NaN               no        no  dont_know  very_easy  ...    \n",
       "\n",
       "  live_in_country live_in_state work_in_country work_in_state  \\\n",
       "0  united_kingdom           NaN  united_kingdom           NaN   \n",
       "\n",
       "             position  remote_work  gender_category state         country  \\\n",
       "0  Back-end Developer    sometimes             male   NaN  United Kingdom   \n",
       "\n",
       "   year  \n",
       "0  2016  \n",
       "\n",
       "[1 rows x 67 columns]"
      ]
     },
     "execution_count": 5,
     "metadata": {},
     "output_type": "execute_result"
    }
   ],
   "source": [
    "df16.head(1)"
   ]
  },
  {
   "cell_type": "code",
   "execution_count": 6,
   "metadata": {
    "collapsed": false
   },
   "outputs": [
    {
     "data": {
      "text/html": [
       "<div>\n",
       "<table border=\"1\" class=\"dataframe\">\n",
       "  <thead>\n",
       "    <tr style=\"text-align: right;\">\n",
       "      <th></th>\n",
       "      <th>timestamp</th>\n",
       "      <th>age</th>\n",
       "      <th>gender</th>\n",
       "      <th>country</th>\n",
       "      <th>state</th>\n",
       "      <th>self_employed</th>\n",
       "      <th>family_history</th>\n",
       "      <th>treatment</th>\n",
       "      <th>work_interfere</th>\n",
       "      <th>num_employees</th>\n",
       "      <th>...</th>\n",
       "      <th>phys_health_consequence</th>\n",
       "      <th>coworkers</th>\n",
       "      <th>supervisor</th>\n",
       "      <th>mental_health_interview</th>\n",
       "      <th>phys_health_interview</th>\n",
       "      <th>mental_vs_physical</th>\n",
       "      <th>obs_consequence</th>\n",
       "      <th>comments</th>\n",
       "      <th>gender_category</th>\n",
       "      <th>year</th>\n",
       "    </tr>\n",
       "  </thead>\n",
       "  <tbody>\n",
       "    <tr>\n",
       "      <th>0</th>\n",
       "      <td>2014-08-27 11:29:31</td>\n",
       "      <td>37.0</td>\n",
       "      <td>Female</td>\n",
       "      <td>United States</td>\n",
       "      <td>IL</td>\n",
       "      <td>NaN</td>\n",
       "      <td>no</td>\n",
       "      <td>1</td>\n",
       "      <td>often</td>\n",
       "      <td>6-25</td>\n",
       "      <td>...</td>\n",
       "      <td>no</td>\n",
       "      <td>some_of_them</td>\n",
       "      <td>yes</td>\n",
       "      <td>no</td>\n",
       "      <td>maybe</td>\n",
       "      <td>yes</td>\n",
       "      <td>0</td>\n",
       "      <td>NaN</td>\n",
       "      <td>female</td>\n",
       "      <td>2014</td>\n",
       "    </tr>\n",
       "  </tbody>\n",
       "</table>\n",
       "<p>1 rows × 29 columns</p>\n",
       "</div>"
      ],
      "text/plain": [
       "             timestamp   age  gender        country state self_employed  \\\n",
       "0  2014-08-27 11:29:31  37.0  Female  United States    IL           NaN   \n",
       "\n",
       "  family_history  treatment work_interfere num_employees  ...   \\\n",
       "0             no          1          often          6-25  ...    \n",
       "\n",
       "   phys_health_consequence     coworkers supervisor mental_health_interview  \\\n",
       "0                       no  some_of_them        yes                      no   \n",
       "\n",
       "  phys_health_interview mental_vs_physical obs_consequence comments  \\\n",
       "0                 maybe                yes               0      NaN   \n",
       "\n",
       "  gender_category  year  \n",
       "0          female  2014  \n",
       "\n",
       "[1 rows x 29 columns]"
      ]
     },
     "execution_count": 6,
     "metadata": {},
     "output_type": "execute_result"
    }
   ],
   "source": [
    "df14.head(1)"
   ]
  },
  {
   "cell_type": "code",
   "execution_count": 7,
   "metadata": {
    "collapsed": false,
    "scrolled": true
   },
   "outputs": [
    {
     "data": {
      "text/plain": [
       "(751, 29)"
      ]
     },
     "execution_count": 7,
     "metadata": {},
     "output_type": "execute_result"
    }
   ],
   "source": [
    "usdf14 = df14[df14['country']==\"United States\"]\n",
    "usdf14.shape"
   ]
  },
  {
   "cell_type": "code",
   "execution_count": 8,
   "metadata": {
    "collapsed": false
   },
   "outputs": [
    {
     "data": {
      "text/plain": [
       "(837, 67)"
      ]
     },
     "execution_count": 8,
     "metadata": {},
     "output_type": "execute_result"
    }
   ],
   "source": [
    "usdf16 = df16[df16['country']==\"United States\"]\n",
    "usdf16.shape"
   ]
  },
  {
   "cell_type": "code",
   "execution_count": 9,
   "metadata": {
    "collapsed": false
   },
   "outputs": [
    {
     "name": "stdout",
     "output_type": "stream",
     "text": [
      "(1588, 70)\n"
     ]
    },
    {
     "data": {
      "text/html": [
       "<div>\n",
       "<table border=\"1\" class=\"dataframe\">\n",
       "  <thead>\n",
       "    <tr style=\"text-align: right;\">\n",
       "      <th></th>\n",
       "      <th>age</th>\n",
       "      <th>anonymity</th>\n",
       "      <th>benefits</th>\n",
       "      <th>care_options</th>\n",
       "      <th>comments</th>\n",
       "      <th>country</th>\n",
       "      <th>coworkers</th>\n",
       "      <th>current_believed_conditions</th>\n",
       "      <th>current_diagnosed_conditions</th>\n",
       "      <th>current_disorder</th>\n",
       "      <th>...</th>\n",
       "      <th>timestamp</th>\n",
       "      <th>treatment</th>\n",
       "      <th>viewed_negatively</th>\n",
       "      <th>wellness_program</th>\n",
       "      <th>work_in_country</th>\n",
       "      <th>work_in_state</th>\n",
       "      <th>work_interfere</th>\n",
       "      <th>work_interfere_treated</th>\n",
       "      <th>work_interfere_untreated</th>\n",
       "      <th>year</th>\n",
       "    </tr>\n",
       "  </thead>\n",
       "  <tbody>\n",
       "    <tr>\n",
       "      <th>0</th>\n",
       "      <td>37.0</td>\n",
       "      <td>yes</td>\n",
       "      <td>yes</td>\n",
       "      <td>not_sure</td>\n",
       "      <td>NaN</td>\n",
       "      <td>United States</td>\n",
       "      <td>some_of_them</td>\n",
       "      <td>NaN</td>\n",
       "      <td>NaN</td>\n",
       "      <td>NaN</td>\n",
       "      <td>...</td>\n",
       "      <td>2014-08-27 11:29:31</td>\n",
       "      <td>1</td>\n",
       "      <td>NaN</td>\n",
       "      <td>no</td>\n",
       "      <td>NaN</td>\n",
       "      <td>NaN</td>\n",
       "      <td>often</td>\n",
       "      <td>NaN</td>\n",
       "      <td>NaN</td>\n",
       "      <td>2014</td>\n",
       "    </tr>\n",
       "    <tr>\n",
       "      <th>1</th>\n",
       "      <td>44.0</td>\n",
       "      <td>dont_know</td>\n",
       "      <td>dont_know</td>\n",
       "      <td>no</td>\n",
       "      <td>NaN</td>\n",
       "      <td>United States</td>\n",
       "      <td>no</td>\n",
       "      <td>NaN</td>\n",
       "      <td>NaN</td>\n",
       "      <td>NaN</td>\n",
       "      <td>...</td>\n",
       "      <td>2014-08-27 11:29:37</td>\n",
       "      <td>0</td>\n",
       "      <td>NaN</td>\n",
       "      <td>dont_know</td>\n",
       "      <td>NaN</td>\n",
       "      <td>NaN</td>\n",
       "      <td>rarely</td>\n",
       "      <td>NaN</td>\n",
       "      <td>NaN</td>\n",
       "      <td>2014</td>\n",
       "    </tr>\n",
       "  </tbody>\n",
       "</table>\n",
       "<p>2 rows × 70 columns</p>\n",
       "</div>"
      ],
      "text/plain": [
       "    age  anonymity   benefits care_options comments        country  \\\n",
       "0  37.0        yes        yes     not_sure      NaN  United States   \n",
       "1  44.0  dont_know  dont_know           no      NaN  United States   \n",
       "\n",
       "      coworkers current_believed_conditions current_diagnosed_conditions  \\\n",
       "0  some_of_them                         NaN                          NaN   \n",
       "1            no                         NaN                          NaN   \n",
       "\n",
       "  current_disorder  ...             timestamp treatment viewed_negatively  \\\n",
       "0              NaN  ...   2014-08-27 11:29:31         1               NaN   \n",
       "1              NaN  ...   2014-08-27 11:29:37         0               NaN   \n",
       "\n",
       "  wellness_program work_in_country  work_in_state work_interfere  \\\n",
       "0               no             NaN            NaN          often   \n",
       "1        dont_know             NaN            NaN         rarely   \n",
       "\n",
       "  work_interfere_treated work_interfere_untreated  year  \n",
       "0                    NaN                      NaN  2014  \n",
       "1                    NaN                      NaN  2014  \n",
       "\n",
       "[2 rows x 70 columns]"
      ]
     },
     "execution_count": 9,
     "metadata": {},
     "output_type": "execute_result"
    }
   ],
   "source": [
    "usdf = pd.concat([usdf14, usdf16], axis=0)\n",
    "usdf['country'] = \"United States\"\n",
    "usdf['country'].value_counts(dropna=False)\n",
    "print usdf.shape\n",
    "usdf.head(2)\n"
   ]
  },
  {
   "cell_type": "code",
   "execution_count": 10,
   "metadata": {
    "collapsed": false
   },
   "outputs": [],
   "source": [
    "# print '2014 null data'\n",
    "# counts = usdf14.count()\n",
    "# numrows = usdf14.shape[0]\n",
    "# for col in usdf14.columns:\n",
    "#     if counts[col] != numrows:\n",
    "#         print \"{0} - {1}\".format(col, numrows-counts[col])\n",
    "        \n",
    "# print '\\n2016 null data'\n",
    "# counts = usdf16.count()\n",
    "# numrows = usdf16.shape[0]\n",
    "# for col in usdf16.columns:\n",
    "#     if counts[col] != numrows:\n",
    "#         print \"{0} - {1}\".format(col, numrows-counts[col])"
   ]
  },
  {
   "cell_type": "code",
   "execution_count": 11,
   "metadata": {
    "collapsed": false
   },
   "outputs": [],
   "source": [
    "# print 'null data'\n",
    "# counts = usdf.count()\n",
    "# numrows = usdf.shape[0]\n",
    "# for col in usdf.columns:\n",
    "#     if counts[col] != numrows:\n",
    "#         print \"{0} - {1}\".format(col, numrows-counts[col])"
   ]
  },
  {
   "cell_type": "code",
   "execution_count": 12,
   "metadata": {
    "collapsed": false
   },
   "outputs": [
    {
     "data": {
      "text/plain": [
       "NaN           751\n",
       "maybe         336\n",
       "yes_would     250\n",
       "no_wouldnt    195\n",
       "no_dont        30\n",
       "yes_do         26\n",
       "Name: viewed_negatively, dtype: int64"
      ]
     },
     "execution_count": 12,
     "metadata": {},
     "output_type": "execute_result"
    }
   ],
   "source": [
    "usdf.viewed_negatively.value_counts(dropna=False)"
   ]
  },
  {
   "cell_type": "code",
   "execution_count": 13,
   "metadata": {
    "collapsed": true
   },
   "outputs": [],
   "source": [
    "def work_interfere_yesno (row):\n",
    "    if row['work_interfere'] == 'never' or row['work_interfere_treated'] == 'never' or row['work_interfere_untreated'] == 'never'  :\n",
    "        return 0\n",
    "    elif row['work_interfere'] == 'doesnt_apply' or row['work_interfere_treated'] == 'doesnt_apply' or row['work_interfere_untreated'] == 'doesnt_apply':\n",
    "        return float('NaN')\n",
    "    return 1\n",
    "    "
   ]
  },
  {
   "cell_type": "code",
   "execution_count": 14,
   "metadata": {
    "collapsed": false,
    "scrolled": true
   },
   "outputs": [
    {
     "data": {
      "text/html": [
       "<div>\n",
       "<table border=\"1\" class=\"dataframe\">\n",
       "  <thead>\n",
       "    <tr style=\"text-align: right;\">\n",
       "      <th></th>\n",
       "      <th>age</th>\n",
       "      <th>anonymity</th>\n",
       "      <th>benefits</th>\n",
       "      <th>care_options</th>\n",
       "      <th>comments</th>\n",
       "      <th>country</th>\n",
       "      <th>coworkers</th>\n",
       "      <th>current_believed_conditions</th>\n",
       "      <th>current_diagnosed_conditions</th>\n",
       "      <th>current_disorder</th>\n",
       "      <th>...</th>\n",
       "      <th>treatment</th>\n",
       "      <th>viewed_negatively</th>\n",
       "      <th>wellness_program</th>\n",
       "      <th>work_in_country</th>\n",
       "      <th>work_in_state</th>\n",
       "      <th>work_interfere</th>\n",
       "      <th>work_interfere_treated</th>\n",
       "      <th>work_interfere_untreated</th>\n",
       "      <th>year</th>\n",
       "      <th>work_interfere_bool</th>\n",
       "    </tr>\n",
       "  </thead>\n",
       "  <tbody>\n",
       "    <tr>\n",
       "      <th>0</th>\n",
       "      <td>37.0</td>\n",
       "      <td>yes</td>\n",
       "      <td>yes</td>\n",
       "      <td>not_sure</td>\n",
       "      <td>NaN</td>\n",
       "      <td>United States</td>\n",
       "      <td>some_of_them</td>\n",
       "      <td>NaN</td>\n",
       "      <td>NaN</td>\n",
       "      <td>NaN</td>\n",
       "      <td>...</td>\n",
       "      <td>1</td>\n",
       "      <td>NaN</td>\n",
       "      <td>no</td>\n",
       "      <td>NaN</td>\n",
       "      <td>NaN</td>\n",
       "      <td>often</td>\n",
       "      <td>NaN</td>\n",
       "      <td>NaN</td>\n",
       "      <td>2014</td>\n",
       "      <td>1.0</td>\n",
       "    </tr>\n",
       "    <tr>\n",
       "      <th>1</th>\n",
       "      <td>44.0</td>\n",
       "      <td>dont_know</td>\n",
       "      <td>dont_know</td>\n",
       "      <td>no</td>\n",
       "      <td>NaN</td>\n",
       "      <td>United States</td>\n",
       "      <td>no</td>\n",
       "      <td>NaN</td>\n",
       "      <td>NaN</td>\n",
       "      <td>NaN</td>\n",
       "      <td>...</td>\n",
       "      <td>0</td>\n",
       "      <td>NaN</td>\n",
       "      <td>dont_know</td>\n",
       "      <td>NaN</td>\n",
       "      <td>NaN</td>\n",
       "      <td>rarely</td>\n",
       "      <td>NaN</td>\n",
       "      <td>NaN</td>\n",
       "      <td>2014</td>\n",
       "      <td>1.0</td>\n",
       "    </tr>\n",
       "  </tbody>\n",
       "</table>\n",
       "<p>2 rows × 71 columns</p>\n",
       "</div>"
      ],
      "text/plain": [
       "    age  anonymity   benefits care_options comments        country  \\\n",
       "0  37.0        yes        yes     not_sure      NaN  United States   \n",
       "1  44.0  dont_know  dont_know           no      NaN  United States   \n",
       "\n",
       "      coworkers current_believed_conditions current_diagnosed_conditions  \\\n",
       "0  some_of_them                         NaN                          NaN   \n",
       "1            no                         NaN                          NaN   \n",
       "\n",
       "  current_disorder         ...         treatment viewed_negatively  \\\n",
       "0              NaN         ...                 1               NaN   \n",
       "1              NaN         ...                 0               NaN   \n",
       "\n",
       "  wellness_program work_in_country work_in_state  work_interfere  \\\n",
       "0               no             NaN           NaN           often   \n",
       "1        dont_know             NaN           NaN          rarely   \n",
       "\n",
       "  work_interfere_treated work_interfere_untreated  year work_interfere_bool  \n",
       "0                    NaN                      NaN  2014                 1.0  \n",
       "1                    NaN                      NaN  2014                 1.0  \n",
       "\n",
       "[2 rows x 71 columns]"
      ]
     },
     "execution_count": 14,
     "metadata": {},
     "output_type": "execute_result"
    }
   ],
   "source": [
    "df = usdf.copy()\n",
    "df['work_interfere_bool'] = df.apply(work_interfere_yesno, axis=1)#.value_counts(dropna=False)\n",
    "df.head(2)"
   ]
  },
  {
   "cell_type": "code",
   "execution_count": 15,
   "metadata": {
    "collapsed": true
   },
   "outputs": [],
   "source": [
    "def mental_health_consequence_yesno (row):\n",
    "    if row['mental_health_consequence'] == 'no':\n",
    "        return 0\n",
    "    elif row['mental_health_consequence'] == 'maybe' or row['mental_health_consequence'] == 'yes':\n",
    "        return 1\n",
    "    else:\n",
    "        return float('NaN')"
   ]
  },
  {
   "cell_type": "code",
   "execution_count": 16,
   "metadata": {
    "collapsed": false
   },
   "outputs": [
    {
     "name": "stdout",
     "output_type": "stream",
     "text": [
      "maybe    607\n",
      "no       542\n",
      "yes      310\n",
      "Name: mental_health_consequence, dtype: int64\n",
      "1.0    917\n",
      "0.0    542\n",
      "Name: mental_health_consequence_bool, dtype: int64\n"
     ]
    }
   ],
   "source": [
    "df['mental_health_consequence_bool'] = df.apply(mental_health_consequence_yesno, axis=1)\n",
    "df.head(2)\n",
    "print df['mental_health_consequence'].value_counts()\n",
    "print df['mental_health_consequence_bool'].value_counts()"
   ]
  },
  {
   "cell_type": "markdown",
   "metadata": {
    "collapsed": true
   },
   "source": [
    "### Frequency of each response within a column"
   ]
  },
  {
   "cell_type": "code",
   "execution_count": 17,
   "metadata": {
    "collapsed": false
   },
   "outputs": [
    {
     "name": "stdout",
     "output_type": "stream",
     "text": [
      "1588\n",
      "maybe    0.382242\n",
      "no       0.341310\n",
      "yes      0.195214\n",
      "NaN      0.081234\n",
      "Name: mental_health_consequence, dtype: float64\n"
     ]
    }
   ],
   "source": [
    "segment = usdf.copy()\n",
    "col = 'mental_health_consequence'\n",
    "num_responses = segment.shape[0]\n",
    "count_series = segment[col].value_counts(dropna=False)\n",
    "print num_responses\n",
    "count_series.loc[:] = count_series / num_responses\n",
    "print count_series"
   ]
  },
  {
   "cell_type": "markdown",
   "metadata": {},
   "source": [
    "### Number of responses by age"
   ]
  },
  {
   "cell_type": "code",
   "execution_count": 18,
   "metadata": {
    "collapsed": false
   },
   "outputs": [
    {
     "data": {
      "text/plain": [
       "<matplotlib.axes._subplots.AxesSubplot at 0x104ce9e50>"
      ]
     },
     "execution_count": 18,
     "metadata": {},
     "output_type": "execute_result"
    },
    {
     "data": {
      "image/png": "[encoded data removed]",
      "text/plain": [
       "<matplotlib.figure.Figure at 0x105ce0ad0>"
      ]
     },
     "metadata": {},
     "output_type": "display_data"
    }
   ],
   "source": [
    "%matplotlib inline\n",
    "counts = df[['age', 'gender_category']].groupby('age').count()\n",
    "counts.plot(kind='bar',legend=False)"
   ]
  },
  {
   "cell_type": "markdown",
   "metadata": {},
   "source": [
    "### Frequency of mental health consequences (yes or maybe) by age (unfinished)"
   ]
  },
  {
   "cell_type": "code",
   "execution_count": 19,
   "metadata": {
    "collapsed": false
   },
   "outputs": [
    {
     "name": "stdout",
     "output_type": "stream",
     "text": [
      "18 age group series\n",
      "mental_health_consequence_bool\n",
      "0.0    2\n",
      "1.0    1\n",
      "dtype: int64\n",
      "2\n",
      "number of mental health consequence bool trues in 18 age group\n",
      "1\n"
     ]
    },
    {
     "data": {
      "text/plain": [
       "age   mental_health_consequence_bool\n",
       "18.0  0.0                                2\n",
       "      1.0                                1\n",
       "19.0  0.0                                2\n",
       "      1.0                                1\n",
       "20.0  0.0                                4\n",
       "      1.0                                1\n",
       "21.0  0.0                                4\n",
       "      1.0                               10\n",
       "22.0  0.0                                8\n",
       "      1.0                               16\n",
       "23.0  0.0                               17\n",
       "      1.0                               24\n",
       "24.0  0.0                               23\n",
       "      1.0                               23\n",
       "25.0  0.0                               21\n",
       "      1.0                               42\n",
       "26.0  0.0                               20\n",
       "      1.0                               50\n",
       "27.0  0.0                               24\n",
       "      1.0                               37\n",
       "28.0  0.0                               25\n",
       "      1.0                               47\n",
       "29.0  0.0                               38\n",
       "      1.0                               54\n",
       "30.0  0.0                               34\n",
       "      1.0                               54\n",
       "31.0  0.0                               35\n",
       "      1.0                               42\n",
       "32.0  0.0                               32\n",
       "      1.0                               54\n",
       "                                        ..\n",
       "49.0  1.0                                6\n",
       "50.0  0.0                                5\n",
       "      1.0                                4\n",
       "51.0  0.0                                6\n",
       "      1.0                                1\n",
       "52.0  0.0                                2\n",
       "      1.0                                3\n",
       "53.0  0.0                                1\n",
       "      1.0                                1\n",
       "54.0  0.0                                2\n",
       "      1.0                                1\n",
       "55.0  0.0                                1\n",
       "      1.0                                4\n",
       "56.0  0.0                                2\n",
       "      1.0                                3\n",
       "57.0  0.0                                1\n",
       "      1.0                                5\n",
       "58.0  1.0                                2\n",
       "59.0  1.0                                1\n",
       "60.0  0.0                                1\n",
       "      1.0                                1\n",
       "61.0  1.0                                1\n",
       "62.0  0.0                                1\n",
       "      1.0                                1\n",
       "63.0  0.0                                2\n",
       "65.0  1.0                                1\n",
       "66.0  1.0                                1\n",
       "70.0  0.0                                1\n",
       "72.0  1.0                                1\n",
       "74.0  1.0                                1\n",
       "dtype: int64"
      ]
     },
     "execution_count": 19,
     "metadata": {},
     "output_type": "execute_result"
    }
   ],
   "source": [
    "# df[['age', 'mental_health_consequence_bool']].groupby(['age', 'mental_health_consequence_bool']).count()\n",
    "grouped = df.groupby(['age', 'mental_health_consequence_bool']).size()\n",
    "print '18 age group series'\n",
    "print grouped[18.0]\n",
    "print grouped[18.0].count()\n",
    "print 'number of mental health consequence bool trues in 18 age group'\n",
    "print grouped[18.0][1.0]\n",
    "type(grouped)\n",
    "grouped"
   ]
  },
  {
   "cell_type": "code",
   "execution_count": null,
   "metadata": {
    "collapsed": true
   },
   "outputs": [],
   "source": []
  },
  {
   "cell_type": "markdown",
   "metadata": {},
   "source": [
    "### Frequency of mental health consequences 'yes' by age (unfinished)"
   ]
  },
  {
   "cell_type": "code",
   "execution_count": 20,
   "metadata": {
    "collapsed": false
   },
   "outputs": [],
   "source": [
    " grouped = df.groupby(['age', 'mental_health_consequence'])"
   ]
  },
  {
   "cell_type": "code",
   "execution_count": 21,
   "metadata": {
    "collapsed": false
   },
   "outputs": [],
   "source": [
    "def printone():\n",
    "    for thing in grouped:\n",
    "        return thing"
   ]
  },
  {
   "cell_type": "code",
   "execution_count": 22,
   "metadata": {
    "collapsed": false
   },
   "outputs": [
    {
     "name": "stdout",
     "output_type": "stream",
     "text": [
      "(18.0, 'no')\n"
     ]
    },
    {
     "data": {
      "text/html": [
       "<div>\n",
       "<table border=\"1\" class=\"dataframe\">\n",
       "  <thead>\n",
       "    <tr style=\"text-align: right;\">\n",
       "      <th></th>\n",
       "      <th>age</th>\n",
       "      <th>anonymity</th>\n",
       "      <th>benefits</th>\n",
       "      <th>care_options</th>\n",
       "      <th>comments</th>\n",
       "      <th>country</th>\n",
       "      <th>coworkers</th>\n",
       "      <th>current_believed_conditions</th>\n",
       "      <th>current_diagnosed_conditions</th>\n",
       "      <th>current_disorder</th>\n",
       "      <th>...</th>\n",
       "      <th>viewed_negatively</th>\n",
       "      <th>wellness_program</th>\n",
       "      <th>work_in_country</th>\n",
       "      <th>work_in_state</th>\n",
       "      <th>work_interfere</th>\n",
       "      <th>work_interfere_treated</th>\n",
       "      <th>work_interfere_untreated</th>\n",
       "      <th>year</th>\n",
       "      <th>work_interfere_bool</th>\n",
       "      <th>mental_health_consequence_bool</th>\n",
       "    </tr>\n",
       "  </thead>\n",
       "  <tbody>\n",
       "    <tr>\n",
       "      <th>118</th>\n",
       "      <td>18.0</td>\n",
       "      <td>yes</td>\n",
       "      <td>no</td>\n",
       "      <td>no</td>\n",
       "      <td>NaN</td>\n",
       "      <td>United States</td>\n",
       "      <td>some_of_them</td>\n",
       "      <td>NaN</td>\n",
       "      <td>NaN</td>\n",
       "      <td>NaN</td>\n",
       "      <td>...</td>\n",
       "      <td>NaN</td>\n",
       "      <td>no</td>\n",
       "      <td>NaN</td>\n",
       "      <td>NaN</td>\n",
       "      <td>rarely</td>\n",
       "      <td>NaN</td>\n",
       "      <td>NaN</td>\n",
       "      <td>2014</td>\n",
       "      <td>1.0</td>\n",
       "      <td>0.0</td>\n",
       "    </tr>\n",
       "    <tr>\n",
       "      <th>287</th>\n",
       "      <td>18.0</td>\n",
       "      <td>dont_know</td>\n",
       "      <td>dont_know</td>\n",
       "      <td>not_sure</td>\n",
       "      <td>NaN</td>\n",
       "      <td>United States</td>\n",
       "      <td>some_of_them</td>\n",
       "      <td>NaN</td>\n",
       "      <td>NaN</td>\n",
       "      <td>NaN</td>\n",
       "      <td>...</td>\n",
       "      <td>NaN</td>\n",
       "      <td>dont_know</td>\n",
       "      <td>NaN</td>\n",
       "      <td>NaN</td>\n",
       "      <td>never</td>\n",
       "      <td>NaN</td>\n",
       "      <td>NaN</td>\n",
       "      <td>2014</td>\n",
       "      <td>0.0</td>\n",
       "      <td>0.0</td>\n",
       "    </tr>\n",
       "  </tbody>\n",
       "</table>\n",
       "<p>2 rows × 72 columns</p>\n",
       "</div>"
      ],
      "text/plain": [
       "      age  anonymity   benefits care_options comments        country  \\\n",
       "118  18.0        yes         no           no      NaN  United States   \n",
       "287  18.0  dont_know  dont_know     not_sure      NaN  United States   \n",
       "\n",
       "        coworkers current_believed_conditions current_diagnosed_conditions  \\\n",
       "118  some_of_them                         NaN                          NaN   \n",
       "287  some_of_them                         NaN                          NaN   \n",
       "\n",
       "    current_disorder              ...               viewed_negatively  \\\n",
       "118              NaN              ...                             NaN   \n",
       "287              NaN              ...                             NaN   \n",
       "\n",
       "    wellness_program work_in_country work_in_state work_interfere  \\\n",
       "118               no             NaN           NaN         rarely   \n",
       "287        dont_know             NaN           NaN          never   \n",
       "\n",
       "     work_interfere_treated work_interfere_untreated  year  \\\n",
       "118                     NaN                      NaN  2014   \n",
       "287                     NaN                      NaN  2014   \n",
       "\n",
       "    work_interfere_bool mental_health_consequence_bool  \n",
       "118                 1.0                            0.0  \n",
       "287                 0.0                            0.0  \n",
       "\n",
       "[2 rows x 72 columns]"
      ]
     },
     "execution_count": 22,
     "metadata": {},
     "output_type": "execute_result"
    }
   ],
   "source": [
    "a = printone()\n",
    "print a[0]\n",
    "a[1]"
   ]
  },
  {
   "cell_type": "markdown",
   "metadata": {},
   "source": [
    "### Other stuff\n"
   ]
  },
  {
   "cell_type": "code",
   "execution_count": 23,
   "metadata": {
    "collapsed": false
   },
   "outputs": [
    {
     "name": "stdout",
     "output_type": "stream",
     "text": [
      "(1588, 70)\n",
      "2016    837\n",
      "2014    751\n",
      "Name: year, dtype: int64\n"
     ]
    }
   ],
   "source": [
    "print usdf.shape\n",
    "print usdf['year'].value_counts()\n",
    "# usdf.notnull().sum().sort_values(ascending=False)"
   ]
  },
  {
   "cell_type": "code",
   "execution_count": 24,
   "metadata": {
    "collapsed": false
   },
   "outputs": [],
   "source": [
    "# (usdf16['live_in_state']==usdf16['work_in_state']).value_counts(dropna=False)"
   ]
  },
  {
   "cell_type": "code",
   "execution_count": 25,
   "metadata": {
    "collapsed": false
   },
   "outputs": [
    {
     "data": {
      "text/plain": [
       "treatment\n",
       "0     98\n",
       "1    212\n",
       "dtype: int64"
      ]
     },
     "execution_count": 25,
     "metadata": {},
     "output_type": "execute_result"
    }
   ],
   "source": [
    "usdf.groupby('mental_health_consequence').get_group('yes').groupby('treatment').size()"
   ]
  },
  {
   "cell_type": "code",
   "execution_count": 26,
   "metadata": {
    "collapsed": false
   },
   "outputs": [
    {
     "data": {
      "text/plain": [
       "treatment  mental_health_consequence\n",
       "0          maybe                        242\n",
       "           no                           256\n",
       "           yes                           98\n",
       "1          maybe                        365\n",
       "           no                           286\n",
       "           yes                          212\n",
       "dtype: int64"
      ]
     },
     "execution_count": 26,
     "metadata": {},
     "output_type": "execute_result"
    }
   ],
   "source": [
    "usdf.groupby(['treatment', 'mental_health_consequence']).size()"
   ]
  },
  {
   "cell_type": "code",
   "execution_count": 27,
   "metadata": {
    "collapsed": false
   },
   "outputs": [
    {
     "data": {
      "text/plain": [
       "gender_category  mental_health_consequence\n",
       "female           maybe                        161\n",
       "                 no                           119\n",
       "                 yes                          101\n",
       "male             maybe                        434\n",
       "                 no                           419\n",
       "                 yes                          201\n",
       "other            maybe                         12\n",
       "                 no                             4\n",
       "                 yes                            8\n",
       "dtype: int64"
      ]
     },
     "execution_count": 27,
     "metadata": {},
     "output_type": "execute_result"
    }
   ],
   "source": [
    "usdf.groupby(['gender_category', 'mental_health_consequence']).size()"
   ]
  },
  {
   "cell_type": "code",
   "execution_count": 28,
   "metadata": {
    "collapsed": false
   },
   "outputs": [
    {
     "data": {
      "text/html": [
       "<div>\n",
       "<table border=\"1\" class=\"dataframe\">\n",
       "  <thead>\n",
       "    <tr style=\"text-align: right;\">\n",
       "      <th></th>\n",
       "      <th>age</th>\n",
       "      <th>anonymity</th>\n",
       "      <th>benefits</th>\n",
       "      <th>care_options</th>\n",
       "      <th>comments</th>\n",
       "      <th>country</th>\n",
       "      <th>coworkers</th>\n",
       "      <th>current_believed_conditions</th>\n",
       "      <th>current_diagnosed_conditions</th>\n",
       "      <th>current_disorder</th>\n",
       "      <th>...</th>\n",
       "      <th>timestamp</th>\n",
       "      <th>treatment</th>\n",
       "      <th>viewed_negatively</th>\n",
       "      <th>wellness_program</th>\n",
       "      <th>work_in_country</th>\n",
       "      <th>work_in_state</th>\n",
       "      <th>work_interfere</th>\n",
       "      <th>work_interfere_treated</th>\n",
       "      <th>work_interfere_untreated</th>\n",
       "      <th>year</th>\n",
       "    </tr>\n",
       "  </thead>\n",
       "  <tbody>\n",
       "    <tr>\n",
       "      <th>12</th>\n",
       "      <td>42.0</td>\n",
       "      <td>dont_know</td>\n",
       "      <td>yes</td>\n",
       "      <td>yes</td>\n",
       "      <td>NaN</td>\n",
       "      <td>United States</td>\n",
       "      <td>yes</td>\n",
       "      <td>NaN</td>\n",
       "      <td>NaN</td>\n",
       "      <td>NaN</td>\n",
       "      <td>...</td>\n",
       "      <td>2014-08-27 11:33:23</td>\n",
       "      <td>1</td>\n",
       "      <td>NaN</td>\n",
       "      <td>no</td>\n",
       "      <td>NaN</td>\n",
       "      <td>NaN</td>\n",
       "      <td>sometimes</td>\n",
       "      <td>NaN</td>\n",
       "      <td>NaN</td>\n",
       "      <td>2014</td>\n",
       "    </tr>\n",
       "    <tr>\n",
       "      <th>25</th>\n",
       "      <td>35.0</td>\n",
       "      <td>no</td>\n",
       "      <td>yes</td>\n",
       "      <td>yes</td>\n",
       "      <td>Sometimes I think  about using drugs for my me...</td>\n",
       "      <td>United States</td>\n",
       "      <td>some_of_them</td>\n",
       "      <td>NaN</td>\n",
       "      <td>NaN</td>\n",
       "      <td>NaN</td>\n",
       "      <td>...</td>\n",
       "      <td>2014-08-27 11:37:08</td>\n",
       "      <td>1</td>\n",
       "      <td>NaN</td>\n",
       "      <td>no</td>\n",
       "      <td>NaN</td>\n",
       "      <td>NaN</td>\n",
       "      <td>sometimes</td>\n",
       "      <td>NaN</td>\n",
       "      <td>NaN</td>\n",
       "      <td>2014</td>\n",
       "    </tr>\n",
       "  </tbody>\n",
       "</table>\n",
       "<p>2 rows × 70 columns</p>\n",
       "</div>"
      ],
      "text/plain": [
       "     age  anonymity benefits care_options  \\\n",
       "12  42.0  dont_know      yes          yes   \n",
       "25  35.0         no      yes          yes   \n",
       "\n",
       "                                             comments        country  \\\n",
       "12                                                NaN  United States   \n",
       "25  Sometimes I think  about using drugs for my me...  United States   \n",
       "\n",
       "       coworkers current_believed_conditions current_diagnosed_conditions  \\\n",
       "12           yes                         NaN                          NaN   \n",
       "25  some_of_them                         NaN                          NaN   \n",
       "\n",
       "   current_disorder  ...             timestamp treatment viewed_negatively  \\\n",
       "12              NaN  ...   2014-08-27 11:33:23         1               NaN   \n",
       "25              NaN  ...   2014-08-27 11:37:08         1               NaN   \n",
       "\n",
       "   wellness_program work_in_country  work_in_state work_interfere  \\\n",
       "12               no             NaN            NaN      sometimes   \n",
       "25               no             NaN            NaN      sometimes   \n",
       "\n",
       "   work_interfere_treated work_interfere_untreated  year  \n",
       "12                    NaN                      NaN  2014  \n",
       "25                    NaN                      NaN  2014  \n",
       "\n",
       "[2 rows x 70 columns]"
      ]
     },
     "execution_count": 28,
     "metadata": {},
     "output_type": "execute_result"
    }
   ],
   "source": [
    "consy = usdf.groupby(['mental_health_consequence']).get_group('yes')\n",
    "# consw = usdf.groupby(['mental_health_consequcne'])\n",
    "consy.head(2)\n"
   ]
  },
  {
   "cell_type": "code",
   "execution_count": 29,
   "metadata": {
    "collapsed": true
   },
   "outputs": [],
   "source": [
    "mhc = 'mental_health_consequence'"
   ]
  },
  {
   "cell_type": "code",
   "execution_count": 30,
   "metadata": {
    "collapsed": false
   },
   "outputs": [
    {
     "name": "stdout",
     "output_type": "stream",
     "text": [
      "gender_category  mental_health_consequence\n",
      "female           maybe                        161\n",
      "                 no                           119\n",
      "                 yes                          101\n",
      "male             maybe                        434\n",
      "                 no                           419\n",
      "                 yes                          201\n",
      "other            maybe                         12\n",
      "                 no                             4\n",
      "                 yes                            8\n",
      "dtype: int64\n"
     ]
    },
    {
     "data": {
      "text/html": [
       "<div>\n",
       "<table border=\"1\" class=\"dataframe\">\n",
       "  <thead>\n",
       "    <tr style=\"text-align: right;\">\n",
       "      <th></th>\n",
       "      <th>gender_category</th>\n",
       "      <th>mental_health_consequence</th>\n",
       "      <th>percentage</th>\n",
       "    </tr>\n",
       "  </thead>\n",
       "  <tbody>\n",
       "    <tr>\n",
       "      <th>0</th>\n",
       "      <td>female</td>\n",
       "      <td>maybe</td>\n",
       "      <td>42.257218</td>\n",
       "    </tr>\n",
       "    <tr>\n",
       "      <th>1</th>\n",
       "      <td>female</td>\n",
       "      <td>no</td>\n",
       "      <td>31.233596</td>\n",
       "    </tr>\n",
       "    <tr>\n",
       "      <th>2</th>\n",
       "      <td>female</td>\n",
       "      <td>yes</td>\n",
       "      <td>26.509186</td>\n",
       "    </tr>\n",
       "    <tr>\n",
       "      <th>3</th>\n",
       "      <td>male</td>\n",
       "      <td>maybe</td>\n",
       "      <td>41.176471</td>\n",
       "    </tr>\n",
       "    <tr>\n",
       "      <th>4</th>\n",
       "      <td>male</td>\n",
       "      <td>no</td>\n",
       "      <td>39.753321</td>\n",
       "    </tr>\n",
       "    <tr>\n",
       "      <th>5</th>\n",
       "      <td>male</td>\n",
       "      <td>yes</td>\n",
       "      <td>19.070209</td>\n",
       "    </tr>\n",
       "    <tr>\n",
       "      <th>6</th>\n",
       "      <td>other</td>\n",
       "      <td>maybe</td>\n",
       "      <td>50.000000</td>\n",
       "    </tr>\n",
       "    <tr>\n",
       "      <th>7</th>\n",
       "      <td>other</td>\n",
       "      <td>no</td>\n",
       "      <td>16.666667</td>\n",
       "    </tr>\n",
       "    <tr>\n",
       "      <th>8</th>\n",
       "      <td>other</td>\n",
       "      <td>yes</td>\n",
       "      <td>33.333333</td>\n",
       "    </tr>\n",
       "  </tbody>\n",
       "</table>\n",
       "</div>"
      ],
      "text/plain": [
       "  gender_category mental_health_consequence  percentage\n",
       "0          female                     maybe   42.257218\n",
       "1          female                        no   31.233596\n",
       "2          female                       yes   26.509186\n",
       "3            male                     maybe   41.176471\n",
       "4            male                        no   39.753321\n",
       "5            male                       yes   19.070209\n",
       "6           other                     maybe   50.000000\n",
       "7           other                        no   16.666667\n",
       "8           other                       yes   33.333333"
      ]
     },
     "execution_count": 30,
     "metadata": {},
     "output_type": "execute_result"
    }
   ],
   "source": [
    "def cat_proportion_in_col(df, main, sub):\n",
    "    d = df[[main, sub]].copy()\n",
    "    count_subs_per_main = d.groupby([main, sub]).size()\n",
    "    print count_subs_per_main\n",
    "    percent_subs_per_main = count_subs_per_main.groupby(level=[0]).apply(lambda x: 100*x /  x.sum())\n",
    "    pdf = pd.DataFrame(percent_subs_per_main)\n",
    "    pdf.reset_index(inplace=True)\n",
    "    pdf.rename(columns={0:'percentage'}, inplace=True)\n",
    "    return pdf\n",
    "pros = cat_proportion_in_col(usdf, 'gender_category', mhc)\n",
    "pros"
   ]
  },
  {
   "cell_type": "code",
   "execution_count": 31,
   "metadata": {
    "collapsed": false
   },
   "outputs": [
    {
     "name": "stdout",
     "output_type": "stream",
     "text": [
      "gender_category  mental_health_consequence\n",
      "female           maybe                        161\n",
      "                 no                           119\n",
      "                 yes                          101\n",
      "male             maybe                        434\n",
      "                 no                           419\n",
      "                 yes                          201\n",
      "other            maybe                         12\n",
      "                 no                             4\n",
      "                 yes                            8\n",
      "dtype: int64\n"
     ]
    },
    {
     "data": {
      "image/png": "[encoded data removed]",
      "text/plain": [
       "<matplotlib.figure.Figure at 0x113519110>"
      ]
     },
     "metadata": {},
     "output_type": "display_data"
    }
   ],
   "source": [
    "def plot_percentage(df, main_col, sub_col):\n",
    "    percent_df = cat_proportion_in_col(df, main_col, sub_col)\n",
    "    fg = sns.factorplot(\n",
    "        x=mhc, \n",
    "        y='percentage',\n",
    "        col=main_col,\n",
    "        data=percent_df, \n",
    "        kind='bar',\n",
    "        palette='Set1',\n",
    "        order=['no', 'maybe', 'yes']\n",
    "    )\n",
    "plot_percentage(usdf, 'gender_category', mhc)"
   ]
  },
  {
   "cell_type": "code",
   "execution_count": 32,
   "metadata": {
    "collapsed": false
   },
   "outputs": [
    {
     "name": "stdout",
     "output_type": "stream",
     "text": [
      "year  mental_health_consequence\n",
      "2014  maybe                        300\n",
      "      no                           280\n",
      "      yes                          171\n",
      "2016  maybe                        307\n",
      "      no                           262\n",
      "      yes                          139\n",
      "dtype: int64\n",
      "year  mental_health_consequence\n",
      "2014  maybe                        300\n",
      "      no                           280\n",
      "      yes                          171\n",
      "2016  maybe                        307\n",
      "      no                           262\n",
      "      yes                          139\n",
      "dtype: int64\n"
     ]
    },
    {
     "data": {
      "image/png": "[encoded data removed]",
      "text/plain": [
       "<matplotlib.figure.Figure at 0x1135ece10>"
      ]
     },
     "metadata": {},
     "output_type": "display_data"
    }
   ],
   "source": [
    "cat_proportion_in_col(usdf, 'year', mhc)\n",
    "plot_percentage(usdf, 'year', mhc)"
   ]
  },
  {
   "cell_type": "code",
   "execution_count": 34,
   "metadata": {
    "collapsed": false
   },
   "outputs": [
    {
     "name": "stdout",
     "output_type": "stream",
     "text": [
      "anonymity  mental_health_consequence\n",
      "dont_know  maybe                        430\n",
      "           no                           307\n",
      "           yes                          213\n",
      "no         maybe                         20\n",
      "           no                             8\n",
      "           yes                           29\n",
      "yes        maybe                        157\n",
      "           no                           227\n",
      "           yes                           68\n",
      "dtype: int64\n",
      "anonymity  mental_health_consequence\n",
      "dont_know  maybe                        430\n",
      "           no                           307\n",
      "           yes                          213\n",
      "no         maybe                         20\n",
      "           no                             8\n",
      "           yes                           29\n",
      "yes        maybe                        157\n",
      "           no                           227\n",
      "           yes                           68\n",
      "dtype: int64\n"
     ]
    },
    {
     "data": {
      "image/png": "[encoded data removed]",
      "text/plain": [
       "<matplotlib.figure.Figure at 0x113845f90>"
      ]
     },
     "metadata": {},
     "output_type": "display_data"
    }
   ],
   "source": [
    "cat_proportion_in_col(usdf, 'anonymity', mhc)\n",
    "plot_percentage(usdf, 'anonymity', mhc)"
   ]
  },
  {
   "cell_type": "code",
   "execution_count": 35,
   "metadata": {
    "collapsed": false
   },
   "outputs": [
    {
     "name": "stdout",
     "output_type": "stream",
     "text": [
      "obs_consequence  mental_health_consequence\n",
      "0.0              maybe                        557\n",
      "                 no                           515\n",
      "                 yes                          243\n",
      "1.0              maybe                         50\n",
      "                 no                            27\n",
      "                 yes                           67\n",
      "dtype: int64\n",
      "obs_consequence  mental_health_consequence\n",
      "0.0              maybe                        557\n",
      "                 no                           515\n",
      "                 yes                          243\n",
      "1.0              maybe                         50\n",
      "                 no                            27\n",
      "                 yes                           67\n",
      "dtype: int64\n"
     ]
    },
    {
     "data": {
      "image/png": "[encoded data removed]",
      "text/plain": [
       "<matplotlib.figure.Figure at 0x113a4e710>"
      ]
     },
     "metadata": {},
     "output_type": "display_data"
    }
   ],
   "source": [
    "cat_proportion_in_col(usdf, 'obs_consequence', mhc)\n",
    "plot_percentage(usdf, 'obs_consequence', mhc)"
   ]
  },
  {
   "cell_type": "code",
   "execution_count": 37,
   "metadata": {
    "collapsed": false
   },
   "outputs": [
    {
     "name": "stdout",
     "output_type": "stream",
     "text": [
      "current_disorder  mental_health_consequence\n",
      "maybe             maybe                         73\n",
      "                  no                            43\n",
      "                  yes                           33\n",
      "no                maybe                        105\n",
      "                  no                            98\n",
      "                  yes                           29\n",
      "yes               maybe                        129\n",
      "                  no                           121\n",
      "                  yes                           77\n",
      "dtype: int64\n",
      "current_disorder  mental_health_consequence\n",
      "maybe             maybe                         73\n",
      "                  no                            43\n",
      "                  yes                           33\n",
      "no                maybe                        105\n",
      "                  no                            98\n",
      "                  yes                           29\n",
      "yes               maybe                        129\n",
      "                  no                           121\n",
      "                  yes                           77\n",
      "dtype: int64\n"
     ]
    },
    {
     "data": {
      "image/png": "[encoded data removed]",
      "text/plain": [
       "<matplotlib.figure.Figure at 0x113f34fd0>"
      ]
     },
     "metadata": {},
     "output_type": "display_data"
    }
   ],
   "source": [
    "cat_proportion_in_col(usdf, 'current_disorder', mhc)\n",
    "plot_percentage(usdf, 'current_disorder', mhc)"
   ]
  },
  {
   "cell_type": "code",
   "execution_count": 38,
   "metadata": {
    "collapsed": true
   },
   "outputs": [],
   "source": [
    "def picture(col):\n",
    "    percs = cat_proportion_in_col(usdf, col, mhc)\n",
    "    print percs\n",
    "    plot_percentage(usdf, col, mhc)"
   ]
  },
  {
   "cell_type": "code",
   "execution_count": 39,
   "metadata": {
    "collapsed": false
   },
   "outputs": [
    {
     "data": {
      "text/plain": [
       "Index([u'age', u'anonymity', u'benefits', u'care_options', u'comments',\n",
       "       u'country', u'coworkers', u'current_believed_conditions',\n",
       "       u'current_diagnosed_conditions', u'current_disorder', u'family_history',\n",
       "       u'friends_family', u'gender', u'gender_category', u'hurt_career',\n",
       "       u'insurance', u'know_resources', u'leave', u'live_in_country',\n",
       "       u'live_in_state', u'mental_health_consequence',\n",
       "       u'mental_health_interview', u'mental_health_interview_comment',\n",
       "       u'mental_vs_physical', u'num_employees', u'obs_consequence',\n",
       "       u'obs_negative_response', u'past_disorder', u'percent_time_impacted',\n",
       "       u'phys_health_consequence', u'phys_health_interview',\n",
       "       u'phys_health_interview_comment', u'position', u'prev_anonymity',\n",
       "       u'prev_benefits', u'prev_care_options', u'prev_coworkers',\n",
       "       u'prev_employer', u'prev_mental_health_consequence',\n",
       "       u'prev_mental_vs_physical', u'prev_obs_consequence',\n",
       "       u'prev_phys_health_consequence', u'prev_seek_help', u'prev_supervisor',\n",
       "       u'prev_wellness_program', u'productivity_impacted',\n",
       "       u'professional_diagnosed', u'professional_diagnoses',\n",
       "       u'reluctant_due_to_obs', u'remote_work', u'revealed_contacts',\n",
       "       u'revealed_contacts_consequence', u'revealed_coworkers',\n",
       "       u'revealed_coworkers_consequence', u'seek_help', u'self_employed',\n",
       "       u'state', u'supervisor', u'tech_company', u'tech_role', u'timestamp',\n",
       "       u'treatment', u'viewed_negatively', u'wellness_program',\n",
       "       u'work_in_country', u'work_in_state', u'work_interfere',\n",
       "       u'work_interfere_treated', u'work_interfere_untreated', u'year'],\n",
       "      dtype='object')"
      ]
     },
     "execution_count": 39,
     "metadata": {},
     "output_type": "execute_result"
    }
   ],
   "source": [
    "usdf.columns"
   ]
  },
  {
   "cell_type": "code",
   "execution_count": 41,
   "metadata": {
    "collapsed": false
   },
   "outputs": [
    {
     "name": "stdout",
     "output_type": "stream",
     "text": [
      "work_interfere  mental_health_consequence\n",
      "never           maybe                         52\n",
      "                no                            52\n",
      "                yes                           21\n",
      "often           maybe                         31\n",
      "                no                            21\n",
      "                yes                           30\n",
      "rarely          maybe                         45\n",
      "                no                            46\n",
      "                yes                           20\n",
      "sometimes       maybe                        121\n",
      "                no                            85\n",
      "                yes                           83\n",
      "dtype: int64\n",
      "   work_interfere mental_health_consequence  percentage\n",
      "0           never                     maybe   41.600000\n",
      "1           never                        no   41.600000\n",
      "2           never                       yes   16.800000\n",
      "3           often                     maybe   37.804878\n",
      "4           often                        no   25.609756\n",
      "5           often                       yes   36.585366\n",
      "6          rarely                     maybe   40.540541\n",
      "7          rarely                        no   41.441441\n",
      "8          rarely                       yes   18.018018\n",
      "9       sometimes                     maybe   41.868512\n",
      "10      sometimes                        no   29.411765\n",
      "11      sometimes                       yes   28.719723\n",
      "work_interfere  mental_health_consequence\n",
      "never           maybe                         52\n",
      "                no                            52\n",
      "                yes                           21\n",
      "often           maybe                         31\n",
      "                no                            21\n",
      "                yes                           30\n",
      "rarely          maybe                         45\n",
      "                no                            46\n",
      "                yes                           20\n",
      "sometimes       maybe                        121\n",
      "                no                            85\n",
      "                yes                           83\n",
      "dtype: int64\n"
     ]
    },
    {
     "data": {
      "image/png": "[encoded data removed]",
      "text/plain": [
       "<matplotlib.figure.Figure at 0x1135ec610>"
      ]
     },
     "metadata": {},
     "output_type": "display_data"
    }
   ],
   "source": [
    "picture('work_interfere')"
   ]
  },
  {
   "cell_type": "code",
   "execution_count": 42,
   "metadata": {
    "collapsed": false
   },
   "outputs": [
    {
     "name": "stdout",
     "output_type": "stream",
     "text": [
      "hurt_career  mental_health_consequence\n",
      "maybe        maybe                        131\n",
      "             no                           136\n",
      "             yes                           24\n",
      "no_hasnt     maybe                          3\n",
      "             no                            15\n",
      "no_wouldnt   maybe                         16\n",
      "             no                            62\n",
      "             yes                            1\n",
      "yes_has      maybe                         18\n",
      "             no                             7\n",
      "             yes                           21\n",
      "yes_would    maybe                        139\n",
      "             no                            42\n",
      "             yes                           93\n",
      "dtype: int64\n",
      "   hurt_career mental_health_consequence  percentage\n",
      "0        maybe                     maybe   45.017182\n",
      "1        maybe                        no   46.735395\n",
      "2        maybe                       yes    8.247423\n",
      "3     no_hasnt                     maybe   16.666667\n",
      "4     no_hasnt                        no   83.333333\n",
      "5   no_wouldnt                     maybe   20.253165\n",
      "6   no_wouldnt                        no   78.481013\n",
      "7   no_wouldnt                       yes    1.265823\n",
      "8      yes_has                     maybe   39.130435\n",
      "9      yes_has                        no   15.217391\n",
      "10     yes_has                       yes   45.652174\n",
      "11   yes_would                     maybe   50.729927\n",
      "12   yes_would                        no   15.328467\n",
      "13   yes_would                       yes   33.941606\n",
      "hurt_career  mental_health_consequence\n",
      "maybe        maybe                        131\n",
      "             no                           136\n",
      "             yes                           24\n",
      "no_hasnt     maybe                          3\n",
      "             no                            15\n",
      "no_wouldnt   maybe                         16\n",
      "             no                            62\n",
      "             yes                            1\n",
      "yes_has      maybe                         18\n",
      "             no                             7\n",
      "             yes                           21\n",
      "yes_would    maybe                        139\n",
      "             no                            42\n",
      "             yes                           93\n",
      "dtype: int64\n"
     ]
    },
    {
     "data": {
      "image/png": "[encoded data removed]",
      "text/plain": [
       "<matplotlib.figure.Figure at 0x11379e210>"
      ]
     },
     "metadata": {},
     "output_type": "display_data"
    }
   ],
   "source": [
    "picture('hurt_career')"
   ]
  },
  {
   "cell_type": "code",
   "execution_count": 44,
   "metadata": {
    "collapsed": false
   },
   "outputs": [
    {
     "name": "stdout",
     "output_type": "stream",
     "text": [
      "obs_negative_response  mental_health_consequence\n",
      "experienced            maybe                         31\n",
      "                       no                            19\n",
      "                       yes                           25\n",
      "maybe                  maybe                         91\n",
      "                       no                            52\n",
      "                       yes                           37\n",
      "no                     maybe                        120\n",
      "                       no                           152\n",
      "                       yes                           35\n",
      "observed               maybe                         51\n",
      "                       no                            33\n",
      "                       yes                           36\n",
      "dtype: int64\n",
      "   obs_negative_response mental_health_consequence  percentage\n",
      "0            experienced                     maybe   41.333333\n",
      "1            experienced                        no   25.333333\n",
      "2            experienced                       yes   33.333333\n",
      "3                  maybe                     maybe   50.555556\n",
      "4                  maybe                        no   28.888889\n",
      "5                  maybe                       yes   20.555556\n",
      "6                     no                     maybe   39.087948\n",
      "7                     no                        no   49.511401\n",
      "8                     no                       yes   11.400651\n",
      "9               observed                     maybe   42.500000\n",
      "10              observed                        no   27.500000\n",
      "11              observed                       yes   30.000000\n",
      "obs_negative_response  mental_health_consequence\n",
      "experienced            maybe                         31\n",
      "                       no                            19\n",
      "                       yes                           25\n",
      "maybe                  maybe                         91\n",
      "                       no                            52\n",
      "                       yes                           37\n",
      "no                     maybe                        120\n",
      "                       no                           152\n",
      "                       yes                           35\n",
      "observed               maybe                         51\n",
      "                       no                            33\n",
      "                       yes                           36\n",
      "dtype: int64\n"
     ]
    },
    {
     "data": {
      "image/png": "[encoded data removed]",
      "text/plain": [
       "<matplotlib.figure.Figure at 0x113c41850>"
      ]
     },
     "metadata": {},
     "output_type": "display_data"
    }
   ],
   "source": [
    "picture('obs_negative_response')"
   ]
  },
  {
   "cell_type": "code",
   "execution_count": 48,
   "metadata": {
    "collapsed": false
   },
   "outputs": [
    {
     "name": "stdout",
     "output_type": "stream",
     "text": [
      "tech_company  mental_health_consequence\n",
      "0.0           maybe                        146\n",
      "              no                            82\n",
      "              yes                           81\n",
      "1.0           maybe                        461\n",
      "              no                           460\n",
      "              yes                          229\n",
      "dtype: int64\n",
      "   tech_company mental_health_consequence  percentage\n",
      "0           0.0                     maybe   47.249191\n",
      "1           0.0                        no   26.537217\n",
      "2           0.0                       yes   26.213592\n",
      "3           1.0                     maybe   40.086957\n",
      "4           1.0                        no   40.000000\n",
      "5           1.0                       yes   19.913043\n",
      "tech_company  mental_health_consequence\n",
      "0.0           maybe                        146\n",
      "              no                            82\n",
      "              yes                           81\n",
      "1.0           maybe                        461\n",
      "              no                           460\n",
      "              yes                          229\n",
      "dtype: int64\n"
     ]
    },
    {
     "data": {
      "image/png": "[encoded data removed]",
      "text/plain": [
       "<matplotlib.figure.Figure at 0x11365fbd0>"
      ]
     },
     "metadata": {},
     "output_type": "display_data"
    }
   ],
   "source": [
    "picture('tech_company')"
   ]
  },
  {
   "cell_type": "code",
   "execution_count": 46,
   "metadata": {
    "collapsed": false
   },
   "outputs": [
    {
     "name": "stdout",
     "output_type": "stream",
     "text": [
      "viewed_negatively  mental_health_consequence\n",
      "maybe              maybe                        156\n",
      "                   no                           100\n",
      "                   yes                           31\n",
      "no_dont            maybe                          2\n",
      "                   no                            25\n",
      "                   yes                            1\n",
      "no_wouldnt         maybe                         52\n",
      "                   no                           118\n",
      "                   yes                            8\n",
      "yes_do             maybe                          4\n",
      "                   no                             2\n",
      "                   yes                           12\n",
      "yes_would          maybe                         93\n",
      "                   no                            17\n",
      "                   yes                           87\n",
      "dtype: int64\n",
      "   viewed_negatively mental_health_consequence  percentage\n",
      "0              maybe                     maybe   54.355401\n",
      "1              maybe                        no   34.843206\n",
      "2              maybe                       yes   10.801394\n",
      "3            no_dont                     maybe    7.142857\n",
      "4            no_dont                        no   89.285714\n",
      "5            no_dont                       yes    3.571429\n",
      "6         no_wouldnt                     maybe   29.213483\n",
      "7         no_wouldnt                        no   66.292135\n",
      "8         no_wouldnt                       yes    4.494382\n",
      "9             yes_do                     maybe   22.222222\n",
      "10            yes_do                        no   11.111111\n",
      "11            yes_do                       yes   66.666667\n",
      "12         yes_would                     maybe   47.208122\n",
      "13         yes_would                        no    8.629442\n",
      "14         yes_would                       yes   44.162437\n",
      "viewed_negatively  mental_health_consequence\n",
      "maybe              maybe                        156\n",
      "                   no                           100\n",
      "                   yes                           31\n",
      "no_dont            maybe                          2\n",
      "                   no                            25\n",
      "                   yes                            1\n",
      "no_wouldnt         maybe                         52\n",
      "                   no                           118\n",
      "                   yes                            8\n",
      "yes_do             maybe                          4\n",
      "                   no                             2\n",
      "                   yes                           12\n",
      "yes_would          maybe                         93\n",
      "                   no                            17\n",
      "                   yes                           87\n",
      "dtype: int64\n"
     ]
    },
    {
     "data": {
      "image/png": "[encoded data removed]",
      "text/plain": [
       "<matplotlib.figure.Figure at 0x114a2bbd0>"
      ]
     },
     "metadata": {},
     "output_type": "display_data"
    }
   ],
   "source": [
    "picture('viewed_negatively')"
   ]
  },
  {
   "cell_type": "code",
   "execution_count": 47,
   "metadata": {
    "collapsed": false
   },
   "outputs": [
    {
     "name": "stdout",
     "output_type": "stream",
     "text": [
      "prev_employer  mental_health_consequence\n",
      "0.0            maybe                         37\n",
      "               no                            20\n",
      "               yes                           16\n",
      "1.0            maybe                        270\n",
      "               no                           242\n",
      "               yes                          123\n",
      "dtype: int64\n",
      "   prev_employer mental_health_consequence  percentage\n",
      "0            0.0                     maybe   50.684932\n",
      "1            0.0                        no   27.397260\n",
      "2            0.0                       yes   21.917808\n",
      "3            1.0                     maybe   42.519685\n",
      "4            1.0                        no   38.110236\n",
      "5            1.0                       yes   19.370079\n",
      "prev_employer  mental_health_consequence\n",
      "0.0            maybe                         37\n",
      "               no                            20\n",
      "               yes                           16\n",
      "1.0            maybe                        270\n",
      "               no                           242\n",
      "               yes                          123\n",
      "dtype: int64\n"
     ]
    },
    {
     "data": {
      "image/png": "[encoded data removed]",
      "text/plain": [
       "<matplotlib.figure.Figure at 0x113f821d0>"
      ]
     },
     "metadata": {},
     "output_type": "display_data"
    }
   ],
   "source": [
    "picture('prev_employer')"
   ]
  },
  {
   "cell_type": "code",
   "execution_count": null,
   "metadata": {
    "collapsed": true
   },
   "outputs": [],
   "source": []
  },
  {
   "cell_type": "code",
   "execution_count": null,
   "metadata": {
    "collapsed": true
   },
   "outputs": [],
   "source": []
  }
 ],
 "metadata": {
  "kernelspec": {
   "display_name": "Python 2",
   "language": "python",
   "name": "python2"
  },
  "language_info": {
   "codemirror_mode": {
    "name": "ipython",
    "version": 2
   },
   "file_extension": ".py",
   "mimetype": "text/x-python",
   "name": "python",
   "nbconvert_exporter": "python",
   "pygments_lexer": "ipython2",
   "version": "2.7.13"
  }
 },
 "nbformat": 4,
 "nbformat_minor": 0
}
